{
 "cells": [
  {
   "cell_type": "markdown",
   "metadata": {},
   "source": [
    "### Evolving Network Analysis - January 2018\n",
    "#### <i>Abdel K. Bokharouss, Joris Rombouts, Bart van Helvert, Remco Surtel</i>"
   ]
  },
  {
   "cell_type": "markdown",
   "metadata": {},
   "source": [
    "### <font color = \"green\">imports and preparation</font>"
   ]
  },
  {
   "cell_type": "code",
   "execution_count": 2,
   "metadata": {
    "collapsed": true
   },
   "outputs": [],
   "source": [
    "import pandas as pd\n",
    "import numpy as np\n",
    "import networkx as nx\n",
    "import datetime\n",
    "import tkinter\n",
    "import matplotlib.pyplot as plt\n",
    "import seaborn as sns\n",
    "sns.set(color_codes=True)"
   ]
  },
  {
   "cell_type": "code",
   "execution_count": 3,
   "metadata": {},
   "outputs": [
    {
     "data": {
      "text/plain": [
       "['1 6 1028243088 1120917090\\n',\n",
       " '1 8 1029885647 1136791625\\n',\n",
       " '1 9 1029885647 1136791625\\n',\n",
       " '1 3 1028243088 1143227562\\n',\n",
       " '1 3 1146727453 1148998304\\n',\n",
       " '1 5 1028243088 1184096745\\n',\n",
       " '1 2 1028243088 1184096745\\n',\n",
       " '1 3 1149598035 1184096745\\n',\n",
       " '1 4 1028243088 1184096745\\n',\n",
       " '1 7 1028243088 1184096745\\n']"
      ]
     },
     "execution_count": 3,
     "metadata": {},
     "output_type": "execute_result"
    }
   ],
   "source": [
    "with open(\"./data/tgraph_real_wikiedithyperlinks.txt\") as file:\n",
    "    peek = file.readlines()[:10]\n",
    "peek"
   ]
  },
  {
   "cell_type": "code",
   "execution_count": 4,
   "metadata": {
    "collapsed": true
   },
   "outputs": [],
   "source": [
    "temp_nw = pd.read_table(\"./data/tgraph_real_wikiedithyperlinks.txt\", header = None, sep = \" \",\n",
    "                       names = [\"src\", \"trg\", \"start\", \"end\"])"
   ]
  },
  {
   "cell_type": "code",
   "execution_count": 5,
   "metadata": {},
   "outputs": [
    {
     "data": {
      "text/html": [
       "<div>\n",
       "<style>\n",
       "    .dataframe thead tr:only-child th {\n",
       "        text-align: right;\n",
       "    }\n",
       "\n",
       "    .dataframe thead th {\n",
       "        text-align: left;\n",
       "    }\n",
       "\n",
       "    .dataframe tbody tr th {\n",
       "        vertical-align: top;\n",
       "    }\n",
       "</style>\n",
       "<table border=\"1\" class=\"dataframe\">\n",
       "  <thead>\n",
       "    <tr style=\"text-align: right;\">\n",
       "      <th></th>\n",
       "      <th>src</th>\n",
       "      <th>trg</th>\n",
       "      <th>start</th>\n",
       "      <th>end</th>\n",
       "    </tr>\n",
       "  </thead>\n",
       "  <tbody>\n",
       "    <tr>\n",
       "      <th>0</th>\n",
       "      <td>1</td>\n",
       "      <td>6</td>\n",
       "      <td>1028243088</td>\n",
       "      <td>1120917090</td>\n",
       "    </tr>\n",
       "    <tr>\n",
       "      <th>1</th>\n",
       "      <td>1</td>\n",
       "      <td>8</td>\n",
       "      <td>1029885647</td>\n",
       "      <td>1136791625</td>\n",
       "    </tr>\n",
       "    <tr>\n",
       "      <th>2</th>\n",
       "      <td>1</td>\n",
       "      <td>9</td>\n",
       "      <td>1029885647</td>\n",
       "      <td>1136791625</td>\n",
       "    </tr>\n",
       "    <tr>\n",
       "      <th>3</th>\n",
       "      <td>1</td>\n",
       "      <td>3</td>\n",
       "      <td>1028243088</td>\n",
       "      <td>1143227562</td>\n",
       "    </tr>\n",
       "    <tr>\n",
       "      <th>4</th>\n",
       "      <td>1</td>\n",
       "      <td>3</td>\n",
       "      <td>1146727453</td>\n",
       "      <td>1148998304</td>\n",
       "    </tr>\n",
       "  </tbody>\n",
       "</table>\n",
       "</div>"
      ],
      "text/plain": [
       "   src  trg       start         end\n",
       "0    1    6  1028243088  1120917090\n",
       "1    1    8  1029885647  1136791625\n",
       "2    1    9  1029885647  1136791625\n",
       "3    1    3  1028243088  1143227562\n",
       "4    1    3  1146727453  1148998304"
      ]
     },
     "execution_count": 5,
     "metadata": {},
     "output_type": "execute_result"
    }
   ],
   "source": [
    "temp_nw.head()"
   ]
  },
  {
   "cell_type": "code",
   "execution_count": 6,
   "metadata": {
    "collapsed": true,
    "scrolled": true
   },
   "outputs": [],
   "source": [
    "temp_nw['start'] = pd.to_datetime(temp_nw['start'], unit = 's') #convert Unix timestamps to date time, utc = 0\n",
    "temp_nw['end'] = pd.to_datetime(temp_nw['end'], unit = 's')"
   ]
  },
  {
   "cell_type": "code",
   "execution_count": 7,
   "metadata": {},
   "outputs": [
    {
     "data": {
      "text/html": [
       "<div>\n",
       "<style>\n",
       "    .dataframe thead tr:only-child th {\n",
       "        text-align: right;\n",
       "    }\n",
       "\n",
       "    .dataframe thead th {\n",
       "        text-align: left;\n",
       "    }\n",
       "\n",
       "    .dataframe tbody tr th {\n",
       "        vertical-align: top;\n",
       "    }\n",
       "</style>\n",
       "<table border=\"1\" class=\"dataframe\">\n",
       "  <thead>\n",
       "    <tr style=\"text-align: right;\">\n",
       "      <th></th>\n",
       "      <th>src</th>\n",
       "      <th>trg</th>\n",
       "      <th>start</th>\n",
       "      <th>end</th>\n",
       "    </tr>\n",
       "  </thead>\n",
       "  <tbody>\n",
       "    <tr>\n",
       "      <th>0</th>\n",
       "      <td>1</td>\n",
       "      <td>6</td>\n",
       "      <td>2002-08-01 23:04:48</td>\n",
       "      <td>2005-07-09 13:51:30</td>\n",
       "    </tr>\n",
       "    <tr>\n",
       "      <th>1</th>\n",
       "      <td>1</td>\n",
       "      <td>8</td>\n",
       "      <td>2002-08-20 23:20:47</td>\n",
       "      <td>2006-01-09 07:27:05</td>\n",
       "    </tr>\n",
       "    <tr>\n",
       "      <th>2</th>\n",
       "      <td>1</td>\n",
       "      <td>9</td>\n",
       "      <td>2002-08-20 23:20:47</td>\n",
       "      <td>2006-01-09 07:27:05</td>\n",
       "    </tr>\n",
       "    <tr>\n",
       "      <th>3</th>\n",
       "      <td>1</td>\n",
       "      <td>3</td>\n",
       "      <td>2002-08-01 23:04:48</td>\n",
       "      <td>2006-03-24 19:12:42</td>\n",
       "    </tr>\n",
       "    <tr>\n",
       "      <th>4</th>\n",
       "      <td>1</td>\n",
       "      <td>3</td>\n",
       "      <td>2006-05-04 07:24:13</td>\n",
       "      <td>2006-05-30 14:11:44</td>\n",
       "    </tr>\n",
       "    <tr>\n",
       "      <th>5</th>\n",
       "      <td>1</td>\n",
       "      <td>5</td>\n",
       "      <td>2002-08-01 23:04:48</td>\n",
       "      <td>2007-07-10 19:45:45</td>\n",
       "    </tr>\n",
       "    <tr>\n",
       "      <th>6</th>\n",
       "      <td>1</td>\n",
       "      <td>2</td>\n",
       "      <td>2002-08-01 23:04:48</td>\n",
       "      <td>2007-07-10 19:45:45</td>\n",
       "    </tr>\n",
       "    <tr>\n",
       "      <th>7</th>\n",
       "      <td>1</td>\n",
       "      <td>3</td>\n",
       "      <td>2006-06-06 12:47:15</td>\n",
       "      <td>2007-07-10 19:45:45</td>\n",
       "    </tr>\n",
       "    <tr>\n",
       "      <th>8</th>\n",
       "      <td>1</td>\n",
       "      <td>4</td>\n",
       "      <td>2002-08-01 23:04:48</td>\n",
       "      <td>2007-07-10 19:45:45</td>\n",
       "    </tr>\n",
       "    <tr>\n",
       "      <th>9</th>\n",
       "      <td>1</td>\n",
       "      <td>7</td>\n",
       "      <td>2002-08-01 23:04:48</td>\n",
       "      <td>2007-07-10 19:45:45</td>\n",
       "    </tr>\n",
       "  </tbody>\n",
       "</table>\n",
       "</div>"
      ],
      "text/plain": [
       "   src  trg               start                 end\n",
       "0    1    6 2002-08-01 23:04:48 2005-07-09 13:51:30\n",
       "1    1    8 2002-08-20 23:20:47 2006-01-09 07:27:05\n",
       "2    1    9 2002-08-20 23:20:47 2006-01-09 07:27:05\n",
       "3    1    3 2002-08-01 23:04:48 2006-03-24 19:12:42\n",
       "4    1    3 2006-05-04 07:24:13 2006-05-30 14:11:44\n",
       "5    1    5 2002-08-01 23:04:48 2007-07-10 19:45:45\n",
       "6    1    2 2002-08-01 23:04:48 2007-07-10 19:45:45\n",
       "7    1    3 2006-06-06 12:47:15 2007-07-10 19:45:45\n",
       "8    1    4 2002-08-01 23:04:48 2007-07-10 19:45:45\n",
       "9    1    7 2002-08-01 23:04:48 2007-07-10 19:45:45"
      ]
     },
     "execution_count": 7,
     "metadata": {},
     "output_type": "execute_result"
    }
   ],
   "source": [
    "temp_nw.head(10)"
   ]
  },
  {
   "cell_type": "code",
   "execution_count": 8,
   "metadata": {},
   "outputs": [
    {
     "name": "stdout",
     "output_type": "stream",
     "text": [
      "2002-08-02 01:04:48\n"
     ]
    }
   ],
   "source": [
    "print(\n",
    "    datetime.datetime.fromtimestamp(\n",
    "        int(\"1028243088\")\n",
    "    ).strftime('%Y-%m-%d %H:%M:%S')\n",
    ")"
   ]
  },
  {
   "cell_type": "code",
   "execution_count": 9,
   "metadata": {},
   "outputs": [
    {
     "data": {
      "text/html": [
       "<div>\n",
       "<style>\n",
       "    .dataframe thead tr:only-child th {\n",
       "        text-align: right;\n",
       "    }\n",
       "\n",
       "    .dataframe thead th {\n",
       "        text-align: left;\n",
       "    }\n",
       "\n",
       "    .dataframe tbody tr th {\n",
       "        vertical-align: top;\n",
       "    }\n",
       "</style>\n",
       "<table border=\"1\" class=\"dataframe\">\n",
       "  <thead>\n",
       "    <tr style=\"text-align: right;\">\n",
       "      <th></th>\n",
       "      <th>src</th>\n",
       "      <th>trg</th>\n",
       "    </tr>\n",
       "  </thead>\n",
       "  <tbody>\n",
       "    <tr>\n",
       "      <th>0</th>\n",
       "      <td>1</td>\n",
       "      <td>6</td>\n",
       "    </tr>\n",
       "    <tr>\n",
       "      <th>1</th>\n",
       "      <td>1</td>\n",
       "      <td>8</td>\n",
       "    </tr>\n",
       "    <tr>\n",
       "      <th>2</th>\n",
       "      <td>1</td>\n",
       "      <td>9</td>\n",
       "    </tr>\n",
       "    <tr>\n",
       "      <th>3</th>\n",
       "      <td>1</td>\n",
       "      <td>3</td>\n",
       "    </tr>\n",
       "    <tr>\n",
       "      <th>4</th>\n",
       "      <td>1</td>\n",
       "      <td>3</td>\n",
       "    </tr>\n",
       "  </tbody>\n",
       "</table>\n",
       "</div>"
      ],
      "text/plain": [
       "   src  trg\n",
       "0    1    6\n",
       "1    1    8\n",
       "2    1    9\n",
       "3    1    3\n",
       "4    1    3"
      ]
     },
     "execution_count": 9,
     "metadata": {},
     "output_type": "execute_result"
    }
   ],
   "source": [
    "static_nw = temp_nw.copy()\n",
    "static_nw.drop(['start', 'end'], axis = 1, inplace = True)\n",
    "static_nw.head()"
   ]
  },
  {
   "cell_type": "code",
   "execution_count": 10,
   "metadata": {},
   "outputs": [
    {
     "data": {
      "text/plain": [
       "src    20037\n",
       "trg    20037\n",
       "dtype: int64"
      ]
     },
     "execution_count": 10,
     "metadata": {},
     "output_type": "execute_result"
    }
   ],
   "source": [
    "static_nw.loc[static_nw['src'] == static_nw['trg']].count()#number of self loops"
   ]
  },
  {
   "cell_type": "markdown",
   "metadata": {},
   "source": [
    "## Static Network Analysis\n",
    "\n",
    "In this analysis we ignore the time information of each edge. Therefore, we first create a graph $G_{static}$, based only on the pairs of source node and target node. In this paragraph we treat two measures: clustering coefficient and the largest connected component (LCC) which are measures that are very closely related to each other. When analyzing connectedness and clustering ask ourselves how integrated or fractured the overall network is. We look at how these  major subsystems are distributed out and their local characteristics. A graph is connected if for any node in the graph there is a path to any other node. When a graph is not connected, there will be a number of components to it. A component is a subset of nodes and edges within a that are fully connected. First, we will look at the clusters of this particular network. \n",
    "\n",
    "### Clustering coefficient\n",
    "A cluster is simply a subset of nodes and edges in a graph that posses a certain common characteristics or relate to each other in a particular manner.  So a component is simply referring to whether a given set of nodes are all connected or not. A cluster is referring to how they are connected and how much they are connected. This value is measured as the clustering coefficient of a node. We take a node and look at how connected a node that it links to is to other nodes that it also connceted to. For example, in a social network, we ask how many of your friends know your other friends. The more your friends are interconnected, the more clustered the subset is to be. \n",
    "\n",
    "The clustering coefficient captures the ratio of existing links connecting a nodes neighbors to each other relative to the maximum possible number of links that could exist between them. \n",
    "\n",
    "The clustering coefficient is trying to capture cliquishness. In other words, the clustering coefficient of a node in a graph quentifies how close its neighbours are to be being a clique. Let $G = (V,E)$ a graph. A clique is a subset of nodes of a graph such that every two distinct nodes in the clique are adjacent. More formal: a clique is a subset $C \\subseteq V$ such that $(u,v)$ in $E$ for all pairs $u,v$ in $C$.  In fact, a clique is a complete sub-graph, which means that in a clique, each node has a direct link with each other node.\n",
    "\n",
    "The clustering coefficient represents the fraction of possible interconnectors between the neighbors of a node $u$. The clustering coefficient is a value between zero and one. The coefficient equals zero, if $u$ is the centere of a \"star\", where his neighbors are not connected to eachother. When the clustering coefficient is one, we have a clique. This means that $u$ is connected to its neighbors, and all its neighbors are connected to each other. \n",
    "\n",
    "Let's have a directed graph $G=(V,E)$, with $V$ nodes and $E$ edges. The neighboorhood $N_i$ for a node $u_i$ is defined as its immediately connected neighbors as follows: \n",
    "$$N_i = {u_j : e_{ij} \\in E \\vee e_{ji} \\in E}$$\n",
    "Let $k_i$ be the number of neighbors of node $u$. For a directed graph, $e_{ij}$ is distinct from $e_{ji}$, and therefore for each neighborhood $N_i$ there are $k_i \\cdot k_i -1$ links that could exist among the nodes within the neighborhood. Thus, the clustering coefficient $C_i$ of a node $u_i$ in a unweighted directed graph $G=(V,E)$ is given as:\n",
    "\n",
    "$$C_i = \\frac{| \\{  e_{jk} : u_j, u_k \\in N_i, e_{jk}\\in E \\} |}{k_i (k_i - 1)}$$\n",
    "\n",
    "Before we start analyzing the clustering coefficients of $G_{static}$, we have to create some functions to actually calculate these cluster coefficients. The standard builtin `clustering` algorithm of <i>NetworkX</i> is not implemented for directed graphs. Thanks to the fact that <i>NetworkX</i> is open-source, we can have a look at the underlying source code of the algorithms. With this knowledge, we can create a new function by ourselves to create a function `clustering_directed` returns a dictionary, for each node the corresponding clustering coefficient."
   ]
  },
  {
   "cell_type": "code",
   "execution_count": 48,
   "metadata": {
    "collapsed": true
   },
   "outputs": [],
   "source": [
    "def clustering_directed(G):\n",
    "    td_iter = nx.cluster._triangles_and_degree_iter(G)\n",
    "    clusterc = {v: 0 if t == 0 else (t) / (d * (d - 1)) for\n",
    "                        v, d, t, _ in td_iter}\n",
    "    return clusterc"
   ]
  },
  {
   "cell_type": "markdown",
   "metadata": {},
   "source": [
    "To compute the clustering coefficient of the entire graph, we define a new function `average_clustering_directed`. Note that the clustering coefficient of a graph is just the average of the clustering coefficient of all nodes."
   ]
  },
  {
   "cell_type": "code",
   "execution_count": 49,
   "metadata": {
    "collapsed": true
   },
   "outputs": [],
   "source": [
    "def average_clustering_directed(G):\n",
    "    c = clustering_directed(G).values()\n",
    "    return sum(c) / len(c)"
   ]
  },
  {
   "cell_type": "code",
   "execution_count": 11,
   "metadata": {
    "collapsed": true
   },
   "outputs": [],
   "source": [
    "#np.savetxt(r'./data/tgraph_real_wikiedithyperlinks_NoTime.txt', static_nw.values, fmt='%d')"
   ]
  },
  {
   "cell_type": "markdown",
   "metadata": {},
   "source": [
    "Now we can start analyzing the directed graph. We first load the graph into a variable $G_{static-directed}$."
   ]
  },
  {
   "cell_type": "code",
   "execution_count": 50,
   "metadata": {
    "collapsed": true
   },
   "outputs": [],
   "source": [
    "fh = open(\"data/tgraph_real_wikiedithyperlinks_NoTime.txt\", 'rb')\n",
    "G_static_directed = nx.read_edgelist(fh,create_using=nx.DiGraph())\n",
    "fh.close()"
   ]
  },
  {
   "cell_type": "markdown",
   "metadata": {},
   "source": [
    "The function `cluster_directed` created above is used for calculating the cluster coefficient for each node. After that we store the results of each node in a dataframe. The dataframe is exported as a csv file, to prevent that we have to run this time-consuming process again.  "
   ]
  },
  {
   "cell_type": "code",
   "execution_count": 14,
   "metadata": {
    "collapsed": true
   },
   "outputs": [],
   "source": [
    "#cluster_score_directed = clustering_directed(G_static_directed)"
   ]
  },
  {
   "cell_type": "code",
   "execution_count": 52,
   "metadata": {
    "collapsed": true,
    "scrolled": true
   },
   "outputs": [],
   "source": [
    "#df_cluster_score_directed = pd.DataFrame(list(cluster_score_directed.items()), columns=['Node', 'Cluster Coefficient'])\n",
    "df_cluster_score_directed = pd.read_csv('data/cluster_score_directed.csv')\n",
    "df_cluster_score_directed.drop(['Unnamed: 0'], axis = 1, inplace = True)"
   ]
  },
  {
   "cell_type": "code",
   "execution_count": 53,
   "metadata": {},
   "outputs": [
    {
     "data": {
      "text/html": [
       "<div>\n",
       "<style>\n",
       "    .dataframe thead tr:only-child th {\n",
       "        text-align: right;\n",
       "    }\n",
       "\n",
       "    .dataframe thead th {\n",
       "        text-align: left;\n",
       "    }\n",
       "\n",
       "    .dataframe tbody tr th {\n",
       "        vertical-align: top;\n",
       "    }\n",
       "</style>\n",
       "<table border=\"1\" class=\"dataframe\">\n",
       "  <thead>\n",
       "    <tr style=\"text-align: right;\">\n",
       "      <th></th>\n",
       "      <th>Node</th>\n",
       "      <th>Cluster Coefficient</th>\n",
       "    </tr>\n",
       "  </thead>\n",
       "  <tbody>\n",
       "    <tr>\n",
       "      <th>0</th>\n",
       "      <td>1</td>\n",
       "      <td>0.061912</td>\n",
       "    </tr>\n",
       "    <tr>\n",
       "      <th>1</th>\n",
       "      <td>6</td>\n",
       "      <td>0.000000</td>\n",
       "    </tr>\n",
       "    <tr>\n",
       "      <th>2</th>\n",
       "      <td>8</td>\n",
       "      <td>0.066667</td>\n",
       "    </tr>\n",
       "    <tr>\n",
       "      <th>3</th>\n",
       "      <td>9</td>\n",
       "      <td>0.027236</td>\n",
       "    </tr>\n",
       "    <tr>\n",
       "      <th>4</th>\n",
       "      <td>3</td>\n",
       "      <td>0.010648</td>\n",
       "    </tr>\n",
       "  </tbody>\n",
       "</table>\n",
       "</div>"
      ],
      "text/plain": [
       "   Node  Cluster Coefficient\n",
       "0     1             0.061912\n",
       "1     6             0.000000\n",
       "2     8             0.066667\n",
       "3     9             0.027236\n",
       "4     3             0.010648"
      ]
     },
     "execution_count": 53,
     "metadata": {},
     "output_type": "execute_result"
    }
   ],
   "source": [
    "df_cluster_score_directed.head()"
   ]
  },
  {
   "cell_type": "code",
   "execution_count": 54,
   "metadata": {},
   "outputs": [
    {
     "data": {
      "text/html": [
       "<div>\n",
       "<style>\n",
       "    .dataframe thead tr:only-child th {\n",
       "        text-align: right;\n",
       "    }\n",
       "\n",
       "    .dataframe thead th {\n",
       "        text-align: left;\n",
       "    }\n",
       "\n",
       "    .dataframe tbody tr th {\n",
       "        vertical-align: top;\n",
       "    }\n",
       "</style>\n",
       "<table border=\"1\" class=\"dataframe\">\n",
       "  <thead>\n",
       "    <tr style=\"text-align: right;\">\n",
       "      <th></th>\n",
       "      <th>Node</th>\n",
       "      <th>Cluster Coefficient</th>\n",
       "    </tr>\n",
       "  </thead>\n",
       "  <tbody>\n",
       "    <tr>\n",
       "      <th>561520</th>\n",
       "      <td>760569</td>\n",
       "      <td>1.0</td>\n",
       "    </tr>\n",
       "    <tr>\n",
       "      <th>427413</th>\n",
       "      <td>434858</td>\n",
       "      <td>1.0</td>\n",
       "    </tr>\n",
       "    <tr>\n",
       "      <th>540805</th>\n",
       "      <td>714919</td>\n",
       "      <td>1.0</td>\n",
       "    </tr>\n",
       "    <tr>\n",
       "      <th>598652</th>\n",
       "      <td>571758</td>\n",
       "      <td>1.0</td>\n",
       "    </tr>\n",
       "    <tr>\n",
       "      <th>460988</th>\n",
       "      <td>448681</td>\n",
       "      <td>1.0</td>\n",
       "    </tr>\n",
       "  </tbody>\n",
       "</table>\n",
       "</div>"
      ],
      "text/plain": [
       "          Node  Cluster Coefficient\n",
       "561520  760569                  1.0\n",
       "427413  434858                  1.0\n",
       "540805  714919                  1.0\n",
       "598652  571758                  1.0\n",
       "460988  448681                  1.0"
      ]
     },
     "execution_count": 54,
     "metadata": {},
     "output_type": "execute_result"
    }
   ],
   "source": [
    "df_cluster_score_directed.sort_values(by=['Cluster Coefficient'], inplace = True, ascending = False)\n",
    "df_cluster_score_directed.head()"
   ]
  },
  {
   "cell_type": "markdown",
   "metadata": {},
   "source": [
    "The most interesting values of the clustering coefficient are $0$ and $1$, i.e. the nodes that have neighbor nodes who are entirely not connected to each other and nodes that have neighbor nodes who are entirely connected. First, we count the nodes who have a cluster coefficient of $1$."
   ]
  },
  {
   "cell_type": "code",
   "execution_count": 55,
   "metadata": {},
   "outputs": [
    {
     "data": {
      "text/plain": [
       "Node                   1873\n",
       "Cluster Coefficient    1873\n",
       "dtype: int64"
      ]
     },
     "execution_count": 55,
     "metadata": {},
     "output_type": "execute_result"
    }
   ],
   "source": [
    "df_cluster_score_directed.loc[df_cluster_score_directed['Cluster Coefficient'] == 1.0].count()#number of nodes with coefficient of 1, i.e. that are a clique"
   ]
  },
  {
   "cell_type": "markdown",
   "metadata": {},
   "source": [
    "We see that $\\frac{1837}{678907} \\cdot 100 \\text{%} = 0.27$% of the nodes have a cluster coefficient of $1$. So only $0.27$% of the nodes have adjacent nodes that have link between themzelves, in other words, are a clique. In terms of a (social) network this means that these are group of articles all of whom have a link to each other. This is a very low fraction, so we can imagine that in such a large network there are many group of articles all of whom have no link to each other. In the following cell we calculate this number of articles by counting the rows with a value of $0$ for `Cluster Coefficient`."
   ]
  },
  {
   "cell_type": "code",
   "execution_count": 56,
   "metadata": {},
   "outputs": [
    {
     "data": {
      "text/plain": [
       "Node                   518053\n",
       "Cluster Coefficient    518053\n",
       "dtype: int64"
      ]
     },
     "execution_count": 56,
     "metadata": {},
     "output_type": "execute_result"
    }
   ],
   "source": [
    "df_cluster_score_directed.loc[df_cluster_score_directed['Cluster Coefficient'] == 0.0].count()#number of nodes with coefficient of 0, i.e. nodes that are connected to no other (neighbor) nodes"
   ]
  },
  {
   "cell_type": "markdown",
   "metadata": {},
   "source": [
    "As one can see, $\\frac{518053}{678907} \\cdot 100 \\text{%} = 76$% of the nodes  have no links between the neighbor nodes themselves. This means that more than three quarter of the nodes have neighbor nodes who have no link between them. So these nodes can be considered as the centre of a \"star\". This means that articles that are linked to the wiki page are in most of the time articles that give some additional information to the wiki page, information that was not on other articles already linked to the wiki page. It makes sense that this is a very high percentage of the node, since we are considering a directed graph. To make the numbers more visual, we plot a histogram of the frequency of the cluster coefficients of the entire graph $G_{static-directed}$."
   ]
  },
  {
   "cell_type": "code",
   "execution_count": 57,
   "metadata": {},
   "outputs": [
    {
     "data": {
      "image/png": "[encoded data removed]",
      "text/plain": [
       "<matplotlib.figure.Figure at 0x1ef7d79d048>"
      ]
     },
     "metadata": {},
     "output_type": "display_data"
    }
   ],
   "source": [
    "df_cluster_score_directed.hist(column='Cluster Coefficient', bins = 20);\n",
    "plt.show()"
   ]
  },
  {
   "cell_type": "markdown",
   "metadata": {},
   "source": [
    "The histogram confirms our statements above. More than three quarter of the nodes in the graph have a cluster coefficient of zero. \n",
    "\n",
    "We defined the clustering coefficient of a node in a graph as the proportion of that nodes neighbors that are connected. However, we are also interested in the distribution of the clustering coefficient over the nodes in the network. A network could have for instance some very clustered parts and some less clustered parts, while another network could have many nodes with a similar, average clustering coefficient. So, we want to consider the distribution of clustering coefficient. Below, this distribution is plotted as a cumulated plot. "
   ]
  },
  {
   "cell_type": "code",
   "execution_count": 58,
   "metadata": {},
   "outputs": [
    {
     "data": {
      "image/png": "[encoded data removed]",
      "text/plain": [
       "<matplotlib.figure.Figure at 0x1ef7d71beb8>"
      ]
     },
     "metadata": {},
     "output_type": "display_data"
    }
   ],
   "source": [
    "x = np.sort(df_cluster_score_directed['Cluster Coefficient'])\n",
    "y = np.arange(1, len(x) + 1 )/ len(x)\n",
    "_ = plt.plot(x,y, marker=\".\", linestyle = 'none')\n",
    "_ = plt.xlabel('Clustering Coefficient (cc) directed')\n",
    "_ = plt.ylabel('P(x <= cc)')\n",
    "plt.margins(0.02) #keeps data off plot edges (i.e. 2% buffer all around the plot)\n",
    "plt.show()"
   ]
  },
  {
   "cell_type": "markdown",
   "metadata": {},
   "source": [
    "The y-value is the fraction of data points that have a value smaller than the corresponding x-value. For example, 78% of the nodes have a cluster coefficient of 0.1 (or less). Similarly, around 90% of the nodes have a cluster coefficient of 0.2 (or less). We see that slope of the plot decreases over time, which means that there are a lot of nodes with a very small cluster coefficient, compared to nodes with a high cluster coefficient. This is also what we concluded from the histogram above and the ECDF plot confirms this."
   ]
  },
  {
   "cell_type": "markdown",
   "metadata": {},
   "source": [
    "For readability, we can exclude the nodes with a cluster coefficient of zero, to get a better look of the other nodes in the graph."
   ]
  },
  {
   "cell_type": "code",
   "execution_count": 64,
   "metadata": {},
   "outputs": [
    {
     "data": {
      "image/png": "[encoded data removed]",
      "text/plain": [
       "<matplotlib.figure.Figure at 0x1ef7f273668>"
      ]
     },
     "metadata": {},
     "output_type": "display_data"
    }
   ],
   "source": [
    "df_cluster_score_directed_large = df_cluster_score_directed.loc[df_cluster_score_directed['Cluster Coefficient'] != 0.0]\n",
    "df_cluster_score_directed_large.hist(column='Cluster Coefficient', bins = 20);\n",
    "plt.show()"
   ]
  },
  {
   "cell_type": "code",
   "execution_count": 65,
   "metadata": {},
   "outputs": [
    {
     "data": {
      "image/png": "[encoded data removed]",
      "text/plain": [
       "<matplotlib.figure.Figure at 0x1ef7f2139b0>"
      ]
     },
     "metadata": {},
     "output_type": "display_data"
    }
   ],
   "source": [
    "x = np.sort(df_cluster_score_directed_large['Cluster Coefficient'])\n",
    "y = np.arange(1, len(x) + 1 )/ len(x)\n",
    "_ = plt.plot(x,y, marker=\".\", linestyle = 'none')\n",
    "_ = plt.xlabel('Clustering Coefficient (cc) directed')\n",
    "_ = plt.ylabel('P(x <= cc)')\n",
    "plt.margins(0.02) #keeps data off plot edges (i.e. 2% buffer all around the plot)\n",
    "plt.show()"
   ]
  },
  {
   "cell_type": "markdown",
   "metadata": {},
   "source": [
    "The ECDF shows us that, for example, around 50% of all the non-zero cluster coefficient nodes have a cluster coefficient of 0.1 (or less). We see that more around 90% of the non-zero cluster coefficient nodes have a cluster coefficient of 0.5 or less. This is also what we concluded from the histogram above and the ECDF plot confirms this. This means that the clusters in the graph are not highly connected. When we take this into perspective of the wiki-page, there are a lot of articles where the neighbors are not highly connected. This means that these website don't link to each other, so there might be new information on it, because otherwise it is not added to the wiki page. "
   ]
  },
  {
   "cell_type": "markdown",
   "metadata": {},
   "source": [
    "Back to the original $G_{static-directed}$ graph, including all the nodes. Another interesting statistic about the graph is the clustering coefficient of the entire graph, instead of each node. Recall that the clustering coefficient of a graph is just the average of the clustering coefficient of all nodes. We use this statistic in future analysis for comparison. "
   ]
  },
  {
   "cell_type": "code",
   "execution_count": 69,
   "metadata": {
    "collapsed": true
   },
   "outputs": [],
   "source": [
    "avg_cluster_score_directed = average_clustering_directed(G_static_directed)"
   ]
  },
  {
   "cell_type": "code",
   "execution_count": 70,
   "metadata": {},
   "outputs": [
    {
     "data": {
      "text/plain": [
       "0.03677470061413527"
      ]
     },
     "execution_count": 70,
     "metadata": {},
     "output_type": "execute_result"
    }
   ],
   "source": [
    "avg_cluster_score_directed"
   ]
  },
  {
   "cell_type": "markdown",
   "metadata": {},
   "source": [
    "Average cluster coefficient score complete graph: $0.037$. We save this value in a variable so that we don't have to run this time consuming cell again."
   ]
  },
  {
   "cell_type": "markdown",
   "metadata": {},
   "source": [
    "### Largest connected component (LCC)\n",
    "\n",
    "The number of components says something about how a network is fractioned. Before we check for the largest connected component, we first check how many connected components there are in this network. "
   ]
  },
  {
   "cell_type": "code",
   "execution_count": 23,
   "metadata": {},
   "outputs": [
    {
     "data": {
      "text/plain": [
       "6324"
      ]
     },
     "execution_count": 23,
     "metadata": {},
     "output_type": "execute_result"
    }
   ],
   "source": [
    "number_of_connected_components = nx.number_connected_components(G_static)\n",
    "number_of_connected_components"
   ]
  },
  {
   "cell_type": "markdown",
   "metadata": {},
   "source": [
    "The network contains $6324$ connected components, which is quite a lot. One can image that the network looks like a fractioned network because of this. To conclude this, we will calculate how many of these connected components consist of only one single edge (two nodes) and the difference between the smallest connected component of length greater than one and the largest connected component. We run `connected_component_subgraphs()` algorithm of the <i>NetworkX library</i>. This algorithm generates a set of nodes, one for each component in the graph. Finding all the connected component for an undirected is easy, because we can simply run the wel known  `breadth first search` algorithm starting from every unvisited node to get all connected components. This is exactly what the `connected_component_subgraphs()` of <i>NetworkX</i> does. All the $6324$ connected components are written to a <i>.edgelist</i>, so that we only have to run this, very time consuming algorithm, once. "
   ]
  },
  {
   "cell_type": "code",
   "execution_count": 24,
   "metadata": {
    "collapsed": true
   },
   "outputs": [],
   "source": [
    "#list_connected_components = list(nx.connected_component_subgraphs(G_static))"
   ]
  },
  {
   "cell_type": "code",
   "execution_count": 25,
   "metadata": {
    "collapsed": true
   },
   "outputs": [],
   "source": [
    "#for i in range(0, len(list_connected_components)):\n",
    "#    list_component = list_connected_components[i]\n",
    "#    nx.write_edgelist(list_component, \"subgraphs/list_connected_components\"+str(i)+\".edgelist\", data=False)"
   ]
  },
  {
   "cell_type": "markdown",
   "metadata": {},
   "source": [
    "To count how many of these connected components are of size one, two, etc. we open each graph file which we just created and check the length of the graph compared to some integer. The function below is executed for <i>length</i> <u>strictly larger </u> than $0,...,19$. The results are summarized in a table below."
   ]
  },
  {
   "cell_type": "code",
   "execution_count": 26,
   "metadata": {
    "collapsed": true
   },
   "outputs": [],
   "source": [
    "def check_size_components(length):\n",
    "    count = 0\n",
    "    for i in range(0, number_of_connected_components):\n",
    "        fh = open(\"subgraphs/list_connected_components\"+str(i)+\".edgelist\", 'rb')\n",
    "        G_component = nx.read_edgelist(fh,create_using=nx.Graph())\n",
    "        fh.close()\n",
    "        if len(G_component) > length:\n",
    "            count +=1\n",
    "            #print(\"subgraphs/list_connected_components\"+str(i)+\".edgelist\")\n",
    "    return count"
   ]
  },
  {
   "cell_type": "code",
   "execution_count": 27,
   "metadata": {},
   "outputs": [
    {
     "data": {
      "text/plain": [
       "1"
      ]
     },
     "execution_count": 27,
     "metadata": {},
     "output_type": "execute_result"
    }
   ],
   "source": [
    "length = 100 #execute this cell for length = 0,...,19\n",
    "check_size_components(length)"
   ]
  },
  {
   "cell_type": "markdown",
   "metadata": {},
   "source": [
    "| Connected component size, strictly larger than: | number of components   |\n",
    "|------|------|\n",
    "|   0  | 6324|\n",
    "|1|4937|\n",
    "|2|855|\n",
    "|3|267|\n",
    "|4|112|\n",
    "|5|56|\n",
    "|6|33|\n",
    "|7|20|\n",
    "|8|15|\n",
    "|9|12|\n",
    "|10|8|\n",
    "|...|...|\n",
    "|19|3|"
   ]
  },
  {
   "cell_type": "markdown",
   "metadata": {},
   "source": [
    "We see that there are $6324 - 4937 = 1387$ components consisting of only one edge (i.e. two nodes) . Also, there is a large decrease in number of compoonents between the second and third entry. There are $4937-855 = 4082$ components consisting of only two edges. Almost two third of the total components have just two edges, so we can conclude that there are a lot of small components in this network. We see that there are only 3 components that have more than 19 edges in the component. These are the dominating components of the graph. To get the largest connected component, we can call the `max`-operator on `list_connected_component`, but because this is a very time consuming algorithm on such a large network with so many edges, we call `check_size_components`, parameterized with length=100. "
   ]
  },
  {
   "cell_type": "code",
   "execution_count": 28,
   "metadata": {},
   "outputs": [
    {
     "data": {
      "text/plain": [
       "1"
      ]
     },
     "execution_count": 28,
     "metadata": {},
     "output_type": "execute_result"
    }
   ],
   "source": [
    "length = 100 #execute this cell for length = 0,...,19\n",
    "check_size_components(length)"
   ]
  },
  {
   "cell_type": "markdown",
   "metadata": {},
   "source": [
    "So there is only one connected component with more than 100 number of edges in it. This connected component is the largest connected component of $G_{static}$. To get more information about this largest connected component, we load <i>list_connected_components0.edgelist</i> into a variable <i>largest_cc</i>."
   ]
  },
  {
   "cell_type": "code",
   "execution_count": 29,
   "metadata": {
    "collapsed": true
   },
   "outputs": [],
   "source": [
    "fh = open(\"subgraphs/list_connected_components0.edgelist\", 'rb')\n",
    "largest_cc = nx.read_edgelist(fh,create_using=nx.Graph())\n",
    "fh.close()"
   ]
  },
  {
   "cell_type": "code",
   "execution_count": 30,
   "metadata": {},
   "outputs": [
    {
     "data": {
      "text/plain": [
       "666195"
      ]
     },
     "execution_count": 30,
     "metadata": {},
     "output_type": "execute_result"
    }
   ],
   "source": [
    "len(largest_cc)"
   ]
  },
  {
   "cell_type": "markdown",
   "metadata": {},
   "source": [
    "We see that the largest connected component consist of $666195$ edges, so this is very large compared to the second, third, etc. connected components. Because the graph is loaded as an undirected graph, it makes sense that there is a large connected component. Almost every page linked to the wiki page, also has an incoming or outcoming edge inside the domain (wiki-page in this case). Because the largest connected component is of such large size, it might be interesting to plot the other top five largest connected components of $G_static$ to take a quick look at their structure. The remaining top-5 of largest connected components (besides the largest connected component itself) are the following files, sorted from largest to smallest:\n",
    "* <i>list_connected_components3587.edgelist</i>\n",
    "* <i>list_connected_components3001.edgelist</i>\n",
    "* <i>list_connected_components2684.edgelist</i>\n",
    "* <i>list_connected_components253.edgelist</i>\n",
    "\n",
    "We will plot each of these connected components to find something interesting.\n",
    "\n",
    "#### Second largest component"
   ]
  },
  {
   "cell_type": "code",
   "execution_count": 31,
   "metadata": {
    "collapsed": true
   },
   "outputs": [],
   "source": [
    "fh = open(\"subgraphs/list_connected_components3587.edgelist\", 'rb')\n",
    "second_largest_cc = nx.read_edgelist(fh,create_using=nx.Graph())\n",
    "fh.close()"
   ]
  },
  {
   "cell_type": "code",
   "execution_count": 32,
   "metadata": {},
   "outputs": [
    {
     "data": {
      "image/png": "[encoded data removed]",
      "text/plain": [
       "<matplotlib.figure.Figure at 0x1eeeb7b3940>"
      ]
     },
     "metadata": {},
     "output_type": "display_data"
    }
   ],
   "source": [
    "nx.draw(second_largest_cc);\n",
    "plt.show()"
   ]
  },
  {
   "cell_type": "markdown",
   "metadata": {},
   "source": [
    "#### Third largest component"
   ]
  },
  {
   "cell_type": "code",
   "execution_count": 33,
   "metadata": {},
   "outputs": [
    {
     "data": {
      "image/png": "[encoded data removed]",
      "text/plain": [
       "<matplotlib.figure.Figure at 0x1ef0529e0b8>"
      ]
     },
     "metadata": {},
     "output_type": "display_data"
    }
   ],
   "source": [
    "fh = open(\"subgraphs/list_connected_components3001.edgelist\", 'rb')\n",
    "third_largest_cc = nx.read_edgelist(fh,create_using=nx.Graph())\n",
    "fh.close()\n",
    "nx.draw(third_largest_cc);\n",
    "plt.show()"
   ]
  },
  {
   "cell_type": "markdown",
   "metadata": {},
   "source": [
    "#### Fourth largest component"
   ]
  },
  {
   "cell_type": "code",
   "execution_count": 34,
   "metadata": {},
   "outputs": [
    {
     "data": {
      "image/png": "[encoded data removed]",
      "text/plain": [
       "<matplotlib.figure.Figure at 0x1ee93b4a908>"
      ]
     },
     "metadata": {},
     "output_type": "display_data"
    }
   ],
   "source": [
    "fh = open(\"subgraphs/list_connected_components2684.edgelist\", 'rb')\n",
    "fourth_largest_cc = nx.read_edgelist(fh,create_using=nx.Graph())\n",
    "fh.close()\n",
    "nx.draw(fourth_largest_cc);\n",
    "plt.show()"
   ]
  },
  {
   "cell_type": "markdown",
   "metadata": {},
   "source": [
    "#### Fifth largest component"
   ]
  },
  {
   "cell_type": "code",
   "execution_count": 35,
   "metadata": {
    "scrolled": true
   },
   "outputs": [
    {
     "data": {
      "image/png": "[encoded data removed]",
      "text/plain": [
       "<matplotlib.figure.Figure at 0x1ee93b4ac18>"
      ]
     },
     "metadata": {},
     "output_type": "display_data"
    }
   ],
   "source": [
    "fh = open(\"subgraphs/list_connected_components253.edgelist\", 'rb')\n",
    "fifth_largest_cc = nx.read_edgelist(fh,create_using=nx.Graph())\n",
    "fh.close()\n",
    "nx.draw(fifth_largest_cc);\n",
    "plt.show()"
   ]
  },
  {
   "cell_type": "markdown",
   "metadata": {},
   "source": [
    "We see that the remaining top four largest connected component have one thing in common. Three of the top four largest connected components are a star. We have seen in the previous paragraph that the centre node of the star have a clustering coefficient of 0, because the adjacent nodes of the centre node have no links betweem themselves. We see that the clustering coefficient and largest connected component(s) are indeed related. To check are assumptions, we run the clustering coefficient algorithm of <i>NetworkX</i> on the top five connected components. "
   ]
  },
  {
   "cell_type": "code",
   "execution_count": 36,
   "metadata": {
    "collapsed": true
   },
   "outputs": [],
   "source": [
    "#cluster_score_largest = nx.average_clustering(largest_cc)\n",
    "#cluster_score_largest"
   ]
  },
  {
   "cell_type": "code",
   "execution_count": 37,
   "metadata": {
    "scrolled": true
   },
   "outputs": [
    {
     "data": {
      "text/plain": [
       "0.0"
      ]
     },
     "execution_count": 37,
     "metadata": {},
     "output_type": "execute_result"
    }
   ],
   "source": [
    "cluster_score_second = nx.average_clustering(second_largest_cc)\n",
    "cluster_score_second"
   ]
  },
  {
   "cell_type": "code",
   "execution_count": 38,
   "metadata": {},
   "outputs": [
    {
     "data": {
      "text/plain": [
       "0.9333333333333335"
      ]
     },
     "execution_count": 38,
     "metadata": {},
     "output_type": "execute_result"
    }
   ],
   "source": [
    "cluster_score_third = nx.average_clustering(third_largest_cc)\n",
    "cluster_score_third"
   ]
  },
  {
   "cell_type": "code",
   "execution_count": 39,
   "metadata": {},
   "outputs": [
    {
     "data": {
      "text/plain": [
       "0.0"
      ]
     },
     "execution_count": 39,
     "metadata": {},
     "output_type": "execute_result"
    }
   ],
   "source": [
    "cluster_score_fourth = nx.average_clustering(fourth_largest_cc)\n",
    "cluster_score_fourth"
   ]
  },
  {
   "cell_type": "code",
   "execution_count": 40,
   "metadata": {},
   "outputs": [
    {
     "data": {
      "text/plain": [
       "0.0"
      ]
     },
     "execution_count": 40,
     "metadata": {},
     "output_type": "execute_result"
    }
   ],
   "source": [
    "cluster_score_fifth = nx.average_clustering(fifth_largest_cc)\n",
    "cluster_score_fifth"
   ]
  },
  {
   "cell_type": "markdown",
   "metadata": {},
   "source": [
    "The results above indeed confirms our hypotheses. The connected components that are a star have an average clustering coefficient of 0. The largest connected component has an average clustering coefficient of $0.116$, which is almost equal to the the average clustering coefficient of the whole graph $G_{static}$. This means that the largest connected is very minimal connected, just as the original graph $G_{static}$. The average clustering coefficient is closer to zero then to one, so although it is a connected component, the nodes are not very high connected between themselves. The largest connected component can also be related to the diameter of the graph, which is treated as another measure in this report. The diameter of a network is the longest of all the calculated shortest paths in a network. The largest connected component is also a connected component which is very \"deep\" or long as you can see. Therefore, the longest of all the calculated shortest paths in a network is a path that is in a connected component by defenition, and very likely to be in the largest connected component (because the LCC is the component with the longest connected sequences in it). To check this, we can calculate the longest path of all the shortest path in this particular LCC, to make a relation between the diameter and the LCC. We do this in the following cell. <font color=\"red\">todo: calc diameter in largest_cc!</font>"
   ]
  },
  {
   "cell_type": "code",
   "execution_count": 41,
   "metadata": {
    "collapsed": true
   },
   "outputs": [],
   "source": [
    "#nx.diameter(largest_cc)"
   ]
  },
  {
   "cell_type": "markdown",
   "metadata": {},
   "source": [
    "This equals the diameter that is calculated in the paragraph which treats the diameter measure, as we expected. Earlier, we showed a table where the size of a number of connected components is calculated. To get a deeper insight into these numbers, we store the numbers in a dataframe. This dataframe is exported to a csv file, so that we only have to read this file when we want to use it later. $df_{cc}$ contains the number of edges in the connected component, so that we can see the sizes of the components."
   ]
  },
  {
   "cell_type": "code",
   "execution_count": 42,
   "metadata": {
    "collapsed": true
   },
   "outputs": [],
   "source": [
    "#cc = { 'Number of components': [check_size_components(i) for i in range(0,19)], 'Connected component size, strictly larger than': [i for i in range(0,19)]}\n",
    "#df_cc = pd.DataFrame(data=cc)"
   ]
  },
  {
   "cell_type": "code",
   "execution_count": 43,
   "metadata": {
    "collapsed": true
   },
   "outputs": [],
   "source": [
    "#df_cc.to_csv('data/df_cc.csv')"
   ]
  },
  {
   "cell_type": "code",
   "execution_count": 69,
   "metadata": {
    "collapsed": true
   },
   "outputs": [],
   "source": [
    "df_cc = pd.read_csv('data/df_cc.csv')\n",
    "df_cc.drop(['Unnamed: 0'], axis = 1, inplace = True)"
   ]
  },
  {
   "cell_type": "code",
   "execution_count": 70,
   "metadata": {},
   "outputs": [
    {
     "data": {
      "text/html": [
       "<div>\n",
       "<style>\n",
       "    .dataframe thead tr:only-child th {\n",
       "        text-align: right;\n",
       "    }\n",
       "\n",
       "    .dataframe thead th {\n",
       "        text-align: left;\n",
       "    }\n",
       "\n",
       "    .dataframe tbody tr th {\n",
       "        vertical-align: top;\n",
       "    }\n",
       "</style>\n",
       "<table border=\"1\" class=\"dataframe\">\n",
       "  <thead>\n",
       "    <tr style=\"text-align: right;\">\n",
       "      <th></th>\n",
       "      <th>Connected component size, strictly larger than</th>\n",
       "      <th>Number of components</th>\n",
       "    </tr>\n",
       "  </thead>\n",
       "  <tbody>\n",
       "    <tr>\n",
       "      <th>0</th>\n",
       "      <td>0</td>\n",
       "      <td>6324</td>\n",
       "    </tr>\n",
       "    <tr>\n",
       "      <th>1</th>\n",
       "      <td>1</td>\n",
       "      <td>4937</td>\n",
       "    </tr>\n",
       "    <tr>\n",
       "      <th>2</th>\n",
       "      <td>2</td>\n",
       "      <td>855</td>\n",
       "    </tr>\n",
       "    <tr>\n",
       "      <th>3</th>\n",
       "      <td>3</td>\n",
       "      <td>267</td>\n",
       "    </tr>\n",
       "    <tr>\n",
       "      <th>4</th>\n",
       "      <td>4</td>\n",
       "      <td>112</td>\n",
       "    </tr>\n",
       "    <tr>\n",
       "      <th>5</th>\n",
       "      <td>5</td>\n",
       "      <td>56</td>\n",
       "    </tr>\n",
       "    <tr>\n",
       "      <th>6</th>\n",
       "      <td>6</td>\n",
       "      <td>33</td>\n",
       "    </tr>\n",
       "    <tr>\n",
       "      <th>7</th>\n",
       "      <td>7</td>\n",
       "      <td>20</td>\n",
       "    </tr>\n",
       "    <tr>\n",
       "      <th>8</th>\n",
       "      <td>8</td>\n",
       "      <td>15</td>\n",
       "    </tr>\n",
       "    <tr>\n",
       "      <th>9</th>\n",
       "      <td>9</td>\n",
       "      <td>12</td>\n",
       "    </tr>\n",
       "    <tr>\n",
       "      <th>10</th>\n",
       "      <td>10</td>\n",
       "      <td>8</td>\n",
       "    </tr>\n",
       "    <tr>\n",
       "      <th>11</th>\n",
       "      <td>11</td>\n",
       "      <td>7</td>\n",
       "    </tr>\n",
       "    <tr>\n",
       "      <th>12</th>\n",
       "      <td>12</td>\n",
       "      <td>6</td>\n",
       "    </tr>\n",
       "    <tr>\n",
       "      <th>13</th>\n",
       "      <td>13</td>\n",
       "      <td>6</td>\n",
       "    </tr>\n",
       "    <tr>\n",
       "      <th>14</th>\n",
       "      <td>14</td>\n",
       "      <td>5</td>\n",
       "    </tr>\n",
       "    <tr>\n",
       "      <th>15</th>\n",
       "      <td>15</td>\n",
       "      <td>4</td>\n",
       "    </tr>\n",
       "    <tr>\n",
       "      <th>16</th>\n",
       "      <td>16</td>\n",
       "      <td>4</td>\n",
       "    </tr>\n",
       "    <tr>\n",
       "      <th>17</th>\n",
       "      <td>17</td>\n",
       "      <td>3</td>\n",
       "    </tr>\n",
       "    <tr>\n",
       "      <th>18</th>\n",
       "      <td>18</td>\n",
       "      <td>3</td>\n",
       "    </tr>\n",
       "  </tbody>\n",
       "</table>\n",
       "</div>"
      ],
      "text/plain": [
       "    Connected component size, strictly larger than  Number of components\n",
       "0                                                0                  6324\n",
       "1                                                1                  4937\n",
       "2                                                2                   855\n",
       "3                                                3                   267\n",
       "4                                                4                   112\n",
       "5                                                5                    56\n",
       "6                                                6                    33\n",
       "7                                                7                    20\n",
       "8                                                8                    15\n",
       "9                                                9                    12\n",
       "10                                              10                     8\n",
       "11                                              11                     7\n",
       "12                                              12                     6\n",
       "13                                              13                     6\n",
       "14                                              14                     5\n",
       "15                                              15                     4\n",
       "16                                              16                     4\n",
       "17                                              17                     3\n",
       "18                                              18                     3"
      ]
     },
     "execution_count": 70,
     "metadata": {},
     "output_type": "execute_result"
    }
   ],
   "source": [
    "df_cc.head(20)"
   ]
  },
  {
   "cell_type": "markdown",
   "metadata": {},
   "source": [
    "The numbers in this table are analyzed before. To make a visual representation, we plot a histogram and a ECDF in the cells below. "
   ]
  },
  {
   "cell_type": "code",
   "execution_count": 71,
   "metadata": {},
   "outputs": [
    {
     "data": {
      "image/png": "[encoded data removed]",
      "text/plain": [
       "<matplotlib.figure.Figure at 0x1ef7f29fa90>"
      ]
     },
     "metadata": {},
     "output_type": "display_data"
    }
   ],
   "source": [
    "df_cc.hist(column='Number of components', bins = 20);\n",
    "plt.show()"
   ]
  },
  {
   "cell_type": "code",
   "execution_count": 83,
   "metadata": {},
   "outputs": [
    {
     "data": {
      "image/png": "[encoded data removed]",
      "text/plain": [
       "<matplotlib.figure.Figure at 0x1ef84981c18>"
      ]
     },
     "metadata": {},
     "output_type": "display_data"
    }
   ],
   "source": [
    "df_cc = df_cc.drop(df_cc.index[[0,2]])\n",
    "plt.scatter(df_cc['Connected component size, strictly larger than'], df_cc['Number of components'])\n",
    "_ = plt.xlabel('Connected component size, strictly larger than')\n",
    "_ = plt.ylabel('Number of components')\n",
    "plt.show()"
   ]
  },
  {
   "cell_type": "markdown",
   "metadata": {},
   "source": [
    "Excluding the top two outliers (first two rows of the dataframe), we see that the larger we set the minimum size of edges in the component, the less components satisfy that boundary. This means that we only have a few large connected components in the static network. We also saw that there was one connected network, that had a gigantic size compared to the rest. This is probably because links that are added or removed, already were part of the wiki link data, because they were linked by some other pages. So the links are in most of the time picked from the same network domain. This makes sense, because new links are in most of the time on the same topic and therefore already were linked by some other articles. "
   ]
  }
 ],
 "metadata": {
  "kernelspec": {
   "display_name": "Python 3",
   "language": "python",
   "name": "python3"
  },
  "language_info": {
   "codemirror_mode": {
    "name": "ipython",
    "version": 3
   },
   "file_extension": ".py",
   "mimetype": "text/x-python",
   "name": "python",
   "nbconvert_exporter": "python",
   "pygments_lexer": "ipython3",
   "version": "3.6.3"
  }
 },
 "nbformat": 4,
 "nbformat_minor": 2
}
