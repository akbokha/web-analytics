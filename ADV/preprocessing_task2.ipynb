{
 "cells": [
  {
   "cell_type": "markdown",
   "metadata": {},
   "source": [
    "### Task 2 - Temporal Network Analysis - January 2018\n",
    "#### <i>Abdel K. Bokharouss, Joris Rombouts, Bart van Helvert, Remco Surtel</i>"
   ]
  },
  {
   "cell_type": "markdown",
   "metadata": {},
   "source": [
    "### <font color = \"green\">imports and preparation</font>"
   ]
  },
  {
   "cell_type": "code",
   "execution_count": 1,
   "metadata": {
    "collapsed": true
   },
   "outputs": [],
   "source": [
    "import pandas as pd\n",
    "import numpy as np\n",
    "import networkx as nx\n",
    "import datetime\n",
    "import tkinter\n",
    "import matplotlib.pyplot as plt\n",
    "import seaborn as sns\n",
    "sns.set(color_codes=True)"
   ]
  },
  {
   "cell_type": "code",
   "execution_count": 2,
   "metadata": {
    "collapsed": true
   },
   "outputs": [],
   "source": [
    "temp_nw = pd.read_table(\"./data/tgraph_real_wikiedithyperlinks.txt\", header = None, sep = \" \",\n",
    "                       names = [\"src\", \"trg\", \"start\", \"end\"])"
   ]
  },
  {
   "cell_type": "code",
   "execution_count": 3,
   "metadata": {},
   "outputs": [
    {
     "data": {
      "text/html": [
       "<div>\n",
       "<style>\n",
       "    .dataframe thead tr:only-child th {\n",
       "        text-align: right;\n",
       "    }\n",
       "\n",
       "    .dataframe thead th {\n",
       "        text-align: left;\n",
       "    }\n",
       "\n",
       "    .dataframe tbody tr th {\n",
       "        vertical-align: top;\n",
       "    }\n",
       "</style>\n",
       "<table border=\"1\" class=\"dataframe\">\n",
       "  <thead>\n",
       "    <tr style=\"text-align: right;\">\n",
       "      <th></th>\n",
       "      <th>src</th>\n",
       "      <th>trg</th>\n",
       "      <th>start</th>\n",
       "      <th>end</th>\n",
       "    </tr>\n",
       "  </thead>\n",
       "  <tbody>\n",
       "    <tr>\n",
       "      <th>0</th>\n",
       "      <td>1</td>\n",
       "      <td>6</td>\n",
       "      <td>1028243088</td>\n",
       "      <td>1120917090</td>\n",
       "    </tr>\n",
       "    <tr>\n",
       "      <th>1</th>\n",
       "      <td>1</td>\n",
       "      <td>8</td>\n",
       "      <td>1029885647</td>\n",
       "      <td>1136791625</td>\n",
       "    </tr>\n",
       "    <tr>\n",
       "      <th>2</th>\n",
       "      <td>1</td>\n",
       "      <td>9</td>\n",
       "      <td>1029885647</td>\n",
       "      <td>1136791625</td>\n",
       "    </tr>\n",
       "    <tr>\n",
       "      <th>3</th>\n",
       "      <td>1</td>\n",
       "      <td>3</td>\n",
       "      <td>1028243088</td>\n",
       "      <td>1143227562</td>\n",
       "    </tr>\n",
       "    <tr>\n",
       "      <th>4</th>\n",
       "      <td>1</td>\n",
       "      <td>3</td>\n",
       "      <td>1146727453</td>\n",
       "      <td>1148998304</td>\n",
       "    </tr>\n",
       "  </tbody>\n",
       "</table>\n",
       "</div>"
      ],
      "text/plain": [
       "   src  trg       start         end\n",
       "0    1    6  1028243088  1120917090\n",
       "1    1    8  1029885647  1136791625\n",
       "2    1    9  1029885647  1136791625\n",
       "3    1    3  1028243088  1143227562\n",
       "4    1    3  1146727453  1148998304"
      ]
     },
     "execution_count": 3,
     "metadata": {},
     "output_type": "execute_result"
    }
   ],
   "source": [
    "temp_nw.head()"
   ]
  },
  {
   "cell_type": "code",
   "execution_count": 4,
   "metadata": {
    "collapsed": true
   },
   "outputs": [],
   "source": [
    "temp_nw['start'] = pd.to_datetime(temp_nw['start'], unit = 's') #convert Unix timestamps to date time, utc = 0\n",
    "temp_nw['end'] = pd.to_datetime(temp_nw['end'], unit = 's')"
   ]
  },
  {
   "cell_type": "code",
   "execution_count": 5,
   "metadata": {},
   "outputs": [
    {
     "name": "stdout",
     "output_type": "stream",
     "text": [
      "2002-08-02 01:04:48\n"
     ]
    }
   ],
   "source": [
    "#test function for unix time stamps to datetime\n",
    "print(\n",
    "    datetime.datetime.fromtimestamp(\n",
    "        int(\"1028243088\")\n",
    "    ).strftime('%Y-%m-%d %H:%M:%S')\n",
    ")"
   ]
  },
  {
   "cell_type": "code",
   "execution_count": 6,
   "metadata": {
    "scrolled": true
   },
   "outputs": [
    {
     "data": {
      "text/html": [
       "<div>\n",
       "<style>\n",
       "    .dataframe thead tr:only-child th {\n",
       "        text-align: right;\n",
       "    }\n",
       "\n",
       "    .dataframe thead th {\n",
       "        text-align: left;\n",
       "    }\n",
       "\n",
       "    .dataframe tbody tr th {\n",
       "        vertical-align: top;\n",
       "    }\n",
       "</style>\n",
       "<table border=\"1\" class=\"dataframe\">\n",
       "  <thead>\n",
       "    <tr style=\"text-align: right;\">\n",
       "      <th></th>\n",
       "      <th>src</th>\n",
       "      <th>trg</th>\n",
       "      <th>start</th>\n",
       "      <th>end</th>\n",
       "    </tr>\n",
       "  </thead>\n",
       "  <tbody>\n",
       "    <tr>\n",
       "      <th>0</th>\n",
       "      <td>1</td>\n",
       "      <td>6</td>\n",
       "      <td>2002-08-01 23:04:48</td>\n",
       "      <td>2005-07-09 13:51:30</td>\n",
       "    </tr>\n",
       "    <tr>\n",
       "      <th>1</th>\n",
       "      <td>1</td>\n",
       "      <td>8</td>\n",
       "      <td>2002-08-20 23:20:47</td>\n",
       "      <td>2006-01-09 07:27:05</td>\n",
       "    </tr>\n",
       "    <tr>\n",
       "      <th>2</th>\n",
       "      <td>1</td>\n",
       "      <td>9</td>\n",
       "      <td>2002-08-20 23:20:47</td>\n",
       "      <td>2006-01-09 07:27:05</td>\n",
       "    </tr>\n",
       "    <tr>\n",
       "      <th>3</th>\n",
       "      <td>1</td>\n",
       "      <td>3</td>\n",
       "      <td>2002-08-01 23:04:48</td>\n",
       "      <td>2006-03-24 19:12:42</td>\n",
       "    </tr>\n",
       "    <tr>\n",
       "      <th>4</th>\n",
       "      <td>1</td>\n",
       "      <td>3</td>\n",
       "      <td>2006-05-04 07:24:13</td>\n",
       "      <td>2006-05-30 14:11:44</td>\n",
       "    </tr>\n",
       "    <tr>\n",
       "      <th>5</th>\n",
       "      <td>1</td>\n",
       "      <td>5</td>\n",
       "      <td>2002-08-01 23:04:48</td>\n",
       "      <td>2007-07-10 19:45:45</td>\n",
       "    </tr>\n",
       "    <tr>\n",
       "      <th>6</th>\n",
       "      <td>1</td>\n",
       "      <td>2</td>\n",
       "      <td>2002-08-01 23:04:48</td>\n",
       "      <td>2007-07-10 19:45:45</td>\n",
       "    </tr>\n",
       "    <tr>\n",
       "      <th>7</th>\n",
       "      <td>1</td>\n",
       "      <td>3</td>\n",
       "      <td>2006-06-06 12:47:15</td>\n",
       "      <td>2007-07-10 19:45:45</td>\n",
       "    </tr>\n",
       "    <tr>\n",
       "      <th>8</th>\n",
       "      <td>1</td>\n",
       "      <td>4</td>\n",
       "      <td>2002-08-01 23:04:48</td>\n",
       "      <td>2007-07-10 19:45:45</td>\n",
       "    </tr>\n",
       "    <tr>\n",
       "      <th>9</th>\n",
       "      <td>1</td>\n",
       "      <td>7</td>\n",
       "      <td>2002-08-01 23:04:48</td>\n",
       "      <td>2007-07-10 19:45:45</td>\n",
       "    </tr>\n",
       "  </tbody>\n",
       "</table>\n",
       "</div>"
      ],
      "text/plain": [
       "   src  trg               start                 end\n",
       "0    1    6 2002-08-01 23:04:48 2005-07-09 13:51:30\n",
       "1    1    8 2002-08-20 23:20:47 2006-01-09 07:27:05\n",
       "2    1    9 2002-08-20 23:20:47 2006-01-09 07:27:05\n",
       "3    1    3 2002-08-01 23:04:48 2006-03-24 19:12:42\n",
       "4    1    3 2006-05-04 07:24:13 2006-05-30 14:11:44\n",
       "5    1    5 2002-08-01 23:04:48 2007-07-10 19:45:45\n",
       "6    1    2 2002-08-01 23:04:48 2007-07-10 19:45:45\n",
       "7    1    3 2006-06-06 12:47:15 2007-07-10 19:45:45\n",
       "8    1    4 2002-08-01 23:04:48 2007-07-10 19:45:45\n",
       "9    1    7 2002-08-01 23:04:48 2007-07-10 19:45:45"
      ]
     },
     "execution_count": 6,
     "metadata": {},
     "output_type": "execute_result"
    }
   ],
   "source": [
    "temp_nw.head(10)"
   ]
  },
  {
   "cell_type": "code",
   "execution_count": 7,
   "metadata": {},
   "outputs": [
    {
     "data": {
      "text/plain": [
       "(4729035, 4)"
      ]
     },
     "execution_count": 7,
     "metadata": {},
     "output_type": "execute_result"
    }
   ],
   "source": [
    "temp_nw.shape"
   ]
  },
  {
   "cell_type": "code",
   "execution_count": 8,
   "metadata": {
    "collapsed": true
   },
   "outputs": [],
   "source": [
    "fh = open(\"data/tgraph_real_wikiedithyperlinks.txt\", 'rb')\n",
    "G_temp = nx.read_edgelist(fh,create_using=nx.DiGraph(), data=(('start',int), ('end', int)))\n",
    "fh.close()"
   ]
  },
  {
   "cell_type": "code",
   "execution_count": 9,
   "metadata": {
    "collapsed": true
   },
   "outputs": [],
   "source": [
    "#nx.write_edgelist(G_temp, \"G_temp.edgelist\")"
   ]
  },
  {
   "cell_type": "markdown",
   "metadata": {},
   "source": [
    "### Temporal Network Analysis\n",
    "For the second task, the time information of each edge is taken into consideration. The most used temporal network analysis method is snapshot-based analysis. For each measure we need to find time-scales that gives us interesting result. It is important that the time intervals are consisently chosen during the same measure, but the time intervals can be different for each measure. First, we explore the temporal networks, by plotting a few histograms. The first histogram gives us a insight how many links are added in each year."
   ]
  },
  {
   "cell_type": "code",
   "execution_count": 10,
   "metadata": {},
   "outputs": [
    {
     "data": {
      "image/png": "[encoded data removed]",
      "text/plain": [
       "<matplotlib.figure.Figure at 0x16c25ebcdd8>"
      ]
     },
     "metadata": {},
     "output_type": "display_data"
    }
   ],
   "source": [
    "#plot that shows how many links are added in each year\n",
    "temp_nw['src'].groupby(temp_nw[\"start\"].dt.year).count().plot(kind=\"bar\", legend=True, color = 'green')\n",
    "plt.show()"
   ]
  },
  {
   "cell_type": "markdown",
   "metadata": {},
   "source": [
    "The histogram looks like a bell curve. This means that most of the links are added in the years 2005-2008. Let's look if the removal of the links also have a bell shaped curve. "
   ]
  },
  {
   "cell_type": "code",
   "execution_count": 11,
   "metadata": {},
   "outputs": [
    {
     "data": {
      "image/png": "[encoded data removed]",
      "text/plain": [
       "<matplotlib.figure.Figure at 0x16c25f62dd8>"
      ]
     },
     "metadata": {},
     "output_type": "display_data"
    }
   ],
   "source": [
    "#plot that shows how many links are removed in each year\n",
    "temp_nw['src'].groupby(temp_nw[\"end\"].dt.year).count().plot(kind=\"bar\", legend=True, color='red')\n",
    "plt.show()"
   ]
  },
  {
   "cell_type": "markdown",
   "metadata": {},
   "source": [
    "The histogram doesn't look like a bell curve. We actually see that the years 2006-2010 are the years in which most of the edges are removed. If we combine this with the information found above, we can conclude that the years 2006-2008 where the years in which the most links are added ánd removed from the wiki page. One can also be interested in the time duration of each link, i.e. how many years a link stays in the graph until it is removed. "
   ]
  },
  {
   "cell_type": "code",
   "execution_count": 12,
   "metadata": {},
   "outputs": [
    {
     "data": {
      "image/png": "[encoded data removed]",
      "text/plain": [
       "<matplotlib.figure.Figure at 0x16c25ed90b8>"
      ]
     },
     "metadata": {},
     "output_type": "display_data"
    }
   ],
   "source": [
    "#plot which shows how many years each link remains in the graph bevore it is removed.\n",
    "temp_nw['src'].groupby((temp_nw['end'].dt.year - temp_nw['start'].dt.year)).count().plot(kind=\"bar\", legend=True, color='midnightblue')\n",
    "plt.show()"
   ]
  },
  {
   "cell_type": "markdown",
   "metadata": {},
   "source": [
    "From the histogram above we can see that a lot of links have a very short time duration in the graph. Most of the links are added and removed from the wiki page within a year. Furthermore we see that the other links doesn't stay long either in the graph. We can say that most of the links are zero to two years in the network."
   ]
  }
 ],
 "metadata": {
  "kernelspec": {
   "display_name": "Python 3",
   "language": "python",
   "name": "python3"
  },
  "language_info": {
   "codemirror_mode": {
    "name": "ipython",
    "version": 3
   },
   "file_extension": ".py",
   "mimetype": "text/x-python",
   "name": "python",
   "nbconvert_exporter": "python",
   "pygments_lexer": "ipython3",
   "version": "3.6.3"
  }
 },
 "nbformat": 4,
 "nbformat_minor": 2
}
