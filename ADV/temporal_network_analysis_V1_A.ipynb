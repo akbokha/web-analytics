{
 "cells": [
  {
   "cell_type": "markdown",
   "metadata": {},
   "source": [
    "### Task 2: Temporal Network Analysis\n",
    "* Degree (in-degree/out-degree)\n",
    "* Diameter\n",
    "* Dyads and Reciprocity"
   ]
  },
  {
   "cell_type": "markdown",
   "metadata": {},
   "source": [
    "A temporal network is goint to be analysed which consists of 678907 vertices and 4729035 edges, where each edge has time information associated with it. Some of the edges have the same source and target vertex, but are association with different timestamps. These timestamps are going to be used in this temporal netwrok analysis to asses and evaluate the evolution of grapg properties by analyzing the changes of the devised measuredby by exploring different time intervals and scales which define time windows to be used."
   ]
  },
  {
   "cell_type": "markdown",
   "metadata": {},
   "source": [
    "### <font color=\"darkgreen\">Imports, configuation and preprocessing</font>"
   ]
  },
  {
   "cell_type": "code",
   "execution_count": 1,
   "metadata": {
    "collapsed": true
   },
   "outputs": [],
   "source": [
    "import pandas as pd\n",
    "import numpy as np\n",
    "import networkx as nx\n",
    "import matplotlib.pyplot as plt\n",
    "import seaborn as sns\n",
    "import math\n",
    "import igraph\n",
    "import datetime"
   ]
  },
  {
   "cell_type": "code",
   "execution_count": 2,
   "metadata": {
    "collapsed": true
   },
   "outputs": [],
   "source": [
    "temp_nw = pd.read_table(\"./data/tgraph_real_wikiedithyperlinks.txt\", header = None, sep = \" \",\n",
    "                       names = [\"src\", \"trg\", \"start\", \"end\"])"
   ]
  },
  {
   "cell_type": "code",
   "execution_count": 3,
   "metadata": {},
   "outputs": [
    {
     "data": {
      "text/html": [
       "<div>\n",
       "<style scoped>\n",
       "    .dataframe tbody tr th:only-of-type {\n",
       "        vertical-align: middle;\n",
       "    }\n",
       "\n",
       "    .dataframe tbody tr th {\n",
       "        vertical-align: top;\n",
       "    }\n",
       "\n",
       "    .dataframe thead th {\n",
       "        text-align: right;\n",
       "    }\n",
       "</style>\n",
       "<table border=\"1\" class=\"dataframe\">\n",
       "  <thead>\n",
       "    <tr style=\"text-align: right;\">\n",
       "      <th></th>\n",
       "      <th>src</th>\n",
       "      <th>trg</th>\n",
       "      <th>start</th>\n",
       "      <th>end</th>\n",
       "    </tr>\n",
       "  </thead>\n",
       "  <tbody>\n",
       "    <tr>\n",
       "      <th>0</th>\n",
       "      <td>1</td>\n",
       "      <td>6</td>\n",
       "      <td>1028243088</td>\n",
       "      <td>1120917090</td>\n",
       "    </tr>\n",
       "    <tr>\n",
       "      <th>1</th>\n",
       "      <td>1</td>\n",
       "      <td>8</td>\n",
       "      <td>1029885647</td>\n",
       "      <td>1136791625</td>\n",
       "    </tr>\n",
       "    <tr>\n",
       "      <th>2</th>\n",
       "      <td>1</td>\n",
       "      <td>9</td>\n",
       "      <td>1029885647</td>\n",
       "      <td>1136791625</td>\n",
       "    </tr>\n",
       "    <tr>\n",
       "      <th>3</th>\n",
       "      <td>1</td>\n",
       "      <td>3</td>\n",
       "      <td>1028243088</td>\n",
       "      <td>1143227562</td>\n",
       "    </tr>\n",
       "    <tr>\n",
       "      <th>4</th>\n",
       "      <td>1</td>\n",
       "      <td>3</td>\n",
       "      <td>1146727453</td>\n",
       "      <td>1148998304</td>\n",
       "    </tr>\n",
       "  </tbody>\n",
       "</table>\n",
       "</div>"
      ],
      "text/plain": [
       "   src  trg       start         end\n",
       "0    1    6  1028243088  1120917090\n",
       "1    1    8  1029885647  1136791625\n",
       "2    1    9  1029885647  1136791625\n",
       "3    1    3  1028243088  1143227562\n",
       "4    1    3  1146727453  1148998304"
      ]
     },
     "execution_count": 3,
     "metadata": {},
     "output_type": "execute_result"
    }
   ],
   "source": [
    "temp_nw.head()"
   ]
  },
  {
   "cell_type": "code",
   "execution_count": 5,
   "metadata": {
    "collapsed": true
   },
   "outputs": [],
   "source": [
    "temp_nw['start'] = pd.to_datetime(temp_nw['start'], unit = 's') #convert Unix timestamps to date time, utc = 0\n",
    "temp_nw['end'] = pd.to_datetime(temp_nw['end'], unit = 's')"
   ]
  },
  {
   "cell_type": "code",
   "execution_count": 6,
   "metadata": {},
   "outputs": [
    {
     "data": {
      "text/html": [
       "<div>\n",
       "<style scoped>\n",
       "    .dataframe tbody tr th:only-of-type {\n",
       "        vertical-align: middle;\n",
       "    }\n",
       "\n",
       "    .dataframe tbody tr th {\n",
       "        vertical-align: top;\n",
       "    }\n",
       "\n",
       "    .dataframe thead th {\n",
       "        text-align: right;\n",
       "    }\n",
       "</style>\n",
       "<table border=\"1\" class=\"dataframe\">\n",
       "  <thead>\n",
       "    <tr style=\"text-align: right;\">\n",
       "      <th></th>\n",
       "      <th>src</th>\n",
       "      <th>trg</th>\n",
       "      <th>start</th>\n",
       "      <th>end</th>\n",
       "    </tr>\n",
       "  </thead>\n",
       "  <tbody>\n",
       "    <tr>\n",
       "      <th>0</th>\n",
       "      <td>1</td>\n",
       "      <td>6</td>\n",
       "      <td>2002-08-01 23:04:48</td>\n",
       "      <td>2005-07-09 13:51:30</td>\n",
       "    </tr>\n",
       "    <tr>\n",
       "      <th>1</th>\n",
       "      <td>1</td>\n",
       "      <td>8</td>\n",
       "      <td>2002-08-20 23:20:47</td>\n",
       "      <td>2006-01-09 07:27:05</td>\n",
       "    </tr>\n",
       "    <tr>\n",
       "      <th>2</th>\n",
       "      <td>1</td>\n",
       "      <td>9</td>\n",
       "      <td>2002-08-20 23:20:47</td>\n",
       "      <td>2006-01-09 07:27:05</td>\n",
       "    </tr>\n",
       "    <tr>\n",
       "      <th>3</th>\n",
       "      <td>1</td>\n",
       "      <td>3</td>\n",
       "      <td>2002-08-01 23:04:48</td>\n",
       "      <td>2006-03-24 19:12:42</td>\n",
       "    </tr>\n",
       "    <tr>\n",
       "      <th>4</th>\n",
       "      <td>1</td>\n",
       "      <td>3</td>\n",
       "      <td>2006-05-04 07:24:13</td>\n",
       "      <td>2006-05-30 14:11:44</td>\n",
       "    </tr>\n",
       "  </tbody>\n",
       "</table>\n",
       "</div>"
      ],
      "text/plain": [
       "   src  trg               start                 end\n",
       "0    1    6 2002-08-01 23:04:48 2005-07-09 13:51:30\n",
       "1    1    8 2002-08-20 23:20:47 2006-01-09 07:27:05\n",
       "2    1    9 2002-08-20 23:20:47 2006-01-09 07:27:05\n",
       "3    1    3 2002-08-01 23:04:48 2006-03-24 19:12:42\n",
       "4    1    3 2006-05-04 07:24:13 2006-05-30 14:11:44"
      ]
     },
     "execution_count": 6,
     "metadata": {},
     "output_type": "execute_result"
    }
   ],
   "source": [
    "temp_nw.head()"
   ]
  },
  {
   "cell_type": "markdown",
   "metadata": {},
   "source": [
    "We assume that the most changes will be tracked over course of months or years. Let's create a timestamp for every year: $T_i = $ 2002$+i$-01-01 00:00:00."
   ]
  },
  {
   "cell_type": "code",
   "execution_count": 7,
   "metadata": {},
   "outputs": [
    {
     "data": {
      "text/plain": [
       "{'T0': datetime.datetime(2002, 1, 1, 0, 0),\n",
       " 'T1': datetime.datetime(2003, 1, 1, 0, 0),\n",
       " 'T10': datetime.datetime(2012, 1, 1, 0, 0),\n",
       " 'T2': datetime.datetime(2004, 1, 1, 0, 0),\n",
       " 'T3': datetime.datetime(2005, 1, 1, 0, 0),\n",
       " 'T4': datetime.datetime(2006, 1, 1, 0, 0),\n",
       " 'T5': datetime.datetime(2007, 1, 1, 0, 0),\n",
       " 'T6': datetime.datetime(2008, 1, 1, 0, 0),\n",
       " 'T7': datetime.datetime(2009, 1, 1, 0, 0),\n",
       " 'T8': datetime.datetime(2010, 1, 1, 0, 0),\n",
       " 'T9': datetime.datetime(2011, 1, 1, 0, 0)}"
      ]
     },
     "execution_count": 7,
     "metadata": {},
     "output_type": "execute_result"
    }
   ],
   "source": [
    "# Create timestamps\n",
    "dTime={}\n",
    "for x in range(0,11):\n",
    "    year = 2002 + x\n",
    "    T = datetime.datetime(year, 1, 1, 0, 0, 0)\n",
    "    dTime[\"T{0}\".format(x)]=T\n",
    "dTime"
   ]
  },
  {
   "cell_type": "markdown",
   "metadata": {},
   "source": [
    "Now that we have these timestamps, let's generate some graphs, $G_0, G_1, G_2, G_3, G_4, G_5, G_6, G_7, G_8, G_9$, each containing only the edges that appear between $T_i$ and $T_{i+1}$ for $G_i$."
   ]
  },
  {
   "cell_type": "code",
   "execution_count": 9,
   "metadata": {},
   "outputs": [
    {
     "name": "stdout",
     "output_type": "stream",
     "text": [
      "df_G0: (56459, 4)\n",
      "df_G1: (210603, 4)\n",
      "df_G2: (502719, 4)\n",
      "df_G3: (1115759, 4)\n",
      "df_G4: (1685662, 4)\n",
      "df_G5: (1758664, 4)\n",
      "df_G6: (1618639, 4)\n",
      "df_G7: (1331689, 4)\n",
      "df_G8: (960662, 4)\n",
      "df_G9: (443777, 4)\n"
     ]
    }
   ],
   "source": [
    "# Create DataFrames for every timestamp\n",
    "dfG={}\n",
    "for x in range(0,10):\n",
    "    T0 = \"T{0}\".format(x)\n",
    "    T1 = \"T{0}\".format(x+1)\n",
    "    T0 = dTime.get(T0)\n",
    "    T1 = dTime.get(T1)\n",
    "    df_G = temp_nw.copy()\n",
    "    df_G = df_G[((df_G['start'] >= T0) & (df_G['start'] < T1)) | ((df_G['end'] > T0) & (df_G['end'] <= T1)) | \n",
    "                ((df_G['start'] < T0) & (df_G['end'] > T1))]\n",
    "    dfG[\"df_G{0}\".format(x)]=df_G\n",
    "    print(\"df_G{0}\".format(x) + \": \" + str(df_G.shape))"
   ]
  },
  {
   "cell_type": "code",
   "execution_count": 10,
   "metadata": {},
   "outputs": [
    {
     "data": {
      "text/html": [
       "<div>\n",
       "<style scoped>\n",
       "    .dataframe tbody tr th:only-of-type {\n",
       "        vertical-align: middle;\n",
       "    }\n",
       "\n",
       "    .dataframe tbody tr th {\n",
       "        vertical-align: top;\n",
       "    }\n",
       "\n",
       "    .dataframe thead th {\n",
       "        text-align: right;\n",
       "    }\n",
       "</style>\n",
       "<table border=\"1\" class=\"dataframe\">\n",
       "  <thead>\n",
       "    <tr style=\"text-align: right;\">\n",
       "      <th></th>\n",
       "      <th>Time</th>\n",
       "      <th>Edges</th>\n",
       "    </tr>\n",
       "  </thead>\n",
       "  <tbody>\n",
       "    <tr>\n",
       "      <th>0</th>\n",
       "      <td>2002 - 2003</td>\n",
       "      <td>56459</td>\n",
       "    </tr>\n",
       "    <tr>\n",
       "      <th>1</th>\n",
       "      <td>2003 - 2004</td>\n",
       "      <td>210603</td>\n",
       "    </tr>\n",
       "    <tr>\n",
       "      <th>2</th>\n",
       "      <td>2004 - 2005</td>\n",
       "      <td>502719</td>\n",
       "    </tr>\n",
       "    <tr>\n",
       "      <th>3</th>\n",
       "      <td>2005 - 2006</td>\n",
       "      <td>1115759</td>\n",
       "    </tr>\n",
       "    <tr>\n",
       "      <th>4</th>\n",
       "      <td>2006 - 2007</td>\n",
       "      <td>1685662</td>\n",
       "    </tr>\n",
       "    <tr>\n",
       "      <th>5</th>\n",
       "      <td>2007 - 2008</td>\n",
       "      <td>1758664</td>\n",
       "    </tr>\n",
       "    <tr>\n",
       "      <th>6</th>\n",
       "      <td>2008 - 2009</td>\n",
       "      <td>1618639</td>\n",
       "    </tr>\n",
       "    <tr>\n",
       "      <th>7</th>\n",
       "      <td>2009 - 2010</td>\n",
       "      <td>1331689</td>\n",
       "    </tr>\n",
       "    <tr>\n",
       "      <th>8</th>\n",
       "      <td>2010 - 2011</td>\n",
       "      <td>960662</td>\n",
       "    </tr>\n",
       "    <tr>\n",
       "      <th>9</th>\n",
       "      <td>2011 - 2012</td>\n",
       "      <td>443777</td>\n",
       "    </tr>\n",
       "  </tbody>\n",
       "</table>\n",
       "</div>"
      ],
      "text/plain": [
       "          Time    Edges\n",
       "0  2002 - 2003    56459\n",
       "1  2003 - 2004   210603\n",
       "2  2004 - 2005   502719\n",
       "3  2005 - 2006  1115759\n",
       "4  2006 - 2007  1685662\n",
       "5  2007 - 2008  1758664\n",
       "6  2008 - 2009  1618639\n",
       "7  2009 - 2010  1331689\n",
       "8  2010 - 2011   960662\n",
       "9  2011 - 2012   443777"
      ]
     },
     "execution_count": 10,
     "metadata": {},
     "output_type": "execute_result"
    }
   ],
   "source": [
    "#Create a DataFrame with the amount of edges during every period, so we can visualize it.\n",
    "lstEdges = list()\n",
    "lstTime = list()\n",
    "for x in range(0,10):\n",
    "    T = \"{0}\".format(2002+x) + \" - \" + \"{0}\".format(2002+x+1) \n",
    "    lstTime.append(T)\n",
    "    df = \"df_G{0}\".format(x); df = dfG.get(df)\n",
    "    lstEdges.append(df.shape[0])\n",
    "edges = pd.DataFrame({'Time': lstTime, 'Edges': lstEdges})\n",
    "cols = edges.columns.tolist()\n",
    "cols = cols[-1:] + cols[:-1]\n",
    "edges = edges[cols]\n",
    "edges"
   ]
  },
  {
   "cell_type": "code",
   "execution_count": 11,
   "metadata": {
    "collapsed": true
   },
   "outputs": [],
   "source": [
    "# Initialize a directed graph G from each of the given pandas dataframes.\n",
    "dG={}\n",
    "for x in range(0,10):\n",
    "    G = \"df_G{0}\".format(x)\n",
    "    G = dfG.get(G)\n",
    "    G = nx.from_pandas_dataframe(G, 'src', 'trg', edge_attr=None, create_using=nx.DiGraph())\n",
    "    dG[\"G{0}\".format(x)]=G"
   ]
  },
  {
   "cell_type": "markdown",
   "metadata": {},
   "source": [
    "#### Directed Graph used for temporal network analysis (igraph)"
   ]
  },
  {
   "cell_type": "markdown",
   "metadata": {},
   "source": [
    "Since we also need some functionalities of the $igraph$ library, we are going to make the same graphs in $igraph$."
   ]
  },
  {
   "cell_type": "code",
   "execution_count": 32,
   "metadata": {},
   "outputs": [],
   "source": [
    "for x in range(0,10):\n",
    "    G = \"G{0}\".format(x); G = dG.get(G)\n",
    "    nx.write_gml(G, 'data/gml_G{0}.gml'.format(x))\n",
    "\n",
    "G_i0 = igraph.Graph.Read_GML('data/gml_G0.gml')\n",
    "G_i1 = igraph.Graph.Read_GML('data/gml_G1.gml')\n",
    "G_i2 = igraph.Graph.Read_GML('data/gml_G2.gml')\n",
    "G_i3 = igraph.Graph.Read_GML('data/gml_G3.gml')\n",
    "G_i4 = igraph.Graph.Read_GML('data/gml_G4.gml')\n",
    "G_i5 = igraph.Graph.Read_GML('data/gml_G5.gml')\n",
    "G_i6 = igraph.Graph.Read_GML('data/gml_G6.gml')\n",
    "G_i7 = igraph.Graph.Read_GML('data/gml_G7.gml')\n",
    "G_i8 = igraph.Graph.Read_GML('data/gml_G8.gml')\n",
    "G_i9 = igraph.Graph.Read_GML('data/gml_G9.gml')"
   ]
  },
  {
   "cell_type": "code",
   "execution_count": 45,
   "metadata": {},
   "outputs": [
    {
     "data": {
      "text/plain": [
       "True"
      ]
     },
     "execution_count": 45,
     "metadata": {},
     "output_type": "execute_result"
    }
   ],
   "source": [
    "len(list(G_i0.vs)) == len(list(dG.get('G0'))) # just a random check"
   ]
  },
  {
   "cell_type": "markdown",
   "metadata": {},
   "source": [
    "### <font color=\"darkgreen\">1. Temporal Network Analysis:</font> Degree distribution"
   ]
  },
  {
   "cell_type": "markdown",
   "metadata": {},
   "source": [
    "In the static network analysis we have some interesting correlations between the degree distribution and certain pecularities of (group of) nodes and the graph in general. In this section we are going to state some hypotheses based on the context of the to be analyzed temporal data based and the insights we gained in the static network analysis. Since we are considering a network of pages with the nodes representing pages while the links represent links between the pages of a certain website/domain we expect there to be notable changes in time intervals of a year. This assumption was confirmed when we looked at the changes in the introduction of this task."
   ]
  },
  {
   "cell_type": "markdown",
   "metadata": {},
   "source": [
    "### <font color=\"darkgreen\">2. Temporal Network Analysis:</font> Diameter"
   ]
  },
  {
   "cell_type": "markdown",
   "metadata": {},
   "source": [
    "### <font color=\"darkgreen\">3. Temporal Network Analysis:</font> Dyads and Reciprocity"
   ]
  }
 ],
 "metadata": {
  "kernelspec": {
   "display_name": "Python 3",
   "language": "python",
   "name": "python3"
  },
  "language_info": {
   "codemirror_mode": {
    "name": "ipython",
    "version": 3
   },
   "file_extension": ".py",
   "mimetype": "text/x-python",
   "name": "python",
   "nbconvert_exporter": "python",
   "pygments_lexer": "ipython3",
   "version": "3.6.3"
  }
 },
 "nbformat": 4,
 "nbformat_minor": 2
}
