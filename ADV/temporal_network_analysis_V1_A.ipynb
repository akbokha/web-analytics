{
 "cells": [
  {
   "cell_type": "markdown",
   "metadata": {},
   "source": [
    "### Task 2: Temporal Network Analysis\n",
    "* Degree (in-degree/out-degree)\n",
    "* Dyads and Reciprocity"
   ]
  },
  {
   "cell_type": "markdown",
   "metadata": {},
   "source": [
    "A temporal network is goint to be analysed which consists of 678907 vertices and 4729035 edges, where each edge has time information associated with it. Some of the edges have the same source and target vertex, but are association with different timestamps. These timestamps are going to be used in this temporal netwrok analysis to asses and evaluate the evolution of grapg properties by analyzing the changes of the devised measuredby by exploring different time intervals and scales which define time windows to be used."
   ]
  },
  {
   "cell_type": "markdown",
   "metadata": {},
   "source": [
    "### <font color=\"darkgreen\">Imports, configuation and preprocessing</font>"
   ]
  },
  {
   "cell_type": "code",
   "execution_count": 46,
   "metadata": {
    "collapsed": true
   },
   "outputs": [],
   "source": [
    "import pandas as pd\n",
    "import numpy as np\n",
    "import networkx as nx\n",
    "import matplotlib.pyplot as plt\n",
    "import seaborn as sns\n",
    "import math\n",
    "import igraph\n",
    "import datetime"
   ]
  },
  {
   "cell_type": "code",
   "execution_count": 2,
   "metadata": {
    "collapsed": true
   },
   "outputs": [],
   "source": [
    "temp_nw = pd.read_table(\"./data/tgraph_real_wikiedithyperlinks.txt\", header = None, sep = \" \",\n",
    "                       names = [\"src\", \"trg\", \"start\", \"end\"])"
   ]
  },
  {
   "cell_type": "code",
   "execution_count": 3,
   "metadata": {},
   "outputs": [
    {
     "data": {
      "text/html": [
       "<div>\n",
       "<style scoped>\n",
       "    .dataframe tbody tr th:only-of-type {\n",
       "        vertical-align: middle;\n",
       "    }\n",
       "\n",
       "    .dataframe tbody tr th {\n",
       "        vertical-align: top;\n",
       "    }\n",
       "\n",
       "    .dataframe thead th {\n",
       "        text-align: right;\n",
       "    }\n",
       "</style>\n",
       "<table border=\"1\" class=\"dataframe\">\n",
       "  <thead>\n",
       "    <tr style=\"text-align: right;\">\n",
       "      <th></th>\n",
       "      <th>src</th>\n",
       "      <th>trg</th>\n",
       "      <th>start</th>\n",
       "      <th>end</th>\n",
       "    </tr>\n",
       "  </thead>\n",
       "  <tbody>\n",
       "    <tr>\n",
       "      <th>0</th>\n",
       "      <td>1</td>\n",
       "      <td>6</td>\n",
       "      <td>1028243088</td>\n",
       "      <td>1120917090</td>\n",
       "    </tr>\n",
       "    <tr>\n",
       "      <th>1</th>\n",
       "      <td>1</td>\n",
       "      <td>8</td>\n",
       "      <td>1029885647</td>\n",
       "      <td>1136791625</td>\n",
       "    </tr>\n",
       "    <tr>\n",
       "      <th>2</th>\n",
       "      <td>1</td>\n",
       "      <td>9</td>\n",
       "      <td>1029885647</td>\n",
       "      <td>1136791625</td>\n",
       "    </tr>\n",
       "    <tr>\n",
       "      <th>3</th>\n",
       "      <td>1</td>\n",
       "      <td>3</td>\n",
       "      <td>1028243088</td>\n",
       "      <td>1143227562</td>\n",
       "    </tr>\n",
       "    <tr>\n",
       "      <th>4</th>\n",
       "      <td>1</td>\n",
       "      <td>3</td>\n",
       "      <td>1146727453</td>\n",
       "      <td>1148998304</td>\n",
       "    </tr>\n",
       "  </tbody>\n",
       "</table>\n",
       "</div>"
      ],
      "text/plain": [
       "   src  trg       start         end\n",
       "0    1    6  1028243088  1120917090\n",
       "1    1    8  1029885647  1136791625\n",
       "2    1    9  1029885647  1136791625\n",
       "3    1    3  1028243088  1143227562\n",
       "4    1    3  1146727453  1148998304"
      ]
     },
     "execution_count": 3,
     "metadata": {},
     "output_type": "execute_result"
    }
   ],
   "source": [
    "temp_nw.head()"
   ]
  },
  {
   "cell_type": "code",
   "execution_count": 5,
   "metadata": {
    "collapsed": true
   },
   "outputs": [],
   "source": [
    "temp_nw['start'] = pd.to_datetime(temp_nw['start'], unit = 's') #convert Unix timestamps to date time, utc = 0\n",
    "temp_nw['end'] = pd.to_datetime(temp_nw['end'], unit = 's')"
   ]
  },
  {
   "cell_type": "code",
   "execution_count": 6,
   "metadata": {},
   "outputs": [
    {
     "data": {
      "text/html": [
       "<div>\n",
       "<style scoped>\n",
       "    .dataframe tbody tr th:only-of-type {\n",
       "        vertical-align: middle;\n",
       "    }\n",
       "\n",
       "    .dataframe tbody tr th {\n",
       "        vertical-align: top;\n",
       "    }\n",
       "\n",
       "    .dataframe thead th {\n",
       "        text-align: right;\n",
       "    }\n",
       "</style>\n",
       "<table border=\"1\" class=\"dataframe\">\n",
       "  <thead>\n",
       "    <tr style=\"text-align: right;\">\n",
       "      <th></th>\n",
       "      <th>src</th>\n",
       "      <th>trg</th>\n",
       "      <th>start</th>\n",
       "      <th>end</th>\n",
       "    </tr>\n",
       "  </thead>\n",
       "  <tbody>\n",
       "    <tr>\n",
       "      <th>0</th>\n",
       "      <td>1</td>\n",
       "      <td>6</td>\n",
       "      <td>2002-08-01 23:04:48</td>\n",
       "      <td>2005-07-09 13:51:30</td>\n",
       "    </tr>\n",
       "    <tr>\n",
       "      <th>1</th>\n",
       "      <td>1</td>\n",
       "      <td>8</td>\n",
       "      <td>2002-08-20 23:20:47</td>\n",
       "      <td>2006-01-09 07:27:05</td>\n",
       "    </tr>\n",
       "    <tr>\n",
       "      <th>2</th>\n",
       "      <td>1</td>\n",
       "      <td>9</td>\n",
       "      <td>2002-08-20 23:20:47</td>\n",
       "      <td>2006-01-09 07:27:05</td>\n",
       "    </tr>\n",
       "    <tr>\n",
       "      <th>3</th>\n",
       "      <td>1</td>\n",
       "      <td>3</td>\n",
       "      <td>2002-08-01 23:04:48</td>\n",
       "      <td>2006-03-24 19:12:42</td>\n",
       "    </tr>\n",
       "    <tr>\n",
       "      <th>4</th>\n",
       "      <td>1</td>\n",
       "      <td>3</td>\n",
       "      <td>2006-05-04 07:24:13</td>\n",
       "      <td>2006-05-30 14:11:44</td>\n",
       "    </tr>\n",
       "  </tbody>\n",
       "</table>\n",
       "</div>"
      ],
      "text/plain": [
       "   src  trg               start                 end\n",
       "0    1    6 2002-08-01 23:04:48 2005-07-09 13:51:30\n",
       "1    1    8 2002-08-20 23:20:47 2006-01-09 07:27:05\n",
       "2    1    9 2002-08-20 23:20:47 2006-01-09 07:27:05\n",
       "3    1    3 2002-08-01 23:04:48 2006-03-24 19:12:42\n",
       "4    1    3 2006-05-04 07:24:13 2006-05-30 14:11:44"
      ]
     },
     "execution_count": 6,
     "metadata": {},
     "output_type": "execute_result"
    }
   ],
   "source": [
    "temp_nw.head()"
   ]
  },
  {
   "cell_type": "code",
   "execution_count": 49,
   "metadata": {
    "collapsed": true
   },
   "outputs": [],
   "source": [
    "wiki = open(\"data/tgraph_real_wikiedithyperlinks_noTime.txt\", 'rb')\n",
    "G = nx.read_edgelist(wiki, create_using=nx.DiGraph())\n",
    "wiki.close()"
   ]
  },
  {
   "cell_type": "code",
   "execution_count": 50,
   "metadata": {
    "collapsed": true
   },
   "outputs": [],
   "source": [
    "def create_dataframe(G_in):\n",
    "    df_edge_in = pd.DataFrame(list(G_in.in_degree()), columns=['node', 'in edges'])\n",
    "    df_edge_out = pd.DataFrame(list(G_in.out_degree()), columns=['node', 'out edges'])\n",
    "    df_total = pd.merge(df_edge_in, df_edge_out, on='node')\n",
    "    df_total.index = df_total.index + 1\n",
    "    return df_total"
   ]
  },
  {
   "cell_type": "code",
   "execution_count": 54,
   "metadata": {},
   "outputs": [],
   "source": [
    "wiki_df = create_dataframe(G)"
   ]
  },
  {
   "cell_type": "markdown",
   "metadata": {},
   "source": [
    "We assume that the most changes will be tracked over course of months or years. Let's create a timestamp for every year: $T_i = $ 2002$+i$-01-01 00:00:00."
   ]
  },
  {
   "cell_type": "code",
   "execution_count": 7,
   "metadata": {},
   "outputs": [
    {
     "data": {
      "text/plain": [
       "{'T0': datetime.datetime(2002, 1, 1, 0, 0),\n",
       " 'T1': datetime.datetime(2003, 1, 1, 0, 0),\n",
       " 'T10': datetime.datetime(2012, 1, 1, 0, 0),\n",
       " 'T2': datetime.datetime(2004, 1, 1, 0, 0),\n",
       " 'T3': datetime.datetime(2005, 1, 1, 0, 0),\n",
       " 'T4': datetime.datetime(2006, 1, 1, 0, 0),\n",
       " 'T5': datetime.datetime(2007, 1, 1, 0, 0),\n",
       " 'T6': datetime.datetime(2008, 1, 1, 0, 0),\n",
       " 'T7': datetime.datetime(2009, 1, 1, 0, 0),\n",
       " 'T8': datetime.datetime(2010, 1, 1, 0, 0),\n",
       " 'T9': datetime.datetime(2011, 1, 1, 0, 0)}"
      ]
     },
     "execution_count": 7,
     "metadata": {},
     "output_type": "execute_result"
    }
   ],
   "source": [
    "# Create timestamps\n",
    "dTime={}\n",
    "for x in range(0,11):\n",
    "    year = 2002 + x\n",
    "    T = datetime.datetime(year, 1, 1, 0, 0, 0)\n",
    "    dTime[\"T{0}\".format(x)]=T\n",
    "dTime"
   ]
  },
  {
   "cell_type": "markdown",
   "metadata": {},
   "source": [
    "Now that we have these timestamps, let's generate some graphs, $G_0, G_1, G_2, G_3, G_4, G_5, G_6, G_7, G_8, G_9$, each containing only the edges that appear between $T_i$ and $T_{i+1}$ for $G_i$."
   ]
  },
  {
   "cell_type": "code",
   "execution_count": 9,
   "metadata": {},
   "outputs": [
    {
     "name": "stdout",
     "output_type": "stream",
     "text": [
      "df_G0: (56459, 4)\n",
      "df_G1: (210603, 4)\n",
      "df_G2: (502719, 4)\n",
      "df_G3: (1115759, 4)\n",
      "df_G4: (1685662, 4)\n",
      "df_G5: (1758664, 4)\n",
      "df_G6: (1618639, 4)\n",
      "df_G7: (1331689, 4)\n",
      "df_G8: (960662, 4)\n",
      "df_G9: (443777, 4)\n"
     ]
    }
   ],
   "source": [
    "# Create DataFrames for every timestamp\n",
    "dfG={}\n",
    "for x in range(0,10):\n",
    "    T0 = \"T{0}\".format(x)\n",
    "    T1 = \"T{0}\".format(x+1)\n",
    "    T0 = dTime.get(T0)\n",
    "    T1 = dTime.get(T1)\n",
    "    df_G = temp_nw.copy()\n",
    "    df_G = df_G[((df_G['start'] >= T0) & (df_G['start'] < T1)) | ((df_G['end'] > T0) & (df_G['end'] <= T1)) | \n",
    "                ((df_G['start'] < T0) & (df_G['end'] > T1))]\n",
    "    dfG[\"df_G{0}\".format(x)]=df_G\n",
    "    print(\"df_G{0}\".format(x) + \": \" + str(df_G.shape))"
   ]
  },
  {
   "cell_type": "code",
   "execution_count": 10,
   "metadata": {},
   "outputs": [
    {
     "data": {
      "text/html": [
       "<div>\n",
       "<style scoped>\n",
       "    .dataframe tbody tr th:only-of-type {\n",
       "        vertical-align: middle;\n",
       "    }\n",
       "\n",
       "    .dataframe tbody tr th {\n",
       "        vertical-align: top;\n",
       "    }\n",
       "\n",
       "    .dataframe thead th {\n",
       "        text-align: right;\n",
       "    }\n",
       "</style>\n",
       "<table border=\"1\" class=\"dataframe\">\n",
       "  <thead>\n",
       "    <tr style=\"text-align: right;\">\n",
       "      <th></th>\n",
       "      <th>Time</th>\n",
       "      <th>Edges</th>\n",
       "    </tr>\n",
       "  </thead>\n",
       "  <tbody>\n",
       "    <tr>\n",
       "      <th>0</th>\n",
       "      <td>2002 - 2003</td>\n",
       "      <td>56459</td>\n",
       "    </tr>\n",
       "    <tr>\n",
       "      <th>1</th>\n",
       "      <td>2003 - 2004</td>\n",
       "      <td>210603</td>\n",
       "    </tr>\n",
       "    <tr>\n",
       "      <th>2</th>\n",
       "      <td>2004 - 2005</td>\n",
       "      <td>502719</td>\n",
       "    </tr>\n",
       "    <tr>\n",
       "      <th>3</th>\n",
       "      <td>2005 - 2006</td>\n",
       "      <td>1115759</td>\n",
       "    </tr>\n",
       "    <tr>\n",
       "      <th>4</th>\n",
       "      <td>2006 - 2007</td>\n",
       "      <td>1685662</td>\n",
       "    </tr>\n",
       "    <tr>\n",
       "      <th>5</th>\n",
       "      <td>2007 - 2008</td>\n",
       "      <td>1758664</td>\n",
       "    </tr>\n",
       "    <tr>\n",
       "      <th>6</th>\n",
       "      <td>2008 - 2009</td>\n",
       "      <td>1618639</td>\n",
       "    </tr>\n",
       "    <tr>\n",
       "      <th>7</th>\n",
       "      <td>2009 - 2010</td>\n",
       "      <td>1331689</td>\n",
       "    </tr>\n",
       "    <tr>\n",
       "      <th>8</th>\n",
       "      <td>2010 - 2011</td>\n",
       "      <td>960662</td>\n",
       "    </tr>\n",
       "    <tr>\n",
       "      <th>9</th>\n",
       "      <td>2011 - 2012</td>\n",
       "      <td>443777</td>\n",
       "    </tr>\n",
       "  </tbody>\n",
       "</table>\n",
       "</div>"
      ],
      "text/plain": [
       "          Time    Edges\n",
       "0  2002 - 2003    56459\n",
       "1  2003 - 2004   210603\n",
       "2  2004 - 2005   502719\n",
       "3  2005 - 2006  1115759\n",
       "4  2006 - 2007  1685662\n",
       "5  2007 - 2008  1758664\n",
       "6  2008 - 2009  1618639\n",
       "7  2009 - 2010  1331689\n",
       "8  2010 - 2011   960662\n",
       "9  2011 - 2012   443777"
      ]
     },
     "execution_count": 10,
     "metadata": {},
     "output_type": "execute_result"
    }
   ],
   "source": [
    "#Create a DataFrame with the amount of edges during every period, so we can visualize it.\n",
    "lstEdges = list()\n",
    "lstTime = list()\n",
    "for x in range(0,10):\n",
    "    T = \"{0}\".format(2002+x) + \" - \" + \"{0}\".format(2002+x+1) \n",
    "    lstTime.append(T)\n",
    "    df = \"df_G{0}\".format(x); df = dfG.get(df)\n",
    "    lstEdges.append(df.shape[0])\n",
    "edges = pd.DataFrame({'Time': lstTime, 'Edges': lstEdges})\n",
    "cols = edges.columns.tolist()\n",
    "cols = cols[-1:] + cols[:-1]\n",
    "edges = edges[cols]\n",
    "edges"
   ]
  },
  {
   "cell_type": "code",
   "execution_count": 11,
   "metadata": {
    "collapsed": true
   },
   "outputs": [],
   "source": [
    "# Initialize a directed graph G from each of the given pandas dataframes.\n",
    "dG={}\n",
    "for x in range(0,10):\n",
    "    G = \"df_G{0}\".format(x)\n",
    "    G = dfG.get(G)\n",
    "    G = nx.from_pandas_dataframe(G, 'src', 'trg', edge_attr=None, create_using=nx.DiGraph())\n",
    "    dG[\"G{0}\".format(x)]=G"
   ]
  },
  {
   "cell_type": "markdown",
   "metadata": {},
   "source": [
    "#### Directed Graph used for temporal network analysis (igraph)"
   ]
  },
  {
   "cell_type": "markdown",
   "metadata": {},
   "source": [
    "Since we also need some functionalities of the $igraph$ library, we are going to make the same graphs in $igraph$."
   ]
  },
  {
   "cell_type": "code",
   "execution_count": 32,
   "metadata": {},
   "outputs": [],
   "source": [
    "for x in range(0,10):\n",
    "    G = \"G{0}\".format(x); G = dG.get(G)\n",
    "    nx.write_gml(G, 'data/gml_G{0}.gml'.format(x))\n",
    "\n",
    "G_i0 = igraph.Graph.Read_GML('data/gml_G0.gml')\n",
    "G_i1 = igraph.Graph.Read_GML('data/gml_G1.gml')\n",
    "G_i2 = igraph.Graph.Read_GML('data/gml_G2.gml')\n",
    "G_i3 = igraph.Graph.Read_GML('data/gml_G3.gml')\n",
    "G_i4 = igraph.Graph.Read_GML('data/gml_G4.gml')\n",
    "G_i5 = igraph.Graph.Read_GML('data/gml_G5.gml')\n",
    "G_i6 = igraph.Graph.Read_GML('data/gml_G6.gml')\n",
    "G_i7 = igraph.Graph.Read_GML('data/gml_G7.gml')\n",
    "G_i8 = igraph.Graph.Read_GML('data/gml_G8.gml')\n",
    "G_i9 = igraph.Graph.Read_GML('data/gml_G9.gml')"
   ]
  },
  {
   "cell_type": "code",
   "execution_count": 45,
   "metadata": {},
   "outputs": [
    {
     "data": {
      "text/plain": [
       "True"
      ]
     },
     "execution_count": 45,
     "metadata": {},
     "output_type": "execute_result"
    }
   ],
   "source": [
    "len(list(G_i0.vs)) == len(list(dG.get('G0'))) # just a random check"
   ]
  },
  {
   "cell_type": "markdown",
   "metadata": {},
   "source": [
    "### <font color=\"darkgreen\">1. Temporal Network Analysis:</font> Degree distribution"
   ]
  },
  {
   "cell_type": "markdown",
   "metadata": {},
   "source": [
    "In the static network analysis we have some interesting correlations between the degree distribution and certain pecularities of (group of) nodes and the graph in general. In this section we are going to state some hypotheses based on the context of the to be analyzed temporal data based and the insights we gained in the static network analysis. Since we are considering a network of pages with the nodes representing pages while the links represent links between the pages of a certain website/domain we expect there to be notable changes in time intervals of a year. This assumption was confirmed when we looked at the changes in the introduction of this task."
   ]
  },
  {
   "cell_type": "markdown",
   "metadata": {},
   "source": [
    "Let's formulate a hypothesis about the the temperal changes in the degree distribution over the devised time intervals in relation to our knowledge of the context of the network. In the static network analysis it was observed that there was a rather niche group of edges with a relatively high number of incoming edges compared to the averag in-degree of the rest of the network. The same goes for out-degree, there was also a rather small group of nodes in the network with a very high number of outgoing edges compared to the average out-degree found in the dataset\n",
    "\n",
    "Let's query these nodes for further assessment in the context of the temporal network analysis."
   ]
  },
  {
   "cell_type": "code",
   "execution_count": 55,
   "metadata": {},
   "outputs": [],
   "source": [
    "sorted_incoming_edges = wiki_df.sort_values(['in edges']).reset_index(drop = True)\n",
    "incoming_edges_top_1 = sorted_incoming_edges.iloc[99 * math.floor(sorted_incoming_edges.shape[0] / 100):]"
   ]
  },
  {
   "cell_type": "code",
   "execution_count": 56,
   "metadata": {},
   "outputs": [],
   "source": [
    "sorted_outgoing_edges = wiki_df.sort_values(['out edges']).reset_index(drop = True)\n",
    "outgoing_edges_top_1 = sorted_outgoing_edges.iloc[99 * math.floor(sorted_outgoing_edges.shape[0] / 100):]"
   ]
  },
  {
   "cell_type": "code",
   "execution_count": 241,
   "metadata": {},
   "outputs": [
    {
     "name": "stdout",
     "output_type": "stream",
     "text": [
      "['125', '740', '240', '442', '241', '300', '3546', '146', '149', '394']\n",
      "['970034', '16115', '598952', '707633', '9273', '707642', '377365', '9258', '154856', '306188']\n"
     ]
    }
   ],
   "source": [
    "top_1_incoming_edges = list(incoming_edges_top_1.node)\n",
    "top_1_outgoing_edges = list(outgoing_edges_top_1.node)\n",
    "print(top_1_incoming_edges[-10:])\n",
    "print(top_1_outgoing_edges[-10:])"
   ]
  },
  {
   "cell_type": "code",
   "execution_count": 247,
   "metadata": {
    "collapsed": true
   },
   "outputs": [],
   "source": [
    "top_1_in = [int(node) for node in top_1_incoming_edges]\n",
    "top_1_out = [int(node) for node in top_1_outgoing_edges]"
   ]
  },
  {
   "cell_type": "markdown",
   "metadata": {},
   "source": [
    "Now the static network analysis did not take time-stamps into consideration, but we can still conclude what in general, are relatively 'popular' pages in the graph and/or pages with a lot of outgoing links (hubs). That is exactly what the point is of these queries. "
   ]
  },
  {
   "cell_type": "markdown",
   "metadata": {},
   "source": [
    "The assumption is that pages that are relatively popular will change more than when you pick the same number of nodes at random in the network. This temporal network analysis of the degree distribtion is, therefore, going to be focused on this assumption."
   ]
  },
  {
   "cell_type": "markdown",
   "metadata": {},
   "source": [
    "It can be of course, that certain pages are added/removed during the different time-intervals even though this are probably not going to be the nodes that we just selected. But as we can see in the graph below, the top 1% vertices sorted on incoming-edges in graph remains in the network over the year, which makes sense of course."
   ]
  },
  {
   "cell_type": "code",
   "execution_count": 242,
   "metadata": {},
   "outputs": [
    {
     "name": "stdout",
     "output_type": "stream",
     "text": [
      "nodes in graph:  18672  top 1% vertices sorted on incoming-edges in graph:  3510\n",
      "nodes in graph:  18672  top 1% vertices sorted on outgoing-edges in graph:  1953\n",
      "nodes in graph:  53246  top 1% vertices sorted on incoming-edges in graph:  5362\n",
      "nodes in graph:  53246  top 1% vertices sorted on outgoing-edges in graph:  3269\n",
      "nodes in graph:  112997  top 1% vertices sorted on incoming-edges in graph:  6069\n",
      "nodes in graph:  112997  top 1% vertices sorted on outgoing-edges in graph:  4267\n",
      "nodes in graph:  226490  top 1% vertices sorted on incoming-edges in graph:  6506\n",
      "nodes in graph:  226490  top 1% vertices sorted on outgoing-edges in graph:  5254\n",
      "nodes in graph:  346339  top 1% vertices sorted on incoming-edges in graph:  6632\n",
      "nodes in graph:  346339  top 1% vertices sorted on outgoing-edges in graph:  5913\n",
      "nodes in graph:  415173  top 1% vertices sorted on incoming-edges in graph:  6674\n",
      "nodes in graph:  415173  top 1% vertices sorted on outgoing-edges in graph:  6295\n",
      "nodes in graph:  440817  top 1% vertices sorted on incoming-edges in graph:  6661\n",
      "nodes in graph:  440817  top 1% vertices sorted on outgoing-edges in graph:  6449\n",
      "nodes in graph:  416688  top 1% vertices sorted on incoming-edges in graph:  6614\n",
      "nodes in graph:  416688  top 1% vertices sorted on outgoing-edges in graph:  6485\n",
      "nodes in graph:  362955  top 1% vertices sorted on incoming-edges in graph:  6480\n",
      "nodes in graph:  362955  top 1% vertices sorted on outgoing-edges in graph:  6469\n",
      "nodes in graph:  221517  top 1% vertices sorted on incoming-edges in graph:  6177\n",
      "nodes in graph:  221517  top 1% vertices sorted on outgoing-edges in graph:  6035\n"
     ]
    }
   ],
   "source": [
    "for df_g in dG:\n",
    "    nodes_in_graph = set(dG.get(df_g).node)\n",
    "    \n",
    "    top_1_incoming_common = list(set(top_1_in).intersection(nodes_in_graph))\n",
    "    print(\"nodes in graph: \", len(nodes_in_graph), \" top 1% vertices sorted on incoming-edges in graph: \", len(top_1_incoming_common))\n",
    "    top_1_outgoing_common = list(set(top_1_out).intersection(nodes_in_graph))\n",
    "    print(\"nodes in graph: \", len(nodes_in_graph), \" top 1% vertices sorted on outgoing-edges in graph: \", len(top_1_outgoing_common))"
   ]
  },
  {
   "cell_type": "markdown",
   "metadata": {},
   "source": [
    "We thus know that the defined top 1% on incoming edges and the top 1% on outgoing edges both have 6796 nodes and that these nodes appear quite frequent in the ten networks of the different years, which is expected. Especially from nodes with a high number of incoming edges since these would be should be quite popular pages. The next step is in the evaluation of the hypothesis is to select the same number of nodes, at random, that also appear in the network of all the years, excluding these 6796 nodes. "
   ]
  },
  {
   "cell_type": "code",
   "execution_count": 243,
   "metadata": {},
   "outputs": [
    {
     "name": "stdout",
     "output_type": "stream",
     "text": [
      "number of nodes accross all years:  678907\n"
     ]
    }
   ],
   "source": [
    "all_nodes = set(wiki_df.node); print(\"number of nodes accross all years: \", len(all_nodes))\n",
    "all_nodes = all_nodes.difference(set(top_1_incoming_edges))\n",
    "all_nodes = all_nodes.difference(set(top_1_outgoing_edges))"
   ]
  },
  {
   "cell_type": "code",
   "execution_count": 244,
   "metadata": {},
   "outputs": [],
   "source": [
    "random_selected_nodes = {int(node) for node in all_nodes}"
   ]
  },
  {
   "cell_type": "markdown",
   "metadata": {},
   "source": [
    "The next step is to iterate over all the networks of all the years and assess which nodes also appear in all the networks."
   ]
  },
  {
   "cell_type": "code",
   "execution_count": 245,
   "metadata": {},
   "outputs": [
    {
     "data": {
      "text/plain": [
       "7109"
      ]
     },
     "execution_count": 245,
     "metadata": {},
     "output_type": "execute_result"
    }
   ],
   "source": [
    "for df_g in dG:\n",
    "    global random_selected_nodes\n",
    "    nodes_in_graph = set(dG.get(df_g).node)\n",
    "    random_selected_nodes = random_selected_nodes.intersection(nodes_in_graph)\n",
    "\n",
    "len(random_selected_nodes)"
   ]
  },
  {
   "cell_type": "markdown",
   "metadata": {},
   "source": [
    "Coincidentally, this is just enough to select 6796 random nodes (but we need a bit less for each year as we have seen before) out of this collection (note that we have already removed the two size-6976 top collections out of the collection before the intersection with the nodes of the various networks.) While there is already a lot of randomness introduced, we will also remove the last set of nodes at random to end up with a collection of len randomly selected nodes to evaluate the change of the degree of these nodes over time compared to the top groups that were devised. This will be done at each seperately to make sure that we evaluate the same number of nodes in each year, depending on the number of nodes of the top in/out-going groups in those particular years."
   ]
  },
  {
   "cell_type": "code",
   "execution_count": 206,
   "metadata": {
    "collapsed": true
   },
   "outputs": [],
   "source": [
    "import random; random.seed(88)"
   ]
  },
  {
   "cell_type": "markdown",
   "metadata": {},
   "source": [
    "Note that random sampling function does random sampling without replacement, so there is no risk of having the same node twice in the collection."
   ]
  },
  {
   "cell_type": "markdown",
   "metadata": {},
   "source": [
    "The next step is to actually test our hypothesis. The choice is made to do this by comparing visualizations of the change over the selected time-intervals (years), asses absolute changes over the intervals and lastly to asses relative changes in these intervals."
   ]
  },
  {
   "cell_type": "code",
   "execution_count": 262,
   "metadata": {},
   "outputs": [],
   "source": [
    "def comparing_methods(random_nodes):\n",
    "    dict_values_all_years = {}\n",
    "    for network in dG:\n",
    "        dict_values = {}\n",
    "        G_year = dG.get(network)\n",
    "        \n",
    "        nodes_network =  set(G_year.node)\n",
    "        nodes_intersection_in = list(set(top_1_in).intersection(nodes_network))\n",
    "        number_of_nodes_in = len(nodes_intersection_in)\n",
    "        nodes_intersection_out = list(set(top_1_out).intersection(nodes_network))\n",
    "        number_of_nodes_out = len(nodes_intersection_out)\n",
    "        \n",
    "        if(random_nodes):\n",
    "            nodes_intersection_in = random.sample(population = list(nodes_network), k = number_of_nodes_in)\n",
    "            nodes_intersection_out = random.sample(population = list(nodes_network), k = number_of_nodes_out)\n",
    "        \n",
    "        in_degree_nodes = [G_year.in_degree(node) for node in nodes_intersection_in]\n",
    "        out_degree_nodes = [G_year.out_degree(node) for node in nodes_intersection_out]\n",
    "        \n",
    "        dict_values['number_of_nodes_in'] = number_of_nodes_in\n",
    "        dict_values['number_of_nodes_out'] = number_of_nodes_out\n",
    "        \n",
    "        total_in = sum(in_degree_nodes); total_out = sum(out_degree_nodes)\n",
    "        dict_values['total_in_degree'] = total_in\n",
    "        dict_values['total_out_degree'] = total_out\n",
    "        \n",
    "        avg_in_degree = round(total_in / len(nodes_intersection_in), 3)\n",
    "        avg_out_degree = round(total_out / len(nodes_intersection_out), 3)\n",
    "        dict_values['avg_in_degree'] = avg_in_degree\n",
    "        dict_values['avg_out_degree'] = avg_out_degree\n",
    "        \n",
    "        dict_values_all_years[network] = dict_values\n",
    "    return dict_values_all_years"
   ]
  },
  {
   "cell_type": "code",
   "execution_count": 264,
   "metadata": {},
   "outputs": [
    {
     "name": "stdout",
     "output_type": "stream",
     "text": [
      "{'G0': {'number_of_nodes_in': 3510, 'number_of_nodes_out': 1953, 'total_in_degree': 10162, 'total_out_degree': 4958, 'avg_in_degree': 2.895, 'avg_out_degree': 2.539}, 'G1': {'number_of_nodes_in': 5362, 'number_of_nodes_out': 3269, 'total_in_degree': 19443, 'total_out_degree': 12611, 'avg_in_degree': 3.626, 'avg_out_degree': 3.858}, 'G2': {'number_of_nodes_in': 6069, 'number_of_nodes_out': 4267, 'total_in_degree': 22616, 'total_out_degree': 16802, 'avg_in_degree': 3.726, 'avg_out_degree': 3.938}, 'G3': {'number_of_nodes_in': 6506, 'number_of_nodes_out': 5254, 'total_in_degree': 31479, 'total_out_degree': 21135, 'avg_in_degree': 4.838, 'avg_out_degree': 4.023}, 'G4': {'number_of_nodes_in': 6632, 'number_of_nodes_out': 5913, 'total_in_degree': 24254, 'total_out_degree': 23817, 'avg_in_degree': 3.657, 'avg_out_degree': 4.028}, 'G5': {'number_of_nodes_in': 6674, 'number_of_nodes_out': 6295, 'total_in_degree': 26319, 'total_out_degree': 25486, 'avg_in_degree': 3.944, 'avg_out_degree': 4.049}, 'G6': {'number_of_nodes_in': 6661, 'number_of_nodes_out': 6449, 'total_in_degree': 21752, 'total_out_degree': 19726, 'avg_in_degree': 3.266, 'avg_out_degree': 3.059}, 'G7': {'number_of_nodes_in': 6614, 'number_of_nodes_out': 6485, 'total_in_degree': 20202, 'total_out_degree': 16872, 'avg_in_degree': 3.054, 'avg_out_degree': 2.602}, 'G8': {'number_of_nodes_in': 6480, 'number_of_nodes_out': 6469, 'total_in_degree': 15753, 'total_out_degree': 15486, 'avg_in_degree': 2.431, 'avg_out_degree': 2.394}, 'G9': {'number_of_nodes_in': 6177, 'number_of_nodes_out': 6035, 'total_in_degree': 10232, 'total_out_degree': 10028, 'avg_in_degree': 1.656, 'avg_out_degree': 1.662}}\n"
     ]
    }
   ],
   "source": [
    "random_nodes_values = comparing_methods(random_nodes = True)\n",
    "print(random_nodes_values)"
   ]
  },
  {
   "cell_type": "code",
   "execution_count": 266,
   "metadata": {},
   "outputs": [
    {
     "name": "stdout",
     "output_type": "stream",
     "text": [
      "{'G0': {'number_of_nodes_in': 3510, 'number_of_nodes_out': 1953, 'total_in_degree': 29260, 'total_out_degree': 31631, 'avg_in_degree': 8.336, 'avg_out_degree': 16.196}, 'G1': {'number_of_nodes_in': 5362, 'number_of_nodes_out': 3269, 'total_in_degree': 100687, 'total_out_degree': 102102, 'avg_in_degree': 18.778, 'avg_out_degree': 31.233}, 'G2': {'number_of_nodes_in': 6069, 'number_of_nodes_out': 4267, 'total_in_degree': 234083, 'total_out_degree': 203028, 'avg_in_degree': 38.57, 'avg_out_degree': 47.581}, 'G3': {'number_of_nodes_in': 6506, 'number_of_nodes_out': 5254, 'total_in_degree': 510990, 'total_out_degree': 364517, 'avg_in_degree': 78.541, 'avg_out_degree': 69.379}, 'G4': {'number_of_nodes_in': 6632, 'number_of_nodes_out': 5913, 'total_in_degree': 667743, 'total_out_degree': 482145, 'avg_in_degree': 100.685, 'avg_out_degree': 81.54}, 'G5': {'number_of_nodes_in': 6674, 'number_of_nodes_out': 6295, 'total_in_degree': 678231, 'total_out_degree': 516011, 'avg_in_degree': 101.623, 'avg_out_degree': 81.972}, 'G6': {'number_of_nodes_in': 6661, 'number_of_nodes_out': 6449, 'total_in_degree': 605339, 'total_out_degree': 478839, 'avg_in_degree': 90.878, 'avg_out_degree': 74.25}, 'G7': {'number_of_nodes_in': 6614, 'number_of_nodes_out': 6485, 'total_in_degree': 507101, 'total_out_degree': 392698, 'avg_in_degree': 76.671, 'avg_out_degree': 60.555}, 'G8': {'number_of_nodes_in': 6480, 'number_of_nodes_out': 6469, 'total_in_degree': 343908, 'total_out_degree': 292545, 'avg_in_degree': 53.072, 'avg_out_degree': 45.223}, 'G9': {'number_of_nodes_in': 6177, 'number_of_nodes_out': 6035, 'total_in_degree': 160550, 'total_out_degree': 135422, 'avg_in_degree': 25.992, 'avg_out_degree': 22.439}}\n"
     ]
    }
   ],
   "source": [
    "top_groups_values = comparing_methods(random_nodes = False) # in other words, use top 1% incoming/outgoing edges nodes\n",
    "print(top_groups_values)"
   ]
  },
  {
   "cell_type": "code",
   "execution_count": 279,
   "metadata": {},
   "outputs": [],
   "source": [
    "def visualize_changes(dict_values1, dict_values2):\n",
    "    years = np.arange(10)\n",
    "    number_of_nodes_in1 = number_of_nodes_out1 = total_in_degree1 = total_out_degree1 = np.empty((0, 10), dtype = int)\n",
    "    avg_in_degree1 = avg_out_degree1 = np.empty((0, 10), dtype = float)\n",
    "    \n",
    "    number_of_nodes_in2 = number_of_nodes_out2 = total_in_degree2 = total_out_degree2 = np.empty((0, 10), dtype = int)\n",
    "    avg_in_degree2 = avg_out_degree2 = np.empty((0, 10), dtype = float)\n",
    "    \n",
    "    for network_year in dG:\n",
    "        values_year1 = dict_values1.get(network_year)\n",
    "        number_of_nodes_in1 = np.append(number_of_nodes_in1, [values_year1.get('number_of_nodes_in')])\n",
    "        number_of_nodes_out1 = np.append(number_of_nodes_out1, [values_year1.get('number_of_nodes_out')])\n",
    "        total_in_degree1 = np.append(total_in_degree1, [values_year1.get('avg_in_degree')])\n",
    "        total_out_degree1 = np.append(total_out_degree1, [values_year1.get('avg_out_degree')])\n",
    "        avg_in_degree1 = np.append(avg_out_degree1, [values_year1.get('number_of_nodes_in')])\n",
    "        avg_out_degree1 = np.append(avg_out_degree1, [values_year1.get('number_of_nodes_out')])\n",
    "        \n",
    "        values_year2 = dict_values2.get(network_year)\n",
    "        number_of_nodes_in2 = np.append(number_of_nodes_in2, [values_year2.get('number_of_nodes_in')])\n",
    "        number_of_nodes_out2 = np.append(number_of_nodes_out2, [values_year2.get('number_of_nodes_out')])\n",
    "        total_in_degree2 = np.append(total_in_degree2, [values_year2.get('avg_in_degree')])\n",
    "        total_out_degree2 = np.append(total_out_degree2, [values_year2.get('avg_out_degree')])\n",
    "        avg_in_degree2 = np.append(avg_out_degree2, [values_year2.get('number_of_nodes_in')])\n",
    "        avg_out_degree2 = np.append(avg_out_degree2, [values_year2.get('number_of_nodes_out')])\n",
    "    \n",
    "    print(\"Change number of nodes\\n\")\n",
    "    print(\"Top groups\\n\")\n",
    "    plt.plot(years, number_of_nodes_in1)\n",
    "    plt.show()\n",
    "    # to do: rest of values"
   ]
  },
  {
   "cell_type": "code",
   "execution_count": 280,
   "metadata": {},
   "outputs": [
    {
     "name": "stdout",
     "output_type": "stream",
     "text": [
      "Change number of nodes\n",
      "\n",
      "Top groups\n",
      "\n"
     ]
    },
    {
     "data": {
      "image/png": "[encoded data removed]",
      "text/plain": [
       "<matplotlib.figure.Figure at 0x23bba6ce518>"
      ]
     },
     "metadata": {},
     "output_type": "display_data"
    }
   ],
   "source": [
    "visualize_changes(top_groups_values, random_nodes_values)"
   ]
  },
  {
   "cell_type": "markdown",
   "metadata": {},
   "source": [
    "### <font color=\"darkgreen\">2. Temporal Network Analysis:</font> Dyads and Reciprocity"
   ]
  }
 ],
 "metadata": {
  "kernelspec": {
   "display_name": "Python 3",
   "language": "python",
   "name": "python3"
  },
  "language_info": {
   "codemirror_mode": {
    "name": "ipython",
    "version": 3
   },
   "file_extension": ".py",
   "mimetype": "text/x-python",
   "name": "python",
   "nbconvert_exporter": "python",
   "pygments_lexer": "ipython3",
   "version": "3.6.3"
  }
 },
 "nbformat": 4,
 "nbformat_minor": 2
}
