{
 "cells": [
  {
   "cell_type": "markdown",
   "metadata": {},
   "source": [
    "### Task 2: Temporal Network Analysis\n",
    "* Degree (in-degree/out-degree)\n",
    "* Dyads and Reciprocity"
   ]
  },
  {
   "cell_type": "markdown",
   "metadata": {},
   "source": [
    "A temporal network is goint to be analysed which consists of 678907 vertices and 4729035 edges, where each edge has time information associated with it. Some of the edges have the same source and target vertex, but are association with different timestamps. These timestamps are going to be used in this temporal netwrok analysis to asses and evaluate the evolution of grapg properties by analyzing the changes of the devised measuredby by exploring different time intervals and scales which define time windows to be used."
   ]
  },
  {
   "cell_type": "markdown",
   "metadata": {},
   "source": [
    "### <font color=\"darkgreen\">Imports, configuation and preprocessing</font>"
   ]
  },
  {
   "cell_type": "code",
   "execution_count": 1,
   "metadata": {
    "collapsed": true
   },
   "outputs": [],
   "source": [
    "import pandas as pd\n",
    "import numpy as np\n",
    "import networkx as nx\n",
    "import matplotlib.pyplot as plt\n",
    "import seaborn as sns\n",
    "import math\n",
    "import igraph\n",
    "import datetime"
   ]
  },
  {
   "cell_type": "code",
   "execution_count": 2,
   "metadata": {
    "collapsed": true
   },
   "outputs": [],
   "source": [
    "temp_nw = pd.read_table(\"./data/tgraph_real_wikiedithyperlinks.txt\", header = None, sep = \" \",\n",
    "                       names = [\"src\", \"trg\", \"start\", \"end\"])"
   ]
  },
  {
   "cell_type": "code",
   "execution_count": 3,
   "metadata": {},
   "outputs": [
    {
     "data": {
      "text/html": [
       "<div>\n",
       "<style scoped>\n",
       "    .dataframe tbody tr th:only-of-type {\n",
       "        vertical-align: middle;\n",
       "    }\n",
       "\n",
       "    .dataframe tbody tr th {\n",
       "        vertical-align: top;\n",
       "    }\n",
       "\n",
       "    .dataframe thead th {\n",
       "        text-align: right;\n",
       "    }\n",
       "</style>\n",
       "<table border=\"1\" class=\"dataframe\">\n",
       "  <thead>\n",
       "    <tr style=\"text-align: right;\">\n",
       "      <th></th>\n",
       "      <th>src</th>\n",
       "      <th>trg</th>\n",
       "      <th>start</th>\n",
       "      <th>end</th>\n",
       "    </tr>\n",
       "  </thead>\n",
       "  <tbody>\n",
       "    <tr>\n",
       "      <th>0</th>\n",
       "      <td>1</td>\n",
       "      <td>6</td>\n",
       "      <td>1028243088</td>\n",
       "      <td>1120917090</td>\n",
       "    </tr>\n",
       "    <tr>\n",
       "      <th>1</th>\n",
       "      <td>1</td>\n",
       "      <td>8</td>\n",
       "      <td>1029885647</td>\n",
       "      <td>1136791625</td>\n",
       "    </tr>\n",
       "    <tr>\n",
       "      <th>2</th>\n",
       "      <td>1</td>\n",
       "      <td>9</td>\n",
       "      <td>1029885647</td>\n",
       "      <td>1136791625</td>\n",
       "    </tr>\n",
       "    <tr>\n",
       "      <th>3</th>\n",
       "      <td>1</td>\n",
       "      <td>3</td>\n",
       "      <td>1028243088</td>\n",
       "      <td>1143227562</td>\n",
       "    </tr>\n",
       "    <tr>\n",
       "      <th>4</th>\n",
       "      <td>1</td>\n",
       "      <td>3</td>\n",
       "      <td>1146727453</td>\n",
       "      <td>1148998304</td>\n",
       "    </tr>\n",
       "  </tbody>\n",
       "</table>\n",
       "</div>"
      ],
      "text/plain": [
       "   src  trg       start         end\n",
       "0    1    6  1028243088  1120917090\n",
       "1    1    8  1029885647  1136791625\n",
       "2    1    9  1029885647  1136791625\n",
       "3    1    3  1028243088  1143227562\n",
       "4    1    3  1146727453  1148998304"
      ]
     },
     "execution_count": 3,
     "metadata": {},
     "output_type": "execute_result"
    }
   ],
   "source": [
    "temp_nw.head()"
   ]
  },
  {
   "cell_type": "code",
   "execution_count": 4,
   "metadata": {
    "collapsed": true
   },
   "outputs": [],
   "source": [
    "temp_nw['start'] = pd.to_datetime(temp_nw['start'], unit = 's') #convert Unix timestamps to date time, utc = 0\n",
    "temp_nw['end'] = pd.to_datetime(temp_nw['end'], unit = 's')"
   ]
  },
  {
   "cell_type": "code",
   "execution_count": 5,
   "metadata": {},
   "outputs": [
    {
     "data": {
      "text/html": [
       "<div>\n",
       "<style scoped>\n",
       "    .dataframe tbody tr th:only-of-type {\n",
       "        vertical-align: middle;\n",
       "    }\n",
       "\n",
       "    .dataframe tbody tr th {\n",
       "        vertical-align: top;\n",
       "    }\n",
       "\n",
       "    .dataframe thead th {\n",
       "        text-align: right;\n",
       "    }\n",
       "</style>\n",
       "<table border=\"1\" class=\"dataframe\">\n",
       "  <thead>\n",
       "    <tr style=\"text-align: right;\">\n",
       "      <th></th>\n",
       "      <th>src</th>\n",
       "      <th>trg</th>\n",
       "      <th>start</th>\n",
       "      <th>end</th>\n",
       "    </tr>\n",
       "  </thead>\n",
       "  <tbody>\n",
       "    <tr>\n",
       "      <th>0</th>\n",
       "      <td>1</td>\n",
       "      <td>6</td>\n",
       "      <td>2002-08-01 23:04:48</td>\n",
       "      <td>2005-07-09 13:51:30</td>\n",
       "    </tr>\n",
       "    <tr>\n",
       "      <th>1</th>\n",
       "      <td>1</td>\n",
       "      <td>8</td>\n",
       "      <td>2002-08-20 23:20:47</td>\n",
       "      <td>2006-01-09 07:27:05</td>\n",
       "    </tr>\n",
       "    <tr>\n",
       "      <th>2</th>\n",
       "      <td>1</td>\n",
       "      <td>9</td>\n",
       "      <td>2002-08-20 23:20:47</td>\n",
       "      <td>2006-01-09 07:27:05</td>\n",
       "    </tr>\n",
       "    <tr>\n",
       "      <th>3</th>\n",
       "      <td>1</td>\n",
       "      <td>3</td>\n",
       "      <td>2002-08-01 23:04:48</td>\n",
       "      <td>2006-03-24 19:12:42</td>\n",
       "    </tr>\n",
       "    <tr>\n",
       "      <th>4</th>\n",
       "      <td>1</td>\n",
       "      <td>3</td>\n",
       "      <td>2006-05-04 07:24:13</td>\n",
       "      <td>2006-05-30 14:11:44</td>\n",
       "    </tr>\n",
       "  </tbody>\n",
       "</table>\n",
       "</div>"
      ],
      "text/plain": [
       "   src  trg               start                 end\n",
       "0    1    6 2002-08-01 23:04:48 2005-07-09 13:51:30\n",
       "1    1    8 2002-08-20 23:20:47 2006-01-09 07:27:05\n",
       "2    1    9 2002-08-20 23:20:47 2006-01-09 07:27:05\n",
       "3    1    3 2002-08-01 23:04:48 2006-03-24 19:12:42\n",
       "4    1    3 2006-05-04 07:24:13 2006-05-30 14:11:44"
      ]
     },
     "execution_count": 5,
     "metadata": {},
     "output_type": "execute_result"
    }
   ],
   "source": [
    "temp_nw.head()"
   ]
  },
  {
   "cell_type": "code",
   "execution_count": 6,
   "metadata": {
    "collapsed": true
   },
   "outputs": [],
   "source": [
    "wiki = open(\"data/tgraph_real_wikiedithyperlinks_noTime.txt\", 'rb')\n",
    "G = nx.read_edgelist(wiki, create_using=nx.DiGraph())\n",
    "wiki.close()"
   ]
  },
  {
   "cell_type": "code",
   "execution_count": 7,
   "metadata": {
    "collapsed": true
   },
   "outputs": [],
   "source": [
    "def create_dataframe(G_in):\n",
    "    df_edge_in = pd.DataFrame(list(G_in.in_degree()), columns=['node', 'in edges'])\n",
    "    df_edge_out = pd.DataFrame(list(G_in.out_degree()), columns=['node', 'out edges'])\n",
    "    df_total = pd.merge(df_edge_in, df_edge_out, on='node')\n",
    "    df_total.index = df_total.index + 1\n",
    "    return df_total"
   ]
  },
  {
   "cell_type": "code",
   "execution_count": 8,
   "metadata": {
    "collapsed": true
   },
   "outputs": [],
   "source": [
    "wiki_df = create_dataframe(G)"
   ]
  },
  {
   "cell_type": "markdown",
   "metadata": {},
   "source": [
    "We assume that the most changes will be tracked over course of months or years. Let's create a timestamp for every year: $T_i = $ 2002$+i$-01-01 00:00:00."
   ]
  },
  {
   "cell_type": "code",
   "execution_count": 9,
   "metadata": {},
   "outputs": [
    {
     "data": {
      "text/plain": [
       "{'T0': datetime.datetime(2002, 1, 1, 0, 0),\n",
       " 'T1': datetime.datetime(2003, 1, 1, 0, 0),\n",
       " 'T10': datetime.datetime(2012, 1, 1, 0, 0),\n",
       " 'T2': datetime.datetime(2004, 1, 1, 0, 0),\n",
       " 'T3': datetime.datetime(2005, 1, 1, 0, 0),\n",
       " 'T4': datetime.datetime(2006, 1, 1, 0, 0),\n",
       " 'T5': datetime.datetime(2007, 1, 1, 0, 0),\n",
       " 'T6': datetime.datetime(2008, 1, 1, 0, 0),\n",
       " 'T7': datetime.datetime(2009, 1, 1, 0, 0),\n",
       " 'T8': datetime.datetime(2010, 1, 1, 0, 0),\n",
       " 'T9': datetime.datetime(2011, 1, 1, 0, 0)}"
      ]
     },
     "execution_count": 9,
     "metadata": {},
     "output_type": "execute_result"
    }
   ],
   "source": [
    "# Create timestamps\n",
    "dTime={}\n",
    "for x in range(0,11):\n",
    "    year = 2002 + x\n",
    "    T = datetime.datetime(year, 1, 1, 0, 0, 0)\n",
    "    dTime[\"T{0}\".format(x)]=T\n",
    "dTime"
   ]
  },
  {
   "cell_type": "markdown",
   "metadata": {},
   "source": [
    "Now that we have these timestamps, let's generate some graphs, $G_0, G_1, G_2, G_3, G_4, G_5, G_6, G_7, G_8, G_9$, each containing only the edges that appear between $T_i$ and $T_{i+1}$ for $G_i$."
   ]
  },
  {
   "cell_type": "code",
   "execution_count": 10,
   "metadata": {},
   "outputs": [
    {
     "name": "stdout",
     "output_type": "stream",
     "text": [
      "df_G0: (56459, 4)\n",
      "df_G1: (210603, 4)\n",
      "df_G2: (502719, 4)\n",
      "df_G3: (1115759, 4)\n",
      "df_G4: (1685662, 4)\n",
      "df_G5: (1758664, 4)\n",
      "df_G6: (1618639, 4)\n",
      "df_G7: (1331689, 4)\n",
      "df_G8: (960662, 4)\n",
      "df_G9: (443777, 4)\n"
     ]
    }
   ],
   "source": [
    "# Create DataFrames for every timestamp\n",
    "dfG={}\n",
    "for x in range(0,10):\n",
    "    T0 = \"T{0}\".format(x)\n",
    "    T1 = \"T{0}\".format(x+1)\n",
    "    T0 = dTime.get(T0)\n",
    "    T1 = dTime.get(T1)\n",
    "    df_G = temp_nw.copy()\n",
    "    df_G = df_G[((df_G['start'] >= T0) & (df_G['start'] < T1)) | ((df_G['end'] > T0) & (df_G['end'] <= T1)) | \n",
    "                ((df_G['start'] < T0) & (df_G['end'] > T1))]\n",
    "    dfG[\"df_G{0}\".format(x)]=df_G\n",
    "    print(\"df_G{0}\".format(x) + \": \" + str(df_G.shape))"
   ]
  },
  {
   "cell_type": "code",
   "execution_count": 11,
   "metadata": {},
   "outputs": [
    {
     "data": {
      "text/html": [
       "<div>\n",
       "<style scoped>\n",
       "    .dataframe tbody tr th:only-of-type {\n",
       "        vertical-align: middle;\n",
       "    }\n",
       "\n",
       "    .dataframe tbody tr th {\n",
       "        vertical-align: top;\n",
       "    }\n",
       "\n",
       "    .dataframe thead th {\n",
       "        text-align: right;\n",
       "    }\n",
       "</style>\n",
       "<table border=\"1\" class=\"dataframe\">\n",
       "  <thead>\n",
       "    <tr style=\"text-align: right;\">\n",
       "      <th></th>\n",
       "      <th>Time</th>\n",
       "      <th>Edges</th>\n",
       "    </tr>\n",
       "  </thead>\n",
       "  <tbody>\n",
       "    <tr>\n",
       "      <th>0</th>\n",
       "      <td>2002 - 2003</td>\n",
       "      <td>56459</td>\n",
       "    </tr>\n",
       "    <tr>\n",
       "      <th>1</th>\n",
       "      <td>2003 - 2004</td>\n",
       "      <td>210603</td>\n",
       "    </tr>\n",
       "    <tr>\n",
       "      <th>2</th>\n",
       "      <td>2004 - 2005</td>\n",
       "      <td>502719</td>\n",
       "    </tr>\n",
       "    <tr>\n",
       "      <th>3</th>\n",
       "      <td>2005 - 2006</td>\n",
       "      <td>1115759</td>\n",
       "    </tr>\n",
       "    <tr>\n",
       "      <th>4</th>\n",
       "      <td>2006 - 2007</td>\n",
       "      <td>1685662</td>\n",
       "    </tr>\n",
       "    <tr>\n",
       "      <th>5</th>\n",
       "      <td>2007 - 2008</td>\n",
       "      <td>1758664</td>\n",
       "    </tr>\n",
       "    <tr>\n",
       "      <th>6</th>\n",
       "      <td>2008 - 2009</td>\n",
       "      <td>1618639</td>\n",
       "    </tr>\n",
       "    <tr>\n",
       "      <th>7</th>\n",
       "      <td>2009 - 2010</td>\n",
       "      <td>1331689</td>\n",
       "    </tr>\n",
       "    <tr>\n",
       "      <th>8</th>\n",
       "      <td>2010 - 2011</td>\n",
       "      <td>960662</td>\n",
       "    </tr>\n",
       "    <tr>\n",
       "      <th>9</th>\n",
       "      <td>2011 - 2012</td>\n",
       "      <td>443777</td>\n",
       "    </tr>\n",
       "  </tbody>\n",
       "</table>\n",
       "</div>"
      ],
      "text/plain": [
       "          Time    Edges\n",
       "0  2002 - 2003    56459\n",
       "1  2003 - 2004   210603\n",
       "2  2004 - 2005   502719\n",
       "3  2005 - 2006  1115759\n",
       "4  2006 - 2007  1685662\n",
       "5  2007 - 2008  1758664\n",
       "6  2008 - 2009  1618639\n",
       "7  2009 - 2010  1331689\n",
       "8  2010 - 2011   960662\n",
       "9  2011 - 2012   443777"
      ]
     },
     "execution_count": 11,
     "metadata": {},
     "output_type": "execute_result"
    }
   ],
   "source": [
    "#Create a DataFrame with the amount of edges during every period, so we can visualize it.\n",
    "lstEdges = list()\n",
    "lstTime = list()\n",
    "for x in range(0,10):\n",
    "    T = \"{0}\".format(2002+x) + \" - \" + \"{0}\".format(2002+x+1) \n",
    "    lstTime.append(T)\n",
    "    df = \"df_G{0}\".format(x); df = dfG.get(df)\n",
    "    lstEdges.append(df.shape[0])\n",
    "edges = pd.DataFrame({'Time': lstTime, 'Edges': lstEdges})\n",
    "cols = edges.columns.tolist()\n",
    "cols = cols[-1:] + cols[:-1]\n",
    "edges = edges[cols]\n",
    "edges"
   ]
  },
  {
   "cell_type": "code",
   "execution_count": 12,
   "metadata": {
    "collapsed": true
   },
   "outputs": [],
   "source": [
    "# Initialize a directed graph G from each of the given pandas dataframes.\n",
    "dG={}\n",
    "for x in range(0,10):\n",
    "    G = \"df_G{0}\".format(x)\n",
    "    G = dfG.get(G)\n",
    "    G = nx.from_pandas_dataframe(G, 'src', 'trg', edge_attr=None, create_using=nx.DiGraph())\n",
    "    dG[\"G{0}\".format(x)]=G"
   ]
  },
  {
   "cell_type": "markdown",
   "metadata": {},
   "source": [
    "#### Directed Graph used for temporal network analysis (igraph)"
   ]
  },
  {
   "cell_type": "markdown",
   "metadata": {},
   "source": [
    "Since we also need some functionalities of the $igraph$ library, we are going to make the same graphs in $igraph$."
   ]
  },
  {
   "cell_type": "code",
   "execution_count": 13,
   "metadata": {
    "collapsed": true
   },
   "outputs": [],
   "source": [
    "for x in range(0,10):\n",
    "    G = \"G{0}\".format(x); G = dG.get(G)\n",
    "    nx.write_gml(G, 'data/gml_G{0}.gml'.format(x))\n",
    "\n",
    "G_i0 = igraph.Graph.Read_GML('data/gml_G0.gml')\n",
    "G_i1 = igraph.Graph.Read_GML('data/gml_G1.gml')\n",
    "G_i2 = igraph.Graph.Read_GML('data/gml_G2.gml')\n",
    "G_i3 = igraph.Graph.Read_GML('data/gml_G3.gml')\n",
    "G_i4 = igraph.Graph.Read_GML('data/gml_G4.gml')\n",
    "G_i5 = igraph.Graph.Read_GML('data/gml_G5.gml')\n",
    "G_i6 = igraph.Graph.Read_GML('data/gml_G6.gml')\n",
    "G_i7 = igraph.Graph.Read_GML('data/gml_G7.gml')\n",
    "G_i8 = igraph.Graph.Read_GML('data/gml_G8.gml')\n",
    "G_i9 = igraph.Graph.Read_GML('data/gml_G9.gml')"
   ]
  },
  {
   "cell_type": "code",
   "execution_count": 14,
   "metadata": {
    "collapsed": true
   },
   "outputs": [],
   "source": [
    "igraph_networks = [G_i0, G_i1, G_i2, G_i3, G_i4, G_i5, G_i6, G_i7, G_i8, G_i9]"
   ]
  },
  {
   "cell_type": "code",
   "execution_count": 15,
   "metadata": {},
   "outputs": [
    {
     "data": {
      "text/plain": [
       "True"
      ]
     },
     "execution_count": 15,
     "metadata": {},
     "output_type": "execute_result"
    }
   ],
   "source": [
    "len(list(G_i0.vs)) == len(list(dG.get('G0'))) # just a random check"
   ]
  },
  {
   "cell_type": "markdown",
   "metadata": {},
   "source": [
    "### <font color=\"darkgreen\">1. Temporal Network Analysis:</font> Degree distribution"
   ]
  },
  {
   "cell_type": "markdown",
   "metadata": {},
   "source": [
    "In the static network analysis we have some interesting correlations between the degree distribution and certain pecularities of (group of) nodes and the graph in general. In this section we are going to state some hypotheses based on the context of the to be analyzed temporal data based and the insights we gained in the static network analysis. Since we are considering a network of pages with the nodes representing pages while the links represent links between the pages of a certain website/domain we expect there to be notable changes in time intervals of a year. This assumption was confirmed when we looked at the changes in the introduction of this task."
   ]
  },
  {
   "cell_type": "markdown",
   "metadata": {},
   "source": [
    "Let's formulate a hypothesis about the the temperal changes in the degree distribution over the devised time intervals in relation to our knowledge of the context of the network. In the static network analysis it was observed that there was a rather niche group of edges with a relatively high number of incoming edges compared to the averag in-degree of the rest of the network. The same goes for out-degree, there was also a rather small group of nodes in the network with a very high number of outgoing edges compared to the average out-degree found in the dataset\n",
    "\n",
    "Let's query these nodes for further assessment in the context of the temporal network analysis."
   ]
  },
  {
   "cell_type": "code",
   "execution_count": 16,
   "metadata": {
    "collapsed": true
   },
   "outputs": [],
   "source": [
    "sorted_incoming_edges = wiki_df.sort_values(['in edges']).reset_index(drop = True)\n",
    "incoming_edges_top_1 = sorted_incoming_edges.iloc[99 * math.floor(sorted_incoming_edges.shape[0] / 100):]"
   ]
  },
  {
   "cell_type": "code",
   "execution_count": 17,
   "metadata": {
    "collapsed": true
   },
   "outputs": [],
   "source": [
    "sorted_outgoing_edges = wiki_df.sort_values(['out edges']).reset_index(drop = True)\n",
    "outgoing_edges_top_1 = sorted_outgoing_edges.iloc[99 * math.floor(sorted_outgoing_edges.shape[0] / 100):]"
   ]
  },
  {
   "cell_type": "code",
   "execution_count": 18,
   "metadata": {},
   "outputs": [
    {
     "name": "stdout",
     "output_type": "stream",
     "text": [
      "['125', '740', '240', '442', '241', '300', '3546', '146', '149', '394']\n",
      "['970034', '16115', '598952', '707633', '9273', '707642', '377365', '9258', '154856', '306188']\n"
     ]
    }
   ],
   "source": [
    "top_1_incoming_edges = list(incoming_edges_top_1.node)\n",
    "top_1_outgoing_edges = list(outgoing_edges_top_1.node)\n",
    "print(top_1_incoming_edges[-10:])\n",
    "print(top_1_outgoing_edges[-10:])"
   ]
  },
  {
   "cell_type": "code",
   "execution_count": 19,
   "metadata": {
    "collapsed": true
   },
   "outputs": [],
   "source": [
    "top_1_in = [int(node) for node in top_1_incoming_edges]\n",
    "top_1_out = [int(node) for node in top_1_outgoing_edges]"
   ]
  },
  {
   "cell_type": "markdown",
   "metadata": {},
   "source": [
    "Now the static network analysis did not take time-stamps into consideration, but we can still conclude what in general, are relatively 'popular' pages in the graph and/or pages with a lot of outgoing links (hubs). That is exactly what the point is of these queries. "
   ]
  },
  {
   "cell_type": "markdown",
   "metadata": {},
   "source": [
    "The assumption is that pages that are relatively popular will change more than when you pick the same number of nodes at random in the network. This temporal network analysis of the degree distribtion is, therefore, going to be focused on this assumption."
   ]
  },
  {
   "cell_type": "markdown",
   "metadata": {},
   "source": [
    "It can be of course, that certain pages are added/removed during the different time-intervals even though this are probably not going to be the nodes that we just selected. But as we can see in the graph below, the top 1% vertices sorted on incoming-edges in graph remains in the network over the year, which makes sense of course."
   ]
  },
  {
   "cell_type": "code",
   "execution_count": 20,
   "metadata": {},
   "outputs": [
    {
     "name": "stdout",
     "output_type": "stream",
     "text": [
      "nodes in graph:  18672  top 1% vertices sorted on incoming-edges in graph:  3510\n",
      "nodes in graph:  18672  top 1% vertices sorted on outgoing-edges in graph:  1953\n",
      "nodes in graph:  53246  top 1% vertices sorted on incoming-edges in graph:  5362\n",
      "nodes in graph:  53246  top 1% vertices sorted on outgoing-edges in graph:  3269\n",
      "nodes in graph:  112997  top 1% vertices sorted on incoming-edges in graph:  6069\n",
      "nodes in graph:  112997  top 1% vertices sorted on outgoing-edges in graph:  4267\n",
      "nodes in graph:  226490  top 1% vertices sorted on incoming-edges in graph:  6506\n",
      "nodes in graph:  226490  top 1% vertices sorted on outgoing-edges in graph:  5254\n",
      "nodes in graph:  346339  top 1% vertices sorted on incoming-edges in graph:  6632\n",
      "nodes in graph:  346339  top 1% vertices sorted on outgoing-edges in graph:  5913\n",
      "nodes in graph:  415173  top 1% vertices sorted on incoming-edges in graph:  6674\n",
      "nodes in graph:  415173  top 1% vertices sorted on outgoing-edges in graph:  6295\n",
      "nodes in graph:  440817  top 1% vertices sorted on incoming-edges in graph:  6661\n",
      "nodes in graph:  440817  top 1% vertices sorted on outgoing-edges in graph:  6449\n",
      "nodes in graph:  416688  top 1% vertices sorted on incoming-edges in graph:  6614\n",
      "nodes in graph:  416688  top 1% vertices sorted on outgoing-edges in graph:  6485\n",
      "nodes in graph:  362955  top 1% vertices sorted on incoming-edges in graph:  6480\n",
      "nodes in graph:  362955  top 1% vertices sorted on outgoing-edges in graph:  6469\n",
      "nodes in graph:  221517  top 1% vertices sorted on incoming-edges in graph:  6177\n",
      "nodes in graph:  221517  top 1% vertices sorted on outgoing-edges in graph:  6035\n"
     ]
    }
   ],
   "source": [
    "for df_g in dG:\n",
    "    nodes_in_graph = set(dG.get(df_g).node)\n",
    "    \n",
    "    top_1_incoming_common = list(set(top_1_in).intersection(nodes_in_graph))\n",
    "    print(\"nodes in graph: \", len(nodes_in_graph), \" top 1% vertices sorted on incoming-edges in graph: \", len(top_1_incoming_common))\n",
    "    top_1_outgoing_common = list(set(top_1_out).intersection(nodes_in_graph))\n",
    "    print(\"nodes in graph: \", len(nodes_in_graph), \" top 1% vertices sorted on outgoing-edges in graph: \", len(top_1_outgoing_common))"
   ]
  },
  {
   "cell_type": "markdown",
   "metadata": {},
   "source": [
    "We thus know that the defined top 1% on incoming edges and the top 1% on outgoing edges both have 6796 nodes and that these nodes appear quite frequent in the ten networks of the different years, which is expected. Especially from nodes with a high number of incoming edges since these would be should be quite popular pages. The next step is in the evaluation of the hypothesis is to select the same number of nodes, at random, that also appear in the network of all the years, excluding these 6796 nodes. "
   ]
  },
  {
   "cell_type": "code",
   "execution_count": 21,
   "metadata": {},
   "outputs": [
    {
     "name": "stdout",
     "output_type": "stream",
     "text": [
      "number of nodes accross all years:  678907\n"
     ]
    }
   ],
   "source": [
    "all_nodes = set(wiki_df.node); print(\"number of nodes accross all years: \", len(all_nodes))\n",
    "all_nodes = all_nodes.difference(set(top_1_incoming_edges))\n",
    "all_nodes = all_nodes.difference(set(top_1_outgoing_edges))"
   ]
  },
  {
   "cell_type": "code",
   "execution_count": 22,
   "metadata": {
    "collapsed": true
   },
   "outputs": [],
   "source": [
    "random_selected_nodes = {int(node) for node in all_nodes}"
   ]
  },
  {
   "cell_type": "markdown",
   "metadata": {},
   "source": [
    "The next step is to iterate over all the networks of all the years and assess which nodes also appear in all the networks."
   ]
  },
  {
   "cell_type": "code",
   "execution_count": 23,
   "metadata": {},
   "outputs": [
    {
     "data": {
      "text/plain": [
       "7109"
      ]
     },
     "execution_count": 23,
     "metadata": {},
     "output_type": "execute_result"
    }
   ],
   "source": [
    "for df_g in dG:\n",
    "    global random_selected_nodes\n",
    "    nodes_in_graph = set(dG.get(df_g).node)\n",
    "    random_selected_nodes = random_selected_nodes.intersection(nodes_in_graph)\n",
    "\n",
    "len(random_selected_nodes)"
   ]
  },
  {
   "cell_type": "markdown",
   "metadata": {},
   "source": [
    "Coincidentally, this is just enough to select 6796 random nodes (but we need a bit less for each year as we have seen before) out of this collection (note that we have already removed the two size-6976 top collections out of the collection before the intersection with the nodes of the various networks.) While there is already a lot of randomness introduced, we will also remove the last set of nodes at random to end up with a collection of len randomly selected nodes to evaluate the change of the degree of these nodes over time compared to the top groups that were devised. This will be done at each seperately to make sure that we evaluate the same number of nodes in each year, depending on the number of nodes of the top in/out-going groups in those particular years."
   ]
  },
  {
   "cell_type": "code",
   "execution_count": 24,
   "metadata": {
    "collapsed": true
   },
   "outputs": [],
   "source": [
    "import random; random.seed(88)"
   ]
  },
  {
   "cell_type": "markdown",
   "metadata": {},
   "source": [
    "Note that random sampling function does random sampling without replacement, so there is no risk of having the same node twice in the collection."
   ]
  },
  {
   "cell_type": "markdown",
   "metadata": {},
   "source": [
    "The next step is to actually test our hypothesis. The choice is made to do this by comparing visualizations of the change over the selected time-intervals (years), asses absolute changes over the intervals and lastly to asses relative changes in these intervals."
   ]
  },
  {
   "cell_type": "code",
   "execution_count": 25,
   "metadata": {
    "collapsed": true
   },
   "outputs": [],
   "source": [
    "def comparing_methods(random_nodes):\n",
    "    dict_values_all_years = {}\n",
    "    for network in dG:\n",
    "        dict_values = {}\n",
    "        G_year = dG.get(network)\n",
    "        \n",
    "        nodes_network =  set(G_year.node)\n",
    "        nodes_intersection_in = list(set(top_1_in).intersection(nodes_network))\n",
    "        number_of_nodes_in = len(nodes_intersection_in)\n",
    "        nodes_intersection_out = list(set(top_1_out).intersection(nodes_network))\n",
    "        number_of_nodes_out = len(nodes_intersection_out)\n",
    "        \n",
    "        if(random_nodes):\n",
    "            nodes_intersection_in = random.sample(population = list(nodes_network), k = number_of_nodes_in)\n",
    "            nodes_intersection_out = random.sample(population = list(nodes_network), k = number_of_nodes_out)\n",
    "        \n",
    "        in_degree_nodes = [G_year.in_degree(node) for node in nodes_intersection_in]\n",
    "        out_degree_nodes = [G_year.out_degree(node) for node in nodes_intersection_out]\n",
    "        \n",
    "        dict_values['number_of_nodes_in'] = number_of_nodes_in\n",
    "        dict_values['number_of_nodes_out'] = number_of_nodes_out\n",
    "        \n",
    "        total_in = sum(in_degree_nodes); total_out = sum(out_degree_nodes)\n",
    "        dict_values['total_in_degree'] = total_in\n",
    "        dict_values['total_out_degree'] = total_out\n",
    "        \n",
    "        avg_in_degree = round(total_in / len(nodes_intersection_in), 3)\n",
    "        avg_out_degree = round(total_out / len(nodes_intersection_out), 3)\n",
    "        dict_values['avg_in_degree'] = avg_in_degree\n",
    "        dict_values['avg_out_degree'] = avg_out_degree\n",
    "        \n",
    "        dict_values_all_years[network] = dict_values\n",
    "    return dict_values_all_years"
   ]
  },
  {
   "cell_type": "code",
   "execution_count": 26,
   "metadata": {},
   "outputs": [
    {
     "name": "stdout",
     "output_type": "stream",
     "text": [
      "{'G0': {'number_of_nodes_in': 3510, 'number_of_nodes_out': 1953, 'total_in_degree': 9750, 'total_out_degree': 5506, 'avg_in_degree': 2.778, 'avg_out_degree': 2.819}, 'G1': {'number_of_nodes_in': 5362, 'number_of_nodes_out': 3269, 'total_in_degree': 19866, 'total_out_degree': 11740, 'avg_in_degree': 3.705, 'avg_out_degree': 3.591}, 'G2': {'number_of_nodes_in': 6069, 'number_of_nodes_out': 4267, 'total_in_degree': 24193, 'total_out_degree': 22549, 'avg_in_degree': 3.986, 'avg_out_degree': 5.285}, 'G3': {'number_of_nodes_in': 6506, 'number_of_nodes_out': 5254, 'total_in_degree': 24783, 'total_out_degree': 25142, 'avg_in_degree': 3.809, 'avg_out_degree': 4.785}, 'G4': {'number_of_nodes_in': 6632, 'number_of_nodes_out': 5913, 'total_in_degree': 24707, 'total_out_degree': 22898, 'avg_in_degree': 3.725, 'avg_out_degree': 3.872}, 'G5': {'number_of_nodes_in': 6674, 'number_of_nodes_out': 6295, 'total_in_degree': 23085, 'total_out_degree': 23218, 'avg_in_degree': 3.459, 'avg_out_degree': 3.688}, 'G6': {'number_of_nodes_in': 6661, 'number_of_nodes_out': 6449, 'total_in_degree': 21252, 'total_out_degree': 19497, 'avg_in_degree': 3.191, 'avg_out_degree': 3.023}, 'G7': {'number_of_nodes_in': 6614, 'number_of_nodes_out': 6485, 'total_in_degree': 18306, 'total_out_degree': 21519, 'avg_in_degree': 2.768, 'avg_out_degree': 3.318}, 'G8': {'number_of_nodes_in': 6480, 'number_of_nodes_out': 6469, 'total_in_degree': 18262, 'total_out_degree': 15443, 'avg_in_degree': 2.818, 'avg_out_degree': 2.387}, 'G9': {'number_of_nodes_in': 6177, 'number_of_nodes_out': 6035, 'total_in_degree': 10263, 'total_out_degree': 10429, 'avg_in_degree': 1.661, 'avg_out_degree': 1.728}}\n"
     ]
    }
   ],
   "source": [
    "random_nodes_values = comparing_methods(random_nodes = True)\n",
    "print(random_nodes_values)"
   ]
  },
  {
   "cell_type": "code",
   "execution_count": 27,
   "metadata": {},
   "outputs": [
    {
     "name": "stdout",
     "output_type": "stream",
     "text": [
      "{'G0': {'number_of_nodes_in': 3510, 'number_of_nodes_out': 1953, 'total_in_degree': 29260, 'total_out_degree': 31631, 'avg_in_degree': 8.336, 'avg_out_degree': 16.196}, 'G1': {'number_of_nodes_in': 5362, 'number_of_nodes_out': 3269, 'total_in_degree': 100687, 'total_out_degree': 102102, 'avg_in_degree': 18.778, 'avg_out_degree': 31.233}, 'G2': {'number_of_nodes_in': 6069, 'number_of_nodes_out': 4267, 'total_in_degree': 234083, 'total_out_degree': 203028, 'avg_in_degree': 38.57, 'avg_out_degree': 47.581}, 'G3': {'number_of_nodes_in': 6506, 'number_of_nodes_out': 5254, 'total_in_degree': 510990, 'total_out_degree': 364517, 'avg_in_degree': 78.541, 'avg_out_degree': 69.379}, 'G4': {'number_of_nodes_in': 6632, 'number_of_nodes_out': 5913, 'total_in_degree': 667743, 'total_out_degree': 482145, 'avg_in_degree': 100.685, 'avg_out_degree': 81.54}, 'G5': {'number_of_nodes_in': 6674, 'number_of_nodes_out': 6295, 'total_in_degree': 678231, 'total_out_degree': 516011, 'avg_in_degree': 101.623, 'avg_out_degree': 81.972}, 'G6': {'number_of_nodes_in': 6661, 'number_of_nodes_out': 6449, 'total_in_degree': 605339, 'total_out_degree': 478839, 'avg_in_degree': 90.878, 'avg_out_degree': 74.25}, 'G7': {'number_of_nodes_in': 6614, 'number_of_nodes_out': 6485, 'total_in_degree': 507101, 'total_out_degree': 392698, 'avg_in_degree': 76.671, 'avg_out_degree': 60.555}, 'G8': {'number_of_nodes_in': 6480, 'number_of_nodes_out': 6469, 'total_in_degree': 343908, 'total_out_degree': 292545, 'avg_in_degree': 53.072, 'avg_out_degree': 45.223}, 'G9': {'number_of_nodes_in': 6177, 'number_of_nodes_out': 6035, 'total_in_degree': 160550, 'total_out_degree': 135422, 'avg_in_degree': 25.992, 'avg_out_degree': 22.439}}\n"
     ]
    }
   ],
   "source": [
    "top_groups_values = comparing_methods(random_nodes = False) # in other words, use top 1% incoming/outgoing edges nodes\n",
    "print(top_groups_values)"
   ]
  },
  {
   "cell_type": "code",
   "execution_count": 28,
   "metadata": {
    "collapsed": true
   },
   "outputs": [],
   "source": [
    "def visualize_changes(dict_values1, dict_values2):\n",
    "    number_of_nodes_in1 = number_of_nodes_out1 = total_in_degree1 = total_out_degree1 = np.empty((0, 10), dtype = int)\n",
    "    avg_in_degree1 = avg_out_degree1 = np.empty((0, 10), dtype = float)\n",
    "    \n",
    "    number_of_nodes_in2 = number_of_nodes_out2 = total_in_degree2 = total_out_degree2 = np.empty((0, 10), dtype = int)\n",
    "    avg_in_degree2 = avg_out_degree2 = np.empty((0, 10), dtype = float)\n",
    "    \n",
    "    for network_year in dG:\n",
    "        values_year1 = dict_values1.get(network_year)\n",
    "        number_of_nodes_in1 = np.append(number_of_nodes_in1, [values_year1.get('number_of_nodes_in')])\n",
    "        number_of_nodes_out1 = np.append(number_of_nodes_out1, [values_year1.get('number_of_nodes_out')])\n",
    "        total_in_degree1 = np.append(total_in_degree1, [values_year1.get('total_in_degree')])\n",
    "        total_out_degree1 = np.append(total_out_degree1, [values_year1.get('total_out_degree')])\n",
    "        avg_in_degree1 = np.append(avg_in_degree1, [values_year1.get('avg_in_degree')])\n",
    "        avg_out_degree1 = np.append(avg_out_degree1, [values_year1.get('avg_out_degree')])\n",
    "        \n",
    "        values_year2 = dict_values2.get(network_year)\n",
    "        number_of_nodes_in2 = np.append(number_of_nodes_in2, [values_year2.get('number_of_nodes_in')])\n",
    "        number_of_nodes_out2 = np.append(number_of_nodes_out2, [values_year2.get('number_of_nodes_out')])\n",
    "        total_in_degree2 = np.append(total_in_degree2, [values_year2.get('total_in_degree')])\n",
    "        total_out_degree2 = np.append(total_out_degree2, [values_year2.get('total_out_degree')])\n",
    "        avg_in_degree2 = np.append(avg_in_degree2, [values_year2.get('avg_in_degree')])\n",
    "        avg_out_degree2 = np.append(avg_out_degree2, [values_year2.get('avg_out_degree')])\n",
    "        \n",
    "    return [(total_in_degree1, total_in_degree2), (total_out_degree1, total_out_degree2),\n",
    "            (avg_in_degree1, avg_in_degree2), (avg_out_degree1, avg_out_degree2)] # facilitates easy and strucuted comparison"
   ]
  },
  {
   "cell_type": "code",
   "execution_count": 29,
   "metadata": {
    "collapsed": true
   },
   "outputs": [],
   "source": [
    "years = np.arange(10)"
   ]
  },
  {
   "cell_type": "code",
   "execution_count": 30,
   "metadata": {
    "collapsed": true
   },
   "outputs": [],
   "source": [
    "list_of_comparisons = visualize_changes(top_groups_values, random_nodes_values)"
   ]
  },
  {
   "cell_type": "code",
   "execution_count": 31,
   "metadata": {},
   "outputs": [
    {
     "name": "stdout",
     "output_type": "stream",
     "text": [
      "Change number of total in degree among nodes\n",
      "\n",
      "Top groups (green) vs Random group (red)\n",
      "\n"
     ]
    },
    {
     "data": {
      "image/png": "[encoded data removed]",
      "text/plain": [
       "<matplotlib.figure.Figure at 0x1ed20afdd68>"
      ]
     },
     "metadata": {},
     "output_type": "display_data"
    },
    {
     "name": "stdout",
     "output_type": "stream",
     "text": [
      "Random group (equal size) (again, in blue; to display growth pattern\n",
      "\n"
     ]
    },
    {
     "data": {
      "image/png": "[encoded data removed]",
      "text/plain": [
       "<matplotlib.figure.Figure at 0x1ec95e59f60>"
      ]
     },
     "metadata": {},
     "output_type": "display_data"
    }
   ],
   "source": [
    "# total in degree comparison\n",
    "tuple_comp = list_of_comparisons[0]\n",
    "print(\"Change number of total in degree among nodes\\n\")\n",
    "print(\"Top groups (green) vs Random group (red)\\n\")\n",
    "plt.plot(years, tuple_comp[0], 'g')\n",
    "    \n",
    "plt.plot(years, tuple_comp[1], 'r')\n",
    "plt.show()\n",
    "\n",
    "print(\"Random group (equal size) (again, in blue; to display growth pattern\\n\")\n",
    "plt.plot(years, tuple_comp[1], 'b')\n",
    "plt.show() "
   ]
  },
  {
   "cell_type": "markdown",
   "metadata": {},
   "source": [
    "In the first one can see the change of the total in-degree of all the nodes in the network of 1) The top-group nodes in green 2) a random group of the network of same size as the top group in red. Obviously, the total in-degree of the first group is a lot bigger than that of the random group of nodes considering the fact that they were selected on this criteria. \n",
    "The noteworthy thing can be observed when one involves the second plot into the picture. This plot is the growth of the random group, properly scaled according to its range of values whereas the form of the graph was not observable in the first plot. We see that even though the random group has much lower value, it follow more or less the same growth and decline patern (relative to its values) when compared to growth of the top group. We should be cautious of deriving ungrounded conclusions from this observation, but one possible explanation for this is that the growth of the in-degree of an average node (i.e. the number of a pages linking to this page) follows more or less the same growth <b>pattern</b> (relatively) as any other node in the network, while we can see that the top-group has a steadier rate of growth and decline than the random group. \n",
    "\n",
    "If we try to place this in the context of a network representing pages of a particular domain, one can <i>possibly</i> explain these pheneomena by the exploitation of divergent thinking. One can image that the majority of the pages have more or less the same layout (i.e. framework) whereas only the information on the page (including links to other pages) differs. A page on WikiPedia about \"Donald Trump\" will for example have a lot more information and links on it than a page on \"Degree distribution\". The pages are, however, placed in the same number WikiPedia 'framework' which also contains a lot of links. WikiPedia, for example, has a lot of navigational links on the top, left and bottom of the page. If the number of links of the links in this consistent framework would change over time, and if these links are indeed included in the network, than this would greatly affect the observable growths in such graphs. This is, however, strictly hypothetical and just an elaboration which tries to find an explanation for the observations."
   ]
  },
  {
   "cell_type": "code",
   "execution_count": 32,
   "metadata": {},
   "outputs": [
    {
     "name": "stdout",
     "output_type": "stream",
     "text": [
      "Change number of total out degree among nodes\n",
      "\n",
      "Top groups (green) vs Random group (red)\n",
      "\n"
     ]
    },
    {
     "data": {
      "image/png": "[encoded data removed]",
      "text/plain": [
       "<matplotlib.figure.Figure at 0x1ec8c93c550>"
      ]
     },
     "metadata": {},
     "output_type": "display_data"
    },
    {
     "name": "stdout",
     "output_type": "stream",
     "text": [
      "Random group (equal size) (again, in blue; to display growth pattern\n",
      "\n"
     ]
    },
    {
     "data": {
      "image/png": "[encoded data removed]",
      "text/plain": [
       "<matplotlib.figure.Figure at 0x1ed00c2e470>"
      ]
     },
     "metadata": {},
     "output_type": "display_data"
    }
   ],
   "source": [
    "# total out degree comparison\n",
    "tuple_comp = list_of_comparisons[1]\n",
    "print(\"Change number of total out degree among nodes\\n\")\n",
    "print(\"Top groups (green) vs Random group (red)\\n\")\n",
    "plt.plot(years, tuple_comp[0], 'g')\n",
    "    \n",
    "plt.plot(years, tuple_comp[1], 'r')\n",
    "plt.show()\n",
    "\n",
    "print(\"Random group (equal size) (again, in blue; to display growth pattern\\n\")\n",
    "plt.plot(years, tuple_comp[1], 'b')\n",
    "plt.show() "
   ]
  },
  {
   "cell_type": "markdown",
   "metadata": {},
   "source": [
    "One can draw more or less the same conclusion as for the out-degree comparison as for the in-degree comparison. The noteworthy thing which is quite trivial is that the rate of growh of the top-group follows more or less the same growth pattern as the previous group. We have in the static analysis thar there was a strong relation between these two groups which is a possible explanation for this. The random group show the same growth more or less, but shows a bit shifty growth and decline compared to the top group."
   ]
  },
  {
   "cell_type": "code",
   "execution_count": 33,
   "metadata": {},
   "outputs": [
    {
     "name": "stdout",
     "output_type": "stream",
     "text": [
      "Change average in degree among nodes\n",
      "\n",
      "Top groups (green) vs Random group (red)\n",
      "\n"
     ]
    },
    {
     "data": {
      "image/png": "[encoded data removed]",
      "text/plain": [
       "<matplotlib.figure.Figure at 0x1ed09cd44e0>"
      ]
     },
     "metadata": {},
     "output_type": "display_data"
    },
    {
     "name": "stdout",
     "output_type": "stream",
     "text": [
      "Random group (equal size) (again, in blue; to display growth pattern\n",
      "\n"
     ]
    },
    {
     "data": {
      "image/png": "[encoded data removed]",
      "text/plain": [
       "<matplotlib.figure.Figure at 0x1ed1065e860>"
      ]
     },
     "metadata": {},
     "output_type": "display_data"
    }
   ],
   "source": [
    "# average in degree comparison\n",
    "tuple_comp = list_of_comparisons[2]\n",
    "print(\"Change average in degree among nodes\\n\")\n",
    "print(\"Top groups (green) vs Random group (red)\\n\")\n",
    "plt.plot(years, tuple_comp[0], 'g')\n",
    "    \n",
    "plt.plot(years, tuple_comp[1], 'r')\n",
    "plt.show()\n",
    "\n",
    "print(\"Random group (equal size) (again, in blue; to display growth pattern\\n\")\n",
    "plt.plot(years, tuple_comp[1], 'b')\n",
    "plt.show() "
   ]
  },
  {
   "cell_type": "code",
   "execution_count": 34,
   "metadata": {},
   "outputs": [
    {
     "name": "stdout",
     "output_type": "stream",
     "text": [
      "Change average out degree among nodes\n",
      "\n",
      "Top groups (green) vs Random group (red)\n",
      "\n"
     ]
    },
    {
     "data": {
      "image/png": "[encoded data removed]",
      "text/plain": [
       "<matplotlib.figure.Figure at 0x1ed09258e80>"
      ]
     },
     "metadata": {},
     "output_type": "display_data"
    },
    {
     "name": "stdout",
     "output_type": "stream",
     "text": [
      "Random group (equal size) (again, in blue; to display growth pattern\n",
      "\n"
     ]
    },
    {
     "data": {
      "image/png": "[encoded data removed]",
      "text/plain": [
       "<matplotlib.figure.Figure at 0x1ec85aeea20>"
      ]
     },
     "metadata": {},
     "output_type": "display_data"
    }
   ],
   "source": [
    "# average out degree comparison\n",
    "tuple_comp = list_of_comparisons[3]\n",
    "print(\"Change average out degree among nodes\\n\")\n",
    "print(\"Top groups (green) vs Random group (red)\\n\")\n",
    "plt.plot(years, tuple_comp[0], 'g')\n",
    "    \n",
    "plt.plot(years, tuple_comp[1], 'r')\n",
    "plt.show()\n",
    "\n",
    "print(\"Random group (equal size) (again, in blue; to display growth pattern\\n\")\n",
    "plt.plot(years, tuple_comp[1], 'b')\n",
    "plt.show() "
   ]
  },
  {
   "cell_type": "markdown",
   "metadata": {},
   "source": [
    "The graphs of the average in and out degree of the top groups compared to the random groups of same size show even more interesting insights in the evolution of the degree distribution of this network over time when focussing on certain groups/types of nodes (i.e. pages). \n",
    "\n",
    "The first thing to notice from all of these graphs is that the one can learn a lot about the growth or decline of such a network over time by looking at the 'top-groups' of the network. The relative growth or decline of the in- or out-degree of a node which has a relatively high average in- or out-degree ignoring the time (i.e. static network analysis over a large period) shows that these groups of nodes (i.e. pages) give good insight on the average growth of the in- or out-degree of the rest of the nodes in the network (on average), the growht of these groups does affect the average of course, but we can see in the previous graphs that the same growth pattern can be obersved when strictly focussing on a group of random nodes. It is, therefore, scientifically sound to assume or state such a correlation, even though one cannot confirm this hypothesis without the usage of meta-data / more information about the nodes (i.e. pages) in the network.\n",
    "\n",
    "The second thing worth noting is that we can not confirm the initial hypothesis based on the graphs. While the top-groups seem to be leading the overall change in the network, it is the random nodes that seem to show more shifty growth and decline as can be seen in the last few graphs."
   ]
  },
  {
   "cell_type": "markdown",
   "metadata": {},
   "source": [
    "### <font color=\"darkgreen\">2. Temporal Network Analysis:</font> Dyads and Reciprocity"
   ]
  },
  {
   "cell_type": "markdown",
   "metadata": {},
   "source": [
    "In the static network analysis we have seen gained some interesting insights using the Dyad Census and Reciporocity measures on the network. These metrics can be used to measure how frequent nodes (i.e pages) have a symmetric link between each other, or how frequent one has a one-way link between nodes in the network. It boils down to classifying each pair of nodes $u$ and $v$ in the network (i.e. a directed graph in our context) into three categories, which are:\n",
    "\n",
    "1. <b>Mutual:</b> There is an edge from $u$ to $v$ and also an edge frome $v$ to $u$\n",
    "2. <b>Asymmetric:</b> There is either an edge from $u$ to $v$ or an edge from $v$ to $u$\n",
    "3. <b>Null:</b> There is no edge from $u$ to $v$ and also no edge frome $v$ to $u$\n",
    "\n",
    "\n",
    "We have seen the effect of self-loops and parallel edges on these measures, which were pecularities we had to deal with because we were doing a static network analyis of an evolving graph."
   ]
  },
  {
   "cell_type": "markdown",
   "metadata": {},
   "source": [
    "The conclusions in the static network analysis was that a lot of pages do not have an (asymmetric) link to each other, and in addition, the number of pages that link to each other (i.e. mutual) are even less common. This actually does make sense when one considers the context of a network of a website/domain. One would not expect that every page has a link to every other page in the network, especially considering the size of this particular network. In addition, having mutual edges on a website depends entirely on the type of webpages one is considering. For some webpages it makes sense considering the navigation of the website. Or consider pages on WikiPedia which refer to a sub-topic of certain topic. This sub-topic is likely to have also a link back to the main topic."
   ]
  },
  {
   "cell_type": "markdown",
   "metadata": {},
   "source": [
    "In this temporal network analysis the next step is to see whether we can observe the same things, and to assess whether we can gain some insights on how these measures change over time in such a network."
   ]
  },
  {
   "cell_type": "markdown",
   "metadata": {},
   "source": [
    "We have already splitted the network in the respective periods and have given motivation for these particular division of time-scales. Let's see whether we can observe some noteworthy things when using the same time-scales or assess whether another time scale would be more appropriate for these measures."
   ]
  },
  {
   "cell_type": "code",
   "execution_count": 35,
   "metadata": {},
   "outputs": [
    {
     "data": {
      "text/plain": [
       "18672"
      ]
     },
     "execution_count": 35,
     "metadata": {},
     "output_type": "execute_result"
    }
   ],
   "source": [
    "len(G_i0.vs)"
   ]
  },
  {
   "cell_type": "code",
   "execution_count": 36,
   "metadata": {},
   "outputs": [
    {
     "name": "stdout",
     "output_type": "stream",
     "text": [
      "[('asymmetric', 44446), ('mutual', 5263)]\n",
      "[('asymmetric', 166906), ('mutual', 16357)]\n",
      "[('asymmetric', 414331), ('mutual', 25706)]\n"
     ]
    },
    {
     "name": "stderr",
     "output_type": "stream",
     "text": [
      "C:\\ProgramData\\Anaconda3\\lib\\site-packages\\igraph\\__init__.py:512: RuntimeWarning: Integer overflow, returning zero at src\\motifs.c:899\n",
      "  return DyadCensus(GraphBase.dyad_census(self, *args, **kwds))\n"
     ]
    },
    {
     "name": "stdout",
     "output_type": "stream",
     "text": [
      "[('asymmetric', 938564), ('mutual', 31558)]\n",
      "[('asymmetric', 1351548), ('mutual', 38606)]\n",
      "[('asymmetric', 1491190), ('mutual', 38506)]\n",
      "[('asymmetric', 1392472), ('mutual', 24196)]\n",
      "[('asymmetric', 1179987), ('mutual', 18181)]\n",
      "[('asymmetric', 847469), ('mutual', 12133)]\n",
      "[('asymmetric', 386173), ('mutual', 5044)]\n"
     ]
    }
   ],
   "source": [
    "asymmetric = np.empty((0, 10), dtype = int)\n",
    "mutual = np.empty((0, 10), dtype = int)\n",
    "size_network = np.empty((0, 10), dtype = int)\n",
    "years = np.arange(10)\n",
    "\n",
    "for network in igraph_networks:\n",
    "    graph_dyad_census = network.dyad_census()\n",
    "    graph_dyad_census = sorted(graph_dyad_census.as_dict().items())[:2]\n",
    "    asymmetric = np.append(asymmetric, graph_dyad_census[0][1])\n",
    "    mutual = np.append(mutual, graph_dyad_census[1][1])\n",
    "    size_network = np.append(size_network, len(network.vs))\n",
    "    print(graph_dyad_census)"
   ]
  },
  {
   "cell_type": "markdown",
   "metadata": {},
   "source": [
    "The integer overflow occurs due to the null values it tries to calculate for relatively large networks. Null represents the number of missing links between every pair $u$ and $v$, a measure we are not really interested in considering the huge size of the networks and the fact this can be derived from the other meausures."
   ]
  },
  {
   "cell_type": "code",
   "execution_count": 37,
   "metadata": {},
   "outputs": [
    {
     "name": "stdout",
     "output_type": "stream",
     "text": [
      "[  44446  166906  414331  938564 1351548 1491190 1392472 1179987  847469\n",
      "  386173]\n",
      "[ 5263 16357 25706 31558 38606 38506 24196 18181 12133  5044]\n",
      "[ 18672  53246 112997 226490 346339 415173 440817 416688 362955 221517]\n"
     ]
    }
   ],
   "source": [
    "print(asymmetric)\n",
    "print(mutual)\n",
    "print(size_network)"
   ]
  },
  {
   "cell_type": "code",
   "execution_count": 38,
   "metadata": {},
   "outputs": [
    {
     "data": {
      "image/png": "[encoded data removed]",
      "text/plain": [
       "<matplotlib.figure.Figure at 0x1ecdb3bedd8>"
      ]
     },
     "metadata": {},
     "output_type": "display_data"
    }
   ],
   "source": [
    "# growth/decline of asymmetric values\n",
    "plt.plot(years, asymmetric, 'b')\n",
    "plt.show()"
   ]
  },
  {
   "cell_type": "markdown",
   "metadata": {},
   "source": [
    "It makes sense, of course, to look at the relative growth and thus correct the values for the respective network size in the particular time-intervals."
   ]
  },
  {
   "cell_type": "code",
   "execution_count": 39,
   "metadata": {},
   "outputs": [
    {
     "data": {
      "image/png": "[encoded data removed]",
      "text/plain": [
       "<matplotlib.figure.Figure at 0x1ed0ba64c88>"
      ]
     },
     "metadata": {},
     "output_type": "display_data"
    }
   ],
   "source": [
    "# growth/decline of asymmetric values (relative)\n",
    "asymmetric_relative = [((x * 1.0) / y) for x, y in zip(asymmetric, size_network)]\n",
    "plt.plot(years, asymmetric_relative, 'b')\n",
    "plt.show()"
   ]
  },
  {
   "cell_type": "markdown",
   "metadata": {},
   "source": [
    "And the same for the change of the mutual relations in the network over the years."
   ]
  },
  {
   "cell_type": "code",
   "execution_count": 40,
   "metadata": {},
   "outputs": [
    {
     "data": {
      "image/png": "[encoded data removed]",
      "text/plain": [
       "<matplotlib.figure.Figure at 0x1ed0846e828>"
      ]
     },
     "metadata": {},
     "output_type": "display_data"
    }
   ],
   "source": [
    "# growth/decline of mutual values\n",
    "plt.plot(years, mutual, 'r')\n",
    "plt.show()"
   ]
  },
  {
   "cell_type": "code",
   "execution_count": 41,
   "metadata": {},
   "outputs": [
    {
     "data": {
      "image/png": "[encoded data removed]",
      "text/plain": [
       "<matplotlib.figure.Figure at 0x1ed12089940>"
      ]
     },
     "metadata": {},
     "output_type": "display_data"
    }
   ],
   "source": [
    "# growth/mutual of mutual values (relative)\n",
    "mutual_relative = [((x * 1.0) / y) for x, y in zip(mutual, size_network)]\n",
    "plt.plot(years, mutual_relative, 'r')\n",
    "plt.show()"
   ]
  },
  {
   "cell_type": "markdown",
   "metadata": {},
   "source": [
    "There are some noteworthy things tha we can see from the relative growth graphs. Note that one should not derive any conclusions from the graph themselves since the values are divide by the changin number of nodes over time. The relative graphs should only be used to compare the changes of the two metrics over time."
   ]
  },
  {
   "cell_type": "markdown",
   "metadata": {},
   "source": [
    "The first thing worth noting is the growth pattern of the asymmetric links in the graph. This seems to be in line with the growth patterns we have seen for the degree(-distribution) analysis in the previous paragraph, so it is quite evident that this change correlates with the in/out-degree. "
   ]
  },
  {
   "cell_type": "markdown",
   "metadata": {},
   "source": [
    "The mutual connections, which are much smaller portion of the total amount of edges in the network show that the relative number of mutual edges has declined over time, not following the growth patterns we have seen earlier on. This means that the network contains relatively less and less pages that have a mutual link to each other. We can try to place this in the context of the network again. It could be that the relative amount of mutual edges has declined due to policies on a certain domain (i.e. network) which try to limit or prohibit returning edges as much as possbile. Another possible reason can be that as new pages (e.g. topics) get added to the network, the network will contain relatively new information (e.g. events in the world, people becoming famous, new discoveries in science etc.) because othrtwise there would alrady have been a page about this topic on the network. And if there is for example a new page in the network about a relatively topic $T$, then there will be probably (assumption) less (mutual) links to this network from original nodes already present in the network since the topic that is covered contains relatively new concepts and/or events. This is, however, strictly hypothetical. We try to link the insights to the context of the network as much as possible, but are well aware of the fact that we should be cautious with our statements considering the limited amount of context given of the network. "
   ]
  },
  {
   "cell_type": "markdown",
   "metadata": {},
   "source": [
    "As in the static network analysis we can also calculate the reciprocity using the collection of values we now have. Recall he reciprocity represents the proportion of mutual connections in a driected graph compared to the total number of adjacent edges in the graph. It encapsulates the probability of having a returning edge when visiting node on the opposite counter-part of an edge. In other words (i.e. in our problem context) it is an encapsulation of the probability of having a returning link when you visit a page after clicking on a link. This abstraction should give you an overview of what it measures."
   ]
  },
  {
   "cell_type": "markdown",
   "metadata": {},
   "source": [
    "We can calculate this property ourselves since we have already the necessary values from the analysis of the previous statistical measure (dyad). The reciprocity is simply the devision of two values, represented by either the proportion $(0 < p < 1)$ or a percentage $(0 < p < 100\\%)$"
   ]
  },
  {
   "cell_type": "code",
   "execution_count": 55,
   "metadata": {
    "collapsed": true
   },
   "outputs": [],
   "source": [
    "reciprocity = list()"
   ]
  },
  {
   "cell_type": "code",
   "execution_count": 56,
   "metadata": {
    "collapsed": true
   },
   "outputs": [],
   "source": [
    "for i in range(0, len(igraph_networks)):\n",
    "    dyad_reciprocity = mutual[i] / (mutual[i] + asymmetric[i])\n",
    "    dyad_reciprocity = round(dyad_reciprocity, 4) # round\n",
    "    dyad_reciprocity = dyad_reciprocity * 100 # percentage\n",
    "    reciprocity.append(dyad_reciprocity)"
   ]
  },
  {
   "cell_type": "code",
   "execution_count": 58,
   "metadata": {},
   "outputs": [
    {
     "name": "stdout",
     "output_type": "stream",
     "text": [
      "[10.59, 8.9299999999999997, 5.8399999999999999, 3.25, 2.7799999999999998, 2.52, 1.71, 1.52, 1.4099999999999999, 1.29]\n"
     ]
    }
   ],
   "source": [
    "print(reciprocity)"
   ]
  },
  {
   "cell_type": "code",
   "execution_count": 60,
   "metadata": {},
   "outputs": [
    {
     "data": {
      "image/png": "[encoded data removed]",
      "text/plain": [
       "<matplotlib.figure.Figure at 0x1ecf48783c8>"
      ]
     },
     "metadata": {},
     "output_type": "display_data"
    }
   ],
   "source": [
    "# growth/decline of reciprocity\n",
    "plt.plot(years, reciprocity, 'r')\n",
    "plt.show()"
   ]
  },
  {
   "cell_type": "markdown",
   "metadata": {},
   "source": [
    "Where we can see a stong decline in the reciprocity values over the course of the years, which was expected considering the conclusions from the dyad_census values. We saw that the network contained relatively less and less pages that have a mutual link to each other over the years and tried to explain this by placing it in the context of the network. The decline found in this visualization just shows that we have appropriately corrected the measures in for the dyad measures by the growth/decline of the network size, since the reciprocity values take into account the actual number of edges found for each network. "
   ]
  },
  {
   "cell_type": "markdown",
   "metadata": {},
   "source": [
    "### ------------------------------------------------------------------------------------------------------------------------------------------------"
   ]
  },
  {
   "cell_type": "markdown",
   "metadata": {},
   "source": [
    "### <font color=\"#900C3F\">1. <i>Bonus</i>: Temporal Network Analysis:</font> Computing Temporal Motifs"
   ]
  },
  {
   "cell_type": "markdown",
   "metadata": {},
   "source": [
    "After a lot of stuggling we did not manage to get the scripts working found on <a href=\"https://github.com/lkovanen/TMFinder\">github.com/lkovanen/TMFinder</a> due to issues with bliss which is used for computing automorphism groups and canonical forms of graphs"
   ]
  },
  {
   "cell_type": "markdown",
   "metadata": {},
   "source": [
    "We, therefore, switched to the $igraph$ library which has supports the exploration/finding of motifs. The temporal aspect is going to be added to this evaluation the same way as is done for the various network measures in the temporal analysis."
   ]
  },
  {
   "cell_type": "markdown",
   "metadata": {},
   "source": [
    "We first have to do some preprocessing (again) before we can use the support for motifs provided by $igraph$ library. Since we have relatively large intervals (i.e. one year) parallel edges and self loops can still occur."
   ]
  },
  {
   "cell_type": "code",
   "execution_count": 53,
   "metadata": {},
   "outputs": [],
   "source": [
    "for network in igraph_networks:\n",
    "    network = network.simplify(multiple = True, loops = True, combine_edges = None)"
   ]
  },
  {
   "cell_type": "markdown",
   "metadata": {},
   "source": [
    "Now since we do things a slightly different than should actually be done to compute temporal motifs, it makes sense to revise temporal motifs and what we are actually going to calculate in the next few blocks. We have, again, 10 different networks that represent the system of pages at a certain time interval in the past since in temporal networks edges have a beginning and timestamp indicating the period in which the edge was 'active'. How do temporal motifs fit in this description one may ask. Motifs encapsulate small connected subgraph s of a given structure (i.e. size) in a (directed graph). Several papers try to hint at the fact that the <i>motif profile</i> of a network is characteristic for the type of network (function). Temporal motifs are then again the time-related variant of this measure where not only the topology is taking into account, but also the temporal order of the edges. \n",
    "\n",
    "With other implementation that compute temporal motifs you do not actually make a concrete and hard split of the temporal network as is devised below, but unfortunately we did not manage to do it differently due to limitations of $igraph$ and the inability to use $TMFinder$"
   ]
  },
  {
   "cell_type": "markdown",
   "metadata": {},
   "source": [
    "$igraph$ is able to find different different motifs of different sizes in the graph (up until size 16) (i.e. the number of different subgraphs where the size is the number of vertices in the subgraph)"
   ]
  },
  {
   "cell_type": "markdown",
   "metadata": {},
   "source": [
    "In a very large network, the total number of motifs can be rather large, which makes it a very computational heavy task. There are, therefore, als sampling methods possible using the $igraph$ network by using probababilities (argument) that a branch of the motif search tree will not be explored."
   ]
  },
  {
   "cell_type": "markdown",
   "metadata": {},
   "source": [
    "Fortunately, the temporal network snapshots of the network do not result in extremely large network. Which makes it feasible to do this compuation without using a heuristic/estimation approach. The calculation can be done for all the temporal network snapshots under half an hour without the use of concurrency or any other different configurations for the notebook. "
   ]
  },
  {
   "cell_type": "markdown",
   "metadata": {},
   "source": [
    "We can look at the temporal changes of the number motifs of a certain size over the course of 10 years. Take for example the devlopment of motifs of size 11. It might be that someone is intersted in the number of different subgraphs of a certain size. The usage of size 11 is arbitrary and is just used to show one can find this number for the different snapshots of the temporal network"
   ]
  },
  {
   "cell_type": "code",
   "execution_count": 64,
   "metadata": {
    "collapsed": true
   },
   "outputs": [],
   "source": [
    "size = 11\n",
    "motifs_size = list()\n",
    "\n",
    "for network in igraph_networks:\n",
    "    motifs = network.motifs_randesu()\n",
    "    motifs_size.append(motifs[size])"
   ]
  },
  {
   "cell_type": "markdown",
   "metadata": {},
   "source": [
    "And we can once again plot the result to see how the number of subgraphs of the specified size changes over time."
   ]
  },
  {
   "cell_type": "code",
   "execution_count": 65,
   "metadata": {},
   "outputs": [
    {
     "data": {
      "image/png": "[encoded data removed]",
      "text/plain": [
       "<matplotlib.figure.Figure at 0x1ec9a19b828>"
      ]
     },
     "metadata": {},
     "output_type": "display_data"
    }
   ],
   "source": [
    "# growth/decline of sg of size 11\n",
    "plt.plot(years, motifs_size, 'r')\n",
    "plt.show()"
   ]
  },
  {
   "cell_type": "markdown",
   "metadata": {},
   "source": [
    "No scientifically sound conclusions can be derived from the change of these values over time. The growth/decline of the motifs <i>seem</i> to be in line with some other measures we have seen ealrier. We, however, are not working according to scientifically sound principles. For starters, no justification for the used intervals (snapshots) is given in relation to the exploration of motifs. It is,  hard to find a correlation between this visualizatio and the earlier derived conclusions/hytotheses. In addition, this is not actually the best way to compute temporal motifs since a lot fo pecularities of the network (i.e. edges) are excluded by the splits (i.e. snapshots) that were made. This is just an illustration of a more simple, less-compuational heavy way of showing the temporal properties/characteristics of motifs in a temporal network."
   ]
  },
  {
   "cell_type": "markdown",
   "metadata": {},
   "source": [
    "Let's see whether we can derive something from a visualization of the change over time of the total number of motifs in a graph (of size $\\leq 16$)"
   ]
  },
  {
   "cell_type": "code",
   "execution_count": null,
   "metadata": {
    "collapsed": true
   },
   "outputs": [],
   "source": [
    "motifs_all = list()\n",
    "\n",
    "for network in igraph_networks:\n",
    "    motifs = network.motifs_randesu_no()\n",
    "    motifs_all.append(motifs[size])"
   ]
  },
  {
   "cell_type": "code",
   "execution_count": null,
   "metadata": {
    "collapsed": true
   },
   "outputs": [],
   "source": [
    "# growth/decline of the notal number of motifs in a graph\n",
    "plt.plot(years, motifs_all, 'r')\n",
    "plt.show()"
   ]
  },
  {
   "cell_type": "markdown",
   "metadata": {},
   "source": [
    "### <font color=\"#900C3F\">2. <i>Bonus</i>: Temporal Network Analysis:</font> Computing Temporal Pagerank"
   ]
  },
  {
   "cell_type": "markdown",
   "metadata": {},
   "source": [
    "### ------------------------------------------------------------------------------------------------------------------------------------------------"
   ]
  },
  {
   "cell_type": "markdown",
   "metadata": {},
   "source": [
    "### <font color=\"red\">This is assignment is made in Jupyter notebooks, if you (the end user/reviewer/evaluator) want to evaluate the differen notebooks and/or the data that has been generated, you can find our project folder by clicking the on the following link: <a href=\"https://www.dropbox.com/sh/ntcu276cz10im3z/AABGDdRGd1dp507_YSDVqsUXa?dl=0\">Advanced Homework Project Folder</a>. We used a version control manager for the assignments, but the repository is private at the moment which is why we are sharing our resources as a DropBox folder instead. The link will remain live until 18 February 2018.</font>"
   ]
  },
  {
   "cell_type": "markdown",
   "metadata": {},
   "source": [
    "### ------------------------------------------------------------------------------------------------------------------------------------------------"
   ]
  },
  {
   "cell_type": "markdown",
   "metadata": {},
   "source": [
    "### Peer review\n",
    "During our work on this assignment, all four group members have tried their best to contribute equally to the completion of the assignment. Naturally though, some group members are more experienced with the programming language that we chose, Python. Furthermore, some group members also have more experience with similar assignments about similar data-sets and their analysis. Therefore, they were able to use their time more efficiently, working on the assignment instead of researching how Python works, for instance.\n",
    "\n",
    "However, since all group members have worked hard on the assignment and have shown that they wanted to contribute all that they could, we do not feel that these differences should be reflected in grading. We think that every member of our group deserves to get the same grade for their contribution."
   ]
  }
 ],
 "metadata": {
  "kernelspec": {
   "display_name": "Python 3",
   "language": "python",
   "name": "python3"
  },
  "language_info": {
   "codemirror_mode": {
    "name": "ipython",
    "version": 3
   },
   "file_extension": ".py",
   "mimetype": "text/x-python",
   "name": "python",
   "nbconvert_exporter": "python",
   "pygments_lexer": "ipython3",
   "version": "3.6.3"
  }
 },
 "nbformat": 4,
 "nbformat_minor": 2
}
