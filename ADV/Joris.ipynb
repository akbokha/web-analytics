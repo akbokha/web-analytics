{
 "cells": [
  {
   "cell_type": "markdown",
   "metadata": {},
   "source": [
    "### Evolving Network Analysis - January 2018\n",
    "#### <i>Abdel K. Bokharouss, Joris Rombouts, Bart van Helvert, Remco Surtel</i>"
   ]
  },
  {
   "cell_type": "markdown",
   "metadata": {},
   "source": [
    "### <font color = \"green\">imports and preparation</font>"
   ]
  },
  {
   "cell_type": "code",
   "execution_count": 1,
   "metadata": {
    "collapsed": true
   },
   "outputs": [],
   "source": [
    "import pandas as pd\n",
    "import numpy as np\n",
    "import networkx as nx\n",
    "import datetime\n",
    "import tkinter\n",
    "import matplotlib.pyplot as plt\n",
    "import seaborn as sns\n",
    "sns.set(color_codes=True)"
   ]
  },
  {
   "cell_type": "code",
   "execution_count": 2,
   "metadata": {},
   "outputs": [
    {
     "data": {
      "text/plain": [
       "['1 6 1028243088 1120917090\\n',\n",
       " '1 8 1029885647 1136791625\\n',\n",
       " '1 9 1029885647 1136791625\\n',\n",
       " '1 3 1028243088 1143227562\\n',\n",
       " '1 3 1146727453 1148998304\\n',\n",
       " '1 5 1028243088 1184096745\\n',\n",
       " '1 2 1028243088 1184096745\\n',\n",
       " '1 3 1149598035 1184096745\\n',\n",
       " '1 4 1028243088 1184096745\\n',\n",
       " '1 7 1028243088 1184096745\\n']"
      ]
     },
     "execution_count": 2,
     "metadata": {},
     "output_type": "execute_result"
    }
   ],
   "source": [
    "with open(\"./data/tgraph_real_wikiedithyperlinks.txt\") as file:\n",
    "    peek = file.readlines()[:10]\n",
    "peek"
   ]
  },
  {
   "cell_type": "code",
   "execution_count": 3,
   "metadata": {
    "collapsed": true
   },
   "outputs": [],
   "source": [
    "temp_nw = pd.read_table(\"./data/tgraph_real_wikiedithyperlinks.txt\", header = None, sep = \" \",\n",
    "                       names = [\"src\", \"trg\", \"start\", \"end\"])"
   ]
  },
  {
   "cell_type": "code",
   "execution_count": 4,
   "metadata": {},
   "outputs": [
    {
     "data": {
      "text/html": [
       "<div>\n",
       "<style>\n",
       "    .dataframe thead tr:only-child th {\n",
       "        text-align: right;\n",
       "    }\n",
       "\n",
       "    .dataframe thead th {\n",
       "        text-align: left;\n",
       "    }\n",
       "\n",
       "    .dataframe tbody tr th {\n",
       "        vertical-align: top;\n",
       "    }\n",
       "</style>\n",
       "<table border=\"1\" class=\"dataframe\">\n",
       "  <thead>\n",
       "    <tr style=\"text-align: right;\">\n",
       "      <th></th>\n",
       "      <th>src</th>\n",
       "      <th>trg</th>\n",
       "      <th>start</th>\n",
       "      <th>end</th>\n",
       "    </tr>\n",
       "  </thead>\n",
       "  <tbody>\n",
       "    <tr>\n",
       "      <th>0</th>\n",
       "      <td>1</td>\n",
       "      <td>6</td>\n",
       "      <td>1028243088</td>\n",
       "      <td>1120917090</td>\n",
       "    </tr>\n",
       "    <tr>\n",
       "      <th>1</th>\n",
       "      <td>1</td>\n",
       "      <td>8</td>\n",
       "      <td>1029885647</td>\n",
       "      <td>1136791625</td>\n",
       "    </tr>\n",
       "    <tr>\n",
       "      <th>2</th>\n",
       "      <td>1</td>\n",
       "      <td>9</td>\n",
       "      <td>1029885647</td>\n",
       "      <td>1136791625</td>\n",
       "    </tr>\n",
       "    <tr>\n",
       "      <th>3</th>\n",
       "      <td>1</td>\n",
       "      <td>3</td>\n",
       "      <td>1028243088</td>\n",
       "      <td>1143227562</td>\n",
       "    </tr>\n",
       "    <tr>\n",
       "      <th>4</th>\n",
       "      <td>1</td>\n",
       "      <td>3</td>\n",
       "      <td>1146727453</td>\n",
       "      <td>1148998304</td>\n",
       "    </tr>\n",
       "  </tbody>\n",
       "</table>\n",
       "</div>"
      ],
      "text/plain": [
       "   src  trg       start         end\n",
       "0    1    6  1028243088  1120917090\n",
       "1    1    8  1029885647  1136791625\n",
       "2    1    9  1029885647  1136791625\n",
       "3    1    3  1028243088  1143227562\n",
       "4    1    3  1146727453  1148998304"
      ]
     },
     "execution_count": 4,
     "metadata": {},
     "output_type": "execute_result"
    }
   ],
   "source": [
    "temp_nw.head()"
   ]
  },
  {
   "cell_type": "code",
   "execution_count": 5,
   "metadata": {
    "collapsed": true,
    "scrolled": true
   },
   "outputs": [],
   "source": [
    "temp_nw['start'] = pd.to_datetime(temp_nw['start'], unit = 's') #convert Unix timestamps to date time, utc = 0\n",
    "temp_nw['end'] = pd.to_datetime(temp_nw['end'], unit = 's')"
   ]
  },
  {
   "cell_type": "code",
   "execution_count": 6,
   "metadata": {},
   "outputs": [
    {
     "data": {
      "text/html": [
       "<div>\n",
       "<style>\n",
       "    .dataframe thead tr:only-child th {\n",
       "        text-align: right;\n",
       "    }\n",
       "\n",
       "    .dataframe thead th {\n",
       "        text-align: left;\n",
       "    }\n",
       "\n",
       "    .dataframe tbody tr th {\n",
       "        vertical-align: top;\n",
       "    }\n",
       "</style>\n",
       "<table border=\"1\" class=\"dataframe\">\n",
       "  <thead>\n",
       "    <tr style=\"text-align: right;\">\n",
       "      <th></th>\n",
       "      <th>src</th>\n",
       "      <th>trg</th>\n",
       "      <th>start</th>\n",
       "      <th>end</th>\n",
       "    </tr>\n",
       "  </thead>\n",
       "  <tbody>\n",
       "    <tr>\n",
       "      <th>0</th>\n",
       "      <td>1</td>\n",
       "      <td>6</td>\n",
       "      <td>2002-08-01 23:04:48</td>\n",
       "      <td>2005-07-09 13:51:30</td>\n",
       "    </tr>\n",
       "    <tr>\n",
       "      <th>1</th>\n",
       "      <td>1</td>\n",
       "      <td>8</td>\n",
       "      <td>2002-08-20 23:20:47</td>\n",
       "      <td>2006-01-09 07:27:05</td>\n",
       "    </tr>\n",
       "    <tr>\n",
       "      <th>2</th>\n",
       "      <td>1</td>\n",
       "      <td>9</td>\n",
       "      <td>2002-08-20 23:20:47</td>\n",
       "      <td>2006-01-09 07:27:05</td>\n",
       "    </tr>\n",
       "    <tr>\n",
       "      <th>3</th>\n",
       "      <td>1</td>\n",
       "      <td>3</td>\n",
       "      <td>2002-08-01 23:04:48</td>\n",
       "      <td>2006-03-24 19:12:42</td>\n",
       "    </tr>\n",
       "    <tr>\n",
       "      <th>4</th>\n",
       "      <td>1</td>\n",
       "      <td>3</td>\n",
       "      <td>2006-05-04 07:24:13</td>\n",
       "      <td>2006-05-30 14:11:44</td>\n",
       "    </tr>\n",
       "    <tr>\n",
       "      <th>5</th>\n",
       "      <td>1</td>\n",
       "      <td>5</td>\n",
       "      <td>2002-08-01 23:04:48</td>\n",
       "      <td>2007-07-10 19:45:45</td>\n",
       "    </tr>\n",
       "    <tr>\n",
       "      <th>6</th>\n",
       "      <td>1</td>\n",
       "      <td>2</td>\n",
       "      <td>2002-08-01 23:04:48</td>\n",
       "      <td>2007-07-10 19:45:45</td>\n",
       "    </tr>\n",
       "    <tr>\n",
       "      <th>7</th>\n",
       "      <td>1</td>\n",
       "      <td>3</td>\n",
       "      <td>2006-06-06 12:47:15</td>\n",
       "      <td>2007-07-10 19:45:45</td>\n",
       "    </tr>\n",
       "    <tr>\n",
       "      <th>8</th>\n",
       "      <td>1</td>\n",
       "      <td>4</td>\n",
       "      <td>2002-08-01 23:04:48</td>\n",
       "      <td>2007-07-10 19:45:45</td>\n",
       "    </tr>\n",
       "    <tr>\n",
       "      <th>9</th>\n",
       "      <td>1</td>\n",
       "      <td>7</td>\n",
       "      <td>2002-08-01 23:04:48</td>\n",
       "      <td>2007-07-10 19:45:45</td>\n",
       "    </tr>\n",
       "  </tbody>\n",
       "</table>\n",
       "</div>"
      ],
      "text/plain": [
       "   src  trg               start                 end\n",
       "0    1    6 2002-08-01 23:04:48 2005-07-09 13:51:30\n",
       "1    1    8 2002-08-20 23:20:47 2006-01-09 07:27:05\n",
       "2    1    9 2002-08-20 23:20:47 2006-01-09 07:27:05\n",
       "3    1    3 2002-08-01 23:04:48 2006-03-24 19:12:42\n",
       "4    1    3 2006-05-04 07:24:13 2006-05-30 14:11:44\n",
       "5    1    5 2002-08-01 23:04:48 2007-07-10 19:45:45\n",
       "6    1    2 2002-08-01 23:04:48 2007-07-10 19:45:45\n",
       "7    1    3 2006-06-06 12:47:15 2007-07-10 19:45:45\n",
       "8    1    4 2002-08-01 23:04:48 2007-07-10 19:45:45\n",
       "9    1    7 2002-08-01 23:04:48 2007-07-10 19:45:45"
      ]
     },
     "execution_count": 6,
     "metadata": {},
     "output_type": "execute_result"
    }
   ],
   "source": [
    "temp_nw.head(10)"
   ]
  },
  {
   "cell_type": "code",
   "execution_count": 7,
   "metadata": {},
   "outputs": [
    {
     "name": "stdout",
     "output_type": "stream",
     "text": [
      "2002-08-02 01:04:48\n"
     ]
    }
   ],
   "source": [
    "print(\n",
    "    datetime.datetime.fromtimestamp(\n",
    "        int(\"1028243088\")\n",
    "    ).strftime('%Y-%m-%d %H:%M:%S')\n",
    ")"
   ]
  },
  {
   "cell_type": "code",
   "execution_count": 8,
   "metadata": {},
   "outputs": [
    {
     "data": {
      "text/html": [
       "<div>\n",
       "<style>\n",
       "    .dataframe thead tr:only-child th {\n",
       "        text-align: right;\n",
       "    }\n",
       "\n",
       "    .dataframe thead th {\n",
       "        text-align: left;\n",
       "    }\n",
       "\n",
       "    .dataframe tbody tr th {\n",
       "        vertical-align: top;\n",
       "    }\n",
       "</style>\n",
       "<table border=\"1\" class=\"dataframe\">\n",
       "  <thead>\n",
       "    <tr style=\"text-align: right;\">\n",
       "      <th></th>\n",
       "      <th>src</th>\n",
       "      <th>trg</th>\n",
       "    </tr>\n",
       "  </thead>\n",
       "  <tbody>\n",
       "    <tr>\n",
       "      <th>0</th>\n",
       "      <td>1</td>\n",
       "      <td>6</td>\n",
       "    </tr>\n",
       "    <tr>\n",
       "      <th>1</th>\n",
       "      <td>1</td>\n",
       "      <td>8</td>\n",
       "    </tr>\n",
       "    <tr>\n",
       "      <th>2</th>\n",
       "      <td>1</td>\n",
       "      <td>9</td>\n",
       "    </tr>\n",
       "    <tr>\n",
       "      <th>3</th>\n",
       "      <td>1</td>\n",
       "      <td>3</td>\n",
       "    </tr>\n",
       "    <tr>\n",
       "      <th>4</th>\n",
       "      <td>1</td>\n",
       "      <td>3</td>\n",
       "    </tr>\n",
       "  </tbody>\n",
       "</table>\n",
       "</div>"
      ],
      "text/plain": [
       "   src  trg\n",
       "0    1    6\n",
       "1    1    8\n",
       "2    1    9\n",
       "3    1    3\n",
       "4    1    3"
      ]
     },
     "execution_count": 8,
     "metadata": {},
     "output_type": "execute_result"
    }
   ],
   "source": [
    "static_nw = temp_nw.copy()\n",
    "static_nw.drop(['start', 'end'], axis = 1, inplace = True)\n",
    "static_nw.head()"
   ]
  },
  {
   "cell_type": "code",
   "execution_count": 9,
   "metadata": {},
   "outputs": [
    {
     "data": {
      "text/plain": [
       "src    20037\n",
       "trg    20037\n",
       "dtype: int64"
      ]
     },
     "execution_count": 9,
     "metadata": {},
     "output_type": "execute_result"
    }
   ],
   "source": [
    "static_nw.loc[static_nw['src'] == static_nw['trg']].count()#number of self loops"
   ]
  },
  {
   "cell_type": "markdown",
   "metadata": {},
   "source": [
    "## Static Network Analysis\n",
    "\n",
    "In this analysis we ignore the time information of each edge. Therefore, we first create a graph $G_{static}$, based only on the pairs of source node and target node. In this paragraph we treat two measures: clustering coefficient and the largest connected component (LCC) which are measures that are very closely related to each other. When analyzing connectedness and clustering ask ourselves how integrated or fractured the overall network is. We look at how these  major subsystems are distributed out and their local characteristics. A graph is connected if for any node in the graph there is a path to any other node. When a graph is not connected, there will be a number of components to it. A component is a subset of nodes and edges within a that are fully connected. First, we will look at the clusters of this particular network. \n",
    "\n",
    "### Clustering coefficient\n",
    "A cluster is simply a subset of nodes and edges in a graph that posses a certain common characteristics or relate to each other in a particular manner.  So a component is simply referring ot whether a given set of nodes are all connected or not. A cluster is referring to how they are connected and how much they are connected. This is value is measured as the clustering coefficient of a node. We take a node and look at how connected a node that it links to is to other nodes that it also connceted to. In terms of social network, we asking how many of your friends know your other friends. The more your friends are interconnected, the more clustered the subset is to be. \n",
    "\n",
    "The clustering coefficient captures the ratio of existing links connecting a nodes neighbors to each other relative to the maximum possible number of links that could exist between them. \n",
    "\n",
    "The clustering coefficient is trying to capture cliquishness. In other words, the clustering coefficient of a node in a graph quentifies how close its neighbours are to be being a clique. Let $G = (V,E)$ a graph. A clique is a subset of nodes of a graph such that every two distinct nodes in the clique are adjacent. More formal: a clique is a subset $C \\subseteq V$ such that $(u,v)$ in $E$ for all pairs $u,v$ in $C$.  In fact, a clique is a complete sub-graph, which means that in a clique, each node has a direct link with each other node.\n",
    "\n",
    "The clustering coefficient represents the fraction of possible interconnectors between the neighbors of a node $u$. The clustering coefficient is a value between zero and one. The coefficient equals zero, if $u$ is the centere of a \"star\", where his neighbors are not connected to eachother. When the clustering coefficient is one, we have a clique. This means that $u$ is connected to its neighbors, and all its neighbors are connected to each other. \n",
    "\n",
    "For unweighted undirected graphs, the clustering of a node $u$ is:\n",
    "\n",
    "$$c_u = \\frac{2 \\cdot N_u}{k_u (k_u - 1)}$$, \n",
    "\n",
    "where $k_u$ is the degree of node $u$ and $N_u$ is the number of links between the neighbors of $u$. \n",
    "Note that in this measure we will read and create a static graph $G_{static}$ as an undirected graph. The clustering coefficient that we calculate is just two times the clustering coeffecient for each node times two. This is because in an undirected graph, a directed edge is considered as two directed edges, one from the node to another node and one node the other way around. First, we open the graph as an undirected graph."
   ]
  },
  {
   "cell_type": "code",
   "execution_count": 10,
   "metadata": {
    "collapsed": true
   },
   "outputs": [],
   "source": [
    "#np.savetxt(r'./data/tgraph_real_wikiedithyperlinks_NoTime.txt', static_nw.values, fmt='%d')"
   ]
  },
  {
   "cell_type": "code",
   "execution_count": 11,
   "metadata": {
    "collapsed": true
   },
   "outputs": [],
   "source": [
    "fh = open(\"data/tgraph_real_wikiedithyperlinks_NoTime.txt\", 'rb')\n",
    "G_static = nx.read_edgelist(fh,create_using=nx.Graph())\n",
    "fh.close()"
   ]
  },
  {
   "cell_type": "code",
   "execution_count": 12,
   "metadata": {
    "collapsed": true
   },
   "outputs": [],
   "source": [
    "#G_static = nx.from_pandas_dataframe(static_nw, 'src', 'trg')"
   ]
  },
  {
   "cell_type": "markdown",
   "metadata": {},
   "source": [
    "The <i>NetworkX</i> library is used for calculating the cluster coefficient for each node. After that we store the results of each node in a dataframe, which is later saved as a csv file, to prevent that we have to run this time-consuming processing again.  "
   ]
  },
  {
   "cell_type": "code",
   "execution_count": 13,
   "metadata": {
    "collapsed": true
   },
   "outputs": [],
   "source": [
    "#cluster_score = nx.clustering(G_static)"
   ]
  },
  {
   "cell_type": "code",
   "execution_count": 14,
   "metadata": {
    "collapsed": true
   },
   "outputs": [],
   "source": [
    "#df_cluster_score = pd.DataFrame(list(cluster_score.items()), columns=['Node', 'Cluster Coefficient'])\n",
    "df_cluster_score = pd.read_csv('data/cluster_score.csv')"
   ]
  },
  {
   "cell_type": "code",
   "execution_count": 15,
   "metadata": {},
   "outputs": [
    {
     "data": {
      "text/html": [
       "<div>\n",
       "<style>\n",
       "    .dataframe thead tr:only-child th {\n",
       "        text-align: right;\n",
       "    }\n",
       "\n",
       "    .dataframe thead th {\n",
       "        text-align: left;\n",
       "    }\n",
       "\n",
       "    .dataframe tbody tr th {\n",
       "        vertical-align: top;\n",
       "    }\n",
       "</style>\n",
       "<table border=\"1\" class=\"dataframe\">\n",
       "  <thead>\n",
       "    <tr style=\"text-align: right;\">\n",
       "      <th></th>\n",
       "      <th>Node</th>\n",
       "      <th>Cluster Coefficient</th>\n",
       "    </tr>\n",
       "  </thead>\n",
       "  <tbody>\n",
       "    <tr>\n",
       "      <th>233690</th>\n",
       "      <td>153477</td>\n",
       "      <td>1.0</td>\n",
       "    </tr>\n",
       "    <tr>\n",
       "      <th>644700</th>\n",
       "      <td>977681</td>\n",
       "      <td>1.0</td>\n",
       "    </tr>\n",
       "    <tr>\n",
       "      <th>131774</th>\n",
       "      <td>312446</td>\n",
       "      <td>1.0</td>\n",
       "    </tr>\n",
       "    <tr>\n",
       "      <th>580493</th>\n",
       "      <td>899623</td>\n",
       "      <td>1.0</td>\n",
       "    </tr>\n",
       "    <tr>\n",
       "      <th>580484</th>\n",
       "      <td>899605</td>\n",
       "      <td>1.0</td>\n",
       "    </tr>\n",
       "  </tbody>\n",
       "</table>\n",
       "</div>"
      ],
      "text/plain": [
       "          Node  Cluster Coefficient\n",
       "233690  153477                  1.0\n",
       "644700  977681                  1.0\n",
       "131774  312446                  1.0\n",
       "580493  899623                  1.0\n",
       "580484  899605                  1.0"
      ]
     },
     "execution_count": 15,
     "metadata": {},
     "output_type": "execute_result"
    }
   ],
   "source": [
    "df_cluster_score.sort_values(by=['Cluster Coefficient'], inplace = True, ascending = False)\n",
    "df_cluster_score.head()"
   ]
  },
  {
   "cell_type": "markdown",
   "metadata": {},
   "source": [
    "The most interesting values of the clustering coefficient are $0$ and $1$, i.e. the nodes that have neighbor nodes who are entirely not connected to each other and nodes that have neighbor nodes who are entirely connected. First, we count the nodes who have a cluster coefficient of $1$."
   ]
  },
  {
   "cell_type": "code",
   "execution_count": 16,
   "metadata": {},
   "outputs": [
    {
     "data": {
      "text/plain": [
       "Node                   28638\n",
       "Cluster Coefficient    28638\n",
       "dtype: int64"
      ]
     },
     "execution_count": 16,
     "metadata": {},
     "output_type": "execute_result"
    }
   ],
   "source": [
    "df_cluster_score.loc[df_cluster_score['Cluster Coefficient'] == 1.0].count()#number of nodes with coefficient of 1, i.e. that are a clique"
   ]
  },
  {
   "cell_type": "markdown",
   "metadata": {},
   "source": [
    "We see that $\\frac{28638}{678907} \\cdot 100 \\text{%} = 4.2$% of the nodes have a cluster coefficient of $1$. So only $4.2$% of the nodes have adjacent nodes that have link between themzelves, in other words, are a clique. In terms of a (social) network this means that these are group of articles all of whom have a link to each other. We can also imagine that in such a large network there are many group of articles all of whom have no link to each other. In the following cell we calculate this number of articles by counting the rows with a value of $0$ for `Cluster Coefficient`."
   ]
  },
  {
   "cell_type": "code",
   "execution_count": 17,
   "metadata": {},
   "outputs": [
    {
     "data": {
      "text/plain": [
       "Node                   389677\n",
       "Cluster Coefficient    389677\n",
       "dtype: int64"
      ]
     },
     "execution_count": 17,
     "metadata": {},
     "output_type": "execute_result"
    }
   ],
   "source": [
    "df_cluster_score.loc[df_cluster_score['Cluster Coefficient'] == 0.0].count()#number of nodes with coefficient of 0, i.e. nodes that are connected to no other (neighbor) nodes"
   ]
  },
  {
   "cell_type": "markdown",
   "metadata": {},
   "source": [
    "As one can see, $\\frac{389677}{678907} \\cdot 100 \\text{%} = 57$% of the nodes  have no links between the neighbor nodes themselves. This means that more than half of the nodes have neighbor nodes who have no link between them. So these nodes can be considered as the centre of a \"star\". This means that articles that are linked to the wiki page are in most of the time articles that give some additional information to the wiki page, information that was not on other articles already linked to the wiki page. "
   ]
  },
  {
   "cell_type": "code",
   "execution_count": 18,
   "metadata": {
    "collapsed": true
   },
   "outputs": [],
   "source": [
    "#df_cluster_score.to_csv('data/cluster_score.csv')"
   ]
  },
  {
   "cell_type": "code",
   "execution_count": 19,
   "metadata": {},
   "outputs": [
    {
     "data": {
      "image/png": "[encoded data removed]",
      "text/plain": [
       "<matplotlib.figure.Figure at 0x15112962710>"
      ]
     },
     "metadata": {},
     "output_type": "display_data"
    }
   ],
   "source": [
    "df_cluster_score.hist(column='Cluster Coefficient', bins = 20);\n",
    "plt.show()"
   ]
  },
  {
   "cell_type": "markdown",
   "metadata": {},
   "source": [
    "Note that the clustering coefficient of a graph is just the average of the clustering coefficient of all nodes. \n",
    "<font color=\"red\">todo: add clustering coefficient distribution http://konect.uni-koblenz.de/plots/cluscod --> cumulative plot !</font>"
   ]
  },
  {
   "cell_type": "code",
   "execution_count": 20,
   "metadata": {
    "collapsed": true
   },
   "outputs": [],
   "source": [
    "base = np.histogram(df_cluster_score['Cluster Coefficient'], bins = 20)"
   ]
  },
  {
   "cell_type": "code",
   "execution_count": 21,
   "metadata": {},
   "outputs": [
    {
     "data": {
      "image/png": "[encoded data removed]",
      "text/plain": [
       "<matplotlib.figure.Figure at 0x15112962128>"
      ]
     },
     "metadata": {},
     "output_type": "display_data"
    }
   ],
   "source": [
    "plt.plot(base[:-1], c=\"green\");\n",
    "plt.show()"
   ]
  },
  {
   "cell_type": "code",
   "execution_count": 22,
   "metadata": {},
   "outputs": [],
   "source": [
    "#nx.average_clustering(G_static)\n",
    "#avg_cluster_score_complete = nx.average_clustering(G_static)\n",
    "#avg_cluster_score_complete"
   ]
  },
  {
   "cell_type": "code",
   "execution_count": 23,
   "metadata": {
    "collapsed": true
   },
   "outputs": [],
   "source": [
    "#nx.draw(G_static)\n",
    "#plt.show()"
   ]
  },
  {
   "cell_type": "markdown",
   "metadata": {},
   "source": [
    "Average cluster coefficient score complete graph: $0.114$"
   ]
  },
  {
   "cell_type": "markdown",
   "metadata": {},
   "source": [
    "### Largest connected component (LCC)\n",
    "\n",
    "The number of components says something about how a network is fractioned. Before we check for the largest connected component, we first check how many connected components there are in this network. "
   ]
  },
  {
   "cell_type": "code",
   "execution_count": 24,
   "metadata": {},
   "outputs": [
    {
     "data": {
      "text/plain": [
       "6324"
      ]
     },
     "execution_count": 24,
     "metadata": {},
     "output_type": "execute_result"
    }
   ],
   "source": [
    "number_of_connected_components = nx.number_connected_components(G_static)\n",
    "number_of_connected_components"
   ]
  },
  {
   "cell_type": "markdown",
   "metadata": {},
   "source": [
    "The network contains $6324$ connected components, which is quite a lot. One can image that the network looks like a fractioned network because of this. To conclude this, we will calculate how many of these connected components consist of only one single edge (two nodes) and the difference between the smallest connected component of length greater than one and the largest connected component. We run `connected_component_subgraphs()` algorithm of the <i>NetworkX library</i>. This algorithm generates a set of nodes, one for each component in the graph. Finding all the connected component for an undirected is easy, because we can simply run the wel known  `breadth first search` algorithm starting from every unvisited node to get all connected components. This is exactly what the `connected_component_subgraphs()` of <i>NetworkX</i> does. All the $6324$ connected components are written to a <i>.edgelist</i>, so that we only have to run this, very time consuming algorithm, once. "
   ]
  },
  {
   "cell_type": "code",
   "execution_count": 25,
   "metadata": {
    "collapsed": true
   },
   "outputs": [],
   "source": [
    "#list_connected_components = list(nx.connected_component_subgraphs(G_static))"
   ]
  },
  {
   "cell_type": "code",
   "execution_count": 26,
   "metadata": {
    "collapsed": true
   },
   "outputs": [],
   "source": [
    "#for i in range(0, len(list_connected_components)):\n",
    "#    list_component = list_connected_components[i]\n",
    "#    nx.write_edgelist(list_component, \"subgraphs/list_connected_components\"+str(i)+\".edgelist\", data=False)"
   ]
  },
  {
   "cell_type": "markdown",
   "metadata": {},
   "source": [
    "To count how many of these connected components are of size one, two, etc. we open each graph file which we just created and check the length of the graph compared to some integer. The function below is executed for <i>length</i> <u>strictly larger </u> than $0,...,19$. The results are summarized in a table below."
   ]
  },
  {
   "cell_type": "code",
   "execution_count": 27,
   "metadata": {
    "collapsed": true
   },
   "outputs": [],
   "source": [
    "def check_size_components(length):\n",
    "    count = 0\n",
    "    for i in range(0, number_of_connected_components):\n",
    "        fh = open(\"subgraphs/list_connected_components\"+str(i)+\".edgelist\", 'rb')\n",
    "        G_component = nx.read_edgelist(fh,create_using=nx.Graph())\n",
    "        fh.close()\n",
    "        if len(G_component) > length:\n",
    "            count +=1\n",
    "            print(\"subgraphs/list_connected_components\"+str(i)+\".edgelist\")\n",
    "    return count"
   ]
  },
  {
   "cell_type": "code",
   "execution_count": 28,
   "metadata": {},
   "outputs": [
    {
     "name": "stdout",
     "output_type": "stream",
     "text": [
      "subgraphs/list_connected_components0.edgelist\n"
     ]
    },
    {
     "data": {
      "text/plain": [
       "1"
      ]
     },
     "execution_count": 28,
     "metadata": {},
     "output_type": "execute_result"
    }
   ],
   "source": [
    "length = 100 #execute this cell for length = 0,...,19\n",
    "check_size_components(length)"
   ]
  },
  {
   "cell_type": "markdown",
   "metadata": {},
   "source": [
    "| Connected component size, strictly larger than: | number of components   |\n",
    "|------|------|\n",
    "|   0  | 6324|\n",
    "|1|4937|\n",
    "|2|855|\n",
    "|3|267|\n",
    "|4|112|\n",
    "|5|56|\n",
    "|6|33|\n",
    "|7|20|\n",
    "|8|15|\n",
    "|9|12|\n",
    "|10|8|\n",
    "|...|...|\n",
    "|19|3|"
   ]
  },
  {
   "cell_type": "markdown",
   "metadata": {},
   "source": [
    "We see that there are $6324 - 4937 = 1387$ components consisting of only one edge (i.e. two nodes) . Also, there is a large decrease in number of compoonents between the second and third entry. There are $4937-855 = 4082$ components consisting of only two edges. Almost two third of the total components have just two edges, so we can conclude that there are a lot of small components in this network. We see that there are only 3 components that have more than 19 edges in the component. These are the dominating components of the graph. To get the largest connected component, we can call the `max`-operator on `list_connected_component`, but because this is a very time consuming algorithm on such a large network with so many edges, we call `check_size_components`, parameterized with length=100. "
   ]
  },
  {
   "cell_type": "code",
   "execution_count": 29,
   "metadata": {},
   "outputs": [
    {
     "name": "stdout",
     "output_type": "stream",
     "text": [
      "subgraphs/list_connected_components0.edgelist\n"
     ]
    },
    {
     "data": {
      "text/plain": [
       "1"
      ]
     },
     "execution_count": 29,
     "metadata": {},
     "output_type": "execute_result"
    }
   ],
   "source": [
    "length = 100 #execute this cell for length = 0,...,19\n",
    "check_size_components(length)"
   ]
  },
  {
   "cell_type": "markdown",
   "metadata": {},
   "source": [
    "So there is only one connected component with more than 100 number of edges in it. This connected component is the largest connected component of $G_{static}$. To get more information about this largest connected component, we load <i>list_connected_components0.edgelist</i> into a variable <i>largest_cc</i>."
   ]
  },
  {
   "cell_type": "code",
   "execution_count": 30,
   "metadata": {
    "collapsed": true
   },
   "outputs": [],
   "source": [
    "fh = open(\"subgraphs/list_connected_components0.edgelist\", 'rb')\n",
    "largest_cc = nx.read_edgelist(fh,create_using=nx.Graph())\n",
    "fh.close()"
   ]
  },
  {
   "cell_type": "code",
   "execution_count": 31,
   "metadata": {},
   "outputs": [
    {
     "data": {
      "text/plain": [
       "666195"
      ]
     },
     "execution_count": 31,
     "metadata": {},
     "output_type": "execute_result"
    }
   ],
   "source": [
    "len(largest_cc)"
   ]
  },
  {
   "cell_type": "markdown",
   "metadata": {},
   "source": [
    "We see that the largest connected component consist of $666195$ edges, so this is very large compared to the second, third, etc. connected components. Because the graph is loaded as an undirected graph, it makes sense that there is a large connected component. Almost every page linked to the wiki page, also has an incoming or outcoming edge inside the domain (wiki-page in this case). Because the largest connected component is of such large size, it might be interesting to plot the other top five largest connected components of $G_static$ to take a quick look at their structure. The remaining top-5 of largest connected components (besides the largest connected component itself) are the following files, sorted from largest to smallest:\n",
    "* <i>list_connected_components3587.edgelist</i>\n",
    "* <i>list_connected_components3001.edgelist</i>\n",
    "* <i>list_connected_components2684.edgelist</i>\n",
    "* <i>list_connected_components253.edgelist</i>\n",
    "\n",
    "We will plot each of these connected components to find something interesting.\n",
    "\n",
    "#### Second largest component"
   ]
  },
  {
   "cell_type": "code",
   "execution_count": 32,
   "metadata": {
    "collapsed": true
   },
   "outputs": [],
   "source": [
    "fh = open(\"subgraphs/list_connected_components3587.edgelist\", 'rb')\n",
    "second_largest_cc = nx.read_edgelist(fh,create_using=nx.Graph())\n",
    "fh.close()"
   ]
  },
  {
   "cell_type": "code",
   "execution_count": 33,
   "metadata": {},
   "outputs": [
    {
     "data": {
      "image/png": "[encoded data removed]",
      "text/plain": [
       "<matplotlib.figure.Figure at 0x15169305f98>"
      ]
     },
     "metadata": {},
     "output_type": "display_data"
    }
   ],
   "source": [
    "nx.draw(second_largest_cc);\n",
    "plt.show()"
   ]
  },
  {
   "cell_type": "markdown",
   "metadata": {},
   "source": [
    "#### Third largest component"
   ]
  },
  {
   "cell_type": "code",
   "execution_count": 34,
   "metadata": {},
   "outputs": [
    {
     "data": {
      "image/png": "[encoded data removed]",
      "text/plain": [
       "<matplotlib.figure.Figure at 0x15112b4ad30>"
      ]
     },
     "metadata": {},
     "output_type": "display_data"
    }
   ],
   "source": [
    "fh = open(\"subgraphs/list_connected_components3001.edgelist\", 'rb')\n",
    "third_largest_cc = nx.read_edgelist(fh,create_using=nx.Graph())\n",
    "fh.close()\n",
    "nx.draw(third_largest_cc);\n",
    "plt.show()"
   ]
  },
  {
   "cell_type": "markdown",
   "metadata": {},
   "source": [
    "#### Fourth largest component"
   ]
  },
  {
   "cell_type": "code",
   "execution_count": 35,
   "metadata": {},
   "outputs": [
    {
     "data": {
      "image/png": "[encoded data removed]",
      "text/plain": [
       "<matplotlib.figure.Figure at 0x15112b4afd0>"
      ]
     },
     "metadata": {},
     "output_type": "display_data"
    }
   ],
   "source": [
    "fh = open(\"subgraphs/list_connected_components2684.edgelist\", 'rb')\n",
    "fourth_largest_cc = nx.read_edgelist(fh,create_using=nx.Graph())\n",
    "fh.close()\n",
    "nx.draw(fourth_largest_cc);\n",
    "plt.show()"
   ]
  },
  {
   "cell_type": "markdown",
   "metadata": {},
   "source": [
    "#### Fifth largest component"
   ]
  },
  {
   "cell_type": "code",
   "execution_count": 36,
   "metadata": {},
   "outputs": [
    {
     "data": {
      "image/png": "[encoded data removed]",
      "text/plain": [
       "<matplotlib.figure.Figure at 0x151693054e0>"
      ]
     },
     "metadata": {},
     "output_type": "display_data"
    }
   ],
   "source": [
    "fh = open(\"subgraphs/list_connected_components253.edgelist\", 'rb')\n",
    "fifth_largest_cc = nx.read_edgelist(fh,create_using=nx.Graph())\n",
    "fh.close()\n",
    "nx.draw(fifth_largest_cc);\n",
    "plt.show()"
   ]
  },
  {
   "cell_type": "markdown",
   "metadata": {},
   "source": [
    "We see that the remaining top four largest connected component have one thing in common. Three of the top four largest connected components are a star. We have seen in the previous paragraph that the centre node of the star have a clustering coefficient of 0, because the adjacent nodes of the centre node have no links betweem themselves. We see that the clustering coefficient and largest connected component(s) are indeed related. To check are assumptions, we run the clustering coefficient algorithm of <i>NetworkX</i> on the top five connected components. "
   ]
  },
  {
   "cell_type": "code",
   "execution_count": 37,
   "metadata": {},
   "outputs": [
    {
     "data": {
      "text/plain": [
       "0.11571342408842941"
      ]
     },
     "execution_count": 37,
     "metadata": {},
     "output_type": "execute_result"
    }
   ],
   "source": [
    "cluster_score_largest = nx.average_clustering(largest_cc)\n",
    "cluster_score_largest"
   ]
  },
  {
   "cell_type": "code",
   "execution_count": 38,
   "metadata": {
    "scrolled": true
   },
   "outputs": [
    {
     "data": {
      "text/plain": [
       "0.0"
      ]
     },
     "execution_count": 38,
     "metadata": {},
     "output_type": "execute_result"
    }
   ],
   "source": [
    "cluster_score_second = nx.average_clustering(second_largest_cc)\n",
    "cluster_score_second"
   ]
  },
  {
   "cell_type": "code",
   "execution_count": 39,
   "metadata": {},
   "outputs": [
    {
     "data": {
      "text/plain": [
       "0.9333333333333335"
      ]
     },
     "execution_count": 39,
     "metadata": {},
     "output_type": "execute_result"
    }
   ],
   "source": [
    "cluster_score_third = nx.average_clustering(third_largest_cc)\n",
    "cluster_score_third"
   ]
  },
  {
   "cell_type": "code",
   "execution_count": 40,
   "metadata": {},
   "outputs": [
    {
     "data": {
      "text/plain": [
       "0.0"
      ]
     },
     "execution_count": 40,
     "metadata": {},
     "output_type": "execute_result"
    }
   ],
   "source": [
    "cluster_score_fourth = nx.average_clustering(fourth_largest_cc)\n",
    "cluster_score_fourth"
   ]
  },
  {
   "cell_type": "code",
   "execution_count": 41,
   "metadata": {},
   "outputs": [
    {
     "data": {
      "text/plain": [
       "0.0"
      ]
     },
     "execution_count": 41,
     "metadata": {},
     "output_type": "execute_result"
    }
   ],
   "source": [
    "cluster_score_fifth = nx.average_clustering(fifth_largest_cc)\n",
    "cluster_score_fifth"
   ]
  },
  {
   "cell_type": "markdown",
   "metadata": {},
   "source": [
    "The results above indeed confirms our hypotheses. The connected components that are a star have an average clustering coefficient of 0. The largest connected component has an average clustering coefficient of $0.116$, which is much higher/lower than the average clustering coefficient of the whole graph $G_{static}$. This means that the largest connected is very minimal connected. The average clustering coefficient is closer to one then to one, so although it is a connected component, the nodes are not very high connected between themselves. The largest connected component can also be related to the diameter of the graph, which is treated as another measure in this report. The diameter of a network is the longest of all the calculated shortest paths in a network. The largest connected component is also a connected component which is very \"deep\" or long as you can see. Therefore, the longest of all the calculated shortest paths in a network is a path that is in a connected component by defenition, and very likely to be in the largest connected component (because the LCC is the component with the longest connected sequences in it). To check this, we can calculate the longest path of all the shortest path in this particular LCC, to make a relation between the diameter and the LCC. We do this in the following cell. <font color=\"red\">todo: calc diameter in largest_cc!</font>"
   ]
  },
  {
   "cell_type": "code",
   "execution_count": 43,
   "metadata": {},
   "outputs": [],
   "source": [
    "#nx.diameter(largest_cc)"
   ]
  },
  {
   "cell_type": "markdown",
   "metadata": {},
   "source": [
    "This equals the diameter that is calculated in the paragraph which treats the diameter measure, as we expected."
   ]
  }
 ],
 "metadata": {
  "kernelspec": {
   "display_name": "Python 3",
   "language": "python",
   "name": "python3"
  },
  "language_info": {
   "codemirror_mode": {
    "name": "ipython",
    "version": 3
   },
   "file_extension": ".py",
   "mimetype": "text/x-python",
   "name": "python",
   "nbconvert_exporter": "python",
   "pygments_lexer": "ipython3",
   "version": "3.6.3"
  }
 },
 "nbformat": 4,
 "nbformat_minor": 2
}
