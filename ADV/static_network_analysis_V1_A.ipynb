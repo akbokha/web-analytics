{
 "cells": [
  {
   "cell_type": "markdown",
   "metadata": {},
   "source": [
    "### Task 1: Static Network Analysis\n",
    "* Degree (in-degree/out-degree)\n",
    "* Diameter\n",
    "* <i>(Mean shortest path length)\n",
    "* (Top-k eigenvalues)\n",
    "* (Betweennes centrality)\n",
    "* (Closeness centrality)</i>"
   ]
  },
  {
   "cell_type": "markdown",
   "metadata": {},
   "source": [
    "A temporal network is goint to be analysed which consists of 678907 vertices and 4729035 edges, where each edge has time information associated with it. Some of the edges have the same source and target vertex, but are association with different timestamps. This statick network analysi, however, ignores time-information and thus we use a graph build solely on the pairs of source and target vertices."
   ]
  },
  {
   "cell_type": "markdown",
   "metadata": {},
   "source": [
    "### <font color=\"darkgreen\">Imports, configuation and preprocessing</font>"
   ]
  },
  {
   "cell_type": "code",
   "execution_count": 124,
   "metadata": {
    "collapsed": true
   },
   "outputs": [],
   "source": [
    "import pandas as pd\n",
    "import numpy as np\n",
    "import networkx as nx\n",
    "import matplotlib.pyplot as plt\n",
    "import seaborn as sns\n",
    "import math"
   ]
  },
  {
   "cell_type": "markdown",
   "metadata": {},
   "source": [
    "#### Directed Graph with parallel edges (due to different timestamps of the edges between pairs of vertices)"
   ]
  },
  {
   "cell_type": "code",
   "execution_count": 2,
   "metadata": {
    "collapsed": true
   },
   "outputs": [],
   "source": [
    "wiki = open(\"data/tgraph_real_wikiedithyperlinks_noTime.txt\", 'rb')\n",
    "G_par = nx.read_edgelist(wiki, create_using=nx.MultiDiGraph())\n",
    "wiki.close()"
   ]
  },
  {
   "cell_type": "markdown",
   "metadata": {},
   "source": [
    "#### Directed Graph used for static network analysis"
   ]
  },
  {
   "cell_type": "code",
   "execution_count": 3,
   "metadata": {
    "collapsed": true
   },
   "outputs": [],
   "source": [
    "wiki = open(\"data/tgraph_real_wikiedithyperlinks_noTime.txt\", 'rb')\n",
    "G = nx.read_edgelist(wiki, create_using=nx.DiGraph())\n",
    "wiki.close()"
   ]
  },
  {
   "cell_type": "code",
   "execution_count": 4,
   "metadata": {
    "collapsed": true
   },
   "outputs": [],
   "source": [
    "def create_dataframe(G_in):\n",
    "    df_edge_in = pd.DataFrame(list(G_in.in_degree()), columns=['node', 'in edges'])\n",
    "    df_edge_out = pd.DataFrame(list(G_in.out_degree()), columns=['node', 'out edges'])\n",
    "    df_total = pd.merge(df_edge_in, df_edge_out, on='node')\n",
    "    df_total.index = df_total.index + 1\n",
    "    return df_total"
   ]
  },
  {
   "cell_type": "code",
   "execution_count": 5,
   "metadata": {
    "collapsed": true
   },
   "outputs": [],
   "source": [
    "wiki_df_par = create_dataframe(G_par)"
   ]
  },
  {
   "cell_type": "code",
   "execution_count": 86,
   "metadata": {},
   "outputs": [
    {
     "data": {
      "text/html": [
       "<div>\n",
       "<style scoped>\n",
       "    .dataframe tbody tr th:only-of-type {\n",
       "        vertical-align: middle;\n",
       "    }\n",
       "\n",
       "    .dataframe tbody tr th {\n",
       "        vertical-align: top;\n",
       "    }\n",
       "\n",
       "    .dataframe thead th {\n",
       "        text-align: right;\n",
       "    }\n",
       "</style>\n",
       "<table border=\"1\" class=\"dataframe\">\n",
       "  <thead>\n",
       "    <tr style=\"text-align: right;\">\n",
       "      <th></th>\n",
       "      <th>node</th>\n",
       "      <th>in edges</th>\n",
       "      <th>out edges</th>\n",
       "    </tr>\n",
       "  </thead>\n",
       "  <tbody>\n",
       "    <tr>\n",
       "      <th>1</th>\n",
       "      <td>1</td>\n",
       "      <td>28</td>\n",
       "      <td>88</td>\n",
       "    </tr>\n",
       "    <tr>\n",
       "      <th>2</th>\n",
       "      <td>6</td>\n",
       "      <td>10</td>\n",
       "      <td>0</td>\n",
       "    </tr>\n",
       "    <tr>\n",
       "      <th>3</th>\n",
       "      <td>8</td>\n",
       "      <td>62</td>\n",
       "      <td>6</td>\n",
       "    </tr>\n",
       "    <tr>\n",
       "      <th>4</th>\n",
       "      <td>9</td>\n",
       "      <td>1375</td>\n",
       "      <td>477</td>\n",
       "    </tr>\n",
       "    <tr>\n",
       "      <th>5</th>\n",
       "      <td>3</td>\n",
       "      <td>1068</td>\n",
       "      <td>451</td>\n",
       "    </tr>\n",
       "  </tbody>\n",
       "</table>\n",
       "</div>"
      ],
      "text/plain": [
       "  node  in edges  out edges\n",
       "1    1        28         88\n",
       "2    6        10          0\n",
       "3    8        62          6\n",
       "4    9      1375        477\n",
       "5    3      1068        451"
      ]
     },
     "execution_count": 86,
     "metadata": {},
     "output_type": "execute_result"
    }
   ],
   "source": [
    "wiki_df = create_dataframe(G)\n",
    "wiki_df.head()"
   ]
  },
  {
   "cell_type": "markdown",
   "metadata": {},
   "source": [
    "### <font color=\"darkgreen\">1. Static Network Analysis:</font> Degree distribution"
   ]
  },
  {
   "cell_type": "markdown",
   "metadata": {},
   "source": [
    "The first network property which is going to be analyzed of the static network is the degree distribution. While it is an easily comprehensible network measure, it can still lead to interesting findings as we have seen in the previous assignment."
   ]
  },
  {
   "cell_type": "code",
   "execution_count": 7,
   "metadata": {},
   "outputs": [
    {
     "data": {
      "text/plain": [
       "True"
      ]
     },
     "execution_count": 7,
     "metadata": {},
     "output_type": "execute_result"
    }
   ],
   "source": [
    "wiki_df['in edges'].mean() == wiki_df['out edges'].mean()"
   ]
  },
  {
   "cell_type": "markdown",
   "metadata": {},
   "source": [
    "Which is expected of course since every outgoing edge is an incoming edge of the graph. This check is just done to check whether the parsing of the Graph object to a dataframe is done without any errors."
   ]
  },
  {
   "cell_type": "code",
   "execution_count": 8,
   "metadata": {},
   "outputs": [
    {
     "data": {
      "text/plain": [
       "5.3091660566174745"
      ]
     },
     "execution_count": 8,
     "metadata": {},
     "output_type": "execute_result"
    }
   ],
   "source": [
    "wiki_df['in edges'].mean()"
   ]
  },
  {
   "cell_type": "code",
   "execution_count": 9,
   "metadata": {},
   "outputs": [
    {
     "data": {
      "text/plain": [
       "(10521, 0)"
      ]
     },
     "execution_count": 9,
     "metadata": {},
     "output_type": "execute_result"
    }
   ],
   "source": [
    "wiki_df['in edges'].max(), wiki_df['in edges'].min()"
   ]
  },
  {
   "cell_type": "code",
   "execution_count": 10,
   "metadata": {},
   "outputs": [
    {
     "data": {
      "text/plain": [
       "(4302, 0)"
      ]
     },
     "execution_count": 10,
     "metadata": {},
     "output_type": "execute_result"
    }
   ],
   "source": [
    "wiki_df['out edges'].max(), wiki_df['out edges'].min()"
   ]
  },
  {
   "cell_type": "markdown",
   "metadata": {},
   "source": [
    "The mean of the incoming edges is just under above the 5 links. The node with the highest number of incoming edges has a little more than $10^4$ incoming edges, while the node with the highest number of outgoing edges has around  $4.3*10^3$ outgoing edges. These values do not implicate anything by themselves, but these values will be used in elaborations further on."
   ]
  },
  {
   "cell_type": "markdown",
   "metadata": {},
   "source": [
    "Before we continue with the static network analysis note that for the static network analysis it does not make sense to consider parallel edges. The parallel edges are edges between a pair of vertices at different time-stamps. But this gives a deceptive view in the static network analysis part. If a page has $y$ incoming edges of the same source vertex $x$, at different time-stamps it does not make sense to consider all of these parallel edges for many measures such as the degree distribution, page-rank etc. The choice is, therefore, made to continue with the network as a directed graph ($DiGraph$ in networkx) instead of a multi-directed graph ($MultiDiGraph$) for the static network analysis. These edges, however, have to be considered in part two for the Temporal Network Analysis where the time information of the edges is of the essence and techniques such as snapshot-based analysis can or even should be exploited.\n",
    "\n",
    "Just to give you an overview of the deceiving effects it can have on the measures calculated over these two types of networks:"
   ]
  },
  {
   "cell_type": "code",
   "execution_count": 13,
   "metadata": {},
   "outputs": [
    {
     "data": {
      "text/plain": [
       "(6.965659508592488, 15871, 15017)"
      ]
     },
     "execution_count": 13,
     "metadata": {},
     "output_type": "execute_result"
    }
   ],
   "source": [
    "wiki_df_par['in edges'].mean(), wiki_df_par['in edges'].max(), wiki_df_par['out edges'].max()"
   ]
  },
  {
   "cell_type": "markdown",
   "metadata": {},
   "source": [
    "It adds up the parallel edges between pair of vertices which result in a higher number of incoming and/or outgoing edges for many vertices. "
   ]
  },
  {
   "cell_type": "markdown",
   "metadata": {},
   "source": [
    "Let's continue with the analysis of the degree-distribution now that we have this pecularity out of the way. We are going to divide nodes of the network into deciles to get a better grasp of the characteristics of the top and bottom nodes when it boils down to number of incoming or outgoing edges."
   ]
  },
  {
   "cell_type": "code",
   "execution_count": 63,
   "metadata": {},
   "outputs": [
    {
     "data": {
      "text/plain": [
       "((220, 4), (678830, 4))"
      ]
     },
     "execution_count": 63,
     "metadata": {},
     "output_type": "execute_result"
    }
   ],
   "source": [
    "wiki_df['decile_incoming_edges'] = pd.cut((wiki_df['in edges']), 10, labels=False)\n",
    "wiki_df.loc[wiki_df.decile_incoming_edges.between(1, 9)].shape, wiki_df.loc[wiki_df.decile_incoming_edges.between(0, 1)].shape"
   ]
  },
  {
   "cell_type": "code",
   "execution_count": 133,
   "metadata": {},
   "outputs": [
    {
     "data": {
      "text/plain": [
       "((305, 4), (678835, 4))"
      ]
     },
     "execution_count": 133,
     "metadata": {},
     "output_type": "execute_result"
    }
   ],
   "source": [
    "wiki_df['decile_outgoing_edges'] = pd.cut((wiki_df['out edges']), 10, labels=False)\n",
    "wiki_df.loc[wiki_df.decile_outgoing_edges.between(1, 9)].shape, wiki_df.loc[wiki_df.decile_outgoing_edges.between(0, 1)].shape"
   ]
  },
  {
   "cell_type": "markdown",
   "metadata": {},
   "source": [
    "We see that there is a very skewed distribution among the nodes when we make splits based upon their number number of incoming or outgoing edges. There is thus a small set of nodes (i.e. pages) with relatively high number of incoming edges and a small set of nodes with a relatively high number of outgoing edges.\n",
    "\n",
    "Let's divide the nodes in four groups such that in each quartile we have the same number of vertices (not the same as quartiles) intstead of the current configuration since this will faciliate a better comparison of the the groups considering the very skewed distribution. "
   ]
  },
  {
   "cell_type": "code",
   "execution_count": 135,
   "metadata": {},
   "outputs": [
    {
     "data": {
      "text/html": [
       "<div>\n",
       "<style scoped>\n",
       "    .dataframe tbody tr th:only-of-type {\n",
       "        vertical-align: middle;\n",
       "    }\n",
       "\n",
       "    .dataframe tbody tr th {\n",
       "        vertical-align: top;\n",
       "    }\n",
       "\n",
       "    .dataframe thead th {\n",
       "        text-align: right;\n",
       "    }\n",
       "</style>\n",
       "<table border=\"1\" class=\"dataframe\">\n",
       "  <thead>\n",
       "    <tr style=\"text-align: right;\">\n",
       "      <th></th>\n",
       "      <th>node</th>\n",
       "      <th>in edges</th>\n",
       "      <th>out edges</th>\n",
       "      <th>decile_outgoing_edges</th>\n",
       "    </tr>\n",
       "  </thead>\n",
       "  <tbody>\n",
       "    <tr>\n",
       "      <th>678902</th>\n",
       "      <td>300</td>\n",
       "      <td>7975</td>\n",
       "      <td>1686</td>\n",
       "      <td>3</td>\n",
       "    </tr>\n",
       "    <tr>\n",
       "      <th>678903</th>\n",
       "      <td>3546</td>\n",
       "      <td>8561</td>\n",
       "      <td>0</td>\n",
       "      <td>0</td>\n",
       "    </tr>\n",
       "    <tr>\n",
       "      <th>678904</th>\n",
       "      <td>146</td>\n",
       "      <td>9264</td>\n",
       "      <td>0</td>\n",
       "      <td>0</td>\n",
       "    </tr>\n",
       "    <tr>\n",
       "      <th>678905</th>\n",
       "      <td>149</td>\n",
       "      <td>9655</td>\n",
       "      <td>545</td>\n",
       "      <td>1</td>\n",
       "    </tr>\n",
       "    <tr>\n",
       "      <th>678906</th>\n",
       "      <td>394</td>\n",
       "      <td>10521</td>\n",
       "      <td>1777</td>\n",
       "      <td>4</td>\n",
       "    </tr>\n",
       "  </tbody>\n",
       "</table>\n",
       "</div>"
      ],
      "text/plain": [
       "        node  in edges  out edges  decile_outgoing_edges\n",
       "678902   300      7975       1686                      3\n",
       "678903  3546      8561          0                      0\n",
       "678904   146      9264          0                      0\n",
       "678905   149      9655        545                      1\n",
       "678906   394     10521       1777                      4"
      ]
     },
     "execution_count": 135,
     "metadata": {},
     "output_type": "execute_result"
    }
   ],
   "source": [
    "sorted_incoming_edges = wiki_df.sort_values(['in edges']).reset_index(drop = True)\n",
    "sorted_outgoing_edges = wiki_df.sort_values(['out edges']).reset_index(drop = True)\n",
    "sorted_incoming_edges.tail()"
   ]
  },
  {
   "cell_type": "code",
   "execution_count": 156,
   "metadata": {
    "collapsed": true
   },
   "outputs": [],
   "source": [
    "incoming_edges_q1 = sorted_incoming_edges.iloc[: math.floor(sorted_incoming_edges.shape[0] / 4)]\n",
    "incoming_edges_q2 = sorted_incoming_edges.iloc[math.floor(sorted_incoming_edges.shape[0] / 4) : 2 * (math.floor(sorted_incoming_edges.shape[0] / 4))]\n",
    "incoming_edges_q3 = sorted_incoming_edges.iloc[2 * (math.floor(sorted_incoming_edges.shape[0] / 4)) : 3 * (math.floor(sorted_incoming_edges.shape[0] / 4))]\n",
    "incoming_edges_q4 = sorted_incoming_edges.iloc[3 * (math.floor(sorted_incoming_edges.shape[0] / 4)) :]\n",
    "\n",
    "incoming_edges_bottom_1 = sorted_incoming_edges.iloc[: math.floor(sorted_incoming_edges.shape[0] / 100)]\n",
    "incoming_edges_top_1 = sorted_incoming_edges.iloc[99 * math.floor(sorted_incoming_edges.shape[0] / 100):]"
   ]
  },
  {
   "cell_type": "code",
   "execution_count": 160,
   "metadata": {
    "collapsed": true
   },
   "outputs": [],
   "source": [
    "outgoing_edges_q1 = sorted_outgoing_edges.iloc[: math.floor(sorted_outgoing_edges.shape[0] / 4)]\n",
    "outgoing_edges_q2 = sorted_outgoing_edges.iloc[math.floor(sorted_outgoing_edges.shape[0] / 4) : 2 * (math.floor(sorted_outgoing_edges.shape[0] / 4))]\n",
    "outgoing_edges_q3 = sorted_outgoing_edges.iloc[2 * (math.floor(sorted_outgoing_edges.shape[0] / 4)) : 3 * (math.floor(sorted_outgoing_edges.shape[0] / 4))]\n",
    "outgoing_edges_q4 = sorted_outgoing_edges.iloc[3 * (math.floor(sorted_outgoing_edges.shape[0] / 4)) :]\n",
    "\n",
    "outgoing_edges_bottom_1 = sorted_outgoing_edges.iloc[: math.floor(sorted_outgoing_edges.shape[0] / 100)]\n",
    "outgoing_edges_top_1 = sorted_outgoing_edges.iloc[99 * math.floor(sorted_outgoing_edges.shape[0] / 100):]"
   ]
  },
  {
   "cell_type": "markdown",
   "metadata": {},
   "source": [
    "And just to double-check"
   ]
  },
  {
   "cell_type": "code",
   "execution_count": 129,
   "metadata": {},
   "outputs": [
    {
     "data": {
      "text/plain": [
       "True"
      ]
     },
     "execution_count": 129,
     "metadata": {},
     "output_type": "execute_result"
    }
   ],
   "source": [
    "(incoming_edges_q4.shape[0] + incoming_edges_q3.shape[0] + \n",
    " incoming_edges_q2.shape[0] + incoming_edges_q1.shape[0]) == sorted_incoming_edges.shape[0]"
   ]
  },
  {
   "cell_type": "markdown",
   "metadata": {},
   "source": [
    "Let's have a look at what there are some notable things in the devised groups"
   ]
  },
  {
   "cell_type": "code",
   "execution_count": 145,
   "metadata": {},
   "outputs": [
    {
     "data": {
      "text/plain": [
       "(0.0, 0.806753237571144, 1.8176236993742856, 18.61205215372741)"
      ]
     },
     "execution_count": 145,
     "metadata": {},
     "output_type": "execute_result"
    }
   ],
   "source": [
    "incoming_edges_q1['in edges'].mean(), incoming_edges_q2['in edges'].mean(), incoming_edges_q3['in edges'].mean(), incoming_edges_q4['in edges'].mean()"
   ]
  },
  {
   "cell_type": "code",
   "execution_count": 154,
   "metadata": {},
   "outputs": [
    {
     "data": {
      "text/plain": [
       "(2.537313432835821, 2.36138835534921, 3.578950779491651, 11.466202004371675)"
      ]
     },
     "execution_count": 154,
     "metadata": {},
     "output_type": "execute_result"
    }
   ],
   "source": [
    "incoming_edges_q1['out edges'].mean(), incoming_edges_q2['out edges'].mean(), incoming_edges_q3['out edges'].mean(), incoming_edges_q4['out edges'].mean()"
   ]
  },
  {
   "cell_type": "code",
   "execution_count": 143,
   "metadata": {},
   "outputs": [
    {
     "data": {
      "text/plain": [
       "(3.9767507629944734, 3.667994296689959, 2.489977964483933, 11.101838813638212)"
      ]
     },
     "execution_count": 143,
     "metadata": {},
     "output_type": "execute_result"
    }
   ],
   "source": [
    "outgoing_edges_q1['in edges'].mean(), outgoing_edges_q2['in edges'].mean(), outgoing_edges_q3['in edges'].mean(), outgoing_edges_q4['in edges'].mean()"
   ]
  },
  {
   "cell_type": "code",
   "execution_count": 141,
   "metadata": {},
   "outputs": [
    {
     "data": {
      "text/plain": [
       "(0.0, 0.8123446024769334, 2.209997289749361, 18.214094232570744)"
      ]
     },
     "execution_count": 141,
     "metadata": {},
     "output_type": "execute_result"
    }
   ],
   "source": [
    "outgoing_edges_q1['out edges'].mean(), outgoing_edges_q2['out edges'].mean(), outgoing_edges_q3['out edges'].mean(), outgoing_edges_q4['out edges'].mean()"
   ]
  },
  {
   "cell_type": "code",
   "execution_count": 158,
   "metadata": {},
   "outputs": [
    {
     "data": {
      "text/plain": [
       "(0.0, 235.2441141848146)"
      ]
     },
     "execution_count": 158,
     "metadata": {},
     "output_type": "execute_result"
    }
   ],
   "source": [
    "incoming_edges_bottom_1['in edges'].mean(), incoming_edges_top_1['in edges'].mean()"
   ]
  },
  {
   "cell_type": "code",
   "execution_count": 159,
   "metadata": {},
   "outputs": [
    {
     "data": {
      "text/plain": [
       "(4.4613345117101195, 63.97998822836963)"
      ]
     },
     "execution_count": 159,
     "metadata": {},
     "output_type": "execute_result"
    }
   ],
   "source": [
    "incoming_edges_bottom_1['out edges'].mean(), incoming_edges_top_1['out edges'].mean()"
   ]
  },
  {
   "cell_type": "code",
   "execution_count": 161,
   "metadata": {},
   "outputs": [
    {
     "data": {
      "text/plain": [
       "(2.8858447488584473, 112.43952324896998)"
      ]
     },
     "execution_count": 161,
     "metadata": {},
     "output_type": "execute_result"
    }
   ],
   "source": [
    "outgoing_edges_bottom_1['in edges'].mean(), outgoing_edges_top_1['in edges'].mean()"
   ]
  },
  {
   "cell_type": "code",
   "execution_count": 162,
   "metadata": {},
   "outputs": [
    {
     "data": {
      "text/plain": [
       "(0.0, 160.2302825191289)"
      ]
     },
     "execution_count": 162,
     "metadata": {},
     "output_type": "execute_result"
    }
   ],
   "source": [
    "outgoing_edges_bottom_1['out edges'].mean(), outgoing_edges_top_1['out edges'].mean()"
   ]
  },
  {
   "cell_type": "markdown",
   "metadata": {},
   "source": [
    "#### <i>Mean incoming and outgoing edges total network: $5.3$</i> \n",
    "#### <i>Sorted on number of incoming edges</i>\n",
    "<table>\n",
    "    <tr>\n",
    "        <th>Group</th>\n",
    "        <th>Mean #Incoming Edges</th>\n",
    "        <th>Mean #Outgoing Edges</th>\n",
    "    </tr>\n",
    "    <tr>\n",
    "        <td><i>Bottom 1%</i></td>\n",
    "        <td>$0.00$</td>\n",
    "        <td>$4.46$</td>\n",
    "    </tr>\n",
    "    <tr>\n",
    "        <td>Q1 <i>(Bottom 25%)</i></td>\n",
    "        <td>$0.00$</td>\n",
    "        <td>$3.83$</td>\n",
    "    </tr>\n",
    "    <tr>\n",
    "        <td>Q2</td>\n",
    "        <td>$0.81$</td>\n",
    "        <td>$2.36$</td>\n",
    "    </tr>\n",
    "    <tr>\n",
    "        <td>Q3</td>\n",
    "        <td>$1.82$</td>\n",
    "        <td>$3.58$</td>\n",
    "    </tr>\n",
    "        <tr>\n",
    "        <td>Q4 <i>(Top 25%)</i></td>\n",
    "        <td>$18.6$</td>\n",
    "        <td>$11.5$</td>\n",
    "    </tr>\n",
    "        <tr>\n",
    "        <td><i>Top 1%</i></td>\n",
    "        <td>$235$</td>\n",
    "        <td>$64.0$</td>\n",
    "    </tr>\n",
    "</table>\n",
    "\n",
    "\n",
    "#### <i>Sorted on number of outgoing edges</i>\n",
    "<table>\n",
    "    <tr>\n",
    "        <th>Group</th>\n",
    "        <th>Mean #Incoming Edges</th>\n",
    "        <th>Mean #Outgoing Edges</th>\n",
    "    </tr>\n",
    "        <tr>\n",
    "        <td><i>Bottom 1%</i></td>\n",
    "        <td>$2.89$</td>\n",
    "        <td>$0.00$</td>\n",
    "    </tr>\n",
    "    <tr>\n",
    "        <td>Q1 <i>(Bottom 25%)</i></td>\n",
    "        <td>$3.97$</td>\n",
    "        <td>$0.00$</td>\n",
    "    </tr>\n",
    "    <tr>\n",
    "        <td>Q2</td>\n",
    "        <td>$3.67$</td>\n",
    "        <td>$0.81$</td>\n",
    "    </tr>\n",
    "    <tr>\n",
    "        <td>Q3</td>\n",
    "        <td>$2.49$</td>\n",
    "        <td>$2.21$</td>\n",
    "    </tr>\n",
    "        <tr>\n",
    "        <td>Q4 <i>(Top 25%)</i></td>\n",
    "        <td>$11.1$</td>\n",
    "        <td>$18.2$</td>\n",
    "    </tr>\n",
    "        <tr>\n",
    "        <td><i>Top 1%</i></td>\n",
    "        <td>$112$</td>\n",
    "        <td>$160$</td>\n",
    "    </tr>\n",
    "</table>\n"
   ]
  },
  {
   "cell_type": "markdown",
   "metadata": {},
   "source": [
    "There are two noteworthy things in this graph. The nodes with a relatively high number of outgoing edges (i.e. the top $25\\%$ or even the top $1\\%$) also have a relatively high number of incoming edges when compared to the rest of the network. It thus seems that pages that have a lot of links to other pages also seem to be relatively high linked (i.e. have incoming edges) pages themselves  Note that there is a relatively large group (i.e. pages). The same can be seen in the top groups of when grouped/sorted by number of incoming edges. These groups do not only have a relatively higher number of incoming edges (on average) than the rest of the network, but also a relatively higher frequency of   in the network that do not have incoming edges, but have a relatively high number of outgoing edges."
   ]
  },
  {
   "cell_type": "code",
   "execution_count": 169,
   "metadata": {},
   "outputs": [
    {
     "name": "stdout",
     "output_type": "stream",
     "text": [
      "29.691253735784134 %\n",
      "29.83103724074137 %\n"
     ]
    }
   ],
   "source": [
    "print(str((wiki_df.loc[wiki_df[\"out edges\"] == 0.00].shape[0] / wiki_df[\"out edges\"].shape[0]) * 100), \"%\")\n",
    "print(str((wiki_df.loc[wiki_df[\"in edges\"] == 0.00].shape[0] / wiki_df[\"in edges\"].shape[0]) * 100), \"%\")"
   ]
  },
  {
   "cell_type": "markdown",
   "metadata": {},
   "source": [
    "In addition, one can see that part of the skewness of the degree distribution (see bottom groups) is due to pages that have either no incoming or outgoing edges. Having no incoming edges can be explained by pages that are the \"entry-page\" to this network of pages (i.e. referred to by somebody googling it / typing it in their address bar) while having no outgoing edges can be explained by pages that simply have no links on them (i.e. pages showing files etc.). These possible explanations are, however, just assumptions / guesses. There is no metadata about the pages available, so we can actually not confirm these hypotheses by more in-depth evaluations."
   ]
  },
  {
   "cell_type": "markdown",
   "metadata": {},
   "source": [
    "### <font color=\"darkgreen\">2. Static Network Analysis:</font> Diameter"
   ]
  },
  {
   "cell_type": "markdown",
   "metadata": {},
   "source": [
    "The next meausure which is going to be calculated and evaluated in the context of static network analysis is a grpah distance measure: the diameter. It encapsulates the maximum found eccentricity of any node in the network. Or in other words the longest of all the shortest paths between the vertices in the network. This may sound a bit confusing, but imagine that we have a set of all the shortest paths between each pair of vertices in the network. The maximum found value in this set is the diameter of the network. "
   ]
  },
  {
   "cell_type": "markdown",
   "metadata": {},
   "source": [
    "<b>A</b> --- <b>B</b> --- <b>C</b>&emsp;&emsp;&emsp; <i>Diameter:</i> $4$ (A-I and G-C) <br> \n",
    "|&emsp;&emsp;|&emsp;&emsp;| <br>\n",
    "<b>D</b> --- <b>E</b> --- <b>F</b> <br>\n",
    "|&emsp;&emsp;|&emsp;&emsp;| <br>\n",
    "<b>G</b> --- <b>H</b> --- <b>I</b> "
   ]
  },
  {
   "cell_type": "markdown",
   "metadata": {},
   "source": [
    "<b>A</b> --- <b>B</b> --- <b>C</b>&emsp;&emsp;&emsp; <i>Diameter:</i> $5$  (A-J) <br> \n",
    "|&emsp;&emsp;|&emsp;&emsp;| <br>\n",
    "<b>D</b> --- <b>E</b> --- <b>F</b> <br>\n",
    "|&emsp;&emsp;|&emsp;&emsp;| <br>\n",
    "<b>G</b> --- <b>H</b> --- <b>I</b> --- <b>J</b> "
   ]
  },
  {
   "cell_type": "markdown",
   "metadata": {},
   "source": [
    "This toyish example should give you a clear overview of what is measured by the distance measure that is diameter. Note, however, that this example is considering undirected edges, while we are of course interested in this measure of a directed graph of links. We will translate the measure back to our problem and network context in a bit."
   ]
  },
  {
   "cell_type": "markdown",
   "metadata": {},
   "source": [
    "Since we have a directed graph (i.e. network) that is not strongly connected since there are nodes $u$ which have no path to certain nodes $v$, we cannot simply use the diameter function of $networkx$ to calculate the diameter of the graph. The reason for this is a that if a shortest path from $u$ to $v$ is non-existent in the graph, it will be $\\infty$ (think about Dijkstra's shortest path algorithm). And since the diameter function of $networkx$ simply calcultes the eccentricity of the Graph and returns the max value found in this collection, it will not work since the eccentricity function and thus the diameter function will raise an error because the graph is not strongly connected. \n",
    "\n",
    "A hack around this issue is pretty simple when one takes a look at the source code of $networkx$ (praise open-source software :)"
   ]
  },
  {
   "cell_type": "code",
   "execution_count": 175,
   "metadata": {},
   "outputs": [
    {
     "data": {
      "text/plain": [
       "False"
      ]
     },
     "execution_count": 175,
     "metadata": {},
     "output_type": "execute_result"
    }
   ],
   "source": [
    "nx.is_strongly_connected(G)"
   ]
  },
  {
   "cell_type": "code",
   "execution_count": 258,
   "metadata": {},
   "outputs": [],
   "source": [
    "nodes_in_strong_components = list(list(node)[0] for node in nx.strongly_connected_components(G))\n",
    "# list(node)[0] is a work-around the pecularity that nx.strongly_connected_components returns {node} \n",
    "gen_strong = G.nbunch_iter(nodes_in_strong_components)"
   ]
  },
  {
   "cell_type": "code",
   "execution_count": 259,
   "metadata": {},
   "outputs": [
    {
     "data": {
      "text/plain": [
       "['6',\n",
       " '58',\n",
       " '6318',\n",
       " '74292',\n",
       " '391799',\n",
       " '14',\n",
       " '334070',\n",
       " '29',\n",
       " '855613',\n",
       " '343364',\n",
       " '87',\n",
       " '32',\n",
       " '805',\n",
       " '4257',\n",
       " '50749',\n",
       " '123967',\n",
       " '153381',\n",
       " '440670',\n",
       " '78',\n",
       " '19',\n",
       " '31',\n",
       " '648',\n",
       " '632158',\n",
       " '146',\n",
       " '56',\n",
       " '766',\n",
       " '378573',\n",
       " '110',\n",
       " '143',\n",
       " '113',\n",
       " '633731',\n",
       " '338618',\n",
       " '98619',\n",
       " '424005',\n",
       " '313556',\n",
       " '345300',\n",
       " '324840',\n",
       " '229648',\n",
       " '107960',\n",
       " '581',\n",
       " '762',\n",
       " '852',\n",
       " '392756',\n",
       " '642641',\n",
       " '385642',\n",
       " '412975',\n",
       " '172465',\n",
       " '298036',\n",
       " '783251',\n",
       " '164657',\n",
       " '156587',\n",
       " '248862',\n",
       " '273066',\n",
       " '174975',\n",
       " '174960',\n",
       " '142520',\n",
       " '126622',\n",
       " '139490',\n",
       " '372366',\n",
       " '174366',\n",
       " '356183',\n",
       " '314827',\n",
       " '142678',\n",
       " '256151',\n",
       " '25076',\n",
       " '25075',\n",
       " '25072',\n",
       " '349407',\n",
       " '25073',\n",
       " '296506',\n",
       " '46651',\n",
       " '25069',\n",
       " '38572',\n",
       " '25070',\n",
       " '115137',\n",
       " '44332',\n",
       " '44387',\n",
       " '51216',\n",
       " '62648',\n",
       " '921',\n",
       " '716045',\n",
       " '593',\n",
       " '2346',\n",
       " '167',\n",
       " '147',\n",
       " '151',\n",
       " '177540',\n",
       " '203873',\n",
       " '203879',\n",
       " '760720',\n",
       " '177542',\n",
       " '203877',\n",
       " '203875',\n",
       " '192710',\n",
       " '203878',\n",
       " '203874',\n",
       " '116',\n",
       " '73459',\n",
       " '750',\n",
       " '41429',\n",
       " '571893',\n",
       " '19241',\n",
       " '18645',\n",
       " '292123',\n",
       " '238634',\n",
       " '292124',\n",
       " '292122',\n",
       " '147843',\n",
       " '22289',\n",
       " '496692',\n",
       " '152160',\n",
       " '267417',\n",
       " '496690',\n",
       " '685839',\n",
       " '22573',\n",
       " '76788',\n",
       " '33395',\n",
       " '3158',\n",
       " '171',\n",
       " '980',\n",
       " '130',\n",
       " '376',\n",
       " '426',\n",
       " '346172',\n",
       " '189060',\n",
       " '129022',\n",
       " '240911',\n",
       " '657430',\n",
       " '9100',\n",
       " '5354',\n",
       " '486848',\n",
       " '671',\n",
       " '712',\n",
       " '109220',\n",
       " '109219',\n",
       " '513223',\n",
       " '109221',\n",
       " '259236',\n",
       " '109223',\n",
       " '109288',\n",
       " '109269',\n",
       " '109295',\n",
       " '108457',\n",
       " '109296',\n",
       " '76820',\n",
       " '109298',\n",
       " '109304',\n",
       " '109299',\n",
       " '109302',\n",
       " '9855',\n",
       " '2530',\n",
       " '755',\n",
       " '659',\n",
       " '3201',\n",
       " '153576',\n",
       " '153580',\n",
       " '355963',\n",
       " '613976',\n",
       " '142838',\n",
       " '195582',\n",
       " '613972',\n",
       " '142836',\n",
       " '195581',\n",
       " '165698',\n",
       " '166737',\n",
       " '165689',\n",
       " '195583',\n",
       " '62481',\n",
       " '371',\n",
       " '378',\n",
       " '10040',\n",
       " '449',\n",
       " '663431',\n",
       " '831416',\n",
       " '379',\n",
       " '9340',\n",
       " '58498',\n",
       " '340400',\n",
       " '512105',\n",
       " '340405',\n",
       " '67432',\n",
       " '340402',\n",
       " '67502',\n",
       " '340403',\n",
       " '67508',\n",
       " '340404',\n",
       " '67510',\n",
       " '340406',\n",
       " '67522',\n",
       " '340548',\n",
       " '67549',\n",
       " '340399',\n",
       " '8628',\n",
       " '58494',\n",
       " '67485',\n",
       " '364080',\n",
       " '67426',\n",
       " '67425',\n",
       " '67507',\n",
       " '67564',\n",
       " '67525',\n",
       " '67498',\n",
       " '183110',\n",
       " '58497',\n",
       " '665247',\n",
       " '112592',\n",
       " '442284',\n",
       " '340611',\n",
       " '442282',\n",
       " '67512',\n",
       " '67520',\n",
       " '67552',\n",
       " '161',\n",
       " '5951',\n",
       " '156642',\n",
       " '156637',\n",
       " '156641',\n",
       " '9937',\n",
       " '9894',\n",
       " '10782',\n",
       " '156516',\n",
       " '158296',\n",
       " '355',\n",
       " '5125',\n",
       " '17968',\n",
       " '330947',\n",
       " '923',\n",
       " '646',\n",
       " '656',\n",
       " '643',\n",
       " '107174',\n",
       " '38184',\n",
       " '121510',\n",
       " '7544',\n",
       " '7553',\n",
       " '161152',\n",
       " '124061',\n",
       " '124074',\n",
       " '123957',\n",
       " '123958',\n",
       " '123959',\n",
       " '124195',\n",
       " '74655',\n",
       " '74633',\n",
       " '124453',\n",
       " '140375',\n",
       " '42545',\n",
       " '42546',\n",
       " '42547',\n",
       " '42548',\n",
       " '42549',\n",
       " '42550',\n",
       " '42551',\n",
       " '42552',\n",
       " '42553',\n",
       " '42554',\n",
       " '42555',\n",
       " '42557',\n",
       " '107731',\n",
       " '41511',\n",
       " '72977',\n",
       " '42556',\n",
       " '15351',\n",
       " '15353',\n",
       " '15355',\n",
       " '27915',\n",
       " '27429',\n",
       " '42558',\n",
       " '40186',\n",
       " '28273',\n",
       " '42559',\n",
       " '42560',\n",
       " '42561',\n",
       " '42562',\n",
       " '42563',\n",
       " '618814',\n",
       " '42564',\n",
       " '42565',\n",
       " '42566',\n",
       " '42567',\n",
       " '42568',\n",
       " '42569',\n",
       " '42570',\n",
       " '42571',\n",
       " '42572',\n",
       " '42573',\n",
       " '42574',\n",
       " '42575',\n",
       " '42576',\n",
       " '42577',\n",
       " '42578',\n",
       " '42579',\n",
       " '42580',\n",
       " '42581',\n",
       " '42582',\n",
       " '151187',\n",
       " '143563',\n",
       " '183158',\n",
       " '166199',\n",
       " '149339',\n",
       " '194974',\n",
       " '187738',\n",
       " '236000',\n",
       " '300070',\n",
       " '59823',\n",
       " '59822',\n",
       " '488917',\n",
       " '221363',\n",
       " '74507',\n",
       " '309707',\n",
       " '240297',\n",
       " '542630',\n",
       " '542631',\n",
       " '1015',\n",
       " '484',\n",
       " '157196',\n",
       " '517134',\n",
       " '1012',\n",
       " '1011',\n",
       " '414887',\n",
       " '414888',\n",
       " '441061',\n",
       " '441045',\n",
       " '470573',\n",
       " '762904',\n",
       " '169466',\n",
       " '366836',\n",
       " '416236',\n",
       " '130674',\n",
       " '286816',\n",
       " '133549',\n",
       " '106168',\n",
       " '566737',\n",
       " '105995',\n",
       " '258946',\n",
       " '409209',\n",
       " '434220',\n",
       " '133515',\n",
       " '133509',\n",
       " '133502',\n",
       " '133554',\n",
       " '443360',\n",
       " '121658',\n",
       " '148311',\n",
       " '109222',\n",
       " '231258',\n",
       " '26241',\n",
       " '146190',\n",
       " '460500',\n",
       " '163105',\n",
       " '353769',\n",
       " '138135',\n",
       " '131791',\n",
       " '111715',\n",
       " '194151',\n",
       " '320839',\n",
       " '15385',\n",
       " '238784',\n",
       " '1175',\n",
       " '18424',\n",
       " '10743',\n",
       " '14729',\n",
       " '163589',\n",
       " '194471',\n",
       " '194473',\n",
       " '194472',\n",
       " '790224',\n",
       " '238636',\n",
       " '495058',\n",
       " '51072',\n",
       " '13267',\n",
       " '495057',\n",
       " '495059',\n",
       " '280348',\n",
       " '495060',\n",
       " '241917',\n",
       " '495061',\n",
       " '50524',\n",
       " '495062',\n",
       " '151991',\n",
       " '352313',\n",
       " '412851',\n",
       " '348833',\n",
       " '23408',\n",
       " '178646',\n",
       " '42925',\n",
       " '42923',\n",
       " '433524',\n",
       " '175905',\n",
       " '204502',\n",
       " '143228',\n",
       " '169077',\n",
       " '225560',\n",
       " '141990',\n",
       " '298024',\n",
       " '178116',\n",
       " '178119',\n",
       " '402048',\n",
       " '402049',\n",
       " '343205',\n",
       " '393379',\n",
       " '542882',\n",
       " '974679',\n",
       " '512634',\n",
       " '26809',\n",
       " '6487',\n",
       " '9539',\n",
       " '226088',\n",
       " '103490',\n",
       " '815504',\n",
       " '169515',\n",
       " '15296',\n",
       " '192688',\n",
       " '195781',\n",
       " '38227',\n",
       " '16614',\n",
       " '680613',\n",
       " '184107',\n",
       " '612',\n",
       " '272745',\n",
       " '140891',\n",
       " '272679',\n",
       " '272610',\n",
       " '148624',\n",
       " '272611',\n",
       " '272680',\n",
       " '272612',\n",
       " '168636',\n",
       " '168629',\n",
       " '272682',\n",
       " '272676',\n",
       " '272681',\n",
       " '277408',\n",
       " '277409',\n",
       " '127793',\n",
       " '45600',\n",
       " '414632',\n",
       " '217294',\n",
       " '283888',\n",
       " '700727',\n",
       " '150361',\n",
       " '325108',\n",
       " '175865',\n",
       " '73719',\n",
       " '40500',\n",
       " '215186',\n",
       " '325111',\n",
       " '253603',\n",
       " '217299',\n",
       " '164775',\n",
       " '80833',\n",
       " '128680',\n",
       " '1356',\n",
       " '4379',\n",
       " '22365',\n",
       " '624458',\n",
       " '631463',\n",
       " '512641',\n",
       " '576681',\n",
       " '103256',\n",
       " '576677',\n",
       " '275580',\n",
       " '262614',\n",
       " '574024',\n",
       " '373744',\n",
       " '275486',\n",
       " '426229',\n",
       " '765',\n",
       " '496687',\n",
       " '6205',\n",
       " '2741',\n",
       " '42245',\n",
       " '140451',\n",
       " '145192',\n",
       " '193534',\n",
       " '406552',\n",
       " '225040',\n",
       " '14830',\n",
       " '483775',\n",
       " '590',\n",
       " '140069',\n",
       " '377287',\n",
       " '193538',\n",
       " '315005',\n",
       " '318506',\n",
       " '11546',\n",
       " '376070',\n",
       " '58979',\n",
       " '74272',\n",
       " '183783',\n",
       " '128604',\n",
       " '222837',\n",
       " '272674',\n",
       " '113575',\n",
       " '21375',\n",
       " '222838',\n",
       " '56087',\n",
       " '116080',\n",
       " '389',\n",
       " '9097',\n",
       " '96456',\n",
       " '9196',\n",
       " '880',\n",
       " '34477',\n",
       " '2479',\n",
       " '31980',\n",
       " '658844',\n",
       " '71438',\n",
       " '2462',\n",
       " '4057',\n",
       " '141766',\n",
       " '407467',\n",
       " '275849',\n",
       " '277954',\n",
       " '141777',\n",
       " '6861',\n",
       " '22837',\n",
       " '127639',\n",
       " '127644',\n",
       " '127641',\n",
       " '127643',\n",
       " '141504',\n",
       " '141503',\n",
       " '145675',\n",
       " '161167',\n",
       " '12335',\n",
       " '48803',\n",
       " '18065',\n",
       " '18051',\n",
       " '18006',\n",
       " '18037',\n",
       " '414',\n",
       " '2035',\n",
       " '2011',\n",
       " '48973',\n",
       " '994785',\n",
       " '117147',\n",
       " '475584',\n",
       " '103643',\n",
       " '125742',\n",
       " '287548',\n",
       " '287547',\n",
       " '262360',\n",
       " '58129',\n",
       " '117463',\n",
       " '117462',\n",
       " '111438',\n",
       " '341630',\n",
       " '10296',\n",
       " '10303',\n",
       " '147827',\n",
       " '139818',\n",
       " '147828',\n",
       " '147829',\n",
       " '147830',\n",
       " '10844',\n",
       " '178643',\n",
       " '412542',\n",
       " '321671',\n",
       " '141176',\n",
       " '48680',\n",
       " '6870',\n",
       " '131507',\n",
       " '621633',\n",
       " '622261',\n",
       " '274961',\n",
       " '407989',\n",
       " '55106',\n",
       " '336562',\n",
       " '336563',\n",
       " '336564',\n",
       " '216409',\n",
       " '188394',\n",
       " '330241',\n",
       " '48579',\n",
       " '18228',\n",
       " '297235',\n",
       " '192784',\n",
       " '129987',\n",
       " '284203',\n",
       " '276357',\n",
       " '41471',\n",
       " '140609',\n",
       " '59603',\n",
       " '59582',\n",
       " '84826',\n",
       " '43025',\n",
       " '4164',\n",
       " '293',\n",
       " '1986',\n",
       " '3633',\n",
       " '1846',\n",
       " '1815',\n",
       " '134149',\n",
       " '318255',\n",
       " '657119',\n",
       " '126767',\n",
       " '126768',\n",
       " '318257',\n",
       " '126766',\n",
       " '291071',\n",
       " '176057',\n",
       " '176059',\n",
       " '176055',\n",
       " '191774',\n",
       " '304848',\n",
       " '275890',\n",
       " '58636',\n",
       " '114095',\n",
       " '187115',\n",
       " '187116',\n",
       " '260742',\n",
       " '260733',\n",
       " '263326',\n",
       " '128592',\n",
       " '316068',\n",
       " '316046',\n",
       " '38539',\n",
       " '38517',\n",
       " '49189',\n",
       " '25480',\n",
       " '599363',\n",
       " '61421',\n",
       " '6358',\n",
       " '664',\n",
       " '2193',\n",
       " '153355',\n",
       " '300155',\n",
       " '150718',\n",
       " '150717',\n",
       " '300159',\n",
       " '153354',\n",
       " '109645',\n",
       " '164113',\n",
       " '164122',\n",
       " '196928',\n",
       " '18843',\n",
       " '106708',\n",
       " '473812',\n",
       " '153461',\n",
       " '743967',\n",
       " '473816',\n",
       " '473790',\n",
       " '473791',\n",
       " '473792',\n",
       " '473793',\n",
       " '473794',\n",
       " '286714',\n",
       " '215030',\n",
       " '215225',\n",
       " '131827',\n",
       " '918939',\n",
       " '13550',\n",
       " '280884',\n",
       " '114414',\n",
       " '711068',\n",
       " '113912',\n",
       " '137983',\n",
       " '192872',\n",
       " '337155',\n",
       " '327396',\n",
       " '266313',\n",
       " '153101',\n",
       " '139558',\n",
       " '333862',\n",
       " '139538',\n",
       " '17931',\n",
       " '153103',\n",
       " '153180',\n",
       " '153181',\n",
       " '153179',\n",
       " '41082',\n",
       " '139570',\n",
       " '158611',\n",
       " '277321',\n",
       " '447476',\n",
       " '38285',\n",
       " '160633',\n",
       " '5112',\n",
       " '110277',\n",
       " '75352',\n",
       " '260829',\n",
       " '260828',\n",
       " '589',\n",
       " '444404',\n",
       " '154905',\n",
       " '341221',\n",
       " '527120',\n",
       " '218299',\n",
       " '206617',\n",
       " '152606',\n",
       " '5046',\n",
       " '17131',\n",
       " '4973',\n",
       " '152982',\n",
       " '226398',\n",
       " '182690',\n",
       " '4703',\n",
       " '143756',\n",
       " '18784',\n",
       " '169127',\n",
       " '24306',\n",
       " '37921',\n",
       " '398209',\n",
       " '152984',\n",
       " '398210',\n",
       " '241960',\n",
       " '226404',\n",
       " '226405',\n",
       " '226409',\n",
       " '120017',\n",
       " '178026',\n",
       " '195054',\n",
       " '147327',\n",
       " '711491',\n",
       " '147329',\n",
       " '407461',\n",
       " '47085',\n",
       " '58120',\n",
       " '58113',\n",
       " '380563',\n",
       " '73217',\n",
       " '59569',\n",
       " '276093',\n",
       " '209101',\n",
       " '332525',\n",
       " '158577',\n",
       " '599867',\n",
       " '475397',\n",
       " '195639',\n",
       " '193432',\n",
       " '439116',\n",
       " '298678',\n",
       " '390049',\n",
       " '654293',\n",
       " '193428',\n",
       " '345574',\n",
       " '32144',\n",
       " '103680',\n",
       " '480910',\n",
       " '204749',\n",
       " '204750',\n",
       " '216913',\n",
       " '143456',\n",
       " '373237',\n",
       " '63412',\n",
       " '143455',\n",
       " '204844',\n",
       " '747158',\n",
       " '747157',\n",
       " '747161',\n",
       " '204839',\n",
       " '204845',\n",
       " '194421',\n",
       " '153574',\n",
       " '528127',\n",
       " '354958',\n",
       " '239474',\n",
       " '585',\n",
       " '138995',\n",
       " '9989',\n",
       " '9732',\n",
       " '103451',\n",
       " '425843',\n",
       " '146702',\n",
       " '108922',\n",
       " '108918',\n",
       " '104927',\n",
       " '214992',\n",
       " '310870',\n",
       " '214993',\n",
       " '356005',\n",
       " '421997',\n",
       " '421998',\n",
       " '194036',\n",
       " '207655',\n",
       " '226455',\n",
       " '193274',\n",
       " '263121',\n",
       " '263110',\n",
       " '74109',\n",
       " '620960',\n",
       " '60415',\n",
       " '9414',\n",
       " '1094',\n",
       " '886198',\n",
       " '480061',\n",
       " '154593',\n",
       " '154609',\n",
       " '154611',\n",
       " '499034',\n",
       " '154610',\n",
       " '193544',\n",
       " '140454',\n",
       " '318508',\n",
       " '304788',\n",
       " '304789',\n",
       " '304790',\n",
       " '304784',\n",
       " '9535',\n",
       " '564079',\n",
       " '563939',\n",
       " '563907',\n",
       " '373',\n",
       " '498',\n",
       " '1062',\n",
       " '1177',\n",
       " '62766',\n",
       " '39445',\n",
       " '594143',\n",
       " '34206',\n",
       " '108937',\n",
       " '108936',\n",
       " '108938',\n",
       " '108120',\n",
       " '109073',\n",
       " '8632',\n",
       " '610',\n",
       " '106590',\n",
       " '106562',\n",
       " '106591',\n",
       " '106593',\n",
       " '106489',\n",
       " '106493',\n",
       " '106488',\n",
       " '269204',\n",
       " '190328',\n",
       " '176888',\n",
       " '190970',\n",
       " '194292',\n",
       " '194295',\n",
       " '349679',\n",
       " '154164',\n",
       " '184749',\n",
       " '360214',\n",
       " '405120',\n",
       " '45663',\n",
       " '177704',\n",
       " '23919',\n",
       " '177732',\n",
       " '264777',\n",
       " '264308',\n",
       " '264337',\n",
       " '264052',\n",
       " '209758',\n",
       " '149827',\n",
       " '213492',\n",
       " '149828',\n",
       " '209755',\n",
       " '109606',\n",
       " '213489',\n",
       " '101448',\n",
       " '249847',\n",
       " '209757',\n",
       " '45107',\n",
       " '71610',\n",
       " '71624',\n",
       " '71625',\n",
       " '71639',\n",
       " '71628',\n",
       " '248951',\n",
       " '71640',\n",
       " '71630',\n",
       " '71633',\n",
       " '71634',\n",
       " '71635',\n",
       " '71614',\n",
       " '71622',\n",
       " '71691',\n",
       " '71692',\n",
       " '42373',\n",
       " '71746',\n",
       " '249809',\n",
       " '70537',\n",
       " '70562',\n",
       " '39707',\n",
       " '81281',\n",
       " '270131',\n",
       " '71589',\n",
       " '267598',\n",
       " '267599',\n",
       " '19125',\n",
       " '15306',\n",
       " '29418',\n",
       " '40750',\n",
       " '17555',\n",
       " '40751',\n",
       " '40752',\n",
       " '153455',\n",
       " '153454',\n",
       " '153358',\n",
       " '463412',\n",
       " '516872',\n",
       " '41124',\n",
       " '140121',\n",
       " '666',\n",
       " '273945',\n",
       " '188876',\n",
       " '56776',\n",
       " '163582',\n",
       " '366211',\n",
       " '146006',\n",
       " '140669',\n",
       " '7063',\n",
       " '3126',\n",
       " '2311',\n",
       " '7069',\n",
       " '113692',\n",
       " '113697',\n",
       " '164752',\n",
       " '300098',\n",
       " '377493',\n",
       " '377494',\n",
       " '377495',\n",
       " '150337',\n",
       " '150343',\n",
       " '567418',\n",
       " '150342',\n",
       " '484296',\n",
       " '512890',\n",
       " '109453',\n",
       " '295643',\n",
       " '295615',\n",
       " '41151',\n",
       " '41125',\n",
       " '40728',\n",
       " '207889',\n",
       " '182471',\n",
       " '272775',\n",
       " '705234',\n",
       " '290699',\n",
       " '15287',\n",
       " '15283',\n",
       " '77924',\n",
       " '133006',\n",
       " '64752',\n",
       " '337492',\n",
       " '14775',\n",
       " '99294',\n",
       " '270142',\n",
       " '242070',\n",
       " '204516',\n",
       " '131890',\n",
       " '719786',\n",
       " '477326',\n",
       " '377418',\n",
       " '12681',\n",
       " '219412',\n",
       " '67065',\n",
       " '77608',\n",
       " '74314',\n",
       " '88376',\n",
       " '67879',\n",
       " '2495',\n",
       " '9390',\n",
       " '154558',\n",
       " '9337',\n",
       " '9681',\n",
       " '113285',\n",
       " '16085',\n",
       " '197007',\n",
       " '74976',\n",
       " '492036',\n",
       " '91732',\n",
       " '384885',\n",
       " '241710',\n",
       " '353835',\n",
       " '421711',\n",
       " '248292',\n",
       " '248284',\n",
       " '343523',\n",
       " '238858',\n",
       " '150371',\n",
       " '239359',\n",
       " '239910',\n",
       " '248314',\n",
       " '104777',\n",
       " '146100',\n",
       " '294724',\n",
       " '444514',\n",
       " '240134',\n",
       " '46214',\n",
       " '197772',\n",
       " '282911',\n",
       " '109682',\n",
       " '79939',\n",
       " '79904',\n",
       " '99668',\n",
       " '637842',\n",
       " '178221',\n",
       " '103170',\n",
       " '328104',\n",
       " '226462',\n",
       " '219498',\n",
       " '97768',\n",
       " '38336',\n",
       " '341446',\n",
       " '289759',\n",
       " '289735',\n",
       " '224743',\n",
       " ...]"
      ]
     },
     "execution_count": 259,
     "metadata": {},
     "output_type": "execute_result"
    }
   ],
   "source": [
    "list(nodes_in_strong_components)[:5]"
   ]
  },
  {
   "cell_type": "code",
   "execution_count": 260,
   "metadata": {
    "collapsed": true
   },
   "outputs": [],
   "source": [
    "edges_in_strong_components = nx.edges(G, nodes_in_strong_components)"
   ]
  },
  {
   "cell_type": "code",
   "execution_count": 262,
   "metadata": {},
   "outputs": [
    {
     "data": {
      "text/plain": [
       "[('74292', '6318'),\n",
       " ('391799', '74292'),\n",
       " ('391799', '6318'),\n",
       " ('14', '6318'),\n",
       " ('14', '74292')]"
      ]
     },
     "execution_count": 262,
     "metadata": {},
     "output_type": "execute_result"
    }
   ],
   "source": [
    "list(edges_in_strong_components)[:5]"
   ]
  },
  {
   "cell_type": "code",
   "execution_count": 274,
   "metadata": {},
   "outputs": [],
   "source": [
    "G_s = nx.strongly_connected_components(G)"
   ]
  },
  {
   "cell_type": "code",
   "execution_count": 282,
   "metadata": {},
   "outputs": [
    {
     "data": {
      "text/plain": [
       "[('9', '9'), ('5', '5'), ('2', '2'), ('7', '7'), ('8524', '8524')]"
      ]
     },
     "execution_count": 282,
     "metadata": {},
     "output_type": "execute_result"
    }
   ],
   "source": [
    "self_loop_edges = list(nx.selfloop_edges(G))\n",
    "self_loop_edges[:5]"
   ]
  },
  {
   "cell_type": "code",
   "execution_count": 283,
   "metadata": {},
   "outputs": [],
   "source": [
    "edges_in_strong_components_no_loop = (set(edges_in_strong_components).difference(set(self_loop_edges)))"
   ]
  },
  {
   "cell_type": "code",
   "execution_count": 284,
   "metadata": {},
   "outputs": [],
   "source": [
    "G_strong = G.edge_subgraph(edges_in_strong_components_no_loop)"
   ]
  },
  {
   "cell_type": "code",
   "execution_count": 285,
   "metadata": {},
   "outputs": [
    {
     "data": {
      "text/plain": [
       "29.9076309420878"
      ]
     },
     "execution_count": 285,
     "metadata": {},
     "output_type": "execute_result"
    }
   ],
   "source": [
    "((len(G) - len(G_strong))/ len(G)) * 100"
   ]
  },
  {
   "cell_type": "code",
   "execution_count": 286,
   "metadata": {},
   "outputs": [
    {
     "data": {
      "text/plain": [
       "False"
      ]
     },
     "execution_count": 286,
     "metadata": {},
     "output_type": "execute_result"
    }
   ],
   "source": [
    "nx.is_strongly_connected(G_strong)"
   ]
  },
  {
   "cell_type": "markdown",
   "metadata": {},
   "source": [
    "So 29.6% of the nodes needed to be removed from the original graph to obtain a strongly connected graph"
   ]
  },
  {
   "cell_type": "code",
   "execution_count": 272,
   "metadata": {},
   "outputs": [
    {
     "ename": "NetworkXError",
     "evalue": "Found infinite path length because the digraph is not strongly connected",
     "output_type": "error",
     "traceback": [
      "\u001b[1;31m---------------------------------------------------------------------------\u001b[0m",
      "\u001b[1;31mNetworkXError\u001b[0m                             Traceback (most recent call last)",
      "\u001b[1;32m<ipython-input-272-d8f8261e1efd>\u001b[0m in \u001b[0;36m<module>\u001b[1;34m()\u001b[0m\n\u001b[1;32m----> 1\u001b[1;33m \u001b[0mnx\u001b[0m\u001b[1;33m.\u001b[0m\u001b[0mdiameter\u001b[0m\u001b[1;33m(\u001b[0m\u001b[0mG_strong\u001b[0m\u001b[1;33m,\u001b[0m \u001b[0me\u001b[0m \u001b[1;33m=\u001b[0m \u001b[1;32mNone\u001b[0m\u001b[1;33m,\u001b[0m \u001b[0musebounds\u001b[0m \u001b[1;33m=\u001b[0m \u001b[1;32mFalse\u001b[0m\u001b[1;33m)\u001b[0m\u001b[1;33m\u001b[0m\u001b[0m\n\u001b[0m",
      "\u001b[1;32mC:\\ProgramData\\Anaconda3\\lib\\site-packages\\networkx\\algorithms\\distance_measures.py\u001b[0m in \u001b[0;36mdiameter\u001b[1;34m(G, e, usebounds)\u001b[0m\n\u001b[0;32m    274\u001b[0m         \u001b[1;32mreturn\u001b[0m \u001b[0mextrema_bounding\u001b[0m\u001b[1;33m(\u001b[0m\u001b[0mG\u001b[0m\u001b[1;33m,\u001b[0m \u001b[0mcompute\u001b[0m\u001b[1;33m=\u001b[0m\u001b[1;34m\"diameter\"\u001b[0m\u001b[1;33m)\u001b[0m\u001b[1;33m\u001b[0m\u001b[0m\n\u001b[0;32m    275\u001b[0m     \u001b[1;32mif\u001b[0m \u001b[0me\u001b[0m \u001b[1;32mis\u001b[0m \u001b[1;32mNone\u001b[0m\u001b[1;33m:\u001b[0m\u001b[1;33m\u001b[0m\u001b[0m\n\u001b[1;32m--> 276\u001b[1;33m         \u001b[0me\u001b[0m \u001b[1;33m=\u001b[0m \u001b[0meccentricity\u001b[0m\u001b[1;33m(\u001b[0m\u001b[0mG\u001b[0m\u001b[1;33m)\u001b[0m\u001b[1;33m\u001b[0m\u001b[0m\n\u001b[0m\u001b[0;32m    277\u001b[0m     \u001b[1;32mreturn\u001b[0m \u001b[0mmax\u001b[0m\u001b[1;33m(\u001b[0m\u001b[0me\u001b[0m\u001b[1;33m.\u001b[0m\u001b[0mvalues\u001b[0m\u001b[1;33m(\u001b[0m\u001b[1;33m)\u001b[0m\u001b[1;33m)\u001b[0m\u001b[1;33m\u001b[0m\u001b[0m\n\u001b[0;32m    278\u001b[0m \u001b[1;33m\u001b[0m\u001b[0m\n",
      "\u001b[1;32mC:\\ProgramData\\Anaconda3\\lib\\site-packages\\networkx\\algorithms\\distance_measures.py\u001b[0m in \u001b[0;36meccentricity\u001b[1;34m(G, v, sp)\u001b[0m\n\u001b[0;32m    239\u001b[0m                 msg = ('Found infinite path length because the graph is not'\n\u001b[0;32m    240\u001b[0m                        ' connected')\n\u001b[1;32m--> 241\u001b[1;33m             \u001b[1;32mraise\u001b[0m \u001b[0mnetworkx\u001b[0m\u001b[1;33m.\u001b[0m\u001b[0mNetworkXError\u001b[0m\u001b[1;33m(\u001b[0m\u001b[0mmsg\u001b[0m\u001b[1;33m)\u001b[0m\u001b[1;33m\u001b[0m\u001b[0m\n\u001b[0m\u001b[0;32m    242\u001b[0m \u001b[1;33m\u001b[0m\u001b[0m\n\u001b[0;32m    243\u001b[0m         \u001b[0me\u001b[0m\u001b[1;33m[\u001b[0m\u001b[0mn\u001b[0m\u001b[1;33m]\u001b[0m \u001b[1;33m=\u001b[0m \u001b[0mmax\u001b[0m\u001b[1;33m(\u001b[0m\u001b[0mlength\u001b[0m\u001b[1;33m.\u001b[0m\u001b[0mvalues\u001b[0m\u001b[1;33m(\u001b[0m\u001b[1;33m)\u001b[0m\u001b[1;33m)\u001b[0m\u001b[1;33m\u001b[0m\u001b[0m\n",
      "\u001b[1;31mNetworkXError\u001b[0m: Found infinite path length because the digraph is not strongly connected"
     ]
    }
   ],
   "source": [
    "nx.diameter(G_strong, e = None, usebounds = False)"
   ]
  }
 ],
 "metadata": {
  "kernelspec": {
   "display_name": "Python 3",
   "language": "python",
   "name": "python3"
  },
  "language_info": {
   "codemirror_mode": {
    "name": "ipython",
    "version": 3
   },
   "file_extension": ".py",
   "mimetype": "text/x-python",
   "name": "python",
   "nbconvert_exporter": "python",
   "pygments_lexer": "ipython3",
   "version": "3.6.3"
  }
 },
 "nbformat": 4,
 "nbformat_minor": 2
}
