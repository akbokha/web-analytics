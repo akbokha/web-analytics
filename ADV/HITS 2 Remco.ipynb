{
 "cells": [
  {
   "cell_type": "markdown",
   "metadata": {},
   "source": [
    "### Evolving Network Analysis - January 2018\n",
    "#### <i>Abdel K. Bokharouss, Joris Rombouts, Bart van Helvert, Remco Surtel</i>"
   ]
  },
  {
   "cell_type": "markdown",
   "metadata": {},
   "source": [
    "#### Imports, preparation, and creating the graphs"
   ]
  },
  {
   "cell_type": "code",
   "execution_count": 1,
   "metadata": {
    "collapsed": true
   },
   "outputs": [],
   "source": [
    "import pandas as pd\n",
    "import numpy as np\n",
    "import networkx as nx\n",
    "import datetime\n",
    "import tkinter\n",
    "import matplotlib.pyplot as plt\n",
    "import seaborn as sns\n",
    "sns.set(color_codes=True)"
   ]
  },
  {
   "cell_type": "code",
   "execution_count": 2,
   "metadata": {
    "collapsed": true
   },
   "outputs": [],
   "source": [
    "temp_nw = pd.read_table(\"./data/tgraph_real_wikiedithyperlinks.txt\", header = None, sep = \" \",\n",
    "                       names = [\"src\", \"trg\", \"start\", \"end\"])"
   ]
  },
  {
   "cell_type": "code",
   "execution_count": 3,
   "metadata": {},
   "outputs": [
    {
     "data": {
      "text/html": [
       "<div>\n",
       "<style>\n",
       "    .dataframe thead tr:only-child th {\n",
       "        text-align: right;\n",
       "    }\n",
       "\n",
       "    .dataframe thead th {\n",
       "        text-align: left;\n",
       "    }\n",
       "\n",
       "    .dataframe tbody tr th {\n",
       "        vertical-align: top;\n",
       "    }\n",
       "</style>\n",
       "<table border=\"1\" class=\"dataframe\">\n",
       "  <thead>\n",
       "    <tr style=\"text-align: right;\">\n",
       "      <th></th>\n",
       "      <th>src</th>\n",
       "      <th>trg</th>\n",
       "      <th>start</th>\n",
       "      <th>end</th>\n",
       "    </tr>\n",
       "  </thead>\n",
       "  <tbody>\n",
       "    <tr>\n",
       "      <th>0</th>\n",
       "      <td>1</td>\n",
       "      <td>6</td>\n",
       "      <td>1028243088</td>\n",
       "      <td>1120917090</td>\n",
       "    </tr>\n",
       "    <tr>\n",
       "      <th>1</th>\n",
       "      <td>1</td>\n",
       "      <td>8</td>\n",
       "      <td>1029885647</td>\n",
       "      <td>1136791625</td>\n",
       "    </tr>\n",
       "    <tr>\n",
       "      <th>2</th>\n",
       "      <td>1</td>\n",
       "      <td>9</td>\n",
       "      <td>1029885647</td>\n",
       "      <td>1136791625</td>\n",
       "    </tr>\n",
       "    <tr>\n",
       "      <th>3</th>\n",
       "      <td>1</td>\n",
       "      <td>3</td>\n",
       "      <td>1028243088</td>\n",
       "      <td>1143227562</td>\n",
       "    </tr>\n",
       "    <tr>\n",
       "      <th>4</th>\n",
       "      <td>1</td>\n",
       "      <td>3</td>\n",
       "      <td>1146727453</td>\n",
       "      <td>1148998304</td>\n",
       "    </tr>\n",
       "  </tbody>\n",
       "</table>\n",
       "</div>"
      ],
      "text/plain": [
       "   src  trg       start         end\n",
       "0    1    6  1028243088  1120917090\n",
       "1    1    8  1029885647  1136791625\n",
       "2    1    9  1029885647  1136791625\n",
       "3    1    3  1028243088  1143227562\n",
       "4    1    3  1146727453  1148998304"
      ]
     },
     "execution_count": 3,
     "metadata": {},
     "output_type": "execute_result"
    }
   ],
   "source": [
    "temp_nw.head()"
   ]
  },
  {
   "cell_type": "code",
   "execution_count": 4,
   "metadata": {
    "collapsed": true
   },
   "outputs": [],
   "source": [
    "temp_nw['start'] = pd.to_datetime(temp_nw['start'], unit = 's') #convert Unix timestamps to date time, utc = 0\n",
    "temp_nw['end'] = pd.to_datetime(temp_nw['end'], unit = 's')"
   ]
  },
  {
   "cell_type": "code",
   "execution_count": 5,
   "metadata": {},
   "outputs": [
    {
     "name": "stdout",
     "output_type": "stream",
     "text": [
      "2002-08-02 01:04:48\n"
     ]
    }
   ],
   "source": [
    "#test function for unix time stamps to datetime\n",
    "print(\n",
    "    datetime.datetime.fromtimestamp(\n",
    "        int(\"1028243088\")\n",
    "    ).strftime('%Y-%m-%d %H:%M:%S')\n",
    ")"
   ]
  },
  {
   "cell_type": "code",
   "execution_count": 6,
   "metadata": {},
   "outputs": [
    {
     "data": {
      "text/html": [
       "<div>\n",
       "<style>\n",
       "    .dataframe thead tr:only-child th {\n",
       "        text-align: right;\n",
       "    }\n",
       "\n",
       "    .dataframe thead th {\n",
       "        text-align: left;\n",
       "    }\n",
       "\n",
       "    .dataframe tbody tr th {\n",
       "        vertical-align: top;\n",
       "    }\n",
       "</style>\n",
       "<table border=\"1\" class=\"dataframe\">\n",
       "  <thead>\n",
       "    <tr style=\"text-align: right;\">\n",
       "      <th></th>\n",
       "      <th>src</th>\n",
       "      <th>trg</th>\n",
       "      <th>start</th>\n",
       "      <th>end</th>\n",
       "    </tr>\n",
       "  </thead>\n",
       "  <tbody>\n",
       "    <tr>\n",
       "      <th>0</th>\n",
       "      <td>1</td>\n",
       "      <td>6</td>\n",
       "      <td>2002-08-01 23:04:48</td>\n",
       "      <td>2005-07-09 13:51:30</td>\n",
       "    </tr>\n",
       "    <tr>\n",
       "      <th>1</th>\n",
       "      <td>1</td>\n",
       "      <td>8</td>\n",
       "      <td>2002-08-20 23:20:47</td>\n",
       "      <td>2006-01-09 07:27:05</td>\n",
       "    </tr>\n",
       "    <tr>\n",
       "      <th>2</th>\n",
       "      <td>1</td>\n",
       "      <td>9</td>\n",
       "      <td>2002-08-20 23:20:47</td>\n",
       "      <td>2006-01-09 07:27:05</td>\n",
       "    </tr>\n",
       "    <tr>\n",
       "      <th>3</th>\n",
       "      <td>1</td>\n",
       "      <td>3</td>\n",
       "      <td>2002-08-01 23:04:48</td>\n",
       "      <td>2006-03-24 19:12:42</td>\n",
       "    </tr>\n",
       "    <tr>\n",
       "      <th>4</th>\n",
       "      <td>1</td>\n",
       "      <td>3</td>\n",
       "      <td>2006-05-04 07:24:13</td>\n",
       "      <td>2006-05-30 14:11:44</td>\n",
       "    </tr>\n",
       "    <tr>\n",
       "      <th>5</th>\n",
       "      <td>1</td>\n",
       "      <td>5</td>\n",
       "      <td>2002-08-01 23:04:48</td>\n",
       "      <td>2007-07-10 19:45:45</td>\n",
       "    </tr>\n",
       "    <tr>\n",
       "      <th>6</th>\n",
       "      <td>1</td>\n",
       "      <td>2</td>\n",
       "      <td>2002-08-01 23:04:48</td>\n",
       "      <td>2007-07-10 19:45:45</td>\n",
       "    </tr>\n",
       "    <tr>\n",
       "      <th>7</th>\n",
       "      <td>1</td>\n",
       "      <td>3</td>\n",
       "      <td>2006-06-06 12:47:15</td>\n",
       "      <td>2007-07-10 19:45:45</td>\n",
       "    </tr>\n",
       "    <tr>\n",
       "      <th>8</th>\n",
       "      <td>1</td>\n",
       "      <td>4</td>\n",
       "      <td>2002-08-01 23:04:48</td>\n",
       "      <td>2007-07-10 19:45:45</td>\n",
       "    </tr>\n",
       "    <tr>\n",
       "      <th>9</th>\n",
       "      <td>1</td>\n",
       "      <td>7</td>\n",
       "      <td>2002-08-01 23:04:48</td>\n",
       "      <td>2007-07-10 19:45:45</td>\n",
       "    </tr>\n",
       "  </tbody>\n",
       "</table>\n",
       "</div>"
      ],
      "text/plain": [
       "   src  trg               start                 end\n",
       "0    1    6 2002-08-01 23:04:48 2005-07-09 13:51:30\n",
       "1    1    8 2002-08-20 23:20:47 2006-01-09 07:27:05\n",
       "2    1    9 2002-08-20 23:20:47 2006-01-09 07:27:05\n",
       "3    1    3 2002-08-01 23:04:48 2006-03-24 19:12:42\n",
       "4    1    3 2006-05-04 07:24:13 2006-05-30 14:11:44\n",
       "5    1    5 2002-08-01 23:04:48 2007-07-10 19:45:45\n",
       "6    1    2 2002-08-01 23:04:48 2007-07-10 19:45:45\n",
       "7    1    3 2006-06-06 12:47:15 2007-07-10 19:45:45\n",
       "8    1    4 2002-08-01 23:04:48 2007-07-10 19:45:45\n",
       "9    1    7 2002-08-01 23:04:48 2007-07-10 19:45:45"
      ]
     },
     "execution_count": 6,
     "metadata": {},
     "output_type": "execute_result"
    }
   ],
   "source": [
    "temp_nw.head(10)"
   ]
  },
  {
   "cell_type": "code",
   "execution_count": 7,
   "metadata": {},
   "outputs": [
    {
     "data": {
      "text/plain": [
       "(4729035, 4)"
      ]
     },
     "execution_count": 7,
     "metadata": {},
     "output_type": "execute_result"
    }
   ],
   "source": [
    "temp_nw.shape"
   ]
  },
  {
   "cell_type": "code",
   "execution_count": 24,
   "metadata": {},
   "outputs": [
    {
     "data": {
      "text/plain": [
       "(213645, 4)"
      ]
     },
     "execution_count": 24,
     "metadata": {},
     "output_type": "execute_result"
    }
   ],
   "source": [
    "# Select edges where start is between the start of 2002 and the start of 2004\n",
    "T1 = datetime.datetime(2002, 1, 1, 0, 0, 0)\n",
    "T2 = datetime.datetime(2004, 1, 1, 0, 0, 0)\n",
    "df_G1 = temp_nw.copy()\n",
    "df_G1 = df_G1[((df_G1['start'] >= T1) & (df_G1['start'] < T2)) | ((df_G1['end'] >= T1) & (df_G1['end'] < T2))]\n",
    "df_G1.shape"
   ]
  },
  {
   "cell_type": "code",
   "execution_count": 25,
   "metadata": {
    "collapsed": true
   },
   "outputs": [],
   "source": [
    "# Initialize a directed graph G from the given pandas dataframe.\n",
    "G1 = nx.from_pandas_dataframe(df_G1, 'src', 'trg', edge_attr=None, create_using=nx.DiGraph())"
   ]
  },
  {
   "cell_type": "markdown",
   "metadata": {},
   "source": [
    "Now we have a directed graph $G_1$ containing only the edges that were present at some point between $T_1 = $ 2002-01-01 00:00:00 and $T_2 = $ 2004-01-01 00:00:00."
   ]
  },
  {
   "cell_type": "markdown",
   "metadata": {},
   "source": [
    "Let's repeat these steps to generate some more graphs, $G_2, G_3, G_4, G_5$, each with only the edges that appear between $T_i$ and $T_{i+1}$ for $G_i$."
   ]
  },
  {
   "cell_type": "code",
   "execution_count": 15,
   "metadata": {
    "collapsed": true
   },
   "outputs": [],
   "source": [
    "T3 = datetime.datetime(2006, 1, 1, 0, 0, 0)\n",
    "T4 = datetime.datetime(2008, 1, 1, 0, 0, 0)\n",
    "T5 = datetime.datetime(2010, 1, 1, 0, 0, 0)\n",
    "T6 = datetime.datetime(2012, 1, 1, 0, 0, 0)"
   ]
  },
  {
   "cell_type": "code",
   "execution_count": 16,
   "metadata": {},
   "outputs": [
    {
     "data": {
      "text/plain": [
       "(1157321, 4)"
      ]
     },
     "execution_count": 16,
     "metadata": {},
     "output_type": "execute_result"
    }
   ],
   "source": [
    "df_G2 = temp_nw.copy()\n",
    "df_G2 = df_G2[((df_G2['start'] >= T2) & (df_G2['start'] < T3)) | ((df_G2['end'] >= T2) & (df_G2['end'] < T3))]\n",
    "df_G2.shape"
   ]
  },
  {
   "cell_type": "code",
   "execution_count": 17,
   "metadata": {
    "collapsed": true
   },
   "outputs": [],
   "source": [
    "# Initialize a directed graph G from the given pandas dataframe.\n",
    "G2 = nx.from_pandas_dataframe(df_G2, 'src', 'trg', edge_attr=None, create_using=nx.DiGraph())"
   ]
  },
  {
   "cell_type": "code",
   "execution_count": 18,
   "metadata": {},
   "outputs": [
    {
     "data": {
      "text/plain": [
       "(2281227, 4)"
      ]
     },
     "execution_count": 18,
     "metadata": {},
     "output_type": "execute_result"
    }
   ],
   "source": [
    "df_G3 = temp_nw.copy()\n",
    "df_G3 = df_G3[((df_G3['start'] >= T3) & (df_G3['start'] < T4)) | ((df_G3['end'] >= T3) & (df_G3['end'] < T4))]\n",
    "df_G3.shape"
   ]
  },
  {
   "cell_type": "code",
   "execution_count": 19,
   "metadata": {
    "collapsed": true
   },
   "outputs": [],
   "source": [
    "# Initialize a directed graph G from the given pandas dataframe.\n",
    "G3 = nx.from_pandas_dataframe(df_G3, 'src', 'trg', edge_attr=None, create_using=nx.DiGraph())"
   ]
  },
  {
   "cell_type": "code",
   "execution_count": 20,
   "metadata": {},
   "outputs": [
    {
     "data": {
      "text/plain": [
       "(1783757, 4)"
      ]
     },
     "execution_count": 20,
     "metadata": {},
     "output_type": "execute_result"
    }
   ],
   "source": [
    "df_G4 = temp_nw.copy()\n",
    "df_G4 = df_G4[((df_G4['start'] >= T4) & (df_G4['start'] < T5)) | ((df_G4['end'] >= T4) & (df_G4['end'] < T5))]\n",
    "df_G4.shape"
   ]
  },
  {
   "cell_type": "code",
   "execution_count": 21,
   "metadata": {
    "collapsed": true
   },
   "outputs": [],
   "source": [
    "# Initialize a directed graph G from the given pandas dataframe.\n",
    "G4 = nx.from_pandas_dataframe(df_G4, 'src', 'trg', edge_attr=None, create_using=nx.DiGraph())"
   ]
  },
  {
   "cell_type": "code",
   "execution_count": 22,
   "metadata": {},
   "outputs": [
    {
     "data": {
      "text/plain": [
       "(1107141, 4)"
      ]
     },
     "execution_count": 22,
     "metadata": {},
     "output_type": "execute_result"
    }
   ],
   "source": [
    "df_G5 = temp_nw.copy()\n",
    "df_G5 = df_G5[((df_G5['start'] >= T5) & (df_G5['start'] < T6)) | ((df_G5['end'] >= T5) & (df_G5['end'] < T6))]\n",
    "df_G5.shape"
   ]
  },
  {
   "cell_type": "code",
   "execution_count": 23,
   "metadata": {
    "collapsed": true
   },
   "outputs": [],
   "source": [
    "# Initialize a directed graph G from the given pandas dataframe.\n",
    "G5 = nx.from_pandas_dataframe(df_G5, 'src', 'trg', edge_attr=None, create_using=nx.DiGraph())"
   ]
  },
  {
   "cell_type": "markdown",
   "metadata": {},
   "source": [
    "## The HITS algorithm\n",
    "#### (Hyperlink-Induced Topic Search; also known as hubs and authorities)"
   ]
  },
  {
   "cell_type": "markdown",
   "metadata": {},
   "source": [
    "Now that we have a graph for each of the time ranges, let's run the HITS algorithm on each of them."
   ]
  },
  {
   "cell_type": "code",
   "execution_count": 35,
   "metadata": {
    "collapsed": true
   },
   "outputs": [],
   "source": [
    "# Run the HITS algorithm from networkx.\n",
    "# Returns two-tuple of dictionaries: (hubs, authorities).\n",
    "HITS1 = nx.hits(G1)\n",
    "HITS2 = nx.hits(G2)\n",
    "HITS3 = nx.hits(G3)\n",
    "HITS4 = nx.hits(G4)\n",
    "HITS5 = nx.hits(G5)"
   ]
  },
  {
   "cell_type": "code",
   "execution_count": 36,
   "metadata": {
    "collapsed": true
   },
   "outputs": [],
   "source": [
    "hubs1 = HITS1[0]\n",
    "authorities1 = HITS1[1]\n",
    "hubs2 = HITS2[0]\n",
    "authorities2 = HITS2[1]\n",
    "hubs3 = HITS3[0]\n",
    "authorities3 = HITS3[1]\n",
    "hubs4 = HITS4[0]\n",
    "authorities4 = HITS4[1]\n",
    "hubs5 = HITS5[0]\n",
    "authorities5 = HITS5[1]"
   ]
  },
  {
   "cell_type": "markdown",
   "metadata": {},
   "source": [
    "Creating DataFrames with the hub- and authority-values:"
   ]
  },
  {
   "cell_type": "code",
   "execution_count": 37,
   "metadata": {},
   "outputs": [
    {
     "data": {
      "text/html": [
       "<div>\n",
       "<style>\n",
       "    .dataframe thead tr:only-child th {\n",
       "        text-align: right;\n",
       "    }\n",
       "\n",
       "    .dataframe thead th {\n",
       "        text-align: left;\n",
       "    }\n",
       "\n",
       "    .dataframe tbody tr th {\n",
       "        vertical-align: top;\n",
       "    }\n",
       "</style>\n",
       "<table border=\"1\" class=\"dataframe\">\n",
       "  <thead>\n",
       "    <tr style=\"text-align: right;\">\n",
       "      <th></th>\n",
       "      <th>Node</th>\n",
       "      <th>Hub values</th>\n",
       "    </tr>\n",
       "  </thead>\n",
       "  <tbody>\n",
       "    <tr>\n",
       "      <th>1</th>\n",
       "      <td>1</td>\n",
       "      <td>0.000055</td>\n",
       "    </tr>\n",
       "    <tr>\n",
       "      <th>6</th>\n",
       "      <td>6</td>\n",
       "      <td>0.000000</td>\n",
       "    </tr>\n",
       "    <tr>\n",
       "      <th>8</th>\n",
       "      <td>8</td>\n",
       "      <td>0.000000</td>\n",
       "    </tr>\n",
       "    <tr>\n",
       "      <th>9</th>\n",
       "      <td>9</td>\n",
       "      <td>0.000845</td>\n",
       "    </tr>\n",
       "    <tr>\n",
       "      <th>3</th>\n",
       "      <td>3</td>\n",
       "      <td>0.000060</td>\n",
       "    </tr>\n",
       "  </tbody>\n",
       "</table>\n",
       "</div>"
      ],
      "text/plain": [
       "   Node  Hub values\n",
       "1     1    0.000055\n",
       "6     6    0.000000\n",
       "8     8    0.000000\n",
       "9     9    0.000845\n",
       "3     3    0.000060"
      ]
     },
     "execution_count": 37,
     "metadata": {},
     "output_type": "execute_result"
    }
   ],
   "source": [
    "# DataFrames for hub values\n",
    "df_hubs1 = pd.DataFrame.from_dict(hubs1, orient='index')\n",
    "df_hubs1.columns = ['Hub values']\n",
    "df_hubs1['Node'] = df_hubs1.index\n",
    "cols = df_hubs1.columns.tolist()\n",
    "cols = cols[-1:] + cols[:-1]\n",
    "df_hubs1 = df_hubs1[cols]\n",
    "\n",
    "df_hubs2 = pd.DataFrame.from_dict(hubs2, orient='index')\n",
    "df_hubs2.columns = ['Hub values']\n",
    "df_hubs2['Node'] = df_hubs2.index\n",
    "cols = df_hubs2.columns.tolist()\n",
    "cols = cols[-1:] + cols[:-1]\n",
    "df_hubs2 = df_hubs2[cols]\n",
    "\n",
    "df_hubs3 = pd.DataFrame.from_dict(hubs3, orient='index')\n",
    "df_hubs3.columns = ['Hub values']\n",
    "df_hubs3['Node'] = df_hubs3.index\n",
    "cols = df_hubs3.columns.tolist()\n",
    "cols = cols[-1:] + cols[:-1]\n",
    "df_hubs3 = df_hubs3[cols]\n",
    "\n",
    "df_hubs4 = pd.DataFrame.from_dict(hubs4, orient='index')\n",
    "df_hubs4.columns = ['Hub values']\n",
    "df_hubs4['Node'] = df_hubs4.index\n",
    "cols = df_hubs4.columns.tolist()\n",
    "cols = cols[-1:] + cols[:-1]\n",
    "df_hubs4 = df_hubs4[cols]\n",
    "\n",
    "df_hubs5 = pd.DataFrame.from_dict(hubs5, orient='index')\n",
    "df_hubs5.columns = ['Hub values']\n",
    "df_hubs5['Node'] = df_hubs5.index\n",
    "cols = df_hubs5.columns.tolist()\n",
    "cols = cols[-1:] + cols[:-1]\n",
    "df_hubs5 = df_hubs5[cols]\n",
    "\n",
    "# Example\n",
    "df_hubs1.head()"
   ]
  },
  {
   "cell_type": "code",
   "execution_count": 38,
   "metadata": {},
   "outputs": [
    {
     "data": {
      "text/html": [
       "<div>\n",
       "<style>\n",
       "    .dataframe thead tr:only-child th {\n",
       "        text-align: right;\n",
       "    }\n",
       "\n",
       "    .dataframe thead th {\n",
       "        text-align: left;\n",
       "    }\n",
       "\n",
       "    .dataframe tbody tr th {\n",
       "        vertical-align: top;\n",
       "    }\n",
       "</style>\n",
       "<table border=\"1\" class=\"dataframe\">\n",
       "  <thead>\n",
       "    <tr style=\"text-align: right;\">\n",
       "      <th></th>\n",
       "      <th>Node</th>\n",
       "      <th>Authority values</th>\n",
       "    </tr>\n",
       "  </thead>\n",
       "  <tbody>\n",
       "    <tr>\n",
       "      <th>1</th>\n",
       "      <td>1</td>\n",
       "      <td>0.000057</td>\n",
       "    </tr>\n",
       "    <tr>\n",
       "      <th>6</th>\n",
       "      <td>6</td>\n",
       "      <td>0.000026</td>\n",
       "    </tr>\n",
       "    <tr>\n",
       "      <th>8</th>\n",
       "      <td>8</td>\n",
       "      <td>0.000075</td>\n",
       "    </tr>\n",
       "    <tr>\n",
       "      <th>9</th>\n",
       "      <td>9</td>\n",
       "      <td>0.001097</td>\n",
       "    </tr>\n",
       "    <tr>\n",
       "      <th>3</th>\n",
       "      <td>3</td>\n",
       "      <td>0.000428</td>\n",
       "    </tr>\n",
       "  </tbody>\n",
       "</table>\n",
       "</div>"
      ],
      "text/plain": [
       "   Node  Authority values\n",
       "1     1          0.000057\n",
       "6     6          0.000026\n",
       "8     8          0.000075\n",
       "9     9          0.001097\n",
       "3     3          0.000428"
      ]
     },
     "execution_count": 38,
     "metadata": {},
     "output_type": "execute_result"
    }
   ],
   "source": [
    "# DataFrames for hub values\n",
    "df_auth1 = pd.DataFrame.from_dict(authorities1, orient='index')\n",
    "df_auth1.columns = ['Authority values']\n",
    "df_auth1['Node'] = df_auth1.index\n",
    "cols = df_auth1.columns.tolist()\n",
    "cols = cols[-1:] + cols[:-1]\n",
    "df_auth1 = df_auth1[cols]\n",
    "\n",
    "df_auth2 = pd.DataFrame.from_dict(authorities2, orient='index')\n",
    "df_auth2.columns = ['Authority values']\n",
    "df_auth2['Node'] = df_auth2.index\n",
    "cols = df_auth2.columns.tolist()\n",
    "cols = cols[-1:] + cols[:-1]\n",
    "df_auth2 = df_auth2[cols]\n",
    "\n",
    "df_auth3 = pd.DataFrame.from_dict(authorities3, orient='index')\n",
    "df_auth3.columns = ['Authority values']\n",
    "df_auth3['Node'] = df_auth3.index\n",
    "cols = df_auth3.columns.tolist()\n",
    "cols = cols[-1:] + cols[:-1]\n",
    "df_auth3 = df_auth3[cols]\n",
    "\n",
    "df_auth4 = pd.DataFrame.from_dict(authorities4, orient='index')\n",
    "df_auth4.columns = ['Authority values']\n",
    "df_auth4['Node'] = df_auth4.index\n",
    "cols = df_auth4.columns.tolist()\n",
    "cols = cols[-1:] + cols[:-1]\n",
    "df_auth4 = df_auth4[cols]\n",
    "\n",
    "df_auth5 = pd.DataFrame.from_dict(authorities5, orient='index')\n",
    "df_auth5.columns = ['Authority values']\n",
    "df_auth5['Node'] = df_auth5.index\n",
    "cols = df_auth5.columns.tolist()\n",
    "cols = cols[-1:] + cols[:-1]\n",
    "df_auth5 = df_auth5[cols]\n",
    "\n",
    "# Example\n",
    "df_auth1.head()"
   ]
  },
  {
   "cell_type": "code",
   "execution_count": 39,
   "metadata": {},
   "outputs": [
    {
     "data": {
      "text/html": [
       "<div>\n",
       "<style>\n",
       "    .dataframe thead tr:only-child th {\n",
       "        text-align: right;\n",
       "    }\n",
       "\n",
       "    .dataframe thead th {\n",
       "        text-align: left;\n",
       "    }\n",
       "\n",
       "    .dataframe tbody tr th {\n",
       "        vertical-align: top;\n",
       "    }\n",
       "</style>\n",
       "<table border=\"1\" class=\"dataframe\">\n",
       "  <thead>\n",
       "    <tr style=\"text-align: right;\">\n",
       "      <th></th>\n",
       "      <th>Node</th>\n",
       "      <th>Hub values</th>\n",
       "      <th>Authority values</th>\n",
       "    </tr>\n",
       "  </thead>\n",
       "  <tbody>\n",
       "    <tr>\n",
       "      <th>0</th>\n",
       "      <td>1</td>\n",
       "      <td>0.000055</td>\n",
       "      <td>0.000057</td>\n",
       "    </tr>\n",
       "    <tr>\n",
       "      <th>1</th>\n",
       "      <td>6</td>\n",
       "      <td>0.000000</td>\n",
       "      <td>0.000026</td>\n",
       "    </tr>\n",
       "    <tr>\n",
       "      <th>2</th>\n",
       "      <td>8</td>\n",
       "      <td>0.000000</td>\n",
       "      <td>0.000075</td>\n",
       "    </tr>\n",
       "    <tr>\n",
       "      <th>3</th>\n",
       "      <td>9</td>\n",
       "      <td>0.000845</td>\n",
       "      <td>0.001097</td>\n",
       "    </tr>\n",
       "    <tr>\n",
       "      <th>4</th>\n",
       "      <td>3</td>\n",
       "      <td>0.000060</td>\n",
       "      <td>0.000428</td>\n",
       "    </tr>\n",
       "  </tbody>\n",
       "</table>\n",
       "</div>"
      ],
      "text/plain": [
       "   Node  Hub values  Authority values\n",
       "0     1    0.000055          0.000057\n",
       "1     6    0.000000          0.000026\n",
       "2     8    0.000000          0.000075\n",
       "3     9    0.000845          0.001097\n",
       "4     3    0.000060          0.000428"
      ]
     },
     "execution_count": 39,
     "metadata": {},
     "output_type": "execute_result"
    }
   ],
   "source": [
    "# Merging each of the hub DataFrames with the corresponding authority DataFrame\n",
    "df_HITS1 = pd.merge(df_hubs1, df_auth1, on='Node')\n",
    "df_HITS2 = pd.merge(df_hubs2, df_auth2, on='Node')\n",
    "df_HITS3 = pd.merge(df_hubs3, df_auth3, on='Node')\n",
    "df_HITS4 = pd.merge(df_hubs4, df_auth4, on='Node')\n",
    "df_HITS5 = pd.merge(df_hubs5, df_auth5, on='Node')\n",
    "\n",
    "# Example\n",
    "df_HITS1.head()"
   ]
  },
  {
   "cell_type": "markdown",
   "metadata": {},
   "source": [
    "Saving the DataFrames to CSV files, and importing the CSV files again, so we don't have to re-run the algorithm. (It takes a long time!)"
   ]
  },
  {
   "cell_type": "code",
   "execution_count": 40,
   "metadata": {
    "collapsed": true
   },
   "outputs": [],
   "source": [
    "# Save the DataFrames to CSV files so we don't have to run the HITS algorithm ever again\n",
    "df_HITS1.to_csv('./Data/HITS1.csv')\n",
    "df_HITS2.to_csv('./Data/HITS2.csv')\n",
    "df_HITS3.to_csv('./Data/HITS3.csv')\n",
    "df_HITS4.to_csv('./Data/HITS4.csv')\n",
    "df_HITS5.to_csv('./Data/HITS5.csv')"
   ]
  },
  {
   "cell_type": "code",
   "execution_count": 41,
   "metadata": {},
   "outputs": [
    {
     "data": {
      "text/html": [
       "<div>\n",
       "<style>\n",
       "    .dataframe thead tr:only-child th {\n",
       "        text-align: right;\n",
       "    }\n",
       "\n",
       "    .dataframe thead th {\n",
       "        text-align: left;\n",
       "    }\n",
       "\n",
       "    .dataframe tbody tr th {\n",
       "        vertical-align: top;\n",
       "    }\n",
       "</style>\n",
       "<table border=\"1\" class=\"dataframe\">\n",
       "  <thead>\n",
       "    <tr style=\"text-align: right;\">\n",
       "      <th></th>\n",
       "      <th>Node</th>\n",
       "      <th>Hub values</th>\n",
       "      <th>Authority values</th>\n",
       "    </tr>\n",
       "  </thead>\n",
       "  <tbody>\n",
       "    <tr>\n",
       "      <th>0</th>\n",
       "      <td>1</td>\n",
       "      <td>0.000055</td>\n",
       "      <td>0.000057</td>\n",
       "    </tr>\n",
       "    <tr>\n",
       "      <th>1</th>\n",
       "      <td>6</td>\n",
       "      <td>0.000000</td>\n",
       "      <td>0.000026</td>\n",
       "    </tr>\n",
       "    <tr>\n",
       "      <th>2</th>\n",
       "      <td>8</td>\n",
       "      <td>0.000000</td>\n",
       "      <td>0.000075</td>\n",
       "    </tr>\n",
       "    <tr>\n",
       "      <th>3</th>\n",
       "      <td>9</td>\n",
       "      <td>0.000845</td>\n",
       "      <td>0.001097</td>\n",
       "    </tr>\n",
       "    <tr>\n",
       "      <th>4</th>\n",
       "      <td>3</td>\n",
       "      <td>0.000060</td>\n",
       "      <td>0.000428</td>\n",
       "    </tr>\n",
       "  </tbody>\n",
       "</table>\n",
       "</div>"
      ],
      "text/plain": [
       "   Node  Hub values  Authority values\n",
       "0     1    0.000055          0.000057\n",
       "1     6    0.000000          0.000026\n",
       "2     8    0.000000          0.000075\n",
       "3     9    0.000845          0.001097\n",
       "4     3    0.000060          0.000428"
      ]
     },
     "execution_count": 41,
     "metadata": {},
     "output_type": "execute_result"
    }
   ],
   "source": [
    "# Import the DataFrames again from the CSV files.\n",
    "df_HITS1 = pd.DataFrame.from_csv('./Data/HITS1.csv')\n",
    "df_HITS2 = pd.DataFrame.from_csv('./Data/HITS2.csv')\n",
    "df_HITS3 = pd.DataFrame.from_csv('./Data/HITS3.csv')\n",
    "df_HITS4 = pd.DataFrame.from_csv('./Data/HITS4.csv')\n",
    "df_HITS5 = pd.DataFrame.from_csv('./Data/HITS5.csv')\n",
    "\n",
    "# Example\n",
    "df_HITS1.head()"
   ]
  },
  {
   "cell_type": "markdown",
   "metadata": {},
   "source": [
    "## Analysis\n",
    "Now that we have dataframes containing the hub- and authority-values for each node, let's analyze them to see what differences or interesting attributes we can find."
   ]
  },
  {
   "cell_type": "markdown",
   "metadata": {},
   "source": [
    "We will start by looking at the top-3 best hubs and authorities for each time range."
   ]
  },
  {
   "cell_type": "code",
   "execution_count": 42,
   "metadata": {},
   "outputs": [
    {
     "data": {
      "text/html": [
       "<div>\n",
       "<style>\n",
       "    .dataframe thead tr:only-child th {\n",
       "        text-align: right;\n",
       "    }\n",
       "\n",
       "    .dataframe thead th {\n",
       "        text-align: left;\n",
       "    }\n",
       "\n",
       "    .dataframe tbody tr th {\n",
       "        vertical-align: top;\n",
       "    }\n",
       "</style>\n",
       "<table border=\"1\" class=\"dataframe\">\n",
       "  <thead>\n",
       "    <tr style=\"text-align: right;\">\n",
       "      <th></th>\n",
       "      <th>Node</th>\n",
       "      <th>Hub values</th>\n",
       "      <th>Authority values</th>\n",
       "    </tr>\n",
       "  </thead>\n",
       "  <tbody>\n",
       "    <tr>\n",
       "      <th>1631</th>\n",
       "      <td>103662</td>\n",
       "      <td>0.001953</td>\n",
       "      <td>0.000033</td>\n",
       "    </tr>\n",
       "    <tr>\n",
       "      <th>8937</th>\n",
       "      <td>5617</td>\n",
       "      <td>0.001415</td>\n",
       "      <td>0.000048</td>\n",
       "    </tr>\n",
       "    <tr>\n",
       "      <th>1380</th>\n",
       "      <td>126</td>\n",
       "      <td>0.001245</td>\n",
       "      <td>0.002013</td>\n",
       "    </tr>\n",
       "  </tbody>\n",
       "</table>\n",
       "</div>"
      ],
      "text/plain": [
       "        Node  Hub values  Authority values\n",
       "1631  103662    0.001953          0.000033\n",
       "8937    5617    0.001415          0.000048\n",
       "1380     126    0.001245          0.002013"
      ]
     },
     "execution_count": 42,
     "metadata": {},
     "output_type": "execute_result"
    }
   ],
   "source": [
    "df_HITS1 = df_HITS1.sort_values(by=['Hub values'], ascending=False)\n",
    "df_HITS1.head(3)"
   ]
  },
  {
   "cell_type": "code",
   "execution_count": 43,
   "metadata": {},
   "outputs": [
    {
     "data": {
      "text/html": [
       "<div>\n",
       "<style>\n",
       "    .dataframe thead tr:only-child th {\n",
       "        text-align: right;\n",
       "    }\n",
       "\n",
       "    .dataframe thead th {\n",
       "        text-align: left;\n",
       "    }\n",
       "\n",
       "    .dataframe tbody tr th {\n",
       "        vertical-align: top;\n",
       "    }\n",
       "</style>\n",
       "<table border=\"1\" class=\"dataframe\">\n",
       "  <thead>\n",
       "    <tr style=\"text-align: right;\">\n",
       "      <th></th>\n",
       "      <th>Node</th>\n",
       "      <th>Hub values</th>\n",
       "      <th>Authority values</th>\n",
       "    </tr>\n",
       "  </thead>\n",
       "  <tbody>\n",
       "    <tr>\n",
       "      <th>29614</th>\n",
       "      <td>38845</td>\n",
       "      <td>0.000313</td>\n",
       "      <td>8.515347e-05</td>\n",
       "    </tr>\n",
       "    <tr>\n",
       "      <th>97094</th>\n",
       "      <td>45852</td>\n",
       "      <td>0.000312</td>\n",
       "      <td>7.046423e-08</td>\n",
       "    </tr>\n",
       "    <tr>\n",
       "      <th>154998</th>\n",
       "      <td>78070</td>\n",
       "      <td>0.000310</td>\n",
       "      <td>6.613650e-07</td>\n",
       "    </tr>\n",
       "  </tbody>\n",
       "</table>\n",
       "</div>"
      ],
      "text/plain": [
       "         Node  Hub values  Authority values\n",
       "29614   38845    0.000313      8.515347e-05\n",
       "97094   45852    0.000312      7.046423e-08\n",
       "154998  78070    0.000310      6.613650e-07"
      ]
     },
     "execution_count": 43,
     "metadata": {},
     "output_type": "execute_result"
    }
   ],
   "source": [
    "df_HITS2 = df_HITS2.sort_values(by=['Hub values'], ascending=False)\n",
    "df_HITS2.head(3)"
   ]
  },
  {
   "cell_type": "code",
   "execution_count": 44,
   "metadata": {},
   "outputs": [
    {
     "data": {
      "text/html": [
       "<div>\n",
       "<style>\n",
       "    .dataframe thead tr:only-child th {\n",
       "        text-align: right;\n",
       "    }\n",
       "\n",
       "    .dataframe thead th {\n",
       "        text-align: left;\n",
       "    }\n",
       "\n",
       "    .dataframe tbody tr th {\n",
       "        vertical-align: top;\n",
       "    }\n",
       "</style>\n",
       "<table border=\"1\" class=\"dataframe\">\n",
       "  <thead>\n",
       "    <tr style=\"text-align: right;\">\n",
       "      <th></th>\n",
       "      <th>Node</th>\n",
       "      <th>Hub values</th>\n",
       "      <th>Authority values</th>\n",
       "    </tr>\n",
       "  </thead>\n",
       "  <tbody>\n",
       "    <tr>\n",
       "      <th>14271</th>\n",
       "      <td>9261</td>\n",
       "      <td>0.000403</td>\n",
       "      <td>7.590150e-08</td>\n",
       "    </tr>\n",
       "    <tr>\n",
       "      <th>7645</th>\n",
       "      <td>7540</td>\n",
       "      <td>0.000383</td>\n",
       "      <td>2.828857e-05</td>\n",
       "    </tr>\n",
       "    <tr>\n",
       "      <th>7646</th>\n",
       "      <td>7541</td>\n",
       "      <td>0.000379</td>\n",
       "      <td>6.449276e-05</td>\n",
       "    </tr>\n",
       "  </tbody>\n",
       "</table>\n",
       "</div>"
      ],
      "text/plain": [
       "       Node  Hub values  Authority values\n",
       "14271  9261    0.000403      7.590150e-08\n",
       "7645   7540    0.000383      2.828857e-05\n",
       "7646   7541    0.000379      6.449276e-05"
      ]
     },
     "execution_count": 44,
     "metadata": {},
     "output_type": "execute_result"
    }
   ],
   "source": [
    "df_HITS3 = df_HITS3.sort_values(by=['Hub values'], ascending=False)\n",
    "df_HITS3.head(3)"
   ]
  },
  {
   "cell_type": "code",
   "execution_count": 45,
   "metadata": {},
   "outputs": [
    {
     "data": {
      "text/html": [
       "<div>\n",
       "<style>\n",
       "    .dataframe thead tr:only-child th {\n",
       "        text-align: right;\n",
       "    }\n",
       "\n",
       "    .dataframe thead th {\n",
       "        text-align: left;\n",
       "    }\n",
       "\n",
       "    .dataframe tbody tr th {\n",
       "        vertical-align: top;\n",
       "    }\n",
       "</style>\n",
       "<table border=\"1\" class=\"dataframe\">\n",
       "  <thead>\n",
       "    <tr style=\"text-align: right;\">\n",
       "      <th></th>\n",
       "      <th>Node</th>\n",
       "      <th>Hub values</th>\n",
       "      <th>Authority values</th>\n",
       "    </tr>\n",
       "  </thead>\n",
       "  <tbody>\n",
       "    <tr>\n",
       "      <th>11995</th>\n",
       "      <td>9261</td>\n",
       "      <td>0.000678</td>\n",
       "      <td>2.591263e-07</td>\n",
       "    </tr>\n",
       "    <tr>\n",
       "      <th>7689</th>\n",
       "      <td>18857</td>\n",
       "      <td>0.000585</td>\n",
       "      <td>2.613865e-05</td>\n",
       "    </tr>\n",
       "    <tr>\n",
       "      <th>5909</th>\n",
       "      <td>7541</td>\n",
       "      <td>0.000566</td>\n",
       "      <td>3.142813e-05</td>\n",
       "    </tr>\n",
       "  </tbody>\n",
       "</table>\n",
       "</div>"
      ],
      "text/plain": [
       "        Node  Hub values  Authority values\n",
       "11995   9261    0.000678      2.591263e-07\n",
       "7689   18857    0.000585      2.613865e-05\n",
       "5909    7541    0.000566      3.142813e-05"
      ]
     },
     "execution_count": 45,
     "metadata": {},
     "output_type": "execute_result"
    }
   ],
   "source": [
    "df_HITS4 = df_HITS4.sort_values(by=['Hub values'], ascending=False)\n",
    "df_HITS4.head(3)"
   ]
  },
  {
   "cell_type": "code",
   "execution_count": 46,
   "metadata": {},
   "outputs": [
    {
     "data": {
      "text/html": [
       "<div>\n",
       "<style>\n",
       "    .dataframe thead tr:only-child th {\n",
       "        text-align: right;\n",
       "    }\n",
       "\n",
       "    .dataframe thead th {\n",
       "        text-align: left;\n",
       "    }\n",
       "\n",
       "    .dataframe tbody tr th {\n",
       "        vertical-align: top;\n",
       "    }\n",
       "</style>\n",
       "<table border=\"1\" class=\"dataframe\">\n",
       "  <thead>\n",
       "    <tr style=\"text-align: right;\">\n",
       "      <th></th>\n",
       "      <th>Node</th>\n",
       "      <th>Hub values</th>\n",
       "      <th>Authority values</th>\n",
       "    </tr>\n",
       "  </thead>\n",
       "  <tbody>\n",
       "    <tr>\n",
       "      <th>84577</th>\n",
       "      <td>680980</td>\n",
       "      <td>0.001091</td>\n",
       "      <td>7.628692e-109</td>\n",
       "    </tr>\n",
       "    <tr>\n",
       "      <th>1523</th>\n",
       "      <td>280</td>\n",
       "      <td>0.001083</td>\n",
       "      <td>1.470502e-04</td>\n",
       "    </tr>\n",
       "    <tr>\n",
       "      <th>87039</th>\n",
       "      <td>685436</td>\n",
       "      <td>0.001065</td>\n",
       "      <td>0.000000e+00</td>\n",
       "    </tr>\n",
       "  </tbody>\n",
       "</table>\n",
       "</div>"
      ],
      "text/plain": [
       "         Node  Hub values  Authority values\n",
       "84577  680980    0.001091     7.628692e-109\n",
       "1523      280    0.001083      1.470502e-04\n",
       "87039  685436    0.001065      0.000000e+00"
      ]
     },
     "execution_count": 46,
     "metadata": {},
     "output_type": "execute_result"
    }
   ],
   "source": [
    "df_HITS5 = df_HITS5.sort_values(by=['Hub values'], ascending=False)\n",
    "df_HITS5.head(3)"
   ]
  },
  {
   "cell_type": "markdown",
   "metadata": {},
   "source": [
    "Immediately, we can see that the top-3 hub values are much higher for time the first DataFrame (2002 - 2004) than for the other DataFrames. Which is interesting, because this DataFrame contains far less edges than the others do."
   ]
  },
  {
   "cell_type": "markdown",
   "metadata": {},
   "source": [
    "Now, let's look at the authority values."
   ]
  },
  {
   "cell_type": "code",
   "execution_count": 47,
   "metadata": {},
   "outputs": [
    {
     "data": {
      "text/html": [
       "<div>\n",
       "<style>\n",
       "    .dataframe thead tr:only-child th {\n",
       "        text-align: right;\n",
       "    }\n",
       "\n",
       "    .dataframe thead th {\n",
       "        text-align: left;\n",
       "    }\n",
       "\n",
       "    .dataframe tbody tr th {\n",
       "        vertical-align: top;\n",
       "    }\n",
       "</style>\n",
       "<table border=\"1\" class=\"dataframe\">\n",
       "  <thead>\n",
       "    <tr style=\"text-align: right;\">\n",
       "      <th></th>\n",
       "      <th>Node</th>\n",
       "      <th>Hub values</th>\n",
       "      <th>Authority values</th>\n",
       "    </tr>\n",
       "  </thead>\n",
       "  <tbody>\n",
       "    <tr>\n",
       "      <th>5811</th>\n",
       "      <td>26251</td>\n",
       "      <td>0.000440</td>\n",
       "      <td>0.019242</td>\n",
       "    </tr>\n",
       "    <tr>\n",
       "      <th>6387</th>\n",
       "      <td>26254</td>\n",
       "      <td>0.000216</td>\n",
       "      <td>0.012391</td>\n",
       "    </tr>\n",
       "    <tr>\n",
       "      <th>315</th>\n",
       "      <td>394</td>\n",
       "      <td>0.000365</td>\n",
       "      <td>0.007192</td>\n",
       "    </tr>\n",
       "  </tbody>\n",
       "</table>\n",
       "</div>"
      ],
      "text/plain": [
       "       Node  Hub values  Authority values\n",
       "5811  26251    0.000440          0.019242\n",
       "6387  26254    0.000216          0.012391\n",
       "315     394    0.000365          0.007192"
      ]
     },
     "execution_count": 47,
     "metadata": {},
     "output_type": "execute_result"
    }
   ],
   "source": [
    "df_HITS1 = df_HITS1.sort_values(by=['Authority values'], ascending=False)\n",
    "df_HITS1.head(3)"
   ]
  },
  {
   "cell_type": "code",
   "execution_count": 48,
   "metadata": {},
   "outputs": [
    {
     "data": {
      "text/html": [
       "<div>\n",
       "<style>\n",
       "    .dataframe thead tr:only-child th {\n",
       "        text-align: right;\n",
       "    }\n",
       "\n",
       "    .dataframe thead th {\n",
       "        text-align: left;\n",
       "    }\n",
       "\n",
       "    .dataframe tbody tr th {\n",
       "        vertical-align: top;\n",
       "    }\n",
       "</style>\n",
       "<table border=\"1\" class=\"dataframe\">\n",
       "  <thead>\n",
       "    <tr style=\"text-align: right;\">\n",
       "      <th></th>\n",
       "      <th>Node</th>\n",
       "      <th>Hub values</th>\n",
       "      <th>Authority values</th>\n",
       "    </tr>\n",
       "  </thead>\n",
       "  <tbody>\n",
       "    <tr>\n",
       "      <th>10810</th>\n",
       "      <td>4088</td>\n",
       "      <td>0.000000e+00</td>\n",
       "      <td>0.049216</td>\n",
       "    </tr>\n",
       "    <tr>\n",
       "      <th>5808</th>\n",
       "      <td>9366</td>\n",
       "      <td>2.239920e-07</td>\n",
       "      <td>0.045545</td>\n",
       "    </tr>\n",
       "    <tr>\n",
       "      <th>10075</th>\n",
       "      <td>11726</td>\n",
       "      <td>3.820598e-09</td>\n",
       "      <td>0.040704</td>\n",
       "    </tr>\n",
       "  </tbody>\n",
       "</table>\n",
       "</div>"
      ],
      "text/plain": [
       "        Node    Hub values  Authority values\n",
       "10810   4088  0.000000e+00          0.049216\n",
       "5808    9366  2.239920e-07          0.045545\n",
       "10075  11726  3.820598e-09          0.040704"
      ]
     },
     "execution_count": 48,
     "metadata": {},
     "output_type": "execute_result"
    }
   ],
   "source": [
    "df_HITS2 = df_HITS2.sort_values(by=['Authority values'], ascending=False)\n",
    "df_HITS2.head(3)"
   ]
  },
  {
   "cell_type": "code",
   "execution_count": 49,
   "metadata": {},
   "outputs": [
    {
     "data": {
      "text/html": [
       "<div>\n",
       "<style>\n",
       "    .dataframe thead tr:only-child th {\n",
       "        text-align: right;\n",
       "    }\n",
       "\n",
       "    .dataframe thead th {\n",
       "        text-align: left;\n",
       "    }\n",
       "\n",
       "    .dataframe tbody tr th {\n",
       "        vertical-align: top;\n",
       "    }\n",
       "</style>\n",
       "<table border=\"1\" class=\"dataframe\">\n",
       "  <thead>\n",
       "    <tr style=\"text-align: right;\">\n",
       "      <th></th>\n",
       "      <th>Node</th>\n",
       "      <th>Hub values</th>\n",
       "      <th>Authority values</th>\n",
       "    </tr>\n",
       "  </thead>\n",
       "  <tbody>\n",
       "    <tr>\n",
       "      <th>2133</th>\n",
       "      <td>300</td>\n",
       "      <td>0.000345</td>\n",
       "      <td>0.007415</td>\n",
       "    </tr>\n",
       "    <tr>\n",
       "      <th>362</th>\n",
       "      <td>241</td>\n",
       "      <td>0.000295</td>\n",
       "      <td>0.006257</td>\n",
       "    </tr>\n",
       "    <tr>\n",
       "      <th>2128</th>\n",
       "      <td>240</td>\n",
       "      <td>0.000219</td>\n",
       "      <td>0.005970</td>\n",
       "    </tr>\n",
       "  </tbody>\n",
       "</table>\n",
       "</div>"
      ],
      "text/plain": [
       "      Node  Hub values  Authority values\n",
       "2133   300    0.000345          0.007415\n",
       "362    241    0.000295          0.006257\n",
       "2128   240    0.000219          0.005970"
      ]
     },
     "execution_count": 49,
     "metadata": {},
     "output_type": "execute_result"
    }
   ],
   "source": [
    "df_HITS3 = df_HITS3.sort_values(by=['Authority values'], ascending=False)\n",
    "df_HITS3.head(3)"
   ]
  },
  {
   "cell_type": "code",
   "execution_count": 50,
   "metadata": {},
   "outputs": [
    {
     "data": {
      "text/html": [
       "<div>\n",
       "<style>\n",
       "    .dataframe thead tr:only-child th {\n",
       "        text-align: right;\n",
       "    }\n",
       "\n",
       "    .dataframe thead th {\n",
       "        text-align: left;\n",
       "    }\n",
       "\n",
       "    .dataframe tbody tr th {\n",
       "        vertical-align: top;\n",
       "    }\n",
       "</style>\n",
       "<table border=\"1\" class=\"dataframe\">\n",
       "  <thead>\n",
       "    <tr style=\"text-align: right;\">\n",
       "      <th></th>\n",
       "      <th>Node</th>\n",
       "      <th>Hub values</th>\n",
       "      <th>Authority values</th>\n",
       "    </tr>\n",
       "  </thead>\n",
       "  <tbody>\n",
       "    <tr>\n",
       "      <th>1665</th>\n",
       "      <td>442</td>\n",
       "      <td>0.000340</td>\n",
       "      <td>0.005523</td>\n",
       "    </tr>\n",
       "    <tr>\n",
       "      <th>4081</th>\n",
       "      <td>2240</td>\n",
       "      <td>0.000337</td>\n",
       "      <td>0.005489</td>\n",
       "    </tr>\n",
       "    <tr>\n",
       "      <th>1667</th>\n",
       "      <td>300</td>\n",
       "      <td>0.000266</td>\n",
       "      <td>0.005441</td>\n",
       "    </tr>\n",
       "  </tbody>\n",
       "</table>\n",
       "</div>"
      ],
      "text/plain": [
       "      Node  Hub values  Authority values\n",
       "1665   442    0.000340          0.005523\n",
       "4081  2240    0.000337          0.005489\n",
       "1667   300    0.000266          0.005441"
      ]
     },
     "execution_count": 50,
     "metadata": {},
     "output_type": "execute_result"
    }
   ],
   "source": [
    "df_HITS4 = df_HITS4.sort_values(by=['Authority values'], ascending=False)\n",
    "df_HITS4.head(3)"
   ]
  },
  {
   "cell_type": "code",
   "execution_count": 51,
   "metadata": {},
   "outputs": [
    {
     "data": {
      "text/html": [
       "<div>\n",
       "<style>\n",
       "    .dataframe thead tr:only-child th {\n",
       "        text-align: right;\n",
       "    }\n",
       "\n",
       "    .dataframe thead th {\n",
       "        text-align: left;\n",
       "    }\n",
       "\n",
       "    .dataframe tbody tr th {\n",
       "        vertical-align: top;\n",
       "    }\n",
       "</style>\n",
       "<table border=\"1\" class=\"dataframe\">\n",
       "  <thead>\n",
       "    <tr style=\"text-align: right;\">\n",
       "      <th></th>\n",
       "      <th>Node</th>\n",
       "      <th>Hub values</th>\n",
       "      <th>Authority values</th>\n",
       "    </tr>\n",
       "  </thead>\n",
       "  <tbody>\n",
       "    <tr>\n",
       "      <th>4652</th>\n",
       "      <td>300</td>\n",
       "      <td>0.000013</td>\n",
       "      <td>0.004626</td>\n",
       "    </tr>\n",
       "    <tr>\n",
       "      <th>5694</th>\n",
       "      <td>442</td>\n",
       "      <td>0.000033</td>\n",
       "      <td>0.004518</td>\n",
       "    </tr>\n",
       "    <tr>\n",
       "      <th>4021</th>\n",
       "      <td>241</td>\n",
       "      <td>0.000017</td>\n",
       "      <td>0.004431</td>\n",
       "    </tr>\n",
       "  </tbody>\n",
       "</table>\n",
       "</div>"
      ],
      "text/plain": [
       "      Node  Hub values  Authority values\n",
       "4652   300    0.000013          0.004626\n",
       "5694   442    0.000033          0.004518\n",
       "4021   241    0.000017          0.004431"
      ]
     },
     "execution_count": 51,
     "metadata": {},
     "output_type": "execute_result"
    }
   ],
   "source": [
    "df_HITS5 = df_HITS5.sort_values(by=['Authority values'], ascending=False)\n",
    "df_HITS5.head(3)"
   ]
  },
  {
   "cell_type": "markdown",
   "metadata": {},
   "source": [
    "Again, we see that DataFrame 1 (2002 - 2004) has higher values than most other DataFrames. However, we can see that the authority values for DataFrame 2 (2004 - 2006) are much higher still. We would expect the hub- and authority-values to be more or less similar, because the hub-values are the sum of the connected authorities, and the authority-values are the sum of the connected hubs, the values are directly related. It's odd then, that for DataFrame 2 (2004 - 2006) the authority values are so much higher, while the hub-values were lower than the rest."
   ]
  },
  {
   "cell_type": "markdown",
   "metadata": {},
   "source": [
    "Let's create a scatter plot like we did in task 1, to see if we can learn why this happens."
   ]
  },
  {
   "cell_type": "code",
   "execution_count": 54,
   "metadata": {},
   "outputs": [
    {
     "data": {
      "image/png": "[encoded data removed]",
      "text/plain": [
       "<matplotlib.figure.Figure at 0x1f05b2f9cc0>"
      ]
     },
     "metadata": {},
     "output_type": "display_data"
    }
   ],
   "source": [
    "df_HITS1.plot(kind='scatter', x='Hub values', y='Authority values', s=20, title='2002 - 2004')\n",
    "plt.xlim(0, 0.002)\n",
    "plt.ylim(0, 0.02)\n",
    "plt.show()"
   ]
  },
  {
   "cell_type": "code",
   "execution_count": 57,
   "metadata": {},
   "outputs": [
    {
     "data": {
      "image/png": "[encoded data removed]",
      "text/plain": [
       "<matplotlib.figure.Figure at 0x1f113716710>"
      ]
     },
     "metadata": {},
     "output_type": "display_data"
    }
   ],
   "source": [
    "df_HITS2.plot(kind='scatter', x='Hub values', y='Authority values', s=20, title='2004 - 2006')\n",
    "plt.xlim(0, 0.00032)\n",
    "plt.ylim(0, 0.05)\n",
    "plt.show()"
   ]
  },
  {
   "cell_type": "code",
   "execution_count": 58,
   "metadata": {},
   "outputs": [
    {
     "data": {
      "image/png": "[encoded data removed]",
      "text/plain": [
       "<matplotlib.figure.Figure at 0x1f1203098d0>"
      ]
     },
     "metadata": {},
     "output_type": "display_data"
    }
   ],
   "source": [
    "df_HITS3.plot(kind='scatter', x='Hub values', y='Authority values', s=20, title='2006 - 2008')\n",
    "plt.xlim(0, 0.00041)\n",
    "plt.ylim(0, 0.0075)\n",
    "plt.show()"
   ]
  },
  {
   "cell_type": "code",
   "execution_count": 59,
   "metadata": {},
   "outputs": [
    {
     "data": {
      "image/png": "[encoded data removed]",
      "text/plain": [
       "<matplotlib.figure.Figure at 0x1f078d062b0>"
      ]
     },
     "metadata": {},
     "output_type": "display_data"
    }
   ],
   "source": [
    "df_HITS4.plot(kind='scatter', x='Hub values', y='Authority values', s=20, title='2008 - 2010')\n",
    "plt.xlim(0, 0.0007)\n",
    "plt.ylim(0, 0.006)\n",
    "plt.show()"
   ]
  },
  {
   "cell_type": "code",
   "execution_count": 60,
   "metadata": {},
   "outputs": [
    {
     "data": {
      "image/png": "[encoded data removed]",
      "text/plain": [
       "<matplotlib.figure.Figure at 0x1f12407e978>"
      ]
     },
     "metadata": {},
     "output_type": "display_data"
    }
   ],
   "source": [
    "df_HITS5.plot(kind='scatter', x='Hub values', y='Authority values', s=20, title='2010 - 2012')\n",
    "plt.xlim(0, 0.0011)\n",
    "plt.ylim(0, 0.005)\n",
    "plt.show()"
   ]
  },
  {
   "cell_type": "markdown",
   "metadata": {},
   "source": [
    "It is immediately obvious that there are very large differences between each of the plots. In plot #2 (2004 - 2006), which showed unexpectedly high authority values, we can see that the whole x-axis is filled with nodes that have no authority whatsoever, but that do have quite high hub-values. This explains why there are such high authority-values. Because there are so many hubs, if many of them link to a certain node, then obviously that node is going to have a very high authority.\n",
    "\n",
    "Plot #3 (2006 - 2008) is most similar to the plot that we saw in task 1, where we ran the HITS algorithm on the complete static graph containing all edges. This is easily explained by the fact that this time range contains more edges than all the other time ranges (2281227/4729035). Having most of the edges of the original graph, it makes sense that the plot for this time range is closest to the original plot.\n",
    "\n",
    "Plot #4 (2008 - 2010) and plot #5 (2010 - 2012) look very similar to each other. They look like the graph of an inverse power, with a few odd nodes scattered above said graph. They are mostly similar to the original plot, except that there appear to be far more strong authorities that aren't good hubs. The main observation that we had on the original plot was that there weren't any nodes that had a high authority without being decent hubs as well. For some reason, that appears to have changed in these last two time ranges. \n",
    "\n",
    "Plot #1 (2002 - 2004) is fairly boring, except for a couple of extreme outliers. This is probably caused by the fact that this time range has the least amount of edges (213645/4729035). A smaller sample size always means that there will be a higher chance for inconsistencies."
   ]
  }
 ],
 "metadata": {
  "kernelspec": {
   "display_name": "Python 3",
   "language": "python",
   "name": "python3"
  },
  "language_info": {
   "codemirror_mode": {
    "name": "ipython",
    "version": 3
   },
   "file_extension": ".py",
   "mimetype": "text/x-python",
   "name": "python",
   "nbconvert_exporter": "python",
   "pygments_lexer": "ipython3",
   "version": "3.6.3"
  }
 },
 "nbformat": 4,
 "nbformat_minor": 2
}
