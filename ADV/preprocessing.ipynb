{
 "cells": [
  {
   "cell_type": "markdown",
   "metadata": {},
   "source": [
    "### Evolving Network Analysis - January 2018\n",
    "#### <i>Abdel K. Bokharouss, Joris Rombouts, Bart van Helvert, Remco Surtel</i>"
   ]
  },
  {
   "cell_type": "code",
   "execution_count": 1,
   "metadata": {
    "collapsed": true
   },
   "outputs": [],
   "source": [
    "import pandas as pd\n",
    "import numpy as np"
   ]
  },
  {
   "cell_type": "code",
   "execution_count": 2,
   "metadata": {},
   "outputs": [
    {
     "data": {
      "text/plain": [
       "['1 6 1028243088 1120917090\\n',\n",
       " '1 8 1029885647 1136791625\\n',\n",
       " '1 9 1029885647 1136791625\\n',\n",
       " '1 3 1028243088 1143227562\\n',\n",
       " '1 3 1146727453 1148998304\\n',\n",
       " '1 5 1028243088 1184096745\\n',\n",
       " '1 2 1028243088 1184096745\\n',\n",
       " '1 3 1149598035 1184096745\\n',\n",
       " '1 4 1028243088 1184096745\\n',\n",
       " '1 7 1028243088 1184096745\\n']"
      ]
     },
     "execution_count": 2,
     "metadata": {},
     "output_type": "execute_result"
    }
   ],
   "source": [
    "with open(\"./data/tgraph_real_wikiedithyperlinks.txt\") as file:\n",
    "    peek = file.readlines()[:10]\n",
    "peek"
   ]
  },
  {
   "cell_type": "code",
   "execution_count": 3,
   "metadata": {
    "collapsed": true
   },
   "outputs": [],
   "source": [
    "temp_nw = pd.read_table(\"./data/tgraph_real_wikiedithyperlinks.txt\", header = None, sep = \" \",\n",
    "                       names = [\"src\", \"trg\", \"start\", \"end\"])"
   ]
  },
  {
   "cell_type": "code",
   "execution_count": 4,
   "metadata": {},
   "outputs": [
    {
     "data": {
      "text/html": [
       "<div>\n",
       "<style scoped>\n",
       "    .dataframe tbody tr th:only-of-type {\n",
       "        vertical-align: middle;\n",
       "    }\n",
       "\n",
       "    .dataframe tbody tr th {\n",
       "        vertical-align: top;\n",
       "    }\n",
       "\n",
       "    .dataframe thead th {\n",
       "        text-align: right;\n",
       "    }\n",
       "</style>\n",
       "<table border=\"1\" class=\"dataframe\">\n",
       "  <thead>\n",
       "    <tr style=\"text-align: right;\">\n",
       "      <th></th>\n",
       "      <th>src</th>\n",
       "      <th>trg</th>\n",
       "      <th>start</th>\n",
       "      <th>end</th>\n",
       "    </tr>\n",
       "  </thead>\n",
       "  <tbody>\n",
       "    <tr>\n",
       "      <th>0</th>\n",
       "      <td>1</td>\n",
       "      <td>6</td>\n",
       "      <td>1028243088</td>\n",
       "      <td>1120917090</td>\n",
       "    </tr>\n",
       "    <tr>\n",
       "      <th>1</th>\n",
       "      <td>1</td>\n",
       "      <td>8</td>\n",
       "      <td>1029885647</td>\n",
       "      <td>1136791625</td>\n",
       "    </tr>\n",
       "    <tr>\n",
       "      <th>2</th>\n",
       "      <td>1</td>\n",
       "      <td>9</td>\n",
       "      <td>1029885647</td>\n",
       "      <td>1136791625</td>\n",
       "    </tr>\n",
       "    <tr>\n",
       "      <th>3</th>\n",
       "      <td>1</td>\n",
       "      <td>3</td>\n",
       "      <td>1028243088</td>\n",
       "      <td>1143227562</td>\n",
       "    </tr>\n",
       "    <tr>\n",
       "      <th>4</th>\n",
       "      <td>1</td>\n",
       "      <td>3</td>\n",
       "      <td>1146727453</td>\n",
       "      <td>1148998304</td>\n",
       "    </tr>\n",
       "  </tbody>\n",
       "</table>\n",
       "</div>"
      ],
      "text/plain": [
       "   src  trg       start         end\n",
       "0    1    6  1028243088  1120917090\n",
       "1    1    8  1029885647  1136791625\n",
       "2    1    9  1029885647  1136791625\n",
       "3    1    3  1028243088  1143227562\n",
       "4    1    3  1146727453  1148998304"
      ]
     },
     "execution_count": 4,
     "metadata": {},
     "output_type": "execute_result"
    }
   ],
   "source": [
    "temp_nw.head()"
   ]
  },
  {
   "cell_type": "code",
   "execution_count": 5,
   "metadata": {
    "collapsed": true
   },
   "outputs": [],
   "source": [
    "temp_nw.start = pd.to_datetime(temp_nw['start'], origin = 'unix', unit='s') # seconds since epoch\n",
    "temp_nw.end = pd.to_datetime(temp_nw['end'], origin = 'unix', unit='s')"
   ]
  },
  {
   "cell_type": "code",
   "execution_count": 6,
   "metadata": {},
   "outputs": [
    {
     "data": {
      "text/html": [
       "<div>\n",
       "<style scoped>\n",
       "    .dataframe tbody tr th:only-of-type {\n",
       "        vertical-align: middle;\n",
       "    }\n",
       "\n",
       "    .dataframe tbody tr th {\n",
       "        vertical-align: top;\n",
       "    }\n",
       "\n",
       "    .dataframe thead th {\n",
       "        text-align: right;\n",
       "    }\n",
       "</style>\n",
       "<table border=\"1\" class=\"dataframe\">\n",
       "  <thead>\n",
       "    <tr style=\"text-align: right;\">\n",
       "      <th></th>\n",
       "      <th>src</th>\n",
       "      <th>trg</th>\n",
       "      <th>start</th>\n",
       "      <th>end</th>\n",
       "    </tr>\n",
       "  </thead>\n",
       "  <tbody>\n",
       "    <tr>\n",
       "      <th>4729030</th>\n",
       "      <td>245678</td>\n",
       "      <td>23803</td>\n",
       "      <td>2011-07-10 07:36:17</td>\n",
       "      <td>2011-07-10 07:41:29</td>\n",
       "    </tr>\n",
       "    <tr>\n",
       "      <th>4729031</th>\n",
       "      <td>290648</td>\n",
       "      <td>23754</td>\n",
       "      <td>2011-07-10 09:25:13</td>\n",
       "      <td>2011-07-10 09:40:49</td>\n",
       "    </tr>\n",
       "    <tr>\n",
       "      <th>4729032</th>\n",
       "      <td>290648</td>\n",
       "      <td>23761</td>\n",
       "      <td>2011-07-10 09:25:13</td>\n",
       "      <td>2011-07-10 09:51:38</td>\n",
       "    </tr>\n",
       "    <tr>\n",
       "      <th>4729033</th>\n",
       "      <td>377674</td>\n",
       "      <td>76736</td>\n",
       "      <td>2011-07-10 10:02:26</td>\n",
       "      <td>2011-07-10 10:24:06</td>\n",
       "    </tr>\n",
       "    <tr>\n",
       "      <th>4729034</th>\n",
       "      <td>377674</td>\n",
       "      <td>44641</td>\n",
       "      <td>2011-07-10 10:02:26</td>\n",
       "      <td>2011-07-10 10:24:06</td>\n",
       "    </tr>\n",
       "  </tbody>\n",
       "</table>\n",
       "</div>"
      ],
      "text/plain": [
       "            src    trg               start                 end\n",
       "4729030  245678  23803 2011-07-10 07:36:17 2011-07-10 07:41:29\n",
       "4729031  290648  23754 2011-07-10 09:25:13 2011-07-10 09:40:49\n",
       "4729032  290648  23761 2011-07-10 09:25:13 2011-07-10 09:51:38\n",
       "4729033  377674  76736 2011-07-10 10:02:26 2011-07-10 10:24:06\n",
       "4729034  377674  44641 2011-07-10 10:02:26 2011-07-10 10:24:06"
      ]
     },
     "execution_count": 6,
     "metadata": {},
     "output_type": "execute_result"
    }
   ],
   "source": [
    "temp_nw.tail()"
   ]
  },
  {
   "cell_type": "code",
   "execution_count": 7,
   "metadata": {
    "collapsed": true
   },
   "outputs": [],
   "source": [
    "temp_nw.to_csv('./data/tgraph_real_wikiedithyperlinks.csv', index = False) # for usage in other notebooks and scripts"
   ]
  },
  {
   "cell_type": "code",
   "execution_count": null,
   "metadata": {},
   "outputs": [],
   "source": [
    "# df = pd.read_csv('./data/tgraph_real_wikiedithyperlinks.csv')"
   ]
  },
  {
   "cell_type": "code",
   "execution_count": 8,
   "metadata": {
    "collapsed": true
   },
   "outputs": [],
   "source": [
    "# np.savetxt(r'./data/tgraph_real_wikiedithyperlinks_NoTime.txt', temp_nw[['src', 'trg']].values, fmt='%d')"
   ]
  }
 ],
 "metadata": {
  "kernelspec": {
   "display_name": "Python 3",
   "language": "python",
   "name": "python3"
  },
  "language_info": {
   "codemirror_mode": {
    "name": "ipython",
    "version": 3
   },
   "file_extension": ".py",
   "mimetype": "text/x-python",
   "name": "python",
   "nbconvert_exporter": "python",
   "pygments_lexer": "ipython3",
   "version": "3.6.3"
  }
 },
 "nbformat": 4,
 "nbformat_minor": 2
}
