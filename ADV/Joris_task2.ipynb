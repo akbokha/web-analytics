{
 "cells": [
  {
   "cell_type": "markdown",
   "metadata": {},
   "source": [
    "### Task 2 - Temporal Network Analysis - January 2018\n",
    "#### <i>Abdel K. Bokharouss, Joris Rombouts, Bart van Helvert, Remco Surtel</i>"
   ]
  },
  {
   "cell_type": "markdown",
   "metadata": {},
   "source": [
    "### <font color = \"green\">imports and preparation</font>"
   ]
  },
  {
   "cell_type": "code",
   "execution_count": 1,
   "metadata": {
    "collapsed": true
   },
   "outputs": [],
   "source": [
    "import pandas as pd\n",
    "import numpy as np\n",
    "import networkx as nx\n",
    "import datetime\n",
    "import tkinter\n",
    "import matplotlib.pyplot as plt\n",
    "import seaborn as sns\n",
    "sns.set(color_codes=True)"
   ]
  },
  {
   "cell_type": "code",
   "execution_count": 2,
   "metadata": {
    "collapsed": true
   },
   "outputs": [],
   "source": [
    "temp_nw = pd.read_table(\"./data/tgraph_real_wikiedithyperlinks.txt\", header = None, sep = \" \",\n",
    "                       names = [\"src\", \"trg\", \"start\", \"end\"])"
   ]
  },
  {
   "cell_type": "code",
   "execution_count": 3,
   "metadata": {},
   "outputs": [
    {
     "data": {
      "text/html": [
       "<div>\n",
       "<style>\n",
       "    .dataframe thead tr:only-child th {\n",
       "        text-align: right;\n",
       "    }\n",
       "\n",
       "    .dataframe thead th {\n",
       "        text-align: left;\n",
       "    }\n",
       "\n",
       "    .dataframe tbody tr th {\n",
       "        vertical-align: top;\n",
       "    }\n",
       "</style>\n",
       "<table border=\"1\" class=\"dataframe\">\n",
       "  <thead>\n",
       "    <tr style=\"text-align: right;\">\n",
       "      <th></th>\n",
       "      <th>src</th>\n",
       "      <th>trg</th>\n",
       "      <th>start</th>\n",
       "      <th>end</th>\n",
       "    </tr>\n",
       "  </thead>\n",
       "  <tbody>\n",
       "    <tr>\n",
       "      <th>0</th>\n",
       "      <td>1</td>\n",
       "      <td>6</td>\n",
       "      <td>1028243088</td>\n",
       "      <td>1120917090</td>\n",
       "    </tr>\n",
       "    <tr>\n",
       "      <th>1</th>\n",
       "      <td>1</td>\n",
       "      <td>8</td>\n",
       "      <td>1029885647</td>\n",
       "      <td>1136791625</td>\n",
       "    </tr>\n",
       "    <tr>\n",
       "      <th>2</th>\n",
       "      <td>1</td>\n",
       "      <td>9</td>\n",
       "      <td>1029885647</td>\n",
       "      <td>1136791625</td>\n",
       "    </tr>\n",
       "    <tr>\n",
       "      <th>3</th>\n",
       "      <td>1</td>\n",
       "      <td>3</td>\n",
       "      <td>1028243088</td>\n",
       "      <td>1143227562</td>\n",
       "    </tr>\n",
       "    <tr>\n",
       "      <th>4</th>\n",
       "      <td>1</td>\n",
       "      <td>3</td>\n",
       "      <td>1146727453</td>\n",
       "      <td>1148998304</td>\n",
       "    </tr>\n",
       "  </tbody>\n",
       "</table>\n",
       "</div>"
      ],
      "text/plain": [
       "   src  trg       start         end\n",
       "0    1    6  1028243088  1120917090\n",
       "1    1    8  1029885647  1136791625\n",
       "2    1    9  1029885647  1136791625\n",
       "3    1    3  1028243088  1143227562\n",
       "4    1    3  1146727453  1148998304"
      ]
     },
     "execution_count": 3,
     "metadata": {},
     "output_type": "execute_result"
    }
   ],
   "source": [
    "temp_nw.head()"
   ]
  },
  {
   "cell_type": "code",
   "execution_count": 4,
   "metadata": {
    "collapsed": true
   },
   "outputs": [],
   "source": [
    "temp_nw['start'] = pd.to_datetime(temp_nw['start'], unit = 's') #convert Unix timestamps to date time, utc = 0\n",
    "temp_nw['end'] = pd.to_datetime(temp_nw['end'], unit = 's')"
   ]
  },
  {
   "cell_type": "code",
   "execution_count": 5,
   "metadata": {},
   "outputs": [
    {
     "name": "stdout",
     "output_type": "stream",
     "text": [
      "2002-08-02 01:04:48\n"
     ]
    }
   ],
   "source": [
    "#test function for unix time stamps to datetime\n",
    "print(\n",
    "    datetime.datetime.fromtimestamp(\n",
    "        int(\"1028243088\")\n",
    "    ).strftime('%Y-%m-%d %H:%M:%S')\n",
    ")"
   ]
  },
  {
   "cell_type": "code",
   "execution_count": 6,
   "metadata": {
    "scrolled": true
   },
   "outputs": [
    {
     "data": {
      "text/html": [
       "<div>\n",
       "<style>\n",
       "    .dataframe thead tr:only-child th {\n",
       "        text-align: right;\n",
       "    }\n",
       "\n",
       "    .dataframe thead th {\n",
       "        text-align: left;\n",
       "    }\n",
       "\n",
       "    .dataframe tbody tr th {\n",
       "        vertical-align: top;\n",
       "    }\n",
       "</style>\n",
       "<table border=\"1\" class=\"dataframe\">\n",
       "  <thead>\n",
       "    <tr style=\"text-align: right;\">\n",
       "      <th></th>\n",
       "      <th>src</th>\n",
       "      <th>trg</th>\n",
       "      <th>start</th>\n",
       "      <th>end</th>\n",
       "    </tr>\n",
       "  </thead>\n",
       "  <tbody>\n",
       "    <tr>\n",
       "      <th>0</th>\n",
       "      <td>1</td>\n",
       "      <td>6</td>\n",
       "      <td>2002-08-01 23:04:48</td>\n",
       "      <td>2005-07-09 13:51:30</td>\n",
       "    </tr>\n",
       "    <tr>\n",
       "      <th>1</th>\n",
       "      <td>1</td>\n",
       "      <td>8</td>\n",
       "      <td>2002-08-20 23:20:47</td>\n",
       "      <td>2006-01-09 07:27:05</td>\n",
       "    </tr>\n",
       "    <tr>\n",
       "      <th>2</th>\n",
       "      <td>1</td>\n",
       "      <td>9</td>\n",
       "      <td>2002-08-20 23:20:47</td>\n",
       "      <td>2006-01-09 07:27:05</td>\n",
       "    </tr>\n",
       "    <tr>\n",
       "      <th>3</th>\n",
       "      <td>1</td>\n",
       "      <td>3</td>\n",
       "      <td>2002-08-01 23:04:48</td>\n",
       "      <td>2006-03-24 19:12:42</td>\n",
       "    </tr>\n",
       "    <tr>\n",
       "      <th>4</th>\n",
       "      <td>1</td>\n",
       "      <td>3</td>\n",
       "      <td>2006-05-04 07:24:13</td>\n",
       "      <td>2006-05-30 14:11:44</td>\n",
       "    </tr>\n",
       "    <tr>\n",
       "      <th>5</th>\n",
       "      <td>1</td>\n",
       "      <td>5</td>\n",
       "      <td>2002-08-01 23:04:48</td>\n",
       "      <td>2007-07-10 19:45:45</td>\n",
       "    </tr>\n",
       "    <tr>\n",
       "      <th>6</th>\n",
       "      <td>1</td>\n",
       "      <td>2</td>\n",
       "      <td>2002-08-01 23:04:48</td>\n",
       "      <td>2007-07-10 19:45:45</td>\n",
       "    </tr>\n",
       "    <tr>\n",
       "      <th>7</th>\n",
       "      <td>1</td>\n",
       "      <td>3</td>\n",
       "      <td>2006-06-06 12:47:15</td>\n",
       "      <td>2007-07-10 19:45:45</td>\n",
       "    </tr>\n",
       "    <tr>\n",
       "      <th>8</th>\n",
       "      <td>1</td>\n",
       "      <td>4</td>\n",
       "      <td>2002-08-01 23:04:48</td>\n",
       "      <td>2007-07-10 19:45:45</td>\n",
       "    </tr>\n",
       "    <tr>\n",
       "      <th>9</th>\n",
       "      <td>1</td>\n",
       "      <td>7</td>\n",
       "      <td>2002-08-01 23:04:48</td>\n",
       "      <td>2007-07-10 19:45:45</td>\n",
       "    </tr>\n",
       "  </tbody>\n",
       "</table>\n",
       "</div>"
      ],
      "text/plain": [
       "   src  trg               start                 end\n",
       "0    1    6 2002-08-01 23:04:48 2005-07-09 13:51:30\n",
       "1    1    8 2002-08-20 23:20:47 2006-01-09 07:27:05\n",
       "2    1    9 2002-08-20 23:20:47 2006-01-09 07:27:05\n",
       "3    1    3 2002-08-01 23:04:48 2006-03-24 19:12:42\n",
       "4    1    3 2006-05-04 07:24:13 2006-05-30 14:11:44\n",
       "5    1    5 2002-08-01 23:04:48 2007-07-10 19:45:45\n",
       "6    1    2 2002-08-01 23:04:48 2007-07-10 19:45:45\n",
       "7    1    3 2006-06-06 12:47:15 2007-07-10 19:45:45\n",
       "8    1    4 2002-08-01 23:04:48 2007-07-10 19:45:45\n",
       "9    1    7 2002-08-01 23:04:48 2007-07-10 19:45:45"
      ]
     },
     "execution_count": 6,
     "metadata": {},
     "output_type": "execute_result"
    }
   ],
   "source": [
    "temp_nw.head(10)"
   ]
  },
  {
   "cell_type": "code",
   "execution_count": 7,
   "metadata": {},
   "outputs": [
    {
     "data": {
      "text/plain": [
       "(4729035, 4)"
      ]
     },
     "execution_count": 7,
     "metadata": {},
     "output_type": "execute_result"
    }
   ],
   "source": [
    "temp_nw.shape"
   ]
  },
  {
   "cell_type": "code",
   "execution_count": 8,
   "metadata": {
    "collapsed": true
   },
   "outputs": [],
   "source": [
    "fh = open(\"data/tgraph_real_wikiedithyperlinks.txt\", 'rb')\n",
    "G_temp = nx.read_edgelist(fh,create_using=nx.DiGraph(), data=(('start',int), ('end', int)))\n",
    "fh.close()"
   ]
  },
  {
   "cell_type": "code",
   "execution_count": 9,
   "metadata": {
    "collapsed": true
   },
   "outputs": [],
   "source": [
    "#nx.write_edgelist(G_temp, \"G_temp.edgelist\")"
   ]
  },
  {
   "cell_type": "markdown",
   "metadata": {},
   "source": [
    "### Temporal Network Analysis\n",
    "For the second task, the time information of each edge is taken into consideration. The most used temporal network analysis method is snapshot-based analysis. For each measure we need to find time-scales that gives us interesting result. It is important that the time intervals are consisently chosen during the same measure, but the time intervals can be different for each measure. This is because patterns in temporal networks can occur at different time scales. \n",
    "First, we explore the temporal networks, by plotting a few histograms. The first histogram gives us a insight how many links are added in each year."
   ]
  },
  {
   "cell_type": "code",
   "execution_count": 10,
   "metadata": {},
   "outputs": [
    {
     "data": {
      "image/png": "[encoded data removed]",
      "text/plain": [
       "<matplotlib.figure.Figure at 0x28f25efceb8>"
      ]
     },
     "metadata": {},
     "output_type": "display_data"
    }
   ],
   "source": [
    "#plot that shows how many links are added in each year\n",
    "temp_nw['src'].groupby(temp_nw[\"start\"].dt.year).count().plot(kind=\"bar\", legend=True, color = 'green')\n",
    "plt.show()"
   ]
  },
  {
   "cell_type": "markdown",
   "metadata": {},
   "source": [
    "The histogram looks like a bell curve. This means that most of the links are added in the years 2005-2008. Let's look if the removal of the links also have a bell shaped curve. "
   ]
  },
  {
   "cell_type": "code",
   "execution_count": 11,
   "metadata": {},
   "outputs": [
    {
     "data": {
      "image/png": "[encoded data removed]",
      "text/plain": [
       "<matplotlib.figure.Figure at 0x28f26163e48>"
      ]
     },
     "metadata": {},
     "output_type": "display_data"
    }
   ],
   "source": [
    "#plot that shows how many links are removed in each year\n",
    "temp_nw['src'].groupby(temp_nw[\"end\"].dt.year).count().plot(kind=\"bar\", legend=True, color='red')\n",
    "plt.show()"
   ]
  },
  {
   "cell_type": "markdown",
   "metadata": {},
   "source": [
    "The histogram doesn't look like a bell curve. We actually see that the years 2006-2010 are the years in which most of the edges are removed. If we combine this with the information found above, we can conclude that the years 2006-2008 where the years in which the most links are added ánd removed from the wiki page. One can also be interested in the time duration of each link, i.e. how many years a link stays in the graph until it is removed. "
   ]
  },
  {
   "cell_type": "code",
   "execution_count": 12,
   "metadata": {},
   "outputs": [
    {
     "data": {
      "image/png": "[encoded data removed]",
      "text/plain": [
       "<matplotlib.figure.Figure at 0x28f2617e080>"
      ]
     },
     "metadata": {},
     "output_type": "display_data"
    }
   ],
   "source": [
    "#plot which shows how many years each link remains in the graph bevore it is removed.\n",
    "temp_nw['src'].groupby((temp_nw['end'].dt.year - temp_nw['start'].dt.year)).count().plot(kind=\"bar\", legend=True, color='midnightblue')\n",
    "plt.show()"
   ]
  },
  {
   "cell_type": "markdown",
   "metadata": {},
   "source": [
    "From the histogram above we can see that a lot of links have a very short time duration in the graph. Most of the links are added and removed from the wiki page within a year. Furthermore we see that the other links doesn't stay long either in the graph. We can say that most of the links remain zero to two years in the network."
   ]
  },
  {
   "cell_type": "markdown",
   "metadata": {},
   "source": [
    "### Cluster Coefficient: Temporal Network\n",
    "As we have seen in the static network analysis, cluster coefficient is very strong related to the largest connected component and the average degree of the neighbor nodes (which is treated in the Assortativity analysis). Measuring the cluster coefficient in a temporal network, where each edge has a start and end time, can give very interesting results. The goal of this measure in temporal network analysis is that we try to find time scales where the clustering coefficient of the graph (i.e. the average of the cluster coefficients of all the nodes) is very low or high. We can relate this cluster coefficient to for example how many nodes or edges there currently are on that particular timestamp, or what the degree distribution is of each node. The most difficult part is to choose propiate time intervals. Thanks to the explorative analysis above, the histogram give us some insight in what time intervals could be interesting to choose. Note that once one time interval is chosen, we will consistently use this \"length\" during the analysis of the measure. The histograms above only information about the addition and removal of links in the network. However, we saw from the static analysis that the (average) clustering coefficient depends on the average neighbor degree. Larger the neighbor degree is in the network, the larger the clustering coefficient. This is because the numerator of the fraction in the clustering coefficient formula basicly is the average neighbor degree of the node we want to calculate the clustering coefficient of. Also the average degree of all the nodes in the network are interesting to know how they change over time. We will plot these two statistics of the network in the next cells. "
   ]
  },
  {
   "cell_type": "code",
   "execution_count": 107,
   "metadata": {},
   "outputs": [],
   "source": [
    "def total_average__neighbor_deg_per_year(df_temporal, t_1_year, t_2_year):\n",
    "    t_1 = datetime.datetime(t_1_year, 1, 1, 0, 0, 0)\n",
    "    t_2 = datetime.datetime(t_2_year, 1, 1, 0, 0, 0)\n",
    " \n",
    "    df_year = df_temporal.loc[((df_temporal['start'] >= t_1) & (df_temporal['start'] < t_2)) | ((df_temporal['end'] >= t_1) & (df_temporal['end'] < t_2))]\n",
    "    G_year = nx.from_pandas_dataframe(df_year, 'src', 'trg', edge_attr=None, create_using=nx.DiGraph())\n",
    "    average_deg = nx.average_neighbor_degree(G_year, source='out', target='in')\n",
    "    average_deg_graph = sum(average_deg.values()) / len(average_deg)\n",
    "    time_interval = str(t_1_year)+\"-\"+str(t_2_year)\n",
    "\n",
    "    return average_deg_graph"
   ]
  },
  {
   "cell_type": "code",
   "execution_count": 125,
   "metadata": {},
   "outputs": [],
   "source": [
    "avg_neighbor_deg = { 'avg deg': [total_average__neighbor_deg_per_year(temp_nw, i, i+2) for i in range(2000,2010)], 'time_interval' : [str(i)+\"-\"+str(i+2) for i in range(2000,2010)]}\n",
    "df_avg_neighbor_deg = pd.DataFrame(data=avg_neighbor_deg)"
   ]
  },
  {
   "cell_type": "code",
   "execution_count": 126,
   "metadata": {},
   "outputs": [
    {
     "data": {
      "text/html": [
       "<div>\n",
       "<style>\n",
       "    .dataframe thead tr:only-child th {\n",
       "        text-align: right;\n",
       "    }\n",
       "\n",
       "    .dataframe thead th {\n",
       "        text-align: left;\n",
       "    }\n",
       "\n",
       "    .dataframe tbody tr th {\n",
       "        vertical-align: top;\n",
       "    }\n",
       "</style>\n",
       "<table border=\"1\" class=\"dataframe\">\n",
       "  <thead>\n",
       "    <tr style=\"text-align: right;\">\n",
       "      <th></th>\n",
       "      <th>avg deg</th>\n",
       "      <th>time_interval</th>\n",
       "    </tr>\n",
       "  </thead>\n",
       "  <tbody>\n",
       "    <tr>\n",
       "      <th>0</th>\n",
       "      <td>0.083679</td>\n",
       "      <td>2000-2002</td>\n",
       "    </tr>\n",
       "    <tr>\n",
       "      <th>1</th>\n",
       "      <td>23.958361</td>\n",
       "      <td>2001-2003</td>\n",
       "    </tr>\n",
       "    <tr>\n",
       "      <th>2</th>\n",
       "      <td>24.166988</td>\n",
       "      <td>2002-2004</td>\n",
       "    </tr>\n",
       "    <tr>\n",
       "      <th>3</th>\n",
       "      <td>52.377140</td>\n",
       "      <td>2003-2005</td>\n",
       "    </tr>\n",
       "    <tr>\n",
       "      <th>4</th>\n",
       "      <td>205.129739</td>\n",
       "      <td>2004-2006</td>\n",
       "    </tr>\n",
       "    <tr>\n",
       "      <th>5</th>\n",
       "      <td>331.917967</td>\n",
       "      <td>2005-2007</td>\n",
       "    </tr>\n",
       "    <tr>\n",
       "      <th>6</th>\n",
       "      <td>316.005943</td>\n",
       "      <td>2006-2008</td>\n",
       "    </tr>\n",
       "    <tr>\n",
       "      <th>7</th>\n",
       "      <td>178.432683</td>\n",
       "      <td>2007-2009</td>\n",
       "    </tr>\n",
       "    <tr>\n",
       "      <th>8</th>\n",
       "      <td>207.987382</td>\n",
       "      <td>2008-2010</td>\n",
       "    </tr>\n",
       "    <tr>\n",
       "      <th>9</th>\n",
       "      <td>196.971888</td>\n",
       "      <td>2009-2011</td>\n",
       "    </tr>\n",
       "  </tbody>\n",
       "</table>\n",
       "</div>"
      ],
      "text/plain": [
       "      avg deg time_interval\n",
       "0    0.083679     2000-2002\n",
       "1   23.958361     2001-2003\n",
       "2   24.166988     2002-2004\n",
       "3   52.377140     2003-2005\n",
       "4  205.129739     2004-2006\n",
       "5  331.917967     2005-2007\n",
       "6  316.005943     2006-2008\n",
       "7  178.432683     2007-2009\n",
       "8  207.987382     2008-2010\n",
       "9  196.971888     2009-2011"
      ]
     },
     "execution_count": 126,
     "metadata": {},
     "output_type": "execute_result"
    }
   ],
   "source": [
    "df_avg_neighbor_deg.head(10)"
   ]
  },
  {
   "cell_type": "code",
   "execution_count": 127,
   "metadata": {},
   "outputs": [
    {
     "data": {
      "image/png": "[encoded data removed]",
      "text/plain": [
       "<matplotlib.figure.Figure at 0x28f3d808f98>"
      ]
     },
     "metadata": {},
     "output_type": "display_data"
    }
   ],
   "source": [
    "df_avg_deg.plot.bar(x = 'time_interval', color='midnightblue');\n",
    "plt.show()"
   ]
  },
  {
   "cell_type": "markdown",
   "metadata": {},
   "source": [
    "The histogram shows us that the average neighbor degree in the temporal network is very high in the period 2005-2007 and 2006-2008. These are also the two periods where the network contains the most edges, therefore the average degree of each node increases. What is interesting, is that the degree in last two years are also quite high. This is interesting, because from the histograms above we say that these periods (2008-2010 and 2009-2011) are the periods where there are more links removed from the network then links that are added to the network. Therefore we would expect that the average degree of the neighbors would decrease, but the bar plot shows something differently."
   ]
  },
  {
   "cell_type": "code",
   "execution_count": 139,
   "metadata": {},
   "outputs": [],
   "source": [
    "'''\n",
    "def total_average_deg_per_year(df_temporal, t_1_year, t_2_year):\n",
    "    t_1 = datetime.datetime(t_1_year, 1, 1, 0, 0, 0)\n",
    "    t_2 = datetime.datetime(t_2_year, 1, 1, 0, 0, 0)\n",
    " \n",
    "    df_year = df_temporal.loc[((df_temporal['start'] >= t_1) & (df_temporal['start'] < t_2)) | ((df_temporal['end'] >= t_1) & (df_temporal['end'] < t_2))]\n",
    "    G_year = nx.from_pandas_dataframe(df_year, 'src', 'trg', edge_attr=None, create_using=nx.DiGraph())\n",
    "    deg = { 'avg deg': [G_year.degree(node) for node in list(G_year.nodes())], 'node' : [node for node in list(G_year.nodes())]}\n",
    "    print(len(deg.values()))\n",
    "    average_deg_graph = sum(deg.values()) / len(deg)\n",
    "    time_interval = str(t_1_year)+\"-\"+str(t_2_year)\n",
    "\n",
    "    return average_deg_graph\n",
    "'''\n"
   ]
  },
  {
   "cell_type": "code",
   "execution_count": 141,
   "metadata": {},
   "outputs": [],
   "source": [
    "#avg_deg = { 'avg deg': [total_average_deg_per_year(temp_nw, i, i+2) for i in range(2000,2010)], 'time_interval' : [str(i)+\"-\"+str(i+2) for i in range(2000,2010)]}\n",
    "#df_deg = pd.DataFrame(data=avg_deg)"
   ]
  },
  {
   "cell_type": "code",
   "execution_count": 13,
   "metadata": {
    "collapsed": true
   },
   "outputs": [],
   "source": [
    "def clustering_directed(G):\n",
    "    td_iter = nx.cluster._triangles_and_degree_iter(G)\n",
    "    clusterc = {v: 0 if t == 0 else (t) / (d * (d - 1)) for\n",
    "                        v, d, t, _ in td_iter}\n",
    "    return clusterc"
   ]
  },
  {
   "cell_type": "code",
   "execution_count": 14,
   "metadata": {
    "collapsed": true
   },
   "outputs": [],
   "source": [
    "def average_clustering_directed(G):\n",
    "    c = clustering_directed(G).values()\n",
    "    return sum(c) / len(c)"
   ]
  },
  {
   "cell_type": "code",
   "execution_count": 87,
   "metadata": {},
   "outputs": [
    {
     "data": {
      "text/html": [
       "<div>\n",
       "<style>\n",
       "    .dataframe thead tr:only-child th {\n",
       "        text-align: right;\n",
       "    }\n",
       "\n",
       "    .dataframe thead th {\n",
       "        text-align: left;\n",
       "    }\n",
       "\n",
       "    .dataframe tbody tr th {\n",
       "        vertical-align: top;\n",
       "    }\n",
       "</style>\n",
       "<table border=\"1\" class=\"dataframe\">\n",
       "  <thead>\n",
       "    <tr style=\"text-align: right;\">\n",
       "      <th></th>\n",
       "      <th>src</th>\n",
       "      <th>trg</th>\n",
       "      <th>start</th>\n",
       "      <th>end</th>\n",
       "    </tr>\n",
       "  </thead>\n",
       "  <tbody>\n",
       "    <tr>\n",
       "      <th>26</th>\n",
       "      <td>1</td>\n",
       "      <td>3</td>\n",
       "      <td>2011-05-10 14:43:59</td>\n",
       "      <td>2011-05-10 18:04:31</td>\n",
       "    </tr>\n",
       "    <tr>\n",
       "      <th>1626</th>\n",
       "      <td>1097</td>\n",
       "      <td>10659</td>\n",
       "      <td>2011-04-08 08:03:52</td>\n",
       "      <td>2011-04-08 08:27:01</td>\n",
       "    </tr>\n",
       "    <tr>\n",
       "      <th>1750</th>\n",
       "      <td>10922</td>\n",
       "      <td>2990</td>\n",
       "      <td>2011-05-14 06:06:34</td>\n",
       "      <td>2011-06-21 07:31:09</td>\n",
       "    </tr>\n",
       "    <tr>\n",
       "      <th>2384</th>\n",
       "      <td>230</td>\n",
       "      <td>9</td>\n",
       "      <td>2011-04-11 10:02:52</td>\n",
       "      <td>2011-05-02 11:05:56</td>\n",
       "    </tr>\n",
       "    <tr>\n",
       "      <th>2404</th>\n",
       "      <td>684</td>\n",
       "      <td>5</td>\n",
       "      <td>2011-02-01 09:36:33</td>\n",
       "      <td>2011-02-01 09:37:57</td>\n",
       "    </tr>\n",
       "  </tbody>\n",
       "</table>\n",
       "</div>"
      ],
      "text/plain": [
       "        src    trg               start                 end\n",
       "26        1      3 2011-05-10 14:43:59 2011-05-10 18:04:31\n",
       "1626   1097  10659 2011-04-08 08:03:52 2011-04-08 08:27:01\n",
       "1750  10922   2990 2011-05-14 06:06:34 2011-06-21 07:31:09\n",
       "2384    230      9 2011-04-11 10:02:52 2011-05-02 11:05:56\n",
       "2404    684      5 2011-02-01 09:36:33 2011-02-01 09:37:57"
      ]
     },
     "execution_count": 87,
     "metadata": {},
     "output_type": "execute_result"
    }
   ],
   "source": [
    "temp_nw_2011 = temp_nw.loc[(temp_nw['start'].dt.year == 2011) | (temp_nw['end'].dt.year == 2013)]\n",
    "temp_nw_2011.head()"
   ]
  },
  {
   "cell_type": "code",
   "execution_count": 16,
   "metadata": {},
   "outputs": [
    {
     "data": {
      "text/plain": [
       "\"\\nimport time\\nimport datetime\\ntemp_nw_2011['start'] = (temp_nw_2011['start'] - np.datetime64('1970-01-01T00:00:00Z')) / np.timedelta64(1, 's')\\ntemp_nw_2011['end'] = (temp_nw_2011['end'] - np.datetime64('1970-01-01T00:00:00Z')) / np.timedelta64(1, 's')\\n#temp_nw['end'] = pd.to_datetime(temp_nw['end']).astype(int)\\n\""
      ]
     },
     "execution_count": 16,
     "metadata": {},
     "output_type": "execute_result"
    }
   ],
   "source": [
    "'''\n",
    "import time\n",
    "import datetime\n",
    "temp_nw_2011['start'] = (temp_nw_2011['start'] - np.datetime64('1970-01-01T00:00:00Z')) / np.timedelta64(1, 's')\n",
    "temp_nw_2011['end'] = (temp_nw_2011['end'] - np.datetime64('1970-01-01T00:00:00Z')) / np.timedelta64(1, 's')\n",
    "#temp_nw['end'] = pd.to_datetime(temp_nw['end']).astype(int)\n",
    "'''"
   ]
  },
  {
   "cell_type": "code",
   "execution_count": 17,
   "metadata": {},
   "outputs": [
    {
     "data": {
      "text/plain": [
       "(146479, 4)"
      ]
     },
     "execution_count": 17,
     "metadata": {},
     "output_type": "execute_result"
    }
   ],
   "source": [
    "temp_nw_2011.shape"
   ]
  },
  {
   "cell_type": "code",
   "execution_count": 41,
   "metadata": {
    "collapsed": true,
    "scrolled": true
   },
   "outputs": [],
   "source": [
    "G_temp_2011 = nx.from_pandas_dataframe(temp_nw_2011, 'src', 'trg', edge_attr=None, create_using=nx.DiGraph())"
   ]
  },
  {
   "cell_type": "code",
   "execution_count": 19,
   "metadata": {
    "collapsed": true
   },
   "outputs": [],
   "source": [
    "#nx.write_edgelist(G_temp_2011, \"G_temp_2011.edgelist\")"
   ]
  }
 ],
 "metadata": {
  "kernelspec": {
   "display_name": "Python 3",
   "language": "python",
   "name": "python3"
  },
  "language_info": {
   "codemirror_mode": {
    "name": "ipython",
    "version": 3
   },
   "file_extension": ".py",
   "mimetype": "text/x-python",
   "name": "python",
   "nbconvert_exporter": "python",
   "pygments_lexer": "ipython3",
   "version": "3.6.3"
  }
 },
 "nbformat": 4,
 "nbformat_minor": 2
}
