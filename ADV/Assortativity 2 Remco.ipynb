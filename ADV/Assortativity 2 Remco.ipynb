{
 "cells": [
  {
   "cell_type": "markdown",
   "metadata": {},
   "source": [
    "### Evolving Network Analysis - January 2018\n",
    "#### <i>Abdel K. Bokharouss, Joris Rombouts, Bart van Helvert, Remco Surtel</i>"
   ]
  },
  {
   "cell_type": "markdown",
   "metadata": {},
   "source": [
    "#### Imports, preparation, and creating the graphs"
   ]
  },
  {
   "cell_type": "code",
   "execution_count": 1,
   "metadata": {
    "collapsed": true
   },
   "outputs": [],
   "source": [
    "import pandas as pd\n",
    "import numpy as np\n",
    "import networkx as nx\n",
    "import datetime\n",
    "import tkinter\n",
    "import matplotlib.pyplot as plt\n",
    "import seaborn as sns\n",
    "sns.set(color_codes=True)"
   ]
  },
  {
   "cell_type": "code",
   "execution_count": 2,
   "metadata": {
    "collapsed": true
   },
   "outputs": [],
   "source": [
    "temp_nw = pd.read_table(\"./data/tgraph_real_wikiedithyperlinks.txt\", header = None, sep = \" \",\n",
    "                       names = [\"src\", \"trg\", \"start\", \"end\"])"
   ]
  },
  {
   "cell_type": "code",
   "execution_count": 3,
   "metadata": {},
   "outputs": [
    {
     "data": {
      "text/html": [
       "<div>\n",
       "<style>\n",
       "    .dataframe thead tr:only-child th {\n",
       "        text-align: right;\n",
       "    }\n",
       "\n",
       "    .dataframe thead th {\n",
       "        text-align: left;\n",
       "    }\n",
       "\n",
       "    .dataframe tbody tr th {\n",
       "        vertical-align: top;\n",
       "    }\n",
       "</style>\n",
       "<table border=\"1\" class=\"dataframe\">\n",
       "  <thead>\n",
       "    <tr style=\"text-align: right;\">\n",
       "      <th></th>\n",
       "      <th>src</th>\n",
       "      <th>trg</th>\n",
       "      <th>start</th>\n",
       "      <th>end</th>\n",
       "    </tr>\n",
       "  </thead>\n",
       "  <tbody>\n",
       "    <tr>\n",
       "      <th>0</th>\n",
       "      <td>1</td>\n",
       "      <td>6</td>\n",
       "      <td>1028243088</td>\n",
       "      <td>1120917090</td>\n",
       "    </tr>\n",
       "    <tr>\n",
       "      <th>1</th>\n",
       "      <td>1</td>\n",
       "      <td>8</td>\n",
       "      <td>1029885647</td>\n",
       "      <td>1136791625</td>\n",
       "    </tr>\n",
       "    <tr>\n",
       "      <th>2</th>\n",
       "      <td>1</td>\n",
       "      <td>9</td>\n",
       "      <td>1029885647</td>\n",
       "      <td>1136791625</td>\n",
       "    </tr>\n",
       "    <tr>\n",
       "      <th>3</th>\n",
       "      <td>1</td>\n",
       "      <td>3</td>\n",
       "      <td>1028243088</td>\n",
       "      <td>1143227562</td>\n",
       "    </tr>\n",
       "    <tr>\n",
       "      <th>4</th>\n",
       "      <td>1</td>\n",
       "      <td>3</td>\n",
       "      <td>1146727453</td>\n",
       "      <td>1148998304</td>\n",
       "    </tr>\n",
       "  </tbody>\n",
       "</table>\n",
       "</div>"
      ],
      "text/plain": [
       "   src  trg       start         end\n",
       "0    1    6  1028243088  1120917090\n",
       "1    1    8  1029885647  1136791625\n",
       "2    1    9  1029885647  1136791625\n",
       "3    1    3  1028243088  1143227562\n",
       "4    1    3  1146727453  1148998304"
      ]
     },
     "execution_count": 3,
     "metadata": {},
     "output_type": "execute_result"
    }
   ],
   "source": [
    "temp_nw.head()"
   ]
  },
  {
   "cell_type": "code",
   "execution_count": 4,
   "metadata": {
    "collapsed": true
   },
   "outputs": [],
   "source": [
    "temp_nw['start'] = pd.to_datetime(temp_nw['start'], unit = 's') #convert Unix timestamps to date time, utc = 0\n",
    "temp_nw['end'] = pd.to_datetime(temp_nw['end'], unit = 's')"
   ]
  },
  {
   "cell_type": "code",
   "execution_count": 5,
   "metadata": {},
   "outputs": [
    {
     "name": "stdout",
     "output_type": "stream",
     "text": [
      "2002-08-02 01:04:48\n"
     ]
    }
   ],
   "source": [
    "#test function for unix time stamps to datetime\n",
    "print(\n",
    "    datetime.datetime.fromtimestamp(\n",
    "        int(\"1028243088\")\n",
    "    ).strftime('%Y-%m-%d %H:%M:%S')\n",
    ")"
   ]
  },
  {
   "cell_type": "code",
   "execution_count": 6,
   "metadata": {},
   "outputs": [
    {
     "data": {
      "text/html": [
       "<div>\n",
       "<style>\n",
       "    .dataframe thead tr:only-child th {\n",
       "        text-align: right;\n",
       "    }\n",
       "\n",
       "    .dataframe thead th {\n",
       "        text-align: left;\n",
       "    }\n",
       "\n",
       "    .dataframe tbody tr th {\n",
       "        vertical-align: top;\n",
       "    }\n",
       "</style>\n",
       "<table border=\"1\" class=\"dataframe\">\n",
       "  <thead>\n",
       "    <tr style=\"text-align: right;\">\n",
       "      <th></th>\n",
       "      <th>src</th>\n",
       "      <th>trg</th>\n",
       "      <th>start</th>\n",
       "      <th>end</th>\n",
       "    </tr>\n",
       "  </thead>\n",
       "  <tbody>\n",
       "    <tr>\n",
       "      <th>0</th>\n",
       "      <td>1</td>\n",
       "      <td>6</td>\n",
       "      <td>2002-08-01 23:04:48</td>\n",
       "      <td>2005-07-09 13:51:30</td>\n",
       "    </tr>\n",
       "    <tr>\n",
       "      <th>1</th>\n",
       "      <td>1</td>\n",
       "      <td>8</td>\n",
       "      <td>2002-08-20 23:20:47</td>\n",
       "      <td>2006-01-09 07:27:05</td>\n",
       "    </tr>\n",
       "    <tr>\n",
       "      <th>2</th>\n",
       "      <td>1</td>\n",
       "      <td>9</td>\n",
       "      <td>2002-08-20 23:20:47</td>\n",
       "      <td>2006-01-09 07:27:05</td>\n",
       "    </tr>\n",
       "    <tr>\n",
       "      <th>3</th>\n",
       "      <td>1</td>\n",
       "      <td>3</td>\n",
       "      <td>2002-08-01 23:04:48</td>\n",
       "      <td>2006-03-24 19:12:42</td>\n",
       "    </tr>\n",
       "    <tr>\n",
       "      <th>4</th>\n",
       "      <td>1</td>\n",
       "      <td>3</td>\n",
       "      <td>2006-05-04 07:24:13</td>\n",
       "      <td>2006-05-30 14:11:44</td>\n",
       "    </tr>\n",
       "  </tbody>\n",
       "</table>\n",
       "</div>"
      ],
      "text/plain": [
       "   src  trg               start                 end\n",
       "0    1    6 2002-08-01 23:04:48 2005-07-09 13:51:30\n",
       "1    1    8 2002-08-20 23:20:47 2006-01-09 07:27:05\n",
       "2    1    9 2002-08-20 23:20:47 2006-01-09 07:27:05\n",
       "3    1    3 2002-08-01 23:04:48 2006-03-24 19:12:42\n",
       "4    1    3 2006-05-04 07:24:13 2006-05-30 14:11:44"
      ]
     },
     "execution_count": 6,
     "metadata": {},
     "output_type": "execute_result"
    }
   ],
   "source": [
    "temp_nw.head()"
   ]
  },
  {
   "cell_type": "code",
   "execution_count": 7,
   "metadata": {},
   "outputs": [
    {
     "data": {
      "text/plain": [
       "(4729035, 4)"
      ]
     },
     "execution_count": 7,
     "metadata": {},
     "output_type": "execute_result"
    }
   ],
   "source": [
    "temp_nw.shape"
   ]
  },
  {
   "cell_type": "markdown",
   "metadata": {},
   "source": [
    "Let's create a timestamp for every year: $T_i = $ 2002$+i$-01-01 00:00:00."
   ]
  },
  {
   "cell_type": "code",
   "execution_count": 8,
   "metadata": {},
   "outputs": [
    {
     "data": {
      "text/plain": [
       "{'T0': datetime.datetime(2002, 1, 1, 0, 0),\n",
       " 'T1': datetime.datetime(2003, 1, 1, 0, 0),\n",
       " 'T10': datetime.datetime(2012, 1, 1, 0, 0),\n",
       " 'T2': datetime.datetime(2004, 1, 1, 0, 0),\n",
       " 'T3': datetime.datetime(2005, 1, 1, 0, 0),\n",
       " 'T4': datetime.datetime(2006, 1, 1, 0, 0),\n",
       " 'T5': datetime.datetime(2007, 1, 1, 0, 0),\n",
       " 'T6': datetime.datetime(2008, 1, 1, 0, 0),\n",
       " 'T7': datetime.datetime(2009, 1, 1, 0, 0),\n",
       " 'T8': datetime.datetime(2010, 1, 1, 0, 0),\n",
       " 'T9': datetime.datetime(2011, 1, 1, 0, 0)}"
      ]
     },
     "execution_count": 8,
     "metadata": {},
     "output_type": "execute_result"
    }
   ],
   "source": [
    "# Create timestamps\n",
    "dTime={}\n",
    "for x in range(0,11):\n",
    "    year = 2002 + x\n",
    "    T = datetime.datetime(year, 1, 1, 0, 0, 0)\n",
    "    dTime[\"T{0}\".format(x)]=T\n",
    "dTime"
   ]
  },
  {
   "cell_type": "markdown",
   "metadata": {},
   "source": [
    "Now that we have these timestamps, let's generate some graphs, $G_0, G_1, G_2, G_3, G_4, G_5, G_6, G_7, G_8, G_9$, each containing only the edges that appear between $T_i$ and $T_{i+1}$ for $G_i$."
   ]
  },
  {
   "cell_type": "code",
   "execution_count": 10,
   "metadata": {},
   "outputs": [
    {
     "name": "stdout",
     "output_type": "stream",
     "text": [
      "df_G0: (56459, 4)\n",
      "df_G1: (210603, 4)\n",
      "df_G2: (502719, 4)\n",
      "df_G3: (1115759, 4)\n",
      "df_G4: (1685662, 4)\n",
      "df_G5: (1758664, 4)\n",
      "df_G6: (1618639, 4)\n",
      "df_G7: (1331689, 4)\n",
      "df_G8: (960662, 4)\n",
      "df_G9: (443777, 4)\n"
     ]
    }
   ],
   "source": [
    "# Create DataFrames for every timestamp\n",
    "dfG={}\n",
    "for x in range(0,10):\n",
    "    T0 = \"T{0}\".format(x)\n",
    "    T1 = \"T{0}\".format(x+1)\n",
    "    T0 = dTime.get(T0)\n",
    "    T1 = dTime.get(T1)\n",
    "    df_G = temp_nw.copy()\n",
    "    df_G = df_G[((df_G['start'] >= T0) & (df_G['start'] < T1)) | ((df_G['end'] > T0) & (df_G['end'] <= T1)) | \n",
    "                ((df_G['start'] < T0) & (df_G['end'] > T1))]\n",
    "    dfG[\"df_G{0}\".format(x)]=df_G\n",
    "    print(\"df_G{0}\".format(x) + \": \" + str(df_G.shape))"
   ]
  },
  {
   "cell_type": "code",
   "execution_count": 11,
   "metadata": {},
   "outputs": [
    {
     "data": {
      "text/html": [
       "<div>\n",
       "<style>\n",
       "    .dataframe thead tr:only-child th {\n",
       "        text-align: right;\n",
       "    }\n",
       "\n",
       "    .dataframe thead th {\n",
       "        text-align: left;\n",
       "    }\n",
       "\n",
       "    .dataframe tbody tr th {\n",
       "        vertical-align: top;\n",
       "    }\n",
       "</style>\n",
       "<table border=\"1\" class=\"dataframe\">\n",
       "  <thead>\n",
       "    <tr style=\"text-align: right;\">\n",
       "      <th></th>\n",
       "      <th>Time</th>\n",
       "      <th>Edges</th>\n",
       "    </tr>\n",
       "  </thead>\n",
       "  <tbody>\n",
       "    <tr>\n",
       "      <th>0</th>\n",
       "      <td>2002 - 2003</td>\n",
       "      <td>56459</td>\n",
       "    </tr>\n",
       "    <tr>\n",
       "      <th>1</th>\n",
       "      <td>2003 - 2004</td>\n",
       "      <td>210603</td>\n",
       "    </tr>\n",
       "    <tr>\n",
       "      <th>2</th>\n",
       "      <td>2004 - 2005</td>\n",
       "      <td>502719</td>\n",
       "    </tr>\n",
       "    <tr>\n",
       "      <th>3</th>\n",
       "      <td>2005 - 2006</td>\n",
       "      <td>1115759</td>\n",
       "    </tr>\n",
       "    <tr>\n",
       "      <th>4</th>\n",
       "      <td>2006 - 2007</td>\n",
       "      <td>1685662</td>\n",
       "    </tr>\n",
       "    <tr>\n",
       "      <th>5</th>\n",
       "      <td>2007 - 2008</td>\n",
       "      <td>1758664</td>\n",
       "    </tr>\n",
       "    <tr>\n",
       "      <th>6</th>\n",
       "      <td>2008 - 2009</td>\n",
       "      <td>1618639</td>\n",
       "    </tr>\n",
       "    <tr>\n",
       "      <th>7</th>\n",
       "      <td>2009 - 2010</td>\n",
       "      <td>1331689</td>\n",
       "    </tr>\n",
       "    <tr>\n",
       "      <th>8</th>\n",
       "      <td>2010 - 2011</td>\n",
       "      <td>960662</td>\n",
       "    </tr>\n",
       "    <tr>\n",
       "      <th>9</th>\n",
       "      <td>2011 - 2012</td>\n",
       "      <td>443777</td>\n",
       "    </tr>\n",
       "  </tbody>\n",
       "</table>\n",
       "</div>"
      ],
      "text/plain": [
       "          Time    Edges\n",
       "0  2002 - 2003    56459\n",
       "1  2003 - 2004   210603\n",
       "2  2004 - 2005   502719\n",
       "3  2005 - 2006  1115759\n",
       "4  2006 - 2007  1685662\n",
       "5  2007 - 2008  1758664\n",
       "6  2008 - 2009  1618639\n",
       "7  2009 - 2010  1331689\n",
       "8  2010 - 2011   960662\n",
       "9  2011 - 2012   443777"
      ]
     },
     "execution_count": 11,
     "metadata": {},
     "output_type": "execute_result"
    }
   ],
   "source": [
    "#Create a DataFrame with the amount of edges during every period, so we can visualize it.\n",
    "lstEdges = list()\n",
    "lstTime = list()\n",
    "for x in range(0,10):\n",
    "    T = \"{0}\".format(2002+x) + \" - \" + \"{0}\".format(2002+x+1) \n",
    "    lstTime.append(T)\n",
    "    df = \"df_G{0}\".format(x); df = dfG.get(df)\n",
    "    lstEdges.append(df.shape[0])\n",
    "edges = pd.DataFrame({'Time': lstTime, 'Edges': lstEdges})\n",
    "cols = edges.columns.tolist()\n",
    "cols = cols[-1:] + cols[:-1]\n",
    "edges = edges[cols]\n",
    "edges"
   ]
  },
  {
   "cell_type": "code",
   "execution_count": 12,
   "metadata": {},
   "outputs": [
    {
     "data": {
      "image/png": "[encoded data removed]",
      "text/plain": [
       "<matplotlib.figure.Figure at 0x1389bf55518>"
      ]
     },
     "metadata": {},
     "output_type": "display_data"
    }
   ],
   "source": [
    "edges.plot.bar(x = 'Time', color='midnightblue');\n",
    "plt.show()"
   ]
  },
  {
   "cell_type": "markdown",
   "metadata": {},
   "source": [
    "So we can see that the amount of edges quickly increases starting in 2002, and reaches a peak in 2007. The amount of edges then slowly decreases until 2012."
   ]
  },
  {
   "cell_type": "code",
   "execution_count": 13,
   "metadata": {
    "collapsed": true
   },
   "outputs": [],
   "source": [
    "# Initialize a directed graph G from each of the given pandas dataframes.\n",
    "dG={}\n",
    "for x in range(0,10):\n",
    "    G = \"df_G{0}\".format(x)\n",
    "    G = dfG.get(G)\n",
    "    G = nx.from_pandas_dataframe(G, 'src', 'trg', edge_attr=None, create_using=nx.DiGraph())\n",
    "    dG[\"G{0}\".format(x)]=G"
   ]
  },
  {
   "cell_type": "markdown",
   "metadata": {},
   "source": [
    "## Assortativity"
   ]
  },
  {
   "cell_type": "code",
   "execution_count": 14,
   "metadata": {},
   "outputs": [
    {
     "name": "stdout",
     "output_type": "stream",
     "text": [
      "r0: -0.149407576492\n",
      "r1: -0.0720752198269\n",
      "r2: -0.0675476326705\n",
      "r3: -0.0823281767082\n",
      "r4: -0.0774179499571\n",
      "r5: -0.0734198510666\n",
      "r6: -0.0706912069773\n",
      "r7: -0.0698025686817\n",
      "r8: -0.0711758093667\n",
      "r9: -0.0986373068886\n"
     ]
    }
   ],
   "source": [
    "# Run the Assortativity algorithm from networkx. Because G is a directed graph, we must specify the degree types for source (x) \n",
    "# and target (y) nodes.\n",
    "# Returns float; Assortativity of graph by degree.\n",
    "dAssort={}\n",
    "for x in range(0,10):\n",
    "    G = \"G{0}\".format(x); G = dG.get(G)\n",
    "    assortativity = nx.degree_assortativity_coefficient(G, x='out', y='in'); print(\"r\" + str(x) + \": \" + str(assortativity))\n",
    "    dAssort[\"Assortativity{0}\".format(x)]=assortativity"
   ]
  },
  {
   "cell_type": "markdown",
   "metadata": {},
   "source": [
    "Positive values of the assortativity coefficient $r$ indicate a correlation between nodes of similar degree, while negative values indicate relationships between nodes of different degree. In general, $r$ lies between -1 and 1. When $r=1$, the network is said to have perfect assortative mixing patterns, when $r=0$ the network is non-assortative, while at $r=-1$ the network is completely disassortative. \n",
    "\n",
    "Our values, $r_i \\approx -0.075 \\pm 0.01$, indicate that the graphs $G_i$ are mostly non-assortative. In other words, there is no indication that nodes with a high degree are more likely to be linked to other nodes with a high degree. Furthermore, there is also no indication that nodes with a low degree are more likely to be linked to nodes with a high degree. The edges between nodes do not appear to be correlated to the degrees of the nodes in any way.\n",
    "\n",
    "Furthermore, there aren't any large differences between any of the time ranges, and all of the results are similar to the one that the found for the original, complete graph, $r \\approx -0.08$. The only relatively large differences can be seen in the the first (2002 - 2003) and last (2011 - 2012) time ranges, where $r_0 \\approx -0.149, r_9 \\approx -0.099$. This only makes sense, because these time ranges contain the least amount of edges and nodes, thus the results are more volatile here. Apart from these two time ranges though, the differences are hardly significant."
   ]
  },
  {
   "cell_type": "code",
   "execution_count": 15,
   "metadata": {},
   "outputs": [
    {
     "name": "stdout",
     "output_type": "stream",
     "text": [
      "Average neighbour degree dictorionary (2002 - 2003): stored in dd(d0)\n",
      "Average neighbour degree dictorionary (2003 - 2004): stored in dd(d1)\n",
      "Average neighbour degree dictorionary (2004 - 2005): stored in dd(d2)\n",
      "Average neighbour degree dictorionary (2005 - 2006): stored in dd(d3)\n",
      "Average neighbour degree dictorionary (2006 - 2007): stored in dd(d4)\n",
      "Average neighbour degree dictorionary (2007 - 2008): stored in dd(d5)\n",
      "Average neighbour degree dictorionary (2008 - 2009): stored in dd(d6)\n",
      "Average neighbour degree dictorionary (2009 - 2010): stored in dd(d7)\n",
      "Average neighbour degree dictorionary (2010 - 2011): stored in dd(d8)\n",
      "Average neighbour degree dictorionary (2011 - 2012): stored in dd(d9)\n"
     ]
    }
   ],
   "source": [
    "# Run the average neighbour degree algorithm from networkx. \n",
    "# Returns dict; A dictionary keyed by node with average neighbours degree value.\n",
    "dd={}\n",
    "for x in range(0,10):\n",
    "    G = \"G{0}\".format(x); G = dG.get(G)\n",
    "    AND = nx.average_neighbor_degree(G, source='out', target='in') #AND = Average Neighbour Degree\n",
    "    print(\"Average neighbour degree dictorionary (\" + str(2002+x) + \" - \" + str(2002+x+1) + \"): stored in dd(d\" + str(x) + \")\")\n",
    "    dd[\"d{0}\".format(x)]=AND"
   ]
  },
  {
   "cell_type": "code",
   "execution_count": 16,
   "metadata": {},
   "outputs": [
    {
     "name": "stdout",
     "output_type": "stream",
     "text": [
      "Created DataFrame df0 for time range (2002 - 2003)\n",
      "Created DataFrame df1 for time range (2003 - 2004)\n",
      "Created DataFrame df2 for time range (2004 - 2005)\n",
      "Created DataFrame df3 for time range (2005 - 2006)\n",
      "Created DataFrame df4 for time range (2006 - 2007)\n",
      "Created DataFrame df5 for time range (2007 - 2008)\n",
      "Created DataFrame df6 for time range (2008 - 2009)\n",
      "Created DataFrame df7 for time range (2009 - 2010)\n",
      "Created DataFrame df8 for time range (2010 - 2011)\n",
      "Created DataFrame df9 for time range (2011 - 2012)\n"
     ]
    }
   ],
   "source": [
    "# Creating DataFrames for each of the dictionaries\n",
    "ddf={}\n",
    "for x in range(0,10):\n",
    "    avgNeighbourDegree = \"d{0}\".format(x); avgNeighbourDegree = dd.get(avgNeighbourDegree)\n",
    "    df = pd.DataFrame.from_dict(avgNeighbourDegree, orient='index')\n",
    "    df.columns = ['Avg neighbour degree']\n",
    "    df['Node'] = df.index\n",
    "    degree = list()\n",
    "    nodes = df.index\n",
    "    G = \"G{0}\".format(x); G = dG.get(G)\n",
    "    for node in nodes:\n",
    "        deg = G.degree(node)\n",
    "        degree.append(deg)\n",
    "    df['Degree'] = degree\n",
    "    cols = df.columns.tolist()\n",
    "    cols = cols[-2:] + cols[:-2]\n",
    "    df = df[cols]\n",
    "    print(\"Created DataFrame df\" + str(x) + \" for time range (\" + str(2002+x) + \" - \" + str(2002+x+1) + \")\")\n",
    "    ddf[\"df{0}\".format(x)]=df"
   ]
  },
  {
   "cell_type": "code",
   "execution_count": 17,
   "metadata": {},
   "outputs": [
    {
     "data": {
      "text/html": [
       "<div>\n",
       "<style>\n",
       "    .dataframe thead tr:only-child th {\n",
       "        text-align: right;\n",
       "    }\n",
       "\n",
       "    .dataframe thead th {\n",
       "        text-align: left;\n",
       "    }\n",
       "\n",
       "    .dataframe tbody tr th {\n",
       "        vertical-align: top;\n",
       "    }\n",
       "</style>\n",
       "<table border=\"1\" class=\"dataframe\">\n",
       "  <thead>\n",
       "    <tr style=\"text-align: right;\">\n",
       "      <th></th>\n",
       "      <th>Node</th>\n",
       "      <th>Degree</th>\n",
       "      <th>Avg neighbour degree</th>\n",
       "    </tr>\n",
       "  </thead>\n",
       "  <tbody>\n",
       "    <tr>\n",
       "      <th>1</th>\n",
       "      <td>1</td>\n",
       "      <td>16</td>\n",
       "      <td>20.416667</td>\n",
       "    </tr>\n",
       "    <tr>\n",
       "      <th>6</th>\n",
       "      <td>6</td>\n",
       "      <td>2</td>\n",
       "      <td>0.000000</td>\n",
       "    </tr>\n",
       "    <tr>\n",
       "      <th>8</th>\n",
       "      <td>8</td>\n",
       "      <td>4</td>\n",
       "      <td>0.000000</td>\n",
       "    </tr>\n",
       "    <tr>\n",
       "      <th>9</th>\n",
       "      <td>9</td>\n",
       "      <td>75</td>\n",
       "      <td>95.641026</td>\n",
       "    </tr>\n",
       "    <tr>\n",
       "      <th>3</th>\n",
       "      <td>3</td>\n",
       "      <td>21</td>\n",
       "      <td>0.000000</td>\n",
       "    </tr>\n",
       "  </tbody>\n",
       "</table>\n",
       "</div>"
      ],
      "text/plain": [
       "   Node  Degree  Avg neighbour degree\n",
       "1     1      16             20.416667\n",
       "6     6       2              0.000000\n",
       "8     8       4              0.000000\n",
       "9     9      75             95.641026\n",
       "3     3      21              0.000000"
      ]
     },
     "execution_count": 17,
     "metadata": {},
     "output_type": "execute_result"
    }
   ],
   "source": [
    "# Example (2002 - 2003)\n",
    "ddf.get('df0').head()"
   ]
  },
  {
   "cell_type": "code",
   "execution_count": 18,
   "metadata": {},
   "outputs": [
    {
     "data": {
      "text/html": [
       "<div>\n",
       "<style>\n",
       "    .dataframe thead tr:only-child th {\n",
       "        text-align: right;\n",
       "    }\n",
       "\n",
       "    .dataframe thead th {\n",
       "        text-align: left;\n",
       "    }\n",
       "\n",
       "    .dataframe tbody tr th {\n",
       "        vertical-align: top;\n",
       "    }\n",
       "</style>\n",
       "<table border=\"1\" class=\"dataframe\">\n",
       "  <thead>\n",
       "    <tr style=\"text-align: right;\">\n",
       "      <th></th>\n",
       "      <th>Time</th>\n",
       "      <th>Avg degree</th>\n",
       "    </tr>\n",
       "  </thead>\n",
       "  <tbody>\n",
       "    <tr>\n",
       "      <th>0</th>\n",
       "      <td>2002 - 2003</td>\n",
       "      <td>23.958797</td>\n",
       "    </tr>\n",
       "    <tr>\n",
       "      <th>1</th>\n",
       "      <td>2003 - 2004</td>\n",
       "      <td>24.370012</td>\n",
       "    </tr>\n",
       "    <tr>\n",
       "      <th>2</th>\n",
       "      <td>2004 - 2005</td>\n",
       "      <td>54.258272</td>\n",
       "    </tr>\n",
       "    <tr>\n",
       "      <th>3</th>\n",
       "      <td>2005 - 2006</td>\n",
       "      <td>208.937909</td>\n",
       "    </tr>\n",
       "    <tr>\n",
       "      <th>4</th>\n",
       "      <td>2006 - 2007</td>\n",
       "      <td>310.030716</td>\n",
       "    </tr>\n",
       "    <tr>\n",
       "      <th>5</th>\n",
       "      <td>2007 - 2008</td>\n",
       "      <td>240.336918</td>\n",
       "    </tr>\n",
       "    <tr>\n",
       "      <th>6</th>\n",
       "      <td>2008 - 2009</td>\n",
       "      <td>219.782257</td>\n",
       "    </tr>\n",
       "    <tr>\n",
       "      <th>7</th>\n",
       "      <td>2009 - 2010</td>\n",
       "      <td>220.095069</td>\n",
       "    </tr>\n",
       "    <tr>\n",
       "      <th>8</th>\n",
       "      <td>2010 - 2011</td>\n",
       "      <td>116.577892</td>\n",
       "    </tr>\n",
       "    <tr>\n",
       "      <th>9</th>\n",
       "      <td>2011 - 2012</td>\n",
       "      <td>113.858715</td>\n",
       "    </tr>\n",
       "  </tbody>\n",
       "</table>\n",
       "</div>"
      ],
      "text/plain": [
       "          Time  Avg degree\n",
       "0  2002 - 2003   23.958797\n",
       "1  2003 - 2004   24.370012\n",
       "2  2004 - 2005   54.258272\n",
       "3  2005 - 2006  208.937909\n",
       "4  2006 - 2007  310.030716\n",
       "5  2007 - 2008  240.336918\n",
       "6  2008 - 2009  219.782257\n",
       "7  2009 - 2010  220.095069\n",
       "8  2010 - 2011  116.577892\n",
       "9  2011 - 2012  113.858715"
      ]
     },
     "execution_count": 18,
     "metadata": {},
     "output_type": "execute_result"
    }
   ],
   "source": [
    "# Creating a DataFrame to analyze the average average neighbour degree over time\n",
    "lstDegree = list()\n",
    "for x in range(0,10):\n",
    "    df = \"df{0}\".format(x); df = ddf.get(df)\n",
    "    lstDegree.append(df['Avg neighbour degree'].mean())\n",
    "avgDegree = pd.DataFrame({'Time': lstTime, 'Avg degree': lstDegree})\n",
    "cols = avgDegree.columns.tolist()\n",
    "cols = cols[-1:] + cols[:-1]\n",
    "avgDegree = avgDegree[cols]\n",
    "avgDegree"
   ]
  },
  {
   "cell_type": "code",
   "execution_count": 19,
   "metadata": {},
   "outputs": [
    {
     "data": {
      "image/png": "[encoded data removed]",
      "text/plain": [
       "<matplotlib.figure.Figure at 0x1389cf3af28>"
      ]
     },
     "metadata": {},
     "output_type": "display_data"
    }
   ],
   "source": [
    "avgDegree.plot.bar(x = 'Time', color='midnightblue');\n",
    "plt.show()"
   ]
  },
  {
   "cell_type": "markdown",
   "metadata": {},
   "source": [
    "What's interesting from this plot, is that from 2008-2009 to 2009-2010, as well as from 2010-2011 to 2011-2012, the average of the average neighbour degree doesn't decrease, it remains almost the same, whereas we would expect it to keep gradually decreasing as the amount of edges decreases. We believe that this could be the result of the way that we create our graphs. We create our graphs by reading a list of edges, thus, by excluding edges that did not occur in some specific time range, we also leave out the nodes that would have had this edge, unless these nodes have another edge that did occur in the time range. Thus, by excluding these nodes, we create a graph that has less nodes than the one before it did. This means that, even though the amount of edges in the new graph is lower, the average degree can still be higher or equal, because there are less nodes that these edges are distributed over."
   ]
  },
  {
   "cell_type": "code",
   "execution_count": 20,
   "metadata": {
    "scrolled": false
   },
   "outputs": [
    {
     "name": "stdout",
     "output_type": "stream",
     "text": [
      "2002 - 2003\n"
     ]
    },
    {
     "data": {
      "image/png": "[encoded data removed]",
      "text/plain": [
       "<matplotlib.figure.Figure at 0x1389cf541d0>"
      ]
     },
     "metadata": {},
     "output_type": "display_data"
    },
    {
     "name": "stdout",
     "output_type": "stream",
     "text": [
      "2003 - 2004\n"
     ]
    },
    {
     "data": {
      "image/png": "[encoded data removed]",
      "text/plain": [
       "<matplotlib.figure.Figure at 0x138f4dbff28>"
      ]
     },
     "metadata": {},
     "output_type": "display_data"
    },
    {
     "name": "stdout",
     "output_type": "stream",
     "text": [
      "2004 - 2005\n"
     ]
    },
    {
     "data": {
      "image/png": "[encoded data removed]",
      "text/plain": [
       "<matplotlib.figure.Figure at 0x13a0a2a49b0>"
      ]
     },
     "metadata": {},
     "output_type": "display_data"
    },
    {
     "name": "stdout",
     "output_type": "stream",
     "text": [
      "2005 - 2006\n"
     ]
    },
    {
     "data": {
      "image/png": "[encoded data removed]",
      "text/plain": [
       "<matplotlib.figure.Figure at 0x138f4dbfb38>"
      ]
     },
     "metadata": {},
     "output_type": "display_data"
    },
    {
     "name": "stdout",
     "output_type": "stream",
     "text": [
      "2006 - 2007\n"
     ]
    },
    {
     "data": {
      "image/png": "[encoded data removed]",
      "text/plain": [
       "<matplotlib.figure.Figure at 0x13a106ad2e8>"
      ]
     },
     "metadata": {},
     "output_type": "display_data"
    },
    {
     "name": "stdout",
     "output_type": "stream",
     "text": [
      "2007 - 2008\n"
     ]
    },
    {
     "data": {
      "image/png": "[encoded data removed]",
      "text/plain": [
       "<matplotlib.figure.Figure at 0x13a125faa20>"
      ]
     },
     "metadata": {},
     "output_type": "display_data"
    },
    {
     "name": "stdout",
     "output_type": "stream",
     "text": [
      "2008 - 2009\n"
     ]
    },
    {
     "data": {
      "image/png": "[encoded data removed]",
      "text/plain": [
       "<matplotlib.figure.Figure at 0x13a0f8dd470>"
      ]
     },
     "metadata": {},
     "output_type": "display_data"
    },
    {
     "name": "stdout",
     "output_type": "stream",
     "text": [
      "2009 - 2010\n"
     ]
    },
    {
     "data": {
      "image/png": "[encoded data removed]",
      "text/plain": [
       "<matplotlib.figure.Figure at 0x13a14c5bcc0>"
      ]
     },
     "metadata": {},
     "output_type": "display_data"
    },
    {
     "name": "stdout",
     "output_type": "stream",
     "text": [
      "2010 - 2011\n"
     ]
    },
    {
     "data": {
      "image/png": "[encoded data removed]",
      "text/plain": [
       "<matplotlib.figure.Figure at 0x13a125f7e80>"
      ]
     },
     "metadata": {},
     "output_type": "display_data"
    },
    {
     "name": "stdout",
     "output_type": "stream",
     "text": [
      "2011 - 2012\n"
     ]
    },
    {
     "data": {
      "image/png": "[encoded data removed]",
      "text/plain": [
       "<matplotlib.figure.Figure at 0x13a12d04358>"
      ]
     },
     "metadata": {},
     "output_type": "display_data"
    }
   ],
   "source": [
    "for x in range(0,10):\n",
    "    df = \"df{0}\".format(x); df = ddf.get(df)\n",
    "    T = lstTime[x]\n",
    "    print(T)\n",
    "    df.plot(kind='scatter', x='Degree', y='Avg neighbour degree', s=20);\n",
    "    plt.xlim(0, df['Degree'].max())\n",
    "    plt.ylim(0, df['Avg neighbour degree'].max())\n",
    "    plt.show()"
   ]
  },
  {
   "cell_type": "markdown",
   "metadata": {},
   "source": [
    "These plots show that, even though the amount of edges and the degrees of the nodes change over time, the relation between a node's degree and its average neighbour degree remains constant. The relation, and therefore our conclusion, has remained the same as in the static (non-temporal) analysis: \n",
    "\n",
    "We can see that most nodes have a low degree, that's why nodes are mostly on the left side of the graph. However, we can also see that, of the few nodes that do have a high degree, their average neighbour still has a low degree (shown by the nodes scattered along the X-axis). Also, nodes with a low degree can still be linked to nodes that have a high degree (shown by the nodes scattered along the Y-axis). If the graph was assortative, we would expect a line through $y=x$, and if the graph was disassortative, we would expect a line through $y=-x$. This plot, however, shows that the graphs $G_i$ are indeed all non-assortative, as the assortativity coefficients predicted."
   ]
  },
  {
   "cell_type": "markdown",
   "metadata": {},
   "source": [
    "To link this back to the subject of this exercise, the wiki page, let's say that a link is added from a wiki page $page 1$ to another wiki page, $page 2$. Then, because our network is non-assortative, we cannot say anything about what the degree of $page 2$ is likely to be, in terms of the degree of $page 1$.\n",
    "\n",
    "For instance, if we assume that the network was assortative, and we know that $page 1$ has a high degree (i.e. it links to many other pages), then we could say that it is likely that $page 2$ also has a high degree. Or, if the network was disassortative, we could say that it is likely for $page 2$ to have a low degree. However, because our network is non-assortative, we cannot make any useful conclusions. \n",
    "\n",
    "This property is likely caused by the fact that wiki pages are linked to solely based on their content, and not based on any additional properties, like their degree. For example, if a wiki page is being written about temporal network analysis, the writer will likely link to a wiki page explaining what a temporal network is so that he does not have to add duplicate information, regardless of how many links this wiki page might contain."
   ]
  }
 ],
 "metadata": {
  "kernelspec": {
   "display_name": "Python 3",
   "language": "python",
   "name": "python3"
  },
  "language_info": {
   "codemirror_mode": {
    "name": "ipython",
    "version": 3
   },
   "file_extension": ".py",
   "mimetype": "text/x-python",
   "name": "python",
   "nbconvert_exporter": "python",
   "pygments_lexer": "ipython3",
   "version": "3.6.3"
  }
 },
 "nbformat": 4,
 "nbformat_minor": 2
}
