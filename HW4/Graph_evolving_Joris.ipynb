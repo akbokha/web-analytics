{
 "cells": [
  {
   "cell_type": "markdown",
   "metadata": {},
   "source": [
    "# 1-b Graph evolving - Joris"
   ]
  },
  {
   "cell_type": "code",
   "execution_count": 1,
   "metadata": {},
   "outputs": [],
   "source": [
    "import networkx as nx\n",
    "import plotly.plotly as py\n",
    "import plotly.figure_factory as ff\n",
    "import pandas as pd"
   ]
  },
  {
   "cell_type": "markdown",
   "metadata": {},
   "source": [
    "Load edge list and create a graph"
   ]
  },
  {
   "cell_type": "code",
   "execution_count": 2,
   "metadata": {
    "collapsed": true
   },
   "outputs": [],
   "source": [
    "fh = open(\"canvas/hamster.edgelist\", 'rb')\n",
    "G = nx.read_edgelist(fh, create_using=nx.DiGraph())\n",
    "fh.close()"
   ]
  },
  {
   "cell_type": "markdown",
   "metadata": {},
   "source": [
    "Next we run the pagerank algorithm with a dampening parameter of 0.85. The dampening parameter represents the likelyhood of clicking a link on the webpage. With a dampening parameter of 0.85 we indicate that there is a 85% of clicking a link on the webpage and 15% of going to a random other node in the graph. We calculate the page rank using the power iteration method."
   ]
  },
  {
   "cell_type": "code",
   "execution_count": 3,
   "metadata": {},
   "outputs": [],
   "source": [
    "def calc_pagerank(G, alpha = 0.85):\n",
    "    return nx.pagerank(G, alpha=0.85)"
   ]
  },
  {
   "cell_type": "code",
   "execution_count": 4,
   "metadata": {},
   "outputs": [],
   "source": [
    "pr_origin = calc_pagerank(G)"
   ]
  },
  {
   "cell_type": "code",
   "execution_count": 5,
   "metadata": {
    "scrolled": false
   },
   "outputs": [],
   "source": [
    "def create_dataframe(pr):\n",
    "    df_edge_in = pd.DataFrame(list(G.in_degree()), columns=['node', 'in edges'])\n",
    "    df_edge_out = pd.DataFrame(list(G.out_degree()), columns=['node', 'out edges'])\n",
    "    df_rank = pd.DataFrame(list(pr.items()), columns=['node', 'score']).sort_values(by=['score'], ascending=False)\n",
    "    df_temp = pd.merge(df_rank, df_edge_in, on='node')\n",
    "    df_total = pd.merge(df_temp, df_edge_out, on='node')\n",
    "    df_total.index = df_total.index + 1\n",
    "    df_total.columns.name = 'rank'\n",
    "    return df_total"
   ]
  },
  {
   "cell_type": "code",
   "execution_count": 6,
   "metadata": {},
   "outputs": [
    {
     "data": {
      "text/html": [
       "<div>\n",
       "<style>\n",
       "    .dataframe thead tr:only-child th {\n",
       "        text-align: right;\n",
       "    }\n",
       "\n",
       "    .dataframe thead th {\n",
       "        text-align: left;\n",
       "    }\n",
       "\n",
       "    .dataframe tbody tr th {\n",
       "        vertical-align: top;\n",
       "    }\n",
       "</style>\n",
       "<table border=\"1\" class=\"dataframe\">\n",
       "  <thead>\n",
       "    <tr style=\"text-align: right;\">\n",
       "      <th>rank</th>\n",
       "      <th>node</th>\n",
       "      <th>score</th>\n",
       "      <th>in edges</th>\n",
       "      <th>out edges</th>\n",
       "    </tr>\n",
       "  </thead>\n",
       "  <tbody>\n",
       "    <tr>\n",
       "      <th>1</th>\n",
       "      <td>404</td>\n",
       "      <td>0.042793</td>\n",
       "      <td>10</td>\n",
       "      <td>0</td>\n",
       "    </tr>\n",
       "    <tr>\n",
       "      <th>2</th>\n",
       "      <td>195</td>\n",
       "      <td>0.019961</td>\n",
       "      <td>80</td>\n",
       "      <td>1</td>\n",
       "    </tr>\n",
       "    <tr>\n",
       "      <th>3</th>\n",
       "      <td>77</td>\n",
       "      <td>0.018628</td>\n",
       "      <td>121</td>\n",
       "      <td>2</td>\n",
       "    </tr>\n",
       "    <tr>\n",
       "      <th>4</th>\n",
       "      <td>728</td>\n",
       "      <td>0.015530</td>\n",
       "      <td>10</td>\n",
       "      <td>0</td>\n",
       "    </tr>\n",
       "    <tr>\n",
       "      <th>5</th>\n",
       "      <td>36</td>\n",
       "      <td>0.011117</td>\n",
       "      <td>168</td>\n",
       "      <td>5</td>\n",
       "    </tr>\n",
       "  </tbody>\n",
       "</table>\n",
       "</div>"
      ],
      "text/plain": [
       "rank node     score  in edges  out edges\n",
       "1     404  0.042793        10          0\n",
       "2     195  0.019961        80          1\n",
       "3      77  0.018628       121          2\n",
       "4     728  0.015530        10          0\n",
       "5      36  0.011117       168          5"
      ]
     },
     "execution_count": 6,
     "metadata": {},
     "output_type": "execute_result"
    }
   ],
   "source": [
    "df_origin = create_dataframe(pr_origin)\n",
    "df_origin.head()"
   ]
  },
  {
   "cell_type": "markdown",
   "metadata": {},
   "source": [
    "It looks like node 404 is the best ranked page, following by 195 and 77. This means that these pages should be shown at the top by search engines."
   ]
  },
  {
   "cell_type": "code",
   "execution_count": 7,
   "metadata": {
    "scrolled": true
   },
   "outputs": [
    {
     "data": {
      "text/html": [
       "<div>\n",
       "<style>\n",
       "    .dataframe thead tr:only-child th {\n",
       "        text-align: right;\n",
       "    }\n",
       "\n",
       "    .dataframe thead th {\n",
       "        text-align: left;\n",
       "    }\n",
       "\n",
       "    .dataframe tbody tr th {\n",
       "        vertical-align: top;\n",
       "    }\n",
       "</style>\n",
       "<table border=\"1\" class=\"dataframe\">\n",
       "  <thead>\n",
       "    <tr style=\"text-align: right;\">\n",
       "      <th>rank</th>\n",
       "      <th>node</th>\n",
       "      <th>score</th>\n",
       "      <th>in edges</th>\n",
       "      <th>out edges</th>\n",
       "    </tr>\n",
       "  </thead>\n",
       "  <tbody>\n",
       "    <tr>\n",
       "      <th>2422</th>\n",
       "      <td>1746</td>\n",
       "      <td>0.000113</td>\n",
       "      <td>0</td>\n",
       "      <td>3</td>\n",
       "    </tr>\n",
       "    <tr>\n",
       "      <th>2423</th>\n",
       "      <td>1748</td>\n",
       "      <td>0.000113</td>\n",
       "      <td>0</td>\n",
       "      <td>4</td>\n",
       "    </tr>\n",
       "    <tr>\n",
       "      <th>2424</th>\n",
       "      <td>1749</td>\n",
       "      <td>0.000113</td>\n",
       "      <td>0</td>\n",
       "      <td>3</td>\n",
       "    </tr>\n",
       "    <tr>\n",
       "      <th>2425</th>\n",
       "      <td>1751</td>\n",
       "      <td>0.000113</td>\n",
       "      <td>0</td>\n",
       "      <td>2</td>\n",
       "    </tr>\n",
       "    <tr>\n",
       "      <th>2426</th>\n",
       "      <td>2426</td>\n",
       "      <td>0.000113</td>\n",
       "      <td>0</td>\n",
       "      <td>8</td>\n",
       "    </tr>\n",
       "  </tbody>\n",
       "</table>\n",
       "</div>"
      ],
      "text/plain": [
       "rank  node     score  in edges  out edges\n",
       "2422  1746  0.000113         0          3\n",
       "2423  1748  0.000113         0          4\n",
       "2424  1749  0.000113         0          3\n",
       "2425  1751  0.000113         0          2\n",
       "2426  2426  0.000113         0          8"
      ]
     },
     "execution_count": 7,
     "metadata": {},
     "output_type": "execute_result"
    }
   ],
   "source": [
    "df_origin.tail()"
   ]
  },
  {
   "cell_type": "markdown",
   "metadata": {},
   "source": [
    "As expected the higher ranked pages have more incoming edges than the lower ranked pages. Looking at the amount of incoming edges for the 15 best ranked pages it is clear that the the rank of the source of the incoming edges is more important than the amount of incoming edges."
   ]
  },
  {
   "cell_type": "code",
   "execution_count": 45,
   "metadata": {
    "collapsed": true
   },
   "outputs": [],
   "source": [
    "import networkx as nx\n",
    "import random\n",
    "import matplotlib.pyplot as plt"
   ]
  },
  {
   "cell_type": "code",
   "execution_count": 12,
   "metadata": {
    "collapsed": true
   },
   "outputs": [],
   "source": [
    "#add new connection to random other node with probability prob_add\n",
    "#remove random connection of node with probability prob_remove\n",
    "def random_edges(G, prob_add, prob_remove):\n",
    "    add_edges = []\n",
    "    removed_edges = []\n",
    "    \n",
    "    for node in G.nodes():\n",
    "        #find notes that this one is connected to\n",
    "        connected = [to for (fr, to) in G.edges(node)]\n",
    "        #find candidates for new edges\n",
    "        unconnected = [n for n in G.nodes() if not n in connected]\n",
    "        \n",
    "        #randomly add new edge to the selected node\n",
    "        if len(unconnected): #only add when unconnected is not empty\n",
    "            if random.random() < prob_add:\n",
    "                new = random.choice(unconnected)\n",
    "                G.add_edge(node, new)\n",
    "                print(\"\\tnew edge:\\t {} -- {}\".format(node, new))\n",
    "                add_edges.append( (node, new) )\n",
    "                #update lists, in case both add and remove done in same cycle\n",
    "                unconnected.remove(new)    \n",
    "                connected.append(new)\n",
    "                \n",
    "        if len(connected):\n",
    "            if random.random() < prob_remove:\n",
    "                remove = random.choice(connected)\n",
    "                G.remove_edge(node, remove)\n",
    "                print(\"\\tedge removed:\\t {} -- {}\".format(node, remove))\n",
    "                removed_edges.append((node, remove))\n",
    "                #update lists, in case both add and remove done in same cycle\n",
    "                connected.remove(remove)\n",
    "                unconnected.append(remove)\n",
    "    return G"
   ]
  },
  {
   "cell_type": "code",
   "execution_count": 13,
   "metadata": {},
   "outputs": [
    {
     "name": "stdout",
     "output_type": "stream",
     "text": [
      "\tnew edge:\t 32 -- 1596\n",
      "\tnew edge:\t 36 -- 2264\n",
      "\tnew edge:\t 47 -- 1953\n",
      "\tnew edge:\t 98 -- 2337\n",
      "\tnew edge:\t 103 -- 1139\n",
      "\tnew edge:\t 174 -- 8\n",
      "\tnew edge:\t 175 -- 2342\n",
      "\tnew edge:\t 203 -- 2425\n",
      "\tnew edge:\t 215 -- 1467\n",
      "\tnew edge:\t 219 -- 2352\n",
      "\tnew edge:\t 249 -- 1814\n",
      "\tedge removed:\t 282 -- 284\n",
      "\tnew edge:\t 307 -- 2115\n",
      "\tnew edge:\t 314 -- 521\n",
      "\tnew edge:\t 325 -- 1922\n",
      "\tnew edge:\t 333 -- 2387\n",
      "\tnew edge:\t 337 -- 728\n",
      "\tnew edge:\t 346 -- 136\n",
      "\tnew edge:\t 366 -- 1885\n",
      "\tnew edge:\t 368 -- 630\n",
      "\tnew edge:\t 380 -- 1780\n",
      "\tnew edge:\t 395 -- 1338\n",
      "\tedge removed:\t 415 -- 416\n",
      "\tnew edge:\t 424 -- 2324\n",
      "\tnew edge:\t 436 -- 1748\n",
      "\tnew edge:\t 450 -- 92\n",
      "\tedge removed:\t 492 -- 433\n",
      "\tnew edge:\t 506 -- 85\n",
      "\tedge removed:\t 535 -- 11\n",
      "\tnew edge:\t 541 -- 516\n",
      "\tnew edge:\t 558 -- 224\n",
      "\tnew edge:\t 564 -- 88\n",
      "\tnew edge:\t 567 -- 2382\n",
      "\tnew edge:\t 588 -- 2274\n",
      "\tnew edge:\t 641 -- 1060\n",
      "\tnew edge:\t 666 -- 2087\n",
      "\tnew edge:\t 678 -- 2141\n",
      "\tnew edge:\t 685 -- 1159\n",
      "\tnew edge:\t 700 -- 1549\n",
      "\tnew edge:\t 702 -- 1662\n",
      "\tnew edge:\t 707 -- 328\n",
      "\tnew edge:\t 723 -- 490\n",
      "\tnew edge:\t 763 -- 134\n",
      "\tnew edge:\t 821 -- 1110\n",
      "\tnew edge:\t 827 -- 1403\n",
      "\tnew edge:\t 895 -- 1900\n",
      "\tnew edge:\t 900 -- 2362\n",
      "\tnew edge:\t 940 -- 2161\n",
      "\tedge removed:\t 942 -- 321\n",
      "\tnew edge:\t 950 -- 1558\n",
      "\tnew edge:\t 977 -- 1583\n",
      "\tnew edge:\t 1018 -- 368\n",
      "\tnew edge:\t 1072 -- 360\n",
      "\tnew edge:\t 1078 -- 1395\n",
      "\tedge removed:\t 1080 -- 1780\n",
      "\tnew edge:\t 1088 -- 2063\n",
      "\tnew edge:\t 1089 -- 2143\n",
      "\tnew edge:\t 1120 -- 164\n",
      "\tnew edge:\t 1167 -- 1356\n",
      "\tnew edge:\t 1189 -- 1037\n",
      "\tnew edge:\t 1199 -- 347\n",
      "\tnew edge:\t 1235 -- 2225\n",
      "\tnew edge:\t 1268 -- 769\n",
      "\tnew edge:\t 1288 -- 13\n",
      "\tnew edge:\t 1301 -- 2179\n",
      "\tnew edge:\t 1308 -- 611\n",
      "\tnew edge:\t 1318 -- 1763\n",
      "\tnew edge:\t 1319 -- 751\n",
      "\tnew edge:\t 1335 -- 2072\n",
      "\tnew edge:\t 1371 -- 138\n",
      "\tnew edge:\t 1375 -- 2320\n",
      "\tnew edge:\t 1378 -- 162\n",
      "\tnew edge:\t 1434 -- 2095\n",
      "\tnew edge:\t 1440 -- 843\n",
      "\tnew edge:\t 1475 -- 933\n",
      "\tnew edge:\t 1483 -- 132\n",
      "\tedge removed:\t 1484 -- 1485\n",
      "\tnew edge:\t 1489 -- 1886\n",
      "\tnew edge:\t 1504 -- 684\n",
      "\tnew edge:\t 1527 -- 876\n",
      "\tnew edge:\t 1567 -- 41\n",
      "\tnew edge:\t 1597 -- 1283\n",
      "\tnew edge:\t 1627 -- 219\n",
      "\tnew edge:\t 1639 -- 1278\n",
      "\tnew edge:\t 1642 -- 2362\n",
      "\tnew edge:\t 1674 -- 2272\n",
      "\tnew edge:\t 1695 -- 1348\n",
      "\tnew edge:\t 1737 -- 1883\n",
      "\tnew edge:\t 1749 -- 1085\n",
      "\tnew edge:\t 1751 -- 198\n",
      "\tnew edge:\t 1756 -- 295\n",
      "\tnew edge:\t 1826 -- 67\n",
      "\tnew edge:\t 1867 -- 1993\n",
      "\tnew edge:\t 1878 -- 1526\n",
      "\tnew edge:\t 1880 -- 1111\n",
      "\tnew edge:\t 1888 -- 22\n",
      "\tnew edge:\t 1893 -- 581\n",
      "\tedge removed:\t 1907 -- 763\n",
      "\tnew edge:\t 1909 -- 1571\n",
      "\tnew edge:\t 1913 -- 785\n",
      "\tnew edge:\t 1931 -- 589\n",
      "\tnew edge:\t 1989 -- 1975\n",
      "\tnew edge:\t 2020 -- 1324\n",
      "\tnew edge:\t 2025 -- 1178\n",
      "\tnew edge:\t 2031 -- 1634\n",
      "\tnew edge:\t 2060 -- 38\n",
      "\tnew edge:\t 2061 -- 2197\n",
      "\tnew edge:\t 2084 -- 1130\n",
      "\tedge removed:\t 2105 -- 125\n",
      "\tnew edge:\t 2117 -- 1397\n",
      "\tnew edge:\t 2174 -- 622\n",
      "\tnew edge:\t 2178 -- 1142\n",
      "\tnew edge:\t 2182 -- 216\n",
      "\tnew edge:\t 2186 -- 186\n",
      "\tnew edge:\t 2205 -- 824\n",
      "\tnew edge:\t 2221 -- 990\n",
      "\tnew edge:\t 2224 -- 462\n",
      "\tnew edge:\t 2231 -- 1257\n",
      "\tnew edge:\t 2245 -- 1807\n",
      "\tnew edge:\t 2249 -- 2164\n",
      "\tnew edge:\t 2254 -- 1814\n",
      "\tnew edge:\t 2266 -- 1568\n",
      "\tnew edge:\t 2303 -- 2425\n",
      "\tnew edge:\t 2310 -- 645\n",
      "\tnew edge:\t 2314 -- 79\n",
      "\tnew edge:\t 2318 -- 1764\n",
      "\tnew edge:\t 2380 -- 772\n"
     ]
    }
   ],
   "source": [
    "prob_add = 0.050\n",
    "prob_remove = 0.005\n",
    "G_random = random_edges(G, prob_add, prob_remove)"
   ]
  },
  {
   "cell_type": "code",
   "execution_count": 14,
   "metadata": {
    "scrolled": true
   },
   "outputs": [
    {
     "data": {
      "text/html": [
       "<div>\n",
       "<style>\n",
       "    .dataframe thead tr:only-child th {\n",
       "        text-align: right;\n",
       "    }\n",
       "\n",
       "    .dataframe thead th {\n",
       "        text-align: left;\n",
       "    }\n",
       "\n",
       "    .dataframe tbody tr th {\n",
       "        vertical-align: top;\n",
       "    }\n",
       "</style>\n",
       "<table border=\"1\" class=\"dataframe\">\n",
       "  <thead>\n",
       "    <tr style=\"text-align: right;\">\n",
       "      <th>rank</th>\n",
       "      <th>node</th>\n",
       "      <th>score</th>\n",
       "      <th>in edges</th>\n",
       "      <th>out edges</th>\n",
       "    </tr>\n",
       "  </thead>\n",
       "  <tbody>\n",
       "    <tr>\n",
       "      <th>1</th>\n",
       "      <td>404</td>\n",
       "      <td>0.039962</td>\n",
       "      <td>10</td>\n",
       "      <td>0</td>\n",
       "    </tr>\n",
       "    <tr>\n",
       "      <th>2</th>\n",
       "      <td>195</td>\n",
       "      <td>0.018968</td>\n",
       "      <td>80</td>\n",
       "      <td>1</td>\n",
       "    </tr>\n",
       "    <tr>\n",
       "      <th>3</th>\n",
       "      <td>77</td>\n",
       "      <td>0.017747</td>\n",
       "      <td>120</td>\n",
       "      <td>2</td>\n",
       "    </tr>\n",
       "    <tr>\n",
       "      <th>4</th>\n",
       "      <td>728</td>\n",
       "      <td>0.014136</td>\n",
       "      <td>11</td>\n",
       "      <td>0</td>\n",
       "    </tr>\n",
       "    <tr>\n",
       "      <th>5</th>\n",
       "      <td>36</td>\n",
       "      <td>0.010794</td>\n",
       "      <td>168</td>\n",
       "      <td>6</td>\n",
       "    </tr>\n",
       "  </tbody>\n",
       "</table>\n",
       "</div>"
      ],
      "text/plain": [
       "rank node     score  in edges  out edges\n",
       "1     404  0.039962        10          0\n",
       "2     195  0.018968        80          1\n",
       "3      77  0.017747       120          2\n",
       "4     728  0.014136        11          0\n",
       "5      36  0.010794       168          6"
      ]
     },
     "execution_count": 14,
     "metadata": {},
     "output_type": "execute_result"
    }
   ],
   "source": [
    "pr_random = calc_pagerank(G_random)\n",
    "df_random = create_dataframe(pr_random)\n",
    "df_random.head()"
   ]
  },
  {
   "cell_type": "code",
   "execution_count": 77,
   "metadata": {},
   "outputs": [],
   "source": [
    "#randomly add and remove nodes\n",
    "#Edge Copying Model (slide 51 of Week6-SNA-Props)\n",
    "def random_nodes(G, prob_select):\n",
    "    #k is number of edges to be added, random integer 1 between 5\n",
    "    #select k random vertices\n",
    "    k = random.randint(1,5)\n",
    "    #add node to graph\n",
    "    max_number_nodes = nx.number_of_nodes(G)\n",
    "    new_node = max_number_nodes + 1\n",
    "    G.add_node(new_node)\n",
    "    list_of_nodes = nx.nodes(G)\n",
    "    k_random_selected_nodes = []\n",
    "    if random.random() < prob_select:\n",
    "        #select random vertice with probability prob_select\n",
    "        #to-do: do this until we have k-nodes in k_random_selected_nodes\n",
    "        k_random_selected_nodes.append(random.choice(list_of_nodes))\n",
    "    #todo: add edges with prob 1-prob_select from the just \n",
    "    #added new_node and the nodes that are in k_random_selected_nodes"
   ]
  }
 ],
 "metadata": {
  "kernelspec": {
   "display_name": "Python 3",
   "language": "python",
   "name": "python3"
  },
  "language_info": {
   "codemirror_mode": {
    "name": "ipython",
    "version": 3
   },
   "file_extension": ".py",
   "mimetype": "text/x-python",
   "name": "python",
   "nbconvert_exporter": "python",
   "pygments_lexer": "ipython3",
   "version": "3.6.3"
  }
 },
 "nbformat": 4,
 "nbformat_minor": 2
}
