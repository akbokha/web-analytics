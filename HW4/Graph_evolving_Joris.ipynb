{
 "cells": [
  {
   "cell_type": "markdown",
   "metadata": {},
   "source": [
    "# 1-b Graph evolving - Joris"
   ]
  },
  {
   "cell_type": "code",
   "execution_count": 1,
   "metadata": {},
   "outputs": [],
   "source": [
    "import networkx as nx\n",
    "import plotly.plotly as py\n",
    "import plotly.figure_factory as ff\n",
    "import pandas as pd"
   ]
  },
  {
   "cell_type": "markdown",
   "metadata": {},
   "source": [
    "Load edge list and create a graph"
   ]
  },
  {
   "cell_type": "code",
   "execution_count": 2,
   "metadata": {
    "collapsed": true
   },
   "outputs": [],
   "source": [
    "fh = open(\"canvas/hamster.edgelist\", 'rb')\n",
    "G = nx.read_edgelist(fh, create_using=nx.DiGraph())\n",
    "fh.close()"
   ]
  },
  {
   "cell_type": "markdown",
   "metadata": {},
   "source": [
    "Next we run the pagerank algorithm with a dampening parameter of 0.85. The dampening parameter represents the likelyhood of clicking a link on the webpage. With a dampening parameter of 0.85 we indicate that there is a 85% of clicking a link on the webpage and 15% of going to a random other node in the graph. We calculate the page rank using the power iteration method."
   ]
  },
  {
   "cell_type": "code",
   "execution_count": 3,
   "metadata": {},
   "outputs": [],
   "source": [
    "def calc_pagerank(G, alpha = 0.85):\n",
    "    return nx.pagerank(G, alpha=0.85)"
   ]
  },
  {
   "cell_type": "code",
   "execution_count": 4,
   "metadata": {},
   "outputs": [],
   "source": [
    "pr_origin = calc_pagerank(G)"
   ]
  },
  {
   "cell_type": "code",
   "execution_count": 5,
   "metadata": {
    "scrolled": false
   },
   "outputs": [],
   "source": [
    "def create_dataframe(pr):\n",
    "    df_edge_in = pd.DataFrame(list(G.in_degree()), columns=['node', 'in edges'])\n",
    "    df_edge_out = pd.DataFrame(list(G.out_degree()), columns=['node', 'out edges'])\n",
    "    df_rank = pd.DataFrame(list(pr.items()), columns=['node', 'score']).sort_values(by=['score'], ascending=False)\n",
    "    df_temp = pd.merge(df_rank, df_edge_in, on='node')\n",
    "    df_total = pd.merge(df_temp, df_edge_out, on='node')\n",
    "    df_total.index = df_total.index + 1\n",
    "    df_total.columns.name = 'rank'\n",
    "    return df_total"
   ]
  },
  {
   "cell_type": "code",
   "execution_count": 6,
   "metadata": {},
   "outputs": [
    {
     "data": {
      "text/html": [
       "<div>\n",
       "<style>\n",
       "    .dataframe thead tr:only-child th {\n",
       "        text-align: right;\n",
       "    }\n",
       "\n",
       "    .dataframe thead th {\n",
       "        text-align: left;\n",
       "    }\n",
       "\n",
       "    .dataframe tbody tr th {\n",
       "        vertical-align: top;\n",
       "    }\n",
       "</style>\n",
       "<table border=\"1\" class=\"dataframe\">\n",
       "  <thead>\n",
       "    <tr style=\"text-align: right;\">\n",
       "      <th>rank</th>\n",
       "      <th>node</th>\n",
       "      <th>score</th>\n",
       "      <th>in edges</th>\n",
       "      <th>out edges</th>\n",
       "    </tr>\n",
       "  </thead>\n",
       "  <tbody>\n",
       "    <tr>\n",
       "      <th>1</th>\n",
       "      <td>404</td>\n",
       "      <td>0.042793</td>\n",
       "      <td>10</td>\n",
       "      <td>0</td>\n",
       "    </tr>\n",
       "    <tr>\n",
       "      <th>2</th>\n",
       "      <td>195</td>\n",
       "      <td>0.019961</td>\n",
       "      <td>80</td>\n",
       "      <td>1</td>\n",
       "    </tr>\n",
       "    <tr>\n",
       "      <th>3</th>\n",
       "      <td>77</td>\n",
       "      <td>0.018628</td>\n",
       "      <td>121</td>\n",
       "      <td>2</td>\n",
       "    </tr>\n",
       "    <tr>\n",
       "      <th>4</th>\n",
       "      <td>728</td>\n",
       "      <td>0.015530</td>\n",
       "      <td>10</td>\n",
       "      <td>0</td>\n",
       "    </tr>\n",
       "    <tr>\n",
       "      <th>5</th>\n",
       "      <td>36</td>\n",
       "      <td>0.011117</td>\n",
       "      <td>168</td>\n",
       "      <td>5</td>\n",
       "    </tr>\n",
       "  </tbody>\n",
       "</table>\n",
       "</div>"
      ],
      "text/plain": [
       "rank node     score  in edges  out edges\n",
       "1     404  0.042793        10          0\n",
       "2     195  0.019961        80          1\n",
       "3      77  0.018628       121          2\n",
       "4     728  0.015530        10          0\n",
       "5      36  0.011117       168          5"
      ]
     },
     "execution_count": 6,
     "metadata": {},
     "output_type": "execute_result"
    }
   ],
   "source": [
    "df_origin = create_dataframe(pr_origin)\n",
    "df_origin.head()"
   ]
  },
  {
   "cell_type": "markdown",
   "metadata": {},
   "source": [
    "It looks like node 404 is the best ranked page, following by 195 and 77. This means that these pages should be shown at the top by search engines."
   ]
  },
  {
   "cell_type": "code",
   "execution_count": 7,
   "metadata": {
    "scrolled": true
   },
   "outputs": [
    {
     "data": {
      "text/html": [
       "<div>\n",
       "<style>\n",
       "    .dataframe thead tr:only-child th {\n",
       "        text-align: right;\n",
       "    }\n",
       "\n",
       "    .dataframe thead th {\n",
       "        text-align: left;\n",
       "    }\n",
       "\n",
       "    .dataframe tbody tr th {\n",
       "        vertical-align: top;\n",
       "    }\n",
       "</style>\n",
       "<table border=\"1\" class=\"dataframe\">\n",
       "  <thead>\n",
       "    <tr style=\"text-align: right;\">\n",
       "      <th>rank</th>\n",
       "      <th>node</th>\n",
       "      <th>score</th>\n",
       "      <th>in edges</th>\n",
       "      <th>out edges</th>\n",
       "    </tr>\n",
       "  </thead>\n",
       "  <tbody>\n",
       "    <tr>\n",
       "      <th>2422</th>\n",
       "      <td>1746</td>\n",
       "      <td>0.000113</td>\n",
       "      <td>0</td>\n",
       "      <td>3</td>\n",
       "    </tr>\n",
       "    <tr>\n",
       "      <th>2423</th>\n",
       "      <td>1748</td>\n",
       "      <td>0.000113</td>\n",
       "      <td>0</td>\n",
       "      <td>4</td>\n",
       "    </tr>\n",
       "    <tr>\n",
       "      <th>2424</th>\n",
       "      <td>1749</td>\n",
       "      <td>0.000113</td>\n",
       "      <td>0</td>\n",
       "      <td>3</td>\n",
       "    </tr>\n",
       "    <tr>\n",
       "      <th>2425</th>\n",
       "      <td>1751</td>\n",
       "      <td>0.000113</td>\n",
       "      <td>0</td>\n",
       "      <td>2</td>\n",
       "    </tr>\n",
       "    <tr>\n",
       "      <th>2426</th>\n",
       "      <td>2426</td>\n",
       "      <td>0.000113</td>\n",
       "      <td>0</td>\n",
       "      <td>8</td>\n",
       "    </tr>\n",
       "  </tbody>\n",
       "</table>\n",
       "</div>"
      ],
      "text/plain": [
       "rank  node     score  in edges  out edges\n",
       "2422  1746  0.000113         0          3\n",
       "2423  1748  0.000113         0          4\n",
       "2424  1749  0.000113         0          3\n",
       "2425  1751  0.000113         0          2\n",
       "2426  2426  0.000113         0          8"
      ]
     },
     "execution_count": 7,
     "metadata": {},
     "output_type": "execute_result"
    }
   ],
   "source": [
    "df_origin.tail()"
   ]
  },
  {
   "cell_type": "markdown",
   "metadata": {},
   "source": [
    "As expected the higher ranked pages have more incoming edges than the lower ranked pages. Looking at the amount of incoming edges for the 15 best ranked pages it is clear that the the rank of the source of the incoming edges is more important than the amount of incoming edges."
   ]
  },
  {
   "cell_type": "code",
   "execution_count": 8,
   "metadata": {
    "collapsed": true
   },
   "outputs": [],
   "source": [
    "import networkx as nx\n",
    "import random\n",
    "import matplotlib.pyplot as plt"
   ]
  },
  {
   "cell_type": "code",
   "execution_count": 9,
   "metadata": {
    "collapsed": true
   },
   "outputs": [],
   "source": [
    "#add new connection to random other node with probability prob_add\n",
    "#remove random connection of node with probability prob_remove\n",
    "def random_edges(G, prob_add, prob_remove):\n",
    "    add_edges = []\n",
    "    removed_edges = []\n",
    "    \n",
    "    for node in G.nodes():\n",
    "        #find notes that this one is connected to\n",
    "        connected = [to for (fr, to) in G.edges(node)]\n",
    "        #find candidates for new edges\n",
    "        unconnected = [n for n in G.nodes() if not n in connected]\n",
    "        \n",
    "        #randomly add new edge to the selected node\n",
    "        if len(unconnected): #only add when unconnected is not empty\n",
    "            if random.random() < prob_add:\n",
    "                new = random.choice(unconnected)\n",
    "                G.add_edge(node, new)\n",
    "                print(\"\\tnew edge:\\t {} -- {}\".format(node, new))\n",
    "                add_edges.append( (node, new) )\n",
    "                #update lists, in case both add and remove done in same cycle\n",
    "                unconnected.remove(new)    \n",
    "                connected.append(new)\n",
    "                \n",
    "        if len(connected):\n",
    "            if random.random() < prob_remove:\n",
    "                remove = random.choice(connected)\n",
    "                G.remove_edge(node, remove)\n",
    "                print(\"\\tedge removed:\\t {} -- {}\".format(node, remove))\n",
    "                removed_edges.append((node, remove))\n",
    "                #update lists, in case both add and remove done in same cycle\n",
    "                connected.remove(remove)\n",
    "                unconnected.append(remove)\n",
    "    return G"
   ]
  },
  {
   "cell_type": "code",
   "execution_count": 10,
   "metadata": {},
   "outputs": [
    {
     "name": "stdout",
     "output_type": "stream",
     "text": [
      "\tnew edge:\t 5 -- 2233\n",
      "\tnew edge:\t 38 -- 1157\n",
      "\tnew edge:\t 49 -- 1621\n",
      "\tnew edge:\t 53 -- 2022\n",
      "\tnew edge:\t 69 -- 2121\n",
      "\tnew edge:\t 77 -- 1479\n",
      "\tedge removed:\t 105 -- 77\n",
      "\tnew edge:\t 151 -- 382\n",
      "\tnew edge:\t 163 -- 1293\n",
      "\tnew edge:\t 165 -- 952\n",
      "\tnew edge:\t 174 -- 2373\n",
      "\tnew edge:\t 184 -- 266\n",
      "\tnew edge:\t 211 -- 255\n",
      "\tnew edge:\t 236 -- 1642\n",
      "\tnew edge:\t 244 -- 1625\n",
      "\tnew edge:\t 245 -- 679\n",
      "\tedge removed:\t 266 -- 764\n",
      "\tnew edge:\t 268 -- 2060\n",
      "\tnew edge:\t 281 -- 1148\n",
      "\tnew edge:\t 314 -- 51\n",
      "\tnew edge:\t 332 -- 1055\n",
      "\tnew edge:\t 345 -- 1296\n",
      "\tnew edge:\t 365 -- 301\n",
      "\tnew edge:\t 393 -- 1997\n",
      "\tnew edge:\t 414 -- 584\n",
      "\tnew edge:\t 424 -- 511\n",
      "\tnew edge:\t 429 -- 1395\n",
      "\tnew edge:\t 446 -- 1185\n",
      "\tnew edge:\t 460 -- 347\n",
      "\tnew edge:\t 467 -- 62\n",
      "\tnew edge:\t 472 -- 1225\n",
      "\tnew edge:\t 488 -- 594\n",
      "\tnew edge:\t 513 -- 1779\n",
      "\tnew edge:\t 517 -- 663\n",
      "\tnew edge:\t 529 -- 484\n",
      "\tnew edge:\t 535 -- 390\n",
      "\tnew edge:\t 542 -- 640\n",
      "\tnew edge:\t 550 -- 470\n",
      "\tnew edge:\t 578 -- 552\n",
      "\tedge removed:\t 594 -- 596\n",
      "\tedge removed:\t 606 -- 615\n",
      "\tnew edge:\t 607 -- 2146\n",
      "\tnew edge:\t 620 -- 1092\n",
      "\tnew edge:\t 624 -- 1436\n",
      "\tnew edge:\t 681 -- 2404\n",
      "\tnew edge:\t 722 -- 1566\n",
      "\tedge removed:\t 752 -- 63\n",
      "\tnew edge:\t 783 -- 168\n",
      "\tnew edge:\t 795 -- 1093\n",
      "\tnew edge:\t 796 -- 827\n",
      "\tnew edge:\t 898 -- 778\n",
      "\tnew edge:\t 901 -- 883\n",
      "\tnew edge:\t 911 -- 778\n",
      "\tnew edge:\t 912 -- 2145\n",
      "\tnew edge:\t 924 -- 389\n",
      "\tnew edge:\t 932 -- 432\n",
      "\tnew edge:\t 935 -- 979\n",
      "\tnew edge:\t 951 -- 2098\n",
      "\tnew edge:\t 973 -- 7\n",
      "\tnew edge:\t 985 -- 70\n",
      "\tnew edge:\t 1030 -- 205\n",
      "\tnew edge:\t 1083 -- 298\n",
      "\tnew edge:\t 1098 -- 1433\n",
      "\tnew edge:\t 1109 -- 922\n",
      "\tedge removed:\t 1120 -- 477\n",
      "\tnew edge:\t 1130 -- 1196\n",
      "\tnew edge:\t 1132 -- 1458\n",
      "\tnew edge:\t 1197 -- 1805\n",
      "\tnew edge:\t 1205 -- 2388\n",
      "\tnew edge:\t 1222 -- 796\n",
      "\tnew edge:\t 1223 -- 804\n",
      "\tnew edge:\t 1242 -- 1990\n",
      "\tnew edge:\t 1255 -- 948\n",
      "\tnew edge:\t 1278 -- 170\n",
      "\tnew edge:\t 1335 -- 202\n",
      "\tnew edge:\t 1340 -- 812\n",
      "\tnew edge:\t 1350 -- 2222\n",
      "\tnew edge:\t 1351 -- 273\n",
      "\tnew edge:\t 1375 -- 1191\n",
      "\tnew edge:\t 1389 -- 939\n",
      "\tnew edge:\t 1406 -- 697\n",
      "\tnew edge:\t 1408 -- 2090\n",
      "\tnew edge:\t 1413 -- 1642\n",
      "\tnew edge:\t 1477 -- 762\n",
      "\tnew edge:\t 1489 -- 1908\n",
      "\tnew edge:\t 1495 -- 1623\n",
      "\tnew edge:\t 1510 -- 2159\n",
      "\tedge removed:\t 1575 -- 1577\n",
      "\tnew edge:\t 1590 -- 2386\n",
      "\tnew edge:\t 1608 -- 2230\n",
      "\tnew edge:\t 1620 -- 1802\n",
      "\tnew edge:\t 1632 -- 1750\n",
      "\tnew edge:\t 1640 -- 803\n",
      "\tnew edge:\t 1648 -- 1338\n",
      "\tedge removed:\t 1674 -- 229\n",
      "\tnew edge:\t 1698 -- 1505\n",
      "\tnew edge:\t 1708 -- 686\n",
      "\tnew edge:\t 1716 -- 1255\n",
      "\tnew edge:\t 1729 -- 1383\n",
      "\tnew edge:\t 1742 -- 1138\n",
      "\tnew edge:\t 1787 -- 960\n",
      "\tnew edge:\t 1792 -- 174\n",
      "\tnew edge:\t 1798 -- 507\n",
      "\tnew edge:\t 1808 -- 2021\n",
      "\tnew edge:\t 1809 -- 365\n",
      "\tnew edge:\t 1816 -- 1345\n",
      "\tnew edge:\t 1823 -- 220\n",
      "\tnew edge:\t 1843 -- 823\n",
      "\tnew edge:\t 1891 -- 213\n",
      "\tnew edge:\t 1893 -- 2140\n",
      "\tnew edge:\t 1917 -- 1446\n",
      "\tnew edge:\t 1927 -- 2026\n",
      "\tnew edge:\t 1934 -- 2338\n",
      "\tnew edge:\t 1943 -- 936\n",
      "\tnew edge:\t 1944 -- 311\n",
      "\tnew edge:\t 1945 -- 2195\n",
      "\tedge removed:\t 1947 -- 292\n",
      "\tnew edge:\t 1955 -- 696\n",
      "\tnew edge:\t 1978 -- 1149\n",
      "\tnew edge:\t 1988 -- 505\n",
      "\tnew edge:\t 1998 -- 2143\n",
      "\tnew edge:\t 2006 -- 1772\n",
      "\tedge removed:\t 2035 -- 788\n",
      "\tnew edge:\t 2054 -- 661\n",
      "\tnew edge:\t 2061 -- 924\n",
      "\tnew edge:\t 2079 -- 2200\n",
      "\tedge removed:\t 2105 -- 125\n",
      "\tnew edge:\t 2141 -- 1323\n",
      "\tnew edge:\t 2143 -- 155\n",
      "\tnew edge:\t 2174 -- 2075\n",
      "\tnew edge:\t 2184 -- 1958\n",
      "\tnew edge:\t 2211 -- 1270\n",
      "\tnew edge:\t 2233 -- 281\n",
      "\tnew edge:\t 2245 -- 1281\n",
      "\tedge removed:\t 2247 -- 321\n",
      "\tnew edge:\t 2253 -- 359\n",
      "\tedge removed:\t 2303 -- 2304\n",
      "\tnew edge:\t 2334 -- 1278\n",
      "\tnew edge:\t 2353 -- 1995\n",
      "\tnew edge:\t 2416 -- 1773\n"
     ]
    }
   ],
   "source": [
    "prob_add = 0.050\n",
    "prob_remove = 0.005\n",
    "G_random = random_edges(G, prob_add, prob_remove)"
   ]
  },
  {
   "cell_type": "code",
   "execution_count": 11,
   "metadata": {
    "scrolled": true
   },
   "outputs": [
    {
     "data": {
      "text/html": [
       "<div>\n",
       "<style>\n",
       "    .dataframe thead tr:only-child th {\n",
       "        text-align: right;\n",
       "    }\n",
       "\n",
       "    .dataframe thead th {\n",
       "        text-align: left;\n",
       "    }\n",
       "\n",
       "    .dataframe tbody tr th {\n",
       "        vertical-align: top;\n",
       "    }\n",
       "</style>\n",
       "<table border=\"1\" class=\"dataframe\">\n",
       "  <thead>\n",
       "    <tr style=\"text-align: right;\">\n",
       "      <th>rank</th>\n",
       "      <th>node</th>\n",
       "      <th>score</th>\n",
       "      <th>in edges</th>\n",
       "      <th>out edges</th>\n",
       "    </tr>\n",
       "  </thead>\n",
       "  <tbody>\n",
       "    <tr>\n",
       "      <th>1</th>\n",
       "      <td>404</td>\n",
       "      <td>0.037217</td>\n",
       "      <td>10</td>\n",
       "      <td>0</td>\n",
       "    </tr>\n",
       "    <tr>\n",
       "      <th>2</th>\n",
       "      <td>77</td>\n",
       "      <td>0.019175</td>\n",
       "      <td>120</td>\n",
       "      <td>3</td>\n",
       "    </tr>\n",
       "    <tr>\n",
       "      <th>3</th>\n",
       "      <td>195</td>\n",
       "      <td>0.017076</td>\n",
       "      <td>80</td>\n",
       "      <td>1</td>\n",
       "    </tr>\n",
       "    <tr>\n",
       "      <th>4</th>\n",
       "      <td>728</td>\n",
       "      <td>0.014310</td>\n",
       "      <td>10</td>\n",
       "      <td>0</td>\n",
       "    </tr>\n",
       "    <tr>\n",
       "      <th>5</th>\n",
       "      <td>36</td>\n",
       "      <td>0.010727</td>\n",
       "      <td>168</td>\n",
       "      <td>5</td>\n",
       "    </tr>\n",
       "  </tbody>\n",
       "</table>\n",
       "</div>"
      ],
      "text/plain": [
       "rank node     score  in edges  out edges\n",
       "1     404  0.037217        10          0\n",
       "2      77  0.019175       120          3\n",
       "3     195  0.017076        80          1\n",
       "4     728  0.014310        10          0\n",
       "5      36  0.010727       168          5"
      ]
     },
     "execution_count": 11,
     "metadata": {},
     "output_type": "execute_result"
    }
   ],
   "source": [
    "pr_random = calc_pagerank(G_random)\n",
    "df_random = create_dataframe(pr_random)\n",
    "df_random.head()"
   ]
  },
  {
   "cell_type": "code",
   "execution_count": 12,
   "metadata": {},
   "outputs": [],
   "source": [
    "#randomly add and remove nodes\n",
    "#Edge Copying Model (slide 51 of Week6-SNA-Props)\n",
    "def random_nodes(G, prob_select):\n",
    "    #k is number of edges to be added, random integer 1 between 5\n",
    "    #select k random vertices\n",
    "    k = random.randint(1,5)\n",
    "    #add node to graph\n",
    "    max_number_nodes = nx.number_of_nodes(G)\n",
    "    new_node = max_number_nodes + 1\n",
    "    G.add_node(new_node)\n",
    "    list_of_nodes = nx.nodes(G)\n",
    "    k_random_selected_nodes = []\n",
    "    if random.random() < prob_select:\n",
    "        #select random vertice with probability prob_select\n",
    "        #to-do: do this until we have k-nodes in k_random_selected_nodes\n",
    "        k_random_selected_nodes.append(random.choice(list_of_nodes))\n",
    "    #todo: add edges with prob 1-prob_select from the just \n",
    "    #added new_node and the nodes that are in k_random_selected_nodes"
   ]
  }
 ],
 "metadata": {
  "kernelspec": {
   "display_name": "Python 3",
   "language": "python",
   "name": "python3"
  },
  "language_info": {
   "codemirror_mode": {
    "name": "ipython",
    "version": 3
   },
   "file_extension": ".py",
   "mimetype": "text/x-python",
   "name": "python",
   "nbconvert_exporter": "python",
   "pygments_lexer": "ipython3",
   "version": "3.6.3"
  }
 },
 "nbformat": 4,
 "nbformat_minor": 2
}
