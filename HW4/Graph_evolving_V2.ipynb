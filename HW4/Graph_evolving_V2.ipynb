{
 "cells": [
  {
   "cell_type": "markdown",
   "metadata": {},
   "source": [
    "# 1b Graph evolving"
   ]
  },
  {
   "cell_type": "code",
   "execution_count": 1,
   "metadata": {
    "collapsed": true
   },
   "outputs": [],
   "source": [
    "import networkx as nx\n",
    "import plotly.plotly as py\n",
    "import plotly.figure_factory as ff\n",
    "import pandas as pd"
   ]
  },
  {
   "cell_type": "markdown",
   "metadata": {},
   "source": [
    "Load edge list and create a graph"
   ]
  },
  {
   "cell_type": "code",
   "execution_count": 2,
   "metadata": {
    "collapsed": true
   },
   "outputs": [],
   "source": [
    "fh = open(\"canvas/hamster.edgelist\", 'rb')\n",
    "G = nx.read_edgelist(fh, create_using=nx.DiGraph())\n",
    "fh.close()"
   ]
  },
  {
   "cell_type": "markdown",
   "metadata": {},
   "source": [
    "Next we run the pagerank algorithm with a dampening parameter of 0.85. The dampening parameter represents the likelyhood of clicking a link on the webpage. With a dampening parameter of 0.85 we indicate that there is a 85% of clicking a link on the webpage and 15% of going to a random other node in the graph. We calculate the page rank using the power iteration method."
   ]
  },
  {
   "cell_type": "code",
   "execution_count": 3,
   "metadata": {
    "collapsed": true
   },
   "outputs": [],
   "source": [
    "def calc_pagerank(G, alpha = 0.85):\n",
    "    return nx.pagerank(G, alpha=0.85)"
   ]
  },
  {
   "cell_type": "code",
   "execution_count": 4,
   "metadata": {
    "collapsed": true
   },
   "outputs": [],
   "source": [
    "pr_origin = calc_pagerank(G)"
   ]
  },
  {
   "cell_type": "code",
   "execution_count": 5,
   "metadata": {
    "collapsed": true,
    "scrolled": false
   },
   "outputs": [],
   "source": [
    "def create_dataframe(pr):\n",
    "    df_edge_in = pd.DataFrame(list(G.in_degree()), columns=['node', 'in edges'])\n",
    "    df_edge_out = pd.DataFrame(list(G.out_degree()), columns=['node', 'out edges'])\n",
    "    df_rank = pd.DataFrame(list(pr.items()), columns=['node', 'score']).sort_values(by=['score'], ascending=False)\n",
    "    df_temp = pd.merge(df_rank, df_edge_in, on='node')\n",
    "    df_total = pd.merge(df_temp, df_edge_out, on='node')\n",
    "    df_total.index = df_total.index + 1\n",
    "    df_total.columns.name = 'rank'\n",
    "    return df_total"
   ]
  },
  {
   "cell_type": "code",
   "execution_count": 6,
   "metadata": {},
   "outputs": [
    {
     "data": {
      "text/html": [
       "<div>\n",
       "<style scoped>\n",
       "    .dataframe tbody tr th:only-of-type {\n",
       "        vertical-align: middle;\n",
       "    }\n",
       "\n",
       "    .dataframe tbody tr th {\n",
       "        vertical-align: top;\n",
       "    }\n",
       "\n",
       "    .dataframe thead th {\n",
       "        text-align: right;\n",
       "    }\n",
       "</style>\n",
       "<table border=\"1\" class=\"dataframe\">\n",
       "  <thead>\n",
       "    <tr style=\"text-align: right;\">\n",
       "      <th>rank</th>\n",
       "      <th>node</th>\n",
       "      <th>score</th>\n",
       "      <th>in edges</th>\n",
       "      <th>out edges</th>\n",
       "    </tr>\n",
       "  </thead>\n",
       "  <tbody>\n",
       "    <tr>\n",
       "      <th>1</th>\n",
       "      <td>404</td>\n",
       "      <td>0.042793</td>\n",
       "      <td>10</td>\n",
       "      <td>0</td>\n",
       "    </tr>\n",
       "    <tr>\n",
       "      <th>2</th>\n",
       "      <td>195</td>\n",
       "      <td>0.019961</td>\n",
       "      <td>80</td>\n",
       "      <td>1</td>\n",
       "    </tr>\n",
       "    <tr>\n",
       "      <th>3</th>\n",
       "      <td>77</td>\n",
       "      <td>0.018628</td>\n",
       "      <td>121</td>\n",
       "      <td>2</td>\n",
       "    </tr>\n",
       "    <tr>\n",
       "      <th>4</th>\n",
       "      <td>728</td>\n",
       "      <td>0.015530</td>\n",
       "      <td>10</td>\n",
       "      <td>0</td>\n",
       "    </tr>\n",
       "    <tr>\n",
       "      <th>5</th>\n",
       "      <td>36</td>\n",
       "      <td>0.011117</td>\n",
       "      <td>168</td>\n",
       "      <td>5</td>\n",
       "    </tr>\n",
       "  </tbody>\n",
       "</table>\n",
       "</div>"
      ],
      "text/plain": [
       "rank node     score  in edges  out edges\n",
       "1     404  0.042793        10          0\n",
       "2     195  0.019961        80          1\n",
       "3      77  0.018628       121          2\n",
       "4     728  0.015530        10          0\n",
       "5      36  0.011117       168          5"
      ]
     },
     "execution_count": 6,
     "metadata": {},
     "output_type": "execute_result"
    }
   ],
   "source": [
    "df_origin = create_dataframe(pr_origin)\n",
    "df_origin.head()"
   ]
  },
  {
   "cell_type": "markdown",
   "metadata": {},
   "source": [
    "It looks like node 404 is the best ranked page, following by 195 and 77. This means that these pages should be shown at the top by search engines."
   ]
  },
  {
   "cell_type": "code",
   "execution_count": 7,
   "metadata": {
    "scrolled": true
   },
   "outputs": [
    {
     "data": {
      "text/html": [
       "<div>\n",
       "<style scoped>\n",
       "    .dataframe tbody tr th:only-of-type {\n",
       "        vertical-align: middle;\n",
       "    }\n",
       "\n",
       "    .dataframe tbody tr th {\n",
       "        vertical-align: top;\n",
       "    }\n",
       "\n",
       "    .dataframe thead th {\n",
       "        text-align: right;\n",
       "    }\n",
       "</style>\n",
       "<table border=\"1\" class=\"dataframe\">\n",
       "  <thead>\n",
       "    <tr style=\"text-align: right;\">\n",
       "      <th>rank</th>\n",
       "      <th>node</th>\n",
       "      <th>score</th>\n",
       "      <th>in edges</th>\n",
       "      <th>out edges</th>\n",
       "    </tr>\n",
       "  </thead>\n",
       "  <tbody>\n",
       "    <tr>\n",
       "      <th>2422</th>\n",
       "      <td>1746</td>\n",
       "      <td>0.000113</td>\n",
       "      <td>0</td>\n",
       "      <td>3</td>\n",
       "    </tr>\n",
       "    <tr>\n",
       "      <th>2423</th>\n",
       "      <td>1748</td>\n",
       "      <td>0.000113</td>\n",
       "      <td>0</td>\n",
       "      <td>4</td>\n",
       "    </tr>\n",
       "    <tr>\n",
       "      <th>2424</th>\n",
       "      <td>1749</td>\n",
       "      <td>0.000113</td>\n",
       "      <td>0</td>\n",
       "      <td>3</td>\n",
       "    </tr>\n",
       "    <tr>\n",
       "      <th>2425</th>\n",
       "      <td>1751</td>\n",
       "      <td>0.000113</td>\n",
       "      <td>0</td>\n",
       "      <td>2</td>\n",
       "    </tr>\n",
       "    <tr>\n",
       "      <th>2426</th>\n",
       "      <td>2426</td>\n",
       "      <td>0.000113</td>\n",
       "      <td>0</td>\n",
       "      <td>8</td>\n",
       "    </tr>\n",
       "  </tbody>\n",
       "</table>\n",
       "</div>"
      ],
      "text/plain": [
       "rank  node     score  in edges  out edges\n",
       "2422  1746  0.000113         0          3\n",
       "2423  1748  0.000113         0          4\n",
       "2424  1749  0.000113         0          3\n",
       "2425  1751  0.000113         0          2\n",
       "2426  2426  0.000113         0          8"
      ]
     },
     "execution_count": 7,
     "metadata": {},
     "output_type": "execute_result"
    }
   ],
   "source": [
    "df_origin.tail()"
   ]
  },
  {
   "cell_type": "markdown",
   "metadata": {},
   "source": [
    "As expected the higher ranked pages have more incoming edges than the lower ranked pages. Looking at the amount of incoming edges for the 15 best ranked pages it is clear that the the rank of the source of the incoming edges is more important than the amount of incoming edges."
   ]
  },
  {
   "cell_type": "code",
   "execution_count": 8,
   "metadata": {
    "collapsed": true
   },
   "outputs": [],
   "source": [
    "import networkx as nx\n",
    "import random\n",
    "import matplotlib.pyplot as plt"
   ]
  },
  {
   "cell_type": "code",
   "execution_count": 9,
   "metadata": {
    "collapsed": true
   },
   "outputs": [],
   "source": [
    "#add new connection to random other node with probability prob_add\n",
    "#remove random connection of node with probability prob_remove\n",
    "def random_edges(G, prob_add, prob_remove):\n",
    "    add_edges = []\n",
    "    removed_edges = []\n",
    "    \n",
    "    for node in G.nodes():\n",
    "        #find notes that this one is connected to\n",
    "        connected = [to for (fr, to) in G.edges(node)]\n",
    "        #find candidates for new edges\n",
    "        unconnected = [n for n in G.nodes() if not n in connected]\n",
    "        \n",
    "        #randomly add new edge to the selected node\n",
    "        if len(unconnected): #only add when unconnected is not empty\n",
    "            if random.random() < prob_add:\n",
    "                new = random.choice(unconnected)\n",
    "                G.add_edge(node, new)\n",
    "                print(\"\\tnew edge:\\t {} -- {}\".format(node, new))\n",
    "                add_edges.append( (node, new) )\n",
    "                #update lists, in case both add and remove done in same cycle\n",
    "                unconnected.remove(new)    \n",
    "                connected.append(new)\n",
    "                \n",
    "        if len(connected):\n",
    "            if random.random() < prob_remove:\n",
    "                remove = random.choice(connected)\n",
    "                G.remove_edge(node, remove)\n",
    "                print(\"\\tedge removed:\\t {} -- {}\".format(node, remove))\n",
    "                removed_edges.append((node, remove))\n",
    "                #update lists, in case both add and remove done in same cycle\n",
    "                connected.remove(remove)\n",
    "                unconnected.append(remove)\n",
    "    return G"
   ]
  },
  {
   "cell_type": "code",
   "execution_count": 10,
   "metadata": {},
   "outputs": [
    {
     "name": "stdout",
     "output_type": "stream",
     "text": [
      "\tnew edge:\t 5 -- 1429\n",
      "\tnew edge:\t 15 -- 1303\n",
      "\tnew edge:\t 16 -- 63\n",
      "\tnew edge:\t 24 -- 1356\n",
      "\tedge removed:\t 32 -- 53\n",
      "\tnew edge:\t 33 -- 2325\n",
      "\tnew edge:\t 47 -- 923\n",
      "\tnew edge:\t 104 -- 354\n",
      "\tnew edge:\t 127 -- 1086\n",
      "\tnew edge:\t 132 -- 1522\n",
      "\tnew edge:\t 152 -- 950\n",
      "\tnew edge:\t 159 -- 1392\n",
      "\tnew edge:\t 188 -- 244\n",
      "\tnew edge:\t 216 -- 2213\n",
      "\tnew edge:\t 217 -- 1720\n",
      "\tnew edge:\t 226 -- 193\n",
      "\tnew edge:\t 239 -- 1591\n",
      "\tnew edge:\t 339 -- 819\n",
      "\tnew edge:\t 355 -- 1815\n",
      "\tnew edge:\t 376 -- 1868\n",
      "\tnew edge:\t 396 -- 2406\n",
      "\tnew edge:\t 416 -- 1129\n",
      "\tedge removed:\t 431 -- 159\n",
      "\tnew edge:\t 456 -- 455\n",
      "\tnew edge:\t 470 -- 1508\n",
      "\tnew edge:\t 476 -- 1907\n",
      "\tnew edge:\t 527 -- 1930\n",
      "\tnew edge:\t 528 -- 415\n",
      "\tnew edge:\t 549 -- 566\n",
      "\tnew edge:\t 566 -- 468\n",
      "\tnew edge:\t 587 -- 330\n",
      "\tnew edge:\t 606 -- 114\n",
      "\tnew edge:\t 620 -- 1360\n",
      "\tedge removed:\t 657 -- 71\n",
      "\tnew edge:\t 669 -- 814\n",
      "\tnew edge:\t 689 -- 334\n",
      "\tnew edge:\t 725 -- 1365\n",
      "\tnew edge:\t 733 -- 1462\n",
      "\tnew edge:\t 806 -- 2080\n",
      "\tnew edge:\t 817 -- 448\n",
      "\tnew edge:\t 828 -- 1438\n",
      "\tnew edge:\t 851 -- 17\n",
      "\tnew edge:\t 860 -- 1911\n",
      "\tnew edge:\t 868 -- 2316\n",
      "\tnew edge:\t 898 -- 1816\n",
      "\tnew edge:\t 980 -- 1852\n",
      "\tnew edge:\t 991 -- 1964\n",
      "\tnew edge:\t 1009 -- 1503\n",
      "\tnew edge:\t 1020 -- 627\n",
      "\tnew edge:\t 1044 -- 2194\n",
      "\tnew edge:\t 1064 -- 635\n",
      "\tnew edge:\t 1078 -- 1028\n",
      "\tnew edge:\t 1079 -- 1020\n",
      "\tnew edge:\t 1088 -- 1819\n",
      "\tnew edge:\t 1098 -- 1771\n",
      "\tnew edge:\t 1107 -- 2192\n",
      "\tnew edge:\t 1117 -- 506\n",
      "\tnew edge:\t 1120 -- 1116\n",
      "\tnew edge:\t 1149 -- 604\n",
      "\tnew edge:\t 1189 -- 1038\n",
      "\tnew edge:\t 1241 -- 1151\n",
      "\tnew edge:\t 1268 -- 555\n",
      "\tnew edge:\t 1280 -- 1552\n",
      "\tnew edge:\t 1309 -- 1900\n",
      "\tnew edge:\t 1326 -- 1413\n",
      "\tnew edge:\t 1331 -- 2193\n",
      "\tnew edge:\t 1357 -- 1933\n",
      "\tnew edge:\t 1358 -- 768\n",
      "\tnew edge:\t 1384 -- 2016\n",
      "\tnew edge:\t 1388 -- 51\n",
      "\tnew edge:\t 1403 -- 974\n",
      "\tnew edge:\t 1409 -- 395\n",
      "\tnew edge:\t 1420 -- 608\n",
      "\tnew edge:\t 1423 -- 1659\n",
      "\tnew edge:\t 1441 -- 1838\n",
      "\tnew edge:\t 1447 -- 907\n",
      "\tnew edge:\t 1463 -- 442\n",
      "\tnew edge:\t 1472 -- 1663\n",
      "\tnew edge:\t 1500 -- 1783\n",
      "\tnew edge:\t 1567 -- 1463\n",
      "\tnew edge:\t 1577 -- 1166\n",
      "\tnew edge:\t 1580 -- 1112\n",
      "\tnew edge:\t 1584 -- 196\n",
      "\tnew edge:\t 1654 -- 1280\n",
      "\tnew edge:\t 1680 -- 1891\n",
      "\tedge removed:\t 1701 -- 1704\n",
      "\tnew edge:\t 1731 -- 1161\n",
      "\tnew edge:\t 1738 -- 1466\n",
      "\tnew edge:\t 1778 -- 1536\n",
      "\tedge removed:\t 1779 -- 158\n",
      "\tnew edge:\t 1790 -- 250\n",
      "\tnew edge:\t 1796 -- 1901\n",
      "\tnew edge:\t 1806 -- 1035\n",
      "\tnew edge:\t 1827 -- 571\n",
      "\tnew edge:\t 1831 -- 474\n",
      "\tnew edge:\t 1851 -- 61\n",
      "\tnew edge:\t 1865 -- 275\n",
      "\tnew edge:\t 1916 -- 177\n",
      "\tnew edge:\t 1937 -- 897\n",
      "\tnew edge:\t 1952 -- 11\n",
      "\tnew edge:\t 1965 -- 1630\n",
      "\tedge removed:\t 1980 -- 853\n",
      "\tnew edge:\t 1986 -- 1961\n",
      "\tnew edge:\t 2004 -- 1131\n",
      "\tnew edge:\t 2050 -- 312\n",
      "\tnew edge:\t 2060 -- 1140\n",
      "\tnew edge:\t 2094 -- 103\n",
      "\tnew edge:\t 2102 -- 874\n",
      "\tnew edge:\t 2112 -- 1055\n",
      "\tnew edge:\t 2134 -- 446\n",
      "\tnew edge:\t 2193 -- 1500\n",
      "\tnew edge:\t 2196 -- 2334\n",
      "\tnew edge:\t 2205 -- 1597\n",
      "\tnew edge:\t 2211 -- 2038\n",
      "\tnew edge:\t 2233 -- 1136\n",
      "\tnew edge:\t 2255 -- 2045\n",
      "\tnew edge:\t 2319 -- 536\n",
      "\tnew edge:\t 2338 -- 1150\n",
      "\tnew edge:\t 2360 -- 696\n",
      "\tnew edge:\t 2387 -- 2007\n",
      "\tnew edge:\t 2408 -- 819\n",
      "\tnew edge:\t 2421 -- 962\n"
     ]
    }
   ],
   "source": [
    "prob_add = 0.050\n",
    "prob_remove = 0.005\n",
    "G_random = random_edges(G, prob_add, prob_remove)"
   ]
  },
  {
   "cell_type": "code",
   "execution_count": 11,
   "metadata": {
    "scrolled": true
   },
   "outputs": [
    {
     "data": {
      "text/html": [
       "<div>\n",
       "<style scoped>\n",
       "    .dataframe tbody tr th:only-of-type {\n",
       "        vertical-align: middle;\n",
       "    }\n",
       "\n",
       "    .dataframe tbody tr th {\n",
       "        vertical-align: top;\n",
       "    }\n",
       "\n",
       "    .dataframe thead th {\n",
       "        text-align: right;\n",
       "    }\n",
       "</style>\n",
       "<table border=\"1\" class=\"dataframe\">\n",
       "  <thead>\n",
       "    <tr style=\"text-align: right;\">\n",
       "      <th>rank</th>\n",
       "      <th>node</th>\n",
       "      <th>score</th>\n",
       "      <th>in edges</th>\n",
       "      <th>out edges</th>\n",
       "    </tr>\n",
       "  </thead>\n",
       "  <tbody>\n",
       "    <tr>\n",
       "      <th>1</th>\n",
       "      <td>404</td>\n",
       "      <td>0.041393</td>\n",
       "      <td>10</td>\n",
       "      <td>0</td>\n",
       "    </tr>\n",
       "    <tr>\n",
       "      <th>2</th>\n",
       "      <td>195</td>\n",
       "      <td>0.019459</td>\n",
       "      <td>80</td>\n",
       "      <td>1</td>\n",
       "    </tr>\n",
       "    <tr>\n",
       "      <th>3</th>\n",
       "      <td>77</td>\n",
       "      <td>0.017877</td>\n",
       "      <td>121</td>\n",
       "      <td>2</td>\n",
       "    </tr>\n",
       "    <tr>\n",
       "      <th>4</th>\n",
       "      <td>728</td>\n",
       "      <td>0.014517</td>\n",
       "      <td>10</td>\n",
       "      <td>0</td>\n",
       "    </tr>\n",
       "    <tr>\n",
       "      <th>5</th>\n",
       "      <td>36</td>\n",
       "      <td>0.010870</td>\n",
       "      <td>168</td>\n",
       "      <td>5</td>\n",
       "    </tr>\n",
       "  </tbody>\n",
       "</table>\n",
       "</div>"
      ],
      "text/plain": [
       "rank node     score  in edges  out edges\n",
       "1     404  0.041393        10          0\n",
       "2     195  0.019459        80          1\n",
       "3      77  0.017877       121          2\n",
       "4     728  0.014517        10          0\n",
       "5      36  0.010870       168          5"
      ]
     },
     "execution_count": 11,
     "metadata": {},
     "output_type": "execute_result"
    }
   ],
   "source": [
    "pr_random = calc_pagerank(G_random)\n",
    "df_random = create_dataframe(pr_random)\n",
    "df_random.head()"
   ]
  },
  {
   "cell_type": "code",
   "execution_count": 12,
   "metadata": {
    "collapsed": true
   },
   "outputs": [],
   "source": [
    "#randomly add and remove nodes\n",
    "#Edge Copying Model (slide 51 of Week6-SNA-Props)\n",
    "def random_nodes(G, prob_select):\n",
    "    #k is number of edges to be added, random integer 1 between 5\n",
    "    #select k random vertices\n",
    "    k = random.randint(1,5)\n",
    "    #add node to graph\n",
    "    max_number_nodes = nx.number_of_nodes(G)\n",
    "    new_node = max_number_nodes + 1\n",
    "    G.add_node(new_node)\n",
    "    list_of_nodes = nx.nodes(G)\n",
    "    k_random_selected_nodes = []\n",
    "    if random.random() < prob_select:\n",
    "        #select random vertice with probability prob_select\n",
    "        #to-do: do this until we have k-nodes in k_random_selected_nodes\n",
    "        k_random_selected_nodes.append(random.choice(list_of_nodes))\n",
    "    #todo: add edges with prob 1-prob_select from the just \n",
    "    #added new_node and the nodes that are in k_random_selected_nodes"
   ]
  },
  {
   "cell_type": "markdown",
   "metadata": {},
   "source": [
    "### Evolving Graphs: Removal and Addition of Edges proportional to the Node Degree"
   ]
  },
  {
   "cell_type": "code",
   "execution_count": 64,
   "metadata": {},
   "outputs": [],
   "source": [
    "G_stoh_random = nx.stochastic_graph(G)"
   ]
  },
  {
   "cell_type": "code",
   "execution_count": 65,
   "metadata": {},
   "outputs": [
    {
     "data": {
      "text/html": [
       "<div>\n",
       "<style scoped>\n",
       "    .dataframe tbody tr th:only-of-type {\n",
       "        vertical-align: middle;\n",
       "    }\n",
       "\n",
       "    .dataframe tbody tr th {\n",
       "        vertical-align: top;\n",
       "    }\n",
       "\n",
       "    .dataframe thead th {\n",
       "        text-align: right;\n",
       "    }\n",
       "</style>\n",
       "<table border=\"1\" class=\"dataframe\">\n",
       "  <thead>\n",
       "    <tr style=\"text-align: right;\">\n",
       "      <th>rank</th>\n",
       "      <th>node</th>\n",
       "      <th>score</th>\n",
       "      <th>in edges</th>\n",
       "      <th>out edges</th>\n",
       "    </tr>\n",
       "  </thead>\n",
       "  <tbody>\n",
       "    <tr>\n",
       "      <th>1</th>\n",
       "      <td>404</td>\n",
       "      <td>0.041393</td>\n",
       "      <td>10</td>\n",
       "      <td>0</td>\n",
       "    </tr>\n",
       "    <tr>\n",
       "      <th>2</th>\n",
       "      <td>195</td>\n",
       "      <td>0.019459</td>\n",
       "      <td>80</td>\n",
       "      <td>1</td>\n",
       "    </tr>\n",
       "    <tr>\n",
       "      <th>3</th>\n",
       "      <td>77</td>\n",
       "      <td>0.017877</td>\n",
       "      <td>121</td>\n",
       "      <td>2</td>\n",
       "    </tr>\n",
       "    <tr>\n",
       "      <th>4</th>\n",
       "      <td>728</td>\n",
       "      <td>0.014517</td>\n",
       "      <td>10</td>\n",
       "      <td>0</td>\n",
       "    </tr>\n",
       "    <tr>\n",
       "      <th>5</th>\n",
       "      <td>36</td>\n",
       "      <td>0.010870</td>\n",
       "      <td>168</td>\n",
       "      <td>5</td>\n",
       "    </tr>\n",
       "  </tbody>\n",
       "</table>\n",
       "</div>"
      ],
      "text/plain": [
       "rank node     score  in edges  out edges\n",
       "1     404  0.041393        10          0\n",
       "2     195  0.019459        80          1\n",
       "3      77  0.017877       121          2\n",
       "4     728  0.014517        10          0\n",
       "5      36  0.010870       168          5"
      ]
     },
     "execution_count": 65,
     "metadata": {},
     "output_type": "execute_result"
    }
   ],
   "source": [
    "pagerank_stoh_random = calc_pagerank(G_stoh_random)\n",
    "df_stoh_random = create_dataframe(pagerank_stoh_random)\n",
    "df_stoh_random.head()"
   ]
  },
  {
   "cell_type": "code",
   "execution_count": 69,
   "metadata": {},
   "outputs": [],
   "source": [
    "g_diff = nx.symmetric_difference(G, G_stoh_random)\n",
    "# create_dataframe(calc_pagerank(g_diff)).head(10)"
   ]
  },
  {
   "cell_type": "code",
   "execution_count": 63,
   "metadata": {},
   "outputs": [],
   "source": [
    "#nx.Graph.adjacency_list(g_diff)"
   ]
  },
  {
   "cell_type": "markdown",
   "metadata": {},
   "source": [
    "### Evolving Graphs: Removal and Addition of Edges proportional to the Node Degree"
   ]
  }
 ],
 "metadata": {
  "kernelspec": {
   "display_name": "Python 3",
   "language": "python",
   "name": "python3"
  },
  "language_info": {
   "codemirror_mode": {
    "name": "ipython",
    "version": 3
   },
   "file_extension": ".py",
   "mimetype": "text/x-python",
   "name": "python",
   "nbconvert_exporter": "python",
   "pygments_lexer": "ipython3",
   "version": "3.6.3"
  }
 },
 "nbformat": 4,
 "nbformat_minor": 2
}
