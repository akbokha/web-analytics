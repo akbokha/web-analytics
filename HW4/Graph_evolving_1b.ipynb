{
 "cells": [
  {
   "cell_type": "markdown",
   "metadata": {},
   "source": [
    "# Task 1: PageRank Stability on Evolving Graphs\n",
    "## Graph evolution and PageRank values comparison\n",
    "### Joris & Abdel"
   ]
  },
  {
   "cell_type": "markdown",
   "metadata": {},
   "source": [
    "### Imports and general set-up"
   ]
  },
  {
   "cell_type": "code",
   "execution_count": 1,
   "metadata": {
    "collapsed": true
   },
   "outputs": [],
   "source": [
    "import networkx as nx\n",
    "import plotly.plotly as py\n",
    "import plotly.figure_factory as ff\n",
    "import pandas as pd\n",
    "import numpy as np\n",
    "import random\n",
    "import matplotlib.pyplot as plt"
   ]
  },
  {
   "cell_type": "markdown",
   "metadata": {},
   "source": [
    "Load edge list and create a graph"
   ]
  },
  {
   "cell_type": "code",
   "execution_count": 2,
   "metadata": {
    "collapsed": true
   },
   "outputs": [],
   "source": [
    "fh = open(\"canvas/hamster.edgelist\", 'rb')\n",
    "G = nx.read_edgelist(fh, create_using=nx.DiGraph())\n",
    "fh.close()"
   ]
  },
  {
   "cell_type": "code",
   "execution_count": 3,
   "metadata": {
    "collapsed": true
   },
   "outputs": [],
   "source": [
    "np.random.seed(98)\n",
    "random.seed(99)"
   ]
  },
  {
   "cell_type": "code",
   "execution_count": 4,
   "metadata": {
    "collapsed": true
   },
   "outputs": [],
   "source": [
    "def calc_pagerank(G_in, alpha = 0.85):\n",
    "    return nx.pagerank(G_in, alpha=0.85)"
   ]
  },
  {
   "cell_type": "code",
   "execution_count": 5,
   "metadata": {
    "collapsed": true
   },
   "outputs": [],
   "source": [
    "pr_origin = calc_pagerank(G)"
   ]
  },
  {
   "cell_type": "code",
   "execution_count": 6,
   "metadata": {
    "collapsed": true,
    "scrolled": false
   },
   "outputs": [],
   "source": [
    "def create_dataframe(pr, G_in):\n",
    "    df_edge_in = pd.DataFrame(list(G_in.in_degree()), columns=['node', 'in edges'])\n",
    "    df_edge_out = pd.DataFrame(list(G_in.out_degree()), columns=['node', 'out edges'])\n",
    "    df_rank = pd.DataFrame(list(pr.items()), columns=['node', 'score']).sort_values(by=['score'], ascending=False)\n",
    "    df_temp = pd.merge(df_rank, df_edge_in, on='node')\n",
    "    df_total = pd.merge(df_temp, df_edge_out, on='node')\n",
    "    df_total.index = df_total.index + 1\n",
    "    df_total.columns.name = 'rank'\n",
    "    return df_total"
   ]
  },
  {
   "cell_type": "code",
   "execution_count": 7,
   "metadata": {},
   "outputs": [
    {
     "data": {
      "text/html": [
       "<div>\n",
       "<style scoped>\n",
       "    .dataframe tbody tr th:only-of-type {\n",
       "        vertical-align: middle;\n",
       "    }\n",
       "\n",
       "    .dataframe tbody tr th {\n",
       "        vertical-align: top;\n",
       "    }\n",
       "\n",
       "    .dataframe thead th {\n",
       "        text-align: right;\n",
       "    }\n",
       "</style>\n",
       "<table border=\"1\" class=\"dataframe\">\n",
       "  <thead>\n",
       "    <tr style=\"text-align: right;\">\n",
       "      <th>rank</th>\n",
       "      <th>node</th>\n",
       "      <th>score</th>\n",
       "      <th>in edges</th>\n",
       "      <th>out edges</th>\n",
       "    </tr>\n",
       "  </thead>\n",
       "  <tbody>\n",
       "    <tr>\n",
       "      <th>1</th>\n",
       "      <td>404</td>\n",
       "      <td>0.042793</td>\n",
       "      <td>10</td>\n",
       "      <td>0</td>\n",
       "    </tr>\n",
       "    <tr>\n",
       "      <th>2</th>\n",
       "      <td>195</td>\n",
       "      <td>0.019961</td>\n",
       "      <td>80</td>\n",
       "      <td>1</td>\n",
       "    </tr>\n",
       "    <tr>\n",
       "      <th>3</th>\n",
       "      <td>77</td>\n",
       "      <td>0.018628</td>\n",
       "      <td>121</td>\n",
       "      <td>2</td>\n",
       "    </tr>\n",
       "    <tr>\n",
       "      <th>4</th>\n",
       "      <td>728</td>\n",
       "      <td>0.015530</td>\n",
       "      <td>10</td>\n",
       "      <td>0</td>\n",
       "    </tr>\n",
       "    <tr>\n",
       "      <th>5</th>\n",
       "      <td>36</td>\n",
       "      <td>0.011117</td>\n",
       "      <td>168</td>\n",
       "      <td>5</td>\n",
       "    </tr>\n",
       "  </tbody>\n",
       "</table>\n",
       "</div>"
      ],
      "text/plain": [
       "rank node     score  in edges  out edges\n",
       "1     404  0.042793        10          0\n",
       "2     195  0.019961        80          1\n",
       "3      77  0.018628       121          2\n",
       "4     728  0.015530        10          0\n",
       "5      36  0.011117       168          5"
      ]
     },
     "execution_count": 7,
     "metadata": {},
     "output_type": "execute_result"
    }
   ],
   "source": [
    "df_origin = create_dataframe(pr_origin, G)\n",
    "df_origin.head()"
   ]
  },
  {
   "cell_type": "markdown",
   "metadata": {},
   "source": [
    "It looks like node 404 is the best ranked page, following by 195 and 77. This means that these pages should be shown at the top by search engines."
   ]
  },
  {
   "cell_type": "markdown",
   "metadata": {},
   "source": [
    "### <font color=\"red\">To do: Update the PageRank value calculation and analysis in this notebook with the extended/corrected/completed <i>(this still needs to be done)</i> version of the notebook of 1a</font>"
   ]
  },
  {
   "cell_type": "markdown",
   "metadata": {},
   "source": [
    "## 1b. Graph Evolution and Pagerank values comparison"
   ]
  },
  {
   "cell_type": "markdown",
   "metadata": {},
   "source": [
    "In this section the effects of graph evolutions are going to be studied in relation to an evaluation of the stability of PageRank. In particular, various methodologies are going to be devised and exploited in which graphical represesentations of a social network are going to be altered by the removal and/or addition of nodes and edges in these graphs. The original graph $G$, represents a social network of friendships and familylinks between users of the website <a>hamsterster.com</a>. Various functions which make it possible to change this graph are going to be given and explained. Some of these functions focus on the addition or removal of edges, while other focus on nodes. Some of these functions are going to do make choices at random, while others are also going to exploit randomness, but proporotional to the node degree and other statistics. The choice is made to analyze the effects of the functions which evolve the graphs on the original graph $G$. So the evaluation of the various functions which add/remove graphs is going to be done starting from the full and original graph $G$ for each of the given functions. "
   ]
  },
  {
   "cell_type": "markdown",
   "metadata": {},
   "source": [
    "<i>Note: A social network would naturally be described with an undirected graph. The social network data is, however, treated as a combination of target and source id's which faciliate the usage of this data as a directed graph for the sake of implementing and testing graph evolutions methods to evaluate the stability of PageRank. No implications or conclusions should be directly related to the actual structure of the social networks of the website</i>"
   ]
  },
  {
   "cell_type": "markdown",
   "metadata": {},
   "source": [
    "### A. Removing and adding edges uniformly at random"
   ]
  },
  {
   "cell_type": "markdown",
   "metadata": {},
   "source": [
    "For $n$ number of nodes do the following:\n",
    "* select 1 node uniformly at random\n",
    "* add or remove an incoming/outgoing at random "
   ]
  },
  {
   "cell_type": "code",
   "execution_count": 8,
   "metadata": {
    "collapsed": true
   },
   "outputs": [],
   "source": [
    "#add/remove edges for all the nodes uniformly at random\n",
    "def random_edges_uniform_random(G_in, number_of_nodes = 1):\n",
    "    list_of_nodes = list(G_in) # all the nodes\n",
    "    # select uniformly at random nodes of which we are going to add/remove edges\n",
    "    selected_nodes = list(np.random.choice(list_of_nodes, size = number_of_nodes, replace = False)) # default probability p is an uniform distribution\n",
    "    \n",
    "    for node in selected_nodes: \n",
    "        successors = list(G_in.successors(str(node))) # find the successors of this nodes\n",
    "        predecessors = list(G_in.predecessors(str(node))) # find the predecessors of this node\n",
    "        #find candidates for new edges\n",
    "        unconnected_to = [n for n in list(G_in.nodes()) if not n in successors] # no outgoing edge to these nodes\n",
    "        unconnected_from = [n for n in list(G_in.nodes()) if not n in predecessors] # no incoming edge from these nodes\n",
    "        \n",
    "        add = bool(random.getrandbits(1)) # randomly add or remove an edge of this node\n",
    "        incoming =  bool(random.getrandbits(1)) # randomly add an outgoing/incoming edge\n",
    "        if(add): # add an incoming/outgoing edge to node\n",
    "            if(incoming): # add incoming edge\n",
    "                if len(unconnected_from): #only add when unconnected_from is not empty\n",
    "                    new = random.choice(unconnected_from)\n",
    "                    G_in.add_edge(new, node)\n",
    "                    print(\"\\tnew edge:\\t {} --> {}\".format(new, node))\n",
    "                    unconnected_from.remove(new)\n",
    "                    predecessors.append(new)\n",
    "            else: # add outgoing edge:\n",
    "                if len(unconnected_to): #only add when unconnected_to is not empty\n",
    "                    new = random.choice(unconnected_to)\n",
    "                    G_in.add_edge(node, new)\n",
    "                    print(\"\\tnew edge:\\t {} --> {}\".format(node, new))\n",
    "                    unconnected_to.remove(new)    \n",
    "                    successors.append(new)\n",
    "        else: # remove\n",
    "            if(incoming): # remove incoming edge\n",
    "                if len(predecessors): #only remove when predecessors is not empty\n",
    "                    new = random.choice(predecessors)\n",
    "                    G_in.remove_edge(new, node)\n",
    "                    print(\"\\tremove edge:\\t {} --> {}\".format(new, node))\n",
    "                    predecessors.remove(new)\n",
    "                    unconnected_from.append(new)\n",
    "            else: # remove outgoing edge:\n",
    "                if len(successors): #only remove when successors is not empty\n",
    "                    new = random.choice(successors)\n",
    "                    G_in.remove_edge(node, new)\n",
    "                    print(\"\\tremove edge:\\t {} --> {}\".format(node, new))\n",
    "                    successors.remove(new)    \n",
    "                    unconnected_to.append(new)\n",
    "    return G_in"
   ]
  },
  {
   "cell_type": "code",
   "execution_count": 9,
   "metadata": {
    "scrolled": true
   },
   "outputs": [
    {
     "name": "stdout",
     "output_type": "stream",
     "text": [
      "\tremove edge:\t 1612 --> 817\n",
      "\tremove edge:\t 301 --> 303\n",
      "\tnew edge:\t 709 --> 1036\n",
      "\tnew edge:\t 1653 --> 2179\n",
      "\tnew edge:\t 2207 --> 1376\n",
      "\tremove edge:\t 2412 --> 2413\n",
      "\tremove edge:\t 648 --> 845\n",
      "\tnew edge:\t 889 --> 909\n",
      "\tnew edge:\t 1532 --> 2107\n",
      "\tnew edge:\t 541 --> 877\n",
      "\tremove edge:\t 2384 --> 2354\n",
      "\tremove edge:\t 2248 --> 305\n",
      "\tremove edge:\t 522 --> 523\n",
      "\tremove edge:\t 1887 --> 1889\n",
      "\tremove edge:\t 697 --> 728\n",
      "\tremove edge:\t 1801 --> 308\n",
      "\tnew edge:\t 2192 --> 1863\n",
      "\tremove edge:\t 1631 --> 1638\n",
      "\tnew edge:\t 2328 --> 1903\n",
      "\tnew edge:\t 1292 --> 1467\n",
      "\tremove edge:\t 1300 --> 249\n",
      "\tnew edge:\t 1810 --> 717\n",
      "\tnew edge:\t 728 --> 1889\n",
      "\tnew edge:\t 721 --> 1112\n",
      "\tremove edge:\t 1123 --> 421\n",
      "\tremove edge:\t 37 --> 60\n",
      "\tnew edge:\t 1234 --> 333\n",
      "\tnew edge:\t 189 --> 359\n",
      "\tremove edge:\t 1724 --> 1725\n",
      "\tremove edge:\t 964 --> 967\n",
      "\tnew edge:\t 1934 --> 825\n",
      "\tnew edge:\t 227 --> 460\n",
      "\tnew edge:\t 2049 --> 1817\n",
      "\tremove edge:\t 470 --> 958\n",
      "\tnew edge:\t 522 --> 736\n",
      "\tremove edge:\t 2094 --> 303\n",
      "\tremove edge:\t 54 --> 121\n",
      "\tremove edge:\t 830 --> 838\n",
      "\tnew edge:\t 1673 --> 1975\n",
      "\tremove edge:\t 1409 --> 1410\n",
      "\tremove edge:\t 588 --> 589\n",
      "\tnew edge:\t 1800 --> 1680\n",
      "\tremove edge:\t 1673 --> 1674\n",
      "\tnew edge:\t 1308 --> 1503\n",
      "\tnew edge:\t 1062 --> 959\n",
      "\tnew edge:\t 1987 --> 482\n",
      "\tnew edge:\t 1580 --> 77\n",
      "\tremove edge:\t 1246 --> 1247\n",
      "\tremove edge:\t 78 --> 165\n",
      "\tremove edge:\t 1283 --> 1285\n",
      "\tremove edge:\t 539 --> 19\n",
      "\tremove edge:\t 1574 --> 613\n",
      "\tnew edge:\t 436 --> 762\n",
      "\tnew edge:\t 836 --> 1539\n",
      "\tnew edge:\t 1633 --> 2255\n",
      "\tnew edge:\t 955 --> 943\n",
      "\tremove edge:\t 574 --> 13\n",
      "\tnew edge:\t 1275 --> 1024\n",
      "\tremove edge:\t 1738 --> 63\n",
      "\tnew edge:\t 2197 --> 896\n",
      "\tnew edge:\t 1025 --> 877\n",
      "\tremove edge:\t 1377 --> 1379\n",
      "\tnew edge:\t 329 --> 1855\n",
      "\tnew edge:\t 1448 --> 1730\n",
      "\tnew edge:\t 1052 --> 849\n",
      "\tremove edge:\t 1610 --> 1611\n",
      "\tnew edge:\t 1314 --> 1578\n",
      "\tnew edge:\t 1027 --> 2186\n",
      "\tnew edge:\t 941 --> 1770\n",
      "\tnew edge:\t 1410 --> 1678\n",
      "\tnew edge:\t 658 --> 440\n",
      "\tremove edge:\t 2280 --> 197\n",
      "\tnew edge:\t 1803 --> 2038\n",
      "\tremove edge:\t 138 --> 33\n",
      "\tnew edge:\t 2145 --> 1420\n",
      "\tremove edge:\t 2408 --> 2409\n",
      "\tnew edge:\t 792 --> 1808\n",
      "\tnew edge:\t 704 --> 1329\n",
      "\tnew edge:\t 1071 --> 678\n",
      "\tnew edge:\t 2397 --> 950\n",
      "\tremove edge:\t 1294 --> 1295\n",
      "\tnew edge:\t 1310 --> 15\n",
      "\tremove edge:\t 1933 --> 2154\n",
      "\tremove edge:\t 890 --> 892\n",
      "\tnew edge:\t 686 --> 1671\n",
      "\tnew edge:\t 1821 --> 385\n",
      "\tnew edge:\t 741 --> 1117\n",
      "\tnew edge:\t 1708 --> 1613\n",
      "\tremove edge:\t 1499 --> 1500\n",
      "\tremove edge:\t 2416 --> 2417\n",
      "\tnew edge:\t 866 --> 1270\n",
      "\tremove edge:\t 1697 --> 1698\n",
      "\tnew edge:\t 524 --> 1711\n",
      "\tremove edge:\t 740 --> 741\n",
      "\tnew edge:\t 2414 --> 637\n",
      "\tnew edge:\t 926 --> 797\n"
     ]
    }
   ],
   "source": [
    "G_random_edges_uniform_random = random_edges_uniform_random(G.copy(), 100)"
   ]
  },
  {
   "cell_type": "code",
   "execution_count": 10,
   "metadata": {
    "scrolled": true
   },
   "outputs": [
    {
     "data": {
      "text/html": [
       "<div>\n",
       "<style scoped>\n",
       "    .dataframe tbody tr th:only-of-type {\n",
       "        vertical-align: middle;\n",
       "    }\n",
       "\n",
       "    .dataframe tbody tr th {\n",
       "        vertical-align: top;\n",
       "    }\n",
       "\n",
       "    .dataframe thead th {\n",
       "        text-align: right;\n",
       "    }\n",
       "</style>\n",
       "<table border=\"1\" class=\"dataframe\">\n",
       "  <thead>\n",
       "    <tr style=\"text-align: right;\">\n",
       "      <th>rank</th>\n",
       "      <th>node</th>\n",
       "      <th>score</th>\n",
       "      <th>in edges</th>\n",
       "      <th>out edges</th>\n",
       "    </tr>\n",
       "  </thead>\n",
       "  <tbody>\n",
       "    <tr>\n",
       "      <th>1</th>\n",
       "      <td>404</td>\n",
       "      <td>0.042988</td>\n",
       "      <td>10</td>\n",
       "      <td>0</td>\n",
       "    </tr>\n",
       "    <tr>\n",
       "      <th>2</th>\n",
       "      <td>195</td>\n",
       "      <td>0.020129</td>\n",
       "      <td>80</td>\n",
       "      <td>1</td>\n",
       "    </tr>\n",
       "    <tr>\n",
       "      <th>3</th>\n",
       "      <td>77</td>\n",
       "      <td>0.018712</td>\n",
       "      <td>122</td>\n",
       "      <td>2</td>\n",
       "    </tr>\n",
       "    <tr>\n",
       "      <th>4</th>\n",
       "      <td>36</td>\n",
       "      <td>0.011565</td>\n",
       "      <td>168</td>\n",
       "      <td>5</td>\n",
       "    </tr>\n",
       "    <tr>\n",
       "      <th>5</th>\n",
       "      <td>192</td>\n",
       "      <td>0.009662</td>\n",
       "      <td>57</td>\n",
       "      <td>3</td>\n",
       "    </tr>\n",
       "  </tbody>\n",
       "</table>\n",
       "</div>"
      ],
      "text/plain": [
       "rank node     score  in edges  out edges\n",
       "1     404  0.042988        10          0\n",
       "2     195  0.020129        80          1\n",
       "3      77  0.018712       122          2\n",
       "4      36  0.011565       168          5\n",
       "5     192  0.009662        57          3"
      ]
     },
     "execution_count": 10,
     "metadata": {},
     "output_type": "execute_result"
    }
   ],
   "source": [
    "pr_random_edges_uniform_random = calc_pagerank(G_random_edges_uniform_random)\n",
    "df_random_edges_uniform_random = create_dataframe(pr_random_edges_uniform_random, G_random_edges_uniform_random)\n",
    "df_random_edges_uniform_random.head()"
   ]
  },
  {
   "cell_type": "markdown",
   "metadata": {},
   "source": [
    "### B. Adding nodes uniformly at random (copying model)"
   ]
  },
  {
   "cell_type": "markdown",
   "metadata": {},
   "source": [
    "For $n$ iterations do the following:\n",
    "* Make a new node instance $n$\n",
    "* with a uniform random distribution pick $k$ nodes in the original graph\n",
    "* copy the incoming/outgoing edges of the $k$ nodes for $n$\n",
    "* choose with an unifrom distribution another node $l$ and add its edges also to $n$"
   ]
  },
  {
   "cell_type": "markdown",
   "metadata": {},
   "source": [
    "<i>The last step might seem redundant at the moment, but later when the the $k$ nodes are going to be chosen with at random but proportional to a certain statistic, it makes sense to have a step in which you pick another node $l$ that is chosen with the opposite property so that the generation/stability of communities is ensured (i.e. power-law degree). In this implementation. This step is omitted, but it will be thus added in the functions that take statistical measures into consideration when choosing nodes at random</i>"
   ]
  },
  {
   "cell_type": "code",
   "execution_count": 11,
   "metadata": {
    "collapsed": true
   },
   "outputs": [],
   "source": [
    "#randomly add and remove nodes\n",
    "#Edge Copying Model (slide 53 of Week6-SNA-Props)\n",
    "def random_add_nodes_uniform(G_in, number_of_nodes = 1, k = 5):\n",
    "    print(\"number of edges before :\"+ str(len(G_in.edges())))\n",
    "    for _ in range(number_of_nodes):\n",
    "        #k is number of edges to be added, random integer 1 between 5\n",
    "        k = random.randint(1, k) #select k random vertices\n",
    "        #print(\"k = \" + str(k))\n",
    "        new_node = nx.number_of_nodes(G_in) + 1 #add node to graph\n",
    "        # print(\"new node = \" + str(new_node))\n",
    "        \n",
    "        list_of_nodes = list(G_in)  #create list of nodes\n",
    "        \n",
    "        G_in.add_node(str(new_node))   \n",
    "        k_random_selected_nodes = np.random.choice(list_of_nodes, size = k, replace = False) # k nodes with a uniform distribution\n",
    "        \n",
    "        for node in k_random_selected_nodes:\n",
    "            #print(\"node in k_random_selected_nodes = \" + str(node))\n",
    "            successors = list(G_in.successors(str(node)))\n",
    "            #print(\"succesors are \" + str(successors))\n",
    "            for node_to in successors:\n",
    "                G_in.add_edge(new_node, node_to) # add outgoing edges\n",
    "            predecessors = list(G_in.predecessors(str(node)))\n",
    "            for node_from in predecessors:\n",
    "                G_in.add_edge(node_from, new_node) # add incoming edges\n",
    "    print(\"number of edges after :\"+str(len(G_in.edges())))\n",
    "    return G_in"
   ]
  },
  {
   "cell_type": "code",
   "execution_count": 12,
   "metadata": {
    "scrolled": true
   },
   "outputs": [
    {
     "name": "stdout",
     "output_type": "stream",
     "text": [
      "number of edges before :16631\n",
      "number of edges after :17882\n"
     ]
    }
   ],
   "source": [
    "G_random_add_nodes_uniform = random_add_nodes_uniform(G.copy(), 100)"
   ]
  },
  {
   "cell_type": "code",
   "execution_count": 13,
   "metadata": {},
   "outputs": [
    {
     "data": {
      "text/html": [
       "<div>\n",
       "<style scoped>\n",
       "    .dataframe tbody tr th:only-of-type {\n",
       "        vertical-align: middle;\n",
       "    }\n",
       "\n",
       "    .dataframe tbody tr th {\n",
       "        vertical-align: top;\n",
       "    }\n",
       "\n",
       "    .dataframe thead th {\n",
       "        text-align: right;\n",
       "    }\n",
       "</style>\n",
       "<table border=\"1\" class=\"dataframe\">\n",
       "  <thead>\n",
       "    <tr style=\"text-align: right;\">\n",
       "      <th>rank</th>\n",
       "      <th>node</th>\n",
       "      <th>score</th>\n",
       "      <th>in edges</th>\n",
       "      <th>out edges</th>\n",
       "    </tr>\n",
       "  </thead>\n",
       "  <tbody>\n",
       "    <tr>\n",
       "      <th>1</th>\n",
       "      <td>404</td>\n",
       "      <td>0.040974</td>\n",
       "      <td>10</td>\n",
       "      <td>0</td>\n",
       "    </tr>\n",
       "    <tr>\n",
       "      <th>2</th>\n",
       "      <td>195</td>\n",
       "      <td>0.019240</td>\n",
       "      <td>82</td>\n",
       "      <td>1</td>\n",
       "    </tr>\n",
       "    <tr>\n",
       "      <th>3</th>\n",
       "      <td>77</td>\n",
       "      <td>0.018008</td>\n",
       "      <td>124</td>\n",
       "      <td>2</td>\n",
       "    </tr>\n",
       "    <tr>\n",
       "      <th>4</th>\n",
       "      <td>728</td>\n",
       "      <td>0.015021</td>\n",
       "      <td>10</td>\n",
       "      <td>0</td>\n",
       "    </tr>\n",
       "    <tr>\n",
       "      <th>5</th>\n",
       "      <td>135</td>\n",
       "      <td>0.010939</td>\n",
       "      <td>53</td>\n",
       "      <td>8</td>\n",
       "    </tr>\n",
       "  </tbody>\n",
       "</table>\n",
       "</div>"
      ],
      "text/plain": [
       "rank node     score  in edges  out edges\n",
       "1     404  0.040974        10          0\n",
       "2     195  0.019240        82          1\n",
       "3      77  0.018008       124          2\n",
       "4     728  0.015021        10          0\n",
       "5     135  0.010939        53          8"
      ]
     },
     "execution_count": 13,
     "metadata": {},
     "output_type": "execute_result"
    }
   ],
   "source": [
    "pr_random_add_nodes_uniform = calc_pagerank(G_random_add_nodes_uniform)\n",
    "df_random_add_nodes_uniform = create_dataframe(pr_random_add_nodes_uniform, G_random_add_nodes_uniform)\n",
    "df_random_add_nodes_uniform.head()"
   ]
  },
  {
   "cell_type": "markdown",
   "metadata": {},
   "source": [
    "### C. Removal of nodes uniformly at random"
   ]
  },
  {
   "cell_type": "markdown",
   "metadata": {},
   "source": [
    "Let $n$ represent the number of nodes that should be removed. If the $number\\_of\\_nodes$ parameter is givem then $n = number\\_of\\_nodes$, if this parameter is not specfied by the caller we have $n = \\lfloor(0.1 * total\\_number\\_of\\_nodes(G\\_in))\\rfloor)$\n",
    "\n",
    "For $n$ iterations do the following:\n",
    "* Select a node $m$ uniformly at random (iterations are abstracted by $np.random.choice$)\n",
    "* Remove this node and its respective edges from the graph"
   ]
  },
  {
   "cell_type": "code",
   "execution_count": 14,
   "metadata": {
    "collapsed": true
   },
   "outputs": [],
   "source": [
    "def random_removal_nodes_uniform(G_in, number_given = False, number_of_nodes = None):\n",
    "    if (number_given & number_of_nodes < len(list(G_in))): # check if we do not remove too much nodes\n",
    "        n = number_of_nodes\n",
    "    else:\n",
    "        n = int(0.1 * len(list(G_in)))  # max 10% of nodes\n",
    "    #remove nodes and corresponding edges\n",
    "    print(\"number of nodes before :\"+ str(len(list(G_in))))\n",
    "    list_of_nodes = list(G_in)\n",
    "    selected_nodes = np.random.choice(list_of_nodes, size = n, replace = False)\n",
    "    for m_remove in selected_nodes:\n",
    "        G_in.remove_node(m_remove)\n",
    "    print(\"number of nodes after :\"+ str(len(list(G_in))))\n",
    "    return G_in"
   ]
  },
  {
   "cell_type": "code",
   "execution_count": 15,
   "metadata": {},
   "outputs": [
    {
     "name": "stdout",
     "output_type": "stream",
     "text": [
      "number of nodes before :2426\n",
      "number of nodes after :2326\n"
     ]
    }
   ],
   "source": [
    "G_random_removal_nodes_uniform = random_removal_nodes_uniform(G.copy(), True, 100)"
   ]
  },
  {
   "cell_type": "code",
   "execution_count": 16,
   "metadata": {},
   "outputs": [
    {
     "data": {
      "text/html": [
       "<div>\n",
       "<style scoped>\n",
       "    .dataframe tbody tr th:only-of-type {\n",
       "        vertical-align: middle;\n",
       "    }\n",
       "\n",
       "    .dataframe tbody tr th {\n",
       "        vertical-align: top;\n",
       "    }\n",
       "\n",
       "    .dataframe thead th {\n",
       "        text-align: right;\n",
       "    }\n",
       "</style>\n",
       "<table border=\"1\" class=\"dataframe\">\n",
       "  <thead>\n",
       "    <tr style=\"text-align: right;\">\n",
       "      <th>rank</th>\n",
       "      <th>node</th>\n",
       "      <th>score</th>\n",
       "      <th>in edges</th>\n",
       "      <th>out edges</th>\n",
       "    </tr>\n",
       "  </thead>\n",
       "  <tbody>\n",
       "    <tr>\n",
       "      <th>1</th>\n",
       "      <td>404</td>\n",
       "      <td>0.042501</td>\n",
       "      <td>9</td>\n",
       "      <td>0</td>\n",
       "    </tr>\n",
       "    <tr>\n",
       "      <th>2</th>\n",
       "      <td>195</td>\n",
       "      <td>0.020760</td>\n",
       "      <td>78</td>\n",
       "      <td>1</td>\n",
       "    </tr>\n",
       "    <tr>\n",
       "      <th>3</th>\n",
       "      <td>77</td>\n",
       "      <td>0.019746</td>\n",
       "      <td>117</td>\n",
       "      <td>2</td>\n",
       "    </tr>\n",
       "    <tr>\n",
       "      <th>4</th>\n",
       "      <td>728</td>\n",
       "      <td>0.017544</td>\n",
       "      <td>10</td>\n",
       "      <td>0</td>\n",
       "    </tr>\n",
       "    <tr>\n",
       "      <th>5</th>\n",
       "      <td>36</td>\n",
       "      <td>0.011739</td>\n",
       "      <td>167</td>\n",
       "      <td>5</td>\n",
       "    </tr>\n",
       "  </tbody>\n",
       "</table>\n",
       "</div>"
      ],
      "text/plain": [
       "rank node     score  in edges  out edges\n",
       "1     404  0.042501         9          0\n",
       "2     195  0.020760        78          1\n",
       "3      77  0.019746       117          2\n",
       "4     728  0.017544        10          0\n",
       "5      36  0.011739       167          5"
      ]
     },
     "execution_count": 16,
     "metadata": {},
     "output_type": "execute_result"
    }
   ],
   "source": [
    "pr_random_removal_nodes_uniform = calc_pagerank(G_random_removal_nodes_uniform)\n",
    "df_random_removal_nodes_uniform = create_dataframe(pr_random_removal_nodes_uniform, G_random_removal_nodes_uniform)\n",
    "df_random_removal_nodes_uniform.head()"
   ]
  },
  {
   "cell_type": "markdown",
   "metadata": {},
   "source": [
    "## Graph evolution methodologies using statistical measures"
   ]
  },
  {
   "cell_type": "markdown",
   "metadata": {},
   "source": [
    "### D. Removal of nodes at random but proportional to the degree of the nodes"
   ]
  },
  {
   "cell_type": "markdown",
   "metadata": {},
   "source": [
    "Let $n$ represent the number of nodes that should be removed. If the $number\\_of\\_nodes$ parameter is givem then $n = number\\_of\\_nodes$, if this parameter is not specfied by the caller we have $n = \\lfloor(0.1 * total\\_number\\_of\\_nodes(G\\_in))\\rfloor)$\n",
    "\n",
    "For $n$ iterations do the following:\n",
    "* Select a node $m$ at random, but proportional to the in degree's of the nodes (iterations are abstracted by $np.random.choice$)\n",
    "* Remove this node and its respective edges from the graph"
   ]
  },
  {
   "cell_type": "code",
   "execution_count": 17,
   "metadata": {
    "collapsed": true
   },
   "outputs": [],
   "source": [
    "def random_node_removals_proportional_indegree(G_in, number_given = False, number_of_nodes = None):\n",
    "    if (number_given & number_of_nodes < len(list(G_in))): # check if we do not remove too much nodes\n",
    "        n = number_of_nodes\n",
    "    else:\n",
    "        n = int(0.1 * len(list(G_in)))  # max 10% of nodes\n",
    "    #remove nodes and corresponding edges\n",
    "    print(\"number of nodes before :\"+ str(len(list(G_in))))\n",
    "    list_of_nodes = list(G_in)\n",
    "    in_degrees = dict(G_in.in_degree()).values() # in_degrees of all the nodes\n",
    "    prob_degree = [float(i)/sum(in_degrees) for i in in_degrees] # probabilities proportional to degree\n",
    "    \n",
    "    selected_nodes = np.random.choice(list_of_nodes, size = n, replace = False, p = prob_degree)\n",
    "    for m_remove in selected_nodes:\n",
    "        G_in.remove_node(m_remove)\n",
    "    print(\"number of nodes after :\"+ str(len(list(G_in))))\n",
    "    return G_in"
   ]
  },
  {
   "cell_type": "code",
   "execution_count": 18,
   "metadata": {},
   "outputs": [
    {
     "name": "stdout",
     "output_type": "stream",
     "text": [
      "number of nodes before :2426\n",
      "number of nodes after :2326\n"
     ]
    }
   ],
   "source": [
    "G_random_node_removals_proportional_indegree = random_node_removals_proportional_indegree(G.copy(), True, 100)"
   ]
  },
  {
   "cell_type": "code",
   "execution_count": 19,
   "metadata": {},
   "outputs": [
    {
     "name": "stdout",
     "output_type": "stream",
     "text": [
      "number of nodes before :2426\n",
      "number of nodes after :2326\n"
     ]
    },
    {
     "data": {
      "text/html": [
       "<div>\n",
       "<style scoped>\n",
       "    .dataframe tbody tr th:only-of-type {\n",
       "        vertical-align: middle;\n",
       "    }\n",
       "\n",
       "    .dataframe tbody tr th {\n",
       "        vertical-align: top;\n",
       "    }\n",
       "\n",
       "    .dataframe thead th {\n",
       "        text-align: right;\n",
       "    }\n",
       "</style>\n",
       "<table border=\"1\" class=\"dataframe\">\n",
       "  <thead>\n",
       "    <tr style=\"text-align: right;\">\n",
       "      <th>rank</th>\n",
       "      <th>node</th>\n",
       "      <th>score</th>\n",
       "      <th>in edges</th>\n",
       "      <th>out edges</th>\n",
       "    </tr>\n",
       "  </thead>\n",
       "  <tbody>\n",
       "    <tr>\n",
       "      <th>1</th>\n",
       "      <td>404</td>\n",
       "      <td>0.035940</td>\n",
       "      <td>9</td>\n",
       "      <td>0</td>\n",
       "    </tr>\n",
       "    <tr>\n",
       "      <th>2</th>\n",
       "      <td>728</td>\n",
       "      <td>0.022885</td>\n",
       "      <td>10</td>\n",
       "      <td>0</td>\n",
       "    </tr>\n",
       "    <tr>\n",
       "      <th>3</th>\n",
       "      <td>195</td>\n",
       "      <td>0.015239</td>\n",
       "      <td>66</td>\n",
       "      <td>1</td>\n",
       "    </tr>\n",
       "    <tr>\n",
       "      <th>4</th>\n",
       "      <td>183</td>\n",
       "      <td>0.014663</td>\n",
       "      <td>71</td>\n",
       "      <td>3</td>\n",
       "    </tr>\n",
       "    <tr>\n",
       "      <th>5</th>\n",
       "      <td>182</td>\n",
       "      <td>0.011572</td>\n",
       "      <td>77</td>\n",
       "      <td>9</td>\n",
       "    </tr>\n",
       "  </tbody>\n",
       "</table>\n",
       "</div>"
      ],
      "text/plain": [
       "rank node     score  in edges  out edges\n",
       "1     404  0.035940         9          0\n",
       "2     728  0.022885        10          0\n",
       "3     195  0.015239        66          1\n",
       "4     183  0.014663        71          3\n",
       "5     182  0.011572        77          9"
      ]
     },
     "execution_count": 19,
     "metadata": {},
     "output_type": "execute_result"
    }
   ],
   "source": [
    "G_random_node_removals_proportional_indegree = random_node_removals_proportional_indegree(G.copy(), True, 100)\n",
    "pr_random_node_removals_proportional_indegree = calc_pagerank(G_random_node_removals_proportional_indegree)\n",
    "df_random_node_removals_proportional_indegree = create_dataframe(pr_random_node_removals_proportional_indegree,\n",
    "                                                                 G_random_node_removals_proportional_indegree)\n",
    "df_random_node_removals_proportional_indegree.head()"
   ]
  },
  {
   "cell_type": "markdown",
   "metadata": {},
   "source": [
    "### E. Removal of nodes at random but proportional to the hubs/authorithy measures (HITS) of nodes"
   ]
  },
  {
   "cell_type": "markdown",
   "metadata": {},
   "source": [
    "Let $n$ represent the number of nodes that should be removed. If the $number\\_of\\_nodes$ parameter is givem then $n = number\\_of\\_nodes$, if this parameter is not specfied by the caller we have $n = \\lfloor(0.1 * total\\_number\\_of\\_nodes(G\\_in))\\rfloor)$\n",
    "\n",
    "For $n$ iterations do the following:\n",
    "* Select a node $m$ at random, but proportional to HITS measures (i.e. hub or authority) of the nodes (iterations are abstracted by $np.random.choice$)\n",
    "* Remove this node and its respective edges from the graph"
   ]
  },
  {
   "cell_type": "code",
   "execution_count": 20,
   "metadata": {
    "collapsed": true
   },
   "outputs": [],
   "source": [
    "def random_node_removals_proportional_HITS(G_in, authorithy = False, number_given = False, number_of_nodes = None):\n",
    "    if (number_given & number_of_nodes < len(list(G_in))): # check if we do not remove too much nodes\n",
    "        n = number_of_nodes\n",
    "    else:\n",
    "        n = int(0.1 * len(list(G_in)))  # max 10% of nodes\n",
    "    #remove nodes and corresponding edges\n",
    "    node_counter = 0\n",
    "    while(node_counter < n):\n",
    "        list_of_nodes = list(G_in)\n",
    "        print(int((node_counter / n) * 100), \"%\")\n",
    "        if (authorithy):\n",
    "            p = list(nx.hits(G_in)[0].values()) # probabilities proportional to authority of nodes\n",
    "        else: # hub\n",
    "            p = list(nx.hits(G_in)[1].values()) # probabilities proportional to hub of nodes\n",
    "        node_remove = np.random.choice(list_of_nodes, p = p)\n",
    "        G_in.remove_node(node_remove)\n",
    "        node_counter += 1\n",
    "    print(\"number of nodes after :\"+ str(len(list(G_in))))\n",
    "    return G_in"
   ]
  },
  {
   "cell_type": "code",
   "execution_count": 21,
   "metadata": {},
   "outputs": [
    {
     "name": "stdout",
     "output_type": "stream",
     "text": [
      "0 %\n",
      "10 %\n",
      "20 %\n",
      "30 %\n",
      "40 %\n",
      "50 %\n",
      "60 %\n",
      "70 %\n",
      "80 %\n",
      "90 %\n",
      "number of nodes after :2416\n"
     ]
    }
   ],
   "source": [
    "G_random_node_removals_proportional_HITS = random_node_removals_proportional_HITS(G.copy(), True, True, 10)"
   ]
  },
  {
   "cell_type": "code",
   "execution_count": 22,
   "metadata": {},
   "outputs": [
    {
     "data": {
      "text/html": [
       "<div>\n",
       "<style scoped>\n",
       "    .dataframe tbody tr th:only-of-type {\n",
       "        vertical-align: middle;\n",
       "    }\n",
       "\n",
       "    .dataframe tbody tr th {\n",
       "        vertical-align: top;\n",
       "    }\n",
       "\n",
       "    .dataframe thead th {\n",
       "        text-align: right;\n",
       "    }\n",
       "</style>\n",
       "<table border=\"1\" class=\"dataframe\">\n",
       "  <thead>\n",
       "    <tr style=\"text-align: right;\">\n",
       "      <th>rank</th>\n",
       "      <th>node</th>\n",
       "      <th>score</th>\n",
       "      <th>in edges</th>\n",
       "      <th>out edges</th>\n",
       "    </tr>\n",
       "  </thead>\n",
       "  <tbody>\n",
       "    <tr>\n",
       "      <th>1</th>\n",
       "      <td>404</td>\n",
       "      <td>0.042666</td>\n",
       "      <td>10</td>\n",
       "      <td>0</td>\n",
       "    </tr>\n",
       "    <tr>\n",
       "      <th>2</th>\n",
       "      <td>195</td>\n",
       "      <td>0.019819</td>\n",
       "      <td>75</td>\n",
       "      <td>1</td>\n",
       "    </tr>\n",
       "    <tr>\n",
       "      <th>3</th>\n",
       "      <td>77</td>\n",
       "      <td>0.018628</td>\n",
       "      <td>119</td>\n",
       "      <td>2</td>\n",
       "    </tr>\n",
       "    <tr>\n",
       "      <th>4</th>\n",
       "      <td>728</td>\n",
       "      <td>0.015523</td>\n",
       "      <td>10</td>\n",
       "      <td>0</td>\n",
       "    </tr>\n",
       "    <tr>\n",
       "      <th>5</th>\n",
       "      <td>36</td>\n",
       "      <td>0.011184</td>\n",
       "      <td>164</td>\n",
       "      <td>5</td>\n",
       "    </tr>\n",
       "  </tbody>\n",
       "</table>\n",
       "</div>"
      ],
      "text/plain": [
       "rank node     score  in edges  out edges\n",
       "1     404  0.042666        10          0\n",
       "2     195  0.019819        75          1\n",
       "3      77  0.018628       119          2\n",
       "4     728  0.015523        10          0\n",
       "5      36  0.011184       164          5"
      ]
     },
     "execution_count": 22,
     "metadata": {},
     "output_type": "execute_result"
    }
   ],
   "source": [
    "pr_random_node_removals_proportional_HITS = calc_pagerank(G_random_node_removals_proportional_HITS)\n",
    "df_random_node_removals_proportional_HITS = create_dataframe(pr_random_node_removals_proportional_HITS,\n",
    "                                                             G_random_node_removals_proportional_HITS)\n",
    "df_random_node_removals_proportional_HITS.head()"
   ]
  },
  {
   "cell_type": "markdown",
   "metadata": {},
   "source": [
    "### F. Addition of nodes at random but proportional to the degree of the nodes"
   ]
  },
  {
   "cell_type": "code",
   "execution_count": 23,
   "metadata": {},
   "outputs": [],
   "source": [
    "#Edge Copying Model (slide 53 of Week6-SNA-Props)\n",
    "def random_node_additions_proportional_in_degree(G_in, number_given = False, number_of_nodes = 1, k = 5):\n",
    "    if (number_given & number_of_nodes < len(list(G_in))): # check if we do not remove too much nodes\n",
    "        n = number_of_nodes\n",
    "    else:\n",
    "        n = int(0.1 * len(list(G_in)))  # max 10% of nodes\n",
    "    print(\"number of edges before :\"+ str(len(G_in.edges())))\n",
    "    for _ in range(n):\n",
    "        #k is number of edges to be added, random integer 1 between 5\n",
    "        k = random.randint(1, k) #select k random vertices\n",
    "        list_of_nodes = list(G_in)  #create list of nodes\n",
    "        in_degrees = dict(G_in.in_degree()).values() # in_degrees of all the nodes\n",
    "        prob_degree = [float(i)/sum(in_degrees) for i in in_degrees] # probabilities proportional to degree\n",
    "        k_random_selected_nodes = np.random.choice(list_of_nodes, size = k, p = prob_degree, replace = False) # selecte k nodes proportional to chosen measure\n",
    "        \n",
    "        new_node = nx.number_of_nodes(G_in) + 1 #add node to graph\n",
    "        G_in.add_node(str(new_node))\n",
    "        \n",
    "        for node in k_random_selected_nodes:\n",
    "            successors = list(G_in.successors(str(node)))\n",
    "            for node_to in successors:\n",
    "                G_in.add_edge(new_node, node_to) # add outgoing edges\n",
    "            predecessors = list(G_in.predecessors(str(node)))\n",
    "            for node_from in predecessors:\n",
    "                G_in.add_edge(node_from, new_node) # add incoming edges\n",
    "        \n",
    "        # pick one node that has a low probability (relatively low number of incoming edges)\n",
    "        non_zero_probs = [i for i in prob_degree if i != 0.0]\n",
    "        highest_chance_nodes = np.random.choice(list_of_nodes, p = prob_degree, \n",
    "                                                size = (len(non_zero_probs) - 1), replace = False)\n",
    "        \n",
    "        node_to_add = random.sample(set(list_of_nodes).difference(set(highest_chance_nodes)), 1)[0] # low prob node\n",
    "        successors = list(G_in.successors(node_to_add)) # successors of the node\n",
    "        predecessors = list(G_in.predecessors(node_to_add)) # predecessors of the node \n",
    "        \n",
    "        succ_current_node = list(G_in.successors(new_node)) # find the successors of the new node \n",
    "        pred_current_node = list(G_in.predecessors(new_node)) # find the predecessors of the new node\n",
    "                                 \n",
    "        # remove nodes to which the new node is already connected from the successors/predecessors list\n",
    "        successors = [n for n in successors if not n in succ_current_node]\n",
    "        predecessors = [n for n in predecessors if not n in pred_current_node]\n",
    "                                 \n",
    "        for node_to in successors:\n",
    "            G_in.add_edge(new_node, node_to) # add outgoing edges\n",
    "        for node_from in predecessors:\n",
    "            G_in.add_edge(node_from, new_node) # add incoming edges\n",
    "            \n",
    "    print(\"number of edges after :\"+str(len(G_in.edges())))\n",
    "    return G_in"
   ]
  },
  {
   "cell_type": "code",
   "execution_count": 24,
   "metadata": {},
   "outputs": [
    {
     "name": "stdout",
     "output_type": "stream",
     "text": [
      "number of edges before :16631\n",
      "number of edges after :17066\n"
     ]
    }
   ],
   "source": [
    "G_random_node_additions_proportional_in_degree = random_node_additions_proportional_in_degree(G.copy(), True, 10, 5)"
   ]
  },
  {
   "cell_type": "code",
   "execution_count": 25,
   "metadata": {},
   "outputs": [
    {
     "data": {
      "text/html": [
       "<div>\n",
       "<style scoped>\n",
       "    .dataframe tbody tr th:only-of-type {\n",
       "        vertical-align: middle;\n",
       "    }\n",
       "\n",
       "    .dataframe tbody tr th {\n",
       "        vertical-align: top;\n",
       "    }\n",
       "\n",
       "    .dataframe thead th {\n",
       "        text-align: right;\n",
       "    }\n",
       "</style>\n",
       "<table border=\"1\" class=\"dataframe\">\n",
       "  <thead>\n",
       "    <tr style=\"text-align: right;\">\n",
       "      <th>rank</th>\n",
       "      <th>node</th>\n",
       "      <th>score</th>\n",
       "      <th>in edges</th>\n",
       "      <th>out edges</th>\n",
       "    </tr>\n",
       "  </thead>\n",
       "  <tbody>\n",
       "    <tr>\n",
       "      <th>1</th>\n",
       "      <td>404</td>\n",
       "      <td>0.042575</td>\n",
       "      <td>10</td>\n",
       "      <td>0</td>\n",
       "    </tr>\n",
       "    <tr>\n",
       "      <th>2</th>\n",
       "      <td>195</td>\n",
       "      <td>0.019864</td>\n",
       "      <td>81</td>\n",
       "      <td>1</td>\n",
       "    </tr>\n",
       "    <tr>\n",
       "      <th>3</th>\n",
       "      <td>77</td>\n",
       "      <td>0.018555</td>\n",
       "      <td>122</td>\n",
       "      <td>2</td>\n",
       "    </tr>\n",
       "    <tr>\n",
       "      <th>4</th>\n",
       "      <td>728</td>\n",
       "      <td>0.015325</td>\n",
       "      <td>10</td>\n",
       "      <td>0</td>\n",
       "    </tr>\n",
       "    <tr>\n",
       "      <th>5</th>\n",
       "      <td>36</td>\n",
       "      <td>0.011005</td>\n",
       "      <td>168</td>\n",
       "      <td>5</td>\n",
       "    </tr>\n",
       "  </tbody>\n",
       "</table>\n",
       "</div>"
      ],
      "text/plain": [
       "rank node     score  in edges  out edges\n",
       "1     404  0.042575        10          0\n",
       "2     195  0.019864        81          1\n",
       "3      77  0.018555       122          2\n",
       "4     728  0.015325        10          0\n",
       "5      36  0.011005       168          5"
      ]
     },
     "execution_count": 25,
     "metadata": {},
     "output_type": "execute_result"
    }
   ],
   "source": [
    "pr_random_node_additions_proportional_in_degree = calc_pagerank(G_random_node_additions_proportional_in_degree)\n",
    "df_random_node_additions_proportional_in_degree = create_dataframe(pr_random_node_additions_proportional_in_degree,\n",
    "                                                             G_random_node_additions_proportional_in_degree)\n",
    "df_random_node_additions_proportional_in_degree.head()"
   ]
  },
  {
   "cell_type": "markdown",
   "metadata": {},
   "source": [
    "### G. Addition of nodes at random but proportional to the hubs/authorithy measures (HITS) of nodes"
   ]
  },
  {
   "cell_type": "code",
   "execution_count": 26,
   "metadata": {
    "collapsed": true
   },
   "outputs": [],
   "source": [
    "#Edge Copying Model (slide 53 of Week6-SNA-Props)\n",
    "def random_node_additions_proportional_HITS(G_in, authority = False, number_given = False, number_of_nodes = 1, k = 5):\n",
    "    if (number_given & number_of_nodes < len(list(G_in))): # check if we do not remove too much nodes\n",
    "        n = number_of_nodes\n",
    "    else:\n",
    "        n = int(0.1 * len(list(G_in)))  # max 10% of nodes\n",
    "    print(\"number of edges before :\"+ str(len(G_in.edges())))\n",
    "    for _ in range(n):\n",
    "        #k is number of edges to be added, random integer 1 between 5\n",
    "        k = random.randint(1, k) #select k random vertices\n",
    "        list_of_nodes = list(G_in)  #create list of nodes\n",
    "        if (authority):\n",
    "            p = list(nx.hits(G_in)[0].values())\n",
    "        else: # hub\n",
    "            p = list(nx.hits(G_in)[1].values())\n",
    "        \n",
    "        k_random_selected_nodes = np.random.choice(list_of_nodes, size = k, p = p, replace = False) # selecte k nodes proportional to chosen measure\n",
    "        \n",
    "        new_node = nx.number_of_nodes(G_in) + 1 #add node to graph\n",
    "        G_in.add_node(str(new_node))\n",
    "        \n",
    "        for node in k_random_selected_nodes:\n",
    "            successors = list(G_in.successors(node))\n",
    "            for node_to in successors:\n",
    "                G_in.add_edge(new_node, node_to) # add outgoing edges\n",
    "            predecessors = list(G_in.predecessors(node))\n",
    "            for node_from in predecessors:\n",
    "                G_in.add_edge(node_from, new_node) # add incoming edges\n",
    "        \n",
    "        # pick one node that has a low probability (relatively low number of incoming edges)\n",
    "        non_zero_probs = [i for i in p if i != 0.0]\n",
    "        highest_chance_nodes = np.random.choice(list_of_nodes, p = p, \n",
    "                                                size = (len(non_zero_probs) - 1), replace = False)\n",
    "        \n",
    "        node_to_add = random.sample(set(list_of_nodes).difference(set(highest_chance_nodes)), 1)[0] # low prob node\n",
    "        successors = list(G_in.successors(node_to_add)) # successors of the node\n",
    "        predecessors = list(G_in.predecessors(node_to_add)) # predecessors of the node \n",
    "        \n",
    "        succ_current_node = list(G_in.successors(new_node)) # find the successors of the new node \n",
    "        pred_current_node = list(G_in.predecessors(new_node)) # find the predecessors of the new node\n",
    "                                 \n",
    "        # remove nodes to which the new node is already connected from the successors/predecessors list\n",
    "        successors = [n for n in successors if not n in succ_current_node]\n",
    "        predecessors = [n for n in predecessors if not n in pred_current_node]\n",
    "                                 \n",
    "        for node_to in successors:\n",
    "            G_in.add_edge(new_node, node_to) # add outgoing edges\n",
    "        for node_from in predecessors:\n",
    "            G_in.add_edge(node_from, new_node) # add incoming edges\n",
    "            \n",
    "    print(\"number of edges after :\"+str(len(G_in.edges())))\n",
    "    return G_in"
   ]
  },
  {
   "cell_type": "code",
   "execution_count": 27,
   "metadata": {},
   "outputs": [
    {
     "name": "stdout",
     "output_type": "stream",
     "text": [
      "number of edges before :16631\n",
      "number of edges after :17298\n"
     ]
    }
   ],
   "source": [
    "G_random_node_additions_proportional_HITS = random_node_additions_proportional_HITS(G.copy(), True, True, 20, 5)"
   ]
  },
  {
   "cell_type": "code",
   "execution_count": 28,
   "metadata": {},
   "outputs": [
    {
     "data": {
      "text/html": [
       "<div>\n",
       "<style scoped>\n",
       "    .dataframe tbody tr th:only-of-type {\n",
       "        vertical-align: middle;\n",
       "    }\n",
       "\n",
       "    .dataframe tbody tr th {\n",
       "        vertical-align: top;\n",
       "    }\n",
       "\n",
       "    .dataframe thead th {\n",
       "        text-align: right;\n",
       "    }\n",
       "</style>\n",
       "<table border=\"1\" class=\"dataframe\">\n",
       "  <thead>\n",
       "    <tr style=\"text-align: right;\">\n",
       "      <th>rank</th>\n",
       "      <th>node</th>\n",
       "      <th>score</th>\n",
       "      <th>in edges</th>\n",
       "      <th>out edges</th>\n",
       "    </tr>\n",
       "  </thead>\n",
       "  <tbody>\n",
       "    <tr>\n",
       "      <th>1</th>\n",
       "      <td>404</td>\n",
       "      <td>0.042581</td>\n",
       "      <td>10</td>\n",
       "      <td>0</td>\n",
       "    </tr>\n",
       "    <tr>\n",
       "      <th>2</th>\n",
       "      <td>195</td>\n",
       "      <td>0.019813</td>\n",
       "      <td>82</td>\n",
       "      <td>1</td>\n",
       "    </tr>\n",
       "    <tr>\n",
       "      <th>3</th>\n",
       "      <td>77</td>\n",
       "      <td>0.018666</td>\n",
       "      <td>126</td>\n",
       "      <td>2</td>\n",
       "    </tr>\n",
       "    <tr>\n",
       "      <th>4</th>\n",
       "      <td>728</td>\n",
       "      <td>0.015584</td>\n",
       "      <td>10</td>\n",
       "      <td>0</td>\n",
       "    </tr>\n",
       "    <tr>\n",
       "      <th>5</th>\n",
       "      <td>36</td>\n",
       "      <td>0.011455</td>\n",
       "      <td>174</td>\n",
       "      <td>5</td>\n",
       "    </tr>\n",
       "  </tbody>\n",
       "</table>\n",
       "</div>"
      ],
      "text/plain": [
       "rank node     score  in edges  out edges\n",
       "1     404  0.042581        10          0\n",
       "2     195  0.019813        82          1\n",
       "3      77  0.018666       126          2\n",
       "4     728  0.015584        10          0\n",
       "5      36  0.011455       174          5"
      ]
     },
     "execution_count": 28,
     "metadata": {},
     "output_type": "execute_result"
    }
   ],
   "source": [
    "pr_random_node_additions_proportional_HITS = calc_pagerank(G_random_node_additions_proportional_HITS)\n",
    "df_random_node_additions_proportional_HITS = create_dataframe(pr_random_node_additions_proportional_HITS, G_random_node_additions_proportional_HITS)\n",
    "df_random_node_additions_proportional_HITS.head()"
   ]
  }
 ],
 "metadata": {
  "kernelspec": {
   "display_name": "Python 3",
   "language": "python",
   "name": "python3"
  },
  "language_info": {
   "codemirror_mode": {
    "name": "ipython",
    "version": 3
   },
   "file_extension": ".py",
   "mimetype": "text/x-python",
   "name": "python",
   "nbconvert_exporter": "python",
   "pygments_lexer": "ipython3",
   "version": "3.6.3"
  }
 },
 "nbformat": 4,
 "nbformat_minor": 2
}
