{
 "cells": [
  {
   "cell_type": "markdown",
   "metadata": {},
   "source": [
    "# 1b Graph evolving\n",
    "### Joris & Abdel"
   ]
  },
  {
   "cell_type": "code",
   "execution_count": 1,
   "metadata": {
    "collapsed": true
   },
   "outputs": [],
   "source": [
    "import networkx as nx\n",
    "import plotly.plotly as py\n",
    "import plotly.figure_factory as ff\n",
    "import pandas as pd\n",
    "import numpy as np\n",
    "import networkx as nx\n",
    "import random\n",
    "import matplotlib.pyplot as plt"
   ]
  },
  {
   "cell_type": "markdown",
   "metadata": {},
   "source": [
    "Load edge list and create a graph"
   ]
  },
  {
   "cell_type": "code",
   "execution_count": 2,
   "metadata": {
    "collapsed": true
   },
   "outputs": [],
   "source": [
    "fh = open(\"canvas/hamster.edgelist\", 'rb')\n",
    "G = nx.read_edgelist(fh, create_using=nx.DiGraph())\n",
    "fh.close()"
   ]
  },
  {
   "cell_type": "code",
   "execution_count": 3,
   "metadata": {},
   "outputs": [],
   "source": [
    "random.seed(99)"
   ]
  },
  {
   "cell_type": "markdown",
   "metadata": {},
   "source": [
    "Next we run the pagerank algorithm with a dampening parameter of 0.85. The dampening parameter represents the likelyhood of clicking a link on the webpage. With a dampening parameter of 0.85 we indicate that there is a 85% of clicking a link on the webpage and 15% of going to a random other node in the graph. We calculate the page rank using the power iteration method."
   ]
  },
  {
   "cell_type": "code",
   "execution_count": 4,
   "metadata": {
    "collapsed": true
   },
   "outputs": [],
   "source": [
    "def calc_pagerank(G_in, alpha = 0.85):\n",
    "    return nx.pagerank(G_in, alpha=0.85)"
   ]
  },
  {
   "cell_type": "code",
   "execution_count": 5,
   "metadata": {
    "collapsed": true
   },
   "outputs": [],
   "source": [
    "pr_origin = calc_pagerank(G)"
   ]
  },
  {
   "cell_type": "code",
   "execution_count": 6,
   "metadata": {
    "collapsed": true,
    "scrolled": false
   },
   "outputs": [],
   "source": [
    "def create_dataframe(pr, G_in):\n",
    "    df_edge_in = pd.DataFrame(list(G_in.in_degree()), columns=['node', 'in edges'])\n",
    "    df_edge_out = pd.DataFrame(list(G_in.out_degree()), columns=['node', 'out edges'])\n",
    "    df_rank = pd.DataFrame(list(pr.items()), columns=['node', 'score']).sort_values(by=['score'], ascending=False)\n",
    "    df_temp = pd.merge(df_rank, df_edge_in, on='node')\n",
    "    df_total = pd.merge(df_temp, df_edge_out, on='node')\n",
    "    df_total.index = df_total.index + 1\n",
    "    df_total.columns.name = 'rank'\n",
    "    return df_total"
   ]
  },
  {
   "cell_type": "code",
   "execution_count": 7,
   "metadata": {},
   "outputs": [
    {
     "data": {
      "text/html": [
       "<div>\n",
       "<style scoped>\n",
       "    .dataframe tbody tr th:only-of-type {\n",
       "        vertical-align: middle;\n",
       "    }\n",
       "\n",
       "    .dataframe tbody tr th {\n",
       "        vertical-align: top;\n",
       "    }\n",
       "\n",
       "    .dataframe thead th {\n",
       "        text-align: right;\n",
       "    }\n",
       "</style>\n",
       "<table border=\"1\" class=\"dataframe\">\n",
       "  <thead>\n",
       "    <tr style=\"text-align: right;\">\n",
       "      <th>rank</th>\n",
       "      <th>node</th>\n",
       "      <th>score</th>\n",
       "      <th>in edges</th>\n",
       "      <th>out edges</th>\n",
       "    </tr>\n",
       "  </thead>\n",
       "  <tbody>\n",
       "    <tr>\n",
       "      <th>1</th>\n",
       "      <td>404</td>\n",
       "      <td>0.042793</td>\n",
       "      <td>10</td>\n",
       "      <td>0</td>\n",
       "    </tr>\n",
       "    <tr>\n",
       "      <th>2</th>\n",
       "      <td>195</td>\n",
       "      <td>0.019961</td>\n",
       "      <td>80</td>\n",
       "      <td>1</td>\n",
       "    </tr>\n",
       "    <tr>\n",
       "      <th>3</th>\n",
       "      <td>77</td>\n",
       "      <td>0.018628</td>\n",
       "      <td>121</td>\n",
       "      <td>2</td>\n",
       "    </tr>\n",
       "    <tr>\n",
       "      <th>4</th>\n",
       "      <td>728</td>\n",
       "      <td>0.015530</td>\n",
       "      <td>10</td>\n",
       "      <td>0</td>\n",
       "    </tr>\n",
       "    <tr>\n",
       "      <th>5</th>\n",
       "      <td>36</td>\n",
       "      <td>0.011117</td>\n",
       "      <td>168</td>\n",
       "      <td>5</td>\n",
       "    </tr>\n",
       "  </tbody>\n",
       "</table>\n",
       "</div>"
      ],
      "text/plain": [
       "rank node     score  in edges  out edges\n",
       "1     404  0.042793        10          0\n",
       "2     195  0.019961        80          1\n",
       "3      77  0.018628       121          2\n",
       "4     728  0.015530        10          0\n",
       "5      36  0.011117       168          5"
      ]
     },
     "execution_count": 7,
     "metadata": {},
     "output_type": "execute_result"
    }
   ],
   "source": [
    "df_origin = create_dataframe(pr_origin, G)\n",
    "df_origin.head()"
   ]
  },
  {
   "cell_type": "markdown",
   "metadata": {},
   "source": [
    "It looks like node 404 is the best ranked page, following by 195 and 77. This means that these pages should be shown at the top by search engines."
   ]
  },
  {
   "cell_type": "code",
   "execution_count": 8,
   "metadata": {
    "scrolled": true
   },
   "outputs": [
    {
     "data": {
      "text/html": [
       "<div>\n",
       "<style scoped>\n",
       "    .dataframe tbody tr th:only-of-type {\n",
       "        vertical-align: middle;\n",
       "    }\n",
       "\n",
       "    .dataframe tbody tr th {\n",
       "        vertical-align: top;\n",
       "    }\n",
       "\n",
       "    .dataframe thead th {\n",
       "        text-align: right;\n",
       "    }\n",
       "</style>\n",
       "<table border=\"1\" class=\"dataframe\">\n",
       "  <thead>\n",
       "    <tr style=\"text-align: right;\">\n",
       "      <th>rank</th>\n",
       "      <th>node</th>\n",
       "      <th>score</th>\n",
       "      <th>in edges</th>\n",
       "      <th>out edges</th>\n",
       "    </tr>\n",
       "  </thead>\n",
       "  <tbody>\n",
       "    <tr>\n",
       "      <th>2422</th>\n",
       "      <td>1746</td>\n",
       "      <td>0.000113</td>\n",
       "      <td>0</td>\n",
       "      <td>3</td>\n",
       "    </tr>\n",
       "    <tr>\n",
       "      <th>2423</th>\n",
       "      <td>1748</td>\n",
       "      <td>0.000113</td>\n",
       "      <td>0</td>\n",
       "      <td>4</td>\n",
       "    </tr>\n",
       "    <tr>\n",
       "      <th>2424</th>\n",
       "      <td>1749</td>\n",
       "      <td>0.000113</td>\n",
       "      <td>0</td>\n",
       "      <td>3</td>\n",
       "    </tr>\n",
       "    <tr>\n",
       "      <th>2425</th>\n",
       "      <td>1751</td>\n",
       "      <td>0.000113</td>\n",
       "      <td>0</td>\n",
       "      <td>2</td>\n",
       "    </tr>\n",
       "    <tr>\n",
       "      <th>2426</th>\n",
       "      <td>2426</td>\n",
       "      <td>0.000113</td>\n",
       "      <td>0</td>\n",
       "      <td>8</td>\n",
       "    </tr>\n",
       "  </tbody>\n",
       "</table>\n",
       "</div>"
      ],
      "text/plain": [
       "rank  node     score  in edges  out edges\n",
       "2422  1746  0.000113         0          3\n",
       "2423  1748  0.000113         0          4\n",
       "2424  1749  0.000113         0          3\n",
       "2425  1751  0.000113         0          2\n",
       "2426  2426  0.000113         0          8"
      ]
     },
     "execution_count": 8,
     "metadata": {},
     "output_type": "execute_result"
    }
   ],
   "source": [
    "df_origin.tail()"
   ]
  },
  {
   "cell_type": "markdown",
   "metadata": {},
   "source": [
    "As expected the higher ranked pages have more incoming edges than the lower ranked pages. Looking at the amount of incoming edges for the 15 best ranked pages it is clear that the the rank of the source of the incoming edges is more important than the amount of incoming edges."
   ]
  },
  {
   "cell_type": "code",
   "execution_count": 9,
   "metadata": {
    "collapsed": true
   },
   "outputs": [],
   "source": [
    "#add new connection to random other node with probability prob_add\n",
    "#remove random connection of node with probability prob_remove\n",
    "def random_edges(G_in, prob_add, prob_remove):\n",
    "    add_edges = []\n",
    "    removed_edges = []\n",
    "    \n",
    "    for node in G_in.nodes():\n",
    "        #find notes that this one is connected to\n",
    "        connected = [to for (fr, to) in G_in.edges(node)]\n",
    "        #find candidates for new edges\n",
    "        unconnected = [n for n in G_in.nodes() if not n in connected]\n",
    "        \n",
    "        #randomly add new edge to the selected node\n",
    "        if len(unconnected): #only add when unconnected is not empty\n",
    "            if random.random() < prob_add:\n",
    "                new = random.choice(unconnected)\n",
    "                G_in.add_edge(node, new)\n",
    "                print(\"\\tnew edge:\\t {} -- {}\".format(node, new))\n",
    "                add_edges.append( (node, new) )\n",
    "                #update lists, in case both add and remove done in same cycle\n",
    "                unconnected.remove(new)    \n",
    "                connected.append(new)\n",
    "                \n",
    "        if len(connected):\n",
    "            if random.random() < prob_remove:\n",
    "                remove = random.choice(connected)\n",
    "                G_in.remove_edge(node, remove)\n",
    "                print(\"\\tedge removed:\\t {} -- {}\".format(node, remove))\n",
    "                removed_edges.append((node, remove))\n",
    "                #update lists, in case both add and remove done in same cycle\n",
    "                connected.remove(remove)\n",
    "                unconnected.append(remove)\n",
    "    return G_in"
   ]
  },
  {
   "cell_type": "markdown",
   "metadata": {},
   "source": [
    "### <font color=\"red\">To-Do: Uniform (random.boolean())</font>"
   ]
  },
  {
   "cell_type": "code",
   "execution_count": 10,
   "metadata": {},
   "outputs": [
    {
     "name": "stdout",
     "output_type": "stream",
     "text": [
      "\tnew edge:\t 15 -- 843\n",
      "\tedge removed:\t 69 -- 79\n",
      "\tedge removed:\t 77 -- 404\n",
      "\tnew edge:\t 108 -- 2209\n",
      "\tnew edge:\t 109 -- 1354\n",
      "\tnew edge:\t 111 -- 162\n",
      "\tnew edge:\t 142 -- 654\n",
      "\tnew edge:\t 143 -- 1176\n",
      "\tnew edge:\t 149 -- 1111\n",
      "\tnew edge:\t 151 -- 1190\n",
      "\tnew edge:\t 157 -- 120\n",
      "\tnew edge:\t 194 -- 1310\n",
      "\tnew edge:\t 207 -- 1096\n",
      "\tnew edge:\t 211 -- 1084\n",
      "\tnew edge:\t 223 -- 2320\n",
      "\tnew edge:\t 240 -- 289\n",
      "\tnew edge:\t 340 -- 724\n",
      "\tnew edge:\t 341 -- 1052\n",
      "\tnew edge:\t 393 -- 921\n",
      "\tnew edge:\t 411 -- 1745\n",
      "\tedge removed:\t 413 -- 196\n",
      "\tnew edge:\t 441 -- 794\n",
      "\tnew edge:\t 455 -- 358\n",
      "\tnew edge:\t 467 -- 2267\n",
      "\tnew edge:\t 471 -- 1977\n",
      "\tnew edge:\t 478 -- 1809\n",
      "\tnew edge:\t 508 -- 1884\n",
      "\tnew edge:\t 521 -- 345\n",
      "\tnew edge:\t 529 -- 907\n",
      "\tnew edge:\t 555 -- 932\n",
      "\tnew edge:\t 575 -- 190\n",
      "\tnew edge:\t 626 -- 951\n",
      "\tedge removed:\t 632 -- 79\n",
      "\tnew edge:\t 633 -- 1626\n",
      "\tedge removed:\t 641 -- 642\n",
      "\tnew edge:\t 650 -- 1636\n",
      "\tnew edge:\t 683 -- 2280\n",
      "\tnew edge:\t 695 -- 2290\n",
      "\tnew edge:\t 717 -- 306\n",
      "\tnew edge:\t 741 -- 189\n",
      "\tnew edge:\t 761 -- 2177\n",
      "\tnew edge:\t 775 -- 1166\n",
      "\tnew edge:\t 801 -- 1970\n",
      "\tnew edge:\t 813 -- 1538\n",
      "\tnew edge:\t 824 -- 138\n",
      "\tnew edge:\t 836 -- 1431\n",
      "\tnew edge:\t 838 -- 755\n",
      "\tnew edge:\t 847 -- 2058\n",
      "\tnew edge:\t 853 -- 344\n",
      "\tnew edge:\t 888 -- 1133\n",
      "\tnew edge:\t 922 -- 1357\n",
      "\tnew edge:\t 947 -- 1103\n",
      "\tnew edge:\t 954 -- 850\n",
      "\tnew edge:\t 973 -- 33\n",
      "\tnew edge:\t 998 -- 370\n",
      "\tnew edge:\t 1006 -- 1636\n",
      "\tnew edge:\t 1039 -- 24\n",
      "\tnew edge:\t 1062 -- 1897\n",
      "\tnew edge:\t 1071 -- 2143\n",
      "\tnew edge:\t 1106 -- 2129\n",
      "\tnew edge:\t 1115 -- 2215\n",
      "\tnew edge:\t 1116 -- 256\n",
      "\tnew edge:\t 1118 -- 1522\n",
      "\tnew edge:\t 1122 -- 1660\n",
      "\tedge removed:\t 1138 -- 1140\n",
      "\tnew edge:\t 1142 -- 2028\n",
      "\tnew edge:\t 1165 -- 1019\n",
      "\tnew edge:\t 1181 -- 26\n",
      "\tnew edge:\t 1208 -- 1919\n",
      "\tnew edge:\t 1211 -- 2295\n",
      "\tnew edge:\t 1234 -- 699\n",
      "\tnew edge:\t 1256 -- 1718\n",
      "\tnew edge:\t 1261 -- 2095\n",
      "\tnew edge:\t 1269 -- 1802\n",
      "\tnew edge:\t 1272 -- 939\n",
      "\tnew edge:\t 1290 -- 504\n",
      "\tnew edge:\t 1298 -- 553\n",
      "\tnew edge:\t 1385 -- 1460\n",
      "\tnew edge:\t 1398 -- 1440\n",
      "\tnew edge:\t 1409 -- 26\n",
      "\tnew edge:\t 1414 -- 1233\n",
      "\tnew edge:\t 1438 -- 1476\n",
      "\tnew edge:\t 1479 -- 391\n",
      "\tnew edge:\t 1481 -- 1313\n",
      "\tnew edge:\t 1491 -- 422\n",
      "\tnew edge:\t 1503 -- 828\n",
      "\tnew edge:\t 1521 -- 332\n",
      "\tnew edge:\t 1537 -- 494\n",
      "\tnew edge:\t 1595 -- 805\n",
      "\tnew edge:\t 1628 -- 221\n",
      "\tnew edge:\t 1657 -- 816\n",
      "\tnew edge:\t 1685 -- 629\n",
      "\tnew edge:\t 1689 -- 1859\n",
      "\tnew edge:\t 1695 -- 779\n",
      "\tnew edge:\t 1704 -- 518\n",
      "\tnew edge:\t 1736 -- 733\n",
      "\tnew edge:\t 1784 -- 2421\n",
      "\tedge removed:\t 1786 -- 1788\n",
      "\tedge removed:\t 1805 -- 1806\n",
      "\tnew edge:\t 1806 -- 468\n",
      "\tnew edge:\t 1862 -- 9\n",
      "\tedge removed:\t 1864 -- 769\n",
      "\tnew edge:\t 1885 -- 1145\n",
      "\tnew edge:\t 1905 -- 766\n",
      "\tnew edge:\t 1953 -- 2294\n",
      "\tedge removed:\t 1953 -- 94\n",
      "\tnew edge:\t 1969 -- 1329\n",
      "\tnew edge:\t 2014 -- 1786\n",
      "\tnew edge:\t 2015 -- 1119\n",
      "\tnew edge:\t 2073 -- 2352\n",
      "\tnew edge:\t 2081 -- 71\n",
      "\tnew edge:\t 2088 -- 293\n",
      "\tnew edge:\t 2127 -- 2350\n",
      "\tnew edge:\t 2133 -- 1301\n",
      "\tnew edge:\t 2137 -- 456\n",
      "\tnew edge:\t 2145 -- 267\n",
      "\tnew edge:\t 2149 -- 858\n",
      "\tnew edge:\t 2159 -- 382\n",
      "\tnew edge:\t 2174 -- 1136\n",
      "\tnew edge:\t 2179 -- 1253\n",
      "\tnew edge:\t 2187 -- 2038\n",
      "\tnew edge:\t 2205 -- 1150\n",
      "\tnew edge:\t 2219 -- 50\n",
      "\tnew edge:\t 2232 -- 1182\n",
      "\tnew edge:\t 2236 -- 1962\n",
      "\tedge removed:\t 2260 -- 435\n",
      "\tnew edge:\t 2261 -- 1034\n",
      "\tnew edge:\t 2298 -- 1812\n",
      "\tedge removed:\t 2384 -- 34\n",
      "\tnew edge:\t 2392 -- 1974\n",
      "\tnew edge:\t 2413 -- 676\n",
      "\tnew edge:\t 2415 -- 1689\n"
     ]
    }
   ],
   "source": [
    "prob_add = 0.050\n",
    "prob_remove = 0.005\n",
    "G_random = random_edges(G.copy(), prob_add, prob_remove)"
   ]
  },
  {
   "cell_type": "code",
   "execution_count": 11,
   "metadata": {
    "scrolled": true
   },
   "outputs": [
    {
     "data": {
      "text/html": [
       "<div>\n",
       "<style scoped>\n",
       "    .dataframe tbody tr th:only-of-type {\n",
       "        vertical-align: middle;\n",
       "    }\n",
       "\n",
       "    .dataframe tbody tr th {\n",
       "        vertical-align: top;\n",
       "    }\n",
       "\n",
       "    .dataframe thead th {\n",
       "        text-align: right;\n",
       "    }\n",
       "</style>\n",
       "<table border=\"1\" class=\"dataframe\">\n",
       "  <thead>\n",
       "    <tr style=\"text-align: right;\">\n",
       "      <th>rank</th>\n",
       "      <th>node</th>\n",
       "      <th>score</th>\n",
       "      <th>in edges</th>\n",
       "      <th>out edges</th>\n",
       "    </tr>\n",
       "  </thead>\n",
       "  <tbody>\n",
       "    <tr>\n",
       "      <th>1</th>\n",
       "      <td>404</td>\n",
       "      <td>0.040968</td>\n",
       "      <td>9</td>\n",
       "      <td>0</td>\n",
       "    </tr>\n",
       "    <tr>\n",
       "      <th>2</th>\n",
       "      <td>195</td>\n",
       "      <td>0.027651</td>\n",
       "      <td>80</td>\n",
       "      <td>1</td>\n",
       "    </tr>\n",
       "    <tr>\n",
       "      <th>3</th>\n",
       "      <td>77</td>\n",
       "      <td>0.018416</td>\n",
       "      <td>121</td>\n",
       "      <td>1</td>\n",
       "    </tr>\n",
       "    <tr>\n",
       "      <th>4</th>\n",
       "      <td>728</td>\n",
       "      <td>0.015020</td>\n",
       "      <td>10</td>\n",
       "      <td>0</td>\n",
       "    </tr>\n",
       "    <tr>\n",
       "      <th>5</th>\n",
       "      <td>36</td>\n",
       "      <td>0.010911</td>\n",
       "      <td>168</td>\n",
       "      <td>5</td>\n",
       "    </tr>\n",
       "  </tbody>\n",
       "</table>\n",
       "</div>"
      ],
      "text/plain": [
       "rank node     score  in edges  out edges\n",
       "1     404  0.040968         9          0\n",
       "2     195  0.027651        80          1\n",
       "3      77  0.018416       121          1\n",
       "4     728  0.015020        10          0\n",
       "5      36  0.010911       168          5"
      ]
     },
     "execution_count": 11,
     "metadata": {},
     "output_type": "execute_result"
    }
   ],
   "source": [
    "pr_random = calc_pagerank(G_random)\n",
    "df_random = create_dataframe(pr_random, G_random)\n",
    "df_random.head()"
   ]
  },
  {
   "cell_type": "code",
   "execution_count": 12,
   "metadata": {
    "collapsed": true
   },
   "outputs": [],
   "source": [
    "#randomly add and remove nodes\n",
    "#Edge Copying Model (slide 53 of Week6-SNA-Props)\n",
    "def random_add_one_node(G_in, prob_select, k = 5):\n",
    "    print(\"number of edges before :\"+ str(len(G_in.edges())))\n",
    "    #k is number of edges to be added, random integer 1 between 5\n",
    "    #select k random vertices\n",
    "    k = random.randint(1, k)\n",
    "    #add node to graph\n",
    "    new_node = nx.number_of_nodes(G_in) + 1\n",
    "    G_in.add_node(new_node)\n",
    "\n",
    "    #create list of nodes\n",
    "    list_of_nodes = list(G_in)\n",
    "    k_random_selected_nodes = []\n",
    "    print(\"k = \"+str(k))\n",
    "    k_count = 0\n",
    "    while (k_count < k):\n",
    "        if random.random() < prob_select:\n",
    "            #select random vertice with probability prob_select\n",
    "            k_random_selected_nodes.append(random.choice(list_of_nodes))\n",
    "            k_count += 1\n",
    "    for node in k_random_selected_nodes:\n",
    "         G_in.add_edge(new_node, node)\n",
    "            \n",
    "    prob_random_node = 1 - prob_select\n",
    "    one = 0\n",
    "    while (one < 1):\n",
    "        if random.random() < prob_random_node:\n",
    "            node = random.choice(list_of_nodes)\n",
    "            neighbors = G_in.neighbors(node)\n",
    "            one += 1\n",
    "            for neighbor_node in neighbors:\n",
    "                G_in.add_edge(new_node, neighbor_node)\n",
    "                    \n",
    "    #add edges with prob 1-prob_select from the just\n",
    "    #added new_node and the nodes that are in k_random_selected_nodes\n",
    "    print(\"number of edges after :\"+str(len(G_in.edges())))\n",
    "    return G_in"
   ]
  },
  {
   "cell_type": "markdown",
   "metadata": {},
   "source": [
    "### Remove nodes"
   ]
  },
  {
   "cell_type": "code",
   "execution_count": 13,
   "metadata": {
    "collapsed": true
   },
   "outputs": [],
   "source": [
    "def random_node_removals(G_in, prob_remove, proportional = False, prop_n = None):\n",
    "    if (proportional):\n",
    "        n = prop_n\n",
    "    else:\n",
    "        n = int(0.1 * len(list(G_in)))  # max 10% of nodes\n",
    "    #remove nodes and corresponding edges\n",
    "    print(\"number of nodes before :\"+ str(len(list(G_in))))\n",
    "    to_be_removed = random.randint(1, n)\n",
    "    node_counter = 0\n",
    "    while(node_counter < to_be_removed):\n",
    "        list_of_nodes = list(G_in)\n",
    "        if random.random() < prob_remove:\n",
    "            node_remove = random.choice(list_of_nodes)\n",
    "            G_in.remove_node(node_remove)\n",
    "            node_counter += 1\n",
    "    print(\"number of nodes after :\"+ str(len(list(G_in))))\n",
    "    return G_in"
   ]
  },
  {
   "cell_type": "code",
   "execution_count": 14,
   "metadata": {},
   "outputs": [
    {
     "name": "stdout",
     "output_type": "stream",
     "text": [
      "k = 5\n",
      "number of edges before :16632\n",
      "number of edges after :16637\n"
     ]
    }
   ],
   "source": [
    "prob_select = 0.1\n",
    "G_random_add_nodes = random_add_one_node(G.copy(), prob_select)"
   ]
  },
  {
   "cell_type": "code",
   "execution_count": 15,
   "metadata": {},
   "outputs": [
    {
     "name": "stdout",
     "output_type": "stream",
     "text": [
      "number of nodes before :2426\n",
      "number of nodes after :2406\n"
     ]
    }
   ],
   "source": [
    "prob_remove = 0.1\n",
    "G_random_node_removal = random_node_removals(G.copy(), prob_remove)"
   ]
  },
  {
   "cell_type": "code",
   "execution_count": 16,
   "metadata": {},
   "outputs": [
    {
     "data": {
      "text/html": [
       "<div>\n",
       "<style scoped>\n",
       "    .dataframe tbody tr th:only-of-type {\n",
       "        vertical-align: middle;\n",
       "    }\n",
       "\n",
       "    .dataframe tbody tr th {\n",
       "        vertical-align: top;\n",
       "    }\n",
       "\n",
       "    .dataframe thead th {\n",
       "        text-align: right;\n",
       "    }\n",
       "</style>\n",
       "<table border=\"1\" class=\"dataframe\">\n",
       "  <thead>\n",
       "    <tr style=\"text-align: right;\">\n",
       "      <th>rank</th>\n",
       "      <th>node</th>\n",
       "      <th>score</th>\n",
       "      <th>in edges</th>\n",
       "      <th>out edges</th>\n",
       "    </tr>\n",
       "  </thead>\n",
       "  <tbody>\n",
       "    <tr>\n",
       "      <th>1</th>\n",
       "      <td>404</td>\n",
       "      <td>0.042787</td>\n",
       "      <td>10</td>\n",
       "      <td>0</td>\n",
       "    </tr>\n",
       "    <tr>\n",
       "      <th>2</th>\n",
       "      <td>195</td>\n",
       "      <td>0.019958</td>\n",
       "      <td>80</td>\n",
       "      <td>1</td>\n",
       "    </tr>\n",
       "    <tr>\n",
       "      <th>3</th>\n",
       "      <td>77</td>\n",
       "      <td>0.018627</td>\n",
       "      <td>121</td>\n",
       "      <td>2</td>\n",
       "    </tr>\n",
       "    <tr>\n",
       "      <th>4</th>\n",
       "      <td>728</td>\n",
       "      <td>0.015526</td>\n",
       "      <td>10</td>\n",
       "      <td>0</td>\n",
       "    </tr>\n",
       "    <tr>\n",
       "      <th>5</th>\n",
       "      <td>36</td>\n",
       "      <td>0.011115</td>\n",
       "      <td>168</td>\n",
       "      <td>5</td>\n",
       "    </tr>\n",
       "  </tbody>\n",
       "</table>\n",
       "</div>"
      ],
      "text/plain": [
       "rank node     score  in edges  out edges\n",
       "1     404  0.042787        10          0\n",
       "2     195  0.019958        80          1\n",
       "3      77  0.018627       121          2\n",
       "4     728  0.015526        10          0\n",
       "5      36  0.011115       168          5"
      ]
     },
     "execution_count": 16,
     "metadata": {},
     "output_type": "execute_result"
    }
   ],
   "source": [
    "pr_random_nodes = calc_pagerank(G_random_add_nodes)\n",
    "df_random_nodes = create_dataframe(pr_random_nodes, G_random_add_nodes)\n",
    "df_random_nodes.head()"
   ]
  },
  {
   "cell_type": "code",
   "execution_count": 17,
   "metadata": {},
   "outputs": [
    {
     "data": {
      "text/html": [
       "<div>\n",
       "<style scoped>\n",
       "    .dataframe tbody tr th:only-of-type {\n",
       "        vertical-align: middle;\n",
       "    }\n",
       "\n",
       "    .dataframe tbody tr th {\n",
       "        vertical-align: top;\n",
       "    }\n",
       "\n",
       "    .dataframe thead th {\n",
       "        text-align: right;\n",
       "    }\n",
       "</style>\n",
       "<table border=\"1\" class=\"dataframe\">\n",
       "  <thead>\n",
       "    <tr style=\"text-align: right;\">\n",
       "      <th>rank</th>\n",
       "      <th>node</th>\n",
       "      <th>score</th>\n",
       "      <th>in edges</th>\n",
       "      <th>out edges</th>\n",
       "    </tr>\n",
       "  </thead>\n",
       "  <tbody>\n",
       "    <tr>\n",
       "      <th>1</th>\n",
       "      <td>404</td>\n",
       "      <td>0.042912</td>\n",
       "      <td>10</td>\n",
       "      <td>0</td>\n",
       "    </tr>\n",
       "    <tr>\n",
       "      <th>2</th>\n",
       "      <td>195</td>\n",
       "      <td>0.020021</td>\n",
       "      <td>80</td>\n",
       "      <td>1</td>\n",
       "    </tr>\n",
       "    <tr>\n",
       "      <th>3</th>\n",
       "      <td>77</td>\n",
       "      <td>0.018689</td>\n",
       "      <td>120</td>\n",
       "      <td>2</td>\n",
       "    </tr>\n",
       "    <tr>\n",
       "      <th>4</th>\n",
       "      <td>728</td>\n",
       "      <td>0.015578</td>\n",
       "      <td>10</td>\n",
       "      <td>0</td>\n",
       "    </tr>\n",
       "    <tr>\n",
       "      <th>5</th>\n",
       "      <td>36</td>\n",
       "      <td>0.011135</td>\n",
       "      <td>167</td>\n",
       "      <td>5</td>\n",
       "    </tr>\n",
       "  </tbody>\n",
       "</table>\n",
       "</div>"
      ],
      "text/plain": [
       "rank node     score  in edges  out edges\n",
       "1     404  0.042912        10          0\n",
       "2     195  0.020021        80          1\n",
       "3      77  0.018689       120          2\n",
       "4     728  0.015578        10          0\n",
       "5      36  0.011135       167          5"
      ]
     },
     "execution_count": 17,
     "metadata": {},
     "output_type": "execute_result"
    }
   ],
   "source": [
    "pr_random_nodes = calc_pagerank(G_random_node_removal)\n",
    "df_random_nodes = create_dataframe(pr_random_nodes, G_random_node_removal)\n",
    "df_random_nodes.head()"
   ]
  },
  {
   "cell_type": "markdown",
   "metadata": {},
   "source": [
    "### Random but proportional to node degree or any other statistic."
   ]
  },
  {
   "cell_type": "markdown",
   "metadata": {},
   "source": [
    "#### Proportional to number of incoming/outgoing edges"
   ]
  },
  {
   "cell_type": "code",
   "execution_count": 18,
   "metadata": {
    "collapsed": true
   },
   "outputs": [],
   "source": [
    "def random_node_removals_proportional_indegree(G_in):\n",
    "    #remove nodes and corresponding edges\n",
    "    n = int(0.1 * len(list(G_in)))  # max 10% of nodes\n",
    "    print(\"number of nodes before :\"+ str(len(list(G_in))))\n",
    "    to_be_removed = random.randint(1, n)\n",
    "    node_counter = 0\n",
    "    while(node_counter < to_be_removed):\n",
    "        list_of_nodes = list(G_in)\n",
    "        in_degrees = dict(G_in.in_degree()).values()\n",
    "        prob_degree = [float(i)/sum(in_degrees) for i in in_degrees]\n",
    "        node_remove = np.random.choice(list_of_nodes, p = prob_degree)\n",
    "        G_in.remove_node(node_remove)\n",
    "        node_counter += 1\n",
    "    print(\"number of nodes after :\"+ str(len(list(G_in))))\n",
    "    return G_in"
   ]
  },
  {
   "cell_type": "code",
   "execution_count": 19,
   "metadata": {},
   "outputs": [
    {
     "name": "stdout",
     "output_type": "stream",
     "text": [
      "number of nodes before :2426\n",
      "number of nodes after :2369\n"
     ]
    },
    {
     "data": {
      "text/html": [
       "<div>\n",
       "<style scoped>\n",
       "    .dataframe tbody tr th:only-of-type {\n",
       "        vertical-align: middle;\n",
       "    }\n",
       "\n",
       "    .dataframe tbody tr th {\n",
       "        vertical-align: top;\n",
       "    }\n",
       "\n",
       "    .dataframe thead th {\n",
       "        text-align: right;\n",
       "    }\n",
       "</style>\n",
       "<table border=\"1\" class=\"dataframe\">\n",
       "  <thead>\n",
       "    <tr style=\"text-align: right;\">\n",
       "      <th>rank</th>\n",
       "      <th>node</th>\n",
       "      <th>score</th>\n",
       "      <th>in edges</th>\n",
       "      <th>out edges</th>\n",
       "    </tr>\n",
       "  </thead>\n",
       "  <tbody>\n",
       "    <tr>\n",
       "      <th>1</th>\n",
       "      <td>77</td>\n",
       "      <td>0.029733</td>\n",
       "      <td>109</td>\n",
       "      <td>0</td>\n",
       "    </tr>\n",
       "    <tr>\n",
       "      <th>2</th>\n",
       "      <td>728</td>\n",
       "      <td>0.019244</td>\n",
       "      <td>10</td>\n",
       "      <td>0</td>\n",
       "    </tr>\n",
       "    <tr>\n",
       "      <th>3</th>\n",
       "      <td>135</td>\n",
       "      <td>0.017024</td>\n",
       "      <td>45</td>\n",
       "      <td>4</td>\n",
       "    </tr>\n",
       "    <tr>\n",
       "      <th>4</th>\n",
       "      <td>192</td>\n",
       "      <td>0.011903</td>\n",
       "      <td>49</td>\n",
       "      <td>1</td>\n",
       "    </tr>\n",
       "    <tr>\n",
       "      <th>5</th>\n",
       "      <td>35</td>\n",
       "      <td>0.011779</td>\n",
       "      <td>135</td>\n",
       "      <td>2</td>\n",
       "    </tr>\n",
       "  </tbody>\n",
       "</table>\n",
       "</div>"
      ],
      "text/plain": [
       "rank node     score  in edges  out edges\n",
       "1      77  0.029733       109          0\n",
       "2     728  0.019244        10          0\n",
       "3     135  0.017024        45          4\n",
       "4     192  0.011903        49          1\n",
       "5      35  0.011779       135          2"
      ]
     },
     "execution_count": 19,
     "metadata": {},
     "output_type": "execute_result"
    }
   ],
   "source": [
    "G_rand_prop_in_degree_removal = random_node_removals_proportional_indegree(G.copy())\n",
    "pr_random_nodes = calc_pagerank(G_rand_prop_in_degree_removal)\n",
    "df_random_nodes = create_dataframe(pr_random_nodes, G_rand_prop_in_degree_removal)\n",
    "df_random_nodes.head()"
   ]
  },
  {
   "cell_type": "code",
   "execution_count": 20,
   "metadata": {
    "collapsed": true
   },
   "outputs": [],
   "source": [
    "def random_node_removals_proportional_hits(G_in, authorithy = False):\n",
    "    #remove nodes and corresponding edges\n",
    "    n = int(0.1 * len(list(G_in)))  # max 10% of nodes\n",
    "    print(\"number of nodes before :\"+ str(len(list(G_in))))\n",
    "    to_be_removed = random.randint(1, n)\n",
    "    node_counter = 0\n",
    "    while(node_counter < to_be_removed):\n",
    "        list_of_nodes = list(G_in)\n",
    "        print(int((node_counter / to_be_removed) * 100), \"%\")\n",
    "        if (authorithy):\n",
    "            p = list(nx.hits(G_in)[0].values())\n",
    "        else: # hub\n",
    "            p = list(nx.hits(G_in)[1].values())\n",
    "        node_remove = np.random.choice(list_of_nodes, p = p)\n",
    "        G_in.remove_node(node_remove)\n",
    "        node_counter += 1\n",
    "    print(\"number of nodes after :\"+ str(len(list(G_in))))\n",
    "    return G_in"
   ]
  },
  {
   "cell_type": "code",
   "execution_count": 21,
   "metadata": {},
   "outputs": [
    {
     "name": "stdout",
     "output_type": "stream",
     "text": [
      "number of nodes before :2426\n",
      "0 %\n",
      "2 %\n",
      "4 %\n",
      "6 %\n",
      "9 %\n",
      "11 %\n",
      "13 %\n",
      "15 %\n",
      "18 %\n",
      "20 %\n",
      "22 %\n",
      "25 %\n",
      "27 %\n",
      "29 %\n",
      "31 %\n",
      "34 %\n",
      "36 %\n",
      "38 %\n",
      "40 %\n",
      "43 %\n",
      "45 %\n",
      "47 %\n",
      "50 %\n",
      "52 %\n",
      "54 %\n",
      "56 %\n",
      "59 %\n",
      "61 %\n",
      "63 %\n",
      "65 %\n",
      "68 %\n",
      "70 %\n",
      "72 %\n",
      "75 %\n",
      "77 %\n",
      "79 %\n",
      "81 %\n",
      "84 %\n",
      "86 %\n",
      "88 %\n",
      "90 %\n",
      "93 %\n",
      "95 %\n",
      "97 %\n",
      "number of nodes after :2382\n"
     ]
    },
    {
     "data": {
      "text/html": [
       "<div>\n",
       "<style scoped>\n",
       "    .dataframe tbody tr th:only-of-type {\n",
       "        vertical-align: middle;\n",
       "    }\n",
       "\n",
       "    .dataframe tbody tr th {\n",
       "        vertical-align: top;\n",
       "    }\n",
       "\n",
       "    .dataframe thead th {\n",
       "        text-align: right;\n",
       "    }\n",
       "</style>\n",
       "<table border=\"1\" class=\"dataframe\">\n",
       "  <thead>\n",
       "    <tr style=\"text-align: right;\">\n",
       "      <th>rank</th>\n",
       "      <th>node</th>\n",
       "      <th>score</th>\n",
       "      <th>in edges</th>\n",
       "      <th>out edges</th>\n",
       "    </tr>\n",
       "  </thead>\n",
       "  <tbody>\n",
       "    <tr>\n",
       "      <th>1</th>\n",
       "      <td>404</td>\n",
       "      <td>0.042865</td>\n",
       "      <td>10</td>\n",
       "      <td>0</td>\n",
       "    </tr>\n",
       "    <tr>\n",
       "      <th>2</th>\n",
       "      <td>195</td>\n",
       "      <td>0.019970</td>\n",
       "      <td>72</td>\n",
       "      <td>1</td>\n",
       "    </tr>\n",
       "    <tr>\n",
       "      <th>3</th>\n",
       "      <td>77</td>\n",
       "      <td>0.018685</td>\n",
       "      <td>110</td>\n",
       "      <td>2</td>\n",
       "    </tr>\n",
       "    <tr>\n",
       "      <th>4</th>\n",
       "      <td>728</td>\n",
       "      <td>0.015876</td>\n",
       "      <td>10</td>\n",
       "      <td>0</td>\n",
       "    </tr>\n",
       "    <tr>\n",
       "      <th>5</th>\n",
       "      <td>36</td>\n",
       "      <td>0.010972</td>\n",
       "      <td>157</td>\n",
       "      <td>5</td>\n",
       "    </tr>\n",
       "  </tbody>\n",
       "</table>\n",
       "</div>"
      ],
      "text/plain": [
       "rank node     score  in edges  out edges\n",
       "1     404  0.042865        10          0\n",
       "2     195  0.019970        72          1\n",
       "3      77  0.018685       110          2\n",
       "4     728  0.015876        10          0\n",
       "5      36  0.010972       157          5"
      ]
     },
     "execution_count": 21,
     "metadata": {},
     "output_type": "execute_result"
    }
   ],
   "source": [
    "G_rand_prop_in_degree_removal = random_node_removals_proportional_hits(G.copy(), True)\n",
    "pr_random_nodes = calc_pagerank(G_rand_prop_in_degree_removal)\n",
    "df_random_nodes = create_dataframe(pr_random_nodes, G_rand_prop_in_degree_removal)\n",
    "df_random_nodes.head()"
   ]
  },
  {
   "cell_type": "code",
   "execution_count": null,
   "metadata": {
    "collapsed": true
   },
   "outputs": [],
   "source": [
    "#randomly add and remove nodes\n",
    "#Edge Copying Model (slide 53 of Week6-SNA-Props)\n",
    "def random_add_one_node_proportional_in_degree(G_in, k = 5):\n",
    "    print(\"number of edges before :\"+ str(len(G_in.edges())))\n",
    "    #k is number of edges to be added, random integer 1 between 5\n",
    "    #select k random vertices\n",
    "    k = random.randint(1, k)\n",
    "    #add node to graph\n",
    "    new_node = nx.number_of_nodes(G_in) + 1\n",
    "    G_in.add_node(new_node)\n",
    "\n",
    "    #create list of nodes\n",
    "    list_of_nodes = list(G_in)\n",
    "    k_random_selected_nodes = []\n",
    "    print(\"k = \"+str(k))\n",
    "    k_count = 0\n",
    "    list_of_nodes = list(G_in)\n",
    "    in_degrees = dict(G_in.in_degree()).values()\n",
    "    prob_degree = [float(i)/sum(in_degrees) for i in in_degrees]\n",
    "    while (k_count < k):\n",
    "        node_to_add = np.random.choice(list_of_nodes, p = prob_degree)\n",
    "        k_random_selected_nodes.append(node_to_add)\n",
    "        k_count += 1\n",
    "    \n",
    "    for node in k_random_selected_nodes:\n",
    "        G_in.add_edge(new_node, node)\n",
    "        \n",
    "    prob_degree_rev = [(1 - x) for x in prob_degree]\n",
    "    one = 0\n",
    "    while (one < 1):\n",
    "        node_to_add = np.random.choice(list_of_nodes, p = prob_degree_rev)\n",
    "        one += 1\n",
    "        neighbors = G_in.neighbors(node_to_add)\n",
    "        for neighbor_node in neighbors:\n",
    "            G_in.add_edge(new_node, neighbor_node)          \n",
    "    #add edges with prob 1-prob_select from the just\n",
    "    #added new_node and the nodes that are in k_random_selected_nodes\n",
    "    print(\"number of edges after :\"+str(len(G_in.edges())))\n",
    "    return G_in"
   ]
  },
  {
   "cell_type": "code",
   "execution_count": 120,
   "metadata": {},
   "outputs": [
    {
     "data": {
      "text/plain": [
       "array([3, 2])"
      ]
     },
     "execution_count": 120,
     "metadata": {},
     "output_type": "execute_result"
    }
   ],
   "source": [
    "np.random.choice([1, 2, 3], p = [0.2, 0.2, 0.6], size = 2, replace = False)"
   ]
  },
  {
   "cell_type": "code",
   "execution_count": 154,
   "metadata": {},
   "outputs": [
    {
     "data": {
      "text/plain": [
       "[1, 2, 3]"
      ]
     },
     "execution_count": 154,
     "metadata": {},
     "output_type": "execute_result"
    }
   ],
   "source": [
    "one = [1, 0, 2, 3, 0, 0, 0]\n",
    "two = [2, 3]\n",
    "[i for i in one if i != 0]"
   ]
  },
  {
   "cell_type": "code",
   "execution_count": 144,
   "metadata": {},
   "outputs": [
    {
     "data": {
      "text/plain": [
       "2426"
      ]
     },
     "execution_count": 144,
     "metadata": {},
     "output_type": "execute_result"
    }
   ],
   "source": [
    "len(list(G))"
   ]
  },
  {
   "cell_type": "code",
   "execution_count": 146,
   "metadata": {},
   "outputs": [
    {
     "data": {
      "text/plain": [
       "2426"
      ]
     },
     "execution_count": 146,
     "metadata": {},
     "output_type": "execute_result"
    }
   ],
   "source": [
    "len(dict(G.in_degree()).values())"
   ]
  },
  {
   "cell_type": "code",
   "execution_count": 148,
   "metadata": {},
   "outputs": [
    {
     "data": {
      "text/plain": [
       "2426"
      ]
     },
     "execution_count": 148,
     "metadata": {},
     "output_type": "execute_result"
    }
   ],
   "source": [
    "len([float(i)/sum(dict(G.in_degree()).values()) for i in dict(G.in_degree()).values()])"
   ]
  },
  {
   "cell_type": "code",
   "execution_count": 162,
   "metadata": {
    "collapsed": true
   },
   "outputs": [],
   "source": [
    "#randomly add and remove nodes\n",
    "#Edge Copying Model (slide 53 of Week6-SNA-Props)\n",
    "def random_add_one_node_proportional_in_degree(G_in, k = 5):\n",
    "    print(\"number of edges before :\"+ str(len(G_in.edges())))\n",
    "    #k is number of edges to be added, random integer 1 between 5\n",
    "    #select k random vertices\n",
    "    k = random.randint(1, k)\n",
    "    #add node to graph\n",
    "    new_node = nx.number_of_nodes(G_in) + 1\n",
    "    G_in.add_node(new_node)\n",
    "\n",
    "    #create list of nodes\n",
    "    list_of_nodes = list(G_in)\n",
    "    k_random_selected_nodes = []\n",
    "    print(\"k = \"+str(k))\n",
    "    k_count = 0\n",
    "    list_of_nodes = list(G_in)\n",
    "    in_degrees = dict(G_in.in_degree()).values()\n",
    "    prob_degree = [float(i)/sum(in_degrees) for i in in_degrees]\n",
    "    while (k_count < k):\n",
    "        node_to_add = np.random.choice(list_of_nodes, p = prob_degree)\n",
    "        k_random_selected_nodes.append(node_to_add)\n",
    "        k_count += 1\n",
    "    \n",
    "    for node in k_random_selected_nodes:\n",
    "        G_in.add_edge(new_node, node)\n",
    "        \n",
    "    one = 0\n",
    "    non_zero_probs = [i for i in prob_degree if i != 0.0]\n",
    "    highest_chance_nodes = np.random.choice(list_of_nodes, p = prob_degree,\n",
    "                                            size = (len(non_zero_probs) - 1), replace = False)\n",
    "    node_to_add = set(list_of_nodes).difference(set(highest_chance_nodes)).pop()\n",
    "    neighbors = G_in.neighbors(node_to_add)\n",
    "    for neighbor_node in neighbors:\n",
    "        G_in.add_edge(new_node, neighbor_node)          \n",
    "    #add edges with prob 1-prob_select from the just\n",
    "    #added new_node and the nodes that are in k_random_selected_nodes\n",
    "    print(\"number of edges after :\"+str(len(G_in.edges())))\n",
    "    return G_in"
   ]
  },
  {
   "cell_type": "code",
   "execution_count": 171,
   "metadata": {},
   "outputs": [
    {
     "name": "stdout",
     "output_type": "stream",
     "text": [
      "number of edges before :16631\n",
      "k = 3\n",
      "number of edges after :16636\n"
     ]
    },
    {
     "data": {
      "text/html": [
       "<div>\n",
       "<style scoped>\n",
       "    .dataframe tbody tr th:only-of-type {\n",
       "        vertical-align: middle;\n",
       "    }\n",
       "\n",
       "    .dataframe tbody tr th {\n",
       "        vertical-align: top;\n",
       "    }\n",
       "\n",
       "    .dataframe thead th {\n",
       "        text-align: right;\n",
       "    }\n",
       "</style>\n",
       "<table border=\"1\" class=\"dataframe\">\n",
       "  <thead>\n",
       "    <tr style=\"text-align: right;\">\n",
       "      <th>rank</th>\n",
       "      <th>node</th>\n",
       "      <th>score</th>\n",
       "      <th>in edges</th>\n",
       "      <th>out edges</th>\n",
       "    </tr>\n",
       "  </thead>\n",
       "  <tbody>\n",
       "    <tr>\n",
       "      <th>1</th>\n",
       "      <td>404</td>\n",
       "      <td>0.042792</td>\n",
       "      <td>10</td>\n",
       "      <td>0</td>\n",
       "    </tr>\n",
       "    <tr>\n",
       "      <th>2</th>\n",
       "      <td>195</td>\n",
       "      <td>0.019962</td>\n",
       "      <td>80</td>\n",
       "      <td>1</td>\n",
       "    </tr>\n",
       "    <tr>\n",
       "      <th>3</th>\n",
       "      <td>77</td>\n",
       "      <td>0.018626</td>\n",
       "      <td>121</td>\n",
       "      <td>2</td>\n",
       "    </tr>\n",
       "    <tr>\n",
       "      <th>4</th>\n",
       "      <td>728</td>\n",
       "      <td>0.015556</td>\n",
       "      <td>10</td>\n",
       "      <td>0</td>\n",
       "    </tr>\n",
       "    <tr>\n",
       "      <th>5</th>\n",
       "      <td>36</td>\n",
       "      <td>0.011119</td>\n",
       "      <td>168</td>\n",
       "      <td>5</td>\n",
       "    </tr>\n",
       "  </tbody>\n",
       "</table>\n",
       "</div>"
      ],
      "text/plain": [
       "rank node     score  in edges  out edges\n",
       "1     404  0.042792        10          0\n",
       "2     195  0.019962        80          1\n",
       "3      77  0.018626       121          2\n",
       "4     728  0.015556        10          0\n",
       "5      36  0.011119       168          5"
      ]
     },
     "execution_count": 171,
     "metadata": {},
     "output_type": "execute_result"
    }
   ],
   "source": [
    "G_rand_prop_in_degree_removal = random_add_one_node_proportional_in_degree(G.copy())\n",
    "pr_random_nodes = calc_pagerank(G_rand_prop_in_degree_removal)\n",
    "df_random_nodes = create_dataframe(pr_random_nodes, G_rand_prop_in_degree_removal)\n",
    "df_random_nodes.head()"
   ]
  }
 ],
 "metadata": {
  "kernelspec": {
   "display_name": "Python 3",
   "language": "python",
   "name": "python3"
  },
  "language_info": {
   "codemirror_mode": {
    "name": "ipython",
    "version": 3
   },
   "file_extension": ".py",
   "mimetype": "text/x-python",
   "name": "python",
   "nbconvert_exporter": "python",
   "pygments_lexer": "ipython3",
   "version": "3.6.3"
  }
 },
 "nbformat": 4,
 "nbformat_minor": 2
}
