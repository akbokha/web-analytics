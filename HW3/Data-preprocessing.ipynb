{
 "cells": [
  {
   "cell_type": "markdown",
   "metadata": {},
   "source": [
    "# Web Analytics (2IID0) Homework Assignment 3\n",
    "## Exceptional Model Mining vs A/B Testing\n",
    "#### <i>Abdel K. Bokharouss, Bart van Helvert, Joris Rombouts & Remco Surtel</i>   -   January 2018"
   ]
  },
  {
   "cell_type": "markdown",
   "metadata": {},
   "source": [
    "In this assignment we will combine Exceptional Model Mining (EMM) and A/B Testing. The dataset has been provided by StudyPortals. The core concept of A/B Testing is that each test subject gets a corresponding variant assigned. After that, we measure the rate of success per variant and the variant with most success is kept, while the other is discarded. However, subgroups that might be served better by the losing version will be disadvantaged. To do better than this, we further mine the data to find coherent subgroups where alternative delivers more success. New visitors to the website that correspond to a specific subgroup, will get either version A or B of the website. Exceptional Model Mining allows us to mine the data further, so that we can discover these subgroups. First, we need to make a decision which attributes will be used as descriptors and which of the attributes will be used as targets."
   ]
  },
  {
   "cell_type": "markdown",
   "metadata": {},
   "source": [
    "<font color = \"red\">Search for \"to-do\" (Ctrl-F) to find the to-do's that need some evaluation/action</font>"
   ]
  },
  {
   "cell_type": "markdown",
   "metadata": {},
   "source": [
    "### <font color=\"green\">imports, preparation and configuration</font>"
   ]
  },
  {
   "cell_type": "code",
   "execution_count": 1,
   "metadata": {
    "collapsed": true
   },
   "outputs": [],
   "source": [
    "import pandas as pd\n",
    "import numpy as np\n",
    "import seaborn as sns\n",
    "import matplotlib.pyplot as plt\n",
    "%matplotlib inline"
   ]
  },
  {
   "cell_type": "markdown",
   "metadata": {},
   "source": [
    "# 1 Data Preprocessing"
   ]
  },
  {
   "cell_type": "markdown",
   "metadata": {},
   "source": [
    "<b><i>a. Which columns, available in which of the input files, must we designate as our targets in the EMM process?</i></b><br>\n",
    "The raw data that StudyPortals delivered, contains of three datasets: `clicking_data`, `experiment_details` and `meta_data`. The primary imporance to StudyPortals is analyzing the association between which version of the website were shown (version A or B) and whether or not the user clicked on the button. Therefore the binary attribute `action` of the dataset `clicking_data` is the first target attribute we define. However, we also want to know which version (A or B) was showed to the user. Therefore the attribute `condition` of the dataset `experiment_details` is the second target attribute we define."
   ]
  },
  {
   "cell_type": "markdown",
   "metadata": {},
   "source": [
    "<b><i>b.</i></b><br>After the targets are defined, the next step to do is to select which attributes will be used as descriptors. The goal is to gather as much descriptor informaiton as is reasonably possible. First we explore the data, and check how many NAN-values the three datasets contain."
   ]
  },
  {
   "cell_type": "code",
   "execution_count": 2,
   "metadata": {},
   "outputs": [
    {
     "data": {
      "text/html": [
       "<div>\n",
       "<style scoped>\n",
       "    .dataframe tbody tr th:only-of-type {\n",
       "        vertical-align: middle;\n",
       "    }\n",
       "\n",
       "    .dataframe tbody tr th {\n",
       "        vertical-align: top;\n",
       "    }\n",
       "\n",
       "    .dataframe thead th {\n",
       "        text-align: right;\n",
       "    }\n",
       "</style>\n",
       "<table border=\"1\" class=\"dataframe\">\n",
       "  <thead>\n",
       "    <tr style=\"text-align: right;\">\n",
       "      <th></th>\n",
       "      <th>action</th>\n",
       "      <th>action_label</th>\n",
       "      <th>action_type</th>\n",
       "      <th>tstamp</th>\n",
       "      <th>user_session</th>\n",
       "    </tr>\n",
       "  </thead>\n",
       "  <tbody>\n",
       "    <tr>\n",
       "      <th>0</th>\n",
       "      <td>clic</td>\n",
       "      <td>revenue</td>\n",
       "      <td>link</td>\n",
       "      <td>1472755490</td>\n",
       "      <td>379881d5-32d7-49f4-bf5b-81fefbc5fcce</td>\n",
       "    </tr>\n",
       "    <tr>\n",
       "      <th>1</th>\n",
       "      <td>clic</td>\n",
       "      <td>revenue</td>\n",
       "      <td>link</td>\n",
       "      <td>1472839117</td>\n",
       "      <td>2a0f4218-4f62-479b-845c-109b2720e6e7</td>\n",
       "    </tr>\n",
       "    <tr>\n",
       "      <th>2</th>\n",
       "      <td>clic</td>\n",
       "      <td>revenue</td>\n",
       "      <td>link</td>\n",
       "      <td>1472879219</td>\n",
       "      <td>a511b6dc-2dca-455b-b5e2-bf2d224a5505</td>\n",
       "    </tr>\n",
       "    <tr>\n",
       "      <th>3</th>\n",
       "      <td>clic</td>\n",
       "      <td>revenue</td>\n",
       "      <td>link</td>\n",
       "      <td>1472890876</td>\n",
       "      <td>9fb616a7-4e13-4307-ac92-0b075d7d376a</td>\n",
       "    </tr>\n",
       "    <tr>\n",
       "      <th>4</th>\n",
       "      <td>clic</td>\n",
       "      <td>revenue</td>\n",
       "      <td>link</td>\n",
       "      <td>1472892380</td>\n",
       "      <td>64816772-688d-4460-a591-79aa49bba0d5</td>\n",
       "    </tr>\n",
       "  </tbody>\n",
       "</table>\n",
       "</div>"
      ],
      "text/plain": [
       "  action action_label action_type      tstamp  \\\n",
       "0   clic      revenue        link  1472755490   \n",
       "1   clic      revenue        link  1472839117   \n",
       "2   clic      revenue        link  1472879219   \n",
       "3   clic      revenue        link  1472890876   \n",
       "4   clic      revenue        link  1472892380   \n",
       "\n",
       "                           user_session  \n",
       "0  379881d5-32d7-49f4-bf5b-81fefbc5fcce  \n",
       "1  2a0f4218-4f62-479b-845c-109b2720e6e7  \n",
       "2  a511b6dc-2dca-455b-b5e2-bf2d224a5505  \n",
       "3  9fb616a7-4e13-4307-ac92-0b075d7d376a  \n",
       "4  64816772-688d-4460-a591-79aa49bba0d5  "
      ]
     },
     "execution_count": 2,
     "metadata": {},
     "output_type": "execute_result"
    }
   ],
   "source": [
    "df_click = pd.read_csv('data/clicking_data.csv')\n",
    "df_click.head()"
   ]
  },
  {
   "cell_type": "code",
   "execution_count": 3,
   "metadata": {},
   "outputs": [
    {
     "name": "stdout",
     "output_type": "stream",
     "text": [
      "<class 'pandas.core.frame.DataFrame'>\n",
      "RangeIndex: 919 entries, 0 to 918\n",
      "Data columns (total 5 columns):\n",
      "action          919 non-null object\n",
      "action_label    919 non-null object\n",
      "action_type     919 non-null object\n",
      "tstamp          919 non-null int64\n",
      "user_session    919 non-null object\n",
      "dtypes: int64(1), object(4)\n",
      "memory usage: 36.0+ KB\n"
     ]
    }
   ],
   "source": [
    "df_click.info()"
   ]
  },
  {
   "cell_type": "code",
   "execution_count": 4,
   "metadata": {},
   "outputs": [
    {
     "data": {
      "text/html": [
       "<div>\n",
       "<style scoped>\n",
       "    .dataframe tbody tr th:only-of-type {\n",
       "        vertical-align: middle;\n",
       "    }\n",
       "\n",
       "    .dataframe tbody tr th {\n",
       "        vertical-align: top;\n",
       "    }\n",
       "\n",
       "    .dataframe thead th {\n",
       "        text-align: right;\n",
       "    }\n",
       "</style>\n",
       "<table border=\"1\" class=\"dataframe\">\n",
       "  <thead>\n",
       "    <tr style=\"text-align: right;\">\n",
       "      <th></th>\n",
       "      <th>user_id</th>\n",
       "      <th>experiment_id</th>\n",
       "      <th>condition</th>\n",
       "      <th>collector_tstamp</th>\n",
       "    </tr>\n",
       "  </thead>\n",
       "  <tbody>\n",
       "    <tr>\n",
       "      <th>0</th>\n",
       "      <td>7794c3b2-4d08-4bb8-bfc9-b50935fed1fc</td>\n",
       "      <td>86-v2-Butonny buttons</td>\n",
       "      <td>1-Control</td>\n",
       "      <td>2016-09-01 12:21:25.716000</td>\n",
       "    </tr>\n",
       "    <tr>\n",
       "      <th>1</th>\n",
       "      <td>0baf5074-74bd-4257-ac9f-a07d25f37667</td>\n",
       "      <td>86-v2-Butonny buttons</td>\n",
       "      <td>2-Buttony-Conversion-Buttons</td>\n",
       "      <td>2016-09-01 12:22:01.726000</td>\n",
       "    </tr>\n",
       "    <tr>\n",
       "      <th>2</th>\n",
       "      <td>623d19a6-64b4-412a-8143-750995742605</td>\n",
       "      <td>86-v2-Butonny buttons</td>\n",
       "      <td>2-Buttony-Conversion-Buttons</td>\n",
       "      <td>2016-09-01 12:22:31.797000</td>\n",
       "    </tr>\n",
       "    <tr>\n",
       "      <th>3</th>\n",
       "      <td>d4b62fc9-dead-441f-936a-db08c2711a1e</td>\n",
       "      <td>86-v2-Butonny buttons</td>\n",
       "      <td>2-Buttony-Conversion-Buttons</td>\n",
       "      <td>2016-09-01 12:22:53.218000</td>\n",
       "    </tr>\n",
       "    <tr>\n",
       "      <th>4</th>\n",
       "      <td>8de611c2-0e10-4f63-a016-0f1bd7a683e1</td>\n",
       "      <td>86-v2-Butonny buttons</td>\n",
       "      <td>1-Control</td>\n",
       "      <td>2016-09-01 12:24:15.978000</td>\n",
       "    </tr>\n",
       "  </tbody>\n",
       "</table>\n",
       "</div>"
      ],
      "text/plain": [
       "                                user_id          experiment_id  \\\n",
       "0  7794c3b2-4d08-4bb8-bfc9-b50935fed1fc  86-v2-Butonny buttons   \n",
       "1  0baf5074-74bd-4257-ac9f-a07d25f37667  86-v2-Butonny buttons   \n",
       "2  623d19a6-64b4-412a-8143-750995742605  86-v2-Butonny buttons   \n",
       "3  d4b62fc9-dead-441f-936a-db08c2711a1e  86-v2-Butonny buttons   \n",
       "4  8de611c2-0e10-4f63-a016-0f1bd7a683e1  86-v2-Butonny buttons   \n",
       "\n",
       "                      condition            collector_tstamp  \n",
       "0                     1-Control  2016-09-01 12:21:25.716000  \n",
       "1  2-Buttony-Conversion-Buttons  2016-09-01 12:22:01.726000  \n",
       "2  2-Buttony-Conversion-Buttons  2016-09-01 12:22:31.797000  \n",
       "3  2-Buttony-Conversion-Buttons  2016-09-01 12:22:53.218000  \n",
       "4                     1-Control  2016-09-01 12:24:15.978000  "
      ]
     },
     "execution_count": 4,
     "metadata": {},
     "output_type": "execute_result"
    }
   ],
   "source": [
    "df_experiment = pd.read_csv('data/experiment_details_new.csv') # to-do: need to use \"_new\" dataset?\n",
    "df_experiment.head()"
   ]
  },
  {
   "cell_type": "code",
   "execution_count": 5,
   "metadata": {},
   "outputs": [
    {
     "name": "stdout",
     "output_type": "stream",
     "text": [
      "<class 'pandas.core.frame.DataFrame'>\n",
      "RangeIndex: 14847 entries, 0 to 14846\n",
      "Data columns (total 4 columns):\n",
      "user_id             14764 non-null object\n",
      "experiment_id       14847 non-null object\n",
      "condition           14847 non-null object\n",
      "collector_tstamp    14847 non-null object\n",
      "dtypes: object(4)\n",
      "memory usage: 464.0+ KB\n"
     ]
    }
   ],
   "source": [
    "df_experiment.info()"
   ]
  },
  {
   "cell_type": "code",
   "execution_count": 6,
   "metadata": {},
   "outputs": [
    {
     "data": {
      "text/html": [
       "<div>\n",
       "<style scoped>\n",
       "    .dataframe tbody tr th:only-of-type {\n",
       "        vertical-align: middle;\n",
       "    }\n",
       "\n",
       "    .dataframe tbody tr th {\n",
       "        vertical-align: top;\n",
       "    }\n",
       "\n",
       "    .dataframe thead th {\n",
       "        text-align: right;\n",
       "    }\n",
       "</style>\n",
       "<table border=\"1\" class=\"dataframe\">\n",
       "  <thead>\n",
       "    <tr style=\"text-align: right;\">\n",
       "      <th></th>\n",
       "      <th>platform</th>\n",
       "      <th>etl_tstamp</th>\n",
       "      <th>collector_tstamp</th>\n",
       "      <th>dvce_created_tstamp</th>\n",
       "      <th>event</th>\n",
       "      <th>domain_userid</th>\n",
       "      <th>domain_sessionid</th>\n",
       "      <th>user_id</th>\n",
       "      <th>geo_country</th>\n",
       "      <th>geo_region</th>\n",
       "      <th>...</th>\n",
       "      <th>pp_yoffset_max</th>\n",
       "      <th>useragent</th>\n",
       "      <th>browser_language</th>\n",
       "      <th>browser_cookies</th>\n",
       "      <th>browser_colordepth</th>\n",
       "      <th>browser_viewdepth</th>\n",
       "      <th>browser_viewheight</th>\n",
       "      <th>os_name</th>\n",
       "      <th>os_timezone</th>\n",
       "      <th>dvce_type</th>\n",
       "    </tr>\n",
       "  </thead>\n",
       "  <tbody>\n",
       "    <tr>\n",
       "      <th>0</th>\n",
       "      <td>web</td>\n",
       "      <td>06:22.2</td>\n",
       "      <td>06:33.7</td>\n",
       "      <td>06:26.2</td>\n",
       "      <td>page_ping</td>\n",
       "      <td>e8702985-ffee-4ede-a89f-396312539812</td>\n",
       "      <td>0ca47d52-1375-4346-ab2e-b205b64f642e</td>\n",
       "      <td>bc5effb7-a476-414f-a62e-5479022e7553</td>\n",
       "      <td>GR</td>\n",
       "      <td></td>\n",
       "      <td>...</td>\n",
       "      <td>915.0</td>\n",
       "      <td>Mozilla/5.0 (Linux; Android 4.4.4; GT-I9300 Bu...</td>\n",
       "      <td>el-GR</td>\n",
       "      <td>True</td>\n",
       "      <td>32</td>\n",
       "      <td>360.0</td>\n",
       "      <td>510.0</td>\n",
       "      <td>Android 4.x</td>\n",
       "      <td>Europe/Helsinki</td>\n",
       "      <td>Mobile</td>\n",
       "    </tr>\n",
       "    <tr>\n",
       "      <th>1</th>\n",
       "      <td>web</td>\n",
       "      <td>06:49.2</td>\n",
       "      <td>07:00.2</td>\n",
       "      <td>06:52.6</td>\n",
       "      <td>page_ping</td>\n",
       "      <td>e8702985-ffee-4ede-a89f-396312539812</td>\n",
       "      <td>0ca47d52-1375-4346-ab2e-b205b64f642e</td>\n",
       "      <td>bc5effb7-a476-414f-a62e-5479022e7553</td>\n",
       "      <td>GR</td>\n",
       "      <td></td>\n",
       "      <td>...</td>\n",
       "      <td>1133.0</td>\n",
       "      <td>Mozilla/5.0 (Linux; Android 4.4.4; GT-I9300 Bu...</td>\n",
       "      <td>el-GR</td>\n",
       "      <td>True</td>\n",
       "      <td>32</td>\n",
       "      <td>360.0</td>\n",
       "      <td>615.0</td>\n",
       "      <td>Android 4.x</td>\n",
       "      <td>Europe/Helsinki</td>\n",
       "      <td>Mobile</td>\n",
       "    </tr>\n",
       "    <tr>\n",
       "      <th>2</th>\n",
       "      <td>web</td>\n",
       "      <td>07:09.2</td>\n",
       "      <td>07:20.1</td>\n",
       "      <td>07:12.6</td>\n",
       "      <td>page_ping</td>\n",
       "      <td>e8702985-ffee-4ede-a89f-396312539812</td>\n",
       "      <td>0ca47d52-1375-4346-ab2e-b205b64f642e</td>\n",
       "      <td>bc5effb7-a476-414f-a62e-5479022e7553</td>\n",
       "      <td>GR</td>\n",
       "      <td></td>\n",
       "      <td>...</td>\n",
       "      <td>3216.0</td>\n",
       "      <td>Mozilla/5.0 (Linux; Android 4.4.4; GT-I9300 Bu...</td>\n",
       "      <td>el-GR</td>\n",
       "      <td>True</td>\n",
       "      <td>32</td>\n",
       "      <td>360.0</td>\n",
       "      <td>510.0</td>\n",
       "      <td>Android 4.x</td>\n",
       "      <td>Europe/Helsinki</td>\n",
       "      <td>Mobile</td>\n",
       "    </tr>\n",
       "    <tr>\n",
       "      <th>3</th>\n",
       "      <td>web</td>\n",
       "      <td>09:49.3</td>\n",
       "      <td>10:01.0</td>\n",
       "      <td>09:53.4</td>\n",
       "      <td>page_ping</td>\n",
       "      <td>e8702985-ffee-4ede-a89f-396312539812</td>\n",
       "      <td>0ca47d52-1375-4346-ab2e-b205b64f642e</td>\n",
       "      <td>bc5effb7-a476-414f-a62e-5479022e7553</td>\n",
       "      <td>GR</td>\n",
       "      <td></td>\n",
       "      <td>...</td>\n",
       "      <td>3411.0</td>\n",
       "      <td>Mozilla/5.0 (Linux; Android 4.4.4; GT-I9300 Bu...</td>\n",
       "      <td>el-GR</td>\n",
       "      <td>True</td>\n",
       "      <td>32</td>\n",
       "      <td>360.0</td>\n",
       "      <td>510.0</td>\n",
       "      <td>Android 4.x</td>\n",
       "      <td>Europe/Helsinki</td>\n",
       "      <td>Mobile</td>\n",
       "    </tr>\n",
       "    <tr>\n",
       "      <th>4</th>\n",
       "      <td>web</td>\n",
       "      <td>10:40.3</td>\n",
       "      <td>10:51.8</td>\n",
       "      <td>10:44.4</td>\n",
       "      <td>page_ping</td>\n",
       "      <td>e8702985-ffee-4ede-a89f-396312539812</td>\n",
       "      <td>0ca47d52-1375-4346-ab2e-b205b64f642e</td>\n",
       "      <td>bc5effb7-a476-414f-a62e-5479022e7553</td>\n",
       "      <td>GR</td>\n",
       "      <td></td>\n",
       "      <td>...</td>\n",
       "      <td>0.0</td>\n",
       "      <td>Mozilla/5.0 (Linux; Android 4.4.4; GT-I9300 Bu...</td>\n",
       "      <td>el-GR</td>\n",
       "      <td>True</td>\n",
       "      <td>32</td>\n",
       "      <td>360.0</td>\n",
       "      <td>510.0</td>\n",
       "      <td>Android 4.x</td>\n",
       "      <td>Europe/Helsinki</td>\n",
       "      <td>Mobile</td>\n",
       "    </tr>\n",
       "  </tbody>\n",
       "</table>\n",
       "<p>5 rows × 30 columns</p>\n",
       "</div>"
      ],
      "text/plain": [
       "  platform etl_tstamp collector_tstamp dvce_created_tstamp      event  \\\n",
       "0      web    06:22.2          06:33.7             06:26.2  page_ping   \n",
       "1      web    06:49.2          07:00.2             06:52.6  page_ping   \n",
       "2      web    07:09.2          07:20.1             07:12.6  page_ping   \n",
       "3      web    09:49.3          10:01.0             09:53.4  page_ping   \n",
       "4      web    10:40.3          10:51.8             10:44.4  page_ping   \n",
       "\n",
       "                          domain_userid                      domain_sessionid  \\\n",
       "0  e8702985-ffee-4ede-a89f-396312539812  0ca47d52-1375-4346-ab2e-b205b64f642e   \n",
       "1  e8702985-ffee-4ede-a89f-396312539812  0ca47d52-1375-4346-ab2e-b205b64f642e   \n",
       "2  e8702985-ffee-4ede-a89f-396312539812  0ca47d52-1375-4346-ab2e-b205b64f642e   \n",
       "3  e8702985-ffee-4ede-a89f-396312539812  0ca47d52-1375-4346-ab2e-b205b64f642e   \n",
       "4  e8702985-ffee-4ede-a89f-396312539812  0ca47d52-1375-4346-ab2e-b205b64f642e   \n",
       "\n",
       "                                user_id geo_country geo_region    ...      \\\n",
       "0  bc5effb7-a476-414f-a62e-5479022e7553          GR               ...       \n",
       "1  bc5effb7-a476-414f-a62e-5479022e7553          GR               ...       \n",
       "2  bc5effb7-a476-414f-a62e-5479022e7553          GR               ...       \n",
       "3  bc5effb7-a476-414f-a62e-5479022e7553          GR               ...       \n",
       "4  bc5effb7-a476-414f-a62e-5479022e7553          GR               ...       \n",
       "\n",
       "  pp_yoffset_max                                          useragent  \\\n",
       "0          915.0  Mozilla/5.0 (Linux; Android 4.4.4; GT-I9300 Bu...   \n",
       "1         1133.0  Mozilla/5.0 (Linux; Android 4.4.4; GT-I9300 Bu...   \n",
       "2         3216.0  Mozilla/5.0 (Linux; Android 4.4.4; GT-I9300 Bu...   \n",
       "3         3411.0  Mozilla/5.0 (Linux; Android 4.4.4; GT-I9300 Bu...   \n",
       "4            0.0  Mozilla/5.0 (Linux; Android 4.4.4; GT-I9300 Bu...   \n",
       "\n",
       "  browser_language browser_cookies browser_colordepth browser_viewdepth  \\\n",
       "0            el-GR            True                 32             360.0   \n",
       "1            el-GR            True                 32             360.0   \n",
       "2            el-GR            True                 32             360.0   \n",
       "3            el-GR            True                 32             360.0   \n",
       "4            el-GR            True                 32             360.0   \n",
       "\n",
       "  browser_viewheight      os_name      os_timezone  dvce_type  \n",
       "0              510.0  Android 4.x  Europe/Helsinki     Mobile  \n",
       "1              615.0  Android 4.x  Europe/Helsinki     Mobile  \n",
       "2              510.0  Android 4.x  Europe/Helsinki     Mobile  \n",
       "3              510.0  Android 4.x  Europe/Helsinki     Mobile  \n",
       "4              510.0  Android 4.x  Europe/Helsinki     Mobile  \n",
       "\n",
       "[5 rows x 30 columns]"
      ]
     },
     "execution_count": 6,
     "metadata": {},
     "output_type": "execute_result"
    }
   ],
   "source": [
    "#df_meta = pd.read_csv('data/meta_data_modified.csv', encoding = 'ansi')\n",
    "df_meta = pd.read_table('data/meta_data.tsv', encoding='latin-1')\n",
    "df_meta.head()"
   ]
  },
  {
   "cell_type": "code",
   "execution_count": 7,
   "metadata": {},
   "outputs": [
    {
     "name": "stdout",
     "output_type": "stream",
     "text": [
      "<class 'pandas.core.frame.DataFrame'>\n",
      "RangeIndex: 171949 entries, 0 to 171948\n",
      "Data columns (total 30 columns):\n",
      "platform               171949 non-null object\n",
      "etl_tstamp             171949 non-null object\n",
      "collector_tstamp       171949 non-null object\n",
      "dvce_created_tstamp    171949 non-null object\n",
      "event                  171949 non-null object\n",
      "domain_userid          171949 non-null object\n",
      "domain_sessionid       171949 non-null object\n",
      "user_id                171949 non-null object\n",
      "geo_country            171690 non-null object\n",
      "geo_region             171949 non-null object\n",
      "geo_city               88981 non-null object\n",
      "geo_region_name        87899 non-null object\n",
      "geo_timezone           165463 non-null object\n",
      "page_url               171949 non-null object\n",
      "page_title             171943 non-null object\n",
      "page_referrer          155101 non-null object\n",
      "refr_source            29713 non-null object\n",
      "pp_xoffset_min         111222 non-null float64\n",
      "pp_xoffset_max         111222 non-null float64\n",
      "pp_yoffset_min         111222 non-null float64\n",
      "pp_yoffset_max         111222 non-null float64\n",
      "useragent              171949 non-null object\n",
      "browser_language       171927 non-null object\n",
      "browser_cookies        171949 non-null bool\n",
      "browser_colordepth     171949 non-null int64\n",
      "browser_viewdepth      171944 non-null float64\n",
      "browser_viewheight     171944 non-null float64\n",
      "os_name                171949 non-null object\n",
      "os_timezone            171604 non-null object\n",
      "dvce_type              171949 non-null object\n",
      "dtypes: bool(1), float64(6), int64(1), object(22)\n",
      "memory usage: 38.2+ MB\n"
     ]
    }
   ],
   "source": [
    "df_meta.info()"
   ]
  },
  {
   "cell_type": "code",
   "execution_count": 8,
   "metadata": {
    "collapsed": true
   },
   "outputs": [],
   "source": [
    "# sum(df_meta.apply(lambda x: sum(x.isnull().values), axis = 1) > 0) # number of rows with NaN values"
   ]
  },
  {
   "cell_type": "markdown",
   "metadata": {},
   "source": [
    "This whole assignment is about the analysis of the behavior of visitors in terms of an unusual association between which version of the website they were shown (version A or B) and whether or not they clicked on a particular button. Before we actually make an assesment of the best possible strategy for the missing values, we first need to evaluate the volume and completeness of the attributes which identify a specific visitor since the visitors are at the core of this analysis."
   ]
  },
  {
   "cell_type": "code",
   "execution_count": 9,
   "metadata": {},
   "outputs": [
    {
     "data": {
      "text/plain": [
       "domain_userid        8666\n",
       "domain_sessionid    10310\n",
       "user_id              9373\n",
       "dtype: int64"
      ]
     },
     "execution_count": 9,
     "metadata": {},
     "output_type": "execute_result"
    }
   ],
   "source": [
    "df_meta[['domain_userid', 'domain_sessionid', 'user_id']].apply(\n",
    "    pd.Series.nunique) # unique number of values for each column"
   ]
  },
  {
   "cell_type": "code",
   "execution_count": 10,
   "metadata": {},
   "outputs": [
    {
     "data": {
      "text/plain": [
       "('unique user-sessions in click data: ', 778)"
      ]
     },
     "execution_count": 10,
     "metadata": {},
     "output_type": "execute_result"
    }
   ],
   "source": [
    "\"unique user-sessions in click data: \", len(df_click.user_session.unique())"
   ]
  },
  {
   "cell_type": "code",
   "execution_count": 11,
   "metadata": {},
   "outputs": [
    {
     "data": {
      "text/plain": [
       "(\"unique user-id's in experiment data: \", 9361)"
      ]
     },
     "execution_count": 11,
     "metadata": {},
     "output_type": "execute_result"
    }
   ],
   "source": [
    "\"unique user-id's in experiment data: \", len(df_experiment.user_id.unique())"
   ]
  },
  {
   "cell_type": "markdown",
   "metadata": {},
   "source": [
    "Each user is identified with a unique user id and each visit is idenitified by a unique user session. Since we are interested in whether an user which visits the website in a certain version, clicks on a particular button or not during a session, we want to limt ourselves to the session id's for which action labels are availabe. We can see that the number of user-id's and session-id's in the three different datasets are not in line with eachother. The goal is to acquire a dataframe in which we have for each user session and id, the experiment details and all the relevant information we can obtain from the meta data file."
   ]
  },
  {
   "cell_type": "markdown",
   "metadata": {},
   "source": [
    "### First step: Removing users who have seen two versions "
   ]
  },
  {
   "cell_type": "markdown",
   "metadata": {},
   "source": [
    "It is customary in A/B testing and similar research to remove users that have seen both versions of the web page, as is explained in the referenced paper on A/B- and A&B-testing with EMM. This is the first step that we are going to make in the pre-processing part of the assignment. Note that we can obtain the version to which users are exposed from the experiment dataset. If a user (identified with a particular <i>user_id</i> in this problem context) has different entries in the experiment dataset with different values in the <i>condition</i> column (website version indicator), this user should be removed from the dataset(s) which is going to be used in this assignment."
   ]
  },
  {
   "cell_type": "code",
   "execution_count": 12,
   "metadata": {},
   "outputs": [
    {
     "data": {
      "text/plain": [
       "(235, 5)"
      ]
     },
     "execution_count": 12,
     "metadata": {},
     "output_type": "execute_result"
    }
   ],
   "source": [
    "pd.concat(g for _, g in df_click.groupby(\"user_session\") if len(g) > 1).shape # just an oberservation"
   ]
  },
  {
   "cell_type": "markdown",
   "metadata": {},
   "source": [
    "From the previous statement we can conclude that there are multiple instances of the same unique <i>user_session</i> identifier in the clicking data. This is already an indicator that having users who have seen the two versions of the website can be deteriorating for the research results. Let's start looking for the users (id's, sessions) in question."
   ]
  },
  {
   "cell_type": "code",
   "execution_count": 13,
   "metadata": {
    "collapsed": true
   },
   "outputs": [],
   "source": [
    "two_versions = df_experiment.copy()\n",
    "two_versions['count'] = 1 # new column to be used later\n",
    "two_versions = two_versions.pivot_table(index = 'user_id', columns = 'condition', aggfunc = sum)\n",
    "two_versions.fillna(0, inplace = True)\n",
    "two_versions[\"two_versions_one_userid\"] = np.where((((two_versions[('count', '1-Control')] > 0) & (two_versions[('count', '2-Buttony-Conversion-Buttons')] == 0)) |\n",
    "                                            ((two_versions[('count', '1-Control')] == 0) & (two_versions[('count', '2-Buttony-Conversion-Buttons')] > 0))), 0, 1)\n",
    "have_seen_two_versions = list(two_versions.loc[two_versions.two_versions_one_userid == 1].index.unique())"
   ]
  },
  {
   "cell_type": "markdown",
   "metadata": {},
   "source": [
    "We now have a list of users (<i>have_seen_two_versions</i>) and the actual removal of these users is going to be done in the next step."
   ]
  },
  {
   "cell_type": "code",
   "execution_count": 14,
   "metadata": {},
   "outputs": [
    {
     "data": {
      "text/plain": [
       "233"
      ]
     },
     "execution_count": 14,
     "metadata": {},
     "output_type": "execute_result"
    }
   ],
   "source": [
    "len(have_seen_two_versions)"
   ]
  },
  {
   "cell_type": "markdown",
   "metadata": {},
   "source": [
    "### Second step: Merging the clicking data with the experiment details"
   ]
  },
  {
   "cell_type": "markdown",
   "metadata": {},
   "source": [
    "Unfortunately, there are quite a few users who would be deteriorating to the research results. Te clicking dataset is already relatively small, let's hope we do not use too many instances of this dataset."
   ]
  },
  {
   "cell_type": "code",
   "execution_count": 15,
   "metadata": {},
   "outputs": [
    {
     "data": {
      "text/plain": [
       "16"
      ]
     },
     "execution_count": 15,
     "metadata": {},
     "output_type": "execute_result"
    }
   ],
   "source": [
    "len(list(set(have_seen_two_versions) & set(df_click.user_session.unique())))"
   ]
  },
  {
   "cell_type": "markdown",
   "metadata": {},
   "source": [
    "As can be seen from the previous statement, removing these users from the clicking data will only result in the loss of clicking/experiment data (click or view) of 16 users (id's, sessions)"
   ]
  },
  {
   "cell_type": "markdown",
   "metadata": {},
   "source": [
    "Aside from the user_id/sessions in the list <i>have_seen_two_versions</i>, each unique idenitifier in the clicking dataset will be associated with at most one version (<i>condition</i>) as can be found in the experiment datasets. Let's make a dataframe with two relevant columns; one being the unique the identifier and the other column being the condition (version). This will only work for the users who have seen one version. So these users need to be removed first."
   ]
  },
  {
   "cell_type": "code",
   "execution_count": 16,
   "metadata": {
    "collapsed": true
   },
   "outputs": [],
   "source": [
    "users_conditions = df_experiment.copy()\n",
    "users_conditions = users_conditions[-users_conditions.user_id.isin(have_seen_two_versions)] # drop user who have seen more than one version"
   ]
  },
  {
   "cell_type": "code",
   "execution_count": 17,
   "metadata": {
    "collapsed": true
   },
   "outputs": [],
   "source": [
    "users_conditions.drop_duplicates(subset = ['user_id'], keep = 'first', inplace = True)\n",
    "users_conditions.reset_index(drop = True, inplace = True)"
   ]
  },
  {
   "cell_type": "markdown",
   "metadata": {},
   "source": [
    "We now have a dataframe <i>user_conditions</i> in which have all the unique user_id's/session which were exposed to this experiment (and to on version). The next step is to merge this dataset with the clicking data. We then will know the condition (website version) of particular user_id's/sessions which resulted in a click/view for each entry in the clicking dataset."
   ]
  },
  {
   "cell_type": "code",
   "execution_count": 18,
   "metadata": {
    "collapsed": true
   },
   "outputs": [],
   "source": [
    "clicking_conditions = pd.merge(left = df_click, right = users_conditions, left_on = 'user_session', right_on = 'user_id')\n",
    "clicking_conditions.drop(['user_session', 'experiment_id'], axis = 1, inplace = True) # to-do: can also remove action_label, action_type"
   ]
  },
  {
   "cell_type": "markdown",
   "metadata": {},
   "source": [
    "We can obviously delete some columns, since they are not relevant to the further analysis."
   ]
  },
  {
   "cell_type": "code",
   "execution_count": 19,
   "metadata": {},
   "outputs": [
    {
     "name": "stdout",
     "output_type": "stream",
     "text": [
      "<class 'pandas.core.frame.DataFrame'>\n",
      "Int64Index: 902 entries, 0 to 901\n",
      "Data columns (total 7 columns):\n",
      "action              902 non-null object\n",
      "action_label        902 non-null object\n",
      "action_type         902 non-null object\n",
      "tstamp              902 non-null int64\n",
      "user_id             902 non-null object\n",
      "condition           902 non-null object\n",
      "collector_tstamp    902 non-null object\n",
      "dtypes: int64(1), object(6)\n",
      "memory usage: 56.4+ KB\n"
     ]
    }
   ],
   "source": [
    "clicking_conditions.info()"
   ]
  },
  {
   "cell_type": "markdown",
   "metadata": {},
   "source": [
    "### Third step: enriching the clicking data with meta data"
   ]
  },
  {
   "cell_type": "markdown",
   "metadata": {},
   "source": [
    "The third and final preprocessing step is to enrich the (merged) clicking and experiment data with as much meta-data as is possible. the main objective of this assignment is to identify subpopulations where these targets display an unusual interaction; can we find subgroups where the click rate interacts exceptionally with the web page version (condition). To find these subgroups we need to have suitable descriptors, which can and will be mostly obtained from the meta data. Since things such as device characteristics, location information, language data. This information can be used for A&B Testing (with Exceptional Model Mining) since this data can be queried before exposing a new user (session/id) to one of the versions, based on these characteristics which put the particular user in a certain subgroup if all goes well."
   ]
  },
  {
   "cell_type": "markdown",
   "metadata": {},
   "source": [
    "We can merge the subset with these columns with the clicking data by using the user_id and the collector_tstamp. Note that the clicking data did not have a collector_tstamp attribute which makes it hard to be a hundred percent sure whether the particular action is made during a particular session, but the least we can do is make sure that the meta-data info such as the page_url and page_title is confirming to the experiment dataset (things such as geo information will probably be less prone to changes)."
   ]
  },
  {
   "cell_type": "code",
   "execution_count": 20,
   "metadata": {},
   "outputs": [
    {
     "data": {
      "text/html": [
       "<div>\n",
       "<style scoped>\n",
       "    .dataframe tbody tr th:only-of-type {\n",
       "        vertical-align: middle;\n",
       "    }\n",
       "\n",
       "    .dataframe tbody tr th {\n",
       "        vertical-align: top;\n",
       "    }\n",
       "\n",
       "    .dataframe thead th {\n",
       "        text-align: right;\n",
       "    }\n",
       "</style>\n",
       "<table border=\"1\" class=\"dataframe\">\n",
       "  <thead>\n",
       "    <tr style=\"text-align: right;\">\n",
       "      <th></th>\n",
       "      <th>platform</th>\n",
       "      <th>etl_tstamp</th>\n",
       "      <th>collector_tstamp</th>\n",
       "      <th>dvce_created_tstamp</th>\n",
       "      <th>event</th>\n",
       "      <th>domain_userid</th>\n",
       "      <th>domain_sessionid</th>\n",
       "      <th>user_id</th>\n",
       "      <th>geo_country</th>\n",
       "      <th>geo_region</th>\n",
       "      <th>...</th>\n",
       "      <th>pp_yoffset_max</th>\n",
       "      <th>useragent</th>\n",
       "      <th>browser_language</th>\n",
       "      <th>browser_cookies</th>\n",
       "      <th>browser_colordepth</th>\n",
       "      <th>browser_viewdepth</th>\n",
       "      <th>browser_viewheight</th>\n",
       "      <th>os_name</th>\n",
       "      <th>os_timezone</th>\n",
       "      <th>dvce_type</th>\n",
       "    </tr>\n",
       "  </thead>\n",
       "  <tbody>\n",
       "    <tr>\n",
       "      <th>4441</th>\n",
       "      <td>web</td>\n",
       "      <td>55:48.3</td>\n",
       "      <td>56:05.0</td>\n",
       "      <td>55:30.6</td>\n",
       "      <td>page_view</td>\n",
       "      <td>5346c722-7418-4c41-8ce8-f17ac198ff05</td>\n",
       "      <td>ce5519f6-4952-4722-8a04-b186f856f640</td>\n",
       "      <td>379881d5-32d7-49f4-bf5b-81fefbc5fcce</td>\n",
       "      <td>CY</td>\n",
       "      <td></td>\n",
       "      <td>...</td>\n",
       "      <td>NaN</td>\n",
       "      <td>Mozilla/5.0 (Linux; Android 5.1.1; SM-G531F Bu...</td>\n",
       "      <td>el</td>\n",
       "      <td>True</td>\n",
       "      <td>32</td>\n",
       "      <td>360.0</td>\n",
       "      <td>560.0</td>\n",
       "      <td>Android 5.x</td>\n",
       "      <td>Europe/Helsinki</td>\n",
       "      <td>Mobile</td>\n",
       "    </tr>\n",
       "    <tr>\n",
       "      <th>4444</th>\n",
       "      <td>web</td>\n",
       "      <td>56:08.3</td>\n",
       "      <td>56:24.6</td>\n",
       "      <td>55:50.6</td>\n",
       "      <td>page_ping</td>\n",
       "      <td>5346c722-7418-4c41-8ce8-f17ac198ff05</td>\n",
       "      <td>ce5519f6-4952-4722-8a04-b186f856f640</td>\n",
       "      <td>379881d5-32d7-49f4-bf5b-81fefbc5fcce</td>\n",
       "      <td>CY</td>\n",
       "      <td></td>\n",
       "      <td>...</td>\n",
       "      <td>3285.0</td>\n",
       "      <td>Mozilla/5.0 (Linux; Android 5.1.1; SM-G531F Bu...</td>\n",
       "      <td>el</td>\n",
       "      <td>True</td>\n",
       "      <td>32</td>\n",
       "      <td>360.0</td>\n",
       "      <td>616.0</td>\n",
       "      <td>Android 5.x</td>\n",
       "      <td>Europe/Helsinki</td>\n",
       "      <td>Mobile</td>\n",
       "    </tr>\n",
       "    <tr>\n",
       "      <th>5107</th>\n",
       "      <td>web</td>\n",
       "      <td>23:42.0</td>\n",
       "      <td>23:59.0</td>\n",
       "      <td>23:24.8</td>\n",
       "      <td>page_ping</td>\n",
       "      <td>5346c722-7418-4c41-8ce8-f17ac198ff05</td>\n",
       "      <td>fcdcd0c3-7c31-4a4d-aee7-0631c73dec92</td>\n",
       "      <td>379881d5-32d7-49f4-bf5b-81fefbc5fcce</td>\n",
       "      <td>CY</td>\n",
       "      <td></td>\n",
       "      <td>...</td>\n",
       "      <td>1804.0</td>\n",
       "      <td>Mozilla/5.0 (Linux; Android 5.1.1; SM-G531F Bu...</td>\n",
       "      <td>el</td>\n",
       "      <td>True</td>\n",
       "      <td>32</td>\n",
       "      <td>360.0</td>\n",
       "      <td>616.0</td>\n",
       "      <td>Android 5.x</td>\n",
       "      <td>Europe/Helsinki</td>\n",
       "      <td>Mobile</td>\n",
       "    </tr>\n",
       "  </tbody>\n",
       "</table>\n",
       "<p>3 rows × 30 columns</p>\n",
       "</div>"
      ],
      "text/plain": [
       "     platform etl_tstamp collector_tstamp dvce_created_tstamp      event  \\\n",
       "4441      web    55:48.3          56:05.0             55:30.6  page_view   \n",
       "4444      web    56:08.3          56:24.6             55:50.6  page_ping   \n",
       "5107      web    23:42.0          23:59.0             23:24.8  page_ping   \n",
       "\n",
       "                             domain_userid  \\\n",
       "4441  5346c722-7418-4c41-8ce8-f17ac198ff05   \n",
       "4444  5346c722-7418-4c41-8ce8-f17ac198ff05   \n",
       "5107  5346c722-7418-4c41-8ce8-f17ac198ff05   \n",
       "\n",
       "                          domain_sessionid  \\\n",
       "4441  ce5519f6-4952-4722-8a04-b186f856f640   \n",
       "4444  ce5519f6-4952-4722-8a04-b186f856f640   \n",
       "5107  fcdcd0c3-7c31-4a4d-aee7-0631c73dec92   \n",
       "\n",
       "                                   user_id geo_country geo_region    ...      \\\n",
       "4441  379881d5-32d7-49f4-bf5b-81fefbc5fcce          CY               ...       \n",
       "4444  379881d5-32d7-49f4-bf5b-81fefbc5fcce          CY               ...       \n",
       "5107  379881d5-32d7-49f4-bf5b-81fefbc5fcce          CY               ...       \n",
       "\n",
       "     pp_yoffset_max                                          useragent  \\\n",
       "4441            NaN  Mozilla/5.0 (Linux; Android 5.1.1; SM-G531F Bu...   \n",
       "4444         3285.0  Mozilla/5.0 (Linux; Android 5.1.1; SM-G531F Bu...   \n",
       "5107         1804.0  Mozilla/5.0 (Linux; Android 5.1.1; SM-G531F Bu...   \n",
       "\n",
       "     browser_language browser_cookies browser_colordepth browser_viewdepth  \\\n",
       "4441               el            True                 32             360.0   \n",
       "4444               el            True                 32             360.0   \n",
       "5107               el            True                 32             360.0   \n",
       "\n",
       "     browser_viewheight      os_name      os_timezone  dvce_type  \n",
       "4441              560.0  Android 5.x  Europe/Helsinki     Mobile  \n",
       "4444              616.0  Android 5.x  Europe/Helsinki     Mobile  \n",
       "5107              616.0  Android 5.x  Europe/Helsinki     Mobile  \n",
       "\n",
       "[3 rows x 30 columns]"
      ]
     },
     "execution_count": 20,
     "metadata": {},
     "output_type": "execute_result"
    }
   ],
   "source": [
    "df_meta.loc[df_meta.user_id == '379881d5-32d7-49f4-bf5b-81fefbc5fcce'].head(3)"
   ]
  },
  {
   "cell_type": "code",
   "execution_count": 21,
   "metadata": {},
   "outputs": [
    {
     "data": {
      "text/html": [
       "<div>\n",
       "<style scoped>\n",
       "    .dataframe tbody tr th:only-of-type {\n",
       "        vertical-align: middle;\n",
       "    }\n",
       "\n",
       "    .dataframe tbody tr th {\n",
       "        vertical-align: top;\n",
       "    }\n",
       "\n",
       "    .dataframe thead th {\n",
       "        text-align: right;\n",
       "    }\n",
       "</style>\n",
       "<table border=\"1\" class=\"dataframe\">\n",
       "  <thead>\n",
       "    <tr style=\"text-align: right;\">\n",
       "      <th></th>\n",
       "      <th>action</th>\n",
       "      <th>action_label</th>\n",
       "      <th>action_type</th>\n",
       "      <th>tstamp</th>\n",
       "      <th>user_id</th>\n",
       "      <th>condition</th>\n",
       "      <th>collector_tstamp</th>\n",
       "    </tr>\n",
       "  </thead>\n",
       "  <tbody>\n",
       "    <tr>\n",
       "      <th>0</th>\n",
       "      <td>clic</td>\n",
       "      <td>revenue</td>\n",
       "      <td>link</td>\n",
       "      <td>1472755490</td>\n",
       "      <td>379881d5-32d7-49f4-bf5b-81fefbc5fcce</td>\n",
       "      <td>1-Control</td>\n",
       "      <td>2016-09-01 18:43:14.257000</td>\n",
       "    </tr>\n",
       "  </tbody>\n",
       "</table>\n",
       "</div>"
      ],
      "text/plain": [
       "  action action_label action_type      tstamp  \\\n",
       "0   clic      revenue        link  1472755490   \n",
       "\n",
       "                                user_id  condition            collector_tstamp  \n",
       "0  379881d5-32d7-49f4-bf5b-81fefbc5fcce  1-Control  2016-09-01 18:43:14.257000  "
      ]
     },
     "execution_count": 21,
     "metadata": {},
     "output_type": "execute_result"
    }
   ],
   "source": [
    "clicking_conditions.loc[clicking_conditions.user_id == '379881d5-32d7-49f4-bf5b-81fefbc5fcce']"
   ]
  },
  {
   "cell_type": "markdown",
   "metadata": {},
   "source": [
    "One can, however, see that the timestamp formats of the two data set are not conforming. In addition, even if when one could go as far formatting the <i>collector_tstamp</i> to the same format as the time stamps used in the meta dataset, one would still find different / conflicting timestamps. This was later on confirmed and explained by Tara from StudyPortals: <i>\"Timestamp in the experiment file indicates the timestamp that the users starts the session while seeing the variation A or B. I recommend you to use the meta-data timestamp for your further analysis. \"</i>. We are thus just going to merge on the user-id's."
   ]
  },
  {
   "cell_type": "markdown",
   "metadata": {},
   "source": [
    "Since we cannot use the timestamp value to link this dataset with the previous one. We are only after the user_id's. The following statement is an important step before the actual merger with the already enriched clicking data."
   ]
  },
  {
   "cell_type": "code",
   "execution_count": 22,
   "metadata": {
    "collapsed": true
   },
   "outputs": [],
   "source": [
    "users_meta = df_meta.groupby('user_id').first().reset_index()"
   ]
  },
  {
   "cell_type": "code",
   "execution_count": 23,
   "metadata": {
    "collapsed": true
   },
   "outputs": [],
   "source": [
    "# users_meta.info()"
   ]
  },
  {
   "cell_type": "markdown",
   "metadata": {},
   "source": [
    "This statement gives us the same dataframe with the unique user_id's takes the first non-NaN value in for each column of a particular user_id. Each user_id will thus have a non-NaN value in the column if it has a non-NaN value for this column in one of its occurences in <i>df_meta</i>"
   ]
  },
  {
   "cell_type": "markdown",
   "metadata": {},
   "source": [
    "This dataset can now be merged with the dataset from step 2."
   ]
  },
  {
   "cell_type": "code",
   "execution_count": 24,
   "metadata": {
    "collapsed": true
   },
   "outputs": [],
   "source": [
    "click_condition_meta = pd.merge(clicking_conditions, users_meta, on = 'user_id')"
   ]
  },
  {
   "cell_type": "code",
   "execution_count": 25,
   "metadata": {},
   "outputs": [
    {
     "name": "stdout",
     "output_type": "stream",
     "text": [
      "<class 'pandas.core.frame.DataFrame'>\n",
      "Int64Index: 902 entries, 0 to 901\n",
      "Data columns (total 36 columns):\n",
      "action                 902 non-null object\n",
      "action_label           902 non-null object\n",
      "action_type            902 non-null object\n",
      "tstamp                 902 non-null int64\n",
      "user_id                902 non-null object\n",
      "condition              902 non-null object\n",
      "collector_tstamp_x     902 non-null object\n",
      "platform               902 non-null object\n",
      "etl_tstamp             902 non-null object\n",
      "collector_tstamp_y     902 non-null object\n",
      "dvce_created_tstamp    902 non-null object\n",
      "event                  902 non-null object\n",
      "domain_userid          902 non-null object\n",
      "domain_sessionid       902 non-null object\n",
      "geo_country            900 non-null object\n",
      "geo_region             902 non-null object\n",
      "geo_city               552 non-null object\n",
      "geo_region_name        534 non-null object\n",
      "geo_timezone           866 non-null object\n",
      "page_url               902 non-null object\n",
      "page_title             902 non-null object\n",
      "page_referrer          842 non-null object\n",
      "refr_source            654 non-null object\n",
      "pp_xoffset_min         787 non-null float64\n",
      "pp_xoffset_max         787 non-null float64\n",
      "pp_yoffset_min         787 non-null float64\n",
      "pp_yoffset_max         787 non-null float64\n",
      "useragent              902 non-null object\n",
      "browser_language       902 non-null object\n",
      "browser_cookies        902 non-null bool\n",
      "browser_colordepth     902 non-null int64\n",
      "browser_viewdepth      902 non-null float64\n",
      "browser_viewheight     902 non-null float64\n",
      "os_name                902 non-null object\n",
      "os_timezone            902 non-null object\n",
      "dvce_type              902 non-null object\n",
      "dtypes: bool(1), float64(6), int64(2), object(27)\n",
      "memory usage: 254.6+ KB\n"
     ]
    }
   ],
   "source": [
    "click_condition_meta.info()"
   ]
  },
  {
   "cell_type": "markdown",
   "metadata": {},
   "source": [
    "Let's first make an assesmment of columns in the meta dataset which are definitely not usable"
   ]
  },
  {
   "cell_type": "code",
   "execution_count": 26,
   "metadata": {},
   "outputs": [
    {
     "name": "stdout",
     "output_type": "stream",
     "text": [
      "['web']\n"
     ]
    }
   ],
   "source": [
    "print(click_condition_meta.platform.unique()) # one unique value for the entire dataframe\n",
    "click_condition_meta.drop(['platform'], axis = 1, inplace = True)"
   ]
  },
  {
   "cell_type": "markdown",
   "metadata": {},
   "source": [
    "An attribute fit to be a candidate descriptor should be available before or while loading the page since the main goal of A&B Testing is to have a dynamic web page / page elements. Therefore, some columns can already be excluded from the list of potential descriptors in the next task. Take for example the scrolling characteristics. One cannot expect these continiuous values to be of any use as descriptors. In addition, the timestamps and session info are also no longer relevant"
   ]
  },
  {
   "cell_type": "code",
   "execution_count": 27,
   "metadata": {
    "collapsed": true
   },
   "outputs": [],
   "source": [
    "not_fit = ['pp_xoffset_min', 'pp_yoffset_min', 'pp_xoffset_max', 'pp_yoffset_max', 'tstamp',\n",
    "          'collector_tstamp_x', 'etl_tstamp', 'collector_tstamp_y', 'dvce_created_tstamp', 'event', 'domain_userid',\n",
    "          'domain_sessionid']\n",
    "consistent_with_action = ['action_label', 'action_type']\n",
    "click_condition_meta.drop(not_fit + consistent_with_action, axis = 1, inplace = True)"
   ]
  },
  {
   "cell_type": "markdown",
   "metadata": {},
   "source": [
    "The browser information can be used to load dynamic pages. One can for example use JavaScript for this purpose (if you want to handle this, for example, on the front-end (but on the server side would be better)). The colordepth can, for example be obtained by statements in the language, and this value can then be used in logical statements (<i>object.colorDepth</i>) to load a certain webpage version/elements."
   ]
  },
  {
   "cell_type": "code",
   "execution_count": 28,
   "metadata": {},
   "outputs": [
    {
     "name": "stdout",
     "output_type": "stream",
     "text": [
      "<class 'pandas.core.frame.DataFrame'>\n",
      "Int64Index: 902 entries, 0 to 901\n",
      "Data columns (total 21 columns):\n",
      "action                902 non-null object\n",
      "user_id               902 non-null object\n",
      "condition             902 non-null object\n",
      "geo_country           900 non-null object\n",
      "geo_region            902 non-null object\n",
      "geo_city              552 non-null object\n",
      "geo_region_name       534 non-null object\n",
      "geo_timezone          866 non-null object\n",
      "page_url              902 non-null object\n",
      "page_title            902 non-null object\n",
      "page_referrer         842 non-null object\n",
      "refr_source           654 non-null object\n",
      "useragent             902 non-null object\n",
      "browser_language      902 non-null object\n",
      "browser_cookies       902 non-null bool\n",
      "browser_colordepth    902 non-null int64\n",
      "browser_viewdepth     902 non-null float64\n",
      "browser_viewheight    902 non-null float64\n",
      "os_name               902 non-null object\n",
      "os_timezone           902 non-null object\n",
      "dvce_type             902 non-null object\n",
      "dtypes: bool(1), float64(2), int64(1), object(17)\n",
      "memory usage: 148.9+ KB\n"
     ]
    }
   ],
   "source": [
    "click_condition_meta.info()"
   ]
  },
  {
   "cell_type": "markdown",
   "metadata": {},
   "source": [
    "Let's check the remaining attributes and there values in the dataset to exclude some more potential descriptors."
   ]
  },
  {
   "cell_type": "code",
   "execution_count": 29,
   "metadata": {},
   "outputs": [
    {
     "name": "stdout",
     "output_type": "stream",
     "text": [
      "useragent \n",
      " unique number of values: 404 \n",
      " ['Mozilla/5.0 (Linux; Android 5.1.1; SM-G531F Build/LMY48B) AppleWebKit/537.36 (KHTML, like Gecko) Chrome/52.0.2743.98 Mobile Safari/537.36', 'Mozilla/5.0 (iPhone; CPU iPhone OS 9_3_4 like Mac OS X) AppleWebKit/601.1 (KHTML, like Gecko) CriOS/52.0.2743.84 Mobile/13G35 Safari/601.1.46', 'Opera/9.80 (Android; Opera Mini/10.0.1884/37.8861; U; en) Presto/2.12.423 Version/12.16', 'Mozilla/5.0 (iPhone; CPU iPhone OS 9_3_4 like Mac OS X) AppleWebKit/601.1.46 (KHTML, like Gecko) Version/9.0 Mobile/13G35 Safari/601.1', 'Mozilla/5.0 (Linux; Android 6.0.1; SAMSUNG SM-J700H Build/MMB29K) AppleWebKit/537.36 (KHTML, like Gecko) SamsungBrowser/4.0 Chrome/44.0.2403.133 Mobile Safari/537.36', 'Mozilla/5.0 (iPhone; CPU iPhone OS 9_3_5 like Mac OS X) AppleWebKit/601.1.46 (KHTML, like Gecko) Version/9.0 Mobile/13G36 Safari/601.1', 'Mozilla/5.0 (Linux; Android 5.0; Lenovo A1000 Build/S100) AppleWebKit/537.36 (KHTML, like Gecko) Chrome/43.0.2357.93 Mobile Safari/537.36', 'Mozilla/5.0 (Linux; Android 4.4.2; Lenovo TAB 2 A7-30HC Build/KOT49H) AppleWebKit/537.36 (KHTML, like Gecko) Chrome/52.0.2743.98 Safari/537.36', 'Mozilla/5.0 (Linux; Android 6.0.1; SAMSUNG SM-G920F/G920FXXU4DPHB Build/MMB29K) AppleWebKit/537.36 (KHTML, like Gecko) SamsungBrowser/4.0 Chrome/44.0.2403.133 Mobile Safari/537.36', 'Mozilla/5.0 (Linux; Android 6.0.1; SAMSUNG SM-C7000 Build/MMB29M) AppleWebKit/537.36 (KHTML, like Gecko) SamsungBrowser/4.0 Chrome/44.0.2403.133 Mobile Safari/537.36', 'Mozilla/5.0 (Linux; Android 4.4.2; HUAWEI Y336-U02 Build/HUAWEIY336-U02) AppleWebKit/537.36 (KHTML, like Gecko) Version/4.0 Chrome/30.0.0.0 Mobile Safari/537.36', 'Mozilla/5.0 (Linux; Android 5.0.1; ALE-L21 Build/HuaweiALE-L21) AppleWebKit/537.36 (KHTML, like Gecko) Chrome/52.0.2743.98 Mobile Safari/537.36', 'Opera/9.80 (Android; Opera Mini/7.5.35724/37.8861; U; ar) Presto/2.12.423 Version/12.16', 'Mozilla/5.0 (iPhone; CPU iPhone OS 7_1_2 like Mac OS X) AppleWebKit/537.51.2 (KHTML, like Gecko) Version/7.0 Mobile/11D257 Safari/9537.53', 'Mozilla/5.0 (Linux; Android 4.4.2; F2 Build/KOT49H) AppleWebKit/537.36 (KHTML, like Gecko) Version/4.0 Chrome/30.0.0.0 Safari/537.36', 'Mozilla/5.0 (Linux; Android 4.2.2; SM-T110 Build/JDQ39) AppleWebKit/537.36 (KHTML, like Gecko) Chrome/52.0.2743.98 Safari/537.36', 'Mozilla/5.0 (Linux; Android 6.0.1; SAMSUNG SM-G928F Build/MMB29K) AppleWebKit/537.36 (KHTML, like Gecko) SamsungBrowser/4.0 Chrome/44.0.2403.133 Mobile Safari/537.36', 'Mozilla/5.0 (Linux; Android 4.4.4; Elephone P6000 02 Build/KTU84P) AppleWebKit/537.36 (KHTML, like Gecko) Version/4.0 Chrome/33.0.0.0 Mobile Safari/537.36', 'Mozilla/5.0 (Linux; Android 4.4.4; SAMSUNG-SGH-I337 Build/KTU84P) AppleWebKit/537.36 (KHTML, like Gecko) Chrome/35.0.1916.141 Mobile Safari/537.36', 'Mozilla/5.0 (Linux; Android 4.4.4; SM-G530FZ Build/KTU84P) AppleWebKit/537.36 (KHTML, like Gecko) Chrome/51.0.2704.81 Mobile Safari/537.36'] \n",
      "\n",
      "geo_country \n",
      " unique number of values: 109 \n",
      " ['CY', 'AU', 'CM', '  ', 'BD', 'GB', 'NG', 'EG', 'IT', 'HK', 'PG', 'SD', 'SE', 'AL', 'BR', 'ES', 'PK', 'GH', 'US', 'ML'] \n",
      "\n",
      "os_name \n",
      " unique number of values: 20 \n",
      " ['Android 5.x', 'iOS 9 (iPhone)', 'Android', 'Android 6.x', 'Android 4.x Tablet', 'Android 4.x', 'iOS 7 (iPhone)', 'Android 6.x Tablet', 'Android 5.x Tablet', 'iOS 8 (iPhone)', 'iOS 6 (iPhone)', 'iOS 8.1 (iPhone)', 'Android Mobile', 'iOS 8.4 (iPhone)', 'Mac OS X (iPhone)', 'Unknown mobile', 'Unknown', 'iOS 8.3 (iPhone)', 'iOS 8.2 (iPhone)', 'Windows 10'] \n",
      "\n",
      "browser_viewdepth \n",
      " unique number of values: 33 \n",
      " [360.0, 375.0, 320.0, 414.0, 600.0, 412.0, 300.0, 1024.0, 800.0, 411.0, 344.0, 736.0, 1280.0, 667.0, 342.0, 383.0, 480.0, 540.0, 568.0, 601.0] \n",
      "\n",
      "geo_region_name \n",
      " unique number of values: 212 \n",
      " [nan, 'Australian Capital Territory', 'Dhaka', 'Somerset', 'Puglia', 'Gulf', 'Luton', 'Stockholms Lan', 'Tirane', 'London', 'Coventry', 'Azad Kashmir', 'Catalonia', 'New York', 'Pennsylvania', 'Al Qahirah', 'Umbria', 'Leeds', 'Moscow City', 'Beyrouth'] \n",
      "\n",
      "os_timezone \n",
      " unique number of values: 40 \n",
      " ['Europe/Helsinki', 'Australia/Sydney', 'Europe/London', 'Asia/Dhaka', 'Africa/Lagos', 'Africa/Cairo', 'Europe/Berlin', 'Asia/Shanghai', 'America/Bogota', 'Asia/Baghdad', 'America/Sao_Paulo', 'Asia/Karachi', 'UTC', 'America/New_York', 'Europe/Minsk', 'Asia/Tokyo', 'Asia/Beirut', 'America/Chicago', 'Asia/Kolkata', 'America/Denver'] \n",
      "\n",
      "page_url \n",
      " unique number of values: 378 \n",
      " ['http://www.mastersportal.eu/study-options/268927260/human-computer-interaction-united-kingdom.html', 'http://www.mastersportal.eu/study-options/268746879/sustainable-development-norway.html', 'http://www.mastersportal.eu/universities/866/centria-university-of-applied-sciences.html', 'http://www.mastersportal.eu/universities/1326/the-university-of-milan.html', 'http://www.mastersportal.eu/universities/350/vytautas-magnus-university.html', 'http://www.mastersportal.eu/search/?q=ci-30%7Cdi-131%7Clv-master,preparation%7Cdg-prebachelor&order=relevance', 'http://www.mastersportal.eu/studies/109585/groundwater-hydrology.html', 'http://www.mastersportal.eu/', 'http://www.mastersportal.eu/universities/216/wu.html', 'http://www.mastersportal.eu/universities/11393/university-of-queensland.html', 'http://www.mastersportal.eu/articles/1307/10-us-universities-offering-top-distance-education.html', 'http://www.mastersportal.eu/studies/135/structural-engineering-and-building-technology.html', 'http://www.mastersportal.eu/study-options/268861722/data-science-big-data-sweden.html', 'http://www.mastersportal.eu/study-options/268877930/pharmacy-switzerland.html', 'http://www.mastersportal.eu/universities/8921/faculty-of-mathematics-and-science.html', 'http://www.mastersportal.eu/studies/5789/cardiovascular-health-and-disease.html', 'http://www.mastersportal.eu/universities/1834/polytechnic-institute-of-braganca.html', 'http://www.mastersportal.eu/universities/854/stenden-university-of-applied-sciences.html', 'http://www.mastersportal.eu/studies/101658/finance.html#tab:requirement', 'http://www.mastersportal.eu/study-options/268583002/public-health-finland.html'] \n",
      "\n",
      "dvce_type \n",
      " unique number of values: 4 \n",
      " ['Mobile', 'Tablet', 'Unknown', 'Computer'] \n",
      "\n",
      "browser_viewheight \n",
      " unique number of values: 127 \n",
      " [560.0, 591.0, 539.0, 460.0, 616.0, 628.0, 452.0, 855.0, 708.0, 419.0, 567.0, 372.0, 559.0, 552.0, 999.0, 548.0, 563.0, 615.0, 484.0, 492.0] \n",
      "\n",
      "browser_cookies \n",
      " unique number of values: 1 \n",
      " [True] \n",
      "\n",
      "geo_city \n",
      " unique number of values: 289 \n",
      " [nan, 'Canberra', 'Dhaka', 'Taunton', 'Taranto', 'Central District', 'Kerema', 'Luton', 'Johanneshov', 'Tirana', 'London', 'Coventry', 'Hospitalet De Llobregat', 'Brooklyn', 'Philadelphia', 'Cairo', 'Milan', 'Leeds', 'Moscow', 'Beirut'] \n",
      "\n",
      "page_title \n",
      " unique number of values: 348 \n",
      " [\"10 Human Computer Interaction Master's degrees in United Kingdom - MastersPortal.eu\", \"9 Sustainable Development Master's degrees in Norway - MastersPortal.eu\", 'Centria University of Applied Sciences - Kokkola - Finland - MastersPortal.eu', 'The University of Milan - Milan - Italy - MastersPortal.eu', 'Vytautas Magnus University - Kaunas - Lithuania - MastersPortal.eu', \"Search Master's Programmes Worldwide - MastersPortal.eu\", 'M.Sc. Groundwater Hydrology - at Flinders University, Adelaide, Australia - MastersPortal.eu', 'Find Masters Worldwide: all MBA, MSc., MA, LLM, MPhil and other postgraduate programmes - MastersPortal.eu', 'WU (Vienna University of Economics and Business) - Vienna - Austria - MastersPortal.eu', 'University of Queensland - Brisbane - Australia - MastersPortal.eu', '10 U.S. Universities Offering Top Distance Education - MastersPortal.eu', 'M.Sc. Structural Engineering and Building Technology - at Chalmers University of Technology, Gothenburg, Sweden - MastersPortal.eu', \"7 Data Science & Big Data Master's degrees in Sweden - MastersPortal.eu\", \"9 Pharmacy Master's degrees in Switzerland - MastersPortal.eu\", 'Faculty of Mathematics and Science - Jyv?±skyl?± - Finland - MastersPortal.eu', 'MRes Cardiovascular Health and Disease - at The University of Manchester, Manchester, United Kingdom - MastersPortal.eu', 'Polytechnic Institute of Bragan??a - Bragan??a - Portugal - MastersPortal.eu', 'Stenden University of Applied Sciences - Leeuwarden - Netherlands - MastersPortal.eu', 'Master Finance - at Norwegian School of Economics, NHH, Bergen, Norway - MastersPortal.eu', \"8 Public Health Master's degrees in Finland - MastersPortal.eu\"] \n",
      "\n",
      "geo_region \n",
      " unique number of values: 109 \n",
      " ['  ', '1', '81', 'M3', '13', '0', '2', 'I1', '26', '50', 'H9', 'C7', '6', '56', 'NY', 'PA', '11', '18', 'H3', '48'] \n",
      "\n",
      "geo_timezone \n",
      " unique number of values: 123 \n",
      " ['Asia/Nicosia', 'Australia/Sydney', 'Africa/Lagos', nan, 'Asia/Dhaka', 'Europe/London', 'Africa/Cairo', 'Europe/Rome', 'Asia/Hong_Kong', 'Pacific/Port_Moresby', 'Africa/Khartoum', 'Europe/Stockholm', 'Europe/Tirane', 'Asia/Karachi', 'Africa/Accra', 'Europe/Madrid', 'America/New_York', 'Africa/Bamako', 'Europe/Athens', 'Europe/Moscow'] \n",
      "\n",
      "page_referrer \n",
      " unique number of values: 298 \n",
      " ['android-app://com.google.android.googlequicksearchbox', 'https://www.google.com.au/', 'http://www.google.cm/search?q=centria+university+of+applied+sciences&btnG=&client=ms-opera-mini-android&channel=new', 'https://www.google.co.uk/', 'https://www.google.com.bd/', 'http://www.mastersportal.eu/study-options/268927107/nutrition-dietetics-united-kingdom.html', 'http://www.mastersportal.eu/studies/109585/groundwater-hydrology.html', 'http://www.mastersportal.eu/', 'http://www.mastersportal.eu/studies/9265/quantitative-finance.html', 'http://www.mastersportal.eu/studies/78001/social-work-studies.html', 'http://www.studyportals.com/students/', 'http://www.mastersportal.eu/study-options/268861469/civil-engineering-construction-sweden.html', 'http://se.search.yahoo.com/search;_ylt=A9mSs2GfPsxXnLsAEc.ZgCA5;_ylu=X3oDMTEzdm1nNDAwBGNvbG8DaXIyBHBvcwMxBHZ0aWQDBHNlYwNwYWdpbmF0aW9u?p=data+scince+sweden&pvid=RPGWoDIxMi5TppwZV8g3KgwsMTA5LgAAAABFbKCD&pz=10&ei=UTF-8&fr2=sb-top&_tsrc=apple&b=11&pz=10&xargs=0', 'https://www.google.al/', 'https://www.google.com.br/', 'http://www.shortcoursesportal.com/universities/1834/polytechnic-institute-of-braganca.html', 'http://www.google.com.pk', 'http://www.mastersportal.eu/search/?q=di-93|lv-master,preparation|dg-prebachelor&order=tuition_eea&direction=asc&start=10', 'http://www.google.cm/', 'http://www.mastersportal.eu/disciplines/258/arts-design-architecture.html'] \n",
      "\n",
      "browser_language \n",
      " unique number of values: 62 \n",
      " ['el', 'en-gb', 'en', 'en-GB', 'en-us', 'en-US', 'it', 'ar', 'es-ES', 'es', 'fr-fr', 'ja', 'en-au', 'ro-ro', 'el-gr', 'es-419', 'it-it', 'es-es', 'ru-ru', 'bg'] \n",
      "\n",
      "browser_colordepth \n",
      " unique number of values: 4 \n",
      " [32, 4, 24, 0] \n",
      "\n",
      "refr_source \n",
      " unique number of values: 9 \n",
      " [nan, 'Google', 'Yahoo', 'Yandex', 'Bing', 'DuckDuckGo', 'Facebook', 'Vkontakte', 'Everyclick'] \n",
      "\n"
     ]
    }
   ],
   "source": [
    "show_max = 20\n",
    "columns_meta = list(set(click_condition_meta.columns) - set(not_fit) - set(clicking_conditions.columns))\n",
    "for c in columns_meta:\n",
    "    print(c, '\\n', \"unique number of values:\", len(click_condition_meta[c].unique()), '\\n',\n",
    "          list(click_condition_meta[c].unique())[:show_max], '\\n')"
   ]
  },
  {
   "cell_type": "markdown",
   "metadata": {
    "collapsed": true
   },
   "source": [
    "1. <b>browser_language</b> seems to be fit to use as a potential descriptor. There attribute needs, however, some flattening. The most reasonable thing to do is to make the follwing categories: English, Latin-Non-English, Cytllic (i.e. Russian etc), Arabic and Asian\n",
    "2. <b>os_timezone</b> seems to be fit to use as a potential descriptor\n",
    "3. <b>os_name</b> seems to be fit to use as a potential descriptor, but needs some feature engineering (i.e. flaten sub-OSs into one OS (for example, different Android Versions to just \"Android\")). This will increase the attribute's (descriptor) usability later on + has a lot of NaN values\n",
    "4. <b>brower_color_depth</b> can be used, but it would be a very far fetch to assume that the color depth will be a decent descriptor of any subgroup. The choice is, therefore, made to discard it as potential descriptor.\n",
    "5. <b>refr_source</b> seems to be fit to use as a potential descriptor. To-do: Check whether a nan-value for this attribute implies that the reference was internal (i.e. clicking though website) (use the <i>page_referrer</i> attribute)\n",
    "6. <b>browser_cookies</b> has one unique value (True) and is, therefore, not fit as descriptor\n",
    "7. <b>geo_city</b> has a lot of unique values. One is better of using the higher level location attributes. The choice is, therefore, to discard as potential descriptor.\n",
    "8. <b>dvce_type</b> seems to be fit to use as a potential descriptor\n",
    "9. <b>page_referrer</b> is in itself not particular fit to be used as decriptor, but can be used to complete/improve the usability of the refr_source attribute.\n",
    "10. <b>geo_region/geo_region_name</b> have a lot of unique values. One is better of using the higher level location attributes\n",
    "11. <b>useragent</b> is in itself not very useful as a descriptor, but can be used to complete the os_name info, if necessary.\n",
    "12. <b>browser_viewdepth/browser_viewheight</b> could be used, but these attributes need to be considered in pairs and need some binning.\n",
    "13. <b>geo_timezone</b> seems also usable, but we already have the os_timezone, which is of the same format and holds the same information. We can, however, check whether we can use this attribute to fill in NaN values for the os_timezone."
   ]
  },
  {
   "cell_type": "markdown",
   "metadata": {},
   "source": [
    "### browser_language"
   ]
  },
  {
   "cell_type": "code",
   "execution_count": 30,
   "metadata": {
    "collapsed": true
   },
   "outputs": [],
   "source": [
    "languages = list(click_condition_meta.browser_language.unique())\n",
    "languages =  [x.lower() for x in languages] # lower case\n",
    "english = [s for s in languages if 'en' in s]\n",
    "languages = list(set(languages) - set(english)) # remove english from the set\n",
    "cyrillic = ['uk-ua', 'ru', 'bg', 'uk', 'hr-hr', 'ru-ru']\n",
    "asian = ['zh-cn', 'ja', 'zh-tw', 'ja-jp', 'vi-vn', 'vi', 'ko', 'th-th', 'id-id', 'id']\n",
    "greek = ['el-gr', 'el']\n",
    "herbrew = ['he-il', 'he']\n",
    "latin_non_en = ['it', 'sk-sk', 'ro', 'pt-br', 'sv-se', 'ro-ro', 'es', 'tr', 'es-es', 'pl-pl', 'es-xl', 'nb', 'fr-fr',\n",
    "                'it-it', 'es-419', 'da-dk', 'fr', 'de', 'nl-nl', 'tr-tr', 'nl', 'de-de', 'ar']"
   ]
  },
  {
   "cell_type": "code",
   "execution_count": 31,
   "metadata": {
    "collapsed": true
   },
   "outputs": [],
   "source": [
    "click_condition_meta.browser_language = click_condition_meta.browser_language.str.lower()"
   ]
  },
  {
   "cell_type": "code",
   "execution_count": 32,
   "metadata": {
    "collapsed": true
   },
   "outputs": [],
   "source": [
    "click_condition_meta['browser_language'] = np.where(click_condition_meta['browser_language'].isin(english), 'english', click_condition_meta.browser_language)\n",
    "click_condition_meta['browser_language'] = np.where(click_condition_meta['browser_language'].isin(cyrillic), 'cyrillic', click_condition_meta.browser_language)\n",
    "click_condition_meta['browser_language'] = np.where(click_condition_meta['browser_language'].isin(asian), 'asian', click_condition_meta.browser_language)\n",
    "click_condition_meta['browser_language'] = np.where(click_condition_meta['browser_language'].isin(greek), 'greek', click_condition_meta.browser_language)\n",
    "click_condition_meta['browser_language'] = np.where(click_condition_meta['browser_language'].isin(herbrew), 'herbrew', click_condition_meta.browser_language)\n",
    "click_condition_meta['browser_language'] = np.where(click_condition_meta['browser_language'].isin(latin_non_en), 'latin_lan', click_condition_meta.browser_language)"
   ]
  },
  {
   "cell_type": "code",
   "execution_count": 33,
   "metadata": {},
   "outputs": [
    {
     "data": {
      "text/plain": [
       "array(['greek', 'english', 'latin_lan', 'asian', 'cyrillic', 'herbrew'], dtype=object)"
      ]
     },
     "execution_count": 33,
     "metadata": {},
     "output_type": "execute_result"
    }
   ],
   "source": [
    "click_condition_meta.browser_language.unique()"
   ]
  },
  {
   "cell_type": "markdown",
   "metadata": {},
   "source": [
    "### os_name"
   ]
  },
  {
   "cell_type": "code",
   "execution_count": 34,
   "metadata": {
    "collapsed": true
   },
   "outputs": [],
   "source": [
    "os_names = list(click_condition_meta.os_name.unique())\n",
    "os_names =  [x.lower() for x in os_names] # lower case\n",
    "ios = [s for s in os_names if 'iphone' in s]\n",
    "android = [s for s in os_names if 'android' in s]\n",
    "windows = [s for s in os_names if 'windows' in s]\n",
    "other = [s for s in os_names if 'unknown' in s]"
   ]
  },
  {
   "cell_type": "code",
   "execution_count": 35,
   "metadata": {
    "collapsed": true
   },
   "outputs": [],
   "source": [
    "click_condition_meta.os_name = click_condition_meta.os_name.str.lower()"
   ]
  },
  {
   "cell_type": "code",
   "execution_count": 36,
   "metadata": {
    "collapsed": true
   },
   "outputs": [],
   "source": [
    "click_condition_meta['os_name'] = np.where(click_condition_meta['os_name'].isin(ios), 'iOS', click_condition_meta.os_name)\n",
    "click_condition_meta['os_name'] = np.where(click_condition_meta['os_name'].isin(android), 'Android', click_condition_meta.os_name)\n",
    "click_condition_meta['os_name'] = np.where(click_condition_meta['os_name'].isin(windows), 'Windows', click_condition_meta.os_name)\n",
    "click_condition_meta['os_name'] = np.where(click_condition_meta['os_name'].isin(other), 'Other', click_condition_meta.os_name)"
   ]
  },
  {
   "cell_type": "markdown",
   "metadata": {},
   "source": [
    "### geo_country"
   ]
  },
  {
   "cell_type": "code",
   "execution_count": 37,
   "metadata": {
    "collapsed": true
   },
   "outputs": [],
   "source": [
    "# can be done more elegantly/thoroughly, but enough advanced pre-processing steps have been illustrated\n",
    "click_condition_meta['geo_country'] = np.where(click_condition_meta['os_timezone'] == 'Europe/London' , 'GB', click_condition_meta.geo_country)\n",
    "click_condition_meta['geo_country'] = np.where(click_condition_meta['os_timezone'] == 'Europe/Helsinki' , 'FI', click_condition_meta.geo_country)\n",
    "click_condition_meta['geo_country'] = np.where(click_condition_meta['os_timezone'] == 'Europe/Berlin' , 'DE', click_condition_meta.geo_country)\n",
    "click_condition_meta['geo_country'] = np.where(click_condition_meta['os_timezone'] == 'Asia/Kolkata' , 'IN', click_condition_meta.geo_country)\n",
    "click_condition_meta['geo_country'] = np.where(click_condition_meta['os_timezone'] == 'Asia/Karachi' , 'PK', click_condition_meta.geo_country)\n",
    "click_condition_meta['geo_country'] = np.where(click_condition_meta['os_timezone'] == 'America/Santo_Domingo' , 'DO', click_condition_meta.geo_country)\n",
    "click_condition_meta['geo_country'] = np.where(click_condition_meta['os_timezone'] == 'Asia/Beirut' , 'LB', click_condition_meta.geo_country)\n",
    "click_condition_meta['geo_country'] = np.where(click_condition_meta['os_timezone'] == 'Asia/Dubai' , 'AE', click_condition_meta.geo_country)"
   ]
  },
  {
   "cell_type": "markdown",
   "metadata": {},
   "source": [
    "### not fit"
   ]
  },
  {
   "cell_type": "code",
   "execution_count": 38,
   "metadata": {
    "collapsed": true
   },
   "outputs": [],
   "source": [
    "click_condition_meta.drop(['geo_timezone', 'browser_cookies', 'geo_region', 'browser_colordepth', 'geo_city',\n",
    "                           'geo_region_name', 'useragent', 'browser_viewdepth', 'browser_viewheight'], axis = 1, inplace = True)"
   ]
  },
  {
   "cell_type": "markdown",
   "metadata": {},
   "source": [
    "### os_timezone"
   ]
  },
  {
   "cell_type": "code",
   "execution_count": 39,
   "metadata": {},
   "outputs": [
    {
     "data": {
      "text/plain": [
       "array(['Europe/Helsinki', 'Australia/Sydney', 'Europe/London',\n",
       "       'Asia/Dhaka', 'Africa/Lagos', 'Africa/Cairo', 'Europe/Berlin',\n",
       "       'Asia/Shanghai', 'America/Bogota', 'Asia/Baghdad',\n",
       "       'America/Sao_Paulo', 'Asia/Karachi', 'UTC', 'America/New_York',\n",
       "       'Europe/Minsk', 'Asia/Tokyo', 'Asia/Beirut', 'America/Chicago',\n",
       "       'Asia/Kolkata', 'America/Denver', 'America/Goose_Bay',\n",
       "       'America/Los_Angeles', 'Asia/Jakarta', 'Africa/Johannesburg',\n",
       "       'Asia/Rangoon', 'America/Asuncion', 'Asia/Baku', 'Asia/Kathmandu',\n",
       "       'Europe/Moscow', 'Asia/Jerusalem', 'America/Mexico_City',\n",
       "       'America/Santo_Domingo', 'Asia/Dubai', 'Australia/Brisbane',\n",
       "       'America/Guatemala', 'America/Phoenix', 'Asia/Krasnoyarsk',\n",
       "       'America/Montevideo', 'Africa/Windhoek', 'Australia/Adelaide'], dtype=object)"
      ]
     },
     "execution_count": 39,
     "metadata": {},
     "output_type": "execute_result"
    }
   ],
   "source": [
    "click_condition_meta.os_timezone.unique()"
   ]
  },
  {
   "cell_type": "code",
   "execution_count": 40,
   "metadata": {
    "collapsed": true
   },
   "outputs": [],
   "source": [
    "timezones = list(click_condition_meta.os_timezone.unique())\n",
    "timezones = [x.lower() for x in timezones]\n",
    "europe = [s for s in timezones if 'europe' in s] + ['utc']\n",
    "america = [s for s in timezones if 'america' in s]\n",
    "asia = [s for s in timezones if 'asia' in s]\n",
    "australia = [s for s in timezones if 'australia' in s]\n",
    "africa = [s for s in timezones if 'africa' in s]"
   ]
  },
  {
   "cell_type": "code",
   "execution_count": 41,
   "metadata": {
    "collapsed": true
   },
   "outputs": [],
   "source": [
    "click_condition_meta.os_timezone = click_condition_meta.os_timezone.str.lower()"
   ]
  },
  {
   "cell_type": "code",
   "execution_count": 42,
   "metadata": {
    "collapsed": true
   },
   "outputs": [],
   "source": [
    "click_condition_meta['os_timezone'] = np.where(click_condition_meta['os_timezone'].isin(europe), 'Europe', click_condition_meta.os_timezone)\n",
    "click_condition_meta['os_timezone'] = np.where(click_condition_meta['os_timezone'].isin(america), 'America', click_condition_meta.os_timezone)\n",
    "click_condition_meta['os_timezone'] = np.where(click_condition_meta['os_timezone'].isin(asia), 'Asia', click_condition_meta.os_timezone)\n",
    "click_condition_meta['os_timezone'] = np.where(click_condition_meta['os_timezone'].isin(australia), 'Australia', click_condition_meta.os_timezone)\n",
    "click_condition_meta['os_timezone'] = np.where(click_condition_meta['os_timezone'].isin(africa), 'Africa', click_condition_meta.os_timezone)"
   ]
  },
  {
   "cell_type": "code",
   "execution_count": 43,
   "metadata": {},
   "outputs": [
    {
     "data": {
      "text/plain": [
       "array(['Europe', 'Australia', 'Asia', 'Africa', 'America'], dtype=object)"
      ]
     },
     "execution_count": 43,
     "metadata": {},
     "output_type": "execute_result"
    }
   ],
   "source": [
    "click_condition_meta.os_timezone.unique()"
   ]
  },
  {
   "cell_type": "markdown",
   "metadata": {},
   "source": [
    "### devc_type"
   ]
  },
  {
   "cell_type": "code",
   "execution_count": 44,
   "metadata": {},
   "outputs": [
    {
     "data": {
      "text/html": [
       "<div>\n",
       "<style scoped>\n",
       "    .dataframe tbody tr th:only-of-type {\n",
       "        vertical-align: middle;\n",
       "    }\n",
       "\n",
       "    .dataframe tbody tr th {\n",
       "        vertical-align: top;\n",
       "    }\n",
       "\n",
       "    .dataframe thead th {\n",
       "        text-align: right;\n",
       "    }\n",
       "</style>\n",
       "<table border=\"1\" class=\"dataframe\">\n",
       "  <thead>\n",
       "    <tr style=\"text-align: right;\">\n",
       "      <th></th>\n",
       "      <th>action</th>\n",
       "      <th>user_id</th>\n",
       "      <th>condition</th>\n",
       "      <th>geo_country</th>\n",
       "      <th>page_url</th>\n",
       "      <th>page_title</th>\n",
       "      <th>page_referrer</th>\n",
       "      <th>refr_source</th>\n",
       "      <th>browser_language</th>\n",
       "      <th>os_name</th>\n",
       "      <th>os_timezone</th>\n",
       "      <th>dvce_type</th>\n",
       "    </tr>\n",
       "  </thead>\n",
       "  <tbody>\n",
       "    <tr>\n",
       "      <th>403</th>\n",
       "      <td>clic</td>\n",
       "      <td>1f336e8c-d658-4656-bd87-aae8995e2725</td>\n",
       "      <td>2-Buttony-Conversion-Buttons</td>\n",
       "      <td>GM</td>\n",
       "      <td>http://www.mastersportal.eu/countries/82/unite...</td>\n",
       "      <td>Masters in United States - MastersPortal.eu</td>\n",
       "      <td>http://www.mastersportal.eu/countries/82/unite...</td>\n",
       "      <td>NaN</td>\n",
       "      <td>english</td>\n",
       "      <td>Other</td>\n",
       "      <td>Europe</td>\n",
       "      <td>Unknown</td>\n",
       "    </tr>\n",
       "    <tr>\n",
       "      <th>704</th>\n",
       "      <td>view</td>\n",
       "      <td>ed1b6397-0c3d-4efe-9e2f-f448b60a7384</td>\n",
       "      <td>2-Buttony-Conversion-Buttons</td>\n",
       "      <td>US</td>\n",
       "      <td>http://www.mastersportal.eu/universities/1145/...</td>\n",
       "      <td>Polimoda Institute of Fashion Design and Marke...</td>\n",
       "      <td>NaN</td>\n",
       "      <td>NaN</td>\n",
       "      <td>english</td>\n",
       "      <td>Other</td>\n",
       "      <td>America</td>\n",
       "      <td>Unknown</td>\n",
       "    </tr>\n",
       "  </tbody>\n",
       "</table>\n",
       "</div>"
      ],
      "text/plain": [
       "    action                               user_id  \\\n",
       "403   clic  1f336e8c-d658-4656-bd87-aae8995e2725   \n",
       "704   view  ed1b6397-0c3d-4efe-9e2f-f448b60a7384   \n",
       "\n",
       "                        condition geo_country  \\\n",
       "403  2-Buttony-Conversion-Buttons          GM   \n",
       "704  2-Buttony-Conversion-Buttons          US   \n",
       "\n",
       "                                              page_url  \\\n",
       "403  http://www.mastersportal.eu/countries/82/unite...   \n",
       "704  http://www.mastersportal.eu/universities/1145/...   \n",
       "\n",
       "                                            page_title  \\\n",
       "403        Masters in United States - MastersPortal.eu   \n",
       "704  Polimoda Institute of Fashion Design and Marke...   \n",
       "\n",
       "                                         page_referrer refr_source  \\\n",
       "403  http://www.mastersportal.eu/countries/82/unite...         NaN   \n",
       "704                                                NaN         NaN   \n",
       "\n",
       "    browser_language os_name os_timezone dvce_type  \n",
       "403          english   Other      Europe   Unknown  \n",
       "704          english   Other     America   Unknown  "
      ]
     },
     "execution_count": 44,
     "metadata": {},
     "output_type": "execute_result"
    }
   ],
   "source": [
    "click_condition_meta.loc[click_condition_meta.dvce_type == \"Unknown\"].head(2)"
   ]
  },
  {
   "cell_type": "code",
   "execution_count": 45,
   "metadata": {
    "collapsed": true
   },
   "outputs": [],
   "source": [
    "click_condition_meta['dvce_type'] = np.where(click_condition_meta.user_id == \"1f336e8c-d658-4656-bd87-aae8995e2725\", 'Mobile', click_condition_meta.dvce_type)"
   ]
  },
  {
   "cell_type": "markdown",
   "metadata": {},
   "source": [
    "Apparently, one of the users is a GoogleBot (webcrawling bot of google used for for example google search indexing). This user can be removed, since you do not want to take this user into account in the research."
   ]
  },
  {
   "cell_type": "code",
   "execution_count": 46,
   "metadata": {
    "collapsed": true
   },
   "outputs": [],
   "source": [
    "click_condition_meta = click_condition_meta[click_condition_meta.dvce_type != 'Unknown'] # google bot"
   ]
  },
  {
   "cell_type": "code",
   "execution_count": 47,
   "metadata": {},
   "outputs": [
    {
     "data": {
      "text/plain": [
       "array(['Mobile', 'Tablet', 'Computer'], dtype=object)"
      ]
     },
     "execution_count": 47,
     "metadata": {},
     "output_type": "execute_result"
    }
   ],
   "source": [
    "click_condition_meta.dvce_type.unique()"
   ]
  },
  {
   "cell_type": "markdown",
   "metadata": {},
   "source": [
    "### refr_source"
   ]
  },
  {
   "cell_type": "code",
   "execution_count": 48,
   "metadata": {},
   "outputs": [
    {
     "data": {
      "text/plain": [
       "245"
      ]
     },
     "execution_count": 48,
     "metadata": {},
     "output_type": "execute_result"
    }
   ],
   "source": [
    "click_condition_meta[pd.isnull(click_condition_meta['refr_source'])].shape[0]"
   ]
  },
  {
   "cell_type": "markdown",
   "metadata": {},
   "source": [
    "We are going to fill in this attribute by using the <i>page_referrer</i> attribute to reduce the number of null values of this attribute. If the <i>page_referrer</i> is, for example, a search engine, we can fille in this search engine as <i>refr_source</i>. If the <i>page_referrer</i> is a website from the same domain, the reference was internally.\n",
    "The reason for a NaN value for the <i>page_referrer</i> is diffult to specify. Just to list some reasons:\n",
    "* The user just entered the url belonging to the page themself / used a browser-maintained bookmark\n",
    "* The user made a transition from a secure HTTPS connection/page/website to an 'insecure' one (just HTTP)\n",
    "* The user has software (e.g. anti-virus or firewall) which stripped the <i>page_referrer</i> info from the HTTP request\n",
    "* ... There are many more reasons, but this course is not about web-technology or computer networks ;)"
   ]
  },
  {
   "cell_type": "code",
   "execution_count": 49,
   "metadata": {
    "collapsed": true
   },
   "outputs": [],
   "source": [
    "references = list(click_condition_meta.page_referrer.unique())\n",
    "references = [str(s) for s in references]\n",
    "google = [s for s in references if 'google' in s]\n",
    "portal = [s for s in references if 'portal' in s]\n",
    "facebook = [s for s in references if 'facebook' in s]\n",
    "baidu = [s for s in references if 'baidu' in s]\n",
    "yahoo = [s for s in references if 'yahoo' in s]\n",
    "everyclick = [s for s in references if 'everyclick' in s]\n",
    "duckduckgo = [s for s in references if 'duckduckgo' in s]\n",
    "click_condition_meta.page_referrer = click_condition_meta.page_referrer.str.lower()"
   ]
  },
  {
   "cell_type": "code",
   "execution_count": 50,
   "metadata": {},
   "outputs": [
    {
     "data": {
      "text/plain": [
       "array([nan, 'Google', 'Yahoo', 'Yandex', 'Bing', 'DuckDuckGo', 'Facebook',\n",
       "       'Vkontakte', 'Everyclick'], dtype=object)"
      ]
     },
     "execution_count": 50,
     "metadata": {},
     "output_type": "execute_result"
    }
   ],
   "source": [
    "click_condition_meta.refr_source.unique()"
   ]
  },
  {
   "cell_type": "code",
   "execution_count": 51,
   "metadata": {
    "collapsed": true
   },
   "outputs": [],
   "source": [
    "click_condition_meta['refr_source'] = np.where(((click_condition_meta['page_referrer'].isin(google))\n",
    "                                                & pd.isnull(click_condition_meta['refr_source'])),\n",
    "                                               'Google', click_condition_meta.refr_source)\n",
    "click_condition_meta['refr_source'] = np.where(((click_condition_meta['page_referrer'].isin(portal))\n",
    "                                                & pd.isnull(click_condition_meta['refr_source'])),\n",
    "                                               'StudyPortal', click_condition_meta.refr_source)\n",
    "click_condition_meta['refr_source'] = np.where(((click_condition_meta['page_referrer'].isin(facebook))\n",
    "                                                & pd.isnull(click_condition_meta['refr_source'])),\n",
    "                                               'Facebook', click_condition_meta.refr_source)\n",
    "click_condition_meta['refr_source'] = np.where(((click_condition_meta['page_referrer'].isin(baidu))\n",
    "                                                & pd.isnull(click_condition_meta['refr_source'])),\n",
    "                                               'Baidu', click_condition_meta.refr_source)\n",
    "click_condition_meta['refr_source'] = np.where(((click_condition_meta['page_referrer'].isin(yahoo))\n",
    "                                                & pd.isnull(click_condition_meta['refr_source'])),\n",
    "                                               'Yahoo', click_condition_meta.refr_source)\n",
    "click_condition_meta['refr_source'] = np.where(((click_condition_meta['page_referrer'].isin(everyclick))\n",
    "                                                & pd.isnull(click_condition_meta['refr_source'])),\n",
    "                                               'Everyclick', click_condition_meta.refr_source)\n",
    "click_condition_meta['refr_source'] = np.where(((click_condition_meta['page_referrer'].isin(duckduckgo))\n",
    "                                                & pd.isnull(click_condition_meta['refr_source'])),\n",
    "                                               'DuckDuckGo', click_condition_meta.refr_source)\n",
    "click_condition_meta.drop(['page_referrer', 'page_title', 'page_url'], axis = 1, inplace = True) # not needed anymore"
   ]
  },
  {
   "cell_type": "code",
   "execution_count": 52,
   "metadata": {},
   "outputs": [
    {
     "name": "stdout",
     "output_type": "stream",
     "text": [
      "filled in 172 NaN values\n"
     ]
    }
   ],
   "source": [
    "print(\"filled in\", 245 - click_condition_meta[pd.isnull(click_condition_meta['refr_source'])].shape[0], \"NaN values\")"
   ]
  },
  {
   "cell_type": "markdown",
   "metadata": {},
   "source": [
    "So this data preprocessing step for the reference source was quite useful. The remaining NaN values fall under the various cases which have been explained a few cells ago. Let's classifiy these cases as just \"refr_source not available\"."
   ]
  },
  {
   "cell_type": "code",
   "execution_count": 53,
   "metadata": {
    "collapsed": true
   },
   "outputs": [],
   "source": [
    "click_condition_meta['refr_source'] = np.where((pd.isnull(click_condition_meta['refr_source'])),\n",
    "                                               'refr_source not available', click_condition_meta.refr_source)"
   ]
  },
  {
   "cell_type": "markdown",
   "metadata": {},
   "source": [
    "### final pre-processing steps"
   ]
  },
  {
   "cell_type": "code",
   "execution_count": 54,
   "metadata": {},
   "outputs": [
    {
     "data": {
      "text/html": [
       "<div>\n",
       "<style scoped>\n",
       "    .dataframe tbody tr th:only-of-type {\n",
       "        vertical-align: middle;\n",
       "    }\n",
       "\n",
       "    .dataframe tbody tr th {\n",
       "        vertical-align: top;\n",
       "    }\n",
       "\n",
       "    .dataframe thead th {\n",
       "        text-align: right;\n",
       "    }\n",
       "</style>\n",
       "<table border=\"1\" class=\"dataframe\">\n",
       "  <thead>\n",
       "    <tr style=\"text-align: right;\">\n",
       "      <th></th>\n",
       "      <th>action</th>\n",
       "      <th>user_id</th>\n",
       "      <th>condition</th>\n",
       "      <th>refr_source</th>\n",
       "      <th>browser_language</th>\n",
       "      <th>os_name</th>\n",
       "      <th>os_timezone</th>\n",
       "      <th>dvce_type</th>\n",
       "    </tr>\n",
       "    <tr>\n",
       "      <th>geo_country</th>\n",
       "      <th></th>\n",
       "      <th></th>\n",
       "      <th></th>\n",
       "      <th></th>\n",
       "      <th></th>\n",
       "      <th></th>\n",
       "      <th></th>\n",
       "      <th></th>\n",
       "    </tr>\n",
       "  </thead>\n",
       "  <tbody>\n",
       "    <tr>\n",
       "      <th>DE</th>\n",
       "      <td>172</td>\n",
       "      <td>172</td>\n",
       "      <td>172</td>\n",
       "      <td>172</td>\n",
       "      <td>172</td>\n",
       "      <td>172</td>\n",
       "      <td>172</td>\n",
       "      <td>172</td>\n",
       "    </tr>\n",
       "    <tr>\n",
       "      <th>GB</th>\n",
       "      <td>100</td>\n",
       "      <td>100</td>\n",
       "      <td>100</td>\n",
       "      <td>100</td>\n",
       "      <td>100</td>\n",
       "      <td>100</td>\n",
       "      <td>100</td>\n",
       "      <td>100</td>\n",
       "    </tr>\n",
       "    <tr>\n",
       "      <th>FI</th>\n",
       "      <td>87</td>\n",
       "      <td>87</td>\n",
       "      <td>87</td>\n",
       "      <td>87</td>\n",
       "      <td>87</td>\n",
       "      <td>87</td>\n",
       "      <td>87</td>\n",
       "      <td>87</td>\n",
       "    </tr>\n",
       "    <tr>\n",
       "      <th>IN</th>\n",
       "      <td>67</td>\n",
       "      <td>67</td>\n",
       "      <td>67</td>\n",
       "      <td>67</td>\n",
       "      <td>67</td>\n",
       "      <td>67</td>\n",
       "      <td>67</td>\n",
       "      <td>67</td>\n",
       "    </tr>\n",
       "  </tbody>\n",
       "</table>\n",
       "</div>"
      ],
      "text/plain": [
       "             action  user_id  condition  refr_source  browser_language  \\\n",
       "geo_country                                                              \n",
       "DE              172      172        172          172               172   \n",
       "GB              100      100        100          100               100   \n",
       "FI               87       87         87           87                87   \n",
       "IN               67       67         67           67                67   \n",
       "\n",
       "             os_name  os_timezone  dvce_type  \n",
       "geo_country                                   \n",
       "DE               172          172        172  \n",
       "GB               100          100        100  \n",
       "FI                87           87         87  \n",
       "IN                67           67         67  "
      ]
     },
     "execution_count": 54,
     "metadata": {},
     "output_type": "execute_result"
    }
   ],
   "source": [
    "(pd.DataFrame(click_condition_meta.groupby('geo_country').count())).sort_values('action', ascending = False).head(4)"
   ]
  },
  {
   "cell_type": "markdown",
   "metadata": {},
   "source": [
    "There are still two NaN values in the geo_country column. One can observe that these vistors are from Africa. One can safely assume that these users are from Nigeria since the website is relatively popular among Nigerians (conclusion based on data: 4th most frequent country as can be seen in the cell above) and the frequency of other countries in Africa are rather low."
   ]
  },
  {
   "cell_type": "code",
   "execution_count": 55,
   "metadata": {
    "collapsed": true
   },
   "outputs": [],
   "source": [
    "click_condition_meta['geo_country'] = np.where((pd.isnull(click_condition_meta['geo_country'])),\n",
    "                                               'NG', click_condition_meta.geo_country)"
   ]
  },
  {
   "cell_type": "code",
   "execution_count": 56,
   "metadata": {},
   "outputs": [
    {
     "name": "stdout",
     "output_type": "stream",
     "text": [
      "<class 'pandas.core.frame.DataFrame'>\n",
      "RangeIndex: 899 entries, 0 to 898\n",
      "Data columns (total 9 columns):\n",
      "action              899 non-null object\n",
      "user_id             899 non-null object\n",
      "condition           899 non-null object\n",
      "geo_country         899 non-null object\n",
      "refr_source         899 non-null object\n",
      "browser_language    899 non-null object\n",
      "os_name             899 non-null object\n",
      "os_timezone         899 non-null object\n",
      "dvce_type           899 non-null object\n",
      "dtypes: object(9)\n",
      "memory usage: 63.3+ KB\n"
     ]
    }
   ],
   "source": [
    "click_condition_meta.reset_index(inplace = True, drop = True)\n",
    "click_condition_meta.info()"
   ]
  },
  {
   "cell_type": "code",
   "execution_count": 57,
   "metadata": {},
   "outputs": [
    {
     "data": {
      "text/html": [
       "<div>\n",
       "<style scoped>\n",
       "    .dataframe tbody tr th:only-of-type {\n",
       "        vertical-align: middle;\n",
       "    }\n",
       "\n",
       "    .dataframe tbody tr th {\n",
       "        vertical-align: top;\n",
       "    }\n",
       "\n",
       "    .dataframe thead th {\n",
       "        text-align: right;\n",
       "    }\n",
       "</style>\n",
       "<table border=\"1\" class=\"dataframe\">\n",
       "  <thead>\n",
       "    <tr style=\"text-align: right;\">\n",
       "      <th></th>\n",
       "      <th>action</th>\n",
       "      <th>user_id</th>\n",
       "      <th>condition</th>\n",
       "      <th>geo_country</th>\n",
       "      <th>refr_source</th>\n",
       "      <th>browser_language</th>\n",
       "      <th>os_name</th>\n",
       "      <th>os_timezone</th>\n",
       "      <th>dvce_type</th>\n",
       "    </tr>\n",
       "  </thead>\n",
       "  <tbody>\n",
       "    <tr>\n",
       "      <th>0</th>\n",
       "      <td>clic</td>\n",
       "      <td>379881d5-32d7-49f4-bf5b-81fefbc5fcce</td>\n",
       "      <td>1-Control</td>\n",
       "      <td>FI</td>\n",
       "      <td>Google</td>\n",
       "      <td>greek</td>\n",
       "      <td>Android</td>\n",
       "      <td>Europe</td>\n",
       "      <td>Mobile</td>\n",
       "    </tr>\n",
       "    <tr>\n",
       "      <th>1</th>\n",
       "      <td>clic</td>\n",
       "      <td>2a0f4218-4f62-479b-845c-109b2720e6e7</td>\n",
       "      <td>2-Buttony-Conversion-Buttons</td>\n",
       "      <td>AU</td>\n",
       "      <td>Google</td>\n",
       "      <td>english</td>\n",
       "      <td>iOS</td>\n",
       "      <td>Australia</td>\n",
       "      <td>Mobile</td>\n",
       "    </tr>\n",
       "    <tr>\n",
       "      <th>2</th>\n",
       "      <td>clic</td>\n",
       "      <td>a511b6dc-2dca-455b-b5e2-bf2d224a5505</td>\n",
       "      <td>2-Buttony-Conversion-Buttons</td>\n",
       "      <td>GB</td>\n",
       "      <td>Google</td>\n",
       "      <td>english</td>\n",
       "      <td>Android</td>\n",
       "      <td>Europe</td>\n",
       "      <td>Mobile</td>\n",
       "    </tr>\n",
       "  </tbody>\n",
       "</table>\n",
       "</div>"
      ],
      "text/plain": [
       "  action                               user_id                     condition  \\\n",
       "0   clic  379881d5-32d7-49f4-bf5b-81fefbc5fcce                     1-Control   \n",
       "1   clic  2a0f4218-4f62-479b-845c-109b2720e6e7  2-Buttony-Conversion-Buttons   \n",
       "2   clic  a511b6dc-2dca-455b-b5e2-bf2d224a5505  2-Buttony-Conversion-Buttons   \n",
       "\n",
       "  geo_country refr_source browser_language  os_name os_timezone dvce_type  \n",
       "0          FI      Google            greek  Android      Europe    Mobile  \n",
       "1          AU      Google          english      iOS   Australia    Mobile  \n",
       "2          GB      Google          english  Android      Europe    Mobile  "
      ]
     },
     "execution_count": 57,
     "metadata": {},
     "output_type": "execute_result"
    }
   ],
   "source": [
    "click_condition_meta.head(3)"
   ]
  },
  {
   "cell_type": "markdown",
   "metadata": {},
   "source": [
    "So we now have a fuly pre-processed dataframe in which we have the target attributes <i>action</i> and <i>condition</i> and descriptors <i>geo_country, refr_source, browser_language, os_name, os_timezone</i> and <i>dvce_type</i> which are all processed/flattened where considered necessary."
   ]
  },
  {
   "cell_type": "code",
   "execution_count": 58,
   "metadata": {},
   "outputs": [],
   "source": [
    "click_condition_meta.to_csv('./data/action_condition_meta.csv', index = False) # for usage in other notebooks and scripts"
   ]
  },
  {
   "cell_type": "markdown",
   "metadata": {},
   "source": [
    "### 2 A&B Testing"
   ]
  },
  {
   "cell_type": "markdown",
   "metadata": {},
   "source": [
    "### 3 Beyond A&B Testing"
   ]
  }
 ],
 "metadata": {
  "kernelspec": {
   "display_name": "Python 3",
   "language": "python",
   "name": "python3"
  },
  "language_info": {
   "codemirror_mode": {
    "name": "ipython",
    "version": 3
   },
   "file_extension": ".py",
   "mimetype": "text/x-python",
   "name": "python",
   "nbconvert_exporter": "python",
   "pygments_lexer": "ipython3",
   "version": "3.6.3"
  }
 },
 "nbformat": 4,
 "nbformat_minor": 2
}
