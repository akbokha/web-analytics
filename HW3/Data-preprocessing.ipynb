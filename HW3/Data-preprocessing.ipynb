{
 "cells": [
  {
   "cell_type": "markdown",
   "metadata": {},
   "source": [
    "# Web Analytics (2IID0) Homework Assignment 3\n",
    "## Exceptional Model Ming vs A/B Testing\n",
    "#### <i>Abdel K. Bokharouss, Bart van Helvert, Joris Rombouts & Remco Surtel</i>   -   December 2017"
   ]
  },
  {
   "cell_type": "markdown",
   "metadata": {},
   "source": [
    "In this assignment we will combine Exceptional Model Mining (EMM) and A/B Testing. The dataset has been provided by StudyPortals. The core concept of A/B Testing is that each test subject gets a corresponding variant assigned. After that, we measure the rate of success per variant and the variant with most success is kept, while the other is discarded. However, subgroups that might be served better by the losing version will be disadvantaged. To do better than this, we further mine the data to find coherent subgroups where alternative delivers more success. New visitors to the website that correspond to a specific subgroup, will get either version A or B of the website. Exceptional Model Mining allows us to mine the data further, so that we can discover these subgroups. First, we need to make a decision which attributes will be used as descriptors and which of the attributes will be used as targets."
   ]
  },
  {
   "cell_type": "markdown",
   "metadata": {},
   "source": [
    "### <font color=\"green\">imports, preparation and configuration</font>"
   ]
  },
  {
   "cell_type": "code",
   "execution_count": 1,
   "metadata": {
    "collapsed": true
   },
   "outputs": [],
   "source": [
    "import pandas as pd\n",
    "import numpy as np\n",
    "import seaborn as sns\n",
    "from sklearn.model_selection import train_test_split\n",
    "from sklearn import tree, preprocessing, metrics\n",
    "import matplotlib.pyplot as plt\n",
    "%matplotlib inline"
   ]
  },
  {
   "cell_type": "markdown",
   "metadata": {},
   "source": [
    "### 1 Data Preprocessing"
   ]
  },
  {
   "cell_type": "markdown",
   "metadata": {},
   "source": [
    "#### a\n",
    "The raw data that StudyPortals delivered, contains of three datasets: `clicking_data`, `experiment_datails` and `meta_data`. The primary imporance to StudyPortals is analyzing the association between which version of the website were shown (version A or B) and whether or not the user clicked on the button. Therefore the binary attribute `action` of the dataset `clicking_data` is the first target attribute we define. However, we also want to know which version (A or B) was showed to the user. Therefore the attribute `condition` of the dataset `experiment_details` is the second target attribute we define."
   ]
  },
  {
   "cell_type": "markdown",
   "metadata": {},
   "source": [
    "#### b\n",
    "After the targets are defined, the next step to do is to select which attributes will be used as descriptors. The goal is to gather as much descriptor informaiton as is reasonably possible. First we explore the data, and check how many NAN-values the three datasets contain."
   ]
  },
  {
   "cell_type": "code",
   "execution_count": 2,
   "metadata": {},
   "outputs": [
    {
     "data": {
      "text/html": [
       "<div>\n",
       "<style>\n",
       "    .dataframe thead tr:only-child th {\n",
       "        text-align: right;\n",
       "    }\n",
       "\n",
       "    .dataframe thead th {\n",
       "        text-align: left;\n",
       "    }\n",
       "\n",
       "    .dataframe tbody tr th {\n",
       "        vertical-align: top;\n",
       "    }\n",
       "</style>\n",
       "<table border=\"1\" class=\"dataframe\">\n",
       "  <thead>\n",
       "    <tr style=\"text-align: right;\">\n",
       "      <th></th>\n",
       "      <th>action</th>\n",
       "      <th>action_label</th>\n",
       "      <th>action_type</th>\n",
       "      <th>tstamp</th>\n",
       "      <th>user_session</th>\n",
       "    </tr>\n",
       "  </thead>\n",
       "  <tbody>\n",
       "    <tr>\n",
       "      <th>0</th>\n",
       "      <td>clic</td>\n",
       "      <td>revenue</td>\n",
       "      <td>link</td>\n",
       "      <td>1472755490</td>\n",
       "      <td>379881d5-32d7-49f4-bf5b-81fefbc5fcce</td>\n",
       "    </tr>\n",
       "    <tr>\n",
       "      <th>1</th>\n",
       "      <td>clic</td>\n",
       "      <td>revenue</td>\n",
       "      <td>link</td>\n",
       "      <td>1472839117</td>\n",
       "      <td>2a0f4218-4f62-479b-845c-109b2720e6e7</td>\n",
       "    </tr>\n",
       "    <tr>\n",
       "      <th>2</th>\n",
       "      <td>clic</td>\n",
       "      <td>revenue</td>\n",
       "      <td>link</td>\n",
       "      <td>1472879219</td>\n",
       "      <td>a511b6dc-2dca-455b-b5e2-bf2d224a5505</td>\n",
       "    </tr>\n",
       "    <tr>\n",
       "      <th>3</th>\n",
       "      <td>clic</td>\n",
       "      <td>revenue</td>\n",
       "      <td>link</td>\n",
       "      <td>1472890876</td>\n",
       "      <td>9fb616a7-4e13-4307-ac92-0b075d7d376a</td>\n",
       "    </tr>\n",
       "    <tr>\n",
       "      <th>4</th>\n",
       "      <td>clic</td>\n",
       "      <td>revenue</td>\n",
       "      <td>link</td>\n",
       "      <td>1472892380</td>\n",
       "      <td>64816772-688d-4460-a591-79aa49bba0d5</td>\n",
       "    </tr>\n",
       "  </tbody>\n",
       "</table>\n",
       "</div>"
      ],
      "text/plain": [
       "  action action_label action_type      tstamp  \\\n",
       "0   clic      revenue        link  1472755490   \n",
       "1   clic      revenue        link  1472839117   \n",
       "2   clic      revenue        link  1472879219   \n",
       "3   clic      revenue        link  1472890876   \n",
       "4   clic      revenue        link  1472892380   \n",
       "\n",
       "                           user_session  \n",
       "0  379881d5-32d7-49f4-bf5b-81fefbc5fcce  \n",
       "1  2a0f4218-4f62-479b-845c-109b2720e6e7  \n",
       "2  a511b6dc-2dca-455b-b5e2-bf2d224a5505  \n",
       "3  9fb616a7-4e13-4307-ac92-0b075d7d376a  \n",
       "4  64816772-688d-4460-a591-79aa49bba0d5  "
      ]
     },
     "execution_count": 2,
     "metadata": {},
     "output_type": "execute_result"
    }
   ],
   "source": [
    "df_click = pd.read_csv('data/clicking_data.csv')\n",
    "df_click.head()"
   ]
  },
  {
   "cell_type": "code",
   "execution_count": 3,
   "metadata": {},
   "outputs": [
    {
     "name": "stdout",
     "output_type": "stream",
     "text": [
      "(919, 5)\n",
      "<class 'pandas.core.frame.DataFrame'>\n",
      "RangeIndex: 919 entries, 0 to 918\n",
      "Data columns (total 5 columns):\n",
      "action          919 non-null object\n",
      "action_label    919 non-null object\n",
      "action_type     919 non-null object\n",
      "tstamp          919 non-null int64\n",
      "user_session    919 non-null object\n",
      "dtypes: int64(1), object(4)\n",
      "memory usage: 36.0+ KB\n"
     ]
    }
   ],
   "source": [
    "print(df_click.shape)\n",
    "df_click.info()"
   ]
  },
  {
   "cell_type": "code",
   "execution_count": 4,
   "metadata": {},
   "outputs": [
    {
     "data": {
      "text/html": [
       "<div>\n",
       "<style>\n",
       "    .dataframe thead tr:only-child th {\n",
       "        text-align: right;\n",
       "    }\n",
       "\n",
       "    .dataframe thead th {\n",
       "        text-align: left;\n",
       "    }\n",
       "\n",
       "    .dataframe tbody tr th {\n",
       "        vertical-align: top;\n",
       "    }\n",
       "</style>\n",
       "<table border=\"1\" class=\"dataframe\">\n",
       "  <thead>\n",
       "    <tr style=\"text-align: right;\">\n",
       "      <th></th>\n",
       "      <th>user_id</th>\n",
       "      <th>experiment_id</th>\n",
       "      <th>condition</th>\n",
       "      <th>timestamp</th>\n",
       "    </tr>\n",
       "  </thead>\n",
       "  <tbody>\n",
       "    <tr>\n",
       "      <th>0</th>\n",
       "      <td>7f693927-6835-415e-b817-794eabee96d2</td>\n",
       "      <td>86-v2-Butonny buttons</td>\n",
       "      <td>2-Buttony-Conversion-Buttons</td>\n",
       "      <td>16:59.2</td>\n",
       "    </tr>\n",
       "    <tr>\n",
       "      <th>1</th>\n",
       "      <td>8c07c192-83ab-4646-8cb5-b3a692e6eedf</td>\n",
       "      <td>86-v2-Butonny buttons</td>\n",
       "      <td>2-Buttony-Conversion-Buttons</td>\n",
       "      <td>17:10.3</td>\n",
       "    </tr>\n",
       "    <tr>\n",
       "      <th>2</th>\n",
       "      <td>6aab759e-5662-4578-9ad5-016895b3a52b</td>\n",
       "      <td>86-v2-Butonny buttons</td>\n",
       "      <td>2-Buttony-Conversion-Buttons</td>\n",
       "      <td>20:39.9</td>\n",
       "    </tr>\n",
       "    <tr>\n",
       "      <th>3</th>\n",
       "      <td>0b31f493-2a44-4e9c-ac76-a30cd9d844f0</td>\n",
       "      <td>86-v2-Butonny buttons</td>\n",
       "      <td>2-Buttony-Conversion-Buttons</td>\n",
       "      <td>21:12.6</td>\n",
       "    </tr>\n",
       "    <tr>\n",
       "      <th>4</th>\n",
       "      <td>e502aa88-8429-4981-80c9-526bb190e76f</td>\n",
       "      <td>86-v2-Butonny buttons</td>\n",
       "      <td>1-Control</td>\n",
       "      <td>30:02.3</td>\n",
       "    </tr>\n",
       "  </tbody>\n",
       "</table>\n",
       "</div>"
      ],
      "text/plain": [
       "                                user_id          experiment_id  \\\n",
       "0  7f693927-6835-415e-b817-794eabee96d2  86-v2-Butonny buttons   \n",
       "1  8c07c192-83ab-4646-8cb5-b3a692e6eedf  86-v2-Butonny buttons   \n",
       "2  6aab759e-5662-4578-9ad5-016895b3a52b  86-v2-Butonny buttons   \n",
       "3  0b31f493-2a44-4e9c-ac76-a30cd9d844f0  86-v2-Butonny buttons   \n",
       "4  e502aa88-8429-4981-80c9-526bb190e76f  86-v2-Butonny buttons   \n",
       "\n",
       "                      condition timestamp  \n",
       "0  2-Buttony-Conversion-Buttons   16:59.2  \n",
       "1  2-Buttony-Conversion-Buttons   17:10.3  \n",
       "2  2-Buttony-Conversion-Buttons   20:39.9  \n",
       "3  2-Buttony-Conversion-Buttons   21:12.6  \n",
       "4                     1-Control   30:02.3  "
      ]
     },
     "execution_count": 4,
     "metadata": {},
     "output_type": "execute_result"
    }
   ],
   "source": [
    "df_experiment = pd.read_csv('data/experiment_details.csv')\n",
    "df_experiment.head()"
   ]
  },
  {
   "cell_type": "code",
   "execution_count": 5,
   "metadata": {},
   "outputs": [
    {
     "name": "stdout",
     "output_type": "stream",
     "text": [
      "(14906, 4)\n",
      "<class 'pandas.core.frame.DataFrame'>\n",
      "RangeIndex: 14906 entries, 0 to 14905\n",
      "Data columns (total 4 columns):\n",
      "user_id          14906 non-null object\n",
      "experiment_id    14906 non-null object\n",
      "condition        14906 non-null object\n",
      "timestamp        14906 non-null object\n",
      "dtypes: object(4)\n",
      "memory usage: 465.9+ KB\n"
     ]
    }
   ],
   "source": [
    "print(df_experiment.shape)\n",
    "df_experiment.info()"
   ]
  },
  {
   "cell_type": "code",
   "execution_count": 6,
   "metadata": {},
   "outputs": [],
   "source": [
    "#get error when reading this: \"'utf-8' codec can't decode byte 0xed in position 8: invalid continuation byte\" \n",
    "#df_meta = pd.read_csv('data/meta_data.csv', encoding = 'utf-8')\n",
    "#df_meta.head()"
   ]
  },
  {
   "cell_type": "markdown",
   "metadata": {},
   "source": [
    "### 2 A&B Testing"
   ]
  },
  {
   "cell_type": "markdown",
   "metadata": {},
   "source": [
    "### 3 Beyond A&B Testing"
   ]
  }
 ],
 "metadata": {
  "kernelspec": {
   "display_name": "Python 3",
   "language": "python",
   "name": "python3"
  },
  "language_info": {
   "codemirror_mode": {
    "name": "ipython",
    "version": 3
   },
   "file_extension": ".py",
   "mimetype": "text/x-python",
   "name": "python",
   "nbconvert_exporter": "python",
   "pygments_lexer": "ipython3",
   "version": "3.6.3"
  }
 },
 "nbformat": 4,
 "nbformat_minor": 2
}
