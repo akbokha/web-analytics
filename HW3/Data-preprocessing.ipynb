{
 "cells": [
  {
   "cell_type": "markdown",
   "metadata": {},
   "source": [
    "# Web Analytics (2IID0) Homework Assignment 3\n",
    "## Exceptional Model Ming vs A/B Testing\n",
    "#### <i>Abdel K. Bokharouss, Bart van Helvert, Joris Rombouts & Remco Surtel</i>   -   January 2018"
   ]
  },
  {
   "cell_type": "markdown",
   "metadata": {},
   "source": [
    "In this assignment we will combine Exceptional Model Mining (EMM) and A/B Testing. The dataset has been provided by StudyPortals. The core concept of A/B Testing is that each test subject gets a corresponding variant assigned. After that, we measure the rate of success per variant and the variant with most success is kept, while the other is discarded. However, subgroups that might be served better by the losing version will be disadvantaged. To do better than this, we further mine the data to find coherent subgroups where alternative delivers more success. New visitors to the website that correspond to a specific subgroup, will get either version A or B of the website. Exceptional Model Mining allows us to mine the data further, so that we can discover these subgroups. First, we need to make a decision which attributes will be used as descriptors and which of the attributes will be used as targets."
   ]
  },
  {
   "cell_type": "markdown",
   "metadata": {},
   "source": [
    "<font color = \"red\">Search for \"to-do\" (Ctrl-F) to find the to-do's that need some evaluation/action</font>"
   ]
  },
  {
   "cell_type": "markdown",
   "metadata": {},
   "source": [
    "### <font color=\"green\">imports, preparation and configuration</font>"
   ]
  },
  {
   "cell_type": "code",
   "execution_count": 1,
   "metadata": {
    "collapsed": true
   },
   "outputs": [],
   "source": [
    "import pandas as pd\n",
    "import numpy as np\n",
    "import seaborn as sns\n",
    "import matplotlib.pyplot as plt\n",
    "%matplotlib inline"
   ]
  },
  {
   "cell_type": "markdown",
   "metadata": {},
   "source": [
    "# 1 Data Preprocessing"
   ]
  },
  {
   "cell_type": "markdown",
   "metadata": {},
   "source": [
    "<b><i>a. Which columns, available in which of the input files, must we designate as our targets in the EMM process?</i></b><br>\n",
    "The raw data that StudyPortals delivered, contains of three datasets: `clicking_data`, `experiment_details` and `meta_data`. The primary imporance to StudyPortals is analyzing the association between which version of the website were shown (version A or B) and whether or not the user clicked on the button. Therefore the binary attribute `action` of the dataset `clicking_data` is the first target attribute we define. However, we also want to know which version (A or B) was showed to the user. Therefore the attribute `condition` of the dataset `experiment_details` is the second target attribute we define."
   ]
  },
  {
   "cell_type": "markdown",
   "metadata": {},
   "source": [
    "<b><i>b.</i></b><br>After the targets are defined, the next step to do is to select which attributes will be used as descriptors. The goal is to gather as much descriptor informaiton as is reasonably possible. First we explore the data, and check how many NAN-values the three datasets contain."
   ]
  },
  {
   "cell_type": "code",
   "execution_count": 2,
   "metadata": {},
   "outputs": [
    {
     "data": {
      "text/html": [
       "<div>\n",
       "<style scoped>\n",
       "    .dataframe tbody tr th:only-of-type {\n",
       "        vertical-align: middle;\n",
       "    }\n",
       "\n",
       "    .dataframe tbody tr th {\n",
       "        vertical-align: top;\n",
       "    }\n",
       "\n",
       "    .dataframe thead th {\n",
       "        text-align: right;\n",
       "    }\n",
       "</style>\n",
       "<table border=\"1\" class=\"dataframe\">\n",
       "  <thead>\n",
       "    <tr style=\"text-align: right;\">\n",
       "      <th></th>\n",
       "      <th>action</th>\n",
       "      <th>action_label</th>\n",
       "      <th>action_type</th>\n",
       "      <th>tstamp</th>\n",
       "      <th>user_session</th>\n",
       "    </tr>\n",
       "  </thead>\n",
       "  <tbody>\n",
       "    <tr>\n",
       "      <th>0</th>\n",
       "      <td>clic</td>\n",
       "      <td>revenue</td>\n",
       "      <td>link</td>\n",
       "      <td>1472755490</td>\n",
       "      <td>379881d5-32d7-49f4-bf5b-81fefbc5fcce</td>\n",
       "    </tr>\n",
       "    <tr>\n",
       "      <th>1</th>\n",
       "      <td>clic</td>\n",
       "      <td>revenue</td>\n",
       "      <td>link</td>\n",
       "      <td>1472839117</td>\n",
       "      <td>2a0f4218-4f62-479b-845c-109b2720e6e7</td>\n",
       "    </tr>\n",
       "    <tr>\n",
       "      <th>2</th>\n",
       "      <td>clic</td>\n",
       "      <td>revenue</td>\n",
       "      <td>link</td>\n",
       "      <td>1472879219</td>\n",
       "      <td>a511b6dc-2dca-455b-b5e2-bf2d224a5505</td>\n",
       "    </tr>\n",
       "    <tr>\n",
       "      <th>3</th>\n",
       "      <td>clic</td>\n",
       "      <td>revenue</td>\n",
       "      <td>link</td>\n",
       "      <td>1472890876</td>\n",
       "      <td>9fb616a7-4e13-4307-ac92-0b075d7d376a</td>\n",
       "    </tr>\n",
       "    <tr>\n",
       "      <th>4</th>\n",
       "      <td>clic</td>\n",
       "      <td>revenue</td>\n",
       "      <td>link</td>\n",
       "      <td>1472892380</td>\n",
       "      <td>64816772-688d-4460-a591-79aa49bba0d5</td>\n",
       "    </tr>\n",
       "  </tbody>\n",
       "</table>\n",
       "</div>"
      ],
      "text/plain": [
       "  action action_label action_type      tstamp  \\\n",
       "0   clic      revenue        link  1472755490   \n",
       "1   clic      revenue        link  1472839117   \n",
       "2   clic      revenue        link  1472879219   \n",
       "3   clic      revenue        link  1472890876   \n",
       "4   clic      revenue        link  1472892380   \n",
       "\n",
       "                           user_session  \n",
       "0  379881d5-32d7-49f4-bf5b-81fefbc5fcce  \n",
       "1  2a0f4218-4f62-479b-845c-109b2720e6e7  \n",
       "2  a511b6dc-2dca-455b-b5e2-bf2d224a5505  \n",
       "3  9fb616a7-4e13-4307-ac92-0b075d7d376a  \n",
       "4  64816772-688d-4460-a591-79aa49bba0d5  "
      ]
     },
     "execution_count": 2,
     "metadata": {},
     "output_type": "execute_result"
    }
   ],
   "source": [
    "df_click = pd.read_csv('data/clicking_data.csv')\n",
    "df_click.head()"
   ]
  },
  {
   "cell_type": "code",
   "execution_count": 3,
   "metadata": {},
   "outputs": [
    {
     "name": "stdout",
     "output_type": "stream",
     "text": [
      "<class 'pandas.core.frame.DataFrame'>\n",
      "RangeIndex: 919 entries, 0 to 918\n",
      "Data columns (total 5 columns):\n",
      "action          919 non-null object\n",
      "action_label    919 non-null object\n",
      "action_type     919 non-null object\n",
      "tstamp          919 non-null int64\n",
      "user_session    919 non-null object\n",
      "dtypes: int64(1), object(4)\n",
      "memory usage: 36.0+ KB\n"
     ]
    }
   ],
   "source": [
    "df_click.info()"
   ]
  },
  {
   "cell_type": "code",
   "execution_count": 4,
   "metadata": {},
   "outputs": [
    {
     "data": {
      "text/html": [
       "<div>\n",
       "<style scoped>\n",
       "    .dataframe tbody tr th:only-of-type {\n",
       "        vertical-align: middle;\n",
       "    }\n",
       "\n",
       "    .dataframe tbody tr th {\n",
       "        vertical-align: top;\n",
       "    }\n",
       "\n",
       "    .dataframe thead th {\n",
       "        text-align: right;\n",
       "    }\n",
       "</style>\n",
       "<table border=\"1\" class=\"dataframe\">\n",
       "  <thead>\n",
       "    <tr style=\"text-align: right;\">\n",
       "      <th></th>\n",
       "      <th>user_id</th>\n",
       "      <th>experiment_id</th>\n",
       "      <th>condition</th>\n",
       "      <th>collector_tstamp</th>\n",
       "    </tr>\n",
       "  </thead>\n",
       "  <tbody>\n",
       "    <tr>\n",
       "      <th>0</th>\n",
       "      <td>7794c3b2-4d08-4bb8-bfc9-b50935fed1fc</td>\n",
       "      <td>86-v2-Butonny buttons</td>\n",
       "      <td>1-Control</td>\n",
       "      <td>2016-09-01 12:21:25.716000</td>\n",
       "    </tr>\n",
       "    <tr>\n",
       "      <th>1</th>\n",
       "      <td>0baf5074-74bd-4257-ac9f-a07d25f37667</td>\n",
       "      <td>86-v2-Butonny buttons</td>\n",
       "      <td>2-Buttony-Conversion-Buttons</td>\n",
       "      <td>2016-09-01 12:22:01.726000</td>\n",
       "    </tr>\n",
       "    <tr>\n",
       "      <th>2</th>\n",
       "      <td>623d19a6-64b4-412a-8143-750995742605</td>\n",
       "      <td>86-v2-Butonny buttons</td>\n",
       "      <td>2-Buttony-Conversion-Buttons</td>\n",
       "      <td>2016-09-01 12:22:31.797000</td>\n",
       "    </tr>\n",
       "    <tr>\n",
       "      <th>3</th>\n",
       "      <td>d4b62fc9-dead-441f-936a-db08c2711a1e</td>\n",
       "      <td>86-v2-Butonny buttons</td>\n",
       "      <td>2-Buttony-Conversion-Buttons</td>\n",
       "      <td>2016-09-01 12:22:53.218000</td>\n",
       "    </tr>\n",
       "    <tr>\n",
       "      <th>4</th>\n",
       "      <td>8de611c2-0e10-4f63-a016-0f1bd7a683e1</td>\n",
       "      <td>86-v2-Butonny buttons</td>\n",
       "      <td>1-Control</td>\n",
       "      <td>2016-09-01 12:24:15.978000</td>\n",
       "    </tr>\n",
       "  </tbody>\n",
       "</table>\n",
       "</div>"
      ],
      "text/plain": [
       "                                user_id          experiment_id  \\\n",
       "0  7794c3b2-4d08-4bb8-bfc9-b50935fed1fc  86-v2-Butonny buttons   \n",
       "1  0baf5074-74bd-4257-ac9f-a07d25f37667  86-v2-Butonny buttons   \n",
       "2  623d19a6-64b4-412a-8143-750995742605  86-v2-Butonny buttons   \n",
       "3  d4b62fc9-dead-441f-936a-db08c2711a1e  86-v2-Butonny buttons   \n",
       "4  8de611c2-0e10-4f63-a016-0f1bd7a683e1  86-v2-Butonny buttons   \n",
       "\n",
       "                      condition            collector_tstamp  \n",
       "0                     1-Control  2016-09-01 12:21:25.716000  \n",
       "1  2-Buttony-Conversion-Buttons  2016-09-01 12:22:01.726000  \n",
       "2  2-Buttony-Conversion-Buttons  2016-09-01 12:22:31.797000  \n",
       "3  2-Buttony-Conversion-Buttons  2016-09-01 12:22:53.218000  \n",
       "4                     1-Control  2016-09-01 12:24:15.978000  "
      ]
     },
     "execution_count": 4,
     "metadata": {},
     "output_type": "execute_result"
    }
   ],
   "source": [
    "df_experiment = pd.read_csv('data/experiment_details_new.csv') # to-do: need to use \"_new\" dataset?\n",
    "df_experiment.head()"
   ]
  },
  {
   "cell_type": "code",
   "execution_count": 5,
   "metadata": {},
   "outputs": [
    {
     "name": "stdout",
     "output_type": "stream",
     "text": [
      "<class 'pandas.core.frame.DataFrame'>\n",
      "RangeIndex: 14847 entries, 0 to 14846\n",
      "Data columns (total 4 columns):\n",
      "user_id             14764 non-null object\n",
      "experiment_id       14847 non-null object\n",
      "condition           14847 non-null object\n",
      "collector_tstamp    14847 non-null object\n",
      "dtypes: object(4)\n",
      "memory usage: 464.0+ KB\n"
     ]
    }
   ],
   "source": [
    "df_experiment.info()"
   ]
  },
  {
   "cell_type": "code",
   "execution_count": 6,
   "metadata": {},
   "outputs": [
    {
     "data": {
      "text/html": [
       "<div>\n",
       "<style scoped>\n",
       "    .dataframe tbody tr th:only-of-type {\n",
       "        vertical-align: middle;\n",
       "    }\n",
       "\n",
       "    .dataframe tbody tr th {\n",
       "        vertical-align: top;\n",
       "    }\n",
       "\n",
       "    .dataframe thead th {\n",
       "        text-align: right;\n",
       "    }\n",
       "</style>\n",
       "<table border=\"1\" class=\"dataframe\">\n",
       "  <thead>\n",
       "    <tr style=\"text-align: right;\">\n",
       "      <th></th>\n",
       "      <th>platform</th>\n",
       "      <th>etl_tstamp</th>\n",
       "      <th>collector_tstamp</th>\n",
       "      <th>dvce_created_tstamp</th>\n",
       "      <th>event</th>\n",
       "      <th>domain_userid</th>\n",
       "      <th>domain_sessionid</th>\n",
       "      <th>user_id</th>\n",
       "      <th>geo_country</th>\n",
       "      <th>geo_region</th>\n",
       "      <th>...</th>\n",
       "      <th>pp_yoffset_max</th>\n",
       "      <th>useragent</th>\n",
       "      <th>browser_language</th>\n",
       "      <th>browser_cookies</th>\n",
       "      <th>browser_colordepth</th>\n",
       "      <th>browser_viewdepth</th>\n",
       "      <th>browser_viewheight</th>\n",
       "      <th>os_name</th>\n",
       "      <th>os_timezone</th>\n",
       "      <th>dvce_type</th>\n",
       "    </tr>\n",
       "  </thead>\n",
       "  <tbody>\n",
       "    <tr>\n",
       "      <th>0</th>\n",
       "      <td>web</td>\n",
       "      <td>06:22.2</td>\n",
       "      <td>06:33.7</td>\n",
       "      <td>06:26.2</td>\n",
       "      <td>page_ping</td>\n",
       "      <td>e8702985-ffee-4ede-a89f-396312539812</td>\n",
       "      <td>0ca47d52-1375-4346-ab2e-b205b64f642e</td>\n",
       "      <td>bc5effb7-a476-414f-a62e-5479022e7553</td>\n",
       "      <td>GR</td>\n",
       "      <td></td>\n",
       "      <td>...</td>\n",
       "      <td>915.0</td>\n",
       "      <td>Mozilla/5.0 (Linux; Android 4.4.4; GT-I9300 Bu...</td>\n",
       "      <td>NaN</td>\n",
       "      <td>NaN</td>\n",
       "      <td>NaN</td>\n",
       "      <td>NaN</td>\n",
       "      <td>NaN</td>\n",
       "      <td>NaN</td>\n",
       "      <td>NaN</td>\n",
       "      <td>NaN</td>\n",
       "    </tr>\n",
       "    <tr>\n",
       "      <th>1</th>\n",
       "      <td>web</td>\n",
       "      <td>06:49.2</td>\n",
       "      <td>07:00.2</td>\n",
       "      <td>06:52.6</td>\n",
       "      <td>page_ping</td>\n",
       "      <td>e8702985-ffee-4ede-a89f-396312539812</td>\n",
       "      <td>0ca47d52-1375-4346-ab2e-b205b64f642e</td>\n",
       "      <td>bc5effb7-a476-414f-a62e-5479022e7553</td>\n",
       "      <td>GR</td>\n",
       "      <td></td>\n",
       "      <td>...</td>\n",
       "      <td>NaN</td>\n",
       "      <td>NaN</td>\n",
       "      <td>NaN</td>\n",
       "      <td>NaN</td>\n",
       "      <td>NaN</td>\n",
       "      <td>NaN</td>\n",
       "      <td>NaN</td>\n",
       "      <td>NaN</td>\n",
       "      <td>NaN</td>\n",
       "      <td>NaN</td>\n",
       "    </tr>\n",
       "    <tr>\n",
       "      <th>2</th>\n",
       "      <td>web</td>\n",
       "      <td>07:09.2</td>\n",
       "      <td>07:20.1</td>\n",
       "      <td>07:12.6</td>\n",
       "      <td>page_ping</td>\n",
       "      <td>e8702985-ffee-4ede-a89f-396312539812</td>\n",
       "      <td>0ca47d52-1375-4346-ab2e-b205b64f642e</td>\n",
       "      <td>bc5effb7-a476-414f-a62e-5479022e7553</td>\n",
       "      <td>GR</td>\n",
       "      <td></td>\n",
       "      <td>...</td>\n",
       "      <td>NaN</td>\n",
       "      <td>NaN</td>\n",
       "      <td>NaN</td>\n",
       "      <td>NaN</td>\n",
       "      <td>NaN</td>\n",
       "      <td>NaN</td>\n",
       "      <td>NaN</td>\n",
       "      <td>NaN</td>\n",
       "      <td>NaN</td>\n",
       "      <td>NaN</td>\n",
       "    </tr>\n",
       "    <tr>\n",
       "      <th>3</th>\n",
       "      <td>web</td>\n",
       "      <td>09:49.3</td>\n",
       "      <td>10:01.0</td>\n",
       "      <td>09:53.4</td>\n",
       "      <td>page_ping</td>\n",
       "      <td>e8702985-ffee-4ede-a89f-396312539812</td>\n",
       "      <td>0ca47d52-1375-4346-ab2e-b205b64f642e</td>\n",
       "      <td>bc5effb7-a476-414f-a62e-5479022e7553</td>\n",
       "      <td>GR</td>\n",
       "      <td></td>\n",
       "      <td>...</td>\n",
       "      <td>3411.0</td>\n",
       "      <td>Mozilla/5.0 (Linux; Android 4.4.4; GT-I9300 Bu...</td>\n",
       "      <td>NaN</td>\n",
       "      <td>NaN</td>\n",
       "      <td>NaN</td>\n",
       "      <td>NaN</td>\n",
       "      <td>NaN</td>\n",
       "      <td>NaN</td>\n",
       "      <td>NaN</td>\n",
       "      <td>NaN</td>\n",
       "    </tr>\n",
       "    <tr>\n",
       "      <th>4</th>\n",
       "      <td>web</td>\n",
       "      <td>10:40.3</td>\n",
       "      <td>10:51.8</td>\n",
       "      <td>10:44.4</td>\n",
       "      <td>page_ping</td>\n",
       "      <td>e8702985-ffee-4ede-a89f-396312539812</td>\n",
       "      <td>0ca47d52-1375-4346-ab2e-b205b64f642e</td>\n",
       "      <td>bc5effb7-a476-414f-a62e-5479022e7553</td>\n",
       "      <td>GR</td>\n",
       "      <td></td>\n",
       "      <td>...</td>\n",
       "      <td>NaN</td>\n",
       "      <td>NaN</td>\n",
       "      <td>NaN</td>\n",
       "      <td>NaN</td>\n",
       "      <td>NaN</td>\n",
       "      <td>NaN</td>\n",
       "      <td>NaN</td>\n",
       "      <td>NaN</td>\n",
       "      <td>NaN</td>\n",
       "      <td>NaN</td>\n",
       "    </tr>\n",
       "  </tbody>\n",
       "</table>\n",
       "<p>5 rows × 30 columns</p>\n",
       "</div>"
      ],
      "text/plain": [
       "  platform etl_tstamp collector_tstamp dvce_created_tstamp      event  \\\n",
       "0      web    06:22.2          06:33.7             06:26.2  page_ping   \n",
       "1      web    06:49.2          07:00.2             06:52.6  page_ping   \n",
       "2      web    07:09.2          07:20.1             07:12.6  page_ping   \n",
       "3      web    09:49.3          10:01.0             09:53.4  page_ping   \n",
       "4      web    10:40.3          10:51.8             10:44.4  page_ping   \n",
       "\n",
       "                          domain_userid                      domain_sessionid  \\\n",
       "0  e8702985-ffee-4ede-a89f-396312539812  0ca47d52-1375-4346-ab2e-b205b64f642e   \n",
       "1  e8702985-ffee-4ede-a89f-396312539812  0ca47d52-1375-4346-ab2e-b205b64f642e   \n",
       "2  e8702985-ffee-4ede-a89f-396312539812  0ca47d52-1375-4346-ab2e-b205b64f642e   \n",
       "3  e8702985-ffee-4ede-a89f-396312539812  0ca47d52-1375-4346-ab2e-b205b64f642e   \n",
       "4  e8702985-ffee-4ede-a89f-396312539812  0ca47d52-1375-4346-ab2e-b205b64f642e   \n",
       "\n",
       "                                user_id geo_country geo_region    ...      \\\n",
       "0  bc5effb7-a476-414f-a62e-5479022e7553          GR               ...       \n",
       "1  bc5effb7-a476-414f-a62e-5479022e7553          GR               ...       \n",
       "2  bc5effb7-a476-414f-a62e-5479022e7553          GR               ...       \n",
       "3  bc5effb7-a476-414f-a62e-5479022e7553          GR               ...       \n",
       "4  bc5effb7-a476-414f-a62e-5479022e7553          GR               ...       \n",
       "\n",
       "  pp_yoffset_max                                          useragent  \\\n",
       "0          915.0  Mozilla/5.0 (Linux; Android 4.4.4; GT-I9300 Bu...   \n",
       "1            NaN                                                NaN   \n",
       "2            NaN                                                NaN   \n",
       "3         3411.0  Mozilla/5.0 (Linux; Android 4.4.4; GT-I9300 Bu...   \n",
       "4            NaN                                                NaN   \n",
       "\n",
       "  browser_language browser_cookies browser_colordepth browser_viewdepth  \\\n",
       "0              NaN             NaN                NaN               NaN   \n",
       "1              NaN             NaN                NaN               NaN   \n",
       "2              NaN             NaN                NaN               NaN   \n",
       "3              NaN             NaN                NaN               NaN   \n",
       "4              NaN             NaN                NaN               NaN   \n",
       "\n",
       "  browser_viewheight  os_name  os_timezone  dvce_type  \n",
       "0                NaN      NaN          NaN        NaN  \n",
       "1                NaN      NaN          NaN        NaN  \n",
       "2                NaN      NaN          NaN        NaN  \n",
       "3                NaN      NaN          NaN        NaN  \n",
       "4                NaN      NaN          NaN        NaN  \n",
       "\n",
       "[5 rows x 30 columns]"
      ]
     },
     "execution_count": 6,
     "metadata": {},
     "output_type": "execute_result"
    }
   ],
   "source": [
    "df_meta = pd.read_csv('data/meta_data_modified.csv', encoding = 'ansi')\n",
    "df_meta.head()"
   ]
  },
  {
   "cell_type": "code",
   "execution_count": 7,
   "metadata": {},
   "outputs": [
    {
     "name": "stdout",
     "output_type": "stream",
     "text": [
      "<class 'pandas.core.frame.DataFrame'>\n",
      "RangeIndex: 171949 entries, 0 to 171948\n",
      "Data columns (total 30 columns):\n",
      "platform               171949 non-null object\n",
      "etl_tstamp             171949 non-null object\n",
      "collector_tstamp       171949 non-null object\n",
      "dvce_created_tstamp    171949 non-null object\n",
      "event                  171949 non-null object\n",
      "domain_userid          171949 non-null object\n",
      "domain_sessionid       171949 non-null object\n",
      "user_id                171949 non-null object\n",
      "geo_country            171690 non-null object\n",
      "geo_region             171949 non-null object\n",
      "geo_city               88981 non-null object\n",
      "geo_region_name        87899 non-null object\n",
      "geo_timezone           165463 non-null object\n",
      "page_url               171949 non-null object\n",
      "page_title             133368 non-null object\n",
      "page_referrer          63876 non-null object\n",
      "refr_source            26349 non-null object\n",
      "pp_xoffset_min         40918 non-null float64\n",
      "pp_xoffset_max         40918 non-null float64\n",
      "pp_yoffset_min         40918 non-null float64\n",
      "pp_yoffset_max         40918 non-null float64\n",
      "useragent              69825 non-null object\n",
      "browser_language       7853 non-null object\n",
      "browser_cookies        7862 non-null object\n",
      "browser_colordepth     7862 non-null float64\n",
      "browser_viewdepth      7862 non-null float64\n",
      "browser_viewheight     7862 non-null float64\n",
      "os_name                7862 non-null object\n",
      "os_timezone            7677 non-null object\n",
      "dvce_type              7862 non-null object\n",
      "dtypes: float64(7), object(23)\n",
      "memory usage: 39.4+ MB\n"
     ]
    }
   ],
   "source": [
    "df_meta.info()"
   ]
  },
  {
   "cell_type": "code",
   "execution_count": 8,
   "metadata": {},
   "outputs": [
    {
     "data": {
      "text/plain": [
       "171862"
      ]
     },
     "execution_count": 8,
     "metadata": {},
     "output_type": "execute_result"
    }
   ],
   "source": [
    "sum(df_meta.apply(lambda x: sum(x.isnull().values), axis = 1) > 0) # number of rows with NaN values"
   ]
  },
  {
   "cell_type": "markdown",
   "metadata": {},
   "source": [
    "This whole assignment is about the analysis of the behavior of visitors in terms of an unusual association between which version of the website they were shown (version A or B) and whether or not they clicked on a particular button. Before we actually make an assesment of the best possible strategy for the missing values, we first need to evaluate the volume and completeness of the attributes which identify a specific visitor since the visitors are at the core of this analysis."
   ]
  },
  {
   "cell_type": "code",
   "execution_count": 9,
   "metadata": {},
   "outputs": [
    {
     "data": {
      "text/plain": [
       "domain_userid        8666\n",
       "domain_sessionid    10310\n",
       "user_id              9373\n",
       "dtype: int64"
      ]
     },
     "execution_count": 9,
     "metadata": {},
     "output_type": "execute_result"
    }
   ],
   "source": [
    "df_meta[['domain_userid', 'domain_sessionid', 'user_id']].apply(\n",
    "    pd.Series.nunique) # unique number of values for each column"
   ]
  },
  {
   "cell_type": "code",
   "execution_count": 10,
   "metadata": {},
   "outputs": [
    {
     "data": {
      "text/plain": [
       "('unique user-sessions in click data: ', 778)"
      ]
     },
     "execution_count": 10,
     "metadata": {},
     "output_type": "execute_result"
    }
   ],
   "source": [
    "\"unique user-sessions in click data: \", len(df_click.user_session.unique())"
   ]
  },
  {
   "cell_type": "code",
   "execution_count": 11,
   "metadata": {},
   "outputs": [
    {
     "data": {
      "text/plain": [
       "(\"unique user-id's in experiment data: \", 9361)"
      ]
     },
     "execution_count": 11,
     "metadata": {},
     "output_type": "execute_result"
    }
   ],
   "source": [
    "\"unique user-id's in experiment data: \", len(df_experiment.user_id.unique())"
   ]
  },
  {
   "cell_type": "markdown",
   "metadata": {},
   "source": [
    "Each user is identified with a unique user id and each visit is idenitified by a unique user session. Since we are interested in whether an user which visits the website in a certain version, clicks on a particular button or not during a session, we want to limt ourselves to the session id's for which action labels are availabe. We can see that the number of user-id's and session-id's in the three different datasets are not in line with eachother. The goal is to acquire a dataframe in which we have for each user session and id, the experiment details and all the relevant information we can obtain from the meta data file."
   ]
  },
  {
   "cell_type": "markdown",
   "metadata": {},
   "source": [
    "### First step: Removing users who have seen two versions "
   ]
  },
  {
   "cell_type": "markdown",
   "metadata": {},
   "source": [
    "It is customary in A/B testing and similar research to remove users that have seen both versions of the web page, as is explained in the referenced paper on A/B- and A&B-testing with EMM. This is the first step that we are going to make in the pre-processing part of the assignment. Note that we can obtain the version to which users are exposed from the experiment dataset. If a user (identified with a particular <i>user_id</i> in this problem context) has different entries in the experiment dataset with different values in the <i>condition</i> column (website version indicator), this user should be removed from the dataset(s) which is going to be used in this assignment."
   ]
  },
  {
   "cell_type": "code",
   "execution_count": 12,
   "metadata": {},
   "outputs": [
    {
     "data": {
      "text/plain": [
       "(235, 5)"
      ]
     },
     "execution_count": 12,
     "metadata": {},
     "output_type": "execute_result"
    }
   ],
   "source": [
    "pd.concat(g for _, g in df_click.groupby(\"user_session\") if len(g) > 1).shape # just an oberservation"
   ]
  },
  {
   "cell_type": "markdown",
   "metadata": {},
   "source": [
    "From the previous statement we can conclude that there are multiple instances of the same unique <i>user_session</i> identifier in the clicking data. This is already an indicator that having users who have seen the two versions of the website can be deteriorating for the research results. Let's start looking for the users (id's, sessions) in question."
   ]
  },
  {
   "cell_type": "code",
   "execution_count": 13,
   "metadata": {},
   "outputs": [],
   "source": [
    "two_versions = df_experiment.copy()\n",
    "two_versions['count'] = 1 # new column to be used later\n",
    "two_versions = two_versions.pivot_table(index = 'user_id', columns = 'condition', aggfunc = sum)\n",
    "two_versions.fillna(0, inplace = True)\n",
    "two_versions[\"two_versions_one_userid\"] = np.where((((two_versions[('count', '1-Control')] > 0) & (two_versions[('count', '2-Buttony-Conversion-Buttons')] == 0)) |\n",
    "                                            ((two_versions[('count', '1-Control')] == 0) & (two_versions[('count', '2-Buttony-Conversion-Buttons')] > 0))), 0, 1)\n",
    "have_seen_two_versions = list(two_versions.loc[two_versions.two_versions_one_userid == 1].index.unique())"
   ]
  },
  {
   "cell_type": "markdown",
   "metadata": {},
   "source": [
    "We now have a list of users (<i>have_seen_two_versions</i>) and the actual removal of these users is going to be done in the next step."
   ]
  },
  {
   "cell_type": "code",
   "execution_count": 14,
   "metadata": {},
   "outputs": [
    {
     "data": {
      "text/plain": [
       "233"
      ]
     },
     "execution_count": 14,
     "metadata": {},
     "output_type": "execute_result"
    }
   ],
   "source": [
    "len(have_seen_two_versions)"
   ]
  },
  {
   "cell_type": "markdown",
   "metadata": {},
   "source": [
    "### Second step: Merging the clicking data with the experiment details"
   ]
  },
  {
   "cell_type": "markdown",
   "metadata": {},
   "source": [
    "Unfortunately, there are quite a few users who would be deteriorating to the research results. Te clicking dataset is already relatively small, let's hope we do not use too many instances of this dataset."
   ]
  },
  {
   "cell_type": "code",
   "execution_count": 15,
   "metadata": {},
   "outputs": [
    {
     "data": {
      "text/plain": [
       "16"
      ]
     },
     "execution_count": 15,
     "metadata": {},
     "output_type": "execute_result"
    }
   ],
   "source": [
    "len(list(set(have_seen_two_versions) & set(df_click.user_session.unique())))"
   ]
  },
  {
   "cell_type": "markdown",
   "metadata": {},
   "source": [
    "As can be seen from the previous statement, removing these users from the clicking data will only result in the loss of clicking/experiment data (click or view) of 16 users (id's, sessions)"
   ]
  },
  {
   "cell_type": "markdown",
   "metadata": {},
   "source": [
    "Aside from the user_id/sessions in the list <i>have_seen_two_versions</i>, each unique idenitifier in the clicking dataset will be associated with at most one version (<i>condition</i>) as can be found in the experiment datasets. Let's make a dataframe with two relevant columns; one being the unique the identifier and the other column being the condition (version). This will only work for the users who have seen one version. So these users need to be removed first."
   ]
  },
  {
   "cell_type": "code",
   "execution_count": 16,
   "metadata": {},
   "outputs": [],
   "source": [
    "users_conditions = df_experiment.copy()\n",
    "users_conditions = users_conditions[-users_conditions.user_id.isin(have_seen_two_versions)] # drop user who have seen more than one version"
   ]
  },
  {
   "cell_type": "code",
   "execution_count": 17,
   "metadata": {},
   "outputs": [],
   "source": [
    "users_conditions.drop_duplicates(subset = ['user_id'], keep = 'first', inplace = True)\n",
    "users_conditions.reset_index(drop = True, inplace = True)"
   ]
  },
  {
   "cell_type": "markdown",
   "metadata": {},
   "source": [
    "We now have a dataframe <i>user_conditions</i> in which have all the unique user_id's/session which were exposed to this experiment (and to on version). The next step is to merge this dataset with the clicking data. We then will know the condition (website version) of particular user_id's/sessions which resulted in a click/view for each entry in the clicking dataset."
   ]
  },
  {
   "cell_type": "code",
   "execution_count": 18,
   "metadata": {},
   "outputs": [],
   "source": [
    "clicking_conditions = pd.merge(left = df_click, right = users_conditions, left_on = 'user_session', right_on = 'user_id')\n",
    "clicking_conditions.drop(['user_session', 'experiment_id'], axis = 1, inplace = True) # to-do: can also remove action_label, action_type"
   ]
  },
  {
   "cell_type": "markdown",
   "metadata": {},
   "source": [
    "We can obviously delete some columns, since they are not relevant to the further analysis."
   ]
  },
  {
   "cell_type": "code",
   "execution_count": 19,
   "metadata": {},
   "outputs": [
    {
     "name": "stdout",
     "output_type": "stream",
     "text": [
      "<class 'pandas.core.frame.DataFrame'>\n",
      "Int64Index: 902 entries, 0 to 901\n",
      "Data columns (total 7 columns):\n",
      "action              902 non-null object\n",
      "action_label        902 non-null object\n",
      "action_type         902 non-null object\n",
      "tstamp              902 non-null int64\n",
      "user_id             902 non-null object\n",
      "condition           902 non-null object\n",
      "collector_tstamp    902 non-null object\n",
      "dtypes: int64(1), object(6)\n",
      "memory usage: 56.4+ KB\n"
     ]
    }
   ],
   "source": [
    "clicking_conditions.info()"
   ]
  },
  {
   "cell_type": "markdown",
   "metadata": {},
   "source": [
    "### Third step: enriching the clicking data with meta data"
   ]
  },
  {
   "cell_type": "markdown",
   "metadata": {},
   "source": [
    "The third and final preprocessing step is to enrich the (merged) clicking and experiment data with as much meta-data as is possible. the main objective of this assignment is to identify subpopulations where these targets display an unusual interaction; can we find subgroups where the click rate interacts exceptionally with the web page version (condition). To find these subgroups we need to have suitable descriptors, which can and will be mostly obtained from the meta data. Since things such as device characteristics, location information, language data. This information can be used for A&B Testing (with Exceptional Model Mining) since this data can be queried before exposing a new user (session/id) to one of the versions, based on these characteristics which put the particular user in a certain subgroup if all goes well."
   ]
  },
  {
   "cell_type": "markdown",
   "metadata": {},
   "source": [
    "We can merge the subset with these columns with the clicking data by using the user_id and the collector_tstamp. Note that the clicking data did not have a collector_tstamp attribute which makes it hard to be a hundred percent sure whether the particular action is made during a particular session, but the least we can do is make sure that the meta-data info such as the page_url and page_title is confirming to the experiment dataset (things such as geo information will probably be less prone to changes)."
   ]
  },
  {
   "cell_type": "code",
   "execution_count": 124,
   "metadata": {},
   "outputs": [
    {
     "data": {
      "text/html": [
       "<div>\n",
       "<style scoped>\n",
       "    .dataframe tbody tr th:only-of-type {\n",
       "        vertical-align: middle;\n",
       "    }\n",
       "\n",
       "    .dataframe tbody tr th {\n",
       "        vertical-align: top;\n",
       "    }\n",
       "\n",
       "    .dataframe thead th {\n",
       "        text-align: right;\n",
       "    }\n",
       "</style>\n",
       "<table border=\"1\" class=\"dataframe\">\n",
       "  <thead>\n",
       "    <tr style=\"text-align: right;\">\n",
       "      <th></th>\n",
       "      <th>etl_tstamp</th>\n",
       "      <th>collector_tstamp</th>\n",
       "      <th>dvce_created_tstamp</th>\n",
       "      <th>event</th>\n",
       "      <th>domain_userid</th>\n",
       "      <th>domain_sessionid</th>\n",
       "      <th>user_id</th>\n",
       "      <th>geo_country</th>\n",
       "      <th>geo_region</th>\n",
       "      <th>geo_timezone</th>\n",
       "      <th>page_url</th>\n",
       "      <th>page_title</th>\n",
       "    </tr>\n",
       "  </thead>\n",
       "  <tbody>\n",
       "    <tr>\n",
       "      <th>4441</th>\n",
       "      <td>55:48.3</td>\n",
       "      <td>56:05.0</td>\n",
       "      <td>55:30.6</td>\n",
       "      <td>page_view</td>\n",
       "      <td>5346c722-7418-4c41-8ce8-f17ac198ff05</td>\n",
       "      <td>ce5519f6-4952-4722-8a04-b186f856f640</td>\n",
       "      <td>379881d5-32d7-49f4-bf5b-81fefbc5fcce</td>\n",
       "      <td>CY</td>\n",
       "      <td></td>\n",
       "      <td>Asia/Nicosia</td>\n",
       "      <td>http://www.mastersportal.eu/study-options/2689...</td>\n",
       "      <td>10 Human Computer Interaction Master's degrees...</td>\n",
       "    </tr>\n",
       "  </tbody>\n",
       "</table>\n",
       "</div>"
      ],
      "text/plain": [
       "     etl_tstamp collector_tstamp dvce_created_tstamp      event  \\\n",
       "4441    55:48.3          56:05.0             55:30.6  page_view   \n",
       "\n",
       "                             domain_userid  \\\n",
       "4441  5346c722-7418-4c41-8ce8-f17ac198ff05   \n",
       "\n",
       "                          domain_sessionid  \\\n",
       "4441  ce5519f6-4952-4722-8a04-b186f856f640   \n",
       "\n",
       "                                   user_id geo_country geo_region  \\\n",
       "4441  379881d5-32d7-49f4-bf5b-81fefbc5fcce          CY              \n",
       "\n",
       "      geo_timezone                                           page_url  \\\n",
       "4441  Asia/Nicosia  http://www.mastersportal.eu/study-options/2689...   \n",
       "\n",
       "                                             page_title  \n",
       "4441  10 Human Computer Interaction Master's degrees...  "
      ]
     },
     "execution_count": 124,
     "metadata": {},
     "output_type": "execute_result"
    }
   ],
   "source": [
    "enrich_meta_first.loc[enrich_meta_first.user_id == '379881d5-32d7-49f4-bf5b-81fefbc5fcce'].head(1)"
   ]
  },
  {
   "cell_type": "code",
   "execution_count": 125,
   "metadata": {},
   "outputs": [
    {
     "data": {
      "text/html": [
       "<div>\n",
       "<style scoped>\n",
       "    .dataframe tbody tr th:only-of-type {\n",
       "        vertical-align: middle;\n",
       "    }\n",
       "\n",
       "    .dataframe tbody tr th {\n",
       "        vertical-align: top;\n",
       "    }\n",
       "\n",
       "    .dataframe thead th {\n",
       "        text-align: right;\n",
       "    }\n",
       "</style>\n",
       "<table border=\"1\" class=\"dataframe\">\n",
       "  <thead>\n",
       "    <tr style=\"text-align: right;\">\n",
       "      <th></th>\n",
       "      <th>action</th>\n",
       "      <th>action_label</th>\n",
       "      <th>action_type</th>\n",
       "      <th>tstamp</th>\n",
       "      <th>user_id</th>\n",
       "      <th>condition</th>\n",
       "      <th>collector_tstamp</th>\n",
       "    </tr>\n",
       "  </thead>\n",
       "  <tbody>\n",
       "    <tr>\n",
       "      <th>0</th>\n",
       "      <td>clic</td>\n",
       "      <td>revenue</td>\n",
       "      <td>link</td>\n",
       "      <td>1472755490</td>\n",
       "      <td>379881d5-32d7-49f4-bf5b-81fefbc5fcce</td>\n",
       "      <td>1-Control</td>\n",
       "      <td>2016-09-01 18:43:14.257000</td>\n",
       "    </tr>\n",
       "  </tbody>\n",
       "</table>\n",
       "</div>"
      ],
      "text/plain": [
       "  action action_label action_type      tstamp  \\\n",
       "0   clic      revenue        link  1472755490   \n",
       "\n",
       "                                user_id  condition            collector_tstamp  \n",
       "0  379881d5-32d7-49f4-bf5b-81fefbc5fcce  1-Control  2016-09-01 18:43:14.257000  "
      ]
     },
     "execution_count": 125,
     "metadata": {},
     "output_type": "execute_result"
    }
   ],
   "source": [
    "clicking_conditions.loc[clicking_conditions.user_id == '379881d5-32d7-49f4-bf5b-81fefbc5fcce']"
   ]
  },
  {
   "cell_type": "markdown",
   "metadata": {},
   "source": [
    "One can, however, see that the timestamp formats of the two data set are not conforming. In addition, even if when one could go as far formatting the <i>collector_tstamp</i> to the same format as the time stamps used in the meta dataset, one would still find different / conflicting timestamps. This was later on confirmed and explained by Tara from StudyPortals: <i>\"Timestamp in the experiment file indicates the timestamp that the users starts the session while seeing the variation A or B. I recommend you to use the meta-data timestamp for your further analysis. \"</i>. We are thus just going to merge on the user-id's."
   ]
  },
  {
   "cell_type": "markdown",
   "metadata": {},
   "source": [
    "Since we cannot use the timestamp value to link this dataset with the previous one. We are only after the user_id's. The following statement is an important step before the actual merger with the already enriched clicking data."
   ]
  },
  {
   "cell_type": "code",
   "execution_count": 118,
   "metadata": {
    "collapsed": true
   },
   "outputs": [],
   "source": [
    "users_meta = df_meta.groupby('user_id').first().reset_index()"
   ]
  },
  {
   "cell_type": "code",
   "execution_count": 120,
   "metadata": {},
   "outputs": [],
   "source": [
    "# users_meta.info()"
   ]
  },
  {
   "cell_type": "markdown",
   "metadata": {},
   "source": [
    "This statement gives us the same dataframe with the unique user_id's takes the first non-NaN value in for each column of a particular user_id. Each user_id will thus have a non-NaN value in the column if it has a non-NaN value for this column in one of its occurences in <i>df_meta</i>"
   ]
  },
  {
   "cell_type": "markdown",
   "metadata": {},
   "source": [
    "This dataset can now be merged with the dataset from step 2."
   ]
  },
  {
   "cell_type": "code",
   "execution_count": 144,
   "metadata": {
    "collapsed": true
   },
   "outputs": [],
   "source": [
    "click_condition_meta = pd.merge(clicking_conditions, users_meta, on = 'user_id')"
   ]
  },
  {
   "cell_type": "code",
   "execution_count": 122,
   "metadata": {},
   "outputs": [
    {
     "name": "stdout",
     "output_type": "stream",
     "text": [
      "<class 'pandas.core.frame.DataFrame'>\n",
      "Int64Index: 902 entries, 0 to 901\n",
      "Data columns (total 36 columns):\n",
      "action                 902 non-null object\n",
      "action_label           902 non-null object\n",
      "action_type            902 non-null object\n",
      "tstamp                 902 non-null int64\n",
      "user_id                902 non-null object\n",
      "condition              902 non-null object\n",
      "collector_tstamp_x     902 non-null object\n",
      "platform               902 non-null object\n",
      "etl_tstamp             902 non-null object\n",
      "collector_tstamp_y     902 non-null object\n",
      "dvce_created_tstamp    902 non-null object\n",
      "event                  902 non-null object\n",
      "domain_userid          902 non-null object\n",
      "domain_sessionid       902 non-null object\n",
      "geo_country            900 non-null object\n",
      "geo_region             902 non-null object\n",
      "geo_city               552 non-null object\n",
      "geo_region_name        534 non-null object\n",
      "geo_timezone           866 non-null object\n",
      "page_url               902 non-null object\n",
      "page_title             902 non-null object\n",
      "page_referrer          807 non-null object\n",
      "refr_source            595 non-null object\n",
      "pp_xoffset_min         740 non-null float64\n",
      "pp_xoffset_max         740 non-null float64\n",
      "pp_yoffset_min         740 non-null float64\n",
      "pp_yoffset_max         740 non-null float64\n",
      "useragent              877 non-null object\n",
      "browser_language       53 non-null object\n",
      "browser_cookies        53 non-null object\n",
      "browser_colordepth     53 non-null float64\n",
      "browser_viewdepth      53 non-null float64\n",
      "browser_viewheight     53 non-null float64\n",
      "os_name                53 non-null object\n",
      "os_timezone            53 non-null object\n",
      "dvce_type              53 non-null object\n",
      "dtypes: float64(7), int64(1), object(28)\n",
      "memory usage: 260.7+ KB\n"
     ]
    }
   ],
   "source": [
    "click_condition_meta.info()"
   ]
  },
  {
   "cell_type": "markdown",
   "metadata": {},
   "source": [
    "Let's first make an assesmment of columns in the meta dataset which are definitely not usable"
   ]
  },
  {
   "cell_type": "code",
   "execution_count": 142,
   "metadata": {},
   "outputs": [
    {
     "name": "stdout",
     "output_type": "stream",
     "text": [
      "['web']\n"
     ]
    }
   ],
   "source": [
    "print(click_condition_meta.platform.unique()) # one unique value for the entire dataframe\n",
    "click_condition_meta.drop(['platform'], axis = 1, inplace = True)"
   ]
  },
  {
   "cell_type": "markdown",
   "metadata": {},
   "source": [
    "An attribute fit to be a candidate descriptor should be available before or while loading the page since the main goal of A&B Testing is to have a dynamic web page / page elements. Therefore, some columns can already be excluded from the list of potential descriptors in the next task. Take for example the scrolling characteristics. One cannot expect these continiuous values to be of any use as descriptors. In addition, the timestamps and session info are also no longer relevant"
   ]
  },
  {
   "cell_type": "code",
   "execution_count": 145,
   "metadata": {},
   "outputs": [],
   "source": [
    "not_fit = ['pp_xoffset_min', 'pp_yoffset_min', 'pp_xoffset_max', 'pp_yoffset_max', 'tstamp',\n",
    "          'collector_tstamp_x', 'etl_tstamp', 'collector_tstamp_y', 'dvce_created_tstamp', 'event', 'domain_userid',\n",
    "          'domain_sessionid']\n",
    "consistent_with_action = ['action_label', 'action_type']\n",
    "click_condition_meta.drop(not_fit + consistent_with_action, axis = 1, inplace = True)"
   ]
  },
  {
   "cell_type": "markdown",
   "metadata": {},
   "source": [
    "The browser information can be used to load dynamic pages. One can for example use JavaScript for this purpose (if you want to handle this, for example, on the front-end (but on the server side would be better)). The colordepth can, for example be obtained by statements in the language, and this value can then be used in logical statements (<i>object.colorDepth</i>) to load a certain webpage version/elements."
   ]
  },
  {
   "cell_type": "code",
   "execution_count": 146,
   "metadata": {},
   "outputs": [
    {
     "name": "stdout",
     "output_type": "stream",
     "text": [
      "<class 'pandas.core.frame.DataFrame'>\n",
      "Int64Index: 902 entries, 0 to 901\n",
      "Data columns (total 22 columns):\n",
      "action                902 non-null object\n",
      "user_id               902 non-null object\n",
      "condition             902 non-null object\n",
      "platform              902 non-null object\n",
      "geo_country           900 non-null object\n",
      "geo_region            902 non-null object\n",
      "geo_city              552 non-null object\n",
      "geo_region_name       534 non-null object\n",
      "geo_timezone          866 non-null object\n",
      "page_url              902 non-null object\n",
      "page_title            902 non-null object\n",
      "page_referrer         807 non-null object\n",
      "refr_source           595 non-null object\n",
      "useragent             877 non-null object\n",
      "browser_language      53 non-null object\n",
      "browser_cookies       53 non-null object\n",
      "browser_colordepth    53 non-null float64\n",
      "browser_viewdepth     53 non-null float64\n",
      "browser_viewheight    53 non-null float64\n",
      "os_name               53 non-null object\n",
      "os_timezone           53 non-null object\n",
      "dvce_type             53 non-null object\n",
      "dtypes: float64(3), object(19)\n",
      "memory usage: 162.1+ KB\n"
     ]
    }
   ],
   "source": [
    "click_condition_meta.info()"
   ]
  },
  {
   "cell_type": "markdown",
   "metadata": {},
   "source": [
    "Let's check the remaining attributes and there values in the dataset to exclude some more potential descriptors."
   ]
  },
  {
   "cell_type": "code",
   "execution_count": 133,
   "metadata": {},
   "outputs": [
    {
     "name": "stdout",
     "output_type": "stream",
     "text": [
      "page_url \n",
      " unique number of values: 377 \n",
      " ['http://www.mastersportal.eu/study-options/268927260/human-computer-interaction-united-kingdom.html', 'http://www.mastersportal.eu/study-options/268746879/sustainable-development-norway.html', 'http://www.mastersportal.eu/universities/866/centria-university-of-applied-sciences.html', 'http://www.mastersportal.eu/universities/1326/the-university-of-milan.html', 'http://www.mastersportal.eu/universities/350/vytautas-magnus-university.html', 'http://www.mastersportal.eu/search/?q=ci-30%7Cdi-131%7Clv-master', 'http://www.mastersportal.eu/studies/109585/groundwater-hydrology.html', 'http://www.mastersportal.eu/', 'http://www.mastersportal.eu/universities/216/wu.html', 'http://www.mastersportal.eu/universities/11393/university-of-queensland.html', 'http://www.mastersportal.eu/articles/1307/10-us-universities-offering-top-distance-education.html', 'http://www.mastersportal.eu/studies/135/structural-engineering-and-building-technology.html', 'http://www.mastersportal.eu/study-options/268861722/data-science-big-data-sweden.html', 'http://www.mastersportal.eu/study-options/268877930/pharmacy-switzerland.html', 'http://www.mastersportal.eu/universities/8921/faculty-of-mathematics-and-science.html', 'http://www.mastersportal.eu/studies/5789/cardiovascular-health-and-disease.html', 'http://www.mastersportal.eu/universities/1834/polytechnic-institute-of-braganca.html', 'http://www.mastersportal.eu/universities/854/stenden-university-of-applied-sciences.html', 'http://www.mastersportal.eu/studies/101658/finance.html#tab:requirement', 'http://www.mastersportal.eu/study-options/268583002/public-health-finland.html'] \n",
      "\n",
      "os_timezone \n",
      " unique number of values: 12 \n",
      " [nan, 'Europe/London', 'Asia/Baghdad', 'Africa/Lagos', 'UTC', 'Europe/Minsk', 'Asia/Tokyo', 'Europe/Helsinki', 'Asia/Shanghai', 'Africa/Cairo', 'America/Los_Angeles', 'Asia/Jakarta'] \n",
      "\n",
      "browser_language \n",
      " unique number of values: 6 \n",
      " [nan, 'en', 'ar', 'en-GB', 'en-US', 'fr'] \n",
      "\n",
      "os_name \n",
      " unique number of values: 6 \n",
      " [nan, 'Android', 'Android 6.x', 'Android 5.x', 'Android 4.x', 'Unknown'] \n",
      "\n",
      "page_title \n",
      " unique number of values: 361 \n",
      " [\"10 Human Computer Interaction Master's degrees in United Kingdom - MastersPortal.eu\", \"9 Sustainable Development Master's degrees in Norway - MastersPortal.eu\", 'Centria University of Applied Sciences - Kokkola - Finland - MastersPortal.eu', 'The University of Milan - Milan - Italy - MastersPortal.eu', 'Vytautas Magnus University - Kaunas - Lithuania - MastersPortal.eu', \"M.Sc. Dietetics - at King's College London\", 'M.Sc. Groundwater Hydrology - at Flinders University', 'Find Masters Worldwide: all MBA', 'WU (Vienna University of Economics and Business) - Vienna - Austria - MastersPortal.eu', 'University of Queensland - Brisbane - Australia - MastersPortal.eu', '10 U.S. Universities Offering Top Distance Education - MastersPortal.eu', 'M.Sc. Structural Engineering and Building Technology - at Chalmers University of Technology', \"7 Data Science & Big Data Master's degrees in Sweden - MastersPortal.eu\", \"9 Pharmacy Master's degrees in Switzerland - MastersPortal.eu\", 'Faculty of Mathematics and Science - Jyv?±skyl?± - Finland - MastersPortal.eu', 'MRes Cardiovascular Health and Disease - at The University of Manchester', 'Polytechnic Institute of Bragan??a - Bragan??a - Portugal - MastersPortal.eu', 'Stenden University of Applied Sciences - Leeuwarden - Netherlands - MastersPortal.eu', 'Master Finance - at Norwegian School of Economics', \"8 Public Health Master's degrees in Finland - MastersPortal.eu\"] \n",
      "\n",
      "browser_colordepth \n",
      " unique number of values: 4 \n",
      " [nan, 4.0, 24.0, 32.0] \n",
      "\n",
      "refr_source \n",
      " unique number of values: 9 \n",
      " [nan, 'Google', 'Yahoo', 'Yandex', 'Bing', 'Facebook', 'Vkontakte', 'Everyclick', 'DuckDuckGo'] \n",
      "\n",
      "geo_country \n",
      " unique number of values: 109 \n",
      " ['CY', 'AU', 'CM', '  ', 'BD', 'GB', 'NG', 'EG', 'IT', 'HK', 'PG', 'SD', 'SE', 'AL', 'BR', 'ES', 'PK', 'GH', 'US', 'ML'] \n",
      "\n",
      "geo_city \n",
      " unique number of values: 289 \n",
      " [nan, 'Canberra', 'Dhaka', 'Taunton', 'Taranto', 'Central District', 'Kerema', 'Luton', 'Johanneshov', 'Tirana', 'London', 'Coventry', 'Hospitalet De Llobregat', 'Brooklyn', 'Philadelphia', 'Cairo', 'Milan', 'Leeds', 'Moscow', 'Beirut'] \n",
      "\n",
      "dvce_type \n",
      " unique number of values: 3 \n",
      " [nan, 'Mobile', 'Unknown'] \n",
      "\n",
      "page_referrer \n",
      " unique number of values: 278 \n",
      " ['android-app://com.google.android.googlequicksearchbox', 'https://www.google.com.au/', 'http://www.google.cm/search?q=centria+university+of+applied+sciences&btnG=&client=ms-opera-mini-android&channel=new', 'https://www.google.co.uk/', 'https://www.google.com.bd/', 'http://www.mastersportal.eu/studies/2402/dietetics.html', 'http://www.mastersportal.eu/studies/109585/groundwater-hydrology.html', 'http://www.mastersportal.eu/studies/140918/computer-engineering.html', 'http://www.mastersportal.eu/studies/9265/quantitative-finance.html', 'http://www.mastersportal.eu/studies/78001/social-work-studies.html', 'http://www.mastersportal.eu/disciplines/9/humanities.html', 'http://www.mastersportal.eu/studies/135/structural-engineering-and-building-technology.html', 'http://se.search.yahoo.com/search;_ylt=A9mSs2GfPsxXnLsAEc.ZgCA5;_ylu=X3oDMTEzdm1nNDAwBGNvbG8DaXIyBHBvcwMxBHZ0aWQDBHNlYwNwYWdpbmF0aW9u?p=data+scince+sweden&pvid=RPGWoDIxMi5TppwZV8g3KgwsMTA5LgAAAABFbKCD&pz=10&ei=UTF-8&fr2=sb-top&_tsrc=apple&b=11&pz=10&xargs=0', 'https://www.google.al/', 'http://www.mastersportal.eu/', 'https://www.google.com.br/', 'http://www.mastersportal.eu/studies/11356/cardiology.html', 'http://www.shortcoursesportal.com/universities/1834/polytechnic-institute-of-braganca.html', 'http://www.google.com.pk', nan] \n",
      "\n",
      "geo_region_name \n",
      " unique number of values: 212 \n",
      " [nan, 'Australian Capital Territory', 'Dhaka', 'Somerset', 'Puglia', 'Gulf', 'Luton', 'Stockholms Lan', 'Tirane', 'London', 'Coventry', 'Azad Kashmir', 'Catalonia', 'New York', 'Pennsylvania', 'Al Qahirah', 'Umbria', 'Leeds', 'Moscow City', 'Beyrouth'] \n",
      "\n",
      "browser_cookies \n",
      " unique number of values: 2 \n",
      " [nan, True] \n",
      "\n",
      "browser_viewdepth \n",
      " unique number of values: 8 \n",
      " [nan, 375.0, 300.0, 360.0, 320.0, 640.0, 411.0, 408.0] \n",
      "\n",
      "useragent \n",
      " unique number of values: 362 \n",
      " ['Mozilla/5.0 (Linux; Android 5.1.1; SM-G531F Build/LMY48B) AppleWebKit/537.36 (KHTML', 'Mozilla/5.0 (iPhone; CPU iPhone OS 9_3_4 like Mac OS X) AppleWebKit/601.1 (KHTML', 'Opera/9.80 (Android; Opera Mini/10.0.1884/37.8861; U; en) Presto/2.12.423 Version/12.16', 'Mozilla/5.0 (iPhone; CPU iPhone OS 9_3_4 like Mac OS X) AppleWebKit/601.1.46 (KHTML', 'Mozilla/5.0 (Linux; Android 6.0.1; SAMSUNG SM-J700H Build/MMB29K) AppleWebKit/537.36 (KHTML', 'Mozilla/5.0 (iPhone; CPU iPhone OS 9_3_5 like Mac OS X) AppleWebKit/601.1.46 (KHTML', 'Mozilla/5.0 (Linux; Android 5.0; Lenovo A1000 Build/S100) AppleWebKit/537.36 (KHTML', 'Mozilla/5.0 (Linux; Android 4.4.2; Lenovo TAB 2 A7-30HC Build/KOT49H) AppleWebKit/537.36 (KHTML', 'Mozilla/5.0 (Linux; Android 6.0.1; SAMSUNG SM-G920F/G920FXXU4DPHB Build/MMB29K) AppleWebKit/537.36 (KHTML', 'Mozilla/5.0 (Linux; Android 6.0.1; SAMSUNG SM-C7000 Build/MMB29M) AppleWebKit/537.36 (KHTML', 'Mozilla/5.0 (Linux; Android 4.4.2; HUAWEI Y336-U02 Build/HUAWEIY336-U02) AppleWebKit/537.36 (KHTML', 'Mozilla/5.0 (Linux; Android 5.0.1; ALE-L21 Build/HuaweiALE-L21) AppleWebKit/537.36 (KHTML', 'Opera/9.80 (Android; Opera Mini/7.5.35724/37.8861; U; ar) Presto/2.12.423 Version/12.16', 'Mozilla/5.0 (iPhone; CPU iPhone OS 7_1_2 like Mac OS X) AppleWebKit/537.51.2 (KHTML', 'Mozilla/5.0 (Linux; Android 4.4.2; F2 Build/KOT49H) AppleWebKit/537.36 (KHTML', 'Mozilla/5.0 (Linux; Android 4.2.2; SM-T110 Build/JDQ39) AppleWebKit/537.36 (KHTML', 'Mozilla/5.0 (Linux; Android 6.0.1; SAMSUNG SM-G928F Build/MMB29K) AppleWebKit/537.36 (KHTML', 'Mozilla/5.0 (Linux; Android 4.4.4; Elephone P6000 02 Build/KTU84P) AppleWebKit/537.36 (KHTML', 'Mozilla/5.0 (Linux; Android 4.4.4; SAMSUNG-SGH-I337 Build/KTU84P) AppleWebKit/537.36 (KHTML', nan] \n",
      "\n",
      "geo_timezone \n",
      " unique number of values: 123 \n",
      " ['Asia/Nicosia', 'Australia/Sydney', 'Africa/Lagos', nan, 'Asia/Dhaka', 'Europe/London', 'Africa/Cairo', 'Europe/Rome', 'Asia/Hong_Kong', 'Pacific/Port_Moresby', 'Africa/Khartoum', 'Europe/Stockholm', 'Europe/Tirane', 'Asia/Karachi', 'Africa/Accra', 'Europe/Madrid', 'America/New_York', 'Africa/Bamako', 'Europe/Athens', 'Europe/Moscow'] \n",
      "\n",
      "geo_region \n",
      " unique number of values: 109 \n",
      " ['  ', '1', '81', 'M3', '13', '0', '2', 'I1', '26', '50', 'H9', 'C7', '6', '56', 'NY', 'PA', '11', '18', 'H3', '48'] \n",
      "\n",
      "browser_viewheight \n",
      " unique number of values: 15 \n",
      " [nan, 539.0, 372.0, 616.0, 567.0, 496.0, 568.0, 519.0, 509.0, 503.0, 287.0, 731.0, 559.0, 575.0, 654.0] \n",
      "\n"
     ]
    }
   ],
   "source": [
    "show_max = 20\n",
    "columns_meta = list(set(click_condition_meta.columns) - set(not_fit) - set(clicking_conditions.columns))\n",
    "for c in columns_meta:\n",
    "    print(c, '\\n', \"unique number of values:\", len(click_condition_meta[c].unique()), '\\n',\n",
    "          list(click_condition_meta[c].unique())[:show_max], '\\n')"
   ]
  },
  {
   "cell_type": "markdown",
   "metadata": {
    "collapsed": true
   },
   "source": [
    "* browser_language seems to be fit to use as a potential descriptor, but has a lot NaN values\n",
    "* os_timezone seems also usable, but we already have the geo_timezone, which is of the same format and holds the same information. We can, however, check whetehr we can use this attribute to fill in NaN values for the geo_timezone.\n",
    "* os_name seems to be fit to use as a potential descriptor, but needs some feature engineering (i.e. flaten sub-OSs into one OS (for example, different Android Versions to just \"Android\")). This will increase the attribute's (descriptor) usability later on + has a lot of NaN values\n",
    "* brower_color_depth can be used, but it would be a very far fetch to assume that the color depth will be a decent descriptor of any subgroup\n",
    "* refr_source seems to be fit to use as a potential descriptor. To-do: Check whether a nan-value for this attribute implies that the reference was internal (i.e. clicking though website)\n",
    "* browser_cookies seems to be fit to use as a potential descriptor, if one assumes that a NaN value is an indication that user does not accept the website to use cookies.\n",
    "* geo_city has a lot of unique values. One is better of using the higher level location attributes\n",
    "* devc_type seems to be fit to use as a potential descriptor\n",
    "* page_referrer needs some feature engineering to be used as potential descriptor. This attribute can be used to complete/improve the usability of the refr_source attribute.\n",
    "* geo_region_name has a lot of unique values. One is better of using the higher level location attributes\n",
    "* useragent is in itself not very useful as a descriptor, but can be used to complete the os_name info, if necessary.\n",
    "* browser_viewdepth/browser_viewheight could be used, but it would be a very far fetch to assume that these attributes will be a decent descriptor of any subgroup (even if they bould be binned)"
   ]
  },
  {
   "cell_type": "markdown",
   "metadata": {},
   "source": [
    "### 2 A&B Testing"
   ]
  },
  {
   "cell_type": "markdown",
   "metadata": {},
   "source": [
    "### 3 Beyond A&B Testing"
   ]
  }
 ],
 "metadata": {
  "kernelspec": {
   "display_name": "Python 3",
   "language": "python",
   "name": "python3"
  },
  "language_info": {
   "codemirror_mode": {
    "name": "ipython",
    "version": 3
   },
   "file_extension": ".py",
   "mimetype": "text/x-python",
   "name": "python",
   "nbconvert_exporter": "python",
   "pygments_lexer": "ipython3",
   "version": "3.6.3"
  }
 },
 "nbformat": 4,
 "nbformat_minor": 2
}
