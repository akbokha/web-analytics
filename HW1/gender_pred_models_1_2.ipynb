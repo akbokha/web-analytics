{
 "cells": [
  {
   "cell_type": "markdown",
   "metadata": {},
   "source": [
    "## Speed dating data-set\n",
    "#### Abdel K. Bokharouss - November 2017"
   ]
  },
  {
   "cell_type": "markdown",
   "metadata": {},
   "source": [
    "### 1.2 Seperate model per gender"
   ]
  },
  {
   "cell_type": "markdown",
   "metadata": {},
   "source": [
    "### <font color=\"green\">imports, preparation and configuration</font>"
   ]
  },
  {
   "cell_type": "code",
   "execution_count": 1,
   "metadata": {
    "collapsed": true
   },
   "outputs": [],
   "source": [
    "import pandas as pd\n",
    "import numpy as np\n",
    "import seaborn as sns\n",
    "from sklearn.model_selection import train_test_split\n",
    "from sklearn import tree, preprocessing, metrics\n",
    "import matplotlib.pyplot as plt\n",
    "%matplotlib inline"
   ]
  },
  {
   "cell_type": "code",
   "execution_count": 2,
   "metadata": {
    "collapsed": true
   },
   "outputs": [],
   "source": [
    "# imports needed for the visualization and exportation of visualizations\n",
    "import graphviz as gv # not included in the standard anaconda installer (can be found in the Anaconda Navigator)\n",
    "import pydotplus # not included in anaconda at all (use pip/conda install pydotplus in cmd/conda prompt etc)\n",
    "import io\n",
    "from scipy import misc"
   ]
  },
  {
   "cell_type": "code",
   "execution_count": 3,
   "metadata": {},
   "outputs": [
    {
     "data": {
      "text/html": [
       "\n",
       "<style>\n",
       "div.text_cell_render h1 {\n",
       "font-size: 1.6em;\n",
       "line-height:1.2em;\n",
       "}\n",
       "\n",
       "div.text_cell_render h2 { \n",
       "margin-bottom: -0.4em;\n",
       "}\n",
       "\n",
       "div.text_cell_render { \n",
       "font-size:1.2em;\n",
       "line-height:1.2em;\n",
       "font-weight:500;\n",
       "}\n",
       "\n",
       "div.text_cell_render p, li {\n",
       "color:Navy;\n",
       "}\n",
       "\n",
       "</style>\n",
       "\n",
       "<script>\n",
       "code_show_err=false; \n",
       "function code_toggle_err() {\n",
       " if (code_show_err){\n",
       " $('div.output_stderr').hide();\n",
       " } else {\n",
       " $('div.output_stderr').show();\n",
       " }\n",
       " code_show_err = !code_show_err\n",
       "} \n",
       "$( document ).ready(code_toggle_err);\n",
       "</script>\n",
       "To toggle on/off output_stderr, click <a href=\"javascript:code_toggle_err()\">here</a>.\n"
      ],
      "text/plain": [
       "<IPython.core.display.HTML object>"
      ]
     },
     "execution_count": 3,
     "metadata": {},
     "output_type": "execute_result"
    }
   ],
   "source": [
    "from IPython.core.display import HTML # markdown cell styling and enabling/disabling warning messages\n",
    "HTML(\"\"\"\n",
    "<style>\n",
    "div.text_cell_render h1 {\n",
    "font-size: 1.6em;\n",
    "line-height:1.2em;\n",
    "}\n",
    "\n",
    "div.text_cell_render h2 { \n",
    "margin-bottom: -0.4em;\n",
    "}\n",
    "\n",
    "div.text_cell_render { \n",
    "font-size:1.2em;\n",
    "line-height:1.2em;\n",
    "font-weight:500;\n",
    "}\n",
    "\n",
    "div.text_cell_render p, li {\n",
    "color:Navy;\n",
    "}\n",
    "\n",
    "</style>\n",
    "\n",
    "<script>\n",
    "code_show_err=false; \n",
    "function code_toggle_err() {\n",
    " if (code_show_err){\n",
    " $('div.output_stderr').hide();\n",
    " } else {\n",
    " $('div.output_stderr').show();\n",
    " }\n",
    " code_show_err = !code_show_err\n",
    "} \n",
    "$( document ).ready(code_toggle_err);\n",
    "</script>\n",
    "To toggle on/off output_stderr, click <a href=\"javascript:code_toggle_err()\">here</a>.\n",
    "\"\"\") "
   ]
  },
  {
   "cell_type": "code",
   "execution_count": 4,
   "metadata": {},
   "outputs": [
    {
     "data": {
      "text/html": [
       "<div>\n",
       "<style scoped>\n",
       "    .dataframe tbody tr th:only-of-type {\n",
       "        vertical-align: middle;\n",
       "    }\n",
       "\n",
       "    .dataframe tbody tr th {\n",
       "        vertical-align: top;\n",
       "    }\n",
       "\n",
       "    .dataframe thead th {\n",
       "        text-align: right;\n",
       "    }\n",
       "</style>\n",
       "<table border=\"1\" class=\"dataframe\">\n",
       "  <thead>\n",
       "    <tr style=\"text-align: right;\">\n",
       "      <th></th>\n",
       "      <th>iid</th>\n",
       "      <th>id</th>\n",
       "      <th>gender</th>\n",
       "      <th>idg</th>\n",
       "      <th>condtn</th>\n",
       "      <th>wave</th>\n",
       "      <th>round</th>\n",
       "      <th>position</th>\n",
       "      <th>positin1</th>\n",
       "      <th>order</th>\n",
       "      <th>...</th>\n",
       "      <th>attr3_3</th>\n",
       "      <th>sinc3_3</th>\n",
       "      <th>intel3_3</th>\n",
       "      <th>fun3_3</th>\n",
       "      <th>amb3_3</th>\n",
       "      <th>attr5_3</th>\n",
       "      <th>sinc5_3</th>\n",
       "      <th>intel5_3</th>\n",
       "      <th>fun5_3</th>\n",
       "      <th>amb5_3</th>\n",
       "    </tr>\n",
       "  </thead>\n",
       "  <tbody>\n",
       "    <tr>\n",
       "      <th>0</th>\n",
       "      <td>1</td>\n",
       "      <td>1.0</td>\n",
       "      <td>0</td>\n",
       "      <td>1</td>\n",
       "      <td>1</td>\n",
       "      <td>1</td>\n",
       "      <td>10</td>\n",
       "      <td>7</td>\n",
       "      <td>NaN</td>\n",
       "      <td>4</td>\n",
       "      <td>...</td>\n",
       "      <td>5.0</td>\n",
       "      <td>7.0</td>\n",
       "      <td>7.0</td>\n",
       "      <td>7.0</td>\n",
       "      <td>7.0</td>\n",
       "      <td>NaN</td>\n",
       "      <td>NaN</td>\n",
       "      <td>NaN</td>\n",
       "      <td>NaN</td>\n",
       "      <td>NaN</td>\n",
       "    </tr>\n",
       "    <tr>\n",
       "      <th>1</th>\n",
       "      <td>1</td>\n",
       "      <td>1.0</td>\n",
       "      <td>0</td>\n",
       "      <td>1</td>\n",
       "      <td>1</td>\n",
       "      <td>1</td>\n",
       "      <td>10</td>\n",
       "      <td>7</td>\n",
       "      <td>NaN</td>\n",
       "      <td>3</td>\n",
       "      <td>...</td>\n",
       "      <td>5.0</td>\n",
       "      <td>7.0</td>\n",
       "      <td>7.0</td>\n",
       "      <td>7.0</td>\n",
       "      <td>7.0</td>\n",
       "      <td>NaN</td>\n",
       "      <td>NaN</td>\n",
       "      <td>NaN</td>\n",
       "      <td>NaN</td>\n",
       "      <td>NaN</td>\n",
       "    </tr>\n",
       "    <tr>\n",
       "      <th>2</th>\n",
       "      <td>1</td>\n",
       "      <td>1.0</td>\n",
       "      <td>0</td>\n",
       "      <td>1</td>\n",
       "      <td>1</td>\n",
       "      <td>1</td>\n",
       "      <td>10</td>\n",
       "      <td>7</td>\n",
       "      <td>NaN</td>\n",
       "      <td>10</td>\n",
       "      <td>...</td>\n",
       "      <td>5.0</td>\n",
       "      <td>7.0</td>\n",
       "      <td>7.0</td>\n",
       "      <td>7.0</td>\n",
       "      <td>7.0</td>\n",
       "      <td>NaN</td>\n",
       "      <td>NaN</td>\n",
       "      <td>NaN</td>\n",
       "      <td>NaN</td>\n",
       "      <td>NaN</td>\n",
       "    </tr>\n",
       "    <tr>\n",
       "      <th>3</th>\n",
       "      <td>1</td>\n",
       "      <td>1.0</td>\n",
       "      <td>0</td>\n",
       "      <td>1</td>\n",
       "      <td>1</td>\n",
       "      <td>1</td>\n",
       "      <td>10</td>\n",
       "      <td>7</td>\n",
       "      <td>NaN</td>\n",
       "      <td>5</td>\n",
       "      <td>...</td>\n",
       "      <td>5.0</td>\n",
       "      <td>7.0</td>\n",
       "      <td>7.0</td>\n",
       "      <td>7.0</td>\n",
       "      <td>7.0</td>\n",
       "      <td>NaN</td>\n",
       "      <td>NaN</td>\n",
       "      <td>NaN</td>\n",
       "      <td>NaN</td>\n",
       "      <td>NaN</td>\n",
       "    </tr>\n",
       "    <tr>\n",
       "      <th>4</th>\n",
       "      <td>1</td>\n",
       "      <td>1.0</td>\n",
       "      <td>0</td>\n",
       "      <td>1</td>\n",
       "      <td>1</td>\n",
       "      <td>1</td>\n",
       "      <td>10</td>\n",
       "      <td>7</td>\n",
       "      <td>NaN</td>\n",
       "      <td>7</td>\n",
       "      <td>...</td>\n",
       "      <td>5.0</td>\n",
       "      <td>7.0</td>\n",
       "      <td>7.0</td>\n",
       "      <td>7.0</td>\n",
       "      <td>7.0</td>\n",
       "      <td>NaN</td>\n",
       "      <td>NaN</td>\n",
       "      <td>NaN</td>\n",
       "      <td>NaN</td>\n",
       "      <td>NaN</td>\n",
       "    </tr>\n",
       "  </tbody>\n",
       "</table>\n",
       "<p>5 rows × 175 columns</p>\n",
       "</div>"
      ],
      "text/plain": [
       "   iid   id  gender  idg  condtn  wave  round  position  positin1  order  \\\n",
       "0    1  1.0       0    1       1     1     10         7       NaN      4   \n",
       "1    1  1.0       0    1       1     1     10         7       NaN      3   \n",
       "2    1  1.0       0    1       1     1     10         7       NaN     10   \n",
       "3    1  1.0       0    1       1     1     10         7       NaN      5   \n",
       "4    1  1.0       0    1       1     1     10         7       NaN      7   \n",
       "\n",
       "    ...    attr3_3  sinc3_3  intel3_3  fun3_3 amb3_3  attr5_3 sinc5_3  \\\n",
       "0   ...        5.0      7.0       7.0     7.0    7.0      NaN     NaN   \n",
       "1   ...        5.0      7.0       7.0     7.0    7.0      NaN     NaN   \n",
       "2   ...        5.0      7.0       7.0     7.0    7.0      NaN     NaN   \n",
       "3   ...        5.0      7.0       7.0     7.0    7.0      NaN     NaN   \n",
       "4   ...        5.0      7.0       7.0     7.0    7.0      NaN     NaN   \n",
       "\n",
       "  intel5_3 fun5_3  amb5_3  \n",
       "0      NaN    NaN     NaN  \n",
       "1      NaN    NaN     NaN  \n",
       "2      NaN    NaN     NaN  \n",
       "3      NaN    NaN     NaN  \n",
       "4      NaN    NaN     NaN  \n",
       "\n",
       "[5 rows x 175 columns]"
      ]
     },
     "execution_count": 4,
     "metadata": {},
     "output_type": "execute_result"
    }
   ],
   "source": [
    "dates = pd.read_csv(\"speed_dating_assignment.csv\")\n",
    "dates.head()"
   ]
  },
  {
   "cell_type": "markdown",
   "metadata": {},
   "source": [
    "Now there are a lot of attributes which can be exploited to build a predictive model. The model should be trained to build the class attribute <i>dec</i>. Considering the fact that a performance metric (e.g. accuracy) should be optimized and evaluated, it makes sense to have sufficient records to actually train the model well enough. An attribute with a lot of missing values (NaN) is, therefore, not a very good candidate since many models require non-NaN values for the feature attributes of the models. Data mining methods can be used to fill in these NaN values, but this will be very error-prone considering the small size of the datasets. \n",
    "\n",
    "The next step is, therefore, an assesment of the attributes which are considered to be of use in the predictive model, and an assesment of the completeness of these attributes in the two datasets. In this part of the assignment (1.2) the attributes that are going to be used will not be constructed ourselves. Feature engineering (e.g. age difference (1.1)) will be exploited in the models of sub-task 1.3"
   ]
  },
  {
   "cell_type": "markdown",
   "metadata": {},
   "source": [
    "The evaluation of possibly useful attributes is not done by scripting, but by an evaluation of the speed dating data key document and a lot of deductive reasoning. The following attributes are considered to be possible candidates:\n",
    "\n",
    "<i>(The text in italics is the explanation giving by the official data key)</i>"
   ]
  },
  {
   "cell_type": "markdown",
   "metadata": {},
   "source": [
    "* <b>order:</b> <i>The number of date that night when met partner.</i> One can image that subjects whom are desperately looking for a partner lower their standards by the end of the night. So if the first x persons were not exactly a success, the subject might (subcounsiously) lower their standard for the next (round - x) persons and this could lead more easily to a decision (dec) to meet the person again\n",
    "* <b>field:</b> <i>field of study.</i> There could be differences in the cognitive process that is decision making between subjects from different field of studies\n",
    "* <b>imprace and imprelig:</b> <i>How important is it to you (on a scale of 1-10) that a person you date be of the same racial/ethnic or religious background?</i> There could be differences in the cognitive process that is decision making between subjects whom rate the importance of being of the same racial and/or religious background higher.\n",
    "* <b>goal, date and go_out:</b> <i>primary goal event, date frequency, going out freuqency (all categorical)</i> There could be differences in the cognitive process that is decision making between subjects who live a different lifestyle and/or have a different primary goal (not focussing on the differences (posibility for 1.3), but on the subject's answer)\n",
    "* <b>satis_2:</b> <i>Overall how satisfied were you with the people you met (1 = not at all satisfied, 10 = extremely satisfied.</i> If a subject is satisfied with the people he/she met, the likelihood of a match (and thus a dec = 1) will be higher, if one would think logically. This attributes is, therefore, definitely worth an evaluation.\n",
    "[comment]: <> (from)\n",
    "Note that if one would use the attribute <i>match</i> it would probably improve the accuracy (or other performance metric which is assed) of the model significantly, but this would be against the main idea of the predictive model. The model should asses whether the subject decides that he/she wants to see date partner in question again. Using the <i>match</i> attribute would be illogical since this attribute would tell us immediately whether <i>dec = 1</i> if <i>match = 1</i> and if <i>match = 0</i>, it can still be that <i>dec = 1</i>, but this is less-likely since this would imply that the date partner in question would not like to see the subject again, which often implies that the date did not go well"
   ]
  },
  {
   "cell_type": "code",
   "execution_count": 5,
   "metadata": {},
   "outputs": [
    {
     "name": "stdout",
     "output_type": "stream",
     "text": [
      "(8378, 175)\n",
      "<class 'pandas.core.frame.DataFrame'>\n",
      "RangeIndex: 8378 entries, 0 to 8377\n",
      "Data columns (total 10 columns):\n",
      "gender      8378 non-null int64\n",
      "order       8378 non-null int64\n",
      "goal        8299 non-null float64\n",
      "field_cd    8296 non-null float64\n",
      "date        8281 non-null float64\n",
      "age         8283 non-null float64\n",
      "go_out      8299 non-null float64\n",
      "imprace     8299 non-null float64\n",
      "imprelig    8299 non-null float64\n",
      "dec         8378 non-null int64\n",
      "dtypes: float64(7), int64(3)\n",
      "memory usage: 654.6 KB\n"
     ]
    }
   ],
   "source": [
    "dates_model = dates[['gender', 'order','goal', 'field_cd', 'date', 'age', 'go_out', 'imprace', 'imprelig', 'dec']]\n",
    "print(dates.shape) # to asses the number of NaN values per column\n",
    "dates_model.info()"
   ]
  },
  {
   "cell_type": "markdown",
   "metadata": {},
   "source": [
    "We see that the attributs <i>gender, order</i> and <i>dec</i> have no NaN values as one would expect, <i>goal</i>, <i>go_out</i>, <i>imprelig</i>, <i>imprace</i> have (8378 - 8299 =) 79 NaN values, <i>date</i> has (8378 - 8281 =) 97 NaN values, field_cd has (8378 - 8296) = 82 NaN values, and age has (8378 - 8283) = 95 NaN values"
   ]
  },
  {
   "cell_type": "markdown",
   "metadata": {},
   "source": [
    "We could fill in most of these numeric values with the median/mean of the column. But considering the nature of the attributes it makes only sense to do this for the age attribute without affecting the correctness of the model too much (<i>\"all models are wrong, some are useful\"</i>)"
   ]
  },
  {
   "cell_type": "code",
   "execution_count": 6,
   "metadata": {},
   "outputs": [
    {
     "name": "stdout",
     "output_type": "stream",
     "text": [
      "<class 'pandas.core.frame.DataFrame'>\n",
      "RangeIndex: 8378 entries, 0 to 8377\n",
      "Data columns (total 10 columns):\n",
      "gender      8378 non-null int64\n",
      "order       8378 non-null int64\n",
      "goal        8299 non-null float64\n",
      "field_cd    8296 non-null float64\n",
      "date        8281 non-null float64\n",
      "age         8378 non-null float64\n",
      "go_out      8299 non-null float64\n",
      "imprace     8299 non-null float64\n",
      "imprelig    8299 non-null float64\n",
      "dec         8378 non-null int64\n",
      "dtypes: float64(7), int64(3)\n",
      "memory usage: 654.6 KB\n"
     ]
    },
    {
     "name": "stderr",
     "output_type": "stream",
     "text": [
      "C:\\ProgramData\\Anaconda3\\lib\\site-packages\\pandas\\core\\generic.py:4355: SettingWithCopyWarning: \n",
      "A value is trying to be set on a copy of a slice from a DataFrame\n",
      "\n",
      "See the caveats in the documentation: http://pandas.pydata.org/pandas-docs/stable/indexing.html#indexing-view-versus-copy\n",
      "  self._update_inplace(new_data)\n"
     ]
    }
   ],
   "source": [
    "dates_model.age.fillna(dates_model.age.median(), inplace = True)\n",
    "dates_model.info()"
   ]
  },
  {
   "cell_type": "code",
   "execution_count": 7,
   "metadata": {},
   "outputs": [
    {
     "data": {
      "text/plain": [
       "116"
      ]
     },
     "execution_count": 7,
     "metadata": {},
     "output_type": "execute_result"
    }
   ],
   "source": [
    "sum(dates_model.apply(lambda x: sum(x.isnull().values), axis = 1) > 0) # number of rows with NaN values"
   ]
  },
  {
   "cell_type": "markdown",
   "metadata": {},
   "source": [
    "As can by the result of the previous statement, the number of rows with NaN values in any column is 116. This means that a lot of rows with a NaN value in one of the columns, often have also another NaN value in one of the other columns (we could also have 4 * 79 + 97 + 95 + 82 rows with NaN values in the absolute worst case)"
   ]
  },
  {
   "cell_type": "markdown",
   "metadata": {},
   "source": [
    "Considering the relatively low number of NaN's compared to the total record count of the dataset it would not hurt to drop those rows. Dropping those 116 records won't hurt the training of the model by much. In addition, exploiting data mining methods to fill the NaN values would be error-prone considering the nature of the attributes. The choice is, therefore, made to drop these values"
   ]
  },
  {
   "cell_type": "code",
   "execution_count": 8,
   "metadata": {
    "collapsed": true
   },
   "outputs": [],
   "source": [
    "dates_model = dates_model.dropna().reset_index(drop=True)"
   ]
  },
  {
   "cell_type": "markdown",
   "metadata": {},
   "source": [
    "Since a predictive model needs to be trained for two separate genders (males and females) it makes sense to separate the data into a data frame for the male daters (subject in the instance) and a data frame for the female daters. Male and female subjects are classified by a value of 1 or 0 in the gender column, respectively."
   ]
  },
  {
   "cell_type": "code",
   "execution_count": 9,
   "metadata": {},
   "outputs": [
    {
     "data": {
      "text/plain": [
       "((4137, 10), (4125, 10))"
      ]
     },
     "execution_count": 9,
     "metadata": {},
     "output_type": "execute_result"
    }
   ],
   "source": [
    "male_subjects = dates_model[dates_model.gender == 1]\n",
    "female_subjects = dates_model[dates_model.gender == 0]\n",
    "male_subjects.shape, female_subjects.shape"
   ]
  },
  {
   "cell_type": "code",
   "execution_count": 10,
   "metadata": {
    "collapsed": true
   },
   "outputs": [],
   "source": [
    "male_subjects = male_subjects.apply(preprocessing.LabelEncoder().fit_transform) # encoding categorical data\n",
    "female_subjects = female_subjects.apply(preprocessing.LabelEncoder().fit_transform)"
   ]
  },
  {
   "cell_type": "markdown",
   "metadata": {},
   "source": [
    "There are 4137 records in the data set of the male subjects and 4125 records in the data set of the female subjects"
   ]
  },
  {
   "cell_type": "markdown",
   "metadata": {},
   "source": [
    "### <font color=\"green\">Training the models</font>"
   ]
  },
  {
   "cell_type": "code",
   "execution_count": 11,
   "metadata": {
    "collapsed": true
   },
   "outputs": [],
   "source": [
    "male_subjects_shuffle = male_subjects.sample(frac=1).reset_index(drop=True) # shuffle rows\n",
    "female_subjects_shuffle = female_subjects.sample(frac=1).reset_index(drop=True)"
   ]
  },
  {
   "cell_type": "markdown",
   "metadata": {},
   "source": [
    "The rows are shuffled to ensure a fair split into training and test data"
   ]
  },
  {
   "cell_type": "code",
   "execution_count": 12,
   "metadata": {
    "collapsed": true
   },
   "outputs": [],
   "source": [
    "male_x_data = male_subjects_shuffle.drop('dec', axis = 1) # dec is target attribute\n",
    "female_x_data = female_subjects_shuffle.drop('dec', axis = 1)\n",
    "male_labels = male_subjects_shuffle['dec']\n",
    "female_labels = female_subjects_shuffle['dec']"
   ]
  },
  {
   "cell_type": "markdown",
   "metadata": {},
   "source": [
    "The choice is made to split the data into 80% training data and 20% test data. This ratio should ensure enough training data for the model and enough data to asses and evaluate the performance of the model"
   ]
  },
  {
   "cell_type": "code",
   "execution_count": 13,
   "metadata": {
    "collapsed": true
   },
   "outputs": [],
   "source": [
    "male_x_train, male_x_test, male_y_train, male_y_test = train_test_split(male_x_data, male_labels, test_size = 0.2)\n",
    "female_x_train, female_x_test, female_y_train, female_y_test = train_test_split(female_x_data, female_labels, test_size = 0.2)"
   ]
  },
  {
   "cell_type": "markdown",
   "metadata": {},
   "source": [
    "Now there are various training methods which can be exploited. One could go as far as building and training a neural-network model (e.g. using the TensorFlow library), but considering the fact that  there are not a lot of records in the dataset it would be probably overkill for the prediction in question. It would probably result in overfitting. In addition, complicated models are hard to reason about. Visualizing or explaining what goes on in a neural network is very hard considering one has to comprehend and somehow visualize the post-order traversals, numerous optmization steps, batch-sizes (if exploited), the activitation functions, the various layers, cost functions etc. In short, it is simply too much for the human brain to handle once there are a lot of layers and features. \n",
    "\n",
    "The choice is, therefore, made to simply go for a simple model which facilitates a comprehensive evulaution and comparison. Decision tree learning is going to be used to train the models. Classification trees are going to be used to be more specific, considering the fact that the the target variable <i>dec</i> can only take a discrete set of values ({0, 1}). Decision trees facilitate a comprehensible visualization of the decision making in the model."
   ]
  },
  {
   "cell_type": "code",
   "execution_count": 14,
   "metadata": {},
   "outputs": [
    {
     "data": {
      "text/plain": [
       "DecisionTreeClassifier(class_weight=None, criterion='gini', max_depth=8,\n",
       "            max_features=None, max_leaf_nodes=None,\n",
       "            min_impurity_split=1e-07, min_samples_leaf=12,\n",
       "            min_samples_split=50, min_weight_fraction_leaf=0.0,\n",
       "            presort=False, random_state=None, splitter='best')"
      ]
     },
     "execution_count": 14,
     "metadata": {},
     "output_type": "execute_result"
    }
   ],
   "source": [
    "dec_tree_male = tree.DecisionTreeClassifier(criterion = \"gini\", max_depth = 8, min_samples_split = 50, min_samples_leaf = 12)\n",
    "dec_tree_female = tree.DecisionTreeClassifier(criterion = \"gini\", max_depth = 8, min_samples_split = 50, min_samples_leaf = 12)\n",
    "# build decision tree classifiers from the training sets\n",
    "dec_tree_male.fit(male_x_train, male_y_train)\n",
    "dec_tree_female.fit(female_x_train, female_y_train)"
   ]
  },
  {
   "cell_type": "markdown",
   "metadata": {},
   "source": [
    "### <font color=\"green\">Visualizing the models</font>"
   ]
  },
  {
   "cell_type": "markdown",
   "metadata": {},
   "source": [
    "Please do not pay a lot attention to the next function. This function is just written and used to visualize the decision trees in a pleasant way."
   ]
  },
  {
   "cell_type": "code",
   "execution_count": 15,
   "metadata": {
    "collapsed": true
   },
   "outputs": [],
   "source": [
    "def visualize_tree(dec_tree, path, classnames, feat_names):\n",
    "    dfile = io.StringIO()\n",
    "    tree.export_graphviz(dec_tree, out_file = dfile, feature_names = feat_names)\n",
    "    pydotplus.graph_from_dot_data(dfile.getvalue()).write_png(path)\n",
    "    i = misc.imread(path)\n",
    "    plt.imshow(i)"
   ]
  },
  {
   "cell_type": "code",
   "execution_count": 16,
   "metadata": {},
   "outputs": [
    {
     "data": {
      "image/png": "[encoded data removed]",
      "text/plain": [
       "<matplotlib.figure.Figure at 0x28a3b7c1588>"
      ]
     },
     "metadata": {},
     "output_type": "display_data"
    }
   ],
   "source": [
    "male_col_names = dec_tree_male.classes_\n",
    "male_feature_names = male_subjects.columns[0:(male_subjects.shape[1] - 1)] # the features (attributes) used in the model\n",
    "visualize_tree(dec_tree_male, \"male_decision_tree.png\", male_col_names, male_feature_names)"
   ]
  },
  {
   "cell_type": "markdown",
   "metadata": {},
   "source": [
    "See Appendix A.1 for the full image (uncropped)"
   ]
  },
  {
   "cell_type": "code",
   "execution_count": 31,
   "metadata": {},
   "outputs": [
    {
     "data": {
      "image/png": "[encoded data removed]",
      "text/plain": [
       "<matplotlib.figure.Figure at 0x28a3e220f98>"
      ]
     },
     "metadata": {},
     "output_type": "display_data"
    }
   ],
   "source": [
    "female_col_names = dec_tree_female.classes_\n",
    "female_feature_names = female_subjects.columns[0:(female_subjects.shape[1] - 1)] # the features (attributes) used in the model\n",
    "visualize_tree(dec_tree_female, \"female_decision_tree.png\", female_col_names, female_feature_names)"
   ]
  },
  {
   "cell_type": "markdown",
   "metadata": {},
   "source": [
    "See Appendix A.2 for the full image (uncropped)"
   ]
  },
  {
   "cell_type": "markdown",
   "metadata": {},
   "source": [
    "### <font color=\"green\">Evaluating the performance of the models</font>"
   ]
  },
  {
   "cell_type": "code",
   "execution_count": 18,
   "metadata": {},
   "outputs": [
    {
     "name": "stdout",
     "output_type": "stream",
     "text": [
      "Accuracy score:  0.618357487923\n"
     ]
    }
   ],
   "source": [
    "pred_male = dec_tree_male.predict(male_x_test) # predicting 'dec' for data which the model has not seen yet\n",
    "print(\"Accuracy score: \", metrics.accuracy_score(male_y_test, pred_male))"
   ]
  },
  {
   "cell_type": "code",
   "execution_count": 19,
   "metadata": {},
   "outputs": [
    {
     "name": "stdout",
     "output_type": "stream",
     "text": [
      "Accuracy score:  0.652121212121\n"
     ]
    }
   ],
   "source": [
    "pred_female = dec_tree_female.predict(female_x_test) # predicting 'dec' for data which the model has not seen yet\n",
    "print(\"Accuracy score: \", metrics.accuracy_score(female_y_test, pred_female))"
   ]
  },
  {
   "cell_type": "markdown",
   "metadata": {},
   "source": [
    "Now the accuracy of a predictive model should always be taken with a grain of salt. It depends on the randomness, distribution of the target attribute in the train and test splits and many other factors. It is, therefore, always recommended to take also other performance metrics into account"
   ]
  },
  {
   "cell_type": "code",
   "execution_count": 20,
   "metadata": {},
   "outputs": [
    {
     "name": "stdout",
     "output_type": "stream",
     "text": [
      "             precision    recall  f1-score   support\n",
      "\n",
      "          0       0.63      0.69      0.66       445\n",
      "          1       0.60      0.53      0.56       383\n",
      "\n",
      "avg / total       0.62      0.62      0.62       828\n",
      "\n"
     ]
    }
   ],
   "source": [
    "print(metrics.classification_report(male_y_test, pred_male))"
   ]
  },
  {
   "cell_type": "code",
   "execution_count": 21,
   "metadata": {},
   "outputs": [
    {
     "name": "stdout",
     "output_type": "stream",
     "text": [
      "percentage \"dec = 0\" in the male data set:  52.12 %\n",
      "percentage \"dec = 1\" in the male data set:  47.88 %\n"
     ]
    },
    {
     "data": {
      "image/png": "[encoded data removed]",
      "text/plain": [
       "<matplotlib.figure.Figure at 0x28a3e3e1fd0>"
      ]
     },
     "metadata": {},
     "output_type": "display_data"
    }
   ],
   "source": [
    "print('percentage \"dec = 0\" in the male data set: ', round((male_subjects_shuffle.loc[male_subjects_shuffle.dec == 0].shape[0] / male_subjects_shuffle.dec.values.shape[0]) * 100, 2), \"%\")\n",
    "print('percentage \"dec = 1\" in the male data set: ', round((male_subjects_shuffle.loc[male_subjects_shuffle.dec == 1].shape[0] / male_subjects_shuffle.dec.values.shape[0]) * 100, 2), \"%\")\n",
    "plt.hist(male_subjects_shuffle.dec)\n",
    "plt.show()"
   ]
  },
  {
   "cell_type": "markdown",
   "metadata": {},
   "source": [
    "The distribution of the binary values 0 and 1 in the <i>dec</i> column is relatively fair for the male subjects as can be seen in the histogram. In conclusive, the male subjects expressed in approximately 48% of the dates their wish to see the particular date partner again, and in 52% of the dates they did not see a future with the respective date partner.  The next step is to make some well-tought statements about the performance metrics depicted in the previous set of cells"
   ]
  },
  {
   "cell_type": "markdown",
   "metadata": {},
   "source": [
    "<b>Male model</b><br> Four metrics have been reported per binary value of the <i>dec</i> attribute. Let's start with the most straight forward metric: <i>support</i>.  <i>Support</i> simply tells us the number of occurences of the target attribute in the test data set: (445 / (445 + 383) * 100% = 53.74% for dec = 0. This is in line with the distribution of the dec attribute in the complete male data set as can be seen in the last output cell. The train and test splits are, therefore, assesed to be decent representatives of the sample that is the original data set.\n",
    "The next metrics which is going to be evaluated is the <i>precision</i> metric. The precions metric tells us the ratio between the true positives and the sum of the true positives and false positives. Intuitively, this is an assessment of the ability of the predictive classifier not to label a record as postive, which is actualy negative. So in other words not predicting that a subject decides not to see the the date partner again (dec = 0), when it is actually the case that the subject does want to see the date partner again (dec = 1). The recall is the ratio between the true positives and the sum of the true positves and false negatives. In other words, it is an assessment of the classifier's ability to find all the positive samples. This logic applies to both values of the binary target attribute. Now let's asses the actual values of the report in the context of the data-set.\n",
    "\n",
    "* <b>for dec = 0</b> the classifier has a precision of 0.63 and a recall of 0.69. In other words, it was able not to label a record with dec = 0, when the record origininaly had dec = 1 in 63% of the particular cases. And it was able to classify 69% of the records which had originally the value 0 for dec, with the correct value of 0. So the classifier does a pretty good job in recognizing records which should have dec = 0 (0.69) since it thus only misses 31% of the records and it does ok in not classifying dec = 1 records with dec = 0 (but it still happens in 37% of the records with dec = 1 in the original data set.)\n",
    "* <b>for dec = 1</b> the classifier has a precision of 0.60 and a recall of 0.53. Note the significantly lower recall compared to dec = 0.  It was able not to label a record with dec = 1, when the record orginally had dec = 0 in 60% of the particular cases which is in line with the precision of the previus values. But it was only able to classify 53% of the records which had originally the value 1 for dec, with the correct value of 1. This means that the model has a significantyl harder time recognizing records (i.e. subjects) whom want to see their date partner again, compared to recognizing records (subjects) whom do not want to see their date partner again.\n",
    "\n",
    "Considering the even distribution of decision in the male subjects datasets, one can conlcude that the classifier is significantly better in recognizing cases (records/subjects) that lead to a decision not to see the date partner again, compared to cases that lead to a decision which expresses the subjects wish to see the date partner again. Both classifications come at a relatively same 'cost' (the misclassifcations which is denoted by the precision metric).\n",
    "The f1-score is left out of this evaluation since the evaluation of the previous mentioned metrics for the perforance assesment of the classifier is more than adequate for this particular assignment."
   ]
  },
  {
   "cell_type": "code",
   "execution_count": 22,
   "metadata": {},
   "outputs": [
    {
     "name": "stdout",
     "output_type": "stream",
     "text": [
      "             precision    recall  f1-score   support\n",
      "\n",
      "          0       0.68      0.84      0.75       510\n",
      "          1       0.57      0.35      0.43       315\n",
      "\n",
      "avg / total       0.64      0.65      0.63       825\n",
      "\n"
     ]
    }
   ],
   "source": [
    "print(metrics.classification_report(female_y_test, pred_female))"
   ]
  },
  {
   "cell_type": "code",
   "execution_count": 23,
   "metadata": {},
   "outputs": [
    {
     "name": "stdout",
     "output_type": "stream",
     "text": [
      "percentage \"dec = 0\" in the female data set:  63.32 %\n",
      "percentage \"dec = 1\" in the female data set:  36.68 %\n"
     ]
    },
    {
     "data": {
      "image/png": "[encoded data removed]",
      "text/plain": [
       "<matplotlib.figure.Figure at 0x28a3e3ec898>"
      ]
     },
     "metadata": {},
     "output_type": "display_data"
    }
   ],
   "source": [
    "print('percentage \"dec = 0\" in the female data set: ', round((female_subjects_shuffle.loc[female_subjects_shuffle.dec == 0].shape[0] / female_subjects_shuffle.dec.values.shape[0]) * 100, 2), \"%\")\n",
    "print('percentage \"dec = 1\" in the female data set: ', round((female_subjects_shuffle.loc[female_subjects_shuffle.dec == 1].shape[0] / female_subjects_shuffle.dec.values.shape[0]) * 100, 2), \"%\")\n",
    "plt.hist(female_subjects_shuffle.dec)\n",
    "plt.show()"
   ]
  },
  {
   "cell_type": "markdown",
   "metadata": {},
   "source": [
    "The distribution of the binary values 0 and 1 in the <i>dec</i> column is noteworthy as can be seen in the histogram. In conclusive, the female subjects expressed in approximately 37% of the dates their wish to see the particular date partner again, and in 63% of the dates they did not see a future with the respective date partner. So unlike the male subjects, the female subjects epressed relatively (and on average) less often the wish to see their date partner again. The next step is to make some well-tought statements about the performance metrics depicted in the previous set of cells"
   ]
  },
  {
   "cell_type": "markdown",
   "metadata": {},
   "source": [
    "<b>Female model</b><br> The same four performance metrics are going to be evaluated for the female classifier. Let's start with the most straight forward metric: <i>support</i>.  <i>Support</i> simply tells us the number of occurences of the target attribute in the test data set: (510 / (510 + 315) * 100% = 61.82 % for dec = 0. This is in line with the distribution of the dec attribute in the complete female data set as can be seen in the last output cell. The train and test splits are, therefore, assesed to be decent representatives of the sample that is the original data set. But unlike the male classifier, we should pay some extra attention to what hte performance metrics are telling us considering the uneven distribution of decisions.\n",
    "The next metrics which is going to be evaluated is the <i>precision</i> metric. The precions metric tells us the ratio between the true positives and the sum of the true positives and false positives. Intuitively, this is an assessment of the ability of the predictive classifier not to label a record as postive, which is actualy negative. So in other words not predicting that a subject decides expresses it wish to see the the date partner again (dec = 1), when it is actually the case that the subject does want to see the date partner again (dec = 0). The recall is the ratio between the true positives and the sum of the true positves and false negatives. In other words, it is an assessment of the classifier's ability to find all the positive samples. This logic applies to both values of the binary target attribute. Now let's asses the actual values of the report in the context of the data-set.\n",
    "\n",
    "* <b>for dec = 0</b> the classifier has a precision of 0.68 and a recall of 0.84. In other words, it was able not to label a record with dec = 0, when the record origininaly had dec = 1 in 68% of the particular cases. And it was able to classify 84% of the records which had originally the value 0 for dec, with the correct value of 0. So the classifier does a very good job in recognizing records which should have dec = 0 (0.84) since it thus only misses 16% of the records and it does ok in not classifying dec = 1 records with dec = 0 (but it still happens in 32% of the records with dec = 1 in the original data set.)\n",
    "* <b>for dec = 1</b> the classifier has a precision of 0.57 and a recall of 0.35. Note, again, the significantly lower recall compared to dec = 0. It was able not to label a record with dec = 1, when the record orginally had dec = 0 in 57% of the particular cases which is noteably lower than for dec = 0 cases. In addition, it was only able to classify 35% of the records which had originally the value 1 for dec, with the correct value of 1. This means that the model has a significantly hard(er) time recognizing records (i.e. subjects) whom want to see their date partner again, compared to recognizing records (subjects) whom do not want to see their date partner again.\n",
    "\n",
    "Considering the fact that there are significantly more cases (i.e. subjects on dates) that lead to the decision not to see the date partner again than cases in which the subjects has expressed her wish to see the date partner again one has to be a bit more careful in the conclusive remarks. The classifier is significantly better in recognizing cases (records/subjects) that lead to a decision not to see the date partner again, compared to cases that lead to a decision which expresses the subjects wish to see the date partner again (0.84 > 0.35), but one has to note that there are simply less records in the training set with dec = 1, which leads to relatively less records to learn from for the classifier. In addition, the presence of dec = 1 records will also be less in the test set, which means that a low precision will relatively quickly lead to a lower recal. The precision of the dec = 0 records is significantly better than for the dec = 1 records, which means that the classifier mislabels dec = 1 less often with dec = 0, than the other way around."
   ]
  },
  {
   "cell_type": "markdown",
   "metadata": {},
   "source": [
    "### <font color=\"green\">Comparing the differences among the models</font>"
   ]
  },
  {
   "cell_type": "markdown",
   "metadata": {},
   "source": [
    "Let's have a look at the visualization of the models before getting into the (significant) differences of the performance metrics. Classification trees are used as classifier in both models. Note that the depth of both trees has been limited. Experimental evaluation has shown (setting max_depth to None) that a higher accuracy can be achieved with the same model, but without a limitation to the depth of the tree. The choice was, however, made to limit the depth of the tree to be able to reason about the (sequence) of decisions that are made in the tree. Not limiting the depth leads thus to better results in this context, but it becomes much harder to visualize the tree in a human comprehensible way. The most important things that should be concluded from a visualization of a decision tree is the attribute significance, and in some cases the attribute values of those significant attributes.\n",
    "\n",
    "Before explaining what can be concluded from the visualizations and the differences among the models let's evaluate first how a decision tree is made. Most decision (classification) tree algorithms work in more or less the same manner. They ussualy exploiy a recursive binary split approach by checking for every featured attribute and every possibly split, which one results in the best optimization of the metric which is used as a function (metric) to asses the qualtiy of a particular split. The criterion (metric) Gini impurity is used in both classifiers. The other option is to use information gain (entropy) as metric. Generally, there are no significant differences between the criterions/metrics, but using entropy as criterion often leads to a heavier and thus longer compuation, considering the logarithmic functions which appear in the function of entropy (summation). But this should only be considered with very large datasets or applications which are time-critical.\n",
    "\n",
    "From this explanation, one can conclude that first split in the decision tree is going to be a split which evaluates the value of the most significant attribute. We see that this is the attribute <i>imprace</i> for the classifier of the male subjects and <i>goal</i> for the classifier of the female models. In the male model the next two splits in the hierarchy are made on the attributes <i>age</i> and <i>imprelig</i>, and in the female model it is the attribute <i>go_out</i>. Now this tells us a difference between the decision making process which the classifieres have learned from the data of ~3300 subjects (per gender 80%).\n",
    "\n",
    "First note that the decision tree classifiers of sklearn treat all the attributes as numeric values (unlike some R libraries). This does not mean that the categories need to be ordinal to reason about it. One has to just put a little bit more thought on what assessment is used in the splits. In addition, the values are scaled (take into account minimum and maximum) and categorised numerically. This can sometimes lead to statements which would not make sense with numeric values of the original dataset.\n",
    "\n",
    "In the male model the first split is made on <i>imprace</i> and for all the males who have rated to find it important that their partner is of the same ehtnic/racial background with 1-5 the next split is going to be on the <i>age</i> attribute, and for all the males who give a rating of 6-10 for <i>imprace</i> the next split is going to be on the <i>imprelig</i> attribute. This tells us something about males who think that being of the same ethnic/racial background is relatively important in comparison to males who do not think it is that important. The males who care more about the ethnic/racial background care also more about the partner's religion (<i>impreg</i> attribute is more important in the decision making process). And for the males who do not care about ethnic/racial background their age is more of importance in the decision making process. Note, however, that these statements are only generalized from the learning rules of the classifier. This does not need to be true in any sense. It is well known that correlation does not imply causation, but if one would could speculate about the cause of this split. One could, for example, argue that males who find ethnic and racial background of their partner important are relatively more consverative than males who do not care about racial background of their partner. This conservatism leads to significance of also the partner's religious background in the classification process. But again, correlation does not imply causation and this is, therefore, nothing more than speculations.\n",
    "\n",
    "In the female model the first split is made on the <i>goal</i> attribute. And the next two splits are both on the <i>go_out</i> attribute. When looking at the next several splits in the trees we can conclude that the classifier believes that ethnic/racial background is not that important, while this was the most significant attribute for the male subjects. Again, correlation does not imply causation but one could speculate that females who are present at the speed dating event with other goals (e.g. meet new people, looking for a serious relationship etc) put significance in different set of attributes (can be found by exploring the branches/specific tree-traversals). This makes sense of course; a woman looking for a serious relationship looks in general for other traits in a partner than a person who is looking to meet new people or someone who is just there to have a fun night out. But again, correlation does not imply causation and this is, therefore, just a speculative generalistic idea.\n",
    "\n",
    "When looking at the performance metrics one can also spot some significant differences between the two classifiers. The recall for dec = 0 in the classifier of the female subjects is significantly higher than the recall of the male subject classifier. The classifier of the female subjects does, therefore, a better job in recognizing cases (subjects that do not want to see the partner again) than the female classifier. The difference in precision for dec = 0 is not worth mentioning. In additiom, one can see that the recall dec = 1 is relatively low for both classifiers, but also significantly lower for the classifier of the femal subjects than the classifier of the male subjects. In other words, both classifiers have a hard time recognizing the situations in which the subjects would express his/her wish to see the date partner again, but the female subject classifier has even a harder time than the male subject classifier, considering its significantly lower recall (0.35 < 0.53) which means that it is even harder to recognize the case for female subjects.\n",
    "\n",
    "The last thing worth noting is the need for other performance metrics than (just) the accuracy of the classifiers. Take the classifier for female subjects for example. If we would have a classifier which fills in dec = 0 for all the records without even taken into account any attributes, this classifier would achieve an accuracy of 61.82 considering the fact that this is the percentage of records with dec = 0 in the test split set. This model would be useless and unarguably wrong, but an accuracy of 61.82 would give the impression that it somehow still does a pretty good job. This is why take into account metrics such as precision, recalll and support provided by the classification report. These metrics take false/true positives/negatives into account which give a better overview of the performance of the classifier."
   ]
  },
  {
   "cell_type": "markdown",
   "metadata": {},
   "source": [
    "### <font color=\"green\">Evaluating a third model for the female gender</font>"
   ]
  },
  {
   "cell_type": "markdown",
   "metadata": {},
   "source": [
    "A new different (and random) 80/20 split is going to used to for the third model (second model for female subjects). The intention is to asses and evaluate the previous model by assesing the model (is it the same as the previous model) and to check whether the perfomance meausures and internals are the same using the new 20% test cases. "
   ]
  },
  {
   "cell_type": "code",
   "execution_count": 28,
   "metadata": {
    "collapsed": true
   },
   "outputs": [],
   "source": [
    "female_subjects_shuffle_2 = female_subjects.sample(frac=1).reset_index(drop=True)\n",
    "female_x_data_2 = female_subjects_shuffle_2.drop('dec', axis = 1)\n",
    "female_labels_2 = female_subjects_shuffle_2['dec']"
   ]
  },
  {
   "cell_type": "code",
   "execution_count": 29,
   "metadata": {
    "collapsed": true
   },
   "outputs": [],
   "source": [
    "female_x_train_2, female_x_test_2, female_y_train_2, female_y_test_2 = train_test_split(female_x_data_2, female_labels_2, test_size = 0.2)"
   ]
  },
  {
   "cell_type": "markdown",
   "metadata": {},
   "source": [
    "Some statements/variables could actually be re-used, but the choice was made to ensure the randomness of the new train (80%) and test data (20%) by executing the statements again. This is also prevents mix-ups between variables if one would re-execute one of the cells that are related to the previous model (which is possible in Jupyter notebooks)"
   ]
  },
  {
   "cell_type": "code",
   "execution_count": 30,
   "metadata": {},
   "outputs": [
    {
     "data": {
      "text/plain": [
       "DecisionTreeClassifier(class_weight=None, criterion='gini', max_depth=8,\n",
       "            max_features=None, max_leaf_nodes=None,\n",
       "            min_impurity_split=1e-07, min_samples_leaf=12,\n",
       "            min_samples_split=50, min_weight_fraction_leaf=0.0,\n",
       "            presort=False, random_state=None, splitter='best')"
      ]
     },
     "execution_count": 30,
     "metadata": {},
     "output_type": "execute_result"
    }
   ],
   "source": [
    "# same set of parameters as the previous female model to ensure the reliability of the stability assesment.\n",
    "dec_tree_female_2 = tree.DecisionTreeClassifier(criterion = \"gini\", max_depth = 8, min_samples_split = 50, min_samples_leaf = 12)\n",
    "# build the new decision tree classifier from the new training set\n",
    "dec_tree_female_2.fit(female_x_train_2, female_y_train_2)"
   ]
  },
  {
   "cell_type": "code",
   "execution_count": 32,
   "metadata": {},
   "outputs": [
    {
     "data": {
      "image/png": "[encoded data removed]",
      "text/plain": [
       "<matplotlib.figure.Figure at 0x28a3dcd5048>"
      ]
     },
     "metadata": {},
     "output_type": "display_data"
    }
   ],
   "source": [
    "female_col_names_2 = dec_tree_female_2.classes_\n",
    "female_feature_names_2 = female_subjects_shuffle_2.columns[0:(female_subjects_shuffle_2.shape[1] - 1)] # the features (attributes) used in the model\n",
    "visualize_tree(dec_tree_female_2, \"female_decision_tree_2.png\", female_col_names_2, female_feature_names_2)"
   ]
  },
  {
   "cell_type": "markdown",
   "metadata": {},
   "source": [
    "See Appendix A.3 for the full image (uncropped)"
   ]
  },
  {
   "cell_type": "code",
   "execution_count": 34,
   "metadata": {},
   "outputs": [
    {
     "name": "stdout",
     "output_type": "stream",
     "text": [
      "Accuracy score:  0.643636363636\n"
     ]
    }
   ],
   "source": [
    "pred_female_2 = dec_tree_female_2.predict(female_x_test_2) # predicting 'dec' for data which the model has not seen yet\n",
    "print(\"Accuracy score: \", metrics.accuracy_score(female_y_test_2, pred_female_2))"
   ]
  },
  {
   "cell_type": "code",
   "execution_count": 36,
   "metadata": {},
   "outputs": [
    {
     "name": "stdout",
     "output_type": "stream",
     "text": [
      "             precision    recall  f1-score   support\n",
      "\n",
      "          0       0.67      0.86      0.76       526\n",
      "          1       0.52      0.26      0.35       299\n",
      "\n",
      "avg / total       0.62      0.64      0.61       825\n",
      "\n"
     ]
    }
   ],
   "source": [
    "print(metrics.classification_report(female_y_test_2, pred_female_2))"
   ]
  },
  {
   "cell_type": "markdown",
   "metadata": {},
   "source": [
    "When looking at the visualization of the decision tree one can immediately see that the model is different from the previous model build by and for female subjects. In the new model, <i>order</i> is the most significant attribute and the next two splits are on the <i>age</i> and <i>go_out</i> attributes. In the previous model the first split was on the <i>goal</i> attribute followed by splits on the <i>go_out</i> attribute. It is, therefore, not the most stable model. This was expected when building the initial model. The model could only learn from ~ 3300 cases. This may seem a lot, but random shuffling of this dataset can easily lead to (small) changes of the model since it has to learn from such a low number of cases, as can be seen in the new decision tree visualization. If there were real patterns in the decision making process of female subjects and we would have hundreds of thousands of cases to learn from, re-shuffling the dataset at random at re-splitting it should have a significantly lower effect on the learning process of the classifier and thus the rules (splits) it produces. But there is no proof for clear patterns (not considering outlier cases) in the decision making process of female subjects (correlation $\\neq$ causation) and there is not such a dataset available of the same research with those number of cases."
   ]
  },
  {
   "cell_type": "markdown",
   "metadata": {},
   "source": [
    "There are no extreme differences between the performances of the models. First note that are no noteworthy difference in the support (occcurences of the values in the test set). The recall of dec = 0 improved by 2%, while the precision dropped by 1%. The only significant change in the performance metrics is the even lower value of recall for dec = 1. This model has thus even a harder time in recognizing the cases in the test set in which the female subject would express her wish to see the date partner again."
   ]
  },
  {
   "cell_type": "markdown",
   "metadata": {},
   "source": [
    "Let's compare the new model and the male model and check which one is closer to the first female model. When evaluating the differences in the performancem etrics, one would say that the two female models are closer to each oter. But there is one tiny difference that affects the comparability of the models. There are significant differences between the support of the male model and the two female mdoels. It is hard to give a solid reasoning behind the implications of these differences and behind the scope of the question / this assignment.\n",
    "If one owuld asses the decions trees themselves one would also conclude that the two female models are close to each oter than the old female model and male model. The decision tree of the male model puts a heavy emphasis on the difference between male subjects who find ethnic/racial and religious backgrounds important and those who don't. While both female models, aside from the importance of the order in the new model, put emphasis on the importance of the goal and frequency of going attributes. There are, however, differences are present between both female models and the initial female and male model. The female models are closer to together performance- and visual-wise, but definitely not identical. As explained in the previous paragraph, the stability of the model is affected by the characteristics of the dataset which is used to train the model(s)."
   ]
  },
  {
   "cell_type": "markdown",
   "metadata": {},
   "source": [
    "<i>This concludes task 1.2 Some final remarks about the models and results: <br></i>\n",
    "Note that one could consider these models as weak learners. These weak learners could be utilized in an ensemble learner (e.g. Random Forest of decision trees) and the classifier (result from ensemble learner) would probably yield better results than these models, but it would be more difficuly to explain the logic of the model. The choice was, therefore, made to not use ensemble learners to improbe the performance. \n",
    "\n",
    "Another thing worth noting is that a lot of performance metrics were assesed, but the choice was made to leave out any costs matrix. A possible application of the predictive model might be to\n",
    "use them to suggest which participants should be matched, to optimize for the number of successful matches w.r.t. the number of speed dates. The construction of a cost matrix would entail making the choice of what decision should 'weigh' heavier: a wrong decision that could result in a future date (classify dec = 0 case with dec = 1) or the miss of a date, when the subject actually wants to date the partner again (classify dec = 1 case with dec = 0). It would be difficult to asses which of these decisions would be less favorable. One could, in future questionnaires formulate this as another question which the participants have to answer. Analysis of these answers will then tell us what the participants thinks \"weights\" heavier, and this could then be exploited in a cost matrix.\n",
    "\n",
    "And lastly note that the in a more extensive research/analysis, model validation techniques such as (k-fold) cross validation would be no frivolous luxury considering the instablility of the model. It would also result in a better recognition of overfitting models. The choice was, however, made not to include these model validation techniques as this analyis is already more extensive than the evaluators probably anticipated."
   ]
  }
 ],
 "metadata": {
  "kernelspec": {
   "display_name": "Python 3",
   "language": "python",
   "name": "python3"
  },
  "language_info": {
   "codemirror_mode": {
    "name": "ipython",
    "version": 3
   },
   "file_extension": ".py",
   "mimetype": "text/x-python",
   "name": "python",
   "nbconvert_exporter": "python",
   "pygments_lexer": "ipython3",
   "version": "3.6.3"
  }
 },
 "nbformat": 4,
 "nbformat_minor": 2
}
