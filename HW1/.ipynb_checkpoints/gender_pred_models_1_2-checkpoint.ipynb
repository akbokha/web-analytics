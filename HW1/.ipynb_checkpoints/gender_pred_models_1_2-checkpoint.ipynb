{
 "cells": [
  {
   "cell_type": "markdown",
   "metadata": {},
   "source": [
    "## Speed dating data-set\n",
    "#### Abdel K. Bokharouss - November 2017"
   ]
  },
  {
   "cell_type": "markdown",
   "metadata": {},
   "source": [
    "### 1.2 Seperate model per gender"
   ]
  },
  {
   "cell_type": "markdown",
   "metadata": {},
   "source": [
    "### <font color=\"green\">imports, preparation and configuration</font>"
   ]
  },
  {
   "cell_type": "code",
   "execution_count": 1,
   "metadata": {},
   "outputs": [],
   "source": [
    "import pandas as pd\n",
    "import numpy as np\n",
    "import seaborn as sns\n",
    "import warnings\n",
    "from sklearn.model_selection import train_test_split\n",
    "from sklearn import tree, preprocessing, metrics\n",
    "import matplotlib.pyplot as plt\n",
    "%matplotlib inline"
   ]
  },
  {
   "cell_type": "code",
   "execution_count": 2,
   "metadata": {
    "collapsed": true
   },
   "outputs": [],
   "source": [
    "import graphviz as gv # visualization of trees\n",
    "import pydotplus\n",
    "import io\n",
    "from scipy import misc"
   ]
  },
  {
   "cell_type": "code",
   "execution_count": 3,
   "metadata": {},
   "outputs": [
    {
     "data": {
      "text/html": [
       "\n",
       "<style>\n",
       "div.text_cell_render h1 {\n",
       "font-size: 1.6em;\n",
       "line-height:1.2em;\n",
       "}\n",
       "\n",
       "div.text_cell_render h2 { \n",
       "margin-bottom: -0.4em;\n",
       "}\n",
       "\n",
       "div.text_cell_render { \n",
       "font-size:1.2em;\n",
       "line-height:1.2em;\n",
       "font-weight:500;\n",
       "}\n",
       "\n",
       "div.text_cell_render p, li {\n",
       "color:Navy;\n",
       "}\n",
       "\n",
       "</style>\n",
       "\n",
       "<script>\n",
       "code_show_err=false; \n",
       "function code_toggle_err() {\n",
       " if (code_show_err){\n",
       " $('div.output_stderr').hide();\n",
       " } else {\n",
       " $('div.output_stderr').show();\n",
       " }\n",
       " code_show_err = !code_show_err\n",
       "} \n",
       "$( document ).ready(code_toggle_err);\n",
       "</script>\n",
       "To toggle on/off output_stderr, click <a href=\"javascript:code_toggle_err()\">here</a>.\n"
      ],
      "text/plain": [
       "<IPython.core.display.HTML object>"
      ]
     },
     "execution_count": 3,
     "metadata": {},
     "output_type": "execute_result"
    }
   ],
   "source": [
    "from IPython.core.display import HTML # markdown cell styling and enabling/disabling warning messages\n",
    "HTML(\"\"\"\n",
    "<style>\n",
    "div.text_cell_render h1 {\n",
    "font-size: 1.6em;\n",
    "line-height:1.2em;\n",
    "}\n",
    "\n",
    "div.text_cell_render h2 { \n",
    "margin-bottom: -0.4em;\n",
    "}\n",
    "\n",
    "div.text_cell_render { \n",
    "font-size:1.2em;\n",
    "line-height:1.2em;\n",
    "font-weight:500;\n",
    "}\n",
    "\n",
    "div.text_cell_render p, li {\n",
    "color:Navy;\n",
    "}\n",
    "\n",
    "</style>\n",
    "\n",
    "<script>\n",
    "code_show_err=false; \n",
    "function code_toggle_err() {\n",
    " if (code_show_err){\n",
    " $('div.output_stderr').hide();\n",
    " } else {\n",
    " $('div.output_stderr').show();\n",
    " }\n",
    " code_show_err = !code_show_err\n",
    "} \n",
    "$( document ).ready(code_toggle_err);\n",
    "</script>\n",
    "To toggle on/off output_stderr, click <a href=\"javascript:code_toggle_err()\">here</a>.\n",
    "\"\"\") "
   ]
  },
  {
   "cell_type": "code",
   "execution_count": 4,
   "metadata": {},
   "outputs": [
    {
     "data": {
      "text/html": [
       "<div>\n",
       "<style scoped>\n",
       "    .dataframe tbody tr th:only-of-type {\n",
       "        vertical-align: middle;\n",
       "    }\n",
       "\n",
       "    .dataframe tbody tr th {\n",
       "        vertical-align: top;\n",
       "    }\n",
       "\n",
       "    .dataframe thead th {\n",
       "        text-align: right;\n",
       "    }\n",
       "</style>\n",
       "<table border=\"1\" class=\"dataframe\">\n",
       "  <thead>\n",
       "    <tr style=\"text-align: right;\">\n",
       "      <th></th>\n",
       "      <th>iid</th>\n",
       "      <th>id</th>\n",
       "      <th>gender</th>\n",
       "      <th>idg</th>\n",
       "      <th>condtn</th>\n",
       "      <th>wave</th>\n",
       "      <th>round</th>\n",
       "      <th>position</th>\n",
       "      <th>positin1</th>\n",
       "      <th>order</th>\n",
       "      <th>...</th>\n",
       "      <th>attr3_3</th>\n",
       "      <th>sinc3_3</th>\n",
       "      <th>intel3_3</th>\n",
       "      <th>fun3_3</th>\n",
       "      <th>amb3_3</th>\n",
       "      <th>attr5_3</th>\n",
       "      <th>sinc5_3</th>\n",
       "      <th>intel5_3</th>\n",
       "      <th>fun5_3</th>\n",
       "      <th>amb5_3</th>\n",
       "    </tr>\n",
       "  </thead>\n",
       "  <tbody>\n",
       "    <tr>\n",
       "      <th>0</th>\n",
       "      <td>1</td>\n",
       "      <td>1.0</td>\n",
       "      <td>0</td>\n",
       "      <td>1</td>\n",
       "      <td>1</td>\n",
       "      <td>1</td>\n",
       "      <td>10</td>\n",
       "      <td>7</td>\n",
       "      <td>NaN</td>\n",
       "      <td>4</td>\n",
       "      <td>...</td>\n",
       "      <td>5.0</td>\n",
       "      <td>7.0</td>\n",
       "      <td>7.0</td>\n",
       "      <td>7.0</td>\n",
       "      <td>7.0</td>\n",
       "      <td>NaN</td>\n",
       "      <td>NaN</td>\n",
       "      <td>NaN</td>\n",
       "      <td>NaN</td>\n",
       "      <td>NaN</td>\n",
       "    </tr>\n",
       "    <tr>\n",
       "      <th>1</th>\n",
       "      <td>1</td>\n",
       "      <td>1.0</td>\n",
       "      <td>0</td>\n",
       "      <td>1</td>\n",
       "      <td>1</td>\n",
       "      <td>1</td>\n",
       "      <td>10</td>\n",
       "      <td>7</td>\n",
       "      <td>NaN</td>\n",
       "      <td>3</td>\n",
       "      <td>...</td>\n",
       "      <td>5.0</td>\n",
       "      <td>7.0</td>\n",
       "      <td>7.0</td>\n",
       "      <td>7.0</td>\n",
       "      <td>7.0</td>\n",
       "      <td>NaN</td>\n",
       "      <td>NaN</td>\n",
       "      <td>NaN</td>\n",
       "      <td>NaN</td>\n",
       "      <td>NaN</td>\n",
       "    </tr>\n",
       "    <tr>\n",
       "      <th>2</th>\n",
       "      <td>1</td>\n",
       "      <td>1.0</td>\n",
       "      <td>0</td>\n",
       "      <td>1</td>\n",
       "      <td>1</td>\n",
       "      <td>1</td>\n",
       "      <td>10</td>\n",
       "      <td>7</td>\n",
       "      <td>NaN</td>\n",
       "      <td>10</td>\n",
       "      <td>...</td>\n",
       "      <td>5.0</td>\n",
       "      <td>7.0</td>\n",
       "      <td>7.0</td>\n",
       "      <td>7.0</td>\n",
       "      <td>7.0</td>\n",
       "      <td>NaN</td>\n",
       "      <td>NaN</td>\n",
       "      <td>NaN</td>\n",
       "      <td>NaN</td>\n",
       "      <td>NaN</td>\n",
       "    </tr>\n",
       "    <tr>\n",
       "      <th>3</th>\n",
       "      <td>1</td>\n",
       "      <td>1.0</td>\n",
       "      <td>0</td>\n",
       "      <td>1</td>\n",
       "      <td>1</td>\n",
       "      <td>1</td>\n",
       "      <td>10</td>\n",
       "      <td>7</td>\n",
       "      <td>NaN</td>\n",
       "      <td>5</td>\n",
       "      <td>...</td>\n",
       "      <td>5.0</td>\n",
       "      <td>7.0</td>\n",
       "      <td>7.0</td>\n",
       "      <td>7.0</td>\n",
       "      <td>7.0</td>\n",
       "      <td>NaN</td>\n",
       "      <td>NaN</td>\n",
       "      <td>NaN</td>\n",
       "      <td>NaN</td>\n",
       "      <td>NaN</td>\n",
       "    </tr>\n",
       "    <tr>\n",
       "      <th>4</th>\n",
       "      <td>1</td>\n",
       "      <td>1.0</td>\n",
       "      <td>0</td>\n",
       "      <td>1</td>\n",
       "      <td>1</td>\n",
       "      <td>1</td>\n",
       "      <td>10</td>\n",
       "      <td>7</td>\n",
       "      <td>NaN</td>\n",
       "      <td>7</td>\n",
       "      <td>...</td>\n",
       "      <td>5.0</td>\n",
       "      <td>7.0</td>\n",
       "      <td>7.0</td>\n",
       "      <td>7.0</td>\n",
       "      <td>7.0</td>\n",
       "      <td>NaN</td>\n",
       "      <td>NaN</td>\n",
       "      <td>NaN</td>\n",
       "      <td>NaN</td>\n",
       "      <td>NaN</td>\n",
       "    </tr>\n",
       "  </tbody>\n",
       "</table>\n",
       "<p>5 rows × 175 columns</p>\n",
       "</div>"
      ],
      "text/plain": [
       "   iid   id  gender  idg  condtn  wave  round  position  positin1  order  \\\n",
       "0    1  1.0       0    1       1     1     10         7       NaN      4   \n",
       "1    1  1.0       0    1       1     1     10         7       NaN      3   \n",
       "2    1  1.0       0    1       1     1     10         7       NaN     10   \n",
       "3    1  1.0       0    1       1     1     10         7       NaN      5   \n",
       "4    1  1.0       0    1       1     1     10         7       NaN      7   \n",
       "\n",
       "    ...    attr3_3  sinc3_3  intel3_3  fun3_3 amb3_3  attr5_3 sinc5_3  \\\n",
       "0   ...        5.0      7.0       7.0     7.0    7.0      NaN     NaN   \n",
       "1   ...        5.0      7.0       7.0     7.0    7.0      NaN     NaN   \n",
       "2   ...        5.0      7.0       7.0     7.0    7.0      NaN     NaN   \n",
       "3   ...        5.0      7.0       7.0     7.0    7.0      NaN     NaN   \n",
       "4   ...        5.0      7.0       7.0     7.0    7.0      NaN     NaN   \n",
       "\n",
       "  intel5_3 fun5_3  amb5_3  \n",
       "0      NaN    NaN     NaN  \n",
       "1      NaN    NaN     NaN  \n",
       "2      NaN    NaN     NaN  \n",
       "3      NaN    NaN     NaN  \n",
       "4      NaN    NaN     NaN  \n",
       "\n",
       "[5 rows x 175 columns]"
      ]
     },
     "execution_count": 4,
     "metadata": {},
     "output_type": "execute_result"
    }
   ],
   "source": [
    "dates = pd.read_csv(\"speed_dating_assignment.csv\")\n",
    "dates.head()"
   ]
  },
  {
   "cell_type": "markdown",
   "metadata": {},
   "source": [
    "Now there are a lot of attributes which can be exploited to build a predictive model. The model should be trained to build the class attribute <i>dec</i>. Considering the fact that a performance metric (e.g. accuracy) should be optimized and evaluated, it makes sense to have sufficient records to actually train the model well enough. An attribute with a lot of missing values (NaN) is, therefore, not a very good candidate since many models require non-NaN values for the feature attributes of the models. Data mining methods can be used to fill in these NaN values, but this will be very error-prone considering the small size of the datasets. \n",
    "\n",
    "The next step is, therefore, an assesment of the attributes which are considered to be of use in the predictive model, and an assesment of the completeness of these attributes in the two datasets. In this part of the assignment (1.2) the attributes that are going to be used will not be constructed ourselves. Feature engineering (e.g. age difference (1.1)) will be exploited in the models of sub-task 1.3"
   ]
  },
  {
   "cell_type": "markdown",
   "metadata": {},
   "source": [
    "The evaluation of possibly useful attributes is not done by scripting, but by an evaluation of the speed dating data key document and a lot of deductive reasoning. The following attributes are considered to be possible candidates:\n",
    "\n",
    "<i>(The text in italics is the explanation giving by the official data key)</i>"
   ]
  },
  {
   "cell_type": "markdown",
   "metadata": {},
   "source": [
    "* <b>order:</b> <i>The number of date that night when met partner.</i> One can image that subjects whom are desperately looking for a partner lower their standards by the end of the night. So if the first x persons were not exactly a success, the subject might (subcounsiously) lower their standard for the next (round - x) persons and this could lead more easily to a decision (dec) to meet the person again\n",
    "* <b>field:</b> <i>field of study.</i> There could be differences in the cognitive process that is decision making between subjects from different field of studies\n",
    "* <b>imprace and imprelig:</b> <i>How important is it to you (on a scale of 1-10) that a person you date be of the same racial/ethnic or religious background?</i> There could be differences in the cognitive process that is decision making between subjects whom rate the importance of being of the same racial and/or religious background higher.\n",
    "* <b>goal, date and go_out:</b> <i>primary goal event, date frequency, going out freuqency (all categorical)</i> There could be differences in the cognitive process that is decision making between subjects who live a different lifestyle and/or have a different primary goal (not focussing on the differences (posibility for 1.3), but on the subject's answer)\n",
    "* <b>satis_2:</b> <i>Overall how satisfied were you with the people you met (1 = not at all satisfied, 10 = extremely satisfied.</i> If a subject is satisfied with the people he/she met, the likelihood of a match (and thus a dec = 1) will be higher, if one would think logically. This attributes is, therefore, definitely worth an evaluation.\n",
    "[comment]: <> (from)\n",
    "Note that if one would use the attribute <i>match</i> it would probably improve the accuracy (or other performance metric which is assed) of the model significantly, but this would be against the main idea of the predictive model. The model should asses whether the subject decides that he/she wants to see date partner in question again. Using the <i>match</i> attribute would be illogical since this attribute would tell us immediately whether <i>dec = 1</i> if <i>match = 1</i> and if <i>match = 0</i>, it can still be that <i>dec = 1</i>, but this is less-likely since this would imply that the date partner in question would not like to see the subject again, which often implies that the date did not go well"
   ]
  },
  {
   "cell_type": "code",
   "execution_count": 5,
   "metadata": {},
   "outputs": [
    {
     "name": "stdout",
     "output_type": "stream",
     "text": [
      "(8378, 175)\n",
      "<class 'pandas.core.frame.DataFrame'>\n",
      "RangeIndex: 8378 entries, 0 to 8377\n",
      "Data columns (total 10 columns):\n",
      "gender      8378 non-null int64\n",
      "order       8378 non-null int64\n",
      "goal        8299 non-null float64\n",
      "field_cd    8296 non-null float64\n",
      "date        8281 non-null float64\n",
      "age         8283 non-null float64\n",
      "go_out      8299 non-null float64\n",
      "imprace     8299 non-null float64\n",
      "imprelig    8299 non-null float64\n",
      "dec         8378 non-null int64\n",
      "dtypes: float64(7), int64(3)\n",
      "memory usage: 654.6 KB\n"
     ]
    }
   ],
   "source": [
    "dates_model = dates[['gender', 'order','goal', 'field_cd', 'date', 'age', 'go_out', 'imprace', 'imprelig', 'dec']]\n",
    "print(dates.shape) # to asses the number of NaN values per column\n",
    "dates_model.info()"
   ]
  },
  {
   "cell_type": "markdown",
   "metadata": {},
   "source": [
    "We see that the attributs <i>gender, order</i> and <i>dec</i> have no NaN values as one would expect, <i>goal</i>, <i>go_out</i>, <i>imprelig</i>, <i>imprace</i> have (8378 - 8299 =) 79 NaN values, <i>date</i> has (8378 - 8281 =) 97 NaN values, field_cd has (8378 - 8296) = 82 NaN values, and age has (8378 - 8283) = 95 NaN values"
   ]
  },
  {
   "cell_type": "markdown",
   "metadata": {},
   "source": [
    "We could fill in most of these numeric values with the median/mean of the column. But considering the nature of the attributes it makes only sense to do this for the age attribute without affecting the correctness of the model too much (<i>\"all models are wrong, some are useful\"</i>)"
   ]
  },
  {
   "cell_type": "code",
   "execution_count": 6,
   "metadata": {},
   "outputs": [
    {
     "name": "stdout",
     "output_type": "stream",
     "text": [
      "<class 'pandas.core.frame.DataFrame'>\n",
      "RangeIndex: 8378 entries, 0 to 8377\n",
      "Data columns (total 10 columns):\n",
      "gender      8378 non-null int64\n",
      "order       8378 non-null int64\n",
      "goal        8299 non-null float64\n",
      "field_cd    8296 non-null float64\n",
      "date        8281 non-null float64\n",
      "age         8378 non-null float64\n",
      "go_out      8299 non-null float64\n",
      "imprace     8299 non-null float64\n",
      "imprelig    8299 non-null float64\n",
      "dec         8378 non-null int64\n",
      "dtypes: float64(7), int64(3)\n",
      "memory usage: 654.6 KB\n"
     ]
    },
    {
     "name": "stderr",
     "output_type": "stream",
     "text": [
      "C:\\ProgramData\\Anaconda3\\lib\\site-packages\\pandas\\core\\generic.py:4355: SettingWithCopyWarning: \n",
      "A value is trying to be set on a copy of a slice from a DataFrame\n",
      "\n",
      "See the caveats in the documentation: http://pandas.pydata.org/pandas-docs/stable/indexing.html#indexing-view-versus-copy\n",
      "  self._update_inplace(new_data)\n"
     ]
    }
   ],
   "source": [
    "dates_model.age.fillna(dates_model.age.median(), inplace = True)\n",
    "dates_model.info()"
   ]
  },
  {
   "cell_type": "code",
   "execution_count": 7,
   "metadata": {},
   "outputs": [
    {
     "data": {
      "text/plain": [
       "116"
      ]
     },
     "execution_count": 7,
     "metadata": {},
     "output_type": "execute_result"
    }
   ],
   "source": [
    "sum(dates_model.apply(lambda x: sum(x.isnull().values), axis = 1) > 0) # number of rows with NaN values"
   ]
  },
  {
   "cell_type": "markdown",
   "metadata": {},
   "source": [
    "As can by the result of the previous statement, the number of rows with NaN values in any column is 116. This means that a lot of rows with a NaN value in one of the columns, often have also another NaN value in one of the other columns (we could also have 4 * 79 + 97 + 95 + 82 rows with NaN values in the absolute worst case)"
   ]
  },
  {
   "cell_type": "markdown",
   "metadata": {},
   "source": [
    "Considering the relatively low number of NaN's compared to the total record count of the dataset it would not hurt to drop those rows. Dropping those 116 records won't hurt the training of the model by much. In addition, exploiting data mining methods to fill the NaN values would be error-prone considering the nature of the attributes. The choice is, therefore, made to drop these values"
   ]
  },
  {
   "cell_type": "code",
   "execution_count": 8,
   "metadata": {},
   "outputs": [],
   "source": [
    "dates_model = dates_model.dropna().reset_index(drop=True)"
   ]
  },
  {
   "cell_type": "markdown",
   "metadata": {},
   "source": [
    "Since a predictive model needs to be trained for two separate genders (males and females) it makes sense to separate the data into a data frame for the male daters (subject in the instance) and a data frame for the female daters. Male and female subjects are classified by a value of 1 or 0 in the gender column, respectively."
   ]
  },
  {
   "cell_type": "code",
   "execution_count": 9,
   "metadata": {},
   "outputs": [
    {
     "data": {
      "text/plain": [
       "((4137, 10), (4125, 10))"
      ]
     },
     "execution_count": 9,
     "metadata": {},
     "output_type": "execute_result"
    }
   ],
   "source": [
    "male_subjects = dates_model[dates_model.gender == 1]\n",
    "female_subjects = dates_model[dates_model.gender == 0]\n",
    "male_subjects.shape, female_subjects.shape"
   ]
  },
  {
   "cell_type": "code",
   "execution_count": 10,
   "metadata": {},
   "outputs": [],
   "source": [
    "male_subjects = male_subjects.apply(preprocessing.LabelEncoder().fit_transform) # encoding categorical data\n",
    "female_subjects = female_subjects.apply(preprocessing.LabelEncoder().fit_transform)"
   ]
  },
  {
   "cell_type": "markdown",
   "metadata": {},
   "source": [
    "There are 4156 records in the data set of the male subjects and 4125 records in the data set of the female subjects"
   ]
  },
  {
   "cell_type": "markdown",
   "metadata": {},
   "source": [
    "### <font color=\"green\">Training the models</font>"
   ]
  },
  {
   "cell_type": "code",
   "execution_count": 11,
   "metadata": {
    "collapsed": true
   },
   "outputs": [],
   "source": [
    "male_subjects_shuffle = male_subjects.sample(frac=1).reset_index(drop=True) # shuffle rows\n",
    "female_subjects_shuffle = female_subjects.sample(frac=1).reset_index(drop=True)"
   ]
  },
  {
   "cell_type": "markdown",
   "metadata": {},
   "source": [
    "The rows are shuffled to ensure a fair split into training and test data"
   ]
  },
  {
   "cell_type": "code",
   "execution_count": 12,
   "metadata": {
    "collapsed": true
   },
   "outputs": [],
   "source": [
    "male_x_data = male_subjects_shuffle.drop('dec', axis = 1) # dec is target attribute\n",
    "female_x_data = female_subjects_shuffle.drop('dec', axis = 1)\n",
    "male_labels = male_subjects_shuffle['dec']\n",
    "female_labels = female_subjects_shuffle['dec']"
   ]
  },
  {
   "cell_type": "markdown",
   "metadata": {},
   "source": [
    "The choice is made to split the data into 70% training data and 30% test data. This ratio should ensure enough training data for the model and enough data to asses and evaluate the performance of the model"
   ]
  },
  {
   "cell_type": "code",
   "execution_count": 13,
   "metadata": {},
   "outputs": [],
   "source": [
    "male_x_train, male_x_test, male_y_train, male_y_test = train_test_split(male_x_data, male_labels, test_size = 0.3)\n",
    "female_x_train, female_x_test, female_y_train, female_y_test = train_test_split(female_x_data, female_labels, test_size = 0.3)"
   ]
  },
  {
   "cell_type": "markdown",
   "metadata": {},
   "source": [
    "Now there are various training methods which can be exploited. One could go as far as building and training a neural-network model (e.g. using the TensorFlow library), but considering the fact that  there are not a lot of records in the dataset it would be probably overkill for the prediction in question. It would probably result in overfitting. In addition, complicated models are hard to reason about. Visualizing or explaining what goes on in a neural network is very hard considering one has to comprehend and somehow visualize the post-order traversals, numerous optmization steps, batch-sizes (if exploited), the activitation functions, the various layers, cost functions etc. In short, it is simply too much for the human brain to handle once there are a lot of layers and features. \n",
    "\n",
    "The choice is, therefore, made to simply go for a simple model which facilitates a comprehensive evulaution and comparison. Decision tree learning is going to be used to train the models. Classification trees are going to be used to be more specific, considering the fact that the the target variable <i>dec</i> can only take a discrete set of values ({0, 1}). Decision trees facilitate a comprehensible visualization of the decision making in the model."
   ]
  },
  {
   "cell_type": "code",
   "execution_count": 14,
   "metadata": {},
   "outputs": [
    {
     "data": {
      "text/plain": [
       "DecisionTreeClassifier(class_weight=None, criterion='gini', max_depth=8,\n",
       "            max_features=None, max_leaf_nodes=None,\n",
       "            min_impurity_split=1e-07, min_samples_leaf=12,\n",
       "            min_samples_split=50, min_weight_fraction_leaf=0.0,\n",
       "            presort=False, random_state=None, splitter='best')"
      ]
     },
     "execution_count": 14,
     "metadata": {},
     "output_type": "execute_result"
    }
   ],
   "source": [
    "dec_tree_male = tree.DecisionTreeClassifier(criterion = \"gini\", max_depth = 8, min_samples_split = 50, min_samples_leaf = 12)\n",
    "dec_tree_female = tree.DecisionTreeClassifier(criterion = \"gini\", max_depth = 8, min_samples_split = 50, min_samples_leaf = 12)\n",
    "# build decision tree classifiers from the training sets\n",
    "dec_tree_male.fit(male_x_train, male_y_train)\n",
    "dec_tree_female.fit(female_x_train, female_y_train)"
   ]
  },
  {
   "cell_type": "markdown",
   "metadata": {},
   "source": [
    "### <font color=\"green\">Visualizing the models</font>"
   ]
  },
  {
   "cell_type": "markdown",
   "metadata": {},
   "source": [
    "Please do not pay a lot attention to the next function. This function is just written and used to visualize the decision trees in a pleasant way."
   ]
  },
  {
   "cell_type": "code",
   "execution_count": 15,
   "metadata": {},
   "outputs": [],
   "source": [
    "def visualize_tree(dec_tree, path, classnames, feat_names):\n",
    "    dfile = io.StringIO()\n",
    "    tree.export_graphviz(dec_tree, out_file = dfile, feature_names = feat_names)\n",
    "    pydotplus.graph_from_dot_data(dfile.getvalue()).write_png(path)\n",
    "    i = misc.imread(path)\n",
    "    plt.imshow(i)"
   ]
  },
  {
   "cell_type": "code",
   "execution_count": 16,
   "metadata": {},
   "outputs": [
    {
     "data": {
      "image/png": "[encoded data removed]",
      "text/plain": [
       "<matplotlib.figure.Figure at 0x20ff9d30320>"
      ]
     },
     "metadata": {},
     "output_type": "display_data"
    }
   ],
   "source": [
    "male_col_names = dec_tree_male.classes_\n",
    "male_feature_names = male_subjects.columns[0:(male_subjects.shape[1] - 1)] # the features (attributes) used in the model\n",
    "visualize_tree(dec_tree_male, \"male_decision_tree.png\", male_col_names, male_feature_names)"
   ]
  },
  {
   "cell_type": "code",
   "execution_count": 17,
   "metadata": {},
   "outputs": [
    {
     "data": {
      "image/png": "[encoded data removed]",
      "text/plain": [
       "<matplotlib.figure.Figure at 0x20f83651470>"
      ]
     },
     "metadata": {},
     "output_type": "display_data"
    }
   ],
   "source": [
    "female_col_names = dec_tree_female.classes_\n",
    "female_feature_names = female_subjects.columns[0:(female_subjects.shape[1] - 1)] # the features (attributes) used in the model\n",
    "visualize_tree(dec_tree_female, \"female_decision_tree.png\", male_col_names, male_feature_names)"
   ]
  },
  {
   "cell_type": "markdown",
   "metadata": {},
   "source": [
    "### <font color=\"green\">Evaluating the performance of the models</font>"
   ]
  },
  {
   "cell_type": "code",
   "execution_count": 18,
   "metadata": {},
   "outputs": [
    {
     "name": "stdout",
     "output_type": "stream",
     "text": [
      "Accuracy score:  0.622383252818\n"
     ]
    }
   ],
   "source": [
    "pred_male = dec_tree_male.predict(male_x_test) # predicting 'dec' for data which the model has not seen yet\n",
    "print(\"Accuracy score: \", metrics.accuracy_score(male_y_test, pred_male))"
   ]
  },
  {
   "cell_type": "code",
   "execution_count": 19,
   "metadata": {},
   "outputs": [
    {
     "name": "stdout",
     "output_type": "stream",
     "text": [
      "Accuracy score:  0.658319870759\n"
     ]
    }
   ],
   "source": [
    "pred_female = dec_tree_female.predict(female_x_test) # predicting 'dec' for data which the model has not seen yet\n",
    "print(\"Accuracy score: \", metrics.accuracy_score(female_y_test, pred_female))"
   ]
  },
  {
   "cell_type": "markdown",
   "metadata": {},
   "source": [
    "Now the accuracy of a predictive model should always be taken with a grain of salt. It depends on the randomness, distribution of the target attribute in the train and test splits and many other factors. It is, therefore, always recommended to take also other performance metrics into account"
   ]
  },
  {
   "cell_type": "code",
   "execution_count": 25,
   "metadata": {},
   "outputs": [
    {
     "name": "stdout",
     "output_type": "stream",
     "text": [
      "             precision    recall  f1-score   support\n",
      "\n",
      "          0       0.62      0.73      0.67       658\n",
      "          1       0.62      0.50      0.55       584\n",
      "\n",
      "avg / total       0.62      0.62      0.62      1242\n",
      "\n"
     ]
    }
   ],
   "source": [
    "print(metrics.classification_report(male_y_test, pred_male))"
   ]
  },
  {
   "cell_type": "code",
   "execution_count": 26,
   "metadata": {},
   "outputs": [
    {
     "name": "stdout",
     "output_type": "stream",
     "text": [
      "             precision    recall  f1-score   support\n",
      "\n",
      "          0       0.69      0.82      0.75       775\n",
      "          1       0.56      0.38      0.45       463\n",
      "\n",
      "avg / total       0.64      0.66      0.64      1238\n",
      "\n"
     ]
    }
   ],
   "source": [
    "print(metrics.classification_report(female_y_test, pred_female))"
   ]
  },
  {
   "cell_type": "markdown",
   "metadata": {},
   "source": [
    "### <font color=\"green\">Comparing the differences among the models</font>"
   ]
  },
  {
   "cell_type": "markdown",
   "metadata": {},
   "source": [
    "### <font color=\"green\">Evaluating a third model for the female gender</font>"
   ]
  }
 ],
 "metadata": {
  "kernelspec": {
   "display_name": "Python 3",
   "language": "python",
   "name": "python3"
  },
  "language_info": {
   "codemirror_mode": {
    "name": "ipython",
    "version": 3
   },
   "file_extension": ".py",
   "mimetype": "text/x-python",
   "name": "python",
   "nbconvert_exporter": "python",
   "pygments_lexer": "ipython3",
   "version": "3.6.3"
  }
 },
 "nbformat": 4,
 "nbformat_minor": 2
}
