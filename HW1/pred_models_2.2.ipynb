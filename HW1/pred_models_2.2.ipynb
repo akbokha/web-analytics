{
 "cells": [
  {
   "cell_type": "markdown",
   "metadata": {},
   "source": [
    "## Speed dating data-set\n",
    "#### Bart v. Helvert & Remco Surtel - November 2017"
   ]
  },
  {
   "cell_type": "markdown",
   "metadata": {
    "collapsed": true
   },
   "source": [
    "### 2.2 Unisex model"
   ]
  },
  {
   "cell_type": "markdown",
   "metadata": {},
   "source": [
    "By looking at both models it is clear that the prediction of the dec value is worse on the unisex dataset than on both datasets which where split on gender. There is only a small difference however. The accuracy score of the unsiex model is 0.69% compared to the average accuracy score of 72% for the gender. The accuracy scores of both gender models is also higher than the unisex model."
   ]
  },
  {
   "cell_type": "markdown",
   "metadata": {},
   "source": [
    "When seperating on genders the model is better at predicting the dec value. This makes sense when thinking about it. Males and females might base their decision on wether they want to see their partner again on different attributes. When training the model those attributes will be more quickly recognised and will give a better prediction on "
   ]
  }
 ],
 "metadata": {
  "kernelspec": {
   "display_name": "Python 3",
   "language": "python",
   "name": "python3"
  },
  "language_info": {
   "codemirror_mode": {
    "name": "ipython",
    "version": 3
   },
   "file_extension": ".py",
   "mimetype": "text/x-python",
   "name": "python",
   "nbconvert_exporter": "python",
   "pygments_lexer": "ipython3",
   "version": "3.6.3"
  }
 },
 "nbformat": 4,
 "nbformat_minor": 1
}
